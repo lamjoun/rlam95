{
  "nbformat": 4,
  "nbformat_minor": 0,
  "metadata": {
    "colab": {
      "name": "income_qualif_prod.ipynb",
      "provenance": [],
      "collapsed_sections": [
        "-dEodCO2ZHVW"
      ]
    },
    "kernelspec": {
      "name": "python3",
      "display_name": "Python 3"
    },
    "language_info": {
      "name": "python"
    }
  },
  "cells": [
    {
      "cell_type": "code",
      "execution_count": 21,
      "metadata": {
        "id": "D5kInbPLE2nk",
        "colab": {
          "base_uri": "https://localhost:8080/",
          "height": 17
        },
        "outputId": "86aa09d0-6094-4e6d-f914-66b4ffa1baee"
      },
      "outputs": [
        {
          "output_type": "display_data",
          "data": {
            "text/plain": [
              "<IPython.core.display.Javascript object>"
            ],
            "application/javascript": [
              "IPython.OutputArea.auto_scroll_threshold = 9999"
            ]
          },
          "metadata": {}
        }
      ],
      "source": [
        "%%javascript\n",
        "IPython.OutputArea.auto_scroll_threshold = 9999"
      ]
    },
    {
      "cell_type": "code",
      "source": [
        "import numpy as np\n",
        "import pandas as pd\n",
        "import matplotlib.pyplot as plt\n",
        "import seaborn as sns\n",
        "from IPython.core.pylabtools import figsize\n",
        "from sklearn.model_selection import train_test_split\n",
        "\n",
        "\n",
        "#\n",
        "import warnings\n",
        "warnings.filterwarnings('ignore')\n",
        "#\n",
        "%matplotlib inline\n",
        "pd.set_option('display.max_row', 100)\n",
        "pd.set_option('display.max_column', 143)"
      ],
      "metadata": {
        "id": "RUkTSzFNGwER"
      },
      "execution_count": 1,
      "outputs": []
    },
    {
      "cell_type": "markdown",
      "source": [
        "# Loading"
      ],
      "metadata": {
        "id": "CukgYHYWZcLw"
      }
    },
    {
      "cell_type": "code",
      "source": [
        "import pandas as pd\n",
        "# Loading train data \n",
        "df_init = pd.read_csv('/content/train.csv')\n",
        "df_init_test = pd.read_csv('/content/test.csv')\n",
        "#\n",
        "df=df_init.copy()\n",
        "df_test=df_init_test.copy()\n",
        "# Top 5 records\n",
        "df.head()"
      ],
      "metadata": {
        "colab": {
          "base_uri": "https://localhost:8080/",
          "height": 270
        },
        "id": "xBVuv5omGxFY",
        "outputId": "22704b59-fd76-4513-8520-43f5b672a4a5"
      },
      "execution_count": 2,
      "outputs": [
        {
          "output_type": "execute_result",
          "data": {
            "text/plain": [
              "             Id      v2a1  hacdor  rooms  hacapo  v14a  refrig  v18q  v18q1  \\\n",
              "0  ID_279628684  190000.0       0      3       0     1       1     0    NaN   \n",
              "1  ID_f29eb3ddd  135000.0       0      4       0     1       1     1    1.0   \n",
              "2  ID_68de51c94       NaN       0      8       0     1       1     0    NaN   \n",
              "3  ID_d671db89c  180000.0       0      5       0     1       1     1    1.0   \n",
              "4  ID_d56d6f5f5  180000.0       0      5       0     1       1     1    1.0   \n",
              "\n",
              "   r4h1  r4h2  r4h3  r4m1  r4m2  r4m3  r4t1  r4t2  r4t3  tamhog  tamviv  \\\n",
              "0     0     1     1     0     0     0     0     1     1       1       1   \n",
              "1     0     1     1     0     0     0     0     1     1       1       1   \n",
              "2     0     0     0     0     1     1     0     1     1       1       1   \n",
              "3     0     2     2     1     1     2     1     3     4       4       4   \n",
              "4     0     2     2     1     1     2     1     3     4       4       4   \n",
              "\n",
              "   escolari  rez_esc  hhsize  paredblolad  paredzocalo  paredpreb  pareddes  \\\n",
              "0        10      NaN       1            1            0          0         0   \n",
              "1        12      NaN       1            0            0          0         0   \n",
              "2        11      NaN       1            0            0          0         0   \n",
              "3         9      1.0       4            1            0          0         0   \n",
              "4        11      NaN       4            1            0          0         0   \n",
              "\n",
              "   paredmad  paredzinc  paredfibras  paredother  pisomoscer  pisocemento  \\\n",
              "0         0          0            0           0           1            0   \n",
              "1         1          0            0           0           0            0   \n",
              "2         1          0            0           0           1            0   \n",
              "3         0          0            0           0           1            0   \n",
              "4         0          0            0           0           1            0   \n",
              "\n",
              "   pisoother  pisonatur  pisonotiene  pisomadera  techozinc  techoentrepiso  \\\n",
              "0          0          0            0           0          0               1   \n",
              "1          0          0            0           1          1               0   \n",
              "2          0          0            0           0          1               0   \n",
              "3          0          0            0           0          1               0   \n",
              "4          0          0            0           0          1               0   \n",
              "\n",
              "   techocane  techootro  cielorazo  abastaguadentro  abastaguafuera  \\\n",
              "0          0          0          1                1               0   \n",
              "1          0          0          1                1               0   \n",
              "2          0          0          1                1               0   \n",
              "3          0          0          1                1               0   \n",
              "4          0          0          1                1               0   \n",
              "\n",
              "   abastaguano  public  planpri  noelec  coopele  sanitario1  sanitario2  \\\n",
              "0            0       1        0       0        0           0           1   \n",
              "1            0       1        0       0        0           0           1   \n",
              "2            0       1        0       0        0           0           1   \n",
              "3            0       1        0       0        0           0           1   \n",
              "4            0       1        0       0        0           0           1   \n",
              "\n",
              "   sanitario3  sanitario5  sanitario6  energcocinar1  energcocinar2  \\\n",
              "0           0           0           0              0              0   \n",
              "1           0           0           0              0              1   \n",
              "2           0           0           0              0              1   \n",
              "3           0           0           0              0              1   \n",
              "4           0           0           0              0              1   \n",
              "\n",
              "   energcocinar3  energcocinar4  elimbasu1  elimbasu2  elimbasu3  elimbasu4  \\\n",
              "0              1              0          1          0          0          0   \n",
              "1              0              0          1          0          0          0   \n",
              "2              0              0          1          0          0          0   \n",
              "3              0              0          1          0          0          0   \n",
              "4              0              0          1          0          0          0   \n",
              "\n",
              "   elimbasu5  elimbasu6  epared1  epared2  epared3  etecho1  etecho2  etecho3  \\\n",
              "0          0          0        0        1        0        1        0        0   \n",
              "1          0          0        0        1        0        0        1        0   \n",
              "2          0          0        0        1        0        0        0        1   \n",
              "3          0          0        0        0        1        0        0        1   \n",
              "4          0          0        0        0        1        0        0        1   \n",
              "\n",
              "   eviv1  eviv2  eviv3  dis  male  female  estadocivil1  estadocivil2  \\\n",
              "0      1      0      0    0     1       0             0             0   \n",
              "1      0      1      0    0     1       0             0             0   \n",
              "2      0      0      1    1     0       1             0             0   \n",
              "3      0      0      1    0     1       0             0             0   \n",
              "4      0      0      1    0     0       1             0             1   \n",
              "\n",
              "   estadocivil3  estadocivil4  estadocivil5  estadocivil6  estadocivil7  \\\n",
              "0             0             1             0             0             0   \n",
              "1             0             1             0             0             0   \n",
              "2             0             0             0             1             0   \n",
              "3             0             0             0             0             1   \n",
              "4             0             0             0             0             0   \n",
              "\n",
              "   parentesco1  parentesco2  parentesco3  parentesco4  parentesco5  \\\n",
              "0            1            0            0            0            0   \n",
              "1            1            0            0            0            0   \n",
              "2            1            0            0            0            0   \n",
              "3            0            0            1            0            0   \n",
              "4            0            1            0            0            0   \n",
              "\n",
              "   parentesco6  parentesco7  parentesco8  parentesco9  parentesco10  \\\n",
              "0            0            0            0            0             0   \n",
              "1            0            0            0            0             0   \n",
              "2            0            0            0            0             0   \n",
              "3            0            0            0            0             0   \n",
              "4            0            0            0            0             0   \n",
              "\n",
              "   parentesco11  parentesco12    idhogar  hogar_nin  hogar_adul  hogar_mayor  \\\n",
              "0             0             0  21eb7fcc1          0           1            0   \n",
              "1             0             0  0e5d7a658          0           1            1   \n",
              "2             0             0  2c7317ea8          0           1            1   \n",
              "3             0             0  2b58d945f          2           2            0   \n",
              "4             0             0  2b58d945f          2           2            0   \n",
              "\n",
              "   hogar_total dependency edjefe edjefa  meaneduc  instlevel1  instlevel2  \\\n",
              "0            1         no     10     no      10.0           0           0   \n",
              "1            1          8     12     no      12.0           0           0   \n",
              "2            1          8     no     11      11.0           0           0   \n",
              "3            4        yes     11     no      11.0           0           0   \n",
              "4            4        yes     11     no      11.0           0           0   \n",
              "\n",
              "   instlevel3  instlevel4  instlevel5  instlevel6  instlevel7  instlevel8  \\\n",
              "0           0           1           0           0           0           0   \n",
              "1           0           0           0           0           0           1   \n",
              "2           0           0           1           0           0           0   \n",
              "3           0           1           0           0           0           0   \n",
              "4           0           0           1           0           0           0   \n",
              "\n",
              "   instlevel9  bedrooms  overcrowding  tipovivi1  tipovivi2  tipovivi3  \\\n",
              "0           0         1      1.000000          0          0          1   \n",
              "1           0         1      1.000000          0          0          1   \n",
              "2           0         2      0.500000          1          0          0   \n",
              "3           0         3      1.333333          0          0          1   \n",
              "4           0         3      1.333333          0          0          1   \n",
              "\n",
              "   tipovivi4  tipovivi5  computer  television  mobilephone  qmobilephone  \\\n",
              "0          0          0         0           0            1             1   \n",
              "1          0          0         0           0            1             1   \n",
              "2          0          0         0           0            0             0   \n",
              "3          0          0         0           0            1             3   \n",
              "4          0          0         0           0            1             3   \n",
              "\n",
              "   lugar1  lugar2  lugar3  lugar4  lugar5  lugar6  area1  area2  age  \\\n",
              "0       1       0       0       0       0       0      1      0   43   \n",
              "1       1       0       0       0       0       0      1      0   67   \n",
              "2       1       0       0       0       0       0      1      0   92   \n",
              "3       1       0       0       0       0       0      1      0   17   \n",
              "4       1       0       0       0       0       0      1      0   37   \n",
              "\n",
              "   SQBescolari  SQBage  SQBhogar_total  SQBedjefe  SQBhogar_nin  \\\n",
              "0          100    1849               1        100             0   \n",
              "1          144    4489               1        144             0   \n",
              "2          121    8464               1          0             0   \n",
              "3           81     289              16        121             4   \n",
              "4          121    1369              16        121             4   \n",
              "\n",
              "   SQBovercrowding  SQBdependency  SQBmeaned  agesq  Target  \n",
              "0         1.000000            0.0      100.0   1849       4  \n",
              "1         1.000000           64.0      144.0   4489       4  \n",
              "2         0.250000           64.0      121.0   8464       4  \n",
              "3         1.777778            1.0      121.0    289       4  \n",
              "4         1.777778            1.0      121.0   1369       4  "
            ],
            "text/html": [
              "\n",
              "  <div id=\"df-7522e381-cca9-4afc-82aa-698bbc131769\">\n",
              "    <div class=\"colab-df-container\">\n",
              "      <div>\n",
              "<style scoped>\n",
              "    .dataframe tbody tr th:only-of-type {\n",
              "        vertical-align: middle;\n",
              "    }\n",
              "\n",
              "    .dataframe tbody tr th {\n",
              "        vertical-align: top;\n",
              "    }\n",
              "\n",
              "    .dataframe thead th {\n",
              "        text-align: right;\n",
              "    }\n",
              "</style>\n",
              "<table border=\"1\" class=\"dataframe\">\n",
              "  <thead>\n",
              "    <tr style=\"text-align: right;\">\n",
              "      <th></th>\n",
              "      <th>Id</th>\n",
              "      <th>v2a1</th>\n",
              "      <th>hacdor</th>\n",
              "      <th>rooms</th>\n",
              "      <th>hacapo</th>\n",
              "      <th>v14a</th>\n",
              "      <th>refrig</th>\n",
              "      <th>v18q</th>\n",
              "      <th>v18q1</th>\n",
              "      <th>r4h1</th>\n",
              "      <th>r4h2</th>\n",
              "      <th>r4h3</th>\n",
              "      <th>r4m1</th>\n",
              "      <th>r4m2</th>\n",
              "      <th>r4m3</th>\n",
              "      <th>r4t1</th>\n",
              "      <th>r4t2</th>\n",
              "      <th>r4t3</th>\n",
              "      <th>tamhog</th>\n",
              "      <th>tamviv</th>\n",
              "      <th>escolari</th>\n",
              "      <th>rez_esc</th>\n",
              "      <th>hhsize</th>\n",
              "      <th>paredblolad</th>\n",
              "      <th>paredzocalo</th>\n",
              "      <th>paredpreb</th>\n",
              "      <th>pareddes</th>\n",
              "      <th>paredmad</th>\n",
              "      <th>paredzinc</th>\n",
              "      <th>paredfibras</th>\n",
              "      <th>paredother</th>\n",
              "      <th>pisomoscer</th>\n",
              "      <th>pisocemento</th>\n",
              "      <th>pisoother</th>\n",
              "      <th>pisonatur</th>\n",
              "      <th>pisonotiene</th>\n",
              "      <th>pisomadera</th>\n",
              "      <th>techozinc</th>\n",
              "      <th>techoentrepiso</th>\n",
              "      <th>techocane</th>\n",
              "      <th>techootro</th>\n",
              "      <th>cielorazo</th>\n",
              "      <th>abastaguadentro</th>\n",
              "      <th>abastaguafuera</th>\n",
              "      <th>abastaguano</th>\n",
              "      <th>public</th>\n",
              "      <th>planpri</th>\n",
              "      <th>noelec</th>\n",
              "      <th>coopele</th>\n",
              "      <th>sanitario1</th>\n",
              "      <th>sanitario2</th>\n",
              "      <th>sanitario3</th>\n",
              "      <th>sanitario5</th>\n",
              "      <th>sanitario6</th>\n",
              "      <th>energcocinar1</th>\n",
              "      <th>energcocinar2</th>\n",
              "      <th>energcocinar3</th>\n",
              "      <th>energcocinar4</th>\n",
              "      <th>elimbasu1</th>\n",
              "      <th>elimbasu2</th>\n",
              "      <th>elimbasu3</th>\n",
              "      <th>elimbasu4</th>\n",
              "      <th>elimbasu5</th>\n",
              "      <th>elimbasu6</th>\n",
              "      <th>epared1</th>\n",
              "      <th>epared2</th>\n",
              "      <th>epared3</th>\n",
              "      <th>etecho1</th>\n",
              "      <th>etecho2</th>\n",
              "      <th>etecho3</th>\n",
              "      <th>eviv1</th>\n",
              "      <th>eviv2</th>\n",
              "      <th>eviv3</th>\n",
              "      <th>dis</th>\n",
              "      <th>male</th>\n",
              "      <th>female</th>\n",
              "      <th>estadocivil1</th>\n",
              "      <th>estadocivil2</th>\n",
              "      <th>estadocivil3</th>\n",
              "      <th>estadocivil4</th>\n",
              "      <th>estadocivil5</th>\n",
              "      <th>estadocivil6</th>\n",
              "      <th>estadocivil7</th>\n",
              "      <th>parentesco1</th>\n",
              "      <th>parentesco2</th>\n",
              "      <th>parentesco3</th>\n",
              "      <th>parentesco4</th>\n",
              "      <th>parentesco5</th>\n",
              "      <th>parentesco6</th>\n",
              "      <th>parentesco7</th>\n",
              "      <th>parentesco8</th>\n",
              "      <th>parentesco9</th>\n",
              "      <th>parentesco10</th>\n",
              "      <th>parentesco11</th>\n",
              "      <th>parentesco12</th>\n",
              "      <th>idhogar</th>\n",
              "      <th>hogar_nin</th>\n",
              "      <th>hogar_adul</th>\n",
              "      <th>hogar_mayor</th>\n",
              "      <th>hogar_total</th>\n",
              "      <th>dependency</th>\n",
              "      <th>edjefe</th>\n",
              "      <th>edjefa</th>\n",
              "      <th>meaneduc</th>\n",
              "      <th>instlevel1</th>\n",
              "      <th>instlevel2</th>\n",
              "      <th>instlevel3</th>\n",
              "      <th>instlevel4</th>\n",
              "      <th>instlevel5</th>\n",
              "      <th>instlevel6</th>\n",
              "      <th>instlevel7</th>\n",
              "      <th>instlevel8</th>\n",
              "      <th>instlevel9</th>\n",
              "      <th>bedrooms</th>\n",
              "      <th>overcrowding</th>\n",
              "      <th>tipovivi1</th>\n",
              "      <th>tipovivi2</th>\n",
              "      <th>tipovivi3</th>\n",
              "      <th>tipovivi4</th>\n",
              "      <th>tipovivi5</th>\n",
              "      <th>computer</th>\n",
              "      <th>television</th>\n",
              "      <th>mobilephone</th>\n",
              "      <th>qmobilephone</th>\n",
              "      <th>lugar1</th>\n",
              "      <th>lugar2</th>\n",
              "      <th>lugar3</th>\n",
              "      <th>lugar4</th>\n",
              "      <th>lugar5</th>\n",
              "      <th>lugar6</th>\n",
              "      <th>area1</th>\n",
              "      <th>area2</th>\n",
              "      <th>age</th>\n",
              "      <th>SQBescolari</th>\n",
              "      <th>SQBage</th>\n",
              "      <th>SQBhogar_total</th>\n",
              "      <th>SQBedjefe</th>\n",
              "      <th>SQBhogar_nin</th>\n",
              "      <th>SQBovercrowding</th>\n",
              "      <th>SQBdependency</th>\n",
              "      <th>SQBmeaned</th>\n",
              "      <th>agesq</th>\n",
              "      <th>Target</th>\n",
              "    </tr>\n",
              "  </thead>\n",
              "  <tbody>\n",
              "    <tr>\n",
              "      <th>0</th>\n",
              "      <td>ID_279628684</td>\n",
              "      <td>190000.0</td>\n",
              "      <td>0</td>\n",
              "      <td>3</td>\n",
              "      <td>0</td>\n",
              "      <td>1</td>\n",
              "      <td>1</td>\n",
              "      <td>0</td>\n",
              "      <td>NaN</td>\n",
              "      <td>0</td>\n",
              "      <td>1</td>\n",
              "      <td>1</td>\n",
              "      <td>0</td>\n",
              "      <td>0</td>\n",
              "      <td>0</td>\n",
              "      <td>0</td>\n",
              "      <td>1</td>\n",
              "      <td>1</td>\n",
              "      <td>1</td>\n",
              "      <td>1</td>\n",
              "      <td>10</td>\n",
              "      <td>NaN</td>\n",
              "      <td>1</td>\n",
              "      <td>1</td>\n",
              "      <td>0</td>\n",
              "      <td>0</td>\n",
              "      <td>0</td>\n",
              "      <td>0</td>\n",
              "      <td>0</td>\n",
              "      <td>0</td>\n",
              "      <td>0</td>\n",
              "      <td>1</td>\n",
              "      <td>0</td>\n",
              "      <td>0</td>\n",
              "      <td>0</td>\n",
              "      <td>0</td>\n",
              "      <td>0</td>\n",
              "      <td>0</td>\n",
              "      <td>1</td>\n",
              "      <td>0</td>\n",
              "      <td>0</td>\n",
              "      <td>1</td>\n",
              "      <td>1</td>\n",
              "      <td>0</td>\n",
              "      <td>0</td>\n",
              "      <td>1</td>\n",
              "      <td>0</td>\n",
              "      <td>0</td>\n",
              "      <td>0</td>\n",
              "      <td>0</td>\n",
              "      <td>1</td>\n",
              "      <td>0</td>\n",
              "      <td>0</td>\n",
              "      <td>0</td>\n",
              "      <td>0</td>\n",
              "      <td>0</td>\n",
              "      <td>1</td>\n",
              "      <td>0</td>\n",
              "      <td>1</td>\n",
              "      <td>0</td>\n",
              "      <td>0</td>\n",
              "      <td>0</td>\n",
              "      <td>0</td>\n",
              "      <td>0</td>\n",
              "      <td>0</td>\n",
              "      <td>1</td>\n",
              "      <td>0</td>\n",
              "      <td>1</td>\n",
              "      <td>0</td>\n",
              "      <td>0</td>\n",
              "      <td>1</td>\n",
              "      <td>0</td>\n",
              "      <td>0</td>\n",
              "      <td>0</td>\n",
              "      <td>1</td>\n",
              "      <td>0</td>\n",
              "      <td>0</td>\n",
              "      <td>0</td>\n",
              "      <td>0</td>\n",
              "      <td>1</td>\n",
              "      <td>0</td>\n",
              "      <td>0</td>\n",
              "      <td>0</td>\n",
              "      <td>1</td>\n",
              "      <td>0</td>\n",
              "      <td>0</td>\n",
              "      <td>0</td>\n",
              "      <td>0</td>\n",
              "      <td>0</td>\n",
              "      <td>0</td>\n",
              "      <td>0</td>\n",
              "      <td>0</td>\n",
              "      <td>0</td>\n",
              "      <td>0</td>\n",
              "      <td>0</td>\n",
              "      <td>21eb7fcc1</td>\n",
              "      <td>0</td>\n",
              "      <td>1</td>\n",
              "      <td>0</td>\n",
              "      <td>1</td>\n",
              "      <td>no</td>\n",
              "      <td>10</td>\n",
              "      <td>no</td>\n",
              "      <td>10.0</td>\n",
              "      <td>0</td>\n",
              "      <td>0</td>\n",
              "      <td>0</td>\n",
              "      <td>1</td>\n",
              "      <td>0</td>\n",
              "      <td>0</td>\n",
              "      <td>0</td>\n",
              "      <td>0</td>\n",
              "      <td>0</td>\n",
              "      <td>1</td>\n",
              "      <td>1.000000</td>\n",
              "      <td>0</td>\n",
              "      <td>0</td>\n",
              "      <td>1</td>\n",
              "      <td>0</td>\n",
              "      <td>0</td>\n",
              "      <td>0</td>\n",
              "      <td>0</td>\n",
              "      <td>1</td>\n",
              "      <td>1</td>\n",
              "      <td>1</td>\n",
              "      <td>0</td>\n",
              "      <td>0</td>\n",
              "      <td>0</td>\n",
              "      <td>0</td>\n",
              "      <td>0</td>\n",
              "      <td>1</td>\n",
              "      <td>0</td>\n",
              "      <td>43</td>\n",
              "      <td>100</td>\n",
              "      <td>1849</td>\n",
              "      <td>1</td>\n",
              "      <td>100</td>\n",
              "      <td>0</td>\n",
              "      <td>1.000000</td>\n",
              "      <td>0.0</td>\n",
              "      <td>100.0</td>\n",
              "      <td>1849</td>\n",
              "      <td>4</td>\n",
              "    </tr>\n",
              "    <tr>\n",
              "      <th>1</th>\n",
              "      <td>ID_f29eb3ddd</td>\n",
              "      <td>135000.0</td>\n",
              "      <td>0</td>\n",
              "      <td>4</td>\n",
              "      <td>0</td>\n",
              "      <td>1</td>\n",
              "      <td>1</td>\n",
              "      <td>1</td>\n",
              "      <td>1.0</td>\n",
              "      <td>0</td>\n",
              "      <td>1</td>\n",
              "      <td>1</td>\n",
              "      <td>0</td>\n",
              "      <td>0</td>\n",
              "      <td>0</td>\n",
              "      <td>0</td>\n",
              "      <td>1</td>\n",
              "      <td>1</td>\n",
              "      <td>1</td>\n",
              "      <td>1</td>\n",
              "      <td>12</td>\n",
              "      <td>NaN</td>\n",
              "      <td>1</td>\n",
              "      <td>0</td>\n",
              "      <td>0</td>\n",
              "      <td>0</td>\n",
              "      <td>0</td>\n",
              "      <td>1</td>\n",
              "      <td>0</td>\n",
              "      <td>0</td>\n",
              "      <td>0</td>\n",
              "      <td>0</td>\n",
              "      <td>0</td>\n",
              "      <td>0</td>\n",
              "      <td>0</td>\n",
              "      <td>0</td>\n",
              "      <td>1</td>\n",
              "      <td>1</td>\n",
              "      <td>0</td>\n",
              "      <td>0</td>\n",
              "      <td>0</td>\n",
              "      <td>1</td>\n",
              "      <td>1</td>\n",
              "      <td>0</td>\n",
              "      <td>0</td>\n",
              "      <td>1</td>\n",
              "      <td>0</td>\n",
              "      <td>0</td>\n",
              "      <td>0</td>\n",
              "      <td>0</td>\n",
              "      <td>1</td>\n",
              "      <td>0</td>\n",
              "      <td>0</td>\n",
              "      <td>0</td>\n",
              "      <td>0</td>\n",
              "      <td>1</td>\n",
              "      <td>0</td>\n",
              "      <td>0</td>\n",
              "      <td>1</td>\n",
              "      <td>0</td>\n",
              "      <td>0</td>\n",
              "      <td>0</td>\n",
              "      <td>0</td>\n",
              "      <td>0</td>\n",
              "      <td>0</td>\n",
              "      <td>1</td>\n",
              "      <td>0</td>\n",
              "      <td>0</td>\n",
              "      <td>1</td>\n",
              "      <td>0</td>\n",
              "      <td>0</td>\n",
              "      <td>1</td>\n",
              "      <td>0</td>\n",
              "      <td>0</td>\n",
              "      <td>1</td>\n",
              "      <td>0</td>\n",
              "      <td>0</td>\n",
              "      <td>0</td>\n",
              "      <td>0</td>\n",
              "      <td>1</td>\n",
              "      <td>0</td>\n",
              "      <td>0</td>\n",
              "      <td>0</td>\n",
              "      <td>1</td>\n",
              "      <td>0</td>\n",
              "      <td>0</td>\n",
              "      <td>0</td>\n",
              "      <td>0</td>\n",
              "      <td>0</td>\n",
              "      <td>0</td>\n",
              "      <td>0</td>\n",
              "      <td>0</td>\n",
              "      <td>0</td>\n",
              "      <td>0</td>\n",
              "      <td>0</td>\n",
              "      <td>0e5d7a658</td>\n",
              "      <td>0</td>\n",
              "      <td>1</td>\n",
              "      <td>1</td>\n",
              "      <td>1</td>\n",
              "      <td>8</td>\n",
              "      <td>12</td>\n",
              "      <td>no</td>\n",
              "      <td>12.0</td>\n",
              "      <td>0</td>\n",
              "      <td>0</td>\n",
              "      <td>0</td>\n",
              "      <td>0</td>\n",
              "      <td>0</td>\n",
              "      <td>0</td>\n",
              "      <td>0</td>\n",
              "      <td>1</td>\n",
              "      <td>0</td>\n",
              "      <td>1</td>\n",
              "      <td>1.000000</td>\n",
              "      <td>0</td>\n",
              "      <td>0</td>\n",
              "      <td>1</td>\n",
              "      <td>0</td>\n",
              "      <td>0</td>\n",
              "      <td>0</td>\n",
              "      <td>0</td>\n",
              "      <td>1</td>\n",
              "      <td>1</td>\n",
              "      <td>1</td>\n",
              "      <td>0</td>\n",
              "      <td>0</td>\n",
              "      <td>0</td>\n",
              "      <td>0</td>\n",
              "      <td>0</td>\n",
              "      <td>1</td>\n",
              "      <td>0</td>\n",
              "      <td>67</td>\n",
              "      <td>144</td>\n",
              "      <td>4489</td>\n",
              "      <td>1</td>\n",
              "      <td>144</td>\n",
              "      <td>0</td>\n",
              "      <td>1.000000</td>\n",
              "      <td>64.0</td>\n",
              "      <td>144.0</td>\n",
              "      <td>4489</td>\n",
              "      <td>4</td>\n",
              "    </tr>\n",
              "    <tr>\n",
              "      <th>2</th>\n",
              "      <td>ID_68de51c94</td>\n",
              "      <td>NaN</td>\n",
              "      <td>0</td>\n",
              "      <td>8</td>\n",
              "      <td>0</td>\n",
              "      <td>1</td>\n",
              "      <td>1</td>\n",
              "      <td>0</td>\n",
              "      <td>NaN</td>\n",
              "      <td>0</td>\n",
              "      <td>0</td>\n",
              "      <td>0</td>\n",
              "      <td>0</td>\n",
              "      <td>1</td>\n",
              "      <td>1</td>\n",
              "      <td>0</td>\n",
              "      <td>1</td>\n",
              "      <td>1</td>\n",
              "      <td>1</td>\n",
              "      <td>1</td>\n",
              "      <td>11</td>\n",
              "      <td>NaN</td>\n",
              "      <td>1</td>\n",
              "      <td>0</td>\n",
              "      <td>0</td>\n",
              "      <td>0</td>\n",
              "      <td>0</td>\n",
              "      <td>1</td>\n",
              "      <td>0</td>\n",
              "      <td>0</td>\n",
              "      <td>0</td>\n",
              "      <td>1</td>\n",
              "      <td>0</td>\n",
              "      <td>0</td>\n",
              "      <td>0</td>\n",
              "      <td>0</td>\n",
              "      <td>0</td>\n",
              "      <td>1</td>\n",
              "      <td>0</td>\n",
              "      <td>0</td>\n",
              "      <td>0</td>\n",
              "      <td>1</td>\n",
              "      <td>1</td>\n",
              "      <td>0</td>\n",
              "      <td>0</td>\n",
              "      <td>1</td>\n",
              "      <td>0</td>\n",
              "      <td>0</td>\n",
              "      <td>0</td>\n",
              "      <td>0</td>\n",
              "      <td>1</td>\n",
              "      <td>0</td>\n",
              "      <td>0</td>\n",
              "      <td>0</td>\n",
              "      <td>0</td>\n",
              "      <td>1</td>\n",
              "      <td>0</td>\n",
              "      <td>0</td>\n",
              "      <td>1</td>\n",
              "      <td>0</td>\n",
              "      <td>0</td>\n",
              "      <td>0</td>\n",
              "      <td>0</td>\n",
              "      <td>0</td>\n",
              "      <td>0</td>\n",
              "      <td>1</td>\n",
              "      <td>0</td>\n",
              "      <td>0</td>\n",
              "      <td>0</td>\n",
              "      <td>1</td>\n",
              "      <td>0</td>\n",
              "      <td>0</td>\n",
              "      <td>1</td>\n",
              "      <td>1</td>\n",
              "      <td>0</td>\n",
              "      <td>1</td>\n",
              "      <td>0</td>\n",
              "      <td>0</td>\n",
              "      <td>0</td>\n",
              "      <td>0</td>\n",
              "      <td>0</td>\n",
              "      <td>1</td>\n",
              "      <td>0</td>\n",
              "      <td>1</td>\n",
              "      <td>0</td>\n",
              "      <td>0</td>\n",
              "      <td>0</td>\n",
              "      <td>0</td>\n",
              "      <td>0</td>\n",
              "      <td>0</td>\n",
              "      <td>0</td>\n",
              "      <td>0</td>\n",
              "      <td>0</td>\n",
              "      <td>0</td>\n",
              "      <td>0</td>\n",
              "      <td>2c7317ea8</td>\n",
              "      <td>0</td>\n",
              "      <td>1</td>\n",
              "      <td>1</td>\n",
              "      <td>1</td>\n",
              "      <td>8</td>\n",
              "      <td>no</td>\n",
              "      <td>11</td>\n",
              "      <td>11.0</td>\n",
              "      <td>0</td>\n",
              "      <td>0</td>\n",
              "      <td>0</td>\n",
              "      <td>0</td>\n",
              "      <td>1</td>\n",
              "      <td>0</td>\n",
              "      <td>0</td>\n",
              "      <td>0</td>\n",
              "      <td>0</td>\n",
              "      <td>2</td>\n",
              "      <td>0.500000</td>\n",
              "      <td>1</td>\n",
              "      <td>0</td>\n",
              "      <td>0</td>\n",
              "      <td>0</td>\n",
              "      <td>0</td>\n",
              "      <td>0</td>\n",
              "      <td>0</td>\n",
              "      <td>0</td>\n",
              "      <td>0</td>\n",
              "      <td>1</td>\n",
              "      <td>0</td>\n",
              "      <td>0</td>\n",
              "      <td>0</td>\n",
              "      <td>0</td>\n",
              "      <td>0</td>\n",
              "      <td>1</td>\n",
              "      <td>0</td>\n",
              "      <td>92</td>\n",
              "      <td>121</td>\n",
              "      <td>8464</td>\n",
              "      <td>1</td>\n",
              "      <td>0</td>\n",
              "      <td>0</td>\n",
              "      <td>0.250000</td>\n",
              "      <td>64.0</td>\n",
              "      <td>121.0</td>\n",
              "      <td>8464</td>\n",
              "      <td>4</td>\n",
              "    </tr>\n",
              "    <tr>\n",
              "      <th>3</th>\n",
              "      <td>ID_d671db89c</td>\n",
              "      <td>180000.0</td>\n",
              "      <td>0</td>\n",
              "      <td>5</td>\n",
              "      <td>0</td>\n",
              "      <td>1</td>\n",
              "      <td>1</td>\n",
              "      <td>1</td>\n",
              "      <td>1.0</td>\n",
              "      <td>0</td>\n",
              "      <td>2</td>\n",
              "      <td>2</td>\n",
              "      <td>1</td>\n",
              "      <td>1</td>\n",
              "      <td>2</td>\n",
              "      <td>1</td>\n",
              "      <td>3</td>\n",
              "      <td>4</td>\n",
              "      <td>4</td>\n",
              "      <td>4</td>\n",
              "      <td>9</td>\n",
              "      <td>1.0</td>\n",
              "      <td>4</td>\n",
              "      <td>1</td>\n",
              "      <td>0</td>\n",
              "      <td>0</td>\n",
              "      <td>0</td>\n",
              "      <td>0</td>\n",
              "      <td>0</td>\n",
              "      <td>0</td>\n",
              "      <td>0</td>\n",
              "      <td>1</td>\n",
              "      <td>0</td>\n",
              "      <td>0</td>\n",
              "      <td>0</td>\n",
              "      <td>0</td>\n",
              "      <td>0</td>\n",
              "      <td>1</td>\n",
              "      <td>0</td>\n",
              "      <td>0</td>\n",
              "      <td>0</td>\n",
              "      <td>1</td>\n",
              "      <td>1</td>\n",
              "      <td>0</td>\n",
              "      <td>0</td>\n",
              "      <td>1</td>\n",
              "      <td>0</td>\n",
              "      <td>0</td>\n",
              "      <td>0</td>\n",
              "      <td>0</td>\n",
              "      <td>1</td>\n",
              "      <td>0</td>\n",
              "      <td>0</td>\n",
              "      <td>0</td>\n",
              "      <td>0</td>\n",
              "      <td>1</td>\n",
              "      <td>0</td>\n",
              "      <td>0</td>\n",
              "      <td>1</td>\n",
              "      <td>0</td>\n",
              "      <td>0</td>\n",
              "      <td>0</td>\n",
              "      <td>0</td>\n",
              "      <td>0</td>\n",
              "      <td>0</td>\n",
              "      <td>0</td>\n",
              "      <td>1</td>\n",
              "      <td>0</td>\n",
              "      <td>0</td>\n",
              "      <td>1</td>\n",
              "      <td>0</td>\n",
              "      <td>0</td>\n",
              "      <td>1</td>\n",
              "      <td>0</td>\n",
              "      <td>1</td>\n",
              "      <td>0</td>\n",
              "      <td>0</td>\n",
              "      <td>0</td>\n",
              "      <td>0</td>\n",
              "      <td>0</td>\n",
              "      <td>0</td>\n",
              "      <td>0</td>\n",
              "      <td>1</td>\n",
              "      <td>0</td>\n",
              "      <td>0</td>\n",
              "      <td>1</td>\n",
              "      <td>0</td>\n",
              "      <td>0</td>\n",
              "      <td>0</td>\n",
              "      <td>0</td>\n",
              "      <td>0</td>\n",
              "      <td>0</td>\n",
              "      <td>0</td>\n",
              "      <td>0</td>\n",
              "      <td>0</td>\n",
              "      <td>2b58d945f</td>\n",
              "      <td>2</td>\n",
              "      <td>2</td>\n",
              "      <td>0</td>\n",
              "      <td>4</td>\n",
              "      <td>yes</td>\n",
              "      <td>11</td>\n",
              "      <td>no</td>\n",
              "      <td>11.0</td>\n",
              "      <td>0</td>\n",
              "      <td>0</td>\n",
              "      <td>0</td>\n",
              "      <td>1</td>\n",
              "      <td>0</td>\n",
              "      <td>0</td>\n",
              "      <td>0</td>\n",
              "      <td>0</td>\n",
              "      <td>0</td>\n",
              "      <td>3</td>\n",
              "      <td>1.333333</td>\n",
              "      <td>0</td>\n",
              "      <td>0</td>\n",
              "      <td>1</td>\n",
              "      <td>0</td>\n",
              "      <td>0</td>\n",
              "      <td>0</td>\n",
              "      <td>0</td>\n",
              "      <td>1</td>\n",
              "      <td>3</td>\n",
              "      <td>1</td>\n",
              "      <td>0</td>\n",
              "      <td>0</td>\n",
              "      <td>0</td>\n",
              "      <td>0</td>\n",
              "      <td>0</td>\n",
              "      <td>1</td>\n",
              "      <td>0</td>\n",
              "      <td>17</td>\n",
              "      <td>81</td>\n",
              "      <td>289</td>\n",
              "      <td>16</td>\n",
              "      <td>121</td>\n",
              "      <td>4</td>\n",
              "      <td>1.777778</td>\n",
              "      <td>1.0</td>\n",
              "      <td>121.0</td>\n",
              "      <td>289</td>\n",
              "      <td>4</td>\n",
              "    </tr>\n",
              "    <tr>\n",
              "      <th>4</th>\n",
              "      <td>ID_d56d6f5f5</td>\n",
              "      <td>180000.0</td>\n",
              "      <td>0</td>\n",
              "      <td>5</td>\n",
              "      <td>0</td>\n",
              "      <td>1</td>\n",
              "      <td>1</td>\n",
              "      <td>1</td>\n",
              "      <td>1.0</td>\n",
              "      <td>0</td>\n",
              "      <td>2</td>\n",
              "      <td>2</td>\n",
              "      <td>1</td>\n",
              "      <td>1</td>\n",
              "      <td>2</td>\n",
              "      <td>1</td>\n",
              "      <td>3</td>\n",
              "      <td>4</td>\n",
              "      <td>4</td>\n",
              "      <td>4</td>\n",
              "      <td>11</td>\n",
              "      <td>NaN</td>\n",
              "      <td>4</td>\n",
              "      <td>1</td>\n",
              "      <td>0</td>\n",
              "      <td>0</td>\n",
              "      <td>0</td>\n",
              "      <td>0</td>\n",
              "      <td>0</td>\n",
              "      <td>0</td>\n",
              "      <td>0</td>\n",
              "      <td>1</td>\n",
              "      <td>0</td>\n",
              "      <td>0</td>\n",
              "      <td>0</td>\n",
              "      <td>0</td>\n",
              "      <td>0</td>\n",
              "      <td>1</td>\n",
              "      <td>0</td>\n",
              "      <td>0</td>\n",
              "      <td>0</td>\n",
              "      <td>1</td>\n",
              "      <td>1</td>\n",
              "      <td>0</td>\n",
              "      <td>0</td>\n",
              "      <td>1</td>\n",
              "      <td>0</td>\n",
              "      <td>0</td>\n",
              "      <td>0</td>\n",
              "      <td>0</td>\n",
              "      <td>1</td>\n",
              "      <td>0</td>\n",
              "      <td>0</td>\n",
              "      <td>0</td>\n",
              "      <td>0</td>\n",
              "      <td>1</td>\n",
              "      <td>0</td>\n",
              "      <td>0</td>\n",
              "      <td>1</td>\n",
              "      <td>0</td>\n",
              "      <td>0</td>\n",
              "      <td>0</td>\n",
              "      <td>0</td>\n",
              "      <td>0</td>\n",
              "      <td>0</td>\n",
              "      <td>0</td>\n",
              "      <td>1</td>\n",
              "      <td>0</td>\n",
              "      <td>0</td>\n",
              "      <td>1</td>\n",
              "      <td>0</td>\n",
              "      <td>0</td>\n",
              "      <td>1</td>\n",
              "      <td>0</td>\n",
              "      <td>0</td>\n",
              "      <td>1</td>\n",
              "      <td>0</td>\n",
              "      <td>1</td>\n",
              "      <td>0</td>\n",
              "      <td>0</td>\n",
              "      <td>0</td>\n",
              "      <td>0</td>\n",
              "      <td>0</td>\n",
              "      <td>0</td>\n",
              "      <td>1</td>\n",
              "      <td>0</td>\n",
              "      <td>0</td>\n",
              "      <td>0</td>\n",
              "      <td>0</td>\n",
              "      <td>0</td>\n",
              "      <td>0</td>\n",
              "      <td>0</td>\n",
              "      <td>0</td>\n",
              "      <td>0</td>\n",
              "      <td>0</td>\n",
              "      <td>2b58d945f</td>\n",
              "      <td>2</td>\n",
              "      <td>2</td>\n",
              "      <td>0</td>\n",
              "      <td>4</td>\n",
              "      <td>yes</td>\n",
              "      <td>11</td>\n",
              "      <td>no</td>\n",
              "      <td>11.0</td>\n",
              "      <td>0</td>\n",
              "      <td>0</td>\n",
              "      <td>0</td>\n",
              "      <td>0</td>\n",
              "      <td>1</td>\n",
              "      <td>0</td>\n",
              "      <td>0</td>\n",
              "      <td>0</td>\n",
              "      <td>0</td>\n",
              "      <td>3</td>\n",
              "      <td>1.333333</td>\n",
              "      <td>0</td>\n",
              "      <td>0</td>\n",
              "      <td>1</td>\n",
              "      <td>0</td>\n",
              "      <td>0</td>\n",
              "      <td>0</td>\n",
              "      <td>0</td>\n",
              "      <td>1</td>\n",
              "      <td>3</td>\n",
              "      <td>1</td>\n",
              "      <td>0</td>\n",
              "      <td>0</td>\n",
              "      <td>0</td>\n",
              "      <td>0</td>\n",
              "      <td>0</td>\n",
              "      <td>1</td>\n",
              "      <td>0</td>\n",
              "      <td>37</td>\n",
              "      <td>121</td>\n",
              "      <td>1369</td>\n",
              "      <td>16</td>\n",
              "      <td>121</td>\n",
              "      <td>4</td>\n",
              "      <td>1.777778</td>\n",
              "      <td>1.0</td>\n",
              "      <td>121.0</td>\n",
              "      <td>1369</td>\n",
              "      <td>4</td>\n",
              "    </tr>\n",
              "  </tbody>\n",
              "</table>\n",
              "</div>\n",
              "      <button class=\"colab-df-convert\" onclick=\"convertToInteractive('df-7522e381-cca9-4afc-82aa-698bbc131769')\"\n",
              "              title=\"Convert this dataframe to an interactive table.\"\n",
              "              style=\"display:none;\">\n",
              "        \n",
              "  <svg xmlns=\"http://www.w3.org/2000/svg\" height=\"24px\"viewBox=\"0 0 24 24\"\n",
              "       width=\"24px\">\n",
              "    <path d=\"M0 0h24v24H0V0z\" fill=\"none\"/>\n",
              "    <path d=\"M18.56 5.44l.94 2.06.94-2.06 2.06-.94-2.06-.94-.94-2.06-.94 2.06-2.06.94zm-11 1L8.5 8.5l.94-2.06 2.06-.94-2.06-.94L8.5 2.5l-.94 2.06-2.06.94zm10 10l.94 2.06.94-2.06 2.06-.94-2.06-.94-.94-2.06-.94 2.06-2.06.94z\"/><path d=\"M17.41 7.96l-1.37-1.37c-.4-.4-.92-.59-1.43-.59-.52 0-1.04.2-1.43.59L10.3 9.45l-7.72 7.72c-.78.78-.78 2.05 0 2.83L4 21.41c.39.39.9.59 1.41.59.51 0 1.02-.2 1.41-.59l7.78-7.78 2.81-2.81c.8-.78.8-2.07 0-2.86zM5.41 20L4 18.59l7.72-7.72 1.47 1.35L5.41 20z\"/>\n",
              "  </svg>\n",
              "      </button>\n",
              "      \n",
              "  <style>\n",
              "    .colab-df-container {\n",
              "      display:flex;\n",
              "      flex-wrap:wrap;\n",
              "      gap: 12px;\n",
              "    }\n",
              "\n",
              "    .colab-df-convert {\n",
              "      background-color: #E8F0FE;\n",
              "      border: none;\n",
              "      border-radius: 50%;\n",
              "      cursor: pointer;\n",
              "      display: none;\n",
              "      fill: #1967D2;\n",
              "      height: 32px;\n",
              "      padding: 0 0 0 0;\n",
              "      width: 32px;\n",
              "    }\n",
              "\n",
              "    .colab-df-convert:hover {\n",
              "      background-color: #E2EBFA;\n",
              "      box-shadow: 0px 1px 2px rgba(60, 64, 67, 0.3), 0px 1px 3px 1px rgba(60, 64, 67, 0.15);\n",
              "      fill: #174EA6;\n",
              "    }\n",
              "\n",
              "    [theme=dark] .colab-df-convert {\n",
              "      background-color: #3B4455;\n",
              "      fill: #D2E3FC;\n",
              "    }\n",
              "\n",
              "    [theme=dark] .colab-df-convert:hover {\n",
              "      background-color: #434B5C;\n",
              "      box-shadow: 0px 1px 3px 1px rgba(0, 0, 0, 0.15);\n",
              "      filter: drop-shadow(0px 1px 2px rgba(0, 0, 0, 0.3));\n",
              "      fill: #FFFFFF;\n",
              "    }\n",
              "  </style>\n",
              "\n",
              "      <script>\n",
              "        const buttonEl =\n",
              "          document.querySelector('#df-7522e381-cca9-4afc-82aa-698bbc131769 button.colab-df-convert');\n",
              "        buttonEl.style.display =\n",
              "          google.colab.kernel.accessAllowed ? 'block' : 'none';\n",
              "\n",
              "        async function convertToInteractive(key) {\n",
              "          const element = document.querySelector('#df-7522e381-cca9-4afc-82aa-698bbc131769');\n",
              "          const dataTable =\n",
              "            await google.colab.kernel.invokeFunction('convertToInteractive',\n",
              "                                                     [key], {});\n",
              "          if (!dataTable) return;\n",
              "\n",
              "          const docLinkHtml = 'Like what you see? Visit the ' +\n",
              "            '<a target=\"_blank\" href=https://colab.research.google.com/notebooks/data_table.ipynb>data table notebook</a>'\n",
              "            + ' to learn more about interactive tables.';\n",
              "          element.innerHTML = '';\n",
              "          dataTable['output_type'] = 'display_data';\n",
              "          await google.colab.output.renderOutput(dataTable, element);\n",
              "          const docLink = document.createElement('div');\n",
              "          docLink.innerHTML = docLinkHtml;\n",
              "          element.appendChild(docLink);\n",
              "        }\n",
              "      </script>\n",
              "    </div>\n",
              "  </div>\n",
              "  "
            ]
          },
          "metadata": {},
          "execution_count": 2
        }
      ]
    },
    {
      "cell_type": "code",
      "source": [
        "# Reinit function\n",
        "def reinit_input_df():\n",
        "  l_df=df_init.copy()\n",
        "  l_df_test=df_init_test.copy()\n",
        "  return l_df"
      ],
      "metadata": {
        "id": "8DFakHLRjgoK"
      },
      "execution_count": 3,
      "outputs": []
    },
    {
      "cell_type": "code",
      "source": [
        "df.shape"
      ],
      "metadata": {
        "colab": {
          "base_uri": "https://localhost:8080/"
        },
        "id": "UnyMREPoHRak",
        "outputId": "62bd1d44-e093-4d7c-fff9-0b5a5dcc23fa"
      },
      "execution_count": 4,
      "outputs": [
        {
          "output_type": "execute_result",
          "data": {
            "text/plain": [
              "(9557, 143)"
            ]
          },
          "metadata": {},
          "execution_count": 4
        }
      ]
    },
    {
      "cell_type": "code",
      "source": [
        "df.info()"
      ],
      "metadata": {
        "colab": {
          "base_uri": "https://localhost:8080/"
        },
        "id": "LS-lWLoWXNMp",
        "outputId": "8f56c154-6be9-4fdf-b866-75d2e4670f5a"
      },
      "execution_count": 5,
      "outputs": [
        {
          "output_type": "stream",
          "name": "stdout",
          "text": [
            "<class 'pandas.core.frame.DataFrame'>\n",
            "RangeIndex: 9557 entries, 0 to 9556\n",
            "Columns: 143 entries, Id to Target\n",
            "dtypes: float64(8), int64(130), object(5)\n",
            "memory usage: 10.4+ MB\n"
          ]
        }
      ]
    },
    {
      "cell_type": "code",
      "source": [
        "len(df.columns),len(df_test.columns)"
      ],
      "metadata": {
        "colab": {
          "base_uri": "https://localhost:8080/"
        },
        "id": "IZ9cC4y0O2lb",
        "outputId": "c3d9972e-8200-4f69-d841-a07605483b85"
      },
      "execution_count": 6,
      "outputs": [
        {
          "output_type": "execute_result",
          "data": {
            "text/plain": [
              "(143, 142)"
            ]
          },
          "metadata": {},
          "execution_count": 6
        }
      ]
    },
    {
      "cell_type": "code",
      "source": [
        "# The difference betwween the columns of train.csv and test?csv is 'Target' column\n",
        "[col for col in df.columns if col not in df_test.columns]\n"
      ],
      "metadata": {
        "colab": {
          "base_uri": "https://localhost:8080/"
        },
        "id": "JpDmD5ZSPNUX",
        "outputId": "a04cdcbb-37bc-4277-aee0-a7b43bc91a19"
      },
      "execution_count": 7,
      "outputs": [
        {
          "output_type": "execute_result",
          "data": {
            "text/plain": [
              "['Target']"
            ]
          },
          "metadata": {},
          "execution_count": 7
        }
      ]
    },
    {
      "cell_type": "markdown",
      "source": [
        "# Types"
      ],
      "metadata": {
        "id": "-dEodCO2ZHVW"
      }
    },
    {
      "cell_type": "code",
      "source": [
        "df.dtypes.value_counts()"
      ],
      "metadata": {
        "colab": {
          "base_uri": "https://localhost:8080/"
        },
        "id": "miqAute4SCkq",
        "outputId": "5ce2ef06-c172-42d1-c815-79113873ec53"
      },
      "execution_count": 8,
      "outputs": [
        {
          "output_type": "execute_result",
          "data": {
            "text/plain": [
              "int64      130\n",
              "float64      8\n",
              "object       5\n",
              "dtype: int64"
            ]
          },
          "metadata": {},
          "execution_count": 8
        }
      ]
    },
    {
      "cell_type": "code",
      "source": [
        "df.dtypes.value_counts().plot.pie()"
      ],
      "metadata": {
        "colab": {
          "base_uri": "https://localhost:8080/",
          "height": 266
        },
        "id": "Lt2Zz8uoYIfR",
        "outputId": "817fefea-ade0-4892-e88e-fa954dd7bff2"
      },
      "execution_count": 9,
      "outputs": [
        {
          "output_type": "execute_result",
          "data": {
            "text/plain": [
              "<matplotlib.axes._subplots.AxesSubplot at 0x7fca5de15c10>"
            ]
          },
          "metadata": {},
          "execution_count": 9
        },
        {
          "output_type": "display_data",
          "data": {
            "text/plain": [
              "<Figure size 432x288 with 1 Axes>"
            ],
            "image/png": "[encoded data removed]"
          },
          "metadata": {}
        }
      ]
    },
    {
      "cell_type": "code",
      "source": [
        "df.select_dtypes('object').head()"
      ],
      "metadata": {
        "colab": {
          "base_uri": "https://localhost:8080/",
          "height": 206
        },
        "id": "dkpgx-sDT32T",
        "outputId": "d9acfb86-7ea0-4478-99ab-6417f94a3a0e"
      },
      "execution_count": 10,
      "outputs": [
        {
          "output_type": "execute_result",
          "data": {
            "text/plain": [
              "             Id    idhogar dependency edjefe edjefa\n",
              "0  ID_279628684  21eb7fcc1         no     10     no\n",
              "1  ID_f29eb3ddd  0e5d7a658          8     12     no\n",
              "2  ID_68de51c94  2c7317ea8          8     no     11\n",
              "3  ID_d671db89c  2b58d945f        yes     11     no\n",
              "4  ID_d56d6f5f5  2b58d945f        yes     11     no"
            ],
            "text/html": [
              "\n",
              "  <div id=\"df-1d5c6b7d-199e-48ba-8f71-d7d3dd315035\">\n",
              "    <div class=\"colab-df-container\">\n",
              "      <div>\n",
              "<style scoped>\n",
              "    .dataframe tbody tr th:only-of-type {\n",
              "        vertical-align: middle;\n",
              "    }\n",
              "\n",
              "    .dataframe tbody tr th {\n",
              "        vertical-align: top;\n",
              "    }\n",
              "\n",
              "    .dataframe thead th {\n",
              "        text-align: right;\n",
              "    }\n",
              "</style>\n",
              "<table border=\"1\" class=\"dataframe\">\n",
              "  <thead>\n",
              "    <tr style=\"text-align: right;\">\n",
              "      <th></th>\n",
              "      <th>Id</th>\n",
              "      <th>idhogar</th>\n",
              "      <th>dependency</th>\n",
              "      <th>edjefe</th>\n",
              "      <th>edjefa</th>\n",
              "    </tr>\n",
              "  </thead>\n",
              "  <tbody>\n",
              "    <tr>\n",
              "      <th>0</th>\n",
              "      <td>ID_279628684</td>\n",
              "      <td>21eb7fcc1</td>\n",
              "      <td>no</td>\n",
              "      <td>10</td>\n",
              "      <td>no</td>\n",
              "    </tr>\n",
              "    <tr>\n",
              "      <th>1</th>\n",
              "      <td>ID_f29eb3ddd</td>\n",
              "      <td>0e5d7a658</td>\n",
              "      <td>8</td>\n",
              "      <td>12</td>\n",
              "      <td>no</td>\n",
              "    </tr>\n",
              "    <tr>\n",
              "      <th>2</th>\n",
              "      <td>ID_68de51c94</td>\n",
              "      <td>2c7317ea8</td>\n",
              "      <td>8</td>\n",
              "      <td>no</td>\n",
              "      <td>11</td>\n",
              "    </tr>\n",
              "    <tr>\n",
              "      <th>3</th>\n",
              "      <td>ID_d671db89c</td>\n",
              "      <td>2b58d945f</td>\n",
              "      <td>yes</td>\n",
              "      <td>11</td>\n",
              "      <td>no</td>\n",
              "    </tr>\n",
              "    <tr>\n",
              "      <th>4</th>\n",
              "      <td>ID_d56d6f5f5</td>\n",
              "      <td>2b58d945f</td>\n",
              "      <td>yes</td>\n",
              "      <td>11</td>\n",
              "      <td>no</td>\n",
              "    </tr>\n",
              "  </tbody>\n",
              "</table>\n",
              "</div>\n",
              "      <button class=\"colab-df-convert\" onclick=\"convertToInteractive('df-1d5c6b7d-199e-48ba-8f71-d7d3dd315035')\"\n",
              "              title=\"Convert this dataframe to an interactive table.\"\n",
              "              style=\"display:none;\">\n",
              "        \n",
              "  <svg xmlns=\"http://www.w3.org/2000/svg\" height=\"24px\"viewBox=\"0 0 24 24\"\n",
              "       width=\"24px\">\n",
              "    <path d=\"M0 0h24v24H0V0z\" fill=\"none\"/>\n",
              "    <path d=\"M18.56 5.44l.94 2.06.94-2.06 2.06-.94-2.06-.94-.94-2.06-.94 2.06-2.06.94zm-11 1L8.5 8.5l.94-2.06 2.06-.94-2.06-.94L8.5 2.5l-.94 2.06-2.06.94zm10 10l.94 2.06.94-2.06 2.06-.94-2.06-.94-.94-2.06-.94 2.06-2.06.94z\"/><path d=\"M17.41 7.96l-1.37-1.37c-.4-.4-.92-.59-1.43-.59-.52 0-1.04.2-1.43.59L10.3 9.45l-7.72 7.72c-.78.78-.78 2.05 0 2.83L4 21.41c.39.39.9.59 1.41.59.51 0 1.02-.2 1.41-.59l7.78-7.78 2.81-2.81c.8-.78.8-2.07 0-2.86zM5.41 20L4 18.59l7.72-7.72 1.47 1.35L5.41 20z\"/>\n",
              "  </svg>\n",
              "      </button>\n",
              "      \n",
              "  <style>\n",
              "    .colab-df-container {\n",
              "      display:flex;\n",
              "      flex-wrap:wrap;\n",
              "      gap: 12px;\n",
              "    }\n",
              "\n",
              "    .colab-df-convert {\n",
              "      background-color: #E8F0FE;\n",
              "      border: none;\n",
              "      border-radius: 50%;\n",
              "      cursor: pointer;\n",
              "      display: none;\n",
              "      fill: #1967D2;\n",
              "      height: 32px;\n",
              "      padding: 0 0 0 0;\n",
              "      width: 32px;\n",
              "    }\n",
              "\n",
              "    .colab-df-convert:hover {\n",
              "      background-color: #E2EBFA;\n",
              "      box-shadow: 0px 1px 2px rgba(60, 64, 67, 0.3), 0px 1px 3px 1px rgba(60, 64, 67, 0.15);\n",
              "      fill: #174EA6;\n",
              "    }\n",
              "\n",
              "    [theme=dark] .colab-df-convert {\n",
              "      background-color: #3B4455;\n",
              "      fill: #D2E3FC;\n",
              "    }\n",
              "\n",
              "    [theme=dark] .colab-df-convert:hover {\n",
              "      background-color: #434B5C;\n",
              "      box-shadow: 0px 1px 3px 1px rgba(0, 0, 0, 0.15);\n",
              "      filter: drop-shadow(0px 1px 2px rgba(0, 0, 0, 0.3));\n",
              "      fill: #FFFFFF;\n",
              "    }\n",
              "  </style>\n",
              "\n",
              "      <script>\n",
              "        const buttonEl =\n",
              "          document.querySelector('#df-1d5c6b7d-199e-48ba-8f71-d7d3dd315035 button.colab-df-convert');\n",
              "        buttonEl.style.display =\n",
              "          google.colab.kernel.accessAllowed ? 'block' : 'none';\n",
              "\n",
              "        async function convertToInteractive(key) {\n",
              "          const element = document.querySelector('#df-1d5c6b7d-199e-48ba-8f71-d7d3dd315035');\n",
              "          const dataTable =\n",
              "            await google.colab.kernel.invokeFunction('convertToInteractive',\n",
              "                                                     [key], {});\n",
              "          if (!dataTable) return;\n",
              "\n",
              "          const docLinkHtml = 'Like what you see? Visit the ' +\n",
              "            '<a target=\"_blank\" href=https://colab.research.google.com/notebooks/data_table.ipynb>data table notebook</a>'\n",
              "            + ' to learn more about interactive tables.';\n",
              "          element.innerHTML = '';\n",
              "          dataTable['output_type'] = 'display_data';\n",
              "          await google.colab.output.renderOutput(dataTable, element);\n",
              "          const docLink = document.createElement('div');\n",
              "          docLink.innerHTML = docLinkHtml;\n",
              "          element.appendChild(docLink);\n",
              "        }\n",
              "      </script>\n",
              "    </div>\n",
              "  </div>\n",
              "  "
            ]
          },
          "metadata": {},
          "execution_count": 10
        }
      ]
    },
    {
      "cell_type": "code",
      "source": [
        "# list of columns with count of its values by type of columns\n",
        "def get_value_counts(i_df,i_type):\n",
        "  lst_nbre_val_col=[]\n",
        "  cmpt=0\n",
        "  for col in i_df.select_dtypes(i_type).columns:\n",
        "    cmpt=i_df[col].value_counts().count()\n",
        "    lst_nbre_val_col.append((col,cmpt))\n",
        "  #\n",
        "  return lst_nbre_val_col"
      ],
      "metadata": {
        "id": "WgMHabFUyXkX"
      },
      "execution_count": 11,
      "outputs": []
    },
    {
      "cell_type": "code",
      "source": [
        "get_value_counts(df,'object')"
      ],
      "metadata": {
        "colab": {
          "base_uri": "https://localhost:8080/"
        },
        "id": "7qvslXBrzN7x",
        "outputId": "3b8cf51c-4084-4e47-9ef5-38d159d0b31e"
      },
      "execution_count": 12,
      "outputs": [
        {
          "output_type": "execute_result",
          "data": {
            "text/plain": [
              "[('Id', 9557),\n",
              " ('idhogar', 2988),\n",
              " ('dependency', 31),\n",
              " ('edjefe', 22),\n",
              " ('edjefa', 22)]"
            ]
          },
          "metadata": {},
          "execution_count": 12
        }
      ]
    },
    {
      "cell_type": "code",
      "source": [
        "df['Id'].head(),df['idhogar'].head()"
      ],
      "metadata": {
        "colab": {
          "base_uri": "https://localhost:8080/"
        },
        "id": "da7_Q4PDifsK",
        "outputId": "0c11608b-406a-4cbc-9d3a-bda9f9a737cc"
      },
      "execution_count": 13,
      "outputs": [
        {
          "output_type": "execute_result",
          "data": {
            "text/plain": [
              "(0    ID_279628684\n",
              " 1    ID_f29eb3ddd\n",
              " 2    ID_68de51c94\n",
              " 3    ID_d671db89c\n",
              " 4    ID_d56d6f5f5\n",
              " Name: Id, dtype: object, 0    21eb7fcc1\n",
              " 1    0e5d7a658\n",
              " 2    2c7317ea8\n",
              " 3    2b58d945f\n",
              " 4    2b58d945f\n",
              " Name: idhogar, dtype: object)"
            ]
          },
          "metadata": {},
          "execution_count": 13
        }
      ]
    },
    {
      "cell_type": "code",
      "source": [
        "df['dependency'].value_counts(),df['edjefe'].value_counts(),df['edjefa'].value_counts()"
      ],
      "metadata": {
        "id": "HnhSiXniaNu5"
      },
      "execution_count": null,
      "outputs": []
    },
    {
      "cell_type": "code",
      "source": [
        "# return list of values of column and list of no numeric values\n",
        "def get_values_of_column(i_df,i_col):\n",
        "  X=i_df[i_col]\n",
        "  ll=X.unique()\n",
        "  lst_no_num=[]\n",
        "  #print(ll)\n",
        "  for i in ll:\n",
        "    try:\n",
        "      float(i)\n",
        "    except:\n",
        "      lst_no_num.append(i)\n",
        "  #\n",
        "  return (ll,lst_no_num)  "
      ],
      "metadata": {
        "id": "VdWPVEPMqVMf"
      },
      "execution_count": 15,
      "outputs": []
    },
    {
      "cell_type": "code",
      "source": [
        "# list of no numeric values\n",
        "def get_lst_no_num(i_df,i_col):\n",
        "  l_lst_values, l_lst_no_num=get_values_of_column(i_df,i_col)\n",
        "  return l_lst_no_num"
      ],
      "metadata": {
        "id": "O4oChuXDuHuG"
      },
      "execution_count": 16,
      "outputs": []
    },
    {
      "cell_type": "code",
      "source": [
        "get_values_of_column(df,'edjefe')"
      ],
      "metadata": {
        "colab": {
          "base_uri": "https://localhost:8080/"
        },
        "id": "VZ0S2d8Sqs-D",
        "outputId": "24c78e93-6293-47da-be11-1e82754e6d98"
      },
      "execution_count": 18,
      "outputs": [
        {
          "output_type": "execute_result",
          "data": {
            "text/plain": [
              "(array(['10', '12', 'no', '11', '9', '15', '4', '6', '8', '17', '7', '16',\n",
              "        '14', '5', '21', '2', '19', 'yes', '3', '18', '13', '20'],\n",
              "       dtype=object), ['no', 'yes'])"
            ]
          },
          "metadata": {},
          "execution_count": 18
        }
      ]
    },
    {
      "cell_type": "code",
      "source": [
        "get_values_of_column(df,'edjefa')"
      ],
      "metadata": {
        "colab": {
          "base_uri": "https://localhost:8080/"
        },
        "id": "XaLrTKOisPKo",
        "outputId": "8b83fa30-8ef5-4bc7-e98e-9c891bc0f2d5"
      },
      "execution_count": 19,
      "outputs": [
        {
          "output_type": "execute_result",
          "data": {
            "text/plain": [
              "(array(['no', '11', '4', '10', '9', '15', '7', '14', '13', '8', '17', '6',\n",
              "        '5', '3', '16', '19', 'yes', '21', '12', '2', '20', '18'],\n",
              "       dtype=object), ['no', 'yes'])"
            ]
          },
          "metadata": {},
          "execution_count": 19
        }
      ]
    },
    {
      "cell_type": "code",
      "source": [
        "get_values_of_column(df,'dependency')"
      ],
      "metadata": {
        "colab": {
          "base_uri": "https://localhost:8080/"
        },
        "id": "nFztbloUsLAX",
        "outputId": "d5d58878-93ba-454b-d495-7aedbf5cc01f"
      },
      "execution_count": 20,
      "outputs": [
        {
          "output_type": "execute_result",
          "data": {
            "text/plain": [
              "(array(['no', '8', 'yes', '3', '.5', '.25', '2', '.66666669', '.33333334',\n",
              "        '1.5', '.40000001', '.75', '1.25', '.2', '2.5', '1.2', '4',\n",
              "        '1.3333334', '2.25', '.22222222', '5', '.83333331', '.80000001',\n",
              "        '6', '3.5', '1.6666666', '.2857143', '1.75', '.71428573',\n",
              "        '.16666667', '.60000002'], dtype=object), ['no', 'yes'])"
            ]
          },
          "metadata": {},
          "execution_count": 20
        }
      ]
    },
    {
      "cell_type": "code",
      "source": [
        "print('dependency-->',get_lst_no_num(df,'dependency'))\n",
        "print('edjefe-->',get_lst_no_num(df,'edjefe'))\n",
        "print('edjefa-->',get_lst_no_num(df,'edjefa'))"
      ],
      "metadata": {
        "colab": {
          "base_uri": "https://localhost:8080/"
        },
        "id": "M3P3j6pKhVpH",
        "outputId": "18221de7-8b33-42c2-bf15-ad337b1c5e17"
      },
      "execution_count": 17,
      "outputs": [
        {
          "output_type": "stream",
          "name": "stdout",
          "text": [
            "dependency--> ['no', 'yes']\n",
            "edjefe--> ['no', 'yes']\n",
            "edjefa--> ['no', 'yes']\n"
          ]
        }
      ]
    },
    {
      "cell_type": "code",
      "source": [
        "# type= float64\n",
        "lst_t=get_value_counts(df,'float64')\n",
        "lst_t[:6]"
      ],
      "metadata": {
        "colab": {
          "base_uri": "https://localhost:8080/"
        },
        "id": "FOUj_xKXv4rQ",
        "outputId": "fb30c92d-11b8-4977-be37-1cac5c5368b1"
      },
      "execution_count": 18,
      "outputs": [
        {
          "output_type": "execute_result",
          "data": {
            "text/plain": [
              "[('v2a1', 157),\n",
              " ('v18q1', 6),\n",
              " ('rez_esc', 6),\n",
              " ('meaneduc', 155),\n",
              " ('overcrowding', 38),\n",
              " ('SQBovercrowding', 38)]"
            ]
          },
          "metadata": {},
          "execution_count": 18
        }
      ]
    },
    {
      "cell_type": "code",
      "source": [
        "# type= float64\n",
        "lst_t=get_value_counts(df,'float64')\n",
        "[i for i in lst_t if i[1] > 10]"
      ],
      "metadata": {
        "colab": {
          "base_uri": "https://localhost:8080/"
        },
        "id": "WpY8DscF0-c3",
        "outputId": "b17b1dcf-4198-4f2b-8895-fb770865b3c2"
      },
      "execution_count": 19,
      "outputs": [
        {
          "output_type": "execute_result",
          "data": {
            "text/plain": [
              "[('v2a1', 157),\n",
              " ('meaneduc', 155),\n",
              " ('overcrowding', 38),\n",
              " ('SQBovercrowding', 38),\n",
              " ('SQBdependency', 31),\n",
              " ('SQBmeaned', 155)]"
            ]
          },
          "metadata": {},
          "execution_count": 19
        }
      ]
    },
    {
      "cell_type": "code",
      "source": [
        "# Type= int64\n",
        "lst_t=get_value_counts(df,'int64')\n",
        "lst_t[:6]"
      ],
      "metadata": {
        "colab": {
          "base_uri": "https://localhost:8080/"
        },
        "id": "2NYGB2G-x7m_",
        "outputId": "c52bcc75-4148-4f37-9af2-f328f0ba4bd4"
      },
      "execution_count": 20,
      "outputs": [
        {
          "output_type": "execute_result",
          "data": {
            "text/plain": [
              "[('hacdor', 2),\n",
              " ('rooms', 11),\n",
              " ('hacapo', 2),\n",
              " ('v14a', 2),\n",
              " ('refrig', 2),\n",
              " ('v18q', 2)]"
            ]
          },
          "metadata": {},
          "execution_count": 20
        }
      ]
    },
    {
      "cell_type": "code",
      "source": [
        "# type= int64\n",
        "lst_t=get_value_counts(df,'int64')\n",
        "[i for i in lst_t if i[1] > 10]"
      ],
      "metadata": {
        "colab": {
          "base_uri": "https://localhost:8080/"
        },
        "id": "2o7DNouy1iJJ",
        "outputId": "fb4f9871-d5fc-4934-f964-4f237aafaca0"
      },
      "execution_count": 21,
      "outputs": [
        {
          "output_type": "execute_result",
          "data": {
            "text/plain": [
              "[('rooms', 11),\n",
              " ('r4t2', 11),\n",
              " ('r4t3', 13),\n",
              " ('tamhog', 13),\n",
              " ('tamviv', 14),\n",
              " ('escolari', 22),\n",
              " ('hhsize', 13),\n",
              " ('hogar_total', 13),\n",
              " ('qmobilephone', 11),\n",
              " ('age', 97),\n",
              " ('SQBescolari', 22),\n",
              " ('SQBage', 97),\n",
              " ('SQBhogar_total', 13),\n",
              " ('SQBedjefe', 22),\n",
              " ('agesq', 97)]"
            ]
          },
          "metadata": {},
          "execution_count": 21
        }
      ]
    },
    {
      "cell_type": "markdown",
      "source": [
        "# Bias"
      ],
      "metadata": {
        "id": "mUHMTbgq6-WQ"
      }
    },
    {
      "cell_type": "code",
      "source": [
        "df.shape"
      ],
      "metadata": {
        "colab": {
          "base_uri": "https://localhost:8080/"
        },
        "id": "NpUXGLTn7ASn",
        "outputId": "26a378af-3fc4-4f4e-bf44-dcde82f4bd7f"
      },
      "execution_count": 22,
      "outputs": [
        {
          "output_type": "execute_result",
          "data": {
            "text/plain": [
              "(9557, 143)"
            ]
          },
          "metadata": {},
          "execution_count": 22
        }
      ]
    },
    {
      "cell_type": "code",
      "source": [
        "df.groupby('Target')['Target'].sum()"
      ],
      "metadata": {
        "colab": {
          "base_uri": "https://localhost:8080/"
        },
        "id": "JM5o0ysx7Gr4",
        "outputId": "5bec6510-16b6-4ca0-da88-9b02accfc230"
      },
      "execution_count": 23,
      "outputs": [
        {
          "output_type": "execute_result",
          "data": {
            "text/plain": [
              "Target\n",
              "1      755\n",
              "2     3194\n",
              "3     3627\n",
              "4    23984\n",
              "Name: Target, dtype: int64"
            ]
          },
          "metadata": {},
          "execution_count": 23
        }
      ]
    },
    {
      "cell_type": "code",
      "source": [
        "df.groupby('Target')['Target'].sum().plot.pie()"
      ],
      "metadata": {
        "colab": {
          "base_uri": "https://localhost:8080/",
          "height": 266
        },
        "id": "NnS5pXZU78Og",
        "outputId": "58b21fe7-e9a7-4fe6-c644-ec1b4cf3689b"
      },
      "execution_count": 24,
      "outputs": [
        {
          "output_type": "execute_result",
          "data": {
            "text/plain": [
              "<matplotlib.axes._subplots.AxesSubplot at 0x7fca5de15410>"
            ]
          },
          "metadata": {},
          "execution_count": 24
        },
        {
          "output_type": "display_data",
          "data": {
            "text/plain": [
              "<Figure size 432x288 with 1 Axes>"
            ],
            "image/png": "[encoded data removed]"
          },
          "metadata": {}
        }
      ]
    },
    {
      "cell_type": "markdown",
      "source": [
        "# Bonus"
      ],
      "metadata": {
        "id": "8NMKfgVM61Rr"
      }
    },
    {
      "cell_type": "code",
      "source": [
        "#Bonus======================================================================================\n",
        "null_counts_float64=df.select_dtypes('float64').isnull().sum()\n",
        "null_counts_float64[null_counts_float64 > 0]"
      ],
      "metadata": {
        "colab": {
          "base_uri": "https://localhost:8080/"
        },
        "id": "BwIFwXWA8rtM",
        "outputId": "29ee2742-eecc-4e7e-f1a6-1d5ad6e72073"
      },
      "execution_count": 20,
      "outputs": [
        {
          "output_type": "execute_result",
          "data": {
            "text/plain": [
              "v2a1         6860\n",
              "v18q1        7342\n",
              "rez_esc      7928\n",
              "meaneduc        5\n",
              "SQBmeaned       5\n",
              "dtype: int64"
            ]
          },
          "metadata": {},
          "execution_count": 20
        }
      ]
    },
    {
      "cell_type": "code",
      "source": [
        "df.select_dtypes('object').columns"
      ],
      "metadata": {
        "colab": {
          "base_uri": "https://localhost:8080/"
        },
        "id": "-wPrxRXj9W_K",
        "outputId": "525395de-10c7-40ca-806f-dde817373fb4"
      },
      "execution_count": null,
      "outputs": [
        {
          "output_type": "execute_result",
          "data": {
            "text/plain": [
              "Index(['Id', 'idhogar', 'dependency', 'edjefe', 'edjefa'], dtype='object')"
            ]
          },
          "metadata": {},
          "execution_count": 174
        }
      ]
    },
    {
      "cell_type": "code",
      "source": [
        "X = df[df['v2a1'].isnull()]\n",
        "#X = df[df['v2a1']==0]\n",
        "\n",
        "columns=['v2a1','tipovivi1','tipovivi2','tipovivi3','tipovivi4','tipovivi5']\n",
        "X[columns]['tipovivi1'].unique()"
      ],
      "metadata": {
        "colab": {
          "base_uri": "https://localhost:8080/"
        },
        "id": "wyVtgs_a-6Om",
        "outputId": "a3ee4819-213b-4c66-a0f5-ab43bdf45f29"
      },
      "execution_count": 375,
      "outputs": [
        {
          "output_type": "execute_result",
          "data": {
            "text/plain": [
              "array([0])"
            ]
          },
          "metadata": {},
          "execution_count": 375
        }
      ]
    },
    {
      "cell_type": "code",
      "source": [
        "columns=['v2a1','tipovivi1','tipovivi2','tipovivi3','tipovivi4','tipovivi5']\n",
        "X = df[df['tipovivi1']==0]\n",
        "X[columns]['v2a1'].unique()"
      ],
      "metadata": {
        "id": "iyFpPh5YvAbd"
      },
      "execution_count": null,
      "outputs": []
    },
    {
      "cell_type": "code",
      "source": [
        "  df.loc[df['tipovivi1']==1,'v2a1']=0\n",
        "  #df['v2a1'].replace([np.nan], df['v2a1'].median(), inplace=True)"
      ],
      "metadata": {
        "id": "p1d-LkKnwEEb"
      },
      "execution_count": 370,
      "outputs": []
    },
    {
      "cell_type": "code",
      "source": [
        ""
      ],
      "metadata": {
        "id": "cIKM7n9dwD6w"
      },
      "execution_count": null,
      "outputs": []
    },
    {
      "cell_type": "code",
      "source": [
        ""
      ],
      "metadata": {
        "id": "PZbQH38XwDwL"
      },
      "execution_count": null,
      "outputs": []
    },
    {
      "cell_type": "code",
      "source": [
        ""
      ],
      "metadata": {
        "id": "5v6r-gegwDkc"
      },
      "execution_count": null,
      "outputs": []
    },
    {
      "cell_type": "code",
      "source": [
        "df[df['tipovivi1']==1]['v2a1'].value_counts()"
      ],
      "metadata": {
        "colab": {
          "base_uri": "https://localhost:8080/"
        },
        "id": "SHj8zPWjiiCs",
        "outputId": "5bb05d48-30b9-4a8f-eedd-3713f90963ea"
      },
      "execution_count": null,
      "outputs": [
        {
          "output_type": "execute_result",
          "data": {
            "text/plain": [
              "Series([], Name: v2a1, dtype: int64)"
            ]
          },
          "metadata": {},
          "execution_count": 85
        }
      ]
    },
    {
      "cell_type": "code",
      "source": [
        "X = df[df['v2a1'].isna()]\n",
        "\n",
        "columns=['v2a1','tipovivi1','tipovivi2','tipovivi3','tipovivi4','tipovivi5']\n",
        "X[columns]['tipovivi1'].value_counts()"
      ],
      "metadata": {
        "colab": {
          "base_uri": "https://localhost:8080/"
        },
        "id": "c0_ktMLNiI8m",
        "outputId": "d1afe41f-c301-4238-9726-6408ca56157f"
      },
      "execution_count": null,
      "outputs": [
        {
          "output_type": "execute_result",
          "data": {
            "text/plain": [
              "1    5911\n",
              "0     949\n",
              "Name: tipovivi1, dtype: int64"
            ]
          },
          "metadata": {},
          "execution_count": 80
        }
      ]
    },
    {
      "cell_type": "code",
      "source": [
        "data = df[df['v2a1'].isnull()].head()\n",
        "X=data[columns]\n",
        "X"
      ],
      "metadata": {
        "colab": {
          "base_uri": "https://localhost:8080/",
          "height": 206
        },
        "id": "JpyFl6duBDS_",
        "outputId": "871b60da-c0c8-4317-e4bf-6ac36834ff77"
      },
      "execution_count": null,
      "outputs": [
        {
          "output_type": "execute_result",
          "data": {
            "text/plain": [
              "    tipovivi1  tipovivi2  tipovivi3  tipovivi4  tipovivi5\n",
              "2           1          0          0          0          0\n",
              "13          1          0          0          0          0\n",
              "14          1          0          0          0          0\n",
              "26          1          0          0          0          0\n",
              "32          1          0          0          0          0"
            ],
            "text/html": [
              "\n",
              "  <div id=\"df-73e086df-851f-4b0e-8e9a-d7bb1edadaa6\">\n",
              "    <div class=\"colab-df-container\">\n",
              "      <div>\n",
              "<style scoped>\n",
              "    .dataframe tbody tr th:only-of-type {\n",
              "        vertical-align: middle;\n",
              "    }\n",
              "\n",
              "    .dataframe tbody tr th {\n",
              "        vertical-align: top;\n",
              "    }\n",
              "\n",
              "    .dataframe thead th {\n",
              "        text-align: right;\n",
              "    }\n",
              "</style>\n",
              "<table border=\"1\" class=\"dataframe\">\n",
              "  <thead>\n",
              "    <tr style=\"text-align: right;\">\n",
              "      <th></th>\n",
              "      <th>tipovivi1</th>\n",
              "      <th>tipovivi2</th>\n",
              "      <th>tipovivi3</th>\n",
              "      <th>tipovivi4</th>\n",
              "      <th>tipovivi5</th>\n",
              "    </tr>\n",
              "  </thead>\n",
              "  <tbody>\n",
              "    <tr>\n",
              "      <th>2</th>\n",
              "      <td>1</td>\n",
              "      <td>0</td>\n",
              "      <td>0</td>\n",
              "      <td>0</td>\n",
              "      <td>0</td>\n",
              "    </tr>\n",
              "    <tr>\n",
              "      <th>13</th>\n",
              "      <td>1</td>\n",
              "      <td>0</td>\n",
              "      <td>0</td>\n",
              "      <td>0</td>\n",
              "      <td>0</td>\n",
              "    </tr>\n",
              "    <tr>\n",
              "      <th>14</th>\n",
              "      <td>1</td>\n",
              "      <td>0</td>\n",
              "      <td>0</td>\n",
              "      <td>0</td>\n",
              "      <td>0</td>\n",
              "    </tr>\n",
              "    <tr>\n",
              "      <th>26</th>\n",
              "      <td>1</td>\n",
              "      <td>0</td>\n",
              "      <td>0</td>\n",
              "      <td>0</td>\n",
              "      <td>0</td>\n",
              "    </tr>\n",
              "    <tr>\n",
              "      <th>32</th>\n",
              "      <td>1</td>\n",
              "      <td>0</td>\n",
              "      <td>0</td>\n",
              "      <td>0</td>\n",
              "      <td>0</td>\n",
              "    </tr>\n",
              "  </tbody>\n",
              "</table>\n",
              "</div>\n",
              "      <button class=\"colab-df-convert\" onclick=\"convertToInteractive('df-73e086df-851f-4b0e-8e9a-d7bb1edadaa6')\"\n",
              "              title=\"Convert this dataframe to an interactive table.\"\n",
              "              style=\"display:none;\">\n",
              "        \n",
              "  <svg xmlns=\"http://www.w3.org/2000/svg\" height=\"24px\"viewBox=\"0 0 24 24\"\n",
              "       width=\"24px\">\n",
              "    <path d=\"M0 0h24v24H0V0z\" fill=\"none\"/>\n",
              "    <path d=\"M18.56 5.44l.94 2.06.94-2.06 2.06-.94-2.06-.94-.94-2.06-.94 2.06-2.06.94zm-11 1L8.5 8.5l.94-2.06 2.06-.94-2.06-.94L8.5 2.5l-.94 2.06-2.06.94zm10 10l.94 2.06.94-2.06 2.06-.94-2.06-.94-.94-2.06-.94 2.06-2.06.94z\"/><path d=\"M17.41 7.96l-1.37-1.37c-.4-.4-.92-.59-1.43-.59-.52 0-1.04.2-1.43.59L10.3 9.45l-7.72 7.72c-.78.78-.78 2.05 0 2.83L4 21.41c.39.39.9.59 1.41.59.51 0 1.02-.2 1.41-.59l7.78-7.78 2.81-2.81c.8-.78.8-2.07 0-2.86zM5.41 20L4 18.59l7.72-7.72 1.47 1.35L5.41 20z\"/>\n",
              "  </svg>\n",
              "      </button>\n",
              "      \n",
              "  <style>\n",
              "    .colab-df-container {\n",
              "      display:flex;\n",
              "      flex-wrap:wrap;\n",
              "      gap: 12px;\n",
              "    }\n",
              "\n",
              "    .colab-df-convert {\n",
              "      background-color: #E8F0FE;\n",
              "      border: none;\n",
              "      border-radius: 50%;\n",
              "      cursor: pointer;\n",
              "      display: none;\n",
              "      fill: #1967D2;\n",
              "      height: 32px;\n",
              "      padding: 0 0 0 0;\n",
              "      width: 32px;\n",
              "    }\n",
              "\n",
              "    .colab-df-convert:hover {\n",
              "      background-color: #E2EBFA;\n",
              "      box-shadow: 0px 1px 2px rgba(60, 64, 67, 0.3), 0px 1px 3px 1px rgba(60, 64, 67, 0.15);\n",
              "      fill: #174EA6;\n",
              "    }\n",
              "\n",
              "    [theme=dark] .colab-df-convert {\n",
              "      background-color: #3B4455;\n",
              "      fill: #D2E3FC;\n",
              "    }\n",
              "\n",
              "    [theme=dark] .colab-df-convert:hover {\n",
              "      background-color: #434B5C;\n",
              "      box-shadow: 0px 1px 3px 1px rgba(0, 0, 0, 0.15);\n",
              "      filter: drop-shadow(0px 1px 2px rgba(0, 0, 0, 0.3));\n",
              "      fill: #FFFFFF;\n",
              "    }\n",
              "  </style>\n",
              "\n",
              "      <script>\n",
              "        const buttonEl =\n",
              "          document.querySelector('#df-73e086df-851f-4b0e-8e9a-d7bb1edadaa6 button.colab-df-convert');\n",
              "        buttonEl.style.display =\n",
              "          google.colab.kernel.accessAllowed ? 'block' : 'none';\n",
              "\n",
              "        async function convertToInteractive(key) {\n",
              "          const element = document.querySelector('#df-73e086df-851f-4b0e-8e9a-d7bb1edadaa6');\n",
              "          const dataTable =\n",
              "            await google.colab.kernel.invokeFunction('convertToInteractive',\n",
              "                                                     [key], {});\n",
              "          if (!dataTable) return;\n",
              "\n",
              "          const docLinkHtml = 'Like what you see? Visit the ' +\n",
              "            '<a target=\"_blank\" href=https://colab.research.google.com/notebooks/data_table.ipynb>data table notebook</a>'\n",
              "            + ' to learn more about interactive tables.';\n",
              "          element.innerHTML = '';\n",
              "          dataTable['output_type'] = 'display_data';\n",
              "          await google.colab.output.renderOutput(dataTable, element);\n",
              "          const docLink = document.createElement('div');\n",
              "          docLink.innerHTML = docLinkHtml;\n",
              "          element.appendChild(docLink);\n",
              "        }\n",
              "      </script>\n",
              "    </div>\n",
              "  </div>\n",
              "  "
            ]
          },
          "metadata": {},
          "execution_count": 8
        }
      ]
    },
    {
      "cell_type": "code",
      "source": [
        "data = df[df['v2a1'].isnull()]\n",
        "X=data[df.columns]\n",
        "for col in ['tipovivi1',\t'tipovivi2',\t'tipovivi3',\t'tipovivi4'\t,'tipovivi5']:\n",
        " print(col, '   ', X[col].unique())"
      ],
      "metadata": {
        "colab": {
          "base_uri": "https://localhost:8080/"
        },
        "id": "LYgNeYA8Bmxc",
        "outputId": "010a0fca-3155-47ba-cab0-babc9cb5dc7b"
      },
      "execution_count": 241,
      "outputs": [
        {
          "output_type": "stream",
          "name": "stdout",
          "text": [
            "tipovivi1     [1 0]\n",
            "tipovivi2     [0]\n",
            "tipovivi3     [0]\n",
            "tipovivi4     [0 1]\n",
            "tipovivi5     [0 1]\n"
          ]
        }
      ]
    },
    {
      "cell_type": "code",
      "source": [
        "X['tipovivi4'].value_counts()"
      ],
      "metadata": {
        "colab": {
          "base_uri": "https://localhost:8080/"
        },
        "id": "OB5gNeMzCyHa",
        "outputId": "ad6820dc-e015-4b48-f33e-74343153c291"
      },
      "execution_count": null,
      "outputs": [
        {
          "output_type": "execute_result",
          "data": {
            "text/plain": [
              "0    786\n",
              "1    163\n",
              "Name: tipovivi4, dtype: int64"
            ]
          },
          "metadata": {},
          "execution_count": 61
        }
      ]
    },
    {
      "cell_type": "code",
      "source": [
        "data2 = df[df['tipovivi1']==1]\n",
        "X2=data2[X.columns]\n",
        "X2.head()"
      ],
      "metadata": {
        "colab": {
          "base_uri": "https://localhost:8080/",
          "height": 206
        },
        "id": "MNAWQ_RrDrpm",
        "outputId": "5f2ec5dc-5705-40f0-93bf-906b31ed58d3"
      },
      "execution_count": null,
      "outputs": [
        {
          "output_type": "execute_result",
          "data": {
            "text/plain": [
              "    v2a1  tipovivi1  tipovivi2  tipovivi3  tipovivi4  tipovivi5\n",
              "2    NaN          1          0          0          0          0\n",
              "13   NaN          1          0          0          0          0\n",
              "14   NaN          1          0          0          0          0\n",
              "26   NaN          1          0          0          0          0\n",
              "32   NaN          1          0          0          0          0"
            ],
            "text/html": [
              "\n",
              "  <div id=\"df-b4da5162-212c-4db5-a87d-80d7b69f2461\">\n",
              "    <div class=\"colab-df-container\">\n",
              "      <div>\n",
              "<style scoped>\n",
              "    .dataframe tbody tr th:only-of-type {\n",
              "        vertical-align: middle;\n",
              "    }\n",
              "\n",
              "    .dataframe tbody tr th {\n",
              "        vertical-align: top;\n",
              "    }\n",
              "\n",
              "    .dataframe thead th {\n",
              "        text-align: right;\n",
              "    }\n",
              "</style>\n",
              "<table border=\"1\" class=\"dataframe\">\n",
              "  <thead>\n",
              "    <tr style=\"text-align: right;\">\n",
              "      <th></th>\n",
              "      <th>v2a1</th>\n",
              "      <th>tipovivi1</th>\n",
              "      <th>tipovivi2</th>\n",
              "      <th>tipovivi3</th>\n",
              "      <th>tipovivi4</th>\n",
              "      <th>tipovivi5</th>\n",
              "    </tr>\n",
              "  </thead>\n",
              "  <tbody>\n",
              "    <tr>\n",
              "      <th>2</th>\n",
              "      <td>NaN</td>\n",
              "      <td>1</td>\n",
              "      <td>0</td>\n",
              "      <td>0</td>\n",
              "      <td>0</td>\n",
              "      <td>0</td>\n",
              "    </tr>\n",
              "    <tr>\n",
              "      <th>13</th>\n",
              "      <td>NaN</td>\n",
              "      <td>1</td>\n",
              "      <td>0</td>\n",
              "      <td>0</td>\n",
              "      <td>0</td>\n",
              "      <td>0</td>\n",
              "    </tr>\n",
              "    <tr>\n",
              "      <th>14</th>\n",
              "      <td>NaN</td>\n",
              "      <td>1</td>\n",
              "      <td>0</td>\n",
              "      <td>0</td>\n",
              "      <td>0</td>\n",
              "      <td>0</td>\n",
              "    </tr>\n",
              "    <tr>\n",
              "      <th>26</th>\n",
              "      <td>NaN</td>\n",
              "      <td>1</td>\n",
              "      <td>0</td>\n",
              "      <td>0</td>\n",
              "      <td>0</td>\n",
              "      <td>0</td>\n",
              "    </tr>\n",
              "    <tr>\n",
              "      <th>32</th>\n",
              "      <td>NaN</td>\n",
              "      <td>1</td>\n",
              "      <td>0</td>\n",
              "      <td>0</td>\n",
              "      <td>0</td>\n",
              "      <td>0</td>\n",
              "    </tr>\n",
              "  </tbody>\n",
              "</table>\n",
              "</div>\n",
              "      <button class=\"colab-df-convert\" onclick=\"convertToInteractive('df-b4da5162-212c-4db5-a87d-80d7b69f2461')\"\n",
              "              title=\"Convert this dataframe to an interactive table.\"\n",
              "              style=\"display:none;\">\n",
              "        \n",
              "  <svg xmlns=\"http://www.w3.org/2000/svg\" height=\"24px\"viewBox=\"0 0 24 24\"\n",
              "       width=\"24px\">\n",
              "    <path d=\"M0 0h24v24H0V0z\" fill=\"none\"/>\n",
              "    <path d=\"M18.56 5.44l.94 2.06.94-2.06 2.06-.94-2.06-.94-.94-2.06-.94 2.06-2.06.94zm-11 1L8.5 8.5l.94-2.06 2.06-.94-2.06-.94L8.5 2.5l-.94 2.06-2.06.94zm10 10l.94 2.06.94-2.06 2.06-.94-2.06-.94-.94-2.06-.94 2.06-2.06.94z\"/><path d=\"M17.41 7.96l-1.37-1.37c-.4-.4-.92-.59-1.43-.59-.52 0-1.04.2-1.43.59L10.3 9.45l-7.72 7.72c-.78.78-.78 2.05 0 2.83L4 21.41c.39.39.9.59 1.41.59.51 0 1.02-.2 1.41-.59l7.78-7.78 2.81-2.81c.8-.78.8-2.07 0-2.86zM5.41 20L4 18.59l7.72-7.72 1.47 1.35L5.41 20z\"/>\n",
              "  </svg>\n",
              "      </button>\n",
              "      \n",
              "  <style>\n",
              "    .colab-df-container {\n",
              "      display:flex;\n",
              "      flex-wrap:wrap;\n",
              "      gap: 12px;\n",
              "    }\n",
              "\n",
              "    .colab-df-convert {\n",
              "      background-color: #E8F0FE;\n",
              "      border: none;\n",
              "      border-radius: 50%;\n",
              "      cursor: pointer;\n",
              "      display: none;\n",
              "      fill: #1967D2;\n",
              "      height: 32px;\n",
              "      padding: 0 0 0 0;\n",
              "      width: 32px;\n",
              "    }\n",
              "\n",
              "    .colab-df-convert:hover {\n",
              "      background-color: #E2EBFA;\n",
              "      box-shadow: 0px 1px 2px rgba(60, 64, 67, 0.3), 0px 1px 3px 1px rgba(60, 64, 67, 0.15);\n",
              "      fill: #174EA6;\n",
              "    }\n",
              "\n",
              "    [theme=dark] .colab-df-convert {\n",
              "      background-color: #3B4455;\n",
              "      fill: #D2E3FC;\n",
              "    }\n",
              "\n",
              "    [theme=dark] .colab-df-convert:hover {\n",
              "      background-color: #434B5C;\n",
              "      box-shadow: 0px 1px 3px 1px rgba(0, 0, 0, 0.15);\n",
              "      filter: drop-shadow(0px 1px 2px rgba(0, 0, 0, 0.3));\n",
              "      fill: #FFFFFF;\n",
              "    }\n",
              "  </style>\n",
              "\n",
              "      <script>\n",
              "        const buttonEl =\n",
              "          document.querySelector('#df-b4da5162-212c-4db5-a87d-80d7b69f2461 button.colab-df-convert');\n",
              "        buttonEl.style.display =\n",
              "          google.colab.kernel.accessAllowed ? 'block' : 'none';\n",
              "\n",
              "        async function convertToInteractive(key) {\n",
              "          const element = document.querySelector('#df-b4da5162-212c-4db5-a87d-80d7b69f2461');\n",
              "          const dataTable =\n",
              "            await google.colab.kernel.invokeFunction('convertToInteractive',\n",
              "                                                     [key], {});\n",
              "          if (!dataTable) return;\n",
              "\n",
              "          const docLinkHtml = 'Like what you see? Visit the ' +\n",
              "            '<a target=\"_blank\" href=https://colab.research.google.com/notebooks/data_table.ipynb>data table notebook</a>'\n",
              "            + ' to learn more about interactive tables.';\n",
              "          element.innerHTML = '';\n",
              "          dataTable['output_type'] = 'display_data';\n",
              "          await google.colab.output.renderOutput(dataTable, element);\n",
              "          const docLink = document.createElement('div');\n",
              "          docLink.innerHTML = docLinkHtml;\n",
              "          element.appendChild(docLink);\n",
              "        }\n",
              "      </script>\n",
              "    </div>\n",
              "  </div>\n",
              "  "
            ]
          },
          "metadata": {},
          "execution_count": 64
        }
      ]
    },
    {
      "cell_type": "code",
      "source": [
        "X2['tipovivi1'].value_counts()"
      ],
      "metadata": {
        "colab": {
          "base_uri": "https://localhost:8080/"
        },
        "id": "lkJMQt2Je54C",
        "outputId": "9872c72f-f871-426c-a10c-bdc3fcd44f02"
      },
      "execution_count": null,
      "outputs": [
        {
          "output_type": "execute_result",
          "data": {
            "text/plain": [
              "1    5911\n",
              "Name: tipovivi1, dtype: int64"
            ]
          },
          "metadata": {},
          "execution_count": 70
        }
      ]
    },
    {
      "cell_type": "code",
      "source": [
        "for col in ['v2a1','tipovivi1',\t'tipovivi2',\t'tipovivi3',\t'tipovivi4'\t,'tipovivi5']:\n",
        " print(col, '   ', X2[col].unique())"
      ],
      "metadata": {
        "colab": {
          "base_uri": "https://localhost:8080/"
        },
        "id": "-l34k52AFc4y",
        "outputId": "e3fa275e-0f10-4a58-8339-33489df96868"
      },
      "execution_count": null,
      "outputs": [
        {
          "output_type": "stream",
          "name": "stdout",
          "text": [
            "v2a1     [nan]\n",
            "tipovivi1     [1]\n",
            "tipovivi2     [0]\n",
            "tipovivi3     [0]\n",
            "tipovivi4     [0]\n",
            "tipovivi5     [0]\n"
          ]
        }
      ]
    },
    {
      "cell_type": "code",
      "source": [
        "# donc v2a1=0"
      ],
      "metadata": {
        "id": "A6BVNo39F8KQ"
      },
      "execution_count": null,
      "outputs": []
    },
    {
      "cell_type": "code",
      "source": [
        "data3 = df[df['tipovivi2']==0][df['tipovivi3']==0][df['tipovivi4']==0][df['tipovivi5']==0]\n",
        "X3=data3[columns]\n",
        "X3.head()"
      ],
      "metadata": {
        "colab": {
          "base_uri": "https://localhost:8080/",
          "height": 206
        },
        "id": "MW0TSdDnGVcA",
        "outputId": "c869ba76-f659-4b95-8167-c6800db3fbe5"
      },
      "execution_count": null,
      "outputs": [
        {
          "output_type": "execute_result",
          "data": {
            "text/plain": [
              "    v2a1  tipovivi1  tipovivi2  tipovivi3  tipovivi4  tipovivi5\n",
              "2    NaN          1          0          0          0          0\n",
              "13   NaN          1          0          0          0          0\n",
              "14   NaN          1          0          0          0          0\n",
              "26   NaN          1          0          0          0          0\n",
              "32   NaN          1          0          0          0          0"
            ],
            "text/html": [
              "\n",
              "  <div id=\"df-29a538fa-732c-47de-944a-87ec3603adcc\">\n",
              "    <div class=\"colab-df-container\">\n",
              "      <div>\n",
              "<style scoped>\n",
              "    .dataframe tbody tr th:only-of-type {\n",
              "        vertical-align: middle;\n",
              "    }\n",
              "\n",
              "    .dataframe tbody tr th {\n",
              "        vertical-align: top;\n",
              "    }\n",
              "\n",
              "    .dataframe thead th {\n",
              "        text-align: right;\n",
              "    }\n",
              "</style>\n",
              "<table border=\"1\" class=\"dataframe\">\n",
              "  <thead>\n",
              "    <tr style=\"text-align: right;\">\n",
              "      <th></th>\n",
              "      <th>v2a1</th>\n",
              "      <th>tipovivi1</th>\n",
              "      <th>tipovivi2</th>\n",
              "      <th>tipovivi3</th>\n",
              "      <th>tipovivi4</th>\n",
              "      <th>tipovivi5</th>\n",
              "    </tr>\n",
              "  </thead>\n",
              "  <tbody>\n",
              "    <tr>\n",
              "      <th>2</th>\n",
              "      <td>NaN</td>\n",
              "      <td>1</td>\n",
              "      <td>0</td>\n",
              "      <td>0</td>\n",
              "      <td>0</td>\n",
              "      <td>0</td>\n",
              "    </tr>\n",
              "    <tr>\n",
              "      <th>13</th>\n",
              "      <td>NaN</td>\n",
              "      <td>1</td>\n",
              "      <td>0</td>\n",
              "      <td>0</td>\n",
              "      <td>0</td>\n",
              "      <td>0</td>\n",
              "    </tr>\n",
              "    <tr>\n",
              "      <th>14</th>\n",
              "      <td>NaN</td>\n",
              "      <td>1</td>\n",
              "      <td>0</td>\n",
              "      <td>0</td>\n",
              "      <td>0</td>\n",
              "      <td>0</td>\n",
              "    </tr>\n",
              "    <tr>\n",
              "      <th>26</th>\n",
              "      <td>NaN</td>\n",
              "      <td>1</td>\n",
              "      <td>0</td>\n",
              "      <td>0</td>\n",
              "      <td>0</td>\n",
              "      <td>0</td>\n",
              "    </tr>\n",
              "    <tr>\n",
              "      <th>32</th>\n",
              "      <td>NaN</td>\n",
              "      <td>1</td>\n",
              "      <td>0</td>\n",
              "      <td>0</td>\n",
              "      <td>0</td>\n",
              "      <td>0</td>\n",
              "    </tr>\n",
              "  </tbody>\n",
              "</table>\n",
              "</div>\n",
              "      <button class=\"colab-df-convert\" onclick=\"convertToInteractive('df-29a538fa-732c-47de-944a-87ec3603adcc')\"\n",
              "              title=\"Convert this dataframe to an interactive table.\"\n",
              "              style=\"display:none;\">\n",
              "        \n",
              "  <svg xmlns=\"http://www.w3.org/2000/svg\" height=\"24px\"viewBox=\"0 0 24 24\"\n",
              "       width=\"24px\">\n",
              "    <path d=\"M0 0h24v24H0V0z\" fill=\"none\"/>\n",
              "    <path d=\"M18.56 5.44l.94 2.06.94-2.06 2.06-.94-2.06-.94-.94-2.06-.94 2.06-2.06.94zm-11 1L8.5 8.5l.94-2.06 2.06-.94-2.06-.94L8.5 2.5l-.94 2.06-2.06.94zm10 10l.94 2.06.94-2.06 2.06-.94-2.06-.94-.94-2.06-.94 2.06-2.06.94z\"/><path d=\"M17.41 7.96l-1.37-1.37c-.4-.4-.92-.59-1.43-.59-.52 0-1.04.2-1.43.59L10.3 9.45l-7.72 7.72c-.78.78-.78 2.05 0 2.83L4 21.41c.39.39.9.59 1.41.59.51 0 1.02-.2 1.41-.59l7.78-7.78 2.81-2.81c.8-.78.8-2.07 0-2.86zM5.41 20L4 18.59l7.72-7.72 1.47 1.35L5.41 20z\"/>\n",
              "  </svg>\n",
              "      </button>\n",
              "      \n",
              "  <style>\n",
              "    .colab-df-container {\n",
              "      display:flex;\n",
              "      flex-wrap:wrap;\n",
              "      gap: 12px;\n",
              "    }\n",
              "\n",
              "    .colab-df-convert {\n",
              "      background-color: #E8F0FE;\n",
              "      border: none;\n",
              "      border-radius: 50%;\n",
              "      cursor: pointer;\n",
              "      display: none;\n",
              "      fill: #1967D2;\n",
              "      height: 32px;\n",
              "      padding: 0 0 0 0;\n",
              "      width: 32px;\n",
              "    }\n",
              "\n",
              "    .colab-df-convert:hover {\n",
              "      background-color: #E2EBFA;\n",
              "      box-shadow: 0px 1px 2px rgba(60, 64, 67, 0.3), 0px 1px 3px 1px rgba(60, 64, 67, 0.15);\n",
              "      fill: #174EA6;\n",
              "    }\n",
              "\n",
              "    [theme=dark] .colab-df-convert {\n",
              "      background-color: #3B4455;\n",
              "      fill: #D2E3FC;\n",
              "    }\n",
              "\n",
              "    [theme=dark] .colab-df-convert:hover {\n",
              "      background-color: #434B5C;\n",
              "      box-shadow: 0px 1px 3px 1px rgba(0, 0, 0, 0.15);\n",
              "      filter: drop-shadow(0px 1px 2px rgba(0, 0, 0, 0.3));\n",
              "      fill: #FFFFFF;\n",
              "    }\n",
              "  </style>\n",
              "\n",
              "      <script>\n",
              "        const buttonEl =\n",
              "          document.querySelector('#df-29a538fa-732c-47de-944a-87ec3603adcc button.colab-df-convert');\n",
              "        buttonEl.style.display =\n",
              "          google.colab.kernel.accessAllowed ? 'block' : 'none';\n",
              "\n",
              "        async function convertToInteractive(key) {\n",
              "          const element = document.querySelector('#df-29a538fa-732c-47de-944a-87ec3603adcc');\n",
              "          const dataTable =\n",
              "            await google.colab.kernel.invokeFunction('convertToInteractive',\n",
              "                                                     [key], {});\n",
              "          if (!dataTable) return;\n",
              "\n",
              "          const docLinkHtml = 'Like what you see? Visit the ' +\n",
              "            '<a target=\"_blank\" href=https://colab.research.google.com/notebooks/data_table.ipynb>data table notebook</a>'\n",
              "            + ' to learn more about interactive tables.';\n",
              "          element.innerHTML = '';\n",
              "          dataTable['output_type'] = 'display_data';\n",
              "          await google.colab.output.renderOutput(dataTable, element);\n",
              "          const docLink = document.createElement('div');\n",
              "          docLink.innerHTML = docLinkHtml;\n",
              "          element.appendChild(docLink);\n",
              "        }\n",
              "      </script>\n",
              "    </div>\n",
              "  </div>\n",
              "  "
            ]
          },
          "metadata": {},
          "execution_count": 46
        }
      ]
    },
    {
      "cell_type": "code",
      "source": [
        "for col in ['v2a1','tipovivi1',\t'tipovivi2',\t'tipovivi3',\t'tipovivi4'\t,'tipovivi5']:\n",
        " print(col, '   ', X3[col].unique())"
      ],
      "metadata": {
        "colab": {
          "base_uri": "https://localhost:8080/"
        },
        "id": "3gw0A3FYGfjn",
        "outputId": "c126b7f3-7a7e-421a-c7cd-43ac27d5bd35"
      },
      "execution_count": null,
      "outputs": [
        {
          "output_type": "stream",
          "name": "stdout",
          "text": [
            "v2a1     [nan]\n",
            "tipovivi1     [1]\n",
            "tipovivi2     [0]\n",
            "tipovivi3     [0]\n",
            "tipovivi4     [0]\n",
            "tipovivi5     [0]\n"
          ]
        }
      ]
    },
    {
      "cell_type": "code",
      "source": [
        "X=df[['v2a1','tipovivi1',\t'tipovivi2',\t'tipovivi3',\t'tipovivi4'\t,'tipovivi5']]\n",
        "X=X[X['v2a1'].isna()]\n",
        "X.shape"
      ],
      "metadata": {
        "colab": {
          "base_uri": "https://localhost:8080/"
        },
        "id": "RsOtJgHEgbu4",
        "outputId": "b7ca4c05-9b94-40b8-c155-8e23ca7dd8a2"
      },
      "execution_count": null,
      "outputs": [
        {
          "output_type": "execute_result",
          "data": {
            "text/plain": [
              "(6860, 6)"
            ]
          },
          "metadata": {},
          "execution_count": 72
        }
      ]
    },
    {
      "cell_type": "code",
      "source": [
        "X=df[['v2a1','tipovivi1',\t'tipovivi2',\t'tipovivi3',\t'tipovivi4'\t,'tipovivi5','Target']]\n",
        "X=X[X['v2a1'].isna()]\n",
        "ll=[]\n",
        "for col in X.columns:\n",
        "  ll.append((col,X[col].unique()))\n",
        "ll"
      ],
      "metadata": {
        "colab": {
          "base_uri": "https://localhost:8080/"
        },
        "id": "8CBz6zobU7qC",
        "outputId": "25e69ead-1a4a-408f-8901-4a2bc9bc0c56"
      },
      "execution_count": 242,
      "outputs": [
        {
          "output_type": "execute_result",
          "data": {
            "text/plain": [
              "[('v2a1', array([nan])),\n",
              " ('tipovivi1', array([1, 0])),\n",
              " ('tipovivi2', array([0])),\n",
              " ('tipovivi3', array([0])),\n",
              " ('tipovivi4', array([0, 1])),\n",
              " ('tipovivi5', array([0, 1])),\n",
              " ('Target', array([4, 2, 3, 1]))]"
            ]
          },
          "metadata": {},
          "execution_count": 242
        }
      ]
    },
    {
      "cell_type": "code",
      "source": [
        "X=X[X['tipovivi1']==0]\n",
        "ll=[]\n",
        "for col in X.columns:\n",
        "  ll.append((col,X[col].unique()))\n",
        "ll"
      ],
      "metadata": {
        "colab": {
          "base_uri": "https://localhost:8080/"
        },
        "id": "BMlB4vmwX7O7",
        "outputId": "b8d5faab-8c3e-4902-d4d0-509a10981125"
      },
      "execution_count": null,
      "outputs": [
        {
          "output_type": "execute_result",
          "data": {
            "text/plain": [
              "[('v2a1', array([nan])),\n",
              " ('tipovivi1', array([0])),\n",
              " ('tipovivi2', array([0])),\n",
              " ('tipovivi3', array([0])),\n",
              " ('tipovivi4', array([0, 1])),\n",
              " ('tipovivi5', array([1, 0]))]"
            ]
          },
          "metadata": {},
          "execution_count": 73
        }
      ]
    },
    {
      "cell_type": "code",
      "source": [
        "#resultat = maTable.groupby('animal')['ID'].nunique()"
      ],
      "metadata": {
        "id": "t_t6tQvfcIkQ"
      },
      "execution_count": null,
      "outputs": []
    },
    {
      "cell_type": "code",
      "source": [
        "df.shape"
      ],
      "metadata": {
        "colab": {
          "base_uri": "https://localhost:8080/"
        },
        "id": "uaX99ajN77iZ",
        "outputId": "fcb82076-e52a-4e92-8dc0-7e06be67694f"
      },
      "execution_count": null,
      "outputs": [
        {
          "output_type": "execute_result",
          "data": {
            "text/plain": [
              "(9557, 143)"
            ]
          },
          "metadata": {},
          "execution_count": 161
        }
      ]
    },
    {
      "cell_type": "code",
      "source": [
        "===========================================rez_esc============================================"
      ],
      "metadata": {
        "id": "rrduEqIg8K_o"
      },
      "execution_count": null,
      "outputs": []
    },
    {
      "cell_type": "code",
      "source": [
        "data = df[df['rez_esc'].isnull()]\n",
        "columns=['rez_esc','area2','age','edjefa']\n",
        "X=data[columns]\n",
        "X"
      ],
      "metadata": {
        "colab": {
          "base_uri": "https://localhost:8080/",
          "height": 423
        },
        "id": "6qWghKdE8Tho",
        "outputId": "45c943d1-1516-4096-bd32-732c4a74949f"
      },
      "execution_count": null,
      "outputs": [
        {
          "output_type": "execute_result",
          "data": {
            "text/plain": [
              "      rez_esc  area2  age edjefa\n",
              "0         NaN      0   43     no\n",
              "1         NaN      0   67     no\n",
              "2         NaN      0   92     11\n",
              "4         NaN      0   37     no\n",
              "5         NaN      0   38     no\n",
              "...       ...    ...  ...    ...\n",
              "9552      NaN      1   46     no\n",
              "9553      NaN      1    2     no\n",
              "9554      NaN      1   50     no\n",
              "9555      NaN      1   26     no\n",
              "9556      NaN      1   21     no\n",
              "\n",
              "[7928 rows x 4 columns]"
            ],
            "text/html": [
              "\n",
              "  <div id=\"df-cd434325-a6be-44e5-a065-b93dc0fe985f\">\n",
              "    <div class=\"colab-df-container\">\n",
              "      <div>\n",
              "<style scoped>\n",
              "    .dataframe tbody tr th:only-of-type {\n",
              "        vertical-align: middle;\n",
              "    }\n",
              "\n",
              "    .dataframe tbody tr th {\n",
              "        vertical-align: top;\n",
              "    }\n",
              "\n",
              "    .dataframe thead th {\n",
              "        text-align: right;\n",
              "    }\n",
              "</style>\n",
              "<table border=\"1\" class=\"dataframe\">\n",
              "  <thead>\n",
              "    <tr style=\"text-align: right;\">\n",
              "      <th></th>\n",
              "      <th>rez_esc</th>\n",
              "      <th>area2</th>\n",
              "      <th>age</th>\n",
              "      <th>edjefa</th>\n",
              "    </tr>\n",
              "  </thead>\n",
              "  <tbody>\n",
              "    <tr>\n",
              "      <th>0</th>\n",
              "      <td>NaN</td>\n",
              "      <td>0</td>\n",
              "      <td>43</td>\n",
              "      <td>no</td>\n",
              "    </tr>\n",
              "    <tr>\n",
              "      <th>1</th>\n",
              "      <td>NaN</td>\n",
              "      <td>0</td>\n",
              "      <td>67</td>\n",
              "      <td>no</td>\n",
              "    </tr>\n",
              "    <tr>\n",
              "      <th>2</th>\n",
              "      <td>NaN</td>\n",
              "      <td>0</td>\n",
              "      <td>92</td>\n",
              "      <td>11</td>\n",
              "    </tr>\n",
              "    <tr>\n",
              "      <th>4</th>\n",
              "      <td>NaN</td>\n",
              "      <td>0</td>\n",
              "      <td>37</td>\n",
              "      <td>no</td>\n",
              "    </tr>\n",
              "    <tr>\n",
              "      <th>5</th>\n",
              "      <td>NaN</td>\n",
              "      <td>0</td>\n",
              "      <td>38</td>\n",
              "      <td>no</td>\n",
              "    </tr>\n",
              "    <tr>\n",
              "      <th>...</th>\n",
              "      <td>...</td>\n",
              "      <td>...</td>\n",
              "      <td>...</td>\n",
              "      <td>...</td>\n",
              "    </tr>\n",
              "    <tr>\n",
              "      <th>9552</th>\n",
              "      <td>NaN</td>\n",
              "      <td>1</td>\n",
              "      <td>46</td>\n",
              "      <td>no</td>\n",
              "    </tr>\n",
              "    <tr>\n",
              "      <th>9553</th>\n",
              "      <td>NaN</td>\n",
              "      <td>1</td>\n",
              "      <td>2</td>\n",
              "      <td>no</td>\n",
              "    </tr>\n",
              "    <tr>\n",
              "      <th>9554</th>\n",
              "      <td>NaN</td>\n",
              "      <td>1</td>\n",
              "      <td>50</td>\n",
              "      <td>no</td>\n",
              "    </tr>\n",
              "    <tr>\n",
              "      <th>9555</th>\n",
              "      <td>NaN</td>\n",
              "      <td>1</td>\n",
              "      <td>26</td>\n",
              "      <td>no</td>\n",
              "    </tr>\n",
              "    <tr>\n",
              "      <th>9556</th>\n",
              "      <td>NaN</td>\n",
              "      <td>1</td>\n",
              "      <td>21</td>\n",
              "      <td>no</td>\n",
              "    </tr>\n",
              "  </tbody>\n",
              "</table>\n",
              "<p>7928 rows × 4 columns</p>\n",
              "</div>\n",
              "      <button class=\"colab-df-convert\" onclick=\"convertToInteractive('df-cd434325-a6be-44e5-a065-b93dc0fe985f')\"\n",
              "              title=\"Convert this dataframe to an interactive table.\"\n",
              "              style=\"display:none;\">\n",
              "        \n",
              "  <svg xmlns=\"http://www.w3.org/2000/svg\" height=\"24px\"viewBox=\"0 0 24 24\"\n",
              "       width=\"24px\">\n",
              "    <path d=\"M0 0h24v24H0V0z\" fill=\"none\"/>\n",
              "    <path d=\"M18.56 5.44l.94 2.06.94-2.06 2.06-.94-2.06-.94-.94-2.06-.94 2.06-2.06.94zm-11 1L8.5 8.5l.94-2.06 2.06-.94-2.06-.94L8.5 2.5l-.94 2.06-2.06.94zm10 10l.94 2.06.94-2.06 2.06-.94-2.06-.94-.94-2.06-.94 2.06-2.06.94z\"/><path d=\"M17.41 7.96l-1.37-1.37c-.4-.4-.92-.59-1.43-.59-.52 0-1.04.2-1.43.59L10.3 9.45l-7.72 7.72c-.78.78-.78 2.05 0 2.83L4 21.41c.39.39.9.59 1.41.59.51 0 1.02-.2 1.41-.59l7.78-7.78 2.81-2.81c.8-.78.8-2.07 0-2.86zM5.41 20L4 18.59l7.72-7.72 1.47 1.35L5.41 20z\"/>\n",
              "  </svg>\n",
              "      </button>\n",
              "      \n",
              "  <style>\n",
              "    .colab-df-container {\n",
              "      display:flex;\n",
              "      flex-wrap:wrap;\n",
              "      gap: 12px;\n",
              "    }\n",
              "\n",
              "    .colab-df-convert {\n",
              "      background-color: #E8F0FE;\n",
              "      border: none;\n",
              "      border-radius: 50%;\n",
              "      cursor: pointer;\n",
              "      display: none;\n",
              "      fill: #1967D2;\n",
              "      height: 32px;\n",
              "      padding: 0 0 0 0;\n",
              "      width: 32px;\n",
              "    }\n",
              "\n",
              "    .colab-df-convert:hover {\n",
              "      background-color: #E2EBFA;\n",
              "      box-shadow: 0px 1px 2px rgba(60, 64, 67, 0.3), 0px 1px 3px 1px rgba(60, 64, 67, 0.15);\n",
              "      fill: #174EA6;\n",
              "    }\n",
              "\n",
              "    [theme=dark] .colab-df-convert {\n",
              "      background-color: #3B4455;\n",
              "      fill: #D2E3FC;\n",
              "    }\n",
              "\n",
              "    [theme=dark] .colab-df-convert:hover {\n",
              "      background-color: #434B5C;\n",
              "      box-shadow: 0px 1px 3px 1px rgba(0, 0, 0, 0.15);\n",
              "      filter: drop-shadow(0px 1px 2px rgba(0, 0, 0, 0.3));\n",
              "      fill: #FFFFFF;\n",
              "    }\n",
              "  </style>\n",
              "\n",
              "      <script>\n",
              "        const buttonEl =\n",
              "          document.querySelector('#df-cd434325-a6be-44e5-a065-b93dc0fe985f button.colab-df-convert');\n",
              "        buttonEl.style.display =\n",
              "          google.colab.kernel.accessAllowed ? 'block' : 'none';\n",
              "\n",
              "        async function convertToInteractive(key) {\n",
              "          const element = document.querySelector('#df-cd434325-a6be-44e5-a065-b93dc0fe985f');\n",
              "          const dataTable =\n",
              "            await google.colab.kernel.invokeFunction('convertToInteractive',\n",
              "                                                     [key], {});\n",
              "          if (!dataTable) return;\n",
              "\n",
              "          const docLinkHtml = 'Like what you see? Visit the ' +\n",
              "            '<a target=\"_blank\" href=https://colab.research.google.com/notebooks/data_table.ipynb>data table notebook</a>'\n",
              "            + ' to learn more about interactive tables.';\n",
              "          element.innerHTML = '';\n",
              "          dataTable['output_type'] = 'display_data';\n",
              "          await google.colab.output.renderOutput(dataTable, element);\n",
              "          const docLink = document.createElement('div');\n",
              "          docLink.innerHTML = docLinkHtml;\n",
              "          element.appendChild(docLink);\n",
              "        }\n",
              "      </script>\n",
              "    </div>\n",
              "  </div>\n",
              "  "
            ]
          },
          "metadata": {},
          "execution_count": 178
        }
      ]
    },
    {
      "cell_type": "code",
      "source": [
        "for col in columns:\n",
        " print(col, '   ', X[col].unique())"
      ],
      "metadata": {
        "colab": {
          "base_uri": "https://localhost:8080/"
        },
        "id": "RgodS6n58nA5",
        "outputId": "ad3de7c5-8eba-4823-92e2-49fa62cab559"
      },
      "execution_count": null,
      "outputs": [
        {
          "output_type": "stream",
          "name": "stdout",
          "text": [
            "rez_esc     [nan]\n",
            "area2     [0 1]\n",
            "lugar2     [0 1]\n",
            "edjefa     ['no' '11' '4' '10' '9' '15' '7' '14' '13' '8' '17' '6' '5' '3' '16' '19'\n",
            " 'yes' '21' '12' '2' '20' '18']\n"
          ]
        }
      ]
    },
    {
      "cell_type": "code",
      "source": [
        "X['age'].value_counts()"
      ],
      "metadata": {
        "id": "FoK6uWwu86sr"
      },
      "execution_count": null,
      "outputs": []
    },
    {
      "cell_type": "code",
      "source": [
        "df[df['age']>17]['rez_esc'].value_counts()  # age > 17 ==> rez_esc==nan"
      ],
      "metadata": {
        "colab": {
          "base_uri": "https://localhost:8080/"
        },
        "id": "QAHX5SLqBk8J",
        "outputId": "1f58f4e1-b56a-4413-fea5-c4f09b25f6f9"
      },
      "execution_count": null,
      "outputs": [
        {
          "output_type": "execute_result",
          "data": {
            "text/plain": [
              "Series([], Name: rez_esc, dtype: int64)"
            ]
          },
          "metadata": {},
          "execution_count": 221
        }
      ]
    },
    {
      "cell_type": "code",
      "source": [
        "df[df['age']<7]['rez_esc'].value_counts()  # age < 7 ==> rez_esc==nan"
      ],
      "metadata": {
        "colab": {
          "base_uri": "https://localhost:8080/"
        },
        "id": "a0Zfa1FMFDN5",
        "outputId": "f51f1ea5-f496-4870-e93b-e358d2511a72"
      },
      "execution_count": null,
      "outputs": [
        {
          "output_type": "execute_result",
          "data": {
            "text/plain": [
              "Series([], Name: rez_esc, dtype: int64)"
            ]
          },
          "metadata": {},
          "execution_count": 225
        }
      ]
    },
    {
      "cell_type": "code",
      "source": [
        "Z=df.loc[(df['rez_esc'].isnull() & ((df['age'] > 7) & (df['age'] < 11)))]['age']\n",
        "Z"
      ],
      "metadata": {
        "colab": {
          "base_uri": "https://localhost:8080/"
        },
        "id": "MtpdqFb3DSQ7",
        "outputId": "6ef22343-8e64-4229-dee8-c8e3d2992124"
      },
      "execution_count": null,
      "outputs": [
        {
          "output_type": "execute_result",
          "data": {
            "text/plain": [
              "2514    10\n",
              "Name: age, dtype: int64"
            ]
          },
          "metadata": {},
          "execution_count": 226
        }
      ]
    },
    {
      "cell_type": "code",
      "source": [
        "df[df['age']==10]['rez_esc'].value_counts() "
      ],
      "metadata": {
        "colab": {
          "base_uri": "https://localhost:8080/"
        },
        "id": "sStSwZj1Fo22",
        "outputId": "21d5b933-b1c7-422d-cae1-a89d91d812f4"
      },
      "execution_count": null,
      "outputs": [
        {
          "output_type": "execute_result",
          "data": {
            "text/plain": [
              "0.0    116\n",
              "1.0     20\n",
              "3.0      1\n",
              "Name: rez_esc, dtype: int64"
            ]
          },
          "metadata": {},
          "execution_count": 227
        }
      ]
    },
    {
      "cell_type": "code",
      "source": [
        "X=df[df['age']==10]  # len=138\n",
        "len(X)"
      ],
      "metadata": {
        "colab": {
          "base_uri": "https://localhost:8080/"
        },
        "id": "3Z1Td1NUHg1q",
        "outputId": "8696c198-d4ae-424b-af40-8af31d4e857d"
      },
      "execution_count": null,
      "outputs": [
        {
          "output_type": "execute_result",
          "data": {
            "text/plain": [
              "138"
            ]
          },
          "metadata": {},
          "execution_count": 246
        }
      ]
    },
    {
      "cell_type": "code",
      "source": [
        "Y=X[X['instlevel1']==1]\n",
        "len(Y)"
      ],
      "metadata": {
        "colab": {
          "base_uri": "https://localhost:8080/"
        },
        "id": "wfn78YPVJ3cJ",
        "outputId": "90f43499-08cb-4b30-d84c-69affadf42d4"
      },
      "execution_count": null,
      "outputs": [
        {
          "output_type": "execute_result",
          "data": {
            "text/plain": [
              "2"
            ]
          },
          "metadata": {},
          "execution_count": 254
        }
      ]
    },
    {
      "cell_type": "code",
      "source": [
        "Y['rez_esc']"
      ],
      "metadata": {
        "colab": {
          "base_uri": "https://localhost:8080/"
        },
        "id": "yBNFK2hoKJ6C",
        "outputId": "7a0f0e80-ca8a-46ef-e4c8-8a95a670b442"
      },
      "execution_count": null,
      "outputs": [
        {
          "output_type": "execute_result",
          "data": {
            "text/plain": [
              "2514    NaN\n",
              "9347    3.0\n",
              "Name: rez_esc, dtype: float64"
            ]
          },
          "metadata": {},
          "execution_count": 255
        }
      ]
    },
    {
      "cell_type": "code",
      "source": [
        "X['area2'].value_counts() "
      ],
      "metadata": {
        "colab": {
          "base_uri": "https://localhost:8080/"
        },
        "id": "AQTEYmYuH_31",
        "outputId": "6f036aeb-9b63-4fe3-b667-b0c7eb97b979"
      },
      "execution_count": null,
      "outputs": [
        {
          "output_type": "execute_result",
          "data": {
            "text/plain": [
              "0    91\n",
              "1    47\n",
              "Name: area2, dtype: int64"
            ]
          },
          "metadata": {},
          "execution_count": 249
        }
      ]
    },
    {
      "cell_type": "code",
      "source": [
        "df.index"
      ],
      "metadata": {
        "colab": {
          "base_uri": "https://localhost:8080/"
        },
        "id": "CMoPn_ixFyBQ",
        "outputId": "004250d0-bcc3-4f8a-fc34-7e4a7ed94600"
      },
      "execution_count": null,
      "outputs": [
        {
          "output_type": "execute_result",
          "data": {
            "text/plain": [
              "RangeIndex(start=0, stop=9557, step=1)"
            ]
          },
          "metadata": {},
          "execution_count": 230
        }
      ]
    },
    {
      "cell_type": "code",
      "source": [
        "df.loc[2514:2514,:]['rez_esc']"
      ],
      "metadata": {
        "colab": {
          "base_uri": "https://localhost:8080/"
        },
        "id": "HnI0P4NXGQ8R",
        "outputId": "a1d562cc-3132-4fc5-8fb7-7fba147171d0"
      },
      "execution_count": null,
      "outputs": [
        {
          "output_type": "execute_result",
          "data": {
            "text/plain": [
              "2514   NaN\n",
              "Name: rez_esc, dtype: float64"
            ]
          },
          "metadata": {},
          "execution_count": 241
        }
      ]
    },
    {
      "cell_type": "code",
      "source": [
        "df.loc[2514:2514,:]   # instlevel1, =1 no level of education"
      ],
      "metadata": {
        "colab": {
          "base_uri": "https://localhost:8080/",
          "height": 145
        },
        "id": "-Gcm-sevHdEJ",
        "outputId": "77ffb428-148e-4238-8928-e47d0af8e7cf"
      },
      "execution_count": null,
      "outputs": [
        {
          "output_type": "execute_result",
          "data": {
            "text/plain": [
              "                Id      v2a1  hacdor  rooms  hacapo  v14a  refrig  v18q  \\\n",
              "2514  ID_f012e4242  160000.0       0      6       0     1       1     1   \n",
              "\n",
              "      v18q1  r4h1  r4h2  r4h3  r4m1  r4m2  r4m3  r4t1  r4t2  r4t3  tamhog  \\\n",
              "2514    1.0     0     1     1     1     1     2     1     2     3       3   \n",
              "\n",
              "      tamviv  escolari  rez_esc  hhsize  paredblolad  paredzocalo  paredpreb  \\\n",
              "2514       3         0      NaN       3            1            0          0   \n",
              "\n",
              "      pareddes  paredmad  paredzinc  paredfibras  paredother  pisomoscer  \\\n",
              "2514         0         0          0            0           0           1   \n",
              "\n",
              "      pisocemento  pisoother  pisonatur  pisonotiene  pisomadera  techozinc  \\\n",
              "2514            0          0          0            0           0          1   \n",
              "\n",
              "      techoentrepiso  techocane  techootro  cielorazo  abastaguadentro  \\\n",
              "2514               0          0          0          1                1   \n",
              "\n",
              "      abastaguafuera  abastaguano  public  planpri  noelec  coopele  \\\n",
              "2514               0            0       1        0       0        0   \n",
              "\n",
              "      sanitario1  sanitario2  sanitario3  sanitario5  sanitario6  \\\n",
              "2514           0           0           1           0           0   \n",
              "\n",
              "      energcocinar1  energcocinar2  energcocinar3  energcocinar4  elimbasu1  \\\n",
              "2514              0              0              1              0          1   \n",
              "\n",
              "      elimbasu2  elimbasu3  elimbasu4  elimbasu5  elimbasu6  epared1  epared2  \\\n",
              "2514          0          0          0          0          0        0        0   \n",
              "\n",
              "      epared3  etecho1  etecho2  etecho3  eviv1  eviv2  eviv3  dis  male  \\\n",
              "2514        1        0        1        0      0      0      1    1     0   \n",
              "\n",
              "      female  estadocivil1  estadocivil2  estadocivil3  estadocivil4  \\\n",
              "2514       1             0             0             0             0   \n",
              "\n",
              "      estadocivil5  estadocivil6  estadocivil7  parentesco1  parentesco2  \\\n",
              "2514             0             0             1            0            0   \n",
              "\n",
              "      parentesco3  parentesco4  parentesco5  parentesco6  parentesco7  \\\n",
              "2514            1            0            0            0            0   \n",
              "\n",
              "      parentesco8  parentesco9  parentesco10  parentesco11  parentesco12  \\\n",
              "2514            0            0             0             0             0   \n",
              "\n",
              "        idhogar  hogar_nin  hogar_adul  hogar_mayor  hogar_total dependency  \\\n",
              "2514  0369a5d78          1           2            0            3         .5   \n",
              "\n",
              "     edjefe edjefa  meaneduc  instlevel1  instlevel2  instlevel3  instlevel4  \\\n",
              "2514     11     no      13.5           1           0           0           0   \n",
              "\n",
              "      instlevel5  instlevel6  instlevel7  instlevel8  instlevel9  bedrooms  \\\n",
              "2514           0           0           0           0           0         2   \n",
              "\n",
              "      overcrowding  tipovivi1  tipovivi2  tipovivi3  tipovivi4  tipovivi5  \\\n",
              "2514           1.5          0          1          0          0          0   \n",
              "\n",
              "      computer  television  mobilephone  qmobilephone  lugar1  lugar2  lugar3  \\\n",
              "2514         1           0            1             2       1       0       0   \n",
              "\n",
              "      lugar4  lugar5  lugar6  area1  area2  age  SQBescolari  SQBage  \\\n",
              "2514       0       0       0      1      0   10            0     100   \n",
              "\n",
              "      SQBhogar_total  SQBedjefe  SQBhogar_nin  SQBovercrowding  SQBdependency  \\\n",
              "2514               9        121             1             2.25           0.25   \n",
              "\n",
              "      SQBmeaned  agesq  Target  \n",
              "2514     182.25    100       4  "
            ],
            "text/html": [
              "\n",
              "  <div id=\"df-3b66027a-eab3-4130-b7f6-a260cfe4bf33\">\n",
              "    <div class=\"colab-df-container\">\n",
              "      <div>\n",
              "<style scoped>\n",
              "    .dataframe tbody tr th:only-of-type {\n",
              "        vertical-align: middle;\n",
              "    }\n",
              "\n",
              "    .dataframe tbody tr th {\n",
              "        vertical-align: top;\n",
              "    }\n",
              "\n",
              "    .dataframe thead th {\n",
              "        text-align: right;\n",
              "    }\n",
              "</style>\n",
              "<table border=\"1\" class=\"dataframe\">\n",
              "  <thead>\n",
              "    <tr style=\"text-align: right;\">\n",
              "      <th></th>\n",
              "      <th>Id</th>\n",
              "      <th>v2a1</th>\n",
              "      <th>hacdor</th>\n",
              "      <th>rooms</th>\n",
              "      <th>hacapo</th>\n",
              "      <th>v14a</th>\n",
              "      <th>refrig</th>\n",
              "      <th>v18q</th>\n",
              "      <th>v18q1</th>\n",
              "      <th>r4h1</th>\n",
              "      <th>r4h2</th>\n",
              "      <th>r4h3</th>\n",
              "      <th>r4m1</th>\n",
              "      <th>r4m2</th>\n",
              "      <th>r4m3</th>\n",
              "      <th>r4t1</th>\n",
              "      <th>r4t2</th>\n",
              "      <th>r4t3</th>\n",
              "      <th>tamhog</th>\n",
              "      <th>tamviv</th>\n",
              "      <th>escolari</th>\n",
              "      <th>rez_esc</th>\n",
              "      <th>hhsize</th>\n",
              "      <th>paredblolad</th>\n",
              "      <th>paredzocalo</th>\n",
              "      <th>paredpreb</th>\n",
              "      <th>pareddes</th>\n",
              "      <th>paredmad</th>\n",
              "      <th>paredzinc</th>\n",
              "      <th>paredfibras</th>\n",
              "      <th>paredother</th>\n",
              "      <th>pisomoscer</th>\n",
              "      <th>pisocemento</th>\n",
              "      <th>pisoother</th>\n",
              "      <th>pisonatur</th>\n",
              "      <th>pisonotiene</th>\n",
              "      <th>pisomadera</th>\n",
              "      <th>techozinc</th>\n",
              "      <th>techoentrepiso</th>\n",
              "      <th>techocane</th>\n",
              "      <th>techootro</th>\n",
              "      <th>cielorazo</th>\n",
              "      <th>abastaguadentro</th>\n",
              "      <th>abastaguafuera</th>\n",
              "      <th>abastaguano</th>\n",
              "      <th>public</th>\n",
              "      <th>planpri</th>\n",
              "      <th>noelec</th>\n",
              "      <th>coopele</th>\n",
              "      <th>sanitario1</th>\n",
              "      <th>sanitario2</th>\n",
              "      <th>sanitario3</th>\n",
              "      <th>sanitario5</th>\n",
              "      <th>sanitario6</th>\n",
              "      <th>energcocinar1</th>\n",
              "      <th>energcocinar2</th>\n",
              "      <th>energcocinar3</th>\n",
              "      <th>energcocinar4</th>\n",
              "      <th>elimbasu1</th>\n",
              "      <th>elimbasu2</th>\n",
              "      <th>elimbasu3</th>\n",
              "      <th>elimbasu4</th>\n",
              "      <th>elimbasu5</th>\n",
              "      <th>elimbasu6</th>\n",
              "      <th>epared1</th>\n",
              "      <th>epared2</th>\n",
              "      <th>epared3</th>\n",
              "      <th>etecho1</th>\n",
              "      <th>etecho2</th>\n",
              "      <th>etecho3</th>\n",
              "      <th>eviv1</th>\n",
              "      <th>eviv2</th>\n",
              "      <th>eviv3</th>\n",
              "      <th>dis</th>\n",
              "      <th>male</th>\n",
              "      <th>female</th>\n",
              "      <th>estadocivil1</th>\n",
              "      <th>estadocivil2</th>\n",
              "      <th>estadocivil3</th>\n",
              "      <th>estadocivil4</th>\n",
              "      <th>estadocivil5</th>\n",
              "      <th>estadocivil6</th>\n",
              "      <th>estadocivil7</th>\n",
              "      <th>parentesco1</th>\n",
              "      <th>parentesco2</th>\n",
              "      <th>parentesco3</th>\n",
              "      <th>parentesco4</th>\n",
              "      <th>parentesco5</th>\n",
              "      <th>parentesco6</th>\n",
              "      <th>parentesco7</th>\n",
              "      <th>parentesco8</th>\n",
              "      <th>parentesco9</th>\n",
              "      <th>parentesco10</th>\n",
              "      <th>parentesco11</th>\n",
              "      <th>parentesco12</th>\n",
              "      <th>idhogar</th>\n",
              "      <th>hogar_nin</th>\n",
              "      <th>hogar_adul</th>\n",
              "      <th>hogar_mayor</th>\n",
              "      <th>hogar_total</th>\n",
              "      <th>dependency</th>\n",
              "      <th>edjefe</th>\n",
              "      <th>edjefa</th>\n",
              "      <th>meaneduc</th>\n",
              "      <th>instlevel1</th>\n",
              "      <th>instlevel2</th>\n",
              "      <th>instlevel3</th>\n",
              "      <th>instlevel4</th>\n",
              "      <th>instlevel5</th>\n",
              "      <th>instlevel6</th>\n",
              "      <th>instlevel7</th>\n",
              "      <th>instlevel8</th>\n",
              "      <th>instlevel9</th>\n",
              "      <th>bedrooms</th>\n",
              "      <th>overcrowding</th>\n",
              "      <th>tipovivi1</th>\n",
              "      <th>tipovivi2</th>\n",
              "      <th>tipovivi3</th>\n",
              "      <th>tipovivi4</th>\n",
              "      <th>tipovivi5</th>\n",
              "      <th>computer</th>\n",
              "      <th>television</th>\n",
              "      <th>mobilephone</th>\n",
              "      <th>qmobilephone</th>\n",
              "      <th>lugar1</th>\n",
              "      <th>lugar2</th>\n",
              "      <th>lugar3</th>\n",
              "      <th>lugar4</th>\n",
              "      <th>lugar5</th>\n",
              "      <th>lugar6</th>\n",
              "      <th>area1</th>\n",
              "      <th>area2</th>\n",
              "      <th>age</th>\n",
              "      <th>SQBescolari</th>\n",
              "      <th>SQBage</th>\n",
              "      <th>SQBhogar_total</th>\n",
              "      <th>SQBedjefe</th>\n",
              "      <th>SQBhogar_nin</th>\n",
              "      <th>SQBovercrowding</th>\n",
              "      <th>SQBdependency</th>\n",
              "      <th>SQBmeaned</th>\n",
              "      <th>agesq</th>\n",
              "      <th>Target</th>\n",
              "    </tr>\n",
              "  </thead>\n",
              "  <tbody>\n",
              "    <tr>\n",
              "      <th>2514</th>\n",
              "      <td>ID_f012e4242</td>\n",
              "      <td>160000.0</td>\n",
              "      <td>0</td>\n",
              "      <td>6</td>\n",
              "      <td>0</td>\n",
              "      <td>1</td>\n",
              "      <td>1</td>\n",
              "      <td>1</td>\n",
              "      <td>1.0</td>\n",
              "      <td>0</td>\n",
              "      <td>1</td>\n",
              "      <td>1</td>\n",
              "      <td>1</td>\n",
              "      <td>1</td>\n",
              "      <td>2</td>\n",
              "      <td>1</td>\n",
              "      <td>2</td>\n",
              "      <td>3</td>\n",
              "      <td>3</td>\n",
              "      <td>3</td>\n",
              "      <td>0</td>\n",
              "      <td>NaN</td>\n",
              "      <td>3</td>\n",
              "      <td>1</td>\n",
              "      <td>0</td>\n",
              "      <td>0</td>\n",
              "      <td>0</td>\n",
              "      <td>0</td>\n",
              "      <td>0</td>\n",
              "      <td>0</td>\n",
              "      <td>0</td>\n",
              "      <td>1</td>\n",
              "      <td>0</td>\n",
              "      <td>0</td>\n",
              "      <td>0</td>\n",
              "      <td>0</td>\n",
              "      <td>0</td>\n",
              "      <td>1</td>\n",
              "      <td>0</td>\n",
              "      <td>0</td>\n",
              "      <td>0</td>\n",
              "      <td>1</td>\n",
              "      <td>1</td>\n",
              "      <td>0</td>\n",
              "      <td>0</td>\n",
              "      <td>1</td>\n",
              "      <td>0</td>\n",
              "      <td>0</td>\n",
              "      <td>0</td>\n",
              "      <td>0</td>\n",
              "      <td>0</td>\n",
              "      <td>1</td>\n",
              "      <td>0</td>\n",
              "      <td>0</td>\n",
              "      <td>0</td>\n",
              "      <td>0</td>\n",
              "      <td>1</td>\n",
              "      <td>0</td>\n",
              "      <td>1</td>\n",
              "      <td>0</td>\n",
              "      <td>0</td>\n",
              "      <td>0</td>\n",
              "      <td>0</td>\n",
              "      <td>0</td>\n",
              "      <td>0</td>\n",
              "      <td>0</td>\n",
              "      <td>1</td>\n",
              "      <td>0</td>\n",
              "      <td>1</td>\n",
              "      <td>0</td>\n",
              "      <td>0</td>\n",
              "      <td>0</td>\n",
              "      <td>1</td>\n",
              "      <td>1</td>\n",
              "      <td>0</td>\n",
              "      <td>1</td>\n",
              "      <td>0</td>\n",
              "      <td>0</td>\n",
              "      <td>0</td>\n",
              "      <td>0</td>\n",
              "      <td>0</td>\n",
              "      <td>0</td>\n",
              "      <td>1</td>\n",
              "      <td>0</td>\n",
              "      <td>0</td>\n",
              "      <td>1</td>\n",
              "      <td>0</td>\n",
              "      <td>0</td>\n",
              "      <td>0</td>\n",
              "      <td>0</td>\n",
              "      <td>0</td>\n",
              "      <td>0</td>\n",
              "      <td>0</td>\n",
              "      <td>0</td>\n",
              "      <td>0</td>\n",
              "      <td>0369a5d78</td>\n",
              "      <td>1</td>\n",
              "      <td>2</td>\n",
              "      <td>0</td>\n",
              "      <td>3</td>\n",
              "      <td>.5</td>\n",
              "      <td>11</td>\n",
              "      <td>no</td>\n",
              "      <td>13.5</td>\n",
              "      <td>1</td>\n",
              "      <td>0</td>\n",
              "      <td>0</td>\n",
              "      <td>0</td>\n",
              "      <td>0</td>\n",
              "      <td>0</td>\n",
              "      <td>0</td>\n",
              "      <td>0</td>\n",
              "      <td>0</td>\n",
              "      <td>2</td>\n",
              "      <td>1.5</td>\n",
              "      <td>0</td>\n",
              "      <td>1</td>\n",
              "      <td>0</td>\n",
              "      <td>0</td>\n",
              "      <td>0</td>\n",
              "      <td>1</td>\n",
              "      <td>0</td>\n",
              "      <td>1</td>\n",
              "      <td>2</td>\n",
              "      <td>1</td>\n",
              "      <td>0</td>\n",
              "      <td>0</td>\n",
              "      <td>0</td>\n",
              "      <td>0</td>\n",
              "      <td>0</td>\n",
              "      <td>1</td>\n",
              "      <td>0</td>\n",
              "      <td>10</td>\n",
              "      <td>0</td>\n",
              "      <td>100</td>\n",
              "      <td>9</td>\n",
              "      <td>121</td>\n",
              "      <td>1</td>\n",
              "      <td>2.25</td>\n",
              "      <td>0.25</td>\n",
              "      <td>182.25</td>\n",
              "      <td>100</td>\n",
              "      <td>4</td>\n",
              "    </tr>\n",
              "  </tbody>\n",
              "</table>\n",
              "</div>\n",
              "      <button class=\"colab-df-convert\" onclick=\"convertToInteractive('df-3b66027a-eab3-4130-b7f6-a260cfe4bf33')\"\n",
              "              title=\"Convert this dataframe to an interactive table.\"\n",
              "              style=\"display:none;\">\n",
              "        \n",
              "  <svg xmlns=\"http://www.w3.org/2000/svg\" height=\"24px\"viewBox=\"0 0 24 24\"\n",
              "       width=\"24px\">\n",
              "    <path d=\"M0 0h24v24H0V0z\" fill=\"none\"/>\n",
              "    <path d=\"M18.56 5.44l.94 2.06.94-2.06 2.06-.94-2.06-.94-.94-2.06-.94 2.06-2.06.94zm-11 1L8.5 8.5l.94-2.06 2.06-.94-2.06-.94L8.5 2.5l-.94 2.06-2.06.94zm10 10l.94 2.06.94-2.06 2.06-.94-2.06-.94-.94-2.06-.94 2.06-2.06.94z\"/><path d=\"M17.41 7.96l-1.37-1.37c-.4-.4-.92-.59-1.43-.59-.52 0-1.04.2-1.43.59L10.3 9.45l-7.72 7.72c-.78.78-.78 2.05 0 2.83L4 21.41c.39.39.9.59 1.41.59.51 0 1.02-.2 1.41-.59l7.78-7.78 2.81-2.81c.8-.78.8-2.07 0-2.86zM5.41 20L4 18.59l7.72-7.72 1.47 1.35L5.41 20z\"/>\n",
              "  </svg>\n",
              "      </button>\n",
              "      \n",
              "  <style>\n",
              "    .colab-df-container {\n",
              "      display:flex;\n",
              "      flex-wrap:wrap;\n",
              "      gap: 12px;\n",
              "    }\n",
              "\n",
              "    .colab-df-convert {\n",
              "      background-color: #E8F0FE;\n",
              "      border: none;\n",
              "      border-radius: 50%;\n",
              "      cursor: pointer;\n",
              "      display: none;\n",
              "      fill: #1967D2;\n",
              "      height: 32px;\n",
              "      padding: 0 0 0 0;\n",
              "      width: 32px;\n",
              "    }\n",
              "\n",
              "    .colab-df-convert:hover {\n",
              "      background-color: #E2EBFA;\n",
              "      box-shadow: 0px 1px 2px rgba(60, 64, 67, 0.3), 0px 1px 3px 1px rgba(60, 64, 67, 0.15);\n",
              "      fill: #174EA6;\n",
              "    }\n",
              "\n",
              "    [theme=dark] .colab-df-convert {\n",
              "      background-color: #3B4455;\n",
              "      fill: #D2E3FC;\n",
              "    }\n",
              "\n",
              "    [theme=dark] .colab-df-convert:hover {\n",
              "      background-color: #434B5C;\n",
              "      box-shadow: 0px 1px 3px 1px rgba(0, 0, 0, 0.15);\n",
              "      filter: drop-shadow(0px 1px 2px rgba(0, 0, 0, 0.3));\n",
              "      fill: #FFFFFF;\n",
              "    }\n",
              "  </style>\n",
              "\n",
              "      <script>\n",
              "        const buttonEl =\n",
              "          document.querySelector('#df-3b66027a-eab3-4130-b7f6-a260cfe4bf33 button.colab-df-convert');\n",
              "        buttonEl.style.display =\n",
              "          google.colab.kernel.accessAllowed ? 'block' : 'none';\n",
              "\n",
              "        async function convertToInteractive(key) {\n",
              "          const element = document.querySelector('#df-3b66027a-eab3-4130-b7f6-a260cfe4bf33');\n",
              "          const dataTable =\n",
              "            await google.colab.kernel.invokeFunction('convertToInteractive',\n",
              "                                                     [key], {});\n",
              "          if (!dataTable) return;\n",
              "\n",
              "          const docLinkHtml = 'Like what you see? Visit the ' +\n",
              "            '<a target=\"_blank\" href=https://colab.research.google.com/notebooks/data_table.ipynb>data table notebook</a>'\n",
              "            + ' to learn more about interactive tables.';\n",
              "          element.innerHTML = '';\n",
              "          dataTable['output_type'] = 'display_data';\n",
              "          await google.colab.output.renderOutput(dataTable, element);\n",
              "          const docLink = document.createElement('div');\n",
              "          docLink.innerHTML = docLinkHtml;\n",
              "          element.appendChild(docLink);\n",
              "        }\n",
              "      </script>\n",
              "    </div>\n",
              "  </div>\n",
              "  "
            ]
          },
          "metadata": {},
          "execution_count": 252
        }
      ]
    },
    {
      "cell_type": "code",
      "source": [
        "df=df_init.copy()\n",
        "df.shape"
      ],
      "metadata": {
        "colab": {
          "base_uri": "https://localhost:8080/"
        },
        "id": "ZHoifDBbA71C",
        "outputId": "c4c3063c-147e-4aa4-e0fc-28b2eee6af6b"
      },
      "execution_count": null,
      "outputs": [
        {
          "output_type": "execute_result",
          "data": {
            "text/plain": [
              "(9557, 143)"
            ]
          },
          "metadata": {},
          "execution_count": 8
        }
      ]
    },
    {
      "cell_type": "code",
      "source": [
        "X=df[['idhogar','v18q1','v18q']]\n",
        "X=X[X['v18q1'].isna()]\n",
        "X['v18q'].unique()"
      ],
      "metadata": {
        "colab": {
          "base_uri": "https://localhost:8080/"
        },
        "id": "MaBATtj_MObV",
        "outputId": "149606bf-2068-450e-c765-f3d8e10044d8"
      },
      "execution_count": null,
      "outputs": [
        {
          "output_type": "execute_result",
          "data": {
            "text/plain": [
              "array([0])"
            ]
          },
          "metadata": {},
          "execution_count": 9
        }
      ]
    },
    {
      "cell_type": "code",
      "source": [
        "X=df[['idhogar','v18q1','v18q']]\n",
        "X=X[X['v18q1']==0]\n",
        "X['v18q'].unique()"
      ],
      "metadata": {
        "colab": {
          "base_uri": "https://localhost:8080/"
        },
        "id": "dmtkmDnto_Pe",
        "outputId": "9d498279-71ad-4514-ab5a-faee11f52feb"
      },
      "execution_count": null,
      "outputs": [
        {
          "output_type": "execute_result",
          "data": {
            "text/plain": [
              "array([], dtype=int64)"
            ]
          },
          "metadata": {},
          "execution_count": 189
        }
      ]
    },
    {
      "cell_type": "code",
      "source": [
        "X=df[['idhogar','v18q1','v18q']]\n",
        "X=X[X['v18q']==0]\n",
        "X['v18q1'].unique()"
      ],
      "metadata": {
        "colab": {
          "base_uri": "https://localhost:8080/"
        },
        "id": "NVbsCwwMBQoO",
        "outputId": "0ebfeb13-28af-4495-9cb1-86f0208f5422"
      },
      "execution_count": null,
      "outputs": [
        {
          "output_type": "execute_result",
          "data": {
            "text/plain": [
              "array([nan])"
            ]
          },
          "metadata": {},
          "execution_count": 190
        }
      ]
    },
    {
      "cell_type": "code",
      "source": [
        "X=df[['idhogar','v18q1','v18q']]\n",
        "X=X[X['v18q']!=0]\n",
        "X['v18q1'].unique()"
      ],
      "metadata": {
        "colab": {
          "base_uri": "https://localhost:8080/"
        },
        "id": "UAX7RH5JCAfX",
        "outputId": "4bc28765-12dc-4203-d4f0-d39fd37face8"
      },
      "execution_count": null,
      "outputs": [
        {
          "output_type": "execute_result",
          "data": {
            "text/plain": [
              "array([1., 2., 3., 4., 5., 6.])"
            ]
          },
          "metadata": {},
          "execution_count": 194
        }
      ]
    },
    {
      "cell_type": "code",
      "source": [
        "df['v18q1'].unique()"
      ],
      "metadata": {
        "colab": {
          "base_uri": "https://localhost:8080/"
        },
        "id": "ZG_qFBrOsVk5",
        "outputId": "ee09267a-ebfd-4003-8a57-16de04602606"
      },
      "execution_count": null,
      "outputs": [
        {
          "output_type": "execute_result",
          "data": {
            "text/plain": [
              "array([nan,  1.,  2.,  3.,  4.,  5.,  6.])"
            ]
          },
          "metadata": {},
          "execution_count": 170
        }
      ]
    },
    {
      "cell_type": "code",
      "source": [
        "df['v18q'].unique()"
      ],
      "metadata": {
        "colab": {
          "base_uri": "https://localhost:8080/"
        },
        "id": "YM1c56fCtJBo",
        "outputId": "3718a9c0-79bc-4804-bf01-f1ba332cf8ab"
      },
      "execution_count": null,
      "outputs": [
        {
          "output_type": "execute_result",
          "data": {
            "text/plain": [
              "array([0, 1])"
            ]
          },
          "metadata": {},
          "execution_count": 163
        }
      ]
    },
    {
      "cell_type": "code",
      "source": [
        "df.groupby(['Id','idhogar'])['v18q1'].sum().sort_values(ascending=False)"
      ],
      "metadata": {
        "id": "g0hKPZcrLBTd"
      },
      "execution_count": null,
      "outputs": []
    },
    {
      "cell_type": "code",
      "source": [
        "df.groupby(['Id','idhogar'])['v18q1'].sum().sort_values(ascending=False).value_counts()"
      ],
      "metadata": {
        "colab": {
          "base_uri": "https://localhost:8080/"
        },
        "id": "XP4LE-xSFOH5",
        "outputId": "85bdd86e-14dc-4e54-dd47-e107886da9d5"
      },
      "execution_count": null,
      "outputs": [
        {
          "output_type": "execute_result",
          "data": {
            "text/plain": [
              "0.0    7342\n",
              "1.0    1586\n",
              "2.0     444\n",
              "3.0     129\n",
              "4.0      37\n",
              "5.0      13\n",
              "6.0       6\n",
              "Name: v18q1, dtype: int64"
            ]
          },
          "metadata": {},
          "execution_count": 213
        }
      ]
    },
    {
      "cell_type": "code",
      "source": [
        "df['idhogar']"
      ],
      "metadata": {
        "id": "iNLwpr4xId98"
      },
      "execution_count": null,
      "outputs": []
    },
    {
      "cell_type": "code",
      "source": [
        "def get_v18q1_by_idhogar(df,i_idhogar):\n",
        "  X=df.groupby('idhogar')['v18q1'].value_counts()\n",
        "  return [i[1] for i in X.index if i[0]==i_idhogar][0]"
      ],
      "metadata": {
        "id": "QXipLrjQJfE7"
      },
      "execution_count": null,
      "outputs": []
    },
    {
      "cell_type": "code",
      "source": [
        "get_v18q1_by_idhogar(df,'e23e4e82d')"
      ],
      "metadata": {
        "colab": {
          "base_uri": "https://localhost:8080/"
        },
        "id": "AjA38WAeKje0",
        "outputId": "860b467e-3ccd-4db7-9e12-06bbbf48167d"
      },
      "execution_count": null,
      "outputs": [
        {
          "output_type": "execute_result",
          "data": {
            "text/plain": [
              "6.0"
            ]
          },
          "metadata": {},
          "execution_count": 241
        }
      ]
    },
    {
      "cell_type": "code",
      "source": [
        "idh='e23e4e82d'\n",
        "df[df['idhogar']==idh]"
      ],
      "metadata": {
        "colab": {
          "base_uri": "https://localhost:8080/",
          "height": 301
        },
        "id": "qC1J1ZlFLmag",
        "outputId": "a68916b4-d1ab-4166-ee46-0eb6aed28c52"
      },
      "execution_count": null,
      "outputs": [
        {
          "output_type": "execute_result",
          "data": {
            "text/plain": [
              "                Id  v2a1  hacdor  rooms  hacapo  v14a  refrig  v18q  v18q1  \\\n",
              "2659  ID_6565cdb6b   NaN       0      9       0     1       1     1    6.0   \n",
              "2660  ID_bdbe15dff   NaN       0      9       0     1       1     1    6.0   \n",
              "2661  ID_124147157   NaN       0      9       0     1       1     1    6.0   \n",
              "2662  ID_d9766b86d   NaN       0      9       0     1       1     1    6.0   \n",
              "2663  ID_de46615da   NaN       0      9       0     1       1     1    6.0   \n",
              "2664  ID_f7ee466a3   NaN       0      9       0     1       1     1    6.0   \n",
              "\n",
              "      r4h1  r4h2  r4h3  r4m1  r4m2  r4m3  r4t1  r4t2  r4t3  tamhog  tamviv  \\\n",
              "2659     0     4     4     0     2     2     0     6     6       6       6   \n",
              "2660     0     4     4     0     2     2     0     6     6       6       6   \n",
              "2661     0     4     4     0     2     2     0     6     6       6       6   \n",
              "2662     0     4     4     0     2     2     0     6     6       6       6   \n",
              "2663     0     4     4     0     2     2     0     6     6       6       6   \n",
              "2664     0     4     4     0     2     2     0     6     6       6       6   \n",
              "\n",
              "      escolari  rez_esc  hhsize  paredblolad  paredzocalo  paredpreb  \\\n",
              "2659        11      NaN       6            0            0          1   \n",
              "2660         6      NaN       6            0            0          1   \n",
              "2661        15      NaN       6            0            0          1   \n",
              "2662         9      NaN       6            0            0          1   \n",
              "2663         9      NaN       6            0            0          1   \n",
              "2664        13      NaN       6            0            0          1   \n",
              "\n",
              "      pareddes  paredmad  paredzinc  paredfibras  paredother  pisomoscer  \\\n",
              "2659         0         0          0            0           0           0   \n",
              "2660         0         0          0            0           0           0   \n",
              "2661         0         0          0            0           0           0   \n",
              "2662         0         0          0            0           0           0   \n",
              "2663         0         0          0            0           0           0   \n",
              "2664         0         0          0            0           0           0   \n",
              "\n",
              "      pisocemento  pisoother  pisonatur  pisonotiene  pisomadera  techozinc  \\\n",
              "2659            1          0          0            0           0          1   \n",
              "2660            1          0          0            0           0          1   \n",
              "2661            1          0          0            0           0          1   \n",
              "2662            1          0          0            0           0          1   \n",
              "2663            1          0          0            0           0          1   \n",
              "2664            1          0          0            0           0          1   \n",
              "\n",
              "      techoentrepiso  techocane  techootro  cielorazo  abastaguadentro  \\\n",
              "2659               0          0          0          0                1   \n",
              "2660               0          0          0          0                1   \n",
              "2661               0          0          0          0                1   \n",
              "2662               0          0          0          0                1   \n",
              "2663               0          0          0          0                1   \n",
              "2664               0          0          0          0                1   \n",
              "\n",
              "      abastaguafuera  abastaguano  public  planpri  noelec  coopele  \\\n",
              "2659               0            0       1        0       0        0   \n",
              "2660               0            0       1        0       0        0   \n",
              "2661               0            0       1        0       0        0   \n",
              "2662               0            0       1        0       0        0   \n",
              "2663               0            0       1        0       0        0   \n",
              "2664               0            0       1        0       0        0   \n",
              "\n",
              "      sanitario1  sanitario2  sanitario3  sanitario5  sanitario6  \\\n",
              "2659           0           0           1           0           0   \n",
              "2660           0           0           1           0           0   \n",
              "2661           0           0           1           0           0   \n",
              "2662           0           0           1           0           0   \n",
              "2663           0           0           1           0           0   \n",
              "2664           0           0           1           0           0   \n",
              "\n",
              "      energcocinar1  energcocinar2  energcocinar3  energcocinar4  elimbasu1  \\\n",
              "2659              0              1              0              0          1   \n",
              "2660              0              1              0              0          1   \n",
              "2661              0              1              0              0          1   \n",
              "2662              0              1              0              0          1   \n",
              "2663              0              1              0              0          1   \n",
              "2664              0              1              0              0          1   \n",
              "\n",
              "      elimbasu2  elimbasu3  elimbasu4  elimbasu5  elimbasu6  epared1  epared2  \\\n",
              "2659          0          0          0          0          0        0        1   \n",
              "2660          0          0          0          0          0        0        1   \n",
              "2661          0          0          0          0          0        0        1   \n",
              "2662          0          0          0          0          0        0        1   \n",
              "2663          0          0          0          0          0        0        1   \n",
              "2664          0          0          0          0          0        0        1   \n",
              "\n",
              "      epared3  etecho1  etecho2  etecho3  eviv1  eviv2  eviv3  dis  male  \\\n",
              "2659        0        0        1        0      0      1      0    0     1   \n",
              "2660        0        0        1        0      0      1      0    0     0   \n",
              "2661        0        0        1        0      0      1      0    0     1   \n",
              "2662        0        0        1        0      0      1      0    0     1   \n",
              "2663        0        0        1        0      0      1      0    0     1   \n",
              "2664        0        0        1        0      0      1      0    0     0   \n",
              "\n",
              "      female  estadocivil1  estadocivil2  estadocivil3  estadocivil4  \\\n",
              "2659       0             0             0             0             0   \n",
              "2660       1             0             0             1             0   \n",
              "2661       0             0             0             0             0   \n",
              "2662       0             0             0             0             0   \n",
              "2663       0             0             0             1             0   \n",
              "2664       1             0             0             0             0   \n",
              "\n",
              "      estadocivil5  estadocivil6  estadocivil7  parentesco1  parentesco2  \\\n",
              "2659             1             0             0            0            0   \n",
              "2660             0             0             0            0            1   \n",
              "2661             0             0             1            0            0   \n",
              "2662             0             0             1            0            0   \n",
              "2663             0             0             0            1            0   \n",
              "2664             0             0             1            0            0   \n",
              "\n",
              "      parentesco3  parentesco4  parentesco5  parentesco6  parentesco7  \\\n",
              "2659            1            0            0            0            0   \n",
              "2660            0            0            0            0            0   \n",
              "2661            1            0            0            0            0   \n",
              "2662            1            0            0            0            0   \n",
              "2663            0            0            0            0            0   \n",
              "2664            1            0            0            0            0   \n",
              "\n",
              "      parentesco8  parentesco9  parentesco10  parentesco11  parentesco12  \\\n",
              "2659            0            0             0             0             0   \n",
              "2660            0            0             0             0             0   \n",
              "2661            0            0             0             0             0   \n",
              "2662            0            0             0             0             0   \n",
              "2663            0            0             0             0             0   \n",
              "2664            0            0             0             0             0   \n",
              "\n",
              "        idhogar  hogar_nin  hogar_adul  hogar_mayor  hogar_total dependency  \\\n",
              "2659  e23e4e82d          0           6            0            6         no   \n",
              "2660  e23e4e82d          0           6            0            6         no   \n",
              "2661  e23e4e82d          0           6            0            6         no   \n",
              "2662  e23e4e82d          0           6            0            6         no   \n",
              "2663  e23e4e82d          0           6            0            6         no   \n",
              "2664  e23e4e82d          0           6            0            6         no   \n",
              "\n",
              "     edjefe edjefa  meaneduc  instlevel1  instlevel2  instlevel3  instlevel4  \\\n",
              "2659      9     no      10.5           0           0           0           0   \n",
              "2660      9     no      10.5           0           0           1           0   \n",
              "2661      9     no      10.5           0           0           0           0   \n",
              "2662      9     no      10.5           0           0           0           1   \n",
              "2663      9     no      10.5           0           0           0           1   \n",
              "2664      9     no      10.5           0           0           0           0   \n",
              "\n",
              "      instlevel5  instlevel6  instlevel7  instlevel8  instlevel9  bedrooms  \\\n",
              "2659           1           0           0           0           0         6   \n",
              "2660           0           0           0           0           0         6   \n",
              "2661           0           0           0           1           0         6   \n",
              "2662           0           0           0           0           0         6   \n",
              "2663           0           0           0           0           0         6   \n",
              "2664           0           0           0           1           0         6   \n",
              "\n",
              "      overcrowding  tipovivi1  tipovivi2  tipovivi3  tipovivi4  tipovivi5  \\\n",
              "2659           1.0          1          0          0          0          0   \n",
              "2660           1.0          1          0          0          0          0   \n",
              "2661           1.0          1          0          0          0          0   \n",
              "2662           1.0          1          0          0          0          0   \n",
              "2663           1.0          1          0          0          0          0   \n",
              "2664           1.0          1          0          0          0          0   \n",
              "\n",
              "      computer  television  mobilephone  qmobilephone  lugar1  lugar2  lugar3  \\\n",
              "2659         0           1            1             8       1       0       0   \n",
              "2660         0           1            1             8       1       0       0   \n",
              "2661         0           1            1             8       1       0       0   \n",
              "2662         0           1            1             8       1       0       0   \n",
              "2663         0           1            1             8       1       0       0   \n",
              "2664         0           1            1             8       1       0       0   \n",
              "\n",
              "      lugar4  lugar5  lugar6  area1  area2  age  SQBescolari  SQBage  \\\n",
              "2659       0       0       0      1      0   30          121     900   \n",
              "2660       0       0       0      1      0   58           36    3364   \n",
              "2661       0       0       0      1      0   35          225    1225   \n",
              "2662       0       0       0      1      0   25           81     625   \n",
              "2663       0       0       0      1      0   62           81    3844   \n",
              "2664       0       0       0      1      0   28          169     784   \n",
              "\n",
              "      SQBhogar_total  SQBedjefe  SQBhogar_nin  SQBovercrowding  SQBdependency  \\\n",
              "2659              36         81             0              1.0            0.0   \n",
              "2660              36         81             0              1.0            0.0   \n",
              "2661              36         81             0              1.0            0.0   \n",
              "2662              36         81             0              1.0            0.0   \n",
              "2663              36         81             0              1.0            0.0   \n",
              "2664              36         81             0              1.0            0.0   \n",
              "\n",
              "      SQBmeaned  agesq  Target  \n",
              "2659     110.25    900       4  \n",
              "2660     110.25   3364       4  \n",
              "2661     110.25   1225       4  \n",
              "2662     110.25    625       4  \n",
              "2663     110.25   3844       4  \n",
              "2664     110.25    784       4  "
            ],
            "text/html": [
              "\n",
              "  <div id=\"df-e0fd12dd-87b1-4679-8867-4642bdcbbc63\">\n",
              "    <div class=\"colab-df-container\">\n",
              "      <div>\n",
              "<style scoped>\n",
              "    .dataframe tbody tr th:only-of-type {\n",
              "        vertical-align: middle;\n",
              "    }\n",
              "\n",
              "    .dataframe tbody tr th {\n",
              "        vertical-align: top;\n",
              "    }\n",
              "\n",
              "    .dataframe thead th {\n",
              "        text-align: right;\n",
              "    }\n",
              "</style>\n",
              "<table border=\"1\" class=\"dataframe\">\n",
              "  <thead>\n",
              "    <tr style=\"text-align: right;\">\n",
              "      <th></th>\n",
              "      <th>Id</th>\n",
              "      <th>v2a1</th>\n",
              "      <th>hacdor</th>\n",
              "      <th>rooms</th>\n",
              "      <th>hacapo</th>\n",
              "      <th>v14a</th>\n",
              "      <th>refrig</th>\n",
              "      <th>v18q</th>\n",
              "      <th>v18q1</th>\n",
              "      <th>r4h1</th>\n",
              "      <th>r4h2</th>\n",
              "      <th>r4h3</th>\n",
              "      <th>r4m1</th>\n",
              "      <th>r4m2</th>\n",
              "      <th>r4m3</th>\n",
              "      <th>r4t1</th>\n",
              "      <th>r4t2</th>\n",
              "      <th>r4t3</th>\n",
              "      <th>tamhog</th>\n",
              "      <th>tamviv</th>\n",
              "      <th>escolari</th>\n",
              "      <th>rez_esc</th>\n",
              "      <th>hhsize</th>\n",
              "      <th>paredblolad</th>\n",
              "      <th>paredzocalo</th>\n",
              "      <th>paredpreb</th>\n",
              "      <th>pareddes</th>\n",
              "      <th>paredmad</th>\n",
              "      <th>paredzinc</th>\n",
              "      <th>paredfibras</th>\n",
              "      <th>paredother</th>\n",
              "      <th>pisomoscer</th>\n",
              "      <th>pisocemento</th>\n",
              "      <th>pisoother</th>\n",
              "      <th>pisonatur</th>\n",
              "      <th>pisonotiene</th>\n",
              "      <th>pisomadera</th>\n",
              "      <th>techozinc</th>\n",
              "      <th>techoentrepiso</th>\n",
              "      <th>techocane</th>\n",
              "      <th>techootro</th>\n",
              "      <th>cielorazo</th>\n",
              "      <th>abastaguadentro</th>\n",
              "      <th>abastaguafuera</th>\n",
              "      <th>abastaguano</th>\n",
              "      <th>public</th>\n",
              "      <th>planpri</th>\n",
              "      <th>noelec</th>\n",
              "      <th>coopele</th>\n",
              "      <th>sanitario1</th>\n",
              "      <th>sanitario2</th>\n",
              "      <th>sanitario3</th>\n",
              "      <th>sanitario5</th>\n",
              "      <th>sanitario6</th>\n",
              "      <th>energcocinar1</th>\n",
              "      <th>energcocinar2</th>\n",
              "      <th>energcocinar3</th>\n",
              "      <th>energcocinar4</th>\n",
              "      <th>elimbasu1</th>\n",
              "      <th>elimbasu2</th>\n",
              "      <th>elimbasu3</th>\n",
              "      <th>elimbasu4</th>\n",
              "      <th>elimbasu5</th>\n",
              "      <th>elimbasu6</th>\n",
              "      <th>epared1</th>\n",
              "      <th>epared2</th>\n",
              "      <th>epared3</th>\n",
              "      <th>etecho1</th>\n",
              "      <th>etecho2</th>\n",
              "      <th>etecho3</th>\n",
              "      <th>eviv1</th>\n",
              "      <th>eviv2</th>\n",
              "      <th>eviv3</th>\n",
              "      <th>dis</th>\n",
              "      <th>male</th>\n",
              "      <th>female</th>\n",
              "      <th>estadocivil1</th>\n",
              "      <th>estadocivil2</th>\n",
              "      <th>estadocivil3</th>\n",
              "      <th>estadocivil4</th>\n",
              "      <th>estadocivil5</th>\n",
              "      <th>estadocivil6</th>\n",
              "      <th>estadocivil7</th>\n",
              "      <th>parentesco1</th>\n",
              "      <th>parentesco2</th>\n",
              "      <th>parentesco3</th>\n",
              "      <th>parentesco4</th>\n",
              "      <th>parentesco5</th>\n",
              "      <th>parentesco6</th>\n",
              "      <th>parentesco7</th>\n",
              "      <th>parentesco8</th>\n",
              "      <th>parentesco9</th>\n",
              "      <th>parentesco10</th>\n",
              "      <th>parentesco11</th>\n",
              "      <th>parentesco12</th>\n",
              "      <th>idhogar</th>\n",
              "      <th>hogar_nin</th>\n",
              "      <th>hogar_adul</th>\n",
              "      <th>hogar_mayor</th>\n",
              "      <th>hogar_total</th>\n",
              "      <th>dependency</th>\n",
              "      <th>edjefe</th>\n",
              "      <th>edjefa</th>\n",
              "      <th>meaneduc</th>\n",
              "      <th>instlevel1</th>\n",
              "      <th>instlevel2</th>\n",
              "      <th>instlevel3</th>\n",
              "      <th>instlevel4</th>\n",
              "      <th>instlevel5</th>\n",
              "      <th>instlevel6</th>\n",
              "      <th>instlevel7</th>\n",
              "      <th>instlevel8</th>\n",
              "      <th>instlevel9</th>\n",
              "      <th>bedrooms</th>\n",
              "      <th>overcrowding</th>\n",
              "      <th>tipovivi1</th>\n",
              "      <th>tipovivi2</th>\n",
              "      <th>tipovivi3</th>\n",
              "      <th>tipovivi4</th>\n",
              "      <th>tipovivi5</th>\n",
              "      <th>computer</th>\n",
              "      <th>television</th>\n",
              "      <th>mobilephone</th>\n",
              "      <th>qmobilephone</th>\n",
              "      <th>lugar1</th>\n",
              "      <th>lugar2</th>\n",
              "      <th>lugar3</th>\n",
              "      <th>lugar4</th>\n",
              "      <th>lugar5</th>\n",
              "      <th>lugar6</th>\n",
              "      <th>area1</th>\n",
              "      <th>area2</th>\n",
              "      <th>age</th>\n",
              "      <th>SQBescolari</th>\n",
              "      <th>SQBage</th>\n",
              "      <th>SQBhogar_total</th>\n",
              "      <th>SQBedjefe</th>\n",
              "      <th>SQBhogar_nin</th>\n",
              "      <th>SQBovercrowding</th>\n",
              "      <th>SQBdependency</th>\n",
              "      <th>SQBmeaned</th>\n",
              "      <th>agesq</th>\n",
              "      <th>Target</th>\n",
              "    </tr>\n",
              "  </thead>\n",
              "  <tbody>\n",
              "    <tr>\n",
              "      <th>2659</th>\n",
              "      <td>ID_6565cdb6b</td>\n",
              "      <td>NaN</td>\n",
              "      <td>0</td>\n",
              "      <td>9</td>\n",
              "      <td>0</td>\n",
              "      <td>1</td>\n",
              "      <td>1</td>\n",
              "      <td>1</td>\n",
              "      <td>6.0</td>\n",
              "      <td>0</td>\n",
              "      <td>4</td>\n",
              "      <td>4</td>\n",
              "      <td>0</td>\n",
              "      <td>2</td>\n",
              "      <td>2</td>\n",
              "      <td>0</td>\n",
              "      <td>6</td>\n",
              "      <td>6</td>\n",
              "      <td>6</td>\n",
              "      <td>6</td>\n",
              "      <td>11</td>\n",
              "      <td>NaN</td>\n",
              "      <td>6</td>\n",
              "      <td>0</td>\n",
              "      <td>0</td>\n",
              "      <td>1</td>\n",
              "      <td>0</td>\n",
              "      <td>0</td>\n",
              "      <td>0</td>\n",
              "      <td>0</td>\n",
              "      <td>0</td>\n",
              "      <td>0</td>\n",
              "      <td>1</td>\n",
              "      <td>0</td>\n",
              "      <td>0</td>\n",
              "      <td>0</td>\n",
              "      <td>0</td>\n",
              "      <td>1</td>\n",
              "      <td>0</td>\n",
              "      <td>0</td>\n",
              "      <td>0</td>\n",
              "      <td>0</td>\n",
              "      <td>1</td>\n",
              "      <td>0</td>\n",
              "      <td>0</td>\n",
              "      <td>1</td>\n",
              "      <td>0</td>\n",
              "      <td>0</td>\n",
              "      <td>0</td>\n",
              "      <td>0</td>\n",
              "      <td>0</td>\n",
              "      <td>1</td>\n",
              "      <td>0</td>\n",
              "      <td>0</td>\n",
              "      <td>0</td>\n",
              "      <td>1</td>\n",
              "      <td>0</td>\n",
              "      <td>0</td>\n",
              "      <td>1</td>\n",
              "      <td>0</td>\n",
              "      <td>0</td>\n",
              "      <td>0</td>\n",
              "      <td>0</td>\n",
              "      <td>0</td>\n",
              "      <td>0</td>\n",
              "      <td>1</td>\n",
              "      <td>0</td>\n",
              "      <td>0</td>\n",
              "      <td>1</td>\n",
              "      <td>0</td>\n",
              "      <td>0</td>\n",
              "      <td>1</td>\n",
              "      <td>0</td>\n",
              "      <td>0</td>\n",
              "      <td>1</td>\n",
              "      <td>0</td>\n",
              "      <td>0</td>\n",
              "      <td>0</td>\n",
              "      <td>0</td>\n",
              "      <td>0</td>\n",
              "      <td>1</td>\n",
              "      <td>0</td>\n",
              "      <td>0</td>\n",
              "      <td>0</td>\n",
              "      <td>0</td>\n",
              "      <td>1</td>\n",
              "      <td>0</td>\n",
              "      <td>0</td>\n",
              "      <td>0</td>\n",
              "      <td>0</td>\n",
              "      <td>0</td>\n",
              "      <td>0</td>\n",
              "      <td>0</td>\n",
              "      <td>0</td>\n",
              "      <td>0</td>\n",
              "      <td>e23e4e82d</td>\n",
              "      <td>0</td>\n",
              "      <td>6</td>\n",
              "      <td>0</td>\n",
              "      <td>6</td>\n",
              "      <td>no</td>\n",
              "      <td>9</td>\n",
              "      <td>no</td>\n",
              "      <td>10.5</td>\n",
              "      <td>0</td>\n",
              "      <td>0</td>\n",
              "      <td>0</td>\n",
              "      <td>0</td>\n",
              "      <td>1</td>\n",
              "      <td>0</td>\n",
              "      <td>0</td>\n",
              "      <td>0</td>\n",
              "      <td>0</td>\n",
              "      <td>6</td>\n",
              "      <td>1.0</td>\n",
              "      <td>1</td>\n",
              "      <td>0</td>\n",
              "      <td>0</td>\n",
              "      <td>0</td>\n",
              "      <td>0</td>\n",
              "      <td>0</td>\n",
              "      <td>1</td>\n",
              "      <td>1</td>\n",
              "      <td>8</td>\n",
              "      <td>1</td>\n",
              "      <td>0</td>\n",
              "      <td>0</td>\n",
              "      <td>0</td>\n",
              "      <td>0</td>\n",
              "      <td>0</td>\n",
              "      <td>1</td>\n",
              "      <td>0</td>\n",
              "      <td>30</td>\n",
              "      <td>121</td>\n",
              "      <td>900</td>\n",
              "      <td>36</td>\n",
              "      <td>81</td>\n",
              "      <td>0</td>\n",
              "      <td>1.0</td>\n",
              "      <td>0.0</td>\n",
              "      <td>110.25</td>\n",
              "      <td>900</td>\n",
              "      <td>4</td>\n",
              "    </tr>\n",
              "    <tr>\n",
              "      <th>2660</th>\n",
              "      <td>ID_bdbe15dff</td>\n",
              "      <td>NaN</td>\n",
              "      <td>0</td>\n",
              "      <td>9</td>\n",
              "      <td>0</td>\n",
              "      <td>1</td>\n",
              "      <td>1</td>\n",
              "      <td>1</td>\n",
              "      <td>6.0</td>\n",
              "      <td>0</td>\n",
              "      <td>4</td>\n",
              "      <td>4</td>\n",
              "      <td>0</td>\n",
              "      <td>2</td>\n",
              "      <td>2</td>\n",
              "      <td>0</td>\n",
              "      <td>6</td>\n",
              "      <td>6</td>\n",
              "      <td>6</td>\n",
              "      <td>6</td>\n",
              "      <td>6</td>\n",
              "      <td>NaN</td>\n",
              "      <td>6</td>\n",
              "      <td>0</td>\n",
              "      <td>0</td>\n",
              "      <td>1</td>\n",
              "      <td>0</td>\n",
              "      <td>0</td>\n",
              "      <td>0</td>\n",
              "      <td>0</td>\n",
              "      <td>0</td>\n",
              "      <td>0</td>\n",
              "      <td>1</td>\n",
              "      <td>0</td>\n",
              "      <td>0</td>\n",
              "      <td>0</td>\n",
              "      <td>0</td>\n",
              "      <td>1</td>\n",
              "      <td>0</td>\n",
              "      <td>0</td>\n",
              "      <td>0</td>\n",
              "      <td>0</td>\n",
              "      <td>1</td>\n",
              "      <td>0</td>\n",
              "      <td>0</td>\n",
              "      <td>1</td>\n",
              "      <td>0</td>\n",
              "      <td>0</td>\n",
              "      <td>0</td>\n",
              "      <td>0</td>\n",
              "      <td>0</td>\n",
              "      <td>1</td>\n",
              "      <td>0</td>\n",
              "      <td>0</td>\n",
              "      <td>0</td>\n",
              "      <td>1</td>\n",
              "      <td>0</td>\n",
              "      <td>0</td>\n",
              "      <td>1</td>\n",
              "      <td>0</td>\n",
              "      <td>0</td>\n",
              "      <td>0</td>\n",
              "      <td>0</td>\n",
              "      <td>0</td>\n",
              "      <td>0</td>\n",
              "      <td>1</td>\n",
              "      <td>0</td>\n",
              "      <td>0</td>\n",
              "      <td>1</td>\n",
              "      <td>0</td>\n",
              "      <td>0</td>\n",
              "      <td>1</td>\n",
              "      <td>0</td>\n",
              "      <td>0</td>\n",
              "      <td>0</td>\n",
              "      <td>1</td>\n",
              "      <td>0</td>\n",
              "      <td>0</td>\n",
              "      <td>1</td>\n",
              "      <td>0</td>\n",
              "      <td>0</td>\n",
              "      <td>0</td>\n",
              "      <td>0</td>\n",
              "      <td>0</td>\n",
              "      <td>1</td>\n",
              "      <td>0</td>\n",
              "      <td>0</td>\n",
              "      <td>0</td>\n",
              "      <td>0</td>\n",
              "      <td>0</td>\n",
              "      <td>0</td>\n",
              "      <td>0</td>\n",
              "      <td>0</td>\n",
              "      <td>0</td>\n",
              "      <td>0</td>\n",
              "      <td>e23e4e82d</td>\n",
              "      <td>0</td>\n",
              "      <td>6</td>\n",
              "      <td>0</td>\n",
              "      <td>6</td>\n",
              "      <td>no</td>\n",
              "      <td>9</td>\n",
              "      <td>no</td>\n",
              "      <td>10.5</td>\n",
              "      <td>0</td>\n",
              "      <td>0</td>\n",
              "      <td>1</td>\n",
              "      <td>0</td>\n",
              "      <td>0</td>\n",
              "      <td>0</td>\n",
              "      <td>0</td>\n",
              "      <td>0</td>\n",
              "      <td>0</td>\n",
              "      <td>6</td>\n",
              "      <td>1.0</td>\n",
              "      <td>1</td>\n",
              "      <td>0</td>\n",
              "      <td>0</td>\n",
              "      <td>0</td>\n",
              "      <td>0</td>\n",
              "      <td>0</td>\n",
              "      <td>1</td>\n",
              "      <td>1</td>\n",
              "      <td>8</td>\n",
              "      <td>1</td>\n",
              "      <td>0</td>\n",
              "      <td>0</td>\n",
              "      <td>0</td>\n",
              "      <td>0</td>\n",
              "      <td>0</td>\n",
              "      <td>1</td>\n",
              "      <td>0</td>\n",
              "      <td>58</td>\n",
              "      <td>36</td>\n",
              "      <td>3364</td>\n",
              "      <td>36</td>\n",
              "      <td>81</td>\n",
              "      <td>0</td>\n",
              "      <td>1.0</td>\n",
              "      <td>0.0</td>\n",
              "      <td>110.25</td>\n",
              "      <td>3364</td>\n",
              "      <td>4</td>\n",
              "    </tr>\n",
              "    <tr>\n",
              "      <th>2661</th>\n",
              "      <td>ID_124147157</td>\n",
              "      <td>NaN</td>\n",
              "      <td>0</td>\n",
              "      <td>9</td>\n",
              "      <td>0</td>\n",
              "      <td>1</td>\n",
              "      <td>1</td>\n",
              "      <td>1</td>\n",
              "      <td>6.0</td>\n",
              "      <td>0</td>\n",
              "      <td>4</td>\n",
              "      <td>4</td>\n",
              "      <td>0</td>\n",
              "      <td>2</td>\n",
              "      <td>2</td>\n",
              "      <td>0</td>\n",
              "      <td>6</td>\n",
              "      <td>6</td>\n",
              "      <td>6</td>\n",
              "      <td>6</td>\n",
              "      <td>15</td>\n",
              "      <td>NaN</td>\n",
              "      <td>6</td>\n",
              "      <td>0</td>\n",
              "      <td>0</td>\n",
              "      <td>1</td>\n",
              "      <td>0</td>\n",
              "      <td>0</td>\n",
              "      <td>0</td>\n",
              "      <td>0</td>\n",
              "      <td>0</td>\n",
              "      <td>0</td>\n",
              "      <td>1</td>\n",
              "      <td>0</td>\n",
              "      <td>0</td>\n",
              "      <td>0</td>\n",
              "      <td>0</td>\n",
              "      <td>1</td>\n",
              "      <td>0</td>\n",
              "      <td>0</td>\n",
              "      <td>0</td>\n",
              "      <td>0</td>\n",
              "      <td>1</td>\n",
              "      <td>0</td>\n",
              "      <td>0</td>\n",
              "      <td>1</td>\n",
              "      <td>0</td>\n",
              "      <td>0</td>\n",
              "      <td>0</td>\n",
              "      <td>0</td>\n",
              "      <td>0</td>\n",
              "      <td>1</td>\n",
              "      <td>0</td>\n",
              "      <td>0</td>\n",
              "      <td>0</td>\n",
              "      <td>1</td>\n",
              "      <td>0</td>\n",
              "      <td>0</td>\n",
              "      <td>1</td>\n",
              "      <td>0</td>\n",
              "      <td>0</td>\n",
              "      <td>0</td>\n",
              "      <td>0</td>\n",
              "      <td>0</td>\n",
              "      <td>0</td>\n",
              "      <td>1</td>\n",
              "      <td>0</td>\n",
              "      <td>0</td>\n",
              "      <td>1</td>\n",
              "      <td>0</td>\n",
              "      <td>0</td>\n",
              "      <td>1</td>\n",
              "      <td>0</td>\n",
              "      <td>0</td>\n",
              "      <td>1</td>\n",
              "      <td>0</td>\n",
              "      <td>0</td>\n",
              "      <td>0</td>\n",
              "      <td>0</td>\n",
              "      <td>0</td>\n",
              "      <td>0</td>\n",
              "      <td>0</td>\n",
              "      <td>1</td>\n",
              "      <td>0</td>\n",
              "      <td>0</td>\n",
              "      <td>1</td>\n",
              "      <td>0</td>\n",
              "      <td>0</td>\n",
              "      <td>0</td>\n",
              "      <td>0</td>\n",
              "      <td>0</td>\n",
              "      <td>0</td>\n",
              "      <td>0</td>\n",
              "      <td>0</td>\n",
              "      <td>0</td>\n",
              "      <td>e23e4e82d</td>\n",
              "      <td>0</td>\n",
              "      <td>6</td>\n",
              "      <td>0</td>\n",
              "      <td>6</td>\n",
              "      <td>no</td>\n",
              "      <td>9</td>\n",
              "      <td>no</td>\n",
              "      <td>10.5</td>\n",
              "      <td>0</td>\n",
              "      <td>0</td>\n",
              "      <td>0</td>\n",
              "      <td>0</td>\n",
              "      <td>0</td>\n",
              "      <td>0</td>\n",
              "      <td>0</td>\n",
              "      <td>1</td>\n",
              "      <td>0</td>\n",
              "      <td>6</td>\n",
              "      <td>1.0</td>\n",
              "      <td>1</td>\n",
              "      <td>0</td>\n",
              "      <td>0</td>\n",
              "      <td>0</td>\n",
              "      <td>0</td>\n",
              "      <td>0</td>\n",
              "      <td>1</td>\n",
              "      <td>1</td>\n",
              "      <td>8</td>\n",
              "      <td>1</td>\n",
              "      <td>0</td>\n",
              "      <td>0</td>\n",
              "      <td>0</td>\n",
              "      <td>0</td>\n",
              "      <td>0</td>\n",
              "      <td>1</td>\n",
              "      <td>0</td>\n",
              "      <td>35</td>\n",
              "      <td>225</td>\n",
              "      <td>1225</td>\n",
              "      <td>36</td>\n",
              "      <td>81</td>\n",
              "      <td>0</td>\n",
              "      <td>1.0</td>\n",
              "      <td>0.0</td>\n",
              "      <td>110.25</td>\n",
              "      <td>1225</td>\n",
              "      <td>4</td>\n",
              "    </tr>\n",
              "    <tr>\n",
              "      <th>2662</th>\n",
              "      <td>ID_d9766b86d</td>\n",
              "      <td>NaN</td>\n",
              "      <td>0</td>\n",
              "      <td>9</td>\n",
              "      <td>0</td>\n",
              "      <td>1</td>\n",
              "      <td>1</td>\n",
              "      <td>1</td>\n",
              "      <td>6.0</td>\n",
              "      <td>0</td>\n",
              "      <td>4</td>\n",
              "      <td>4</td>\n",
              "      <td>0</td>\n",
              "      <td>2</td>\n",
              "      <td>2</td>\n",
              "      <td>0</td>\n",
              "      <td>6</td>\n",
              "      <td>6</td>\n",
              "      <td>6</td>\n",
              "      <td>6</td>\n",
              "      <td>9</td>\n",
              "      <td>NaN</td>\n",
              "      <td>6</td>\n",
              "      <td>0</td>\n",
              "      <td>0</td>\n",
              "      <td>1</td>\n",
              "      <td>0</td>\n",
              "      <td>0</td>\n",
              "      <td>0</td>\n",
              "      <td>0</td>\n",
              "      <td>0</td>\n",
              "      <td>0</td>\n",
              "      <td>1</td>\n",
              "      <td>0</td>\n",
              "      <td>0</td>\n",
              "      <td>0</td>\n",
              "      <td>0</td>\n",
              "      <td>1</td>\n",
              "      <td>0</td>\n",
              "      <td>0</td>\n",
              "      <td>0</td>\n",
              "      <td>0</td>\n",
              "      <td>1</td>\n",
              "      <td>0</td>\n",
              "      <td>0</td>\n",
              "      <td>1</td>\n",
              "      <td>0</td>\n",
              "      <td>0</td>\n",
              "      <td>0</td>\n",
              "      <td>0</td>\n",
              "      <td>0</td>\n",
              "      <td>1</td>\n",
              "      <td>0</td>\n",
              "      <td>0</td>\n",
              "      <td>0</td>\n",
              "      <td>1</td>\n",
              "      <td>0</td>\n",
              "      <td>0</td>\n",
              "      <td>1</td>\n",
              "      <td>0</td>\n",
              "      <td>0</td>\n",
              "      <td>0</td>\n",
              "      <td>0</td>\n",
              "      <td>0</td>\n",
              "      <td>0</td>\n",
              "      <td>1</td>\n",
              "      <td>0</td>\n",
              "      <td>0</td>\n",
              "      <td>1</td>\n",
              "      <td>0</td>\n",
              "      <td>0</td>\n",
              "      <td>1</td>\n",
              "      <td>0</td>\n",
              "      <td>0</td>\n",
              "      <td>1</td>\n",
              "      <td>0</td>\n",
              "      <td>0</td>\n",
              "      <td>0</td>\n",
              "      <td>0</td>\n",
              "      <td>0</td>\n",
              "      <td>0</td>\n",
              "      <td>0</td>\n",
              "      <td>1</td>\n",
              "      <td>0</td>\n",
              "      <td>0</td>\n",
              "      <td>1</td>\n",
              "      <td>0</td>\n",
              "      <td>0</td>\n",
              "      <td>0</td>\n",
              "      <td>0</td>\n",
              "      <td>0</td>\n",
              "      <td>0</td>\n",
              "      <td>0</td>\n",
              "      <td>0</td>\n",
              "      <td>0</td>\n",
              "      <td>e23e4e82d</td>\n",
              "      <td>0</td>\n",
              "      <td>6</td>\n",
              "      <td>0</td>\n",
              "      <td>6</td>\n",
              "      <td>no</td>\n",
              "      <td>9</td>\n",
              "      <td>no</td>\n",
              "      <td>10.5</td>\n",
              "      <td>0</td>\n",
              "      <td>0</td>\n",
              "      <td>0</td>\n",
              "      <td>1</td>\n",
              "      <td>0</td>\n",
              "      <td>0</td>\n",
              "      <td>0</td>\n",
              "      <td>0</td>\n",
              "      <td>0</td>\n",
              "      <td>6</td>\n",
              "      <td>1.0</td>\n",
              "      <td>1</td>\n",
              "      <td>0</td>\n",
              "      <td>0</td>\n",
              "      <td>0</td>\n",
              "      <td>0</td>\n",
              "      <td>0</td>\n",
              "      <td>1</td>\n",
              "      <td>1</td>\n",
              "      <td>8</td>\n",
              "      <td>1</td>\n",
              "      <td>0</td>\n",
              "      <td>0</td>\n",
              "      <td>0</td>\n",
              "      <td>0</td>\n",
              "      <td>0</td>\n",
              "      <td>1</td>\n",
              "      <td>0</td>\n",
              "      <td>25</td>\n",
              "      <td>81</td>\n",
              "      <td>625</td>\n",
              "      <td>36</td>\n",
              "      <td>81</td>\n",
              "      <td>0</td>\n",
              "      <td>1.0</td>\n",
              "      <td>0.0</td>\n",
              "      <td>110.25</td>\n",
              "      <td>625</td>\n",
              "      <td>4</td>\n",
              "    </tr>\n",
              "    <tr>\n",
              "      <th>2663</th>\n",
              "      <td>ID_de46615da</td>\n",
              "      <td>NaN</td>\n",
              "      <td>0</td>\n",
              "      <td>9</td>\n",
              "      <td>0</td>\n",
              "      <td>1</td>\n",
              "      <td>1</td>\n",
              "      <td>1</td>\n",
              "      <td>6.0</td>\n",
              "      <td>0</td>\n",
              "      <td>4</td>\n",
              "      <td>4</td>\n",
              "      <td>0</td>\n",
              "      <td>2</td>\n",
              "      <td>2</td>\n",
              "      <td>0</td>\n",
              "      <td>6</td>\n",
              "      <td>6</td>\n",
              "      <td>6</td>\n",
              "      <td>6</td>\n",
              "      <td>9</td>\n",
              "      <td>NaN</td>\n",
              "      <td>6</td>\n",
              "      <td>0</td>\n",
              "      <td>0</td>\n",
              "      <td>1</td>\n",
              "      <td>0</td>\n",
              "      <td>0</td>\n",
              "      <td>0</td>\n",
              "      <td>0</td>\n",
              "      <td>0</td>\n",
              "      <td>0</td>\n",
              "      <td>1</td>\n",
              "      <td>0</td>\n",
              "      <td>0</td>\n",
              "      <td>0</td>\n",
              "      <td>0</td>\n",
              "      <td>1</td>\n",
              "      <td>0</td>\n",
              "      <td>0</td>\n",
              "      <td>0</td>\n",
              "      <td>0</td>\n",
              "      <td>1</td>\n",
              "      <td>0</td>\n",
              "      <td>0</td>\n",
              "      <td>1</td>\n",
              "      <td>0</td>\n",
              "      <td>0</td>\n",
              "      <td>0</td>\n",
              "      <td>0</td>\n",
              "      <td>0</td>\n",
              "      <td>1</td>\n",
              "      <td>0</td>\n",
              "      <td>0</td>\n",
              "      <td>0</td>\n",
              "      <td>1</td>\n",
              "      <td>0</td>\n",
              "      <td>0</td>\n",
              "      <td>1</td>\n",
              "      <td>0</td>\n",
              "      <td>0</td>\n",
              "      <td>0</td>\n",
              "      <td>0</td>\n",
              "      <td>0</td>\n",
              "      <td>0</td>\n",
              "      <td>1</td>\n",
              "      <td>0</td>\n",
              "      <td>0</td>\n",
              "      <td>1</td>\n",
              "      <td>0</td>\n",
              "      <td>0</td>\n",
              "      <td>1</td>\n",
              "      <td>0</td>\n",
              "      <td>0</td>\n",
              "      <td>1</td>\n",
              "      <td>0</td>\n",
              "      <td>0</td>\n",
              "      <td>0</td>\n",
              "      <td>1</td>\n",
              "      <td>0</td>\n",
              "      <td>0</td>\n",
              "      <td>0</td>\n",
              "      <td>0</td>\n",
              "      <td>1</td>\n",
              "      <td>0</td>\n",
              "      <td>0</td>\n",
              "      <td>0</td>\n",
              "      <td>0</td>\n",
              "      <td>0</td>\n",
              "      <td>0</td>\n",
              "      <td>0</td>\n",
              "      <td>0</td>\n",
              "      <td>0</td>\n",
              "      <td>0</td>\n",
              "      <td>0</td>\n",
              "      <td>e23e4e82d</td>\n",
              "      <td>0</td>\n",
              "      <td>6</td>\n",
              "      <td>0</td>\n",
              "      <td>6</td>\n",
              "      <td>no</td>\n",
              "      <td>9</td>\n",
              "      <td>no</td>\n",
              "      <td>10.5</td>\n",
              "      <td>0</td>\n",
              "      <td>0</td>\n",
              "      <td>0</td>\n",
              "      <td>1</td>\n",
              "      <td>0</td>\n",
              "      <td>0</td>\n",
              "      <td>0</td>\n",
              "      <td>0</td>\n",
              "      <td>0</td>\n",
              "      <td>6</td>\n",
              "      <td>1.0</td>\n",
              "      <td>1</td>\n",
              "      <td>0</td>\n",
              "      <td>0</td>\n",
              "      <td>0</td>\n",
              "      <td>0</td>\n",
              "      <td>0</td>\n",
              "      <td>1</td>\n",
              "      <td>1</td>\n",
              "      <td>8</td>\n",
              "      <td>1</td>\n",
              "      <td>0</td>\n",
              "      <td>0</td>\n",
              "      <td>0</td>\n",
              "      <td>0</td>\n",
              "      <td>0</td>\n",
              "      <td>1</td>\n",
              "      <td>0</td>\n",
              "      <td>62</td>\n",
              "      <td>81</td>\n",
              "      <td>3844</td>\n",
              "      <td>36</td>\n",
              "      <td>81</td>\n",
              "      <td>0</td>\n",
              "      <td>1.0</td>\n",
              "      <td>0.0</td>\n",
              "      <td>110.25</td>\n",
              "      <td>3844</td>\n",
              "      <td>4</td>\n",
              "    </tr>\n",
              "    <tr>\n",
              "      <th>2664</th>\n",
              "      <td>ID_f7ee466a3</td>\n",
              "      <td>NaN</td>\n",
              "      <td>0</td>\n",
              "      <td>9</td>\n",
              "      <td>0</td>\n",
              "      <td>1</td>\n",
              "      <td>1</td>\n",
              "      <td>1</td>\n",
              "      <td>6.0</td>\n",
              "      <td>0</td>\n",
              "      <td>4</td>\n",
              "      <td>4</td>\n",
              "      <td>0</td>\n",
              "      <td>2</td>\n",
              "      <td>2</td>\n",
              "      <td>0</td>\n",
              "      <td>6</td>\n",
              "      <td>6</td>\n",
              "      <td>6</td>\n",
              "      <td>6</td>\n",
              "      <td>13</td>\n",
              "      <td>NaN</td>\n",
              "      <td>6</td>\n",
              "      <td>0</td>\n",
              "      <td>0</td>\n",
              "      <td>1</td>\n",
              "      <td>0</td>\n",
              "      <td>0</td>\n",
              "      <td>0</td>\n",
              "      <td>0</td>\n",
              "      <td>0</td>\n",
              "      <td>0</td>\n",
              "      <td>1</td>\n",
              "      <td>0</td>\n",
              "      <td>0</td>\n",
              "      <td>0</td>\n",
              "      <td>0</td>\n",
              "      <td>1</td>\n",
              "      <td>0</td>\n",
              "      <td>0</td>\n",
              "      <td>0</td>\n",
              "      <td>0</td>\n",
              "      <td>1</td>\n",
              "      <td>0</td>\n",
              "      <td>0</td>\n",
              "      <td>1</td>\n",
              "      <td>0</td>\n",
              "      <td>0</td>\n",
              "      <td>0</td>\n",
              "      <td>0</td>\n",
              "      <td>0</td>\n",
              "      <td>1</td>\n",
              "      <td>0</td>\n",
              "      <td>0</td>\n",
              "      <td>0</td>\n",
              "      <td>1</td>\n",
              "      <td>0</td>\n",
              "      <td>0</td>\n",
              "      <td>1</td>\n",
              "      <td>0</td>\n",
              "      <td>0</td>\n",
              "      <td>0</td>\n",
              "      <td>0</td>\n",
              "      <td>0</td>\n",
              "      <td>0</td>\n",
              "      <td>1</td>\n",
              "      <td>0</td>\n",
              "      <td>0</td>\n",
              "      <td>1</td>\n",
              "      <td>0</td>\n",
              "      <td>0</td>\n",
              "      <td>1</td>\n",
              "      <td>0</td>\n",
              "      <td>0</td>\n",
              "      <td>0</td>\n",
              "      <td>1</td>\n",
              "      <td>0</td>\n",
              "      <td>0</td>\n",
              "      <td>0</td>\n",
              "      <td>0</td>\n",
              "      <td>0</td>\n",
              "      <td>0</td>\n",
              "      <td>1</td>\n",
              "      <td>0</td>\n",
              "      <td>0</td>\n",
              "      <td>1</td>\n",
              "      <td>0</td>\n",
              "      <td>0</td>\n",
              "      <td>0</td>\n",
              "      <td>0</td>\n",
              "      <td>0</td>\n",
              "      <td>0</td>\n",
              "      <td>0</td>\n",
              "      <td>0</td>\n",
              "      <td>0</td>\n",
              "      <td>e23e4e82d</td>\n",
              "      <td>0</td>\n",
              "      <td>6</td>\n",
              "      <td>0</td>\n",
              "      <td>6</td>\n",
              "      <td>no</td>\n",
              "      <td>9</td>\n",
              "      <td>no</td>\n",
              "      <td>10.5</td>\n",
              "      <td>0</td>\n",
              "      <td>0</td>\n",
              "      <td>0</td>\n",
              "      <td>0</td>\n",
              "      <td>0</td>\n",
              "      <td>0</td>\n",
              "      <td>0</td>\n",
              "      <td>1</td>\n",
              "      <td>0</td>\n",
              "      <td>6</td>\n",
              "      <td>1.0</td>\n",
              "      <td>1</td>\n",
              "      <td>0</td>\n",
              "      <td>0</td>\n",
              "      <td>0</td>\n",
              "      <td>0</td>\n",
              "      <td>0</td>\n",
              "      <td>1</td>\n",
              "      <td>1</td>\n",
              "      <td>8</td>\n",
              "      <td>1</td>\n",
              "      <td>0</td>\n",
              "      <td>0</td>\n",
              "      <td>0</td>\n",
              "      <td>0</td>\n",
              "      <td>0</td>\n",
              "      <td>1</td>\n",
              "      <td>0</td>\n",
              "      <td>28</td>\n",
              "      <td>169</td>\n",
              "      <td>784</td>\n",
              "      <td>36</td>\n",
              "      <td>81</td>\n",
              "      <td>0</td>\n",
              "      <td>1.0</td>\n",
              "      <td>0.0</td>\n",
              "      <td>110.25</td>\n",
              "      <td>784</td>\n",
              "      <td>4</td>\n",
              "    </tr>\n",
              "  </tbody>\n",
              "</table>\n",
              "</div>\n",
              "      <button class=\"colab-df-convert\" onclick=\"convertToInteractive('df-e0fd12dd-87b1-4679-8867-4642bdcbbc63')\"\n",
              "              title=\"Convert this dataframe to an interactive table.\"\n",
              "              style=\"display:none;\">\n",
              "        \n",
              "  <svg xmlns=\"http://www.w3.org/2000/svg\" height=\"24px\"viewBox=\"0 0 24 24\"\n",
              "       width=\"24px\">\n",
              "    <path d=\"M0 0h24v24H0V0z\" fill=\"none\"/>\n",
              "    <path d=\"M18.56 5.44l.94 2.06.94-2.06 2.06-.94-2.06-.94-.94-2.06-.94 2.06-2.06.94zm-11 1L8.5 8.5l.94-2.06 2.06-.94-2.06-.94L8.5 2.5l-.94 2.06-2.06.94zm10 10l.94 2.06.94-2.06 2.06-.94-2.06-.94-.94-2.06-.94 2.06-2.06.94z\"/><path d=\"M17.41 7.96l-1.37-1.37c-.4-.4-.92-.59-1.43-.59-.52 0-1.04.2-1.43.59L10.3 9.45l-7.72 7.72c-.78.78-.78 2.05 0 2.83L4 21.41c.39.39.9.59 1.41.59.51 0 1.02-.2 1.41-.59l7.78-7.78 2.81-2.81c.8-.78.8-2.07 0-2.86zM5.41 20L4 18.59l7.72-7.72 1.47 1.35L5.41 20z\"/>\n",
              "  </svg>\n",
              "      </button>\n",
              "      \n",
              "  <style>\n",
              "    .colab-df-container {\n",
              "      display:flex;\n",
              "      flex-wrap:wrap;\n",
              "      gap: 12px;\n",
              "    }\n",
              "\n",
              "    .colab-df-convert {\n",
              "      background-color: #E8F0FE;\n",
              "      border: none;\n",
              "      border-radius: 50%;\n",
              "      cursor: pointer;\n",
              "      display: none;\n",
              "      fill: #1967D2;\n",
              "      height: 32px;\n",
              "      padding: 0 0 0 0;\n",
              "      width: 32px;\n",
              "    }\n",
              "\n",
              "    .colab-df-convert:hover {\n",
              "      background-color: #E2EBFA;\n",
              "      box-shadow: 0px 1px 2px rgba(60, 64, 67, 0.3), 0px 1px 3px 1px rgba(60, 64, 67, 0.15);\n",
              "      fill: #174EA6;\n",
              "    }\n",
              "\n",
              "    [theme=dark] .colab-df-convert {\n",
              "      background-color: #3B4455;\n",
              "      fill: #D2E3FC;\n",
              "    }\n",
              "\n",
              "    [theme=dark] .colab-df-convert:hover {\n",
              "      background-color: #434B5C;\n",
              "      box-shadow: 0px 1px 3px 1px rgba(0, 0, 0, 0.15);\n",
              "      filter: drop-shadow(0px 1px 2px rgba(0, 0, 0, 0.3));\n",
              "      fill: #FFFFFF;\n",
              "    }\n",
              "  </style>\n",
              "\n",
              "      <script>\n",
              "        const buttonEl =\n",
              "          document.querySelector('#df-e0fd12dd-87b1-4679-8867-4642bdcbbc63 button.colab-df-convert');\n",
              "        buttonEl.style.display =\n",
              "          google.colab.kernel.accessAllowed ? 'block' : 'none';\n",
              "\n",
              "        async function convertToInteractive(key) {\n",
              "          const element = document.querySelector('#df-e0fd12dd-87b1-4679-8867-4642bdcbbc63');\n",
              "          const dataTable =\n",
              "            await google.colab.kernel.invokeFunction('convertToInteractive',\n",
              "                                                     [key], {});\n",
              "          if (!dataTable) return;\n",
              "\n",
              "          const docLinkHtml = 'Like what you see? Visit the ' +\n",
              "            '<a target=\"_blank\" href=https://colab.research.google.com/notebooks/data_table.ipynb>data table notebook</a>'\n",
              "            + ' to learn more about interactive tables.';\n",
              "          element.innerHTML = '';\n",
              "          dataTable['output_type'] = 'display_data';\n",
              "          await google.colab.output.renderOutput(dataTable, element);\n",
              "          const docLink = document.createElement('div');\n",
              "          docLink.innerHTML = docLinkHtml;\n",
              "          element.appendChild(docLink);\n",
              "        }\n",
              "      </script>\n",
              "    </div>\n",
              "  </div>\n",
              "  "
            ]
          },
          "metadata": {},
          "execution_count": 242
        }
      ]
    },
    {
      "cell_type": "markdown",
      "source": [
        "# Family Information"
      ],
      "metadata": {
        "id": "Cs2VnDCOBRbI"
      }
    },
    {
      "cell_type": "code",
      "source": [
        "df.shape"
      ],
      "metadata": {
        "colab": {
          "base_uri": "https://localhost:8080/"
        },
        "id": "wkbb5T7HCGM7",
        "outputId": "f03e57d0-cafc-4857-aa82-eb6465edf766"
      },
      "execution_count": 29,
      "outputs": [
        {
          "output_type": "execute_result",
          "data": {
            "text/plain": [
              "(9557, 143)"
            ]
          },
          "metadata": {},
          "execution_count": 29
        }
      ]
    },
    {
      "cell_type": "code",
      "source": [
        "len1=len(df['idhogar'].unique())\n",
        "print(\"len1=\",len1)"
      ],
      "metadata": {
        "colab": {
          "base_uri": "https://localhost:8080/"
        },
        "id": "AItP9wp8PobP",
        "outputId": "eb6d0cce-ccdb-41d8-c9ef-e55edca986c0"
      },
      "execution_count": 30,
      "outputs": [
        {
          "output_type": "stream",
          "name": "stdout",
          "text": [
            "len1= 2988\n"
          ]
        }
      ]
    },
    {
      "cell_type": "code",
      "source": [
        "len2=len(df.groupby(['idhogar','Target'])['Target'].unique())\n",
        "print(\"len2=\",len2)"
      ],
      "metadata": {
        "colab": {
          "base_uri": "https://localhost:8080/"
        },
        "id": "8rHN2O1BTfVe",
        "outputId": "f3c1ce05-7910-4997-ba92-9ba97f456a3c"
      },
      "execution_count": 31,
      "outputs": [
        {
          "output_type": "stream",
          "name": "stdout",
          "text": [
            "len2= 3074\n"
          ]
        }
      ]
    },
    {
      "cell_type": "code",
      "source": [
        "# Family without the head\n",
        "X=df[df['parentesco1']==1]\n",
        "len(X['idhogar'].unique()),len(df['idhogar'].unique())\n"
      ],
      "metadata": {
        "colab": {
          "base_uri": "https://localhost:8080/"
        },
        "id": "4P4S_exOj45Q",
        "outputId": "0e37436b-7216-4d06-e25e-7d2ba002b605"
      },
      "execution_count": 32,
      "outputs": [
        {
          "output_type": "execute_result",
          "data": {
            "text/plain": [
              "(2973, 2988)"
            ]
          },
          "metadata": {},
          "execution_count": 32
        }
      ]
    },
    {
      "cell_type": "code",
      "source": [
        "def get_target_by_idhogar(df,i_idhogar):\n",
        "  X=df.groupby('idhogar')['Target'].value_counts()\n",
        "  return [i[1] for i in X.index if i[0]==i_idhogar][0]"
      ],
      "metadata": {
        "id": "bXgTzVl7Vdc3"
      },
      "execution_count": 25,
      "outputs": []
    },
    {
      "cell_type": "code",
      "source": [
        "get_target_by_idhogar(df,'004983866'),get_target_by_idhogar(df,'005905417')"
      ],
      "metadata": {
        "colab": {
          "base_uri": "https://localhost:8080/"
        },
        "id": "FsT5vRyBVkdx",
        "outputId": "652ba389-71d3-44b3-aca8-a3cfbff239a1"
      },
      "execution_count": 34,
      "outputs": [
        {
          "output_type": "execute_result",
          "data": {
            "text/plain": [
              "(3, 2)"
            ]
          },
          "metadata": {},
          "execution_count": 34
        }
      ]
    },
    {
      "cell_type": "code",
      "source": [
        "# list families with multiple Target members\n",
        "# Update the target of family members by by that of the holder\n",
        "def list_family_no_unique_target(i_df,i_update_target=False):\n",
        "  list_h=i_df[i_df['parentesco1']==1]\n",
        "  #len(list_h)\n",
        "  ll=list(list_h['idhogar'])\n",
        "  ll2=[]\n",
        "  for idh in ll:\n",
        "    X_target=list_h[list_h['idhogar']==idh].iloc[:]['Target']\n",
        "    target=X_target.values[0]\n",
        "    XX=set(i_df[i_df['idhogar']==idh]['Target'])\n",
        "    if len(XX) > 1:\n",
        "      ll2.append((idh,len(XX),target))\n",
        "      if i_update_target:\n",
        "        df.loc[df.idhogar==idh,'Target']=target\n",
        "  return(ll2)\n"
      ],
      "metadata": {
        "id": "TCZEB51gV12u"
      },
      "execution_count": 26,
      "outputs": []
    },
    {
      "cell_type": "code",
      "source": [
        "# list families with multiple Target members \n",
        "len(list_family_no_unique_target(df))"
      ],
      "metadata": {
        "colab": {
          "base_uri": "https://localhost:8080/"
        },
        "id": "fFH01GI3V1iG",
        "outputId": "f096bef5-85c6-4f67-84c7-8e94e19cea7d"
      },
      "execution_count": 36,
      "outputs": [
        {
          "output_type": "execute_result",
          "data": {
            "text/plain": [
              "85"
            ]
          },
          "metadata": {},
          "execution_count": 36
        }
      ]
    },
    {
      "cell_type": "code",
      "source": [
        "# Update the Target of family members by by that of the header\n",
        "len(list_family_no_unique_target(df,True))"
      ],
      "metadata": {
        "colab": {
          "base_uri": "https://localhost:8080/"
        },
        "id": "W4pcZso-cbWt",
        "outputId": "f76c492d-088e-4a4b-d060-dc5e7f650cd6"
      },
      "execution_count": 37,
      "outputs": [
        {
          "output_type": "execute_result",
          "data": {
            "text/plain": [
              "85"
            ]
          },
          "metadata": {},
          "execution_count": 37
        }
      ]
    },
    {
      "cell_type": "code",
      "source": [
        "# check if there are families left with members of different Targets\n",
        "len(list_family_no_unique_target(df))"
      ],
      "metadata": {
        "colab": {
          "base_uri": "https://localhost:8080/"
        },
        "id": "AOQByaXacbtN",
        "outputId": "d9c49ab6-c922-4a5c-bb7d-e11f9f281aba"
      },
      "execution_count": 38,
      "outputs": [
        {
          "output_type": "execute_result",
          "data": {
            "text/plain": [
              "0"
            ]
          },
          "metadata": {},
          "execution_count": 38
        }
      ]
    },
    {
      "cell_type": "code",
      "source": [
        ""
      ],
      "metadata": {
        "id": "EbtXnOYMdS99"
      },
      "execution_count": null,
      "outputs": []
    },
    {
      "cell_type": "markdown",
      "source": [
        "# NaN Values"
      ],
      "metadata": {
        "id": "qsQ_C7sDYldD"
      }
    },
    {
      "cell_type": "code",
      "source": [
        "df.isna().sum().sort_values(ascending=False)[:8]"
      ],
      "metadata": {
        "colab": {
          "base_uri": "https://localhost:8080/"
        },
        "id": "0vwNmXUUsHEz",
        "outputId": "8495255e-792f-4222-d12a-b21f98992283"
      },
      "execution_count": 39,
      "outputs": [
        {
          "output_type": "execute_result",
          "data": {
            "text/plain": [
              "rez_esc         7928\n",
              "v18q1           7342\n",
              "v2a1            6860\n",
              "SQBmeaned          5\n",
              "meaneduc           5\n",
              "Id                 0\n",
              "hogar_adul         0\n",
              "parentesco10       0\n",
              "dtype: int64"
            ]
          },
          "metadata": {},
          "execution_count": 39
        }
      ]
    },
    {
      "cell_type": "code",
      "source": [
        "X=df.isnull().sum().sort_values(ascending=False)\n",
        "df_X=pd.DataFrame(X,columns=['nbre_of_null_values'])\n",
        "df_X[df_X['nbre_of_null_values']>0]"
      ],
      "metadata": {
        "colab": {
          "base_uri": "https://localhost:8080/",
          "height": 206
        },
        "id": "zngB0m7KuGj9",
        "outputId": "ede7224a-b71f-44db-ce0f-6eb9ac304c41"
      },
      "execution_count": 40,
      "outputs": [
        {
          "output_type": "execute_result",
          "data": {
            "text/plain": [
              "           nbre_of_null_values\n",
              "rez_esc                   7928\n",
              "v18q1                     7342\n",
              "v2a1                      6860\n",
              "SQBmeaned                    5\n",
              "meaneduc                     5"
            ],
            "text/html": [
              "\n",
              "  <div id=\"df-a28f50f9-081a-424d-b5d2-0ae421788a34\">\n",
              "    <div class=\"colab-df-container\">\n",
              "      <div>\n",
              "<style scoped>\n",
              "    .dataframe tbody tr th:only-of-type {\n",
              "        vertical-align: middle;\n",
              "    }\n",
              "\n",
              "    .dataframe tbody tr th {\n",
              "        vertical-align: top;\n",
              "    }\n",
              "\n",
              "    .dataframe thead th {\n",
              "        text-align: right;\n",
              "    }\n",
              "</style>\n",
              "<table border=\"1\" class=\"dataframe\">\n",
              "  <thead>\n",
              "    <tr style=\"text-align: right;\">\n",
              "      <th></th>\n",
              "      <th>nbre_of_null_values</th>\n",
              "    </tr>\n",
              "  </thead>\n",
              "  <tbody>\n",
              "    <tr>\n",
              "      <th>rez_esc</th>\n",
              "      <td>7928</td>\n",
              "    </tr>\n",
              "    <tr>\n",
              "      <th>v18q1</th>\n",
              "      <td>7342</td>\n",
              "    </tr>\n",
              "    <tr>\n",
              "      <th>v2a1</th>\n",
              "      <td>6860</td>\n",
              "    </tr>\n",
              "    <tr>\n",
              "      <th>SQBmeaned</th>\n",
              "      <td>5</td>\n",
              "    </tr>\n",
              "    <tr>\n",
              "      <th>meaneduc</th>\n",
              "      <td>5</td>\n",
              "    </tr>\n",
              "  </tbody>\n",
              "</table>\n",
              "</div>\n",
              "      <button class=\"colab-df-convert\" onclick=\"convertToInteractive('df-a28f50f9-081a-424d-b5d2-0ae421788a34')\"\n",
              "              title=\"Convert this dataframe to an interactive table.\"\n",
              "              style=\"display:none;\">\n",
              "        \n",
              "  <svg xmlns=\"http://www.w3.org/2000/svg\" height=\"24px\"viewBox=\"0 0 24 24\"\n",
              "       width=\"24px\">\n",
              "    <path d=\"M0 0h24v24H0V0z\" fill=\"none\"/>\n",
              "    <path d=\"M18.56 5.44l.94 2.06.94-2.06 2.06-.94-2.06-.94-.94-2.06-.94 2.06-2.06.94zm-11 1L8.5 8.5l.94-2.06 2.06-.94-2.06-.94L8.5 2.5l-.94 2.06-2.06.94zm10 10l.94 2.06.94-2.06 2.06-.94-2.06-.94-.94-2.06-.94 2.06-2.06.94z\"/><path d=\"M17.41 7.96l-1.37-1.37c-.4-.4-.92-.59-1.43-.59-.52 0-1.04.2-1.43.59L10.3 9.45l-7.72 7.72c-.78.78-.78 2.05 0 2.83L4 21.41c.39.39.9.59 1.41.59.51 0 1.02-.2 1.41-.59l7.78-7.78 2.81-2.81c.8-.78.8-2.07 0-2.86zM5.41 20L4 18.59l7.72-7.72 1.47 1.35L5.41 20z\"/>\n",
              "  </svg>\n",
              "      </button>\n",
              "      \n",
              "  <style>\n",
              "    .colab-df-container {\n",
              "      display:flex;\n",
              "      flex-wrap:wrap;\n",
              "      gap: 12px;\n",
              "    }\n",
              "\n",
              "    .colab-df-convert {\n",
              "      background-color: #E8F0FE;\n",
              "      border: none;\n",
              "      border-radius: 50%;\n",
              "      cursor: pointer;\n",
              "      display: none;\n",
              "      fill: #1967D2;\n",
              "      height: 32px;\n",
              "      padding: 0 0 0 0;\n",
              "      width: 32px;\n",
              "    }\n",
              "\n",
              "    .colab-df-convert:hover {\n",
              "      background-color: #E2EBFA;\n",
              "      box-shadow: 0px 1px 2px rgba(60, 64, 67, 0.3), 0px 1px 3px 1px rgba(60, 64, 67, 0.15);\n",
              "      fill: #174EA6;\n",
              "    }\n",
              "\n",
              "    [theme=dark] .colab-df-convert {\n",
              "      background-color: #3B4455;\n",
              "      fill: #D2E3FC;\n",
              "    }\n",
              "\n",
              "    [theme=dark] .colab-df-convert:hover {\n",
              "      background-color: #434B5C;\n",
              "      box-shadow: 0px 1px 3px 1px rgba(0, 0, 0, 0.15);\n",
              "      filter: drop-shadow(0px 1px 2px rgba(0, 0, 0, 0.3));\n",
              "      fill: #FFFFFF;\n",
              "    }\n",
              "  </style>\n",
              "\n",
              "      <script>\n",
              "        const buttonEl =\n",
              "          document.querySelector('#df-a28f50f9-081a-424d-b5d2-0ae421788a34 button.colab-df-convert');\n",
              "        buttonEl.style.display =\n",
              "          google.colab.kernel.accessAllowed ? 'block' : 'none';\n",
              "\n",
              "        async function convertToInteractive(key) {\n",
              "          const element = document.querySelector('#df-a28f50f9-081a-424d-b5d2-0ae421788a34');\n",
              "          const dataTable =\n",
              "            await google.colab.kernel.invokeFunction('convertToInteractive',\n",
              "                                                     [key], {});\n",
              "          if (!dataTable) return;\n",
              "\n",
              "          const docLinkHtml = 'Like what you see? Visit the ' +\n",
              "            '<a target=\"_blank\" href=https://colab.research.google.com/notebooks/data_table.ipynb>data table notebook</a>'\n",
              "            + ' to learn more about interactive tables.';\n",
              "          element.innerHTML = '';\n",
              "          dataTable['output_type'] = 'display_data';\n",
              "          await google.colab.output.renderOutput(dataTable, element);\n",
              "          const docLink = document.createElement('div');\n",
              "          docLink.innerHTML = docLinkHtml;\n",
              "          element.appendChild(docLink);\n",
              "        }\n",
              "      </script>\n",
              "    </div>\n",
              "  </div>\n",
              "  "
            ]
          },
          "metadata": {},
          "execution_count": 40
        }
      ]
    },
    {
      "cell_type": "code",
      "source": [
        "list(df_X[df_X['nbre_of_null_values']>0].index)"
      ],
      "metadata": {
        "colab": {
          "base_uri": "https://localhost:8080/"
        },
        "id": "Z_YQ2-P5vA0A",
        "outputId": "092afee6-0bba-4203-b0b4-c18b14025de3"
      },
      "execution_count": 41,
      "outputs": [
        {
          "output_type": "execute_result",
          "data": {
            "text/plain": [
              "['rez_esc', 'v18q1', 'v2a1', 'SQBmeaned', 'meaneduc']"
            ]
          },
          "metadata": {},
          "execution_count": 41
        }
      ]
    },
    {
      "cell_type": "code",
      "source": [
        "X=(df.isna().sum()/df.shape[0]).sort_values(ascending=False)[:8]\n",
        "X"
      ],
      "metadata": {
        "colab": {
          "base_uri": "https://localhost:8080/"
        },
        "id": "p6g__-lfLgcV",
        "outputId": "5e3bb6c2-f127-4d43-ac5c-58aa52a4793c"
      },
      "execution_count": 42,
      "outputs": [
        {
          "output_type": "execute_result",
          "data": {
            "text/plain": [
              "rez_esc         0.829549\n",
              "v18q1           0.768233\n",
              "v2a1            0.717798\n",
              "SQBmeaned       0.000523\n",
              "meaneduc        0.000523\n",
              "Id              0.000000\n",
              "hogar_adul      0.000000\n",
              "parentesco10    0.000000\n",
              "dtype: float64"
            ]
          },
          "metadata": {},
          "execution_count": 42
        }
      ]
    },
    {
      "cell_type": "code",
      "source": [
        "df_X=pd.DataFrame(X,columns=['ratio'])\n",
        "df_X[df_X['ratio']>0]\n",
        "#df_X[df_X.isna()==False and df_X[0] > 0]"
      ],
      "metadata": {
        "colab": {
          "base_uri": "https://localhost:8080/",
          "height": 206
        },
        "id": "-mtnqeG_Ttos",
        "outputId": "af136e4f-98a3-4e86-b2b4-db189e018570"
      },
      "execution_count": 43,
      "outputs": [
        {
          "output_type": "execute_result",
          "data": {
            "text/plain": [
              "              ratio\n",
              "rez_esc    0.829549\n",
              "v18q1      0.768233\n",
              "v2a1       0.717798\n",
              "SQBmeaned  0.000523\n",
              "meaneduc   0.000523"
            ],
            "text/html": [
              "\n",
              "  <div id=\"df-fd40adfc-003c-4ee2-8136-0c22f970d187\">\n",
              "    <div class=\"colab-df-container\">\n",
              "      <div>\n",
              "<style scoped>\n",
              "    .dataframe tbody tr th:only-of-type {\n",
              "        vertical-align: middle;\n",
              "    }\n",
              "\n",
              "    .dataframe tbody tr th {\n",
              "        vertical-align: top;\n",
              "    }\n",
              "\n",
              "    .dataframe thead th {\n",
              "        text-align: right;\n",
              "    }\n",
              "</style>\n",
              "<table border=\"1\" class=\"dataframe\">\n",
              "  <thead>\n",
              "    <tr style=\"text-align: right;\">\n",
              "      <th></th>\n",
              "      <th>ratio</th>\n",
              "    </tr>\n",
              "  </thead>\n",
              "  <tbody>\n",
              "    <tr>\n",
              "      <th>rez_esc</th>\n",
              "      <td>0.829549</td>\n",
              "    </tr>\n",
              "    <tr>\n",
              "      <th>v18q1</th>\n",
              "      <td>0.768233</td>\n",
              "    </tr>\n",
              "    <tr>\n",
              "      <th>v2a1</th>\n",
              "      <td>0.717798</td>\n",
              "    </tr>\n",
              "    <tr>\n",
              "      <th>SQBmeaned</th>\n",
              "      <td>0.000523</td>\n",
              "    </tr>\n",
              "    <tr>\n",
              "      <th>meaneduc</th>\n",
              "      <td>0.000523</td>\n",
              "    </tr>\n",
              "  </tbody>\n",
              "</table>\n",
              "</div>\n",
              "      <button class=\"colab-df-convert\" onclick=\"convertToInteractive('df-fd40adfc-003c-4ee2-8136-0c22f970d187')\"\n",
              "              title=\"Convert this dataframe to an interactive table.\"\n",
              "              style=\"display:none;\">\n",
              "        \n",
              "  <svg xmlns=\"http://www.w3.org/2000/svg\" height=\"24px\"viewBox=\"0 0 24 24\"\n",
              "       width=\"24px\">\n",
              "    <path d=\"M0 0h24v24H0V0z\" fill=\"none\"/>\n",
              "    <path d=\"M18.56 5.44l.94 2.06.94-2.06 2.06-.94-2.06-.94-.94-2.06-.94 2.06-2.06.94zm-11 1L8.5 8.5l.94-2.06 2.06-.94-2.06-.94L8.5 2.5l-.94 2.06-2.06.94zm10 10l.94 2.06.94-2.06 2.06-.94-2.06-.94-.94-2.06-.94 2.06-2.06.94z\"/><path d=\"M17.41 7.96l-1.37-1.37c-.4-.4-.92-.59-1.43-.59-.52 0-1.04.2-1.43.59L10.3 9.45l-7.72 7.72c-.78.78-.78 2.05 0 2.83L4 21.41c.39.39.9.59 1.41.59.51 0 1.02-.2 1.41-.59l7.78-7.78 2.81-2.81c.8-.78.8-2.07 0-2.86zM5.41 20L4 18.59l7.72-7.72 1.47 1.35L5.41 20z\"/>\n",
              "  </svg>\n",
              "      </button>\n",
              "      \n",
              "  <style>\n",
              "    .colab-df-container {\n",
              "      display:flex;\n",
              "      flex-wrap:wrap;\n",
              "      gap: 12px;\n",
              "    }\n",
              "\n",
              "    .colab-df-convert {\n",
              "      background-color: #E8F0FE;\n",
              "      border: none;\n",
              "      border-radius: 50%;\n",
              "      cursor: pointer;\n",
              "      display: none;\n",
              "      fill: #1967D2;\n",
              "      height: 32px;\n",
              "      padding: 0 0 0 0;\n",
              "      width: 32px;\n",
              "    }\n",
              "\n",
              "    .colab-df-convert:hover {\n",
              "      background-color: #E2EBFA;\n",
              "      box-shadow: 0px 1px 2px rgba(60, 64, 67, 0.3), 0px 1px 3px 1px rgba(60, 64, 67, 0.15);\n",
              "      fill: #174EA6;\n",
              "    }\n",
              "\n",
              "    [theme=dark] .colab-df-convert {\n",
              "      background-color: #3B4455;\n",
              "      fill: #D2E3FC;\n",
              "    }\n",
              "\n",
              "    [theme=dark] .colab-df-convert:hover {\n",
              "      background-color: #434B5C;\n",
              "      box-shadow: 0px 1px 3px 1px rgba(0, 0, 0, 0.15);\n",
              "      filter: drop-shadow(0px 1px 2px rgba(0, 0, 0, 0.3));\n",
              "      fill: #FFFFFF;\n",
              "    }\n",
              "  </style>\n",
              "\n",
              "      <script>\n",
              "        const buttonEl =\n",
              "          document.querySelector('#df-fd40adfc-003c-4ee2-8136-0c22f970d187 button.colab-df-convert');\n",
              "        buttonEl.style.display =\n",
              "          google.colab.kernel.accessAllowed ? 'block' : 'none';\n",
              "\n",
              "        async function convertToInteractive(key) {\n",
              "          const element = document.querySelector('#df-fd40adfc-003c-4ee2-8136-0c22f970d187');\n",
              "          const dataTable =\n",
              "            await google.colab.kernel.invokeFunction('convertToInteractive',\n",
              "                                                     [key], {});\n",
              "          if (!dataTable) return;\n",
              "\n",
              "          const docLinkHtml = 'Like what you see? Visit the ' +\n",
              "            '<a target=\"_blank\" href=https://colab.research.google.com/notebooks/data_table.ipynb>data table notebook</a>'\n",
              "            + ' to learn more about interactive tables.';\n",
              "          element.innerHTML = '';\n",
              "          dataTable['output_type'] = 'display_data';\n",
              "          await google.colab.output.renderOutput(dataTable, element);\n",
              "          const docLink = document.createElement('div');\n",
              "          docLink.innerHTML = docLinkHtml;\n",
              "          element.appendChild(docLink);\n",
              "        }\n",
              "      </script>\n",
              "    </div>\n",
              "  </div>\n",
              "  "
            ]
          },
          "metadata": {},
          "execution_count": 43
        }
      ]
    },
    {
      "cell_type": "code",
      "source": [
        "#lst_null=df.isnull().sum()\n",
        "df_cmpt_na=df.isna().sum()\n",
        "lst_col_with_na=[]\n",
        "for col in df.columns:\n",
        "  if df_cmpt_na.loc[:][col] > 0:\n",
        "    lst_col_with_na.append(col)\n",
        "#len(lst_with_na)\n",
        "print(lst_col_with_na,'\\n')\n",
        "#\n",
        "# Number of NaN in columns\n",
        "for col in lst_col_with_na:\n",
        "  dd=df[col].isnull().value_counts()\n",
        "  print((col,dd[1]))"
      ],
      "metadata": {
        "colab": {
          "base_uri": "https://localhost:8080/"
        },
        "id": "ocj692SkNmzp",
        "outputId": "ac14a556-da00-4895-ee29-a48358e192a3"
      },
      "execution_count": 44,
      "outputs": [
        {
          "output_type": "stream",
          "name": "stdout",
          "text": [
            "['v2a1', 'v18q1', 'rez_esc', 'meaneduc', 'SQBmeaned'] \n",
            "\n",
            "('v2a1', 6860)\n",
            "('v18q1', 7342)\n",
            "('rez_esc', 7928)\n",
            "('meaneduc', 5)\n",
            "('SQBmeaned', 5)\n"
          ]
        }
      ]
    },
    {
      "cell_type": "markdown",
      "source": [
        "# Preprocessing"
      ],
      "metadata": {
        "id": "Y2WnEx5VZS4_"
      }
    },
    {
      "cell_type": "code",
      "source": [
        "# Encoding to 0,1 teh values 'yes' and 'no' for dependency, edjefe , edjefa\n",
        "# Encoding to numeric idhogar\n",
        "def encodage(i_df):\n",
        "    code = {'yes':1,\n",
        "             'no':0}\n",
        "    l_df=i_df.copy()\n",
        "    # 'dependency', 'edjefe', 'edjefa']\n",
        "    mapping={'yes':1,'no':0}\n",
        "\n",
        "    l_df['dependency'] =l_df['dependency'].replace(code).astype(np.float64)\n",
        "    l_df['edjefe'] =l_df['edjefe'].replace(code).astype(np.float64)\n",
        "    l_df['edjefa'] =l_df['edjefa'].replace(code).astype(np.float64)\n",
        "    \n",
        "    #\n",
        "    # Encodage idhogar column\n",
        "    set1=set(l_df['idhogar'])\n",
        "    ll=list(set1)\n",
        "    #\n",
        "    l_mapping={ll[i]:i+1 for i in range(0, len(ll))}\n",
        "    l_df['idhogar'] =l_df['idhogar'].replace(l_mapping).astype(np.float64)\n",
        "    #idhogar\n",
        "    return l_df"
      ],
      "metadata": {
        "id": "YEwPpu7hQ37R"
      },
      "execution_count": 27,
      "outputs": []
    },
    {
      "cell_type": "markdown",
      "source": [
        "Case v18q1:"
      ],
      "metadata": {
        "id": "bDGZTqKWEOmF"
      }
    },
    {
      "cell_type": "code",
      "source": [
        "# we proove when v18q1 is null necessarily v18q is 0. \n",
        "# So each family member haven't a tablet ==> v18q=0\n",
        "X=df[['idhogar','v18q1','v18q']]\n",
        "X=X[X['v18q1'].isna()]\n",
        "X['v18q'].unique()"
      ],
      "metadata": {
        "colab": {
          "base_uri": "https://localhost:8080/"
        },
        "id": "mhn9Q2NrNjsb",
        "outputId": "c2ef8244-6be5-45e9-ce5a-ffd52d1806f1"
      },
      "execution_count": 52,
      "outputs": [
        {
          "output_type": "execute_result",
          "data": {
            "text/plain": [
              "array([0])"
            ]
          },
          "metadata": {},
          "execution_count": 52
        }
      ]
    },
    {
      "cell_type": "code",
      "source": [
        "# we have v18q=0 ==> v18q1=nan \n",
        "X=df[['idhogar','v18q1','v18q']]\n",
        "X=X[X['v18q']==0]\n",
        "X['v18q1'].unique()"
      ],
      "metadata": {
        "colab": {
          "base_uri": "https://localhost:8080/"
        },
        "id": "0SMQHgCfO_va",
        "outputId": "c42c1bbb-fe8e-40c7-db79-f50d4f51ddee"
      },
      "execution_count": 53,
      "outputs": [
        {
          "output_type": "execute_result",
          "data": {
            "text/plain": [
              "array([nan])"
            ]
          },
          "metadata": {},
          "execution_count": 53
        }
      ]
    },
    {
      "cell_type": "markdown",
      "source": [
        "Case v2a1"
      ],
      "metadata": {
        "id": "y3N3axatEUC9"
      }
    },
    {
      "cell_type": "code",
      "source": [
        "X = df[df['v2a1'].isnull()]\n",
        "X=X[df.columns]\n",
        "for col in ['tipovivi1',\t'Target']:\n",
        " print(col, '   ', X[col].unique())"
      ],
      "metadata": {
        "colab": {
          "base_uri": "https://localhost:8080/"
        },
        "id": "uM44TbRX9Hlm",
        "outputId": "06686ec1-8e88-4cf4-ca7a-c19632dda024"
      },
      "execution_count": 383,
      "outputs": [
        {
          "output_type": "stream",
          "name": "stdout",
          "text": [
            "tipovivi1     [1 0]\n",
            "Target     [4 2 3 1]\n"
          ]
        }
      ]
    },
    {
      "cell_type": "code",
      "source": [
        "X['tipovivi1'].value_counts()"
      ],
      "metadata": {
        "colab": {
          "base_uri": "https://localhost:8080/"
        },
        "id": "2bMTKBQt9us0",
        "outputId": "c0151e4b-dd82-4de5-9e7f-bf8701413603"
      },
      "execution_count": 384,
      "outputs": [
        {
          "output_type": "execute_result",
          "data": {
            "text/plain": [
              "1    5911\n",
              "0     949\n",
              "Name: tipovivi1, dtype: int64"
            ]
          },
          "metadata": {},
          "execution_count": 384
        }
      ]
    },
    {
      "cell_type": "code",
      "source": [
        "# Don't forget to compile list_family_no_unique_target() in family information section\n",
        "def feature_engineering(i_df):\n",
        "  l_df=i_df\n",
        "  #\n",
        "  # Update the target of family members by that of the header\n",
        "  list_family_no_unique_target(l_df,True) \n",
        "  #\n",
        "  #l_df.loc[l_df['v18q']==0,'v18q1']=0\n",
        "  l_df.loc[l_df['tipovivi1']==1,'v2a1']=0\n",
        "  l_df['v2a1'].replace([np.nan], l_df['v2a1'].median(), inplace=True)\n",
        "  #\n",
        "  l_df['v18q1'].fillna(value=0, inplace=True)\n",
        "  #l_df['v2a1'].fillna(value=0, inplace=True)\n",
        "  #l_X['rez_esc'].fillna(value=0, inplace=True) \n",
        "  return l_df"
      ],
      "metadata": {
        "id": "td9A_K-ORJrl"
      },
      "execution_count": 28,
      "outputs": []
    },
    {
      "cell_type": "code",
      "source": [
        "#('v2a1', 6860)\n",
        "#('v18q1', 7342)\n",
        "#('rez_esc', 7928)\n",
        "#('meaneduc', 5)\n",
        "#('SQBmeaned', 5)"
      ],
      "metadata": {
        "id": "B0TJ9-YavWJC"
      },
      "execution_count": null,
      "outputs": []
    },
    {
      "cell_type": "code",
      "source": [
        "'''X=df.loc[:,'meaneduc']\n",
        "X=pd.DataFrame(X,columns=['meaneduc'])\n",
        "df=df[X['meaneduc'].isna() == False]\n",
        "#\n",
        "X=df.loc[:,'SQBmeaned']\n",
        "X=pd.DataFrame(X,columns=['SQBmeaned'])\n",
        "df=df[X['SQBmeaned'].isna() == False]\n",
        "#\n",
        "print('df.shape=',df.shape)'''"
      ],
      "metadata": {
        "id": "AERp7PheoKNC"
      },
      "execution_count": null,
      "outputs": []
    },
    {
      "cell_type": "code",
      "source": [
        "# prepa imputation()\n",
        "# drop rows for meaneduc and SQBmeaned\n",
        "def preprocess_del_na(i_df):\n",
        "  #\n",
        "  l_X=i_df.loc[:,'meaneduc']\n",
        "  l_X=pd.DataFrame(l_X,columns=['meaneduc'])\n",
        "  l_df=i_df[l_X['meaneduc'].isna() == False]\n",
        "  #\n",
        "  l_X=l_df.loc[:,'SQBmeaned']\n",
        "  l_X=pd.DataFrame(l_X,columns=['SQBmeaned'])\n",
        "  l_X=l_df[l_X['SQBmeaned'].isna() == False]\n",
        "  #\n",
        "\n",
        "  # print('df.shape=',l_df.shape)\n",
        "  return l_X"
      ],
      "metadata": {
        "id": "xryPW2xZr_0I"
      },
      "execution_count": 30,
      "outputs": []
    },
    {
      "cell_type": "code",
      "source": [
        "# drop columns rez_esc and Id\n",
        "def imputation(i_df):\n",
        "  l_df=preprocess_del_na(i_df) # del row with nan\n",
        "  #\n",
        "  cols=['rez_esc']   # ,'v2a1','v18q1','edjefe','dependency','edjefa', 'idhogar'\n",
        "  l_df.drop(columns = cols,axis=1,inplace=True)\n",
        "  #\n",
        "  # drop Id col\n",
        "  if 'Id' in l_df.columns:   # del 'Id' column\n",
        "    l_df.drop('Id',axis=1,inplace=True)\n",
        "  return  l_df"
      ],
      "metadata": {
        "id": "ptID6k5-MPMO"
      },
      "execution_count": 31,
      "outputs": []
    },
    {
      "cell_type": "code",
      "source": [
        "# Encodage, imputation and engineering for features\n",
        "# df treated without column Target\n",
        "# y contains only the column Target \n",
        "\n",
        "def preprocessing(i_df,i_col_target):\n",
        "    \n",
        "    l_df=i_df\n",
        "    l_df = feature_engineering(l_df)\n",
        "    l_df=encodage(l_df)\n",
        "    l_df = imputation(l_df)\n",
        "    \n",
        "    \n",
        "    l_X = l_df.drop(i_col_target, axis=1)\n",
        "    l_y = l_df[i_col_target]\n",
        "      \n",
        "    return l_X,l_y"
      ],
      "metadata": {
        "id": "GIy-0AOUQi3A"
      },
      "execution_count": 32,
      "outputs": []
    },
    {
      "cell_type": "markdown",
      "source": [
        "# Reinit Preprocess and Split Data"
      ],
      "metadata": {
        "id": "hojWIo77dSj7"
      }
    },
    {
      "cell_type": "code",
      "source": [
        "df=reinit_input_df()\n",
        "df.shape"
      ],
      "metadata": {
        "colab": {
          "base_uri": "https://localhost:8080/"
        },
        "id": "HSEk3L3fdVBQ",
        "outputId": "de26578e-05c9-443b-8d0c-f5145909ca1b"
      },
      "execution_count": 33,
      "outputs": [
        {
          "output_type": "execute_result",
          "data": {
            "text/plain": [
              "(9557, 143)"
            ]
          },
          "metadata": {},
          "execution_count": 33
        }
      ]
    },
    {
      "cell_type": "code",
      "source": [
        "(X,y)=preprocessing(df,'Target')\n",
        "X.shape,y.shape"
      ],
      "metadata": {
        "colab": {
          "base_uri": "https://localhost:8080/"
        },
        "id": "SyGNmV98dYs8",
        "outputId": "713af77e-2296-4840-9731-fedb0d27d39b"
      },
      "execution_count": 365,
      "outputs": [
        {
          "output_type": "execute_result",
          "data": {
            "text/plain": [
              "((9552, 140), (9552,))"
            ]
          },
          "metadata": {},
          "execution_count": 365
        }
      ]
    },
    {
      "cell_type": "code",
      "source": [
        "#***************** Checking *********************#\n",
        "#\n",
        "# Null operation\n",
        "Z=X.isnull().sum().sort_values(ascending=False) > 0\n",
        "ll=[col for col in Z.index if Z.loc[col]==True]\n",
        "print('list columns with Null:',ll)\n",
        "#\n",
        "print('list_family_no_unique_target()-->',list_family_no_unique_target(df,False)) # no update only checking the existance\n",
        "#\n",
        "print('No numeric in dependency-->',get_lst_no_num(X,'dependency'))\n",
        "print('No numeric in edjefe-->',get_lst_no_num(X,'edjefe'))\n",
        "print('No numeric in edjefa-->',get_lst_no_num(X,'edjefa'))\n",
        "#\n",
        "print('No numeric in idhogar-->',get_lst_no_num(X,'idhogar'))"
      ],
      "metadata": {
        "colab": {
          "base_uri": "https://localhost:8080/"
        },
        "id": "HW0Lwco7dcEA",
        "outputId": "a4e08912-cbf4-4f61-86d1-74e69ec32a23"
      },
      "execution_count": 366,
      "outputs": [
        {
          "output_type": "stream",
          "name": "stdout",
          "text": [
            "list columns with Null: []\n",
            "list_family_no_unique_target()--> []\n",
            "No numeric in dependency--> []\n",
            "No numeric in edjefe--> []\n",
            "No numeric in edjefa--> []\n",
            "No numeric in idhogar--> []\n"
          ]
        }
      ]
    },
    {
      "cell_type": "code",
      "source": [
        "# Split data\n",
        "X_train,X_test,y_train,y_test=train_test_split(X,y,test_size=0.2,random_state=1)\n",
        "X_train.shape, X_test.shape,y_train.shape,y_test.shape"
      ],
      "metadata": {
        "colab": {
          "base_uri": "https://localhost:8080/"
        },
        "id": "nQEBLMijdewr",
        "outputId": "d8b40663-39f7-42f4-c0e1-c86464d16998"
      },
      "execution_count": 285,
      "outputs": [
        {
          "output_type": "execute_result",
          "data": {
            "text/plain": [
              "((7641, 140), (1911, 140), (7641,), (1911,))"
            ]
          },
          "metadata": {},
          "execution_count": 285
        }
      ]
    },
    {
      "cell_type": "code",
      "source": [
        "# Reinit data to facilitate testing\n",
        "def reinit_preprocess_split():\n",
        "  # Reinit\n",
        "  l_df=reinit_input_df()\n",
        "  print('df.shape=',df.shape)\n",
        "  #\n",
        "  # Preprocess\n",
        "  (X,y)=preprocessing(l_df,'Target')\n",
        "  X.shape,y.shape\n",
        "  #\n",
        "  #***************** Checking *********************#\n",
        "  #\n",
        "  # Null operation\n",
        "  Z=X.isnull().sum().sort_values(ascending=False) > 0\n",
        "  ll=[col for col in Z.index if Z.loc[col]==True]\n",
        "  print('list columns with Null:',ll)\n",
        "  #\n",
        "  print('list_family_no_unique_target()-->',list_family_no_unique_target(df,False)) # no update only checking the existance\n",
        "  #\n",
        "  print('No numeric in dependency-->',get_lst_no_num(X,'dependency'))\n",
        "  print('No numeric in edjefe-->',get_lst_no_num(X,'edjefe'))\n",
        "  print('No numeric in edjefa-->',get_lst_no_num(X,'edjefa'))\n",
        "  #\n",
        "  print('No numeric in idhogar-->',get_lst_no_num(X,'idhogar'))\n",
        "  #***************** end Checking *********************#\n",
        "  #\n",
        "  # Split data\n",
        "  l_X_train,l_X_test,l_y_train,l_y_test=train_test_split(X,y,test_size=0.2,random_state=1)\n",
        "  print('X_train.shape, X_test.shape,y_train.shape,y_test.shape')\n",
        "  print(l_X_train.shape, l_X_test.shape,l_y_train.shape,l_y_test.shape)\n",
        "  return (l_df,(l_X_train,l_X_test,l_y_train,l_y_test))\n"
      ],
      "metadata": {
        "id": "mdFKuu0COQ17"
      },
      "execution_count": 34,
      "outputs": []
    },
    {
      "cell_type": "code",
      "source": [
        "(df,(X_train,X_test,y_train,y_test))=reinit_preprocess_split()"
      ],
      "metadata": {
        "colab": {
          "base_uri": "https://localhost:8080/"
        },
        "id": "HfxR_RVpPvAg",
        "outputId": "df2c2ff6-fe77-440b-e162-67be1044ecee"
      },
      "execution_count": 287,
      "outputs": [
        {
          "output_type": "stream",
          "name": "stdout",
          "text": [
            "df.shape= (9557, 143)\n",
            "list columns with Null: []\n",
            "list_family_no_unique_target()--> []\n",
            "No numeric in dependency--> []\n",
            "No numeric in edjefe--> []\n",
            "No numeric in edjefa--> []\n",
            "No numeric in idhogar--> []\n",
            "X_train.shape, X_test.shape,y_train.shape,y_test.shape\n",
            "(7641, 140) (1911, 140) (7641,) (1911,)\n"
          ]
        }
      ]
    },
    {
      "cell_type": "markdown",
      "source": [
        "# Evaluate different models\n",
        "\n",
        "---\n",
        "\n"
      ],
      "metadata": {
        "id": "oMXayrK94qwB"
      }
    },
    {
      "cell_type": "code",
      "source": [
        "from sklearn.tree import DecisionTreeClassifier\n",
        "from sklearn.ensemble import RandomForestClassifier, AdaBoostClassifier\n",
        "from sklearn.svm import SVC\n",
        "from sklearn.neighbors import KNeighborsClassifier\n",
        "from sklearn.pipeline import make_pipeline\n",
        "from sklearn.feature_selection import SelectKBest, f_classif\n",
        "from sklearn.preprocessing import PolynomialFeatures, StandardScaler\n",
        "from sklearn.metrics import confusion_matrix, classification_report"
      ],
      "metadata": {
        "id": "YPxECj2cH4lz"
      },
      "execution_count": 35,
      "outputs": []
    },
    {
      "cell_type": "code",
      "source": [
        "###########################\n",
        "### Evaluation function \n",
        "##########################\n",
        "# Used to Evaluate models\n",
        "def fit_and_evaluate_model(i_model,i_X_train,i_X_test,i_y_train,i_y_test):\n",
        "  #\n",
        "  l_model=i_model\n",
        "  l_model.fit(i_X_train, i_y_train)\n",
        "  l_ypred = l_model.predict(i_X_test)\n",
        "\n",
        "  print(confusion_matrix(i_y_test, l_ypred))\n",
        "  print(classification_report(i_y_test, l_ypred))\n",
        "\n",
        "  return l_model"
      ],
      "metadata": {
        "id": "rULNw2ZNdKUO"
      },
      "execution_count": 36,
      "outputs": []
    },
    {
      "cell_type": "code",
      "source": [
        "#######################################\n",
        "### test_classifierModels_list function \n",
        "#######################################\n",
        "def test_classifierModels_list(i_classifierModels_list,i_X_train,i_X_test,i_y_train,i_y_test):\n",
        "  l_dico_name_model={}\n",
        "  preprocessor = make_pipeline(PolynomialFeatures(2, include_bias=False), SelectKBest(f_classif, k=10))\n",
        "  RandomForest = make_pipeline(preprocessor, RandomForestClassifier(random_state=0))\n",
        "  AdaBoost = make_pipeline(preprocessor, AdaBoostClassifier(random_state=0))\n",
        "  SVM = make_pipeline(preprocessor, StandardScaler(), SVC(random_state=0))\n",
        "  KNN = make_pipeline(preprocessor, StandardScaler(), KNeighborsClassifier())\n",
        "  DTC = make_pipeline(preprocessor, StandardScaler(), DecisionTreeClassifier())\n",
        "  dict_of_models = {'RandomForestClassifier': RandomForest,\n",
        "                  'AdaBoost' : AdaBoost,\n",
        "                  'SVM': SVM,\n",
        "                  'KNN': KNN,\n",
        "                  'DecisionTreeClassifier':DTC\n",
        "                 }\n",
        "  for name, model in dict_of_models.items():\n",
        "    if name in i_classifierModels_list:\n",
        "      print('============')\n",
        "      print(name)\n",
        "      print('============')\n",
        "      l_model= fit_and_evaluate_model(model,i_X_train,i_X_test,i_y_train,i_y_test)\n",
        "      l_dico_name_model[name]=l_model\n",
        "      #\n",
        "  return l_dico_name_model\n"
      ],
      "metadata": {
        "id": "sOj26SkSaCt1"
      },
      "execution_count": 37,
      "outputs": []
    },
    {
      "cell_type": "code",
      "source": [
        "# Initilization\n",
        "(df,(X_train,X_test,y_train,y_test))=reinit_preprocess_split()"
      ],
      "metadata": {
        "colab": {
          "base_uri": "https://localhost:8080/"
        },
        "id": "YsWVuQVYQ04Y",
        "outputId": "a4fc02b7-0b47-41e6-f013-ffa77a32a31d"
      },
      "execution_count": 38,
      "outputs": [
        {
          "output_type": "stream",
          "name": "stdout",
          "text": [
            "df.shape= (9557, 143)\n",
            "list columns with Null: []\n",
            "list_family_no_unique_target()--> []\n",
            "No numeric in dependency--> []\n",
            "No numeric in edjefe--> []\n",
            "No numeric in edjefa--> []\n",
            "No numeric in idhogar--> []\n",
            "X_train.shape, X_test.shape,y_train.shape,y_test.shape\n",
            "(7641, 140) (1911, 140) (7641,) (1911,)\n"
          ]
        }
      ]
    },
    {
      "cell_type": "code",
      "source": [
        "# list classifiers\n",
        "lst_algo=['AdaBoost','SVM','KNN','DecisionTreeClassifier','RandomForestClassifier']\n",
        "#\n",
        "dico_name_model=test_classifierModels_list(lst_algo,X_train,X_test,y_train,y_test)\n",
        "dico_name_model"
      ],
      "metadata": {
        "colab": {
          "base_uri": "https://localhost:8080/"
        },
        "id": "eJwU8R-tbKPU",
        "outputId": "7f171248-b08c-4916-946d-78078d6070a2"
      },
      "execution_count": 39,
      "outputs": [
        {
          "output_type": "stream",
          "name": "stdout",
          "text": [
            "============\n",
            "RandomForestClassifier\n",
            "============\n",
            "[[ 119   13    3   14]\n",
            " [   8  254   11   33]\n",
            " [   3   22  166   39]\n",
            " [   3   15   30 1178]]\n",
            "              precision    recall  f1-score   support\n",
            "\n",
            "           1       0.89      0.80      0.84       149\n",
            "           2       0.84      0.83      0.83       306\n",
            "           3       0.79      0.72      0.75       230\n",
            "           4       0.93      0.96      0.95      1226\n",
            "\n",
            "    accuracy                           0.90      1911\n",
            "   macro avg       0.86      0.83      0.84      1911\n",
            "weighted avg       0.90      0.90      0.90      1911\n",
            "\n",
            "============\n",
            "AdaBoost\n",
            "============\n",
            "[[  26   51    2   70]\n",
            " [  21  112    3  170]\n",
            " [   3   44    0  183]\n",
            " [  16   57    2 1151]]\n",
            "              precision    recall  f1-score   support\n",
            "\n",
            "           1       0.39      0.17      0.24       149\n",
            "           2       0.42      0.37      0.39       306\n",
            "           3       0.00      0.00      0.00       230\n",
            "           4       0.73      0.94      0.82      1226\n",
            "\n",
            "    accuracy                           0.67      1911\n",
            "   macro avg       0.39      0.37      0.36      1911\n",
            "weighted avg       0.57      0.67      0.61      1911\n",
            "\n",
            "============\n",
            "SVM\n",
            "============\n",
            "[[  11   62    0   76]\n",
            " [   2   93    0  211]\n",
            " [   0   34    0  196]\n",
            " [   0   38    0 1188]]\n",
            "              precision    recall  f1-score   support\n",
            "\n",
            "           1       0.85      0.07      0.14       149\n",
            "           2       0.41      0.30      0.35       306\n",
            "           3       0.00      0.00      0.00       230\n",
            "           4       0.71      0.97      0.82      1226\n",
            "\n",
            "    accuracy                           0.68      1911\n",
            "   macro avg       0.49      0.34      0.33      1911\n",
            "weighted avg       0.59      0.68      0.59      1911\n",
            "\n",
            "============\n",
            "KNN\n",
            "============\n",
            "[[  69   25   19   36]\n",
            " [  21  193   21   71]\n",
            " [  16   40   96   78]\n",
            " [  33   63   55 1075]]\n",
            "              precision    recall  f1-score   support\n",
            "\n",
            "           1       0.50      0.46      0.48       149\n",
            "           2       0.60      0.63      0.62       306\n",
            "           3       0.50      0.42      0.46       230\n",
            "           4       0.85      0.88      0.86      1226\n",
            "\n",
            "    accuracy                           0.75      1911\n",
            "   macro avg       0.61      0.60      0.60      1911\n",
            "weighted avg       0.74      0.75      0.75      1911\n",
            "\n",
            "============\n",
            "DecisionTreeClassifier\n",
            "============\n",
            "[[ 125   12    6    6]\n",
            " [  15  257   12   22]\n",
            " [   5   31  165   29]\n",
            " [   8   31   34 1153]]\n",
            "              precision    recall  f1-score   support\n",
            "\n",
            "           1       0.82      0.84      0.83       149\n",
            "           2       0.78      0.84      0.81       306\n",
            "           3       0.76      0.72      0.74       230\n",
            "           4       0.95      0.94      0.95      1226\n",
            "\n",
            "    accuracy                           0.89      1911\n",
            "   macro avg       0.83      0.83      0.83      1911\n",
            "weighted avg       0.89      0.89      0.89      1911\n",
            "\n"
          ]
        },
        {
          "output_type": "execute_result",
          "data": {
            "text/plain": [
              "{'AdaBoost': Pipeline(steps=[('pipeline',\n",
              "                  Pipeline(steps=[('polynomialfeatures',\n",
              "                                   PolynomialFeatures(include_bias=False)),\n",
              "                                  ('selectkbest', SelectKBest())])),\n",
              "                 ('adaboostclassifier', AdaBoostClassifier(random_state=0))]),\n",
              " 'DecisionTreeClassifier': Pipeline(steps=[('pipeline',\n",
              "                  Pipeline(steps=[('polynomialfeatures',\n",
              "                                   PolynomialFeatures(include_bias=False)),\n",
              "                                  ('selectkbest', SelectKBest())])),\n",
              "                 ('standardscaler', StandardScaler()),\n",
              "                 ('decisiontreeclassifier', DecisionTreeClassifier())]),\n",
              " 'KNN': Pipeline(steps=[('pipeline',\n",
              "                  Pipeline(steps=[('polynomialfeatures',\n",
              "                                   PolynomialFeatures(include_bias=False)),\n",
              "                                  ('selectkbest', SelectKBest())])),\n",
              "                 ('standardscaler', StandardScaler()),\n",
              "                 ('kneighborsclassifier', KNeighborsClassifier())]),\n",
              " 'RandomForestClassifier': Pipeline(steps=[('pipeline',\n",
              "                  Pipeline(steps=[('polynomialfeatures',\n",
              "                                   PolynomialFeatures(include_bias=False)),\n",
              "                                  ('selectkbest', SelectKBest())])),\n",
              "                 ('randomforestclassifier',\n",
              "                  RandomForestClassifier(random_state=0))]),\n",
              " 'SVM': Pipeline(steps=[('pipeline',\n",
              "                  Pipeline(steps=[('polynomialfeatures',\n",
              "                                   PolynomialFeatures(include_bias=False)),\n",
              "                                  ('selectkbest', SelectKBest())])),\n",
              "                 ('standardscaler', StandardScaler()),\n",
              "                 ('svc', SVC(random_state=0))])}"
            ]
          },
          "metadata": {},
          "execution_count": 39
        }
      ]
    },
    {
      "cell_type": "code",
      "source": [
        "type(dico_name_model['RandomForestClassifier'][1])"
      ],
      "metadata": {
        "colab": {
          "base_uri": "https://localhost:8080/"
        },
        "id": "oK264wjCE33G",
        "outputId": "7274012e-873d-4a1c-f42f-630be9b14683"
      },
      "execution_count": null,
      "outputs": [
        {
          "output_type": "execute_result",
          "data": {
            "text/plain": [
              "sklearn.ensemble._forest.RandomForestClassifier"
            ]
          },
          "metadata": {},
          "execution_count": 462
        }
      ]
    },
    {
      "cell_type": "markdown",
      "source": [
        "# RandomForestClassifier "
      ],
      "metadata": {
        "id": "FvAP-ec-0oOw"
      }
    },
    {
      "cell_type": "code",
      "source": [
        "from sklearn.ensemble import RandomForestClassifier\n",
        "from sklearn.metrics import confusion_matrix, classification_report\n",
        "from sklearn.model_selection import learning_curve"
      ],
      "metadata": {
        "id": "q8mQx0mtz5Ep"
      },
      "execution_count": 40,
      "outputs": []
    },
    {
      "cell_type": "code",
      "source": [
        "#################################\n",
        "### function show_learning_curve\n",
        "#################################\n",
        "  # evolution of accuracy\n",
        "  # comparing X_train and X_test accuracy\n",
        "def show_learning_curve(i_model, i_X_train, i_y_train,i_scoring='accuracy'):\n",
        "  N, train_score, val_score = learning_curve(i_model, i_X_train, i_y_train,\n",
        "                                          cv=4, scoring=i_scoring,\n",
        "                                            train_sizes=np.linspace(0.1, 1, 10))\n",
        "  plt.figure(figsize=(8, 4))\n",
        "  plt.plot(N, train_score.mean(axis=1), label='train score')\n",
        "  plt.plot(N, val_score.mean(axis=1), label='validation score')\n",
        "  plt.legend()\n"
      ],
      "metadata": {
        "id": "X8BZz8P42RLm"
      },
      "execution_count": 41,
      "outputs": []
    },
    {
      "cell_type": "code",
      "source": [
        "# Initilization\n",
        "(df,(X_train,X_test,y_train,y_test))=reinit_preprocess_split()"
      ],
      "metadata": {
        "colab": {
          "base_uri": "https://localhost:8080/"
        },
        "id": "YaYpLhjKRh0v",
        "outputId": "94dbd88a-141c-4b15-fe62-a604a01afdbf"
      },
      "execution_count": 42,
      "outputs": [
        {
          "output_type": "stream",
          "name": "stdout",
          "text": [
            "df.shape= (9557, 143)\n",
            "list columns with Null: []\n",
            "list_family_no_unique_target()--> []\n",
            "No numeric in dependency--> []\n",
            "No numeric in edjefe--> []\n",
            "No numeric in edjefa--> []\n",
            "No numeric in idhogar--> []\n",
            "X_train.shape, X_test.shape,y_train.shape,y_test.shape\n",
            "(7641, 140) (1911, 140) (7641,) (1911,)\n"
          ]
        }
      ]
    },
    {
      "cell_type": "markdown",
      "source": [
        "RandomForestClassifier using pipeline the previous paragraph\n",
        "(using preprocessors PolynomialFeatures()and SelectKBest()) "
      ],
      "metadata": {
        "id": "wRDkKr-uY9Ka"
      }
    },
    {
      "cell_type": "code",
      "source": [
        "# RandomForestClassifier model\n",
        "# RandomForestClassifier using pipeline the previous paragraph\n",
        "# (using preprocessors PolynomialFeatures()and SelectKBest()) \n",
        "\n",
        "dico_t=test_classifierModels_list(['RandomForestClassifier'],X_train,X_test,y_train,y_test)\n",
        "model_rfc=dico_t['RandomForestClassifier']\n",
        "model_rfc"
      ],
      "metadata": {
        "colab": {
          "base_uri": "https://localhost:8080/"
        },
        "id": "cs4oUHdnRuax",
        "outputId": "c6facde8-6b5b-4b7e-d54e-c0d9a868d710"
      },
      "execution_count": 43,
      "outputs": [
        {
          "output_type": "stream",
          "name": "stdout",
          "text": [
            "============\n",
            "RandomForestClassifier\n",
            "============\n",
            "[[ 119   13    3   14]\n",
            " [   8  254   11   33]\n",
            " [   3   22  166   39]\n",
            " [   3   15   30 1178]]\n",
            "              precision    recall  f1-score   support\n",
            "\n",
            "           1       0.89      0.80      0.84       149\n",
            "           2       0.84      0.83      0.83       306\n",
            "           3       0.79      0.72      0.75       230\n",
            "           4       0.93      0.96      0.95      1226\n",
            "\n",
            "    accuracy                           0.90      1911\n",
            "   macro avg       0.86      0.83      0.84      1911\n",
            "weighted avg       0.90      0.90      0.90      1911\n",
            "\n"
          ]
        },
        {
          "output_type": "execute_result",
          "data": {
            "text/plain": [
              "Pipeline(steps=[('pipeline',\n",
              "                 Pipeline(steps=[('polynomialfeatures',\n",
              "                                  PolynomialFeatures(include_bias=False)),\n",
              "                                 ('selectkbest', SelectKBest())])),\n",
              "                ('randomforestclassifier',\n",
              "                 RandomForestClassifier(random_state=0))])"
            ]
          },
          "metadata": {},
          "execution_count": 43
        }
      ]
    },
    {
      "cell_type": "code",
      "source": [
        "# evolution of accuracy\n",
        "# comparing X_train and X_test accuracy\n",
        "show_learning_curve(model_rfc,X_train,y_train,'accuracy')"
      ],
      "metadata": {
        "colab": {
          "base_uri": "https://localhost:8080/",
          "height": 265
        },
        "id": "gHUYhFk7SAVn",
        "outputId": "38c305ce-6643-4b7a-e2b5-4172cc81f945"
      },
      "execution_count": 75,
      "outputs": [
        {
          "output_type": "display_data",
          "data": {
            "text/plain": [
              "<Figure size 576x288 with 1 Axes>"
            ],
            "image/png": "[encoded data removed]"
          },
          "metadata": {
            "needs_background": "light"
          }
        }
      ]
    },
    {
      "cell_type": "markdown",
      "source": [
        "Cross Validation by KFold "
      ],
      "metadata": {
        "id": "M8C3PEhDZmSv"
      }
    },
    {
      "cell_type": "code",
      "source": [
        "#  Cross Validation by KFold\n",
        "from sklearn.model_selection import KFold,cross_val_score\n",
        "seed=7\n",
        "kfold=KFold(n_splits=5,random_state=seed,shuffle=True)\n",
        "\n",
        "model_rfc=RandomForestClassifier(n_estimators=100, random_state=42)\n",
        "cv_model_rfc=cross_val_score(model_rfc,X_train,y_train,cv=kfold,scoring='accuracy')\n",
        "print(cv_model_rfc)\n",
        "#\n",
        "fit_and_evaluate_model(model_rfc,X_train,X_test,y_train,y_test)"
      ],
      "metadata": {
        "colab": {
          "base_uri": "https://localhost:8080/"
        },
        "id": "xZUqEL6mYsAX",
        "outputId": "e0720a3d-980b-4daf-ce1e-f50dd997c016"
      },
      "execution_count": 44,
      "outputs": [
        {
          "output_type": "stream",
          "name": "stdout",
          "text": [
            "[0.90451275 0.90641361 0.90117801 0.89397906 0.89136126]\n",
            "[[ 122   10    0   17]\n",
            " [   4  259    4   39]\n",
            " [   1    7  174   48]\n",
            " [   0    2    4 1220]]\n",
            "              precision    recall  f1-score   support\n",
            "\n",
            "           1       0.96      0.82      0.88       149\n",
            "           2       0.93      0.85      0.89       306\n",
            "           3       0.96      0.76      0.84       230\n",
            "           4       0.92      1.00      0.96      1226\n",
            "\n",
            "    accuracy                           0.93      1911\n",
            "   macro avg       0.94      0.85      0.89      1911\n",
            "weighted avg       0.93      0.93      0.93      1911\n",
            "\n"
          ]
        },
        {
          "output_type": "execute_result",
          "data": {
            "text/plain": [
              "RandomForestClassifier(random_state=42)"
            ]
          },
          "metadata": {},
          "execution_count": 44
        }
      ]
    },
    {
      "cell_type": "code",
      "source": [
        "# RandomForestClassifier model and without use the specefic preprocessors\n",
        "model_rfc = RandomForestClassifier(random_state=10)\n",
        "fit_and_evaluate_model(model_rfc,X_train,X_test,y_train,y_test)"
      ],
      "metadata": {
        "id": "EsHHUZvDTbeM",
        "colab": {
          "base_uri": "https://localhost:8080/"
        },
        "outputId": "e8f2978a-7057-4a4e-c52d-8994c65cc2c5"
      },
      "execution_count": 45,
      "outputs": [
        {
          "output_type": "stream",
          "name": "stdout",
          "text": [
            "[[ 122    9    0   18]\n",
            " [   3  263    3   37]\n",
            " [   0   12  173   45]\n",
            " [   0    2    5 1219]]\n",
            "              precision    recall  f1-score   support\n",
            "\n",
            "           1       0.98      0.82      0.89       149\n",
            "           2       0.92      0.86      0.89       306\n",
            "           3       0.96      0.75      0.84       230\n",
            "           4       0.92      0.99      0.96      1226\n",
            "\n",
            "    accuracy                           0.93      1911\n",
            "   macro avg       0.94      0.86      0.89      1911\n",
            "weighted avg       0.93      0.93      0.93      1911\n",
            "\n"
          ]
        },
        {
          "output_type": "execute_result",
          "data": {
            "text/plain": [
              "RandomForestClassifier(random_state=10)"
            ]
          },
          "metadata": {},
          "execution_count": 45
        }
      ]
    },
    {
      "cell_type": "markdown",
      "source": [
        "# TMP"
      ],
      "metadata": {
        "id": "MzkiBU3s5NJ6"
      }
    },
    {
      "cell_type": "code",
      "source": [
        "#  Cas1\n",
        "from sklearn.model_selection import KFold,cross_val_score\n",
        "seed=7\n",
        "kfold=KFold(n_splits=5,random_state=seed,shuffle=True)\n",
        "\n",
        "model11=RandomForestClassifier(n_estimators=10, random_state=10,n_jobs = -1)\n",
        "print(cross_val_score(model11,X_train,y_train,cv=kfold,scoring='accuracy'))\n",
        "results=cross_val_score(model11,X_train,y_train,cv=kfold,scoring='accuracy')\n",
        "print(results.mean()*100)\n",
        "#\n",
        "print('\\n')\n",
        "model11.fit(X_train, y_train)\n",
        "y_pred = model11.predict(X_test)\n",
        "print(classification_report(y_test, y_pred))"
      ],
      "metadata": {
        "colab": {
          "base_uri": "https://localhost:8080/"
        },
        "id": "bsZjrJVlaOCY",
        "outputId": "4a68f5c4-1946-4899-d9e1-8e68fadb36e7"
      },
      "execution_count": null,
      "outputs": [
        {
          "output_type": "stream",
          "name": "stdout",
          "text": [
            "[0.882276   0.85274869 0.8789267  0.87303665 0.875     ]\n",
            "87.23976078537457\n",
            "\n",
            "\n",
            "              precision    recall  f1-score   support\n",
            "\n",
            "           1       0.87      0.78      0.82       149\n",
            "           2       0.84      0.81      0.82       306\n",
            "           3       0.87      0.67      0.76       230\n",
            "           4       0.92      0.97      0.94      1226\n",
            "\n",
            "    accuracy                           0.90      1911\n",
            "   macro avg       0.87      0.81      0.84      1911\n",
            "weighted avg       0.89      0.90      0.89      1911\n",
            "\n"
          ]
        }
      ]
    },
    {
      "cell_type": "code",
      "source": [
        "#  Cas2\n",
        "num_trees= 100\n",
        "\n",
        "model1=RandomForestClassifier(random_state=10,n_jobs = -1)\n",
        "print(cross_val_score(model1,X_train,y_train,cv=kfold,scoring='accuracy'))\n",
        "results=cross_val_score(model1,X_train,y_train,cv=kfold,scoring='accuracy')\n",
        "print(results.mean()*100)\n",
        "#\n",
        "print('\\n')\n",
        "model1.fit(X_train, y_train)\n",
        "y_pred = model1.predict(X_test)\n",
        "print(classification_report(y_test, y_pred))"
      ],
      "metadata": {
        "colab": {
          "base_uri": "https://localhost:8080/"
        },
        "id": "3qMAy3Xzepqb",
        "outputId": "e074cdbd-5196-4c59-a162-a34e5b828b6b"
      },
      "execution_count": null,
      "outputs": [
        {
          "output_type": "stream",
          "name": "stdout",
          "text": [
            "[0.90385873 0.90445026 0.90510471 0.89659686 0.89790576]\n",
            "90.15832645639794\n",
            "\n",
            "\n",
            "              precision    recall  f1-score   support\n",
            "\n",
            "           1       0.97      0.80      0.88       149\n",
            "           2       0.91      0.84      0.87       306\n",
            "           3       0.95      0.73      0.83       230\n",
            "           4       0.92      0.99      0.95      1226\n",
            "\n",
            "    accuracy                           0.92      1911\n",
            "   macro avg       0.94      0.84      0.88      1911\n",
            "weighted avg       0.92      0.92      0.92      1911\n",
            "\n"
          ]
        }
      ]
    },
    {
      "cell_type": "code",
      "source": [
        "X_train.shape, X_test.shape,y_train.shape,y_test.shape"
      ],
      "metadata": {
        "colab": {
          "base_uri": "https://localhost:8080/"
        },
        "id": "LNdDoRoFJvvc",
        "outputId": "0cf4390d-c5e6-4a69-9b26-230fd55b8e98"
      },
      "execution_count": null,
      "outputs": [
        {
          "output_type": "execute_result",
          "data": {
            "text/plain": [
              "((7641, 140), (1911, 140), (7641,), (1911,))"
            ]
          },
          "metadata": {},
          "execution_count": 533
        }
      ]
    },
    {
      "cell_type": "code",
      "source": [
        "#rmclassifier = RandomForestClassifier()\n",
        "#rmclassifier.fit(X_train,y_train)"
      ],
      "metadata": {
        "id": "jpP_Z1x2NxZi"
      },
      "execution_count": null,
      "outputs": []
    },
    {
      "cell_type": "code",
      "source": [
        "Z=X.isnull().sum().sort_values(ascending=False)\n",
        "Z"
      ],
      "metadata": {
        "colab": {
          "base_uri": "https://localhost:8080/"
        },
        "id": "sLSdTRwPP9iC",
        "outputId": "538d4dd7-0c1b-4c0f-b7e0-58097d0453dc"
      },
      "execution_count": null,
      "outputs": [
        {
          "output_type": "execute_result",
          "data": {
            "text/plain": [
              "v18q1              7337\n",
              "v2a1               6859\n",
              "hogar_mayor           0\n",
              "parentesco10          0\n",
              "parentesco11          0\n",
              "                   ... \n",
              "abastaguafuera        0\n",
              "abastaguadentro       0\n",
              "cielorazo             0\n",
              "techootro             0\n",
              "agesq                 0\n",
              "Length: 140, dtype: int64"
            ]
          },
          "metadata": {},
          "execution_count": 20
        }
      ]
    },
    {
      "cell_type": "code",
      "source": [
        "len(tt),len(tt2)"
      ],
      "metadata": {
        "colab": {
          "base_uri": "https://localhost:8080/"
        },
        "id": "hz_bxPhFZ2aR",
        "outputId": "f9ea3302-aa9d-4875-fd83-3a01d5a1b4ab"
      },
      "execution_count": null,
      "outputs": [
        {
          "output_type": "execute_result",
          "data": {
            "text/plain": [
              "(66, 44)"
            ]
          },
          "metadata": {},
          "execution_count": 535
        }
      ]
    },
    {
      "cell_type": "code",
      "source": [
        "######################## ICIIIIIIIIIIIIIIIIIIIII\n",
        "X_train,X_test,y_train,y_test=train_test_split(X,y,test_size=0.2,random_state=1)"
      ],
      "metadata": {
        "id": "pqn-JWl_cZQg"
      },
      "execution_count": null,
      "outputs": []
    },
    {
      "cell_type": "code",
      "source": [
        "X_train=X_train[tt]\n",
        "X_train\n",
        "#\n",
        "X_test=X_test[tt]\n",
        "X_test"
      ],
      "metadata": {
        "id": "ClTAnAzDXOop"
      },
      "execution_count": null,
      "outputs": []
    },
    {
      "cell_type": "code",
      "source": [
        "X_train=X_train[tt2]\n",
        "X_train\n",
        "#\n",
        "X_test=X_test[tt2]\n",
        "X_test"
      ],
      "metadata": {
        "id": "C97bm_LXsJIH"
      },
      "execution_count": null,
      "outputs": []
    },
    {
      "cell_type": "code",
      "source": [
        ""
      ],
      "metadata": {
        "id": "_YS1vur2JGv7"
      },
      "execution_count": null,
      "outputs": []
    },
    {
      "cell_type": "code",
      "source": [
        "//==========================SMOTE==========================================="
      ],
      "metadata": {
        "id": "TVrHeBvad9Kp"
      },
      "execution_count": null,
      "outputs": []
    },
    {
      "cell_type": "code",
      "source": [
        ""
      ],
      "metadata": {
        "id": "dLwM2JOud895"
      },
      "execution_count": null,
      "outputs": []
    },
    {
      "cell_type": "code",
      "source": [
        "X_train.shape,y_train.shape"
      ],
      "metadata": {
        "colab": {
          "base_uri": "https://localhost:8080/"
        },
        "id": "clDez7A7iYyO",
        "outputId": "458aad50-82a0-498a-b91b-4b3b49f0b18e"
      },
      "execution_count": null,
      "outputs": [
        {
          "output_type": "execute_result",
          "data": {
            "text/plain": [
              "((7641, 44), (7641,))"
            ]
          },
          "metadata": {},
          "execution_count": 539
        }
      ]
    },
    {
      "cell_type": "code",
      "source": [
        "####################################\n",
        "### SMOTE() Operation\n",
        "####################################\n",
        "\n",
        "from enum import auto\n",
        "\n",
        "\n",
        "from imblearn.over_sampling import SMOTE \n",
        "sm = SMOTE(random_state=20) \n",
        "#'minority','auto'equivalent à 'not majority','not minority','all'\n",
        "X_train_res, y_train_res = sm.fit_resample(X_train, y_train.ravel()) \n",
        "  \n",
        "X_train_res.shape,y_train_res.shape"
      ],
      "metadata": {
        "colab": {
          "base_uri": "https://localhost:8080/"
        },
        "id": "6tak76DeghHv",
        "outputId": "8bdb2dde-4566-4595-fc08-9b54d6a7af0c"
      },
      "execution_count": null,
      "outputs": [
        {
          "output_type": "execute_result",
          "data": {
            "text/plain": [
              "((19060, 66), (19060,))"
            ]
          },
          "metadata": {},
          "execution_count": 430
        }
      ]
    },
    {
      "cell_type": "code",
      "source": [
        "sm.get_params()"
      ],
      "metadata": {
        "colab": {
          "base_uri": "https://localhost:8080/"
        },
        "id": "aR7ijL1xposW",
        "outputId": "f82e08fa-82d9-4b53-d4a8-ce224dbd97bd"
      },
      "execution_count": null,
      "outputs": [
        {
          "output_type": "execute_result",
          "data": {
            "text/plain": [
              "{'k_neighbors': 5,\n",
              " 'n_jobs': None,\n",
              " 'random_state': 20,\n",
              " 'sampling_strategy': 'auto'}"
            ]
          },
          "metadata": {},
          "execution_count": 431
        }
      ]
    },
    {
      "cell_type": "code",
      "source": [
        "sum(y_train_res == 1),sum(y_train_res == 2),sum(y_train_res == 3),sum(y_train_res == 4)"
      ],
      "metadata": {
        "colab": {
          "base_uri": "https://localhost:8080/"
        },
        "id": "0qdKvGfRfkgH",
        "outputId": "363c7483-1b90-466d-9b9e-7c69e965ef97"
      },
      "execution_count": null,
      "outputs": [
        {
          "output_type": "execute_result",
          "data": {
            "text/plain": [
              "(4765, 4765, 4765, 4765)"
            ]
          },
          "metadata": {},
          "execution_count": 432
        }
      ]
    },
    {
      "cell_type": "code",
      "source": [
        "sum(y_train_res == 1)+sum(y_train_res == 2)+sum(y_train_res == 3)+sum(y_train_res == 4)"
      ],
      "metadata": {
        "colab": {
          "base_uri": "https://localhost:8080/"
        },
        "id": "mhnx6ri5j5t-",
        "outputId": "2985aa02-b856-4a39-89e3-29a55c2656f0"
      },
      "execution_count": null,
      "outputs": [
        {
          "output_type": "execute_result",
          "data": {
            "text/plain": [
              "19060"
            ]
          },
          "metadata": {},
          "execution_count": 433
        }
      ]
    },
    {
      "cell_type": "code",
      "source": [
        "# Ici affectation\n",
        "X_train,y_train=X_train_res, y_train_res"
      ],
      "metadata": {
        "id": "YbPJzdFKkFsw"
      },
      "execution_count": null,
      "outputs": []
    },
    {
      "cell_type": "code",
      "source": [
        "X_train.shape,y_train.shape"
      ],
      "metadata": {
        "colab": {
          "base_uri": "https://localhost:8080/"
        },
        "id": "BOrTqqnKkXiz",
        "outputId": "2d7faf3e-d01f-4025-8be5-3797aeba5c4f"
      },
      "execution_count": null,
      "outputs": [
        {
          "output_type": "execute_result",
          "data": {
            "text/plain": [
              "((19060, 66), (19060,))"
            ]
          },
          "metadata": {},
          "execution_count": 435
        }
      ]
    },
    {
      "cell_type": "code",
      "source": [
        ""
      ],
      "metadata": {
        "id": "sFbmGmI8kXT-"
      },
      "execution_count": null,
      "outputs": []
    },
    {
      "cell_type": "code",
      "source": [
        "#==========================FIN SMOTE==========================================="
      ],
      "metadata": {
        "id": "UiT5_zsHd8sv"
      },
      "execution_count": null,
      "outputs": []
    },
    {
      "cell_type": "markdown",
      "source": [
        "# Optimization 1"
      ],
      "metadata": {
        "id": "QS3a7basVGXN"
      }
    },
    {
      "cell_type": "code",
      "source": [
        "#################################\n",
        "### function show_importances_plot\n",
        "#################################\n",
        "# Only importances > i_threshold\n",
        "def show_importances_plot(i_model, i_threshold,i_figsize=(11, 6)):\n",
        "  l_feature_importances_df=pd.DataFrame({'importances': i_model.feature_importances_, 'columns_': i_model.feature_names_in_})\n",
        "  l_feature_importances_df.sort_values(by=['importances'], ascending=True, inplace=True)\n",
        "  feature_importances_df_t=l_feature_importances_df[l_feature_importances_df['importances']> i_threshold]\n",
        "  feature_importances_df_t.set_index('columns_',inplace=True)\n",
        "  #\n",
        "  feature_importances_df_t.plot(figsize=i_figsize,kind='barh')\n",
        "  return l_feature_importances_df"
      ],
      "metadata": {
        "id": "4ji8QXEkS_N3"
      },
      "execution_count": 46,
      "outputs": []
    },
    {
      "cell_type": "code",
      "source": [
        "#################################\n",
        "### get_list_columns_by_threshold\n",
        "#################################\n",
        "def get_list_columns_by_threshold(i_feature_importances_df,i_threshold=0.005):\n",
        "  l_feature_importances_df_t=i_feature_importances_df[i_feature_importances_df.importances > i_threshold]\n",
        "  return list(l_feature_importances_df_t.columns_)\n",
        "#\n"
      ],
      "metadata": {
        "id": "1ZLmix-RTi_f"
      },
      "execution_count": 47,
      "outputs": []
    },
    {
      "cell_type": "code",
      "source": [
        "# Initilization\n",
        "(df,(X_train,X_test,y_train,y_test))=reinit_preprocess_split()"
      ],
      "metadata": {
        "colab": {
          "base_uri": "https://localhost:8080/"
        },
        "id": "D4VCxnwNVKcc",
        "outputId": "88e36299-0576-44ed-9762-d66ffc3a7517"
      },
      "execution_count": 48,
      "outputs": [
        {
          "output_type": "stream",
          "name": "stdout",
          "text": [
            "df.shape= (9557, 143)\n",
            "list columns with Null: []\n",
            "list_family_no_unique_target()--> []\n",
            "No numeric in dependency--> []\n",
            "No numeric in edjefe--> []\n",
            "No numeric in edjefa--> []\n",
            "No numeric in idhogar--> []\n",
            "X_train.shape, X_test.shape,y_train.shape,y_test.shape\n",
            "(7641, 140) (1911, 140) (7641,) (1911,)\n"
          ]
        }
      ]
    },
    {
      "cell_type": "code",
      "source": [
        "# RandomForestClassifier model and without use the specefic preprocessors\n",
        "model_rfc = RandomForestClassifier(random_state=0)\n",
        "fit_and_evaluate_model(model_rfc,X_train,X_test,y_train,y_test)"
      ],
      "metadata": {
        "colab": {
          "base_uri": "https://localhost:8080/"
        },
        "id": "pkeSA8_aSta_",
        "outputId": "13d7726e-39f4-4257-ebc2-bddd93fa7a25"
      },
      "execution_count": 49,
      "outputs": [
        {
          "output_type": "stream",
          "name": "stdout",
          "text": [
            "[[ 123    9    0   17]\n",
            " [   3  257    6   40]\n",
            " [   0    7  173   50]\n",
            " [   0    2    4 1220]]\n",
            "              precision    recall  f1-score   support\n",
            "\n",
            "           1       0.98      0.83      0.89       149\n",
            "           2       0.93      0.84      0.88       306\n",
            "           3       0.95      0.75      0.84       230\n",
            "           4       0.92      1.00      0.96      1226\n",
            "\n",
            "    accuracy                           0.93      1911\n",
            "   macro avg       0.94      0.85      0.89      1911\n",
            "weighted avg       0.93      0.93      0.93      1911\n",
            "\n"
          ]
        },
        {
          "output_type": "execute_result",
          "data": {
            "text/plain": [
              "RandomForestClassifier(random_state=0)"
            ]
          },
          "metadata": {},
          "execution_count": 49
        }
      ]
    },
    {
      "cell_type": "code",
      "source": [
        "# evolution of accuracy\n",
        "# comparing X_train and X_test accuracy\n",
        "show_learning_curve(model_rfc,X_train,y_train,'accuracy')"
      ],
      "metadata": {
        "colab": {
          "base_uri": "https://localhost:8080/",
          "height": 265
        },
        "id": "KRA1f2NdEVS4",
        "outputId": "fe4f72d8-d6fc-4239-abee-b07892849d53"
      },
      "execution_count": 52,
      "outputs": [
        {
          "output_type": "display_data",
          "data": {
            "text/plain": [
              "<Figure size 576x288 with 1 Axes>"
            ],
            "image/png": "[encoded data removed]"
          },
          "metadata": {
            "needs_background": "light"
          }
        }
      ]
    },
    {
      "cell_type": "code",
      "source": [
        "feature_importances_df=show_importances_plot(model_rfc,0.011)"
      ],
      "metadata": {
        "colab": {
          "base_uri": "https://localhost:8080/",
          "height": 374
        },
        "id": "LrnIyIsPTLem",
        "outputId": "643dceb2-9ee7-47bf-f5e9-70c17d6186ed"
      },
      "execution_count": 53,
      "outputs": [
        {
          "output_type": "display_data",
          "data": {
            "text/plain": [
              "<Figure size 792x432 with 1 Axes>"
            ],
            "image/png": "[encoded data removed]"
          },
          "metadata": {
            "needs_background": "light"
          }
        }
      ]
    },
    {
      "cell_type": "code",
      "source": [
        "list_cols_importances_0_005=get_list_columns_by_threshold(feature_importances_df,0.005)\n",
        "len(list_cols_importances_0_005)"
      ],
      "metadata": {
        "colab": {
          "base_uri": "https://localhost:8080/"
        },
        "id": "QovBMGrWToyK",
        "outputId": "f2f526cd-9120-494d-f179-d1b1a49b2d55"
      },
      "execution_count": 54,
      "outputs": [
        {
          "output_type": "execute_result",
          "data": {
            "text/plain": [
              "64"
            ]
          },
          "metadata": {},
          "execution_count": 54
        }
      ]
    },
    {
      "cell_type": "code",
      "source": [
        "# Initilization\n",
        "(df,(X_train,X_test,y_train,y_test))=reinit_preprocess_split()"
      ],
      "metadata": {
        "colab": {
          "base_uri": "https://localhost:8080/"
        },
        "id": "8jw1UKwwLjfC",
        "outputId": "52c4a6d8-fec9-4e5f-f72b-3351297b2905"
      },
      "execution_count": 55,
      "outputs": [
        {
          "output_type": "stream",
          "name": "stdout",
          "text": [
            "df.shape= (9557, 143)\n",
            "list columns with Null: []\n",
            "list_family_no_unique_target()--> []\n",
            "No numeric in dependency--> []\n",
            "No numeric in edjefe--> []\n",
            "No numeric in edjefa--> []\n",
            "No numeric in idhogar--> []\n",
            "X_train.shape, X_test.shape,y_train.shape,y_test.shape\n",
            "(7641, 140) (1911, 140) (7641,) (1911,)\n"
          ]
        }
      ]
    },
    {
      "cell_type": "code",
      "source": [
        "X_train.shape,X_test.shape"
      ],
      "metadata": {
        "colab": {
          "base_uri": "https://localhost:8080/"
        },
        "id": "ERH69AsNVGuR",
        "outputId": "afabe348-1f78-4d3a-fd81-4cb473927ba2"
      },
      "execution_count": 56,
      "outputs": [
        {
          "output_type": "execute_result",
          "data": {
            "text/plain": [
              "((7641, 140), (1911, 140))"
            ]
          },
          "metadata": {},
          "execution_count": 56
        }
      ]
    },
    {
      "cell_type": "code",
      "source": [
        "X_train=X_train[list_cols_importances_0_005]\n",
        "#\n",
        "X_test=X_test[list_cols_importances_0_005]\n",
        "#\n",
        "X_train.shape,X_test.shape"
      ],
      "metadata": {
        "colab": {
          "base_uri": "https://localhost:8080/"
        },
        "id": "J3J4f36UUjOe",
        "outputId": "431e15de-8224-496e-d405-405d82aa9e8b"
      },
      "execution_count": 57,
      "outputs": [
        {
          "output_type": "execute_result",
          "data": {
            "text/plain": [
              "((7641, 64), (1911, 64))"
            ]
          },
          "metadata": {},
          "execution_count": 57
        }
      ]
    },
    {
      "cell_type": "code",
      "source": [
        "# RandomForestClassifier model\n",
        "model_rfc = RandomForestClassifier(random_state=0)\n",
        "fit_and_evaluate_model(model_rfc,X_train,X_test,y_train,y_test)"
      ],
      "metadata": {
        "colab": {
          "base_uri": "https://localhost:8080/"
        },
        "id": "hmXi6fOXVdLZ",
        "outputId": "fb45d194-eda5-4715-b92e-814e2a5d72e5"
      },
      "execution_count": 59,
      "outputs": [
        {
          "output_type": "stream",
          "name": "stdout",
          "text": [
            "[[ 129    9    0   11]\n",
            " [   5  272    4   25]\n",
            " [   0    7  192   31]\n",
            " [   0    3    3 1220]]\n",
            "              precision    recall  f1-score   support\n",
            "\n",
            "           1       0.96      0.87      0.91       149\n",
            "           2       0.93      0.89      0.91       306\n",
            "           3       0.96      0.83      0.90       230\n",
            "           4       0.95      1.00      0.97      1226\n",
            "\n",
            "    accuracy                           0.95      1911\n",
            "   macro avg       0.95      0.90      0.92      1911\n",
            "weighted avg       0.95      0.95      0.95      1911\n",
            "\n"
          ]
        },
        {
          "output_type": "execute_result",
          "data": {
            "text/plain": [
              "RandomForestClassifier(random_state=0)"
            ]
          },
          "metadata": {},
          "execution_count": 59
        }
      ]
    },
    {
      "cell_type": "markdown",
      "source": [
        ""
      ],
      "metadata": {
        "id": "pxs0GxwFXH9B"
      }
    },
    {
      "cell_type": "code",
      "source": [
        ""
      ],
      "metadata": {
        "id": "t9R-ZWOoXG_U"
      },
      "execution_count": null,
      "outputs": []
    },
    {
      "cell_type": "markdown",
      "source": [
        "# Optimization2"
      ],
      "metadata": {
        "id": "mkCzOwZf1Fln"
      }
    },
    {
      "cell_type": "code",
      "source": [
        "# Initilization\n",
        "(df,(X_train,X_test,y_train,y_test))=reinit_preprocess_split()\n"
      ],
      "metadata": {
        "colab": {
          "base_uri": "https://localhost:8080/"
        },
        "id": "XaaPsH1bVz93",
        "outputId": "91790870-4f91-48a8-b368-ad2416b3dc21"
      },
      "execution_count": 111,
      "outputs": [
        {
          "output_type": "stream",
          "name": "stdout",
          "text": [
            "df.shape= (9557, 143)\n",
            "list columns with Null: []\n",
            "list_family_no_unique_target()--> []\n",
            "No numeric in dependency--> []\n",
            "No numeric in edjefe--> []\n",
            "No numeric in edjefa--> []\n",
            "No numeric in idhogar--> []\n",
            "X_train.shape, X_test.shape,y_train.shape,y_test.shape\n",
            "(7641, 140) (1911, 140) (7641,) (1911,)\n"
          ]
        }
      ]
    },
    {
      "cell_type": "code",
      "source": [
        "X_train=X_train[list_cols_importances_0_005]\n",
        "#\n",
        "X_test=X_test[list_cols_importances_0_005]\n",
        "#\n",
        "X_train.shape,X_test.shape"
      ],
      "metadata": {
        "colab": {
          "base_uri": "https://localhost:8080/"
        },
        "id": "f-X8kQUtWC2n",
        "outputId": "99aca0bf-cfbb-48b5-d172-774232725f68"
      },
      "execution_count": 112,
      "outputs": [
        {
          "output_type": "execute_result",
          "data": {
            "text/plain": [
              "((7641, 64), (1911, 64))"
            ]
          },
          "metadata": {},
          "execution_count": 112
        }
      ]
    },
    {
      "cell_type": "code",
      "source": [
        "# Create correlation matrix\n",
        "corr_matrix = X_train.corr()\n",
        "corr_matrix.shape"
      ],
      "metadata": {
        "colab": {
          "base_uri": "https://localhost:8080/"
        },
        "id": "lLOr9D55vJm6",
        "outputId": "b05fbc92-4239-4c92-e780-01bcc6034d85"
      },
      "execution_count": 113,
      "outputs": [
        {
          "output_type": "execute_result",
          "data": {
            "text/plain": [
              "(64, 64)"
            ]
          },
          "metadata": {},
          "execution_count": 113
        }
      ]
    },
    {
      "cell_type": "code",
      "source": [
        "sns.heatmap(corr_matrix)"
      ],
      "metadata": {
        "colab": {
          "base_uri": "https://localhost:8080/",
          "height": 349
        },
        "id": "gr7vPKtLWmsd",
        "outputId": "c607173f-25f8-4453-a499-b41b0d91013e"
      },
      "execution_count": 114,
      "outputs": [
        {
          "output_type": "execute_result",
          "data": {
            "text/plain": [
              "<matplotlib.axes._subplots.AxesSubplot at 0x7fca599fef50>"
            ]
          },
          "metadata": {},
          "execution_count": 114
        },
        {
          "output_type": "display_data",
          "data": {
            "text/plain": [
              "<Figure size 432x288 with 2 Axes>"
            ],
            "image/png": "[encoded data removed]"
          },
          "metadata": {
            "needs_background": "light"
          }
        }
      ]
    },
    {
      "cell_type": "code",
      "source": [
        "# looking for features corresponding at the threshold 0.80\n",
        "cols=corr_matrix.columns\n",
        "ll1=[]  # for help to filtring\n",
        "ll2=[]  # columns to keep after filtring\n",
        "cmpt=0\n",
        "for col1 in cols:\n",
        "  for col2 in cols:\n",
        "    l_val=corr_matrix.loc[col2,col1]\n",
        "    if cmpt < 10:\n",
        "      #print (abs(l_val))\n",
        "      cmpt=cmpt+1\n",
        "    if abs(l_val) > 0.85:\n",
        "      if col1!=col2:\n",
        "        if col1 not in ll2:\n",
        "          ll1.append(col1)\n",
        "        ll2.append(col2)\n",
        "len(ll1),len(ll2)"
      ],
      "metadata": {
        "colab": {
          "base_uri": "https://localhost:8080/"
        },
        "id": "mP2BHDWzcdic",
        "outputId": "72545136-af01-459f-fcd3-feafe9a9c658"
      },
      "execution_count": 115,
      "outputs": [
        {
          "output_type": "execute_result",
          "data": {
            "text/plain": [
              "(16, 54)"
            ]
          },
          "metadata": {},
          "execution_count": 115
        }
      ]
    },
    {
      "cell_type": "code",
      "source": [
        "# remove duplicates\n",
        "ll1_unique=list(set(ll1))\n",
        "ll2_unique=list(set(ll2))\n",
        "len(ll1_unique),len(ll2_unique)"
      ],
      "metadata": {
        "colab": {
          "base_uri": "https://localhost:8080/"
        },
        "id": "vuqTtxrgirQw",
        "outputId": "effa7ca9-7b5b-4bb0-c26d-903e6c56834a"
      },
      "execution_count": 116,
      "outputs": [
        {
          "output_type": "execute_result",
          "data": {
            "text/plain": [
              "(11, 27)"
            ]
          },
          "metadata": {},
          "execution_count": 116
        }
      ]
    },
    {
      "cell_type": "code",
      "source": [
        "# features to eliminate\n",
        "lst_a_droper=[col for col in ll2_unique if col not in ll1 ]\n",
        "len(lst_a_droper)"
      ],
      "metadata": {
        "colab": {
          "base_uri": "https://localhost:8080/"
        },
        "id": "Kuk2gkeijQ5J",
        "outputId": "332fd3d9-4130-4a93-98be-ebe2dadd819a"
      },
      "execution_count": 117,
      "outputs": [
        {
          "output_type": "execute_result",
          "data": {
            "text/plain": [
              "16"
            ]
          },
          "metadata": {},
          "execution_count": 117
        }
      ]
    },
    {
      "cell_type": "code",
      "source": [
        "# list of features to keep for after\n",
        "list_cols_above_0_80=[col for col in cols if col not in lst_a_droper]\n",
        "len(list_cols_above_0_80)"
      ],
      "metadata": {
        "colab": {
          "base_uri": "https://localhost:8080/"
        },
        "id": "ltblghRTtvNJ",
        "outputId": "2a238405-e170-43c6-f4ce-c405ed9b2ed7"
      },
      "execution_count": 118,
      "outputs": [
        {
          "output_type": "execute_result",
          "data": {
            "text/plain": [
              "48"
            ]
          },
          "metadata": {},
          "execution_count": 118
        }
      ]
    },
    {
      "cell_type": "markdown",
      "source": [
        "filtering features by applying the 0.005 threshold to feature_importances and 0.85 threshold for correlation:"
      ],
      "metadata": {
        "id": "eITD36a0Sr6d"
      }
    },
    {
      "cell_type": "code",
      "source": [
        "X_train=X_train[list_cols_above_0_80]\n",
        "#\n",
        "X_test=X_test[list_cols_above_0_80]\n",
        "#\n",
        "X_train.shape,X_test.shape"
      ],
      "metadata": {
        "colab": {
          "base_uri": "https://localhost:8080/"
        },
        "id": "jL6x-yWQuHqw",
        "outputId": "aa6cd6fe-16b7-4a16-f414-d5a7d14a52de"
      },
      "execution_count": 119,
      "outputs": [
        {
          "output_type": "execute_result",
          "data": {
            "text/plain": [
              "((7641, 48), (1911, 48))"
            ]
          },
          "metadata": {},
          "execution_count": 119
        }
      ]
    },
    {
      "cell_type": "code",
      "source": [
        "# RandomForestClassifier model\n",
        "model_rfc = RandomForestClassifier(random_state=0)\n",
        "fit_and_evaluate_model(model_rfc,X_train,X_test,y_train,y_test)"
      ],
      "metadata": {
        "colab": {
          "base_uri": "https://localhost:8080/"
        },
        "id": "P-VyXvGVuHUF",
        "outputId": "e114ff85-1f27-4c3a-d540-ba2bc43ca3a8"
      },
      "execution_count": 120,
      "outputs": [
        {
          "output_type": "stream",
          "name": "stdout",
          "text": [
            "[[ 129   10    0   10]\n",
            " [   5  276    7   18]\n",
            " [   0   12  192   26]\n",
            " [   0    2    5 1219]]\n",
            "              precision    recall  f1-score   support\n",
            "\n",
            "           1       0.96      0.87      0.91       149\n",
            "           2       0.92      0.90      0.91       306\n",
            "           3       0.94      0.83      0.88       230\n",
            "           4       0.96      0.99      0.98      1226\n",
            "\n",
            "    accuracy                           0.95      1911\n",
            "   macro avg       0.95      0.90      0.92      1911\n",
            "weighted avg       0.95      0.95      0.95      1911\n",
            "\n"
          ]
        },
        {
          "output_type": "execute_result",
          "data": {
            "text/plain": [
              "RandomForestClassifier(random_state=0)"
            ]
          },
          "metadata": {},
          "execution_count": 120
        }
      ]
    },
    {
      "cell_type": "code",
      "source": [
        "# RandomForestClassifier model\n",
        "model_rfc = RandomForestClassifier(random_state=10)\n",
        "fit_and_evaluate_model(model_rfc,X_train,X_test,y_train,y_test)"
      ],
      "metadata": {
        "id": "oKLG-gNwuHGh",
        "colab": {
          "base_uri": "https://localhost:8080/"
        },
        "outputId": "1c549b42-26e4-4e57-fd9b-8e177a7fbd23"
      },
      "execution_count": 121,
      "outputs": [
        {
          "output_type": "stream",
          "name": "stdout",
          "text": [
            "[[ 131   10    0    8]\n",
            " [   5  282    7   12]\n",
            " [   0   12  192   26]\n",
            " [   0    2    5 1219]]\n",
            "              precision    recall  f1-score   support\n",
            "\n",
            "           1       0.96      0.88      0.92       149\n",
            "           2       0.92      0.92      0.92       306\n",
            "           3       0.94      0.83      0.88       230\n",
            "           4       0.96      0.99      0.98      1226\n",
            "\n",
            "    accuracy                           0.95      1911\n",
            "   macro avg       0.95      0.91      0.93      1911\n",
            "weighted avg       0.95      0.95      0.95      1911\n",
            "\n"
          ]
        },
        {
          "output_type": "execute_result",
          "data": {
            "text/plain": [
              "RandomForestClassifier(random_state=10)"
            ]
          },
          "metadata": {},
          "execution_count": 121
        }
      ]
    },
    {
      "cell_type": "code",
      "source": [
        ""
      ],
      "metadata": {
        "id": "oEUJMj3ZcyRC"
      },
      "execution_count": null,
      "outputs": []
    },
    {
      "cell_type": "markdown",
      "source": [
        "# Optimization 3"
      ],
      "metadata": {
        "id": "0fo34DvN1Uha"
      }
    },
    {
      "cell_type": "code",
      "source": [
        "# Initilization\n",
        "(df,(X_train,X_test,y_train,y_test))=reinit_preprocess_split()"
      ],
      "metadata": {
        "colab": {
          "base_uri": "https://localhost:8080/"
        },
        "id": "1NCHEyU3y1Lt",
        "outputId": "67cb7da9-691a-4dca-e857-3204bb7f8587"
      },
      "execution_count": 122,
      "outputs": [
        {
          "output_type": "stream",
          "name": "stdout",
          "text": [
            "df.shape= (9557, 143)\n",
            "list columns with Null: []\n",
            "list_family_no_unique_target()--> []\n",
            "No numeric in dependency--> []\n",
            "No numeric in edjefe--> []\n",
            "No numeric in edjefa--> []\n",
            "No numeric in idhogar--> []\n",
            "X_train.shape, X_test.shape,y_train.shape,y_test.shape\n",
            "(7641, 140) (1911, 140) (7641,) (1911,)\n"
          ]
        }
      ]
    },
    {
      "cell_type": "markdown",
      "source": [
        "Balancing the classes of the dataset by SMOTE approch"
      ],
      "metadata": {
        "id": "WFaYpczgWiPi"
      }
    },
    {
      "cell_type": "code",
      "source": [
        "####################################\n",
        "### SMOTE() Operation\n",
        "####################################\n",
        "\n",
        "from enum import auto\n",
        "#\n",
        "from imblearn.over_sampling import SMOTE \n",
        "sm = SMOTE(random_state=20) \n",
        "#'minority','auto'equivalent à 'not majority','not minority','all'\n",
        "X_train_res, y_train_res = sm.fit_resample(X_train, y_train.ravel()) \n",
        "  \n",
        "X_train_res.shape,y_train_res.shape"
      ],
      "metadata": {
        "colab": {
          "base_uri": "https://localhost:8080/"
        },
        "id": "aueHEPhBxqOH",
        "outputId": "0b8230e9-0d48-453a-a509-ccbc51b03306"
      },
      "execution_count": 123,
      "outputs": [
        {
          "output_type": "execute_result",
          "data": {
            "text/plain": [
              "((19060, 140), (19060,))"
            ]
          },
          "metadata": {},
          "execution_count": 123
        }
      ]
    },
    {
      "cell_type": "code",
      "source": [
        "sm.get_params()"
      ],
      "metadata": {
        "colab": {
          "base_uri": "https://localhost:8080/"
        },
        "id": "SfyL8Nouxp2C",
        "outputId": "c8f53785-f986-4117-aa8b-784fb4232500"
      },
      "execution_count": 124,
      "outputs": [
        {
          "output_type": "execute_result",
          "data": {
            "text/plain": [
              "{'k_neighbors': 5,\n",
              " 'n_jobs': None,\n",
              " 'random_state': 20,\n",
              " 'sampling_strategy': 'auto'}"
            ]
          },
          "metadata": {},
          "execution_count": 124
        }
      ]
    },
    {
      "cell_type": "code",
      "source": [
        "sum(y_train_res == 1),sum(y_train_res == 2),sum(y_train_res == 3),sum(y_train_res == 4)"
      ],
      "metadata": {
        "colab": {
          "base_uri": "https://localhost:8080/"
        },
        "id": "yGXZtldRyOlQ",
        "outputId": "8b2336b4-5654-489c-e29b-0a3ce62ae4ff"
      },
      "execution_count": 125,
      "outputs": [
        {
          "output_type": "execute_result",
          "data": {
            "text/plain": [
              "(4765, 4765, 4765, 4765)"
            ]
          },
          "metadata": {},
          "execution_count": 125
        }
      ]
    },
    {
      "cell_type": "code",
      "source": [
        "# affectation\n",
        "X_train,y_train=X_train_res, y_train_res"
      ],
      "metadata": {
        "id": "hjG7-X3iyNe4"
      },
      "execution_count": 126,
      "outputs": []
    },
    {
      "cell_type": "code",
      "source": [
        "X_train.shape,y_train.shape"
      ],
      "metadata": {
        "colab": {
          "base_uri": "https://localhost:8080/"
        },
        "id": "pWSNg0E3yusq",
        "outputId": "5523820d-057a-4e15-9f32-ad24a40d15ab"
      },
      "execution_count": 127,
      "outputs": [
        {
          "output_type": "execute_result",
          "data": {
            "text/plain": [
              "((19060, 140), (19060,))"
            ]
          },
          "metadata": {},
          "execution_count": 127
        }
      ]
    },
    {
      "cell_type": "code",
      "source": [
        "#=============================================\n",
        "# Case Optimiozation1\n",
        "X_train=X_train[list_cols_importances_0_005]\n",
        "#\n",
        "X_test=X_test[list_cols_importances_0_005]\n",
        "#\n",
        "X_train.shape,X_test.shape\n",
        "#=============================================\n",
        "#\n",
        "# RandomForestClassifier model\n",
        "#model_rfc = RandomForestClassifier(random_state=0)\n",
        "#fit_and_evaluate_model(model_rfc,X_train,X_test,y_train,y_test)"
      ],
      "metadata": {
        "colab": {
          "base_uri": "https://localhost:8080/"
        },
        "id": "b04fQLI9zK2B",
        "outputId": "47d70ece-4b02-44a4-ac33-700427f1215c"
      },
      "execution_count": 128,
      "outputs": [
        {
          "output_type": "execute_result",
          "data": {
            "text/plain": [
              "((19060, 64), (1911, 64))"
            ]
          },
          "metadata": {},
          "execution_count": 128
        }
      ]
    },
    {
      "cell_type": "code",
      "source": [
        "#=============================================\n",
        "# Case2 Optimization2\n",
        "X_train=X_train[list_cols_above_0_80]\n",
        "#\n",
        "X_test=X_test[list_cols_above_0_80]\n",
        "#\n",
        "X_train.shape,X_test.shape\n",
        "#=============================================\n",
        "#"
      ],
      "metadata": {
        "colab": {
          "base_uri": "https://localhost:8080/"
        },
        "id": "NMZWGz-30Xxr",
        "outputId": "8198ce84-6be0-43c8-ab62-44d944976a46"
      },
      "execution_count": 129,
      "outputs": [
        {
          "output_type": "execute_result",
          "data": {
            "text/plain": [
              "((19060, 48), (1911, 48))"
            ]
          },
          "metadata": {},
          "execution_count": 129
        }
      ]
    },
    {
      "cell_type": "code",
      "source": [
        "# RandomForestClassifier model\n",
        "model_rfc = RandomForestClassifier(random_state=0)\n",
        "fit_and_evaluate_model(model_rfc,X_train,X_test,y_train,y_test)"
      ],
      "metadata": {
        "colab": {
          "base_uri": "https://localhost:8080/"
        },
        "id": "RlBvNSKuWXPW",
        "outputId": "73ae4c9e-1856-49ff-ef6c-0b5e47bffa0b"
      },
      "execution_count": 130,
      "outputs": [
        {
          "output_type": "stream",
          "name": "stdout",
          "text": [
            "[[ 135    7    1    6]\n",
            " [   5  278    7   16]\n",
            " [   0   13  200   17]\n",
            " [   3    3    6 1214]]\n",
            "              precision    recall  f1-score   support\n",
            "\n",
            "           1       0.94      0.91      0.92       149\n",
            "           2       0.92      0.91      0.92       306\n",
            "           3       0.93      0.87      0.90       230\n",
            "           4       0.97      0.99      0.98      1226\n",
            "\n",
            "    accuracy                           0.96      1911\n",
            "   macro avg       0.94      0.92      0.93      1911\n",
            "weighted avg       0.96      0.96      0.96      1911\n",
            "\n"
          ]
        },
        {
          "output_type": "execute_result",
          "data": {
            "text/plain": [
              "RandomForestClassifier(random_state=0)"
            ]
          },
          "metadata": {},
          "execution_count": 130
        }
      ]
    },
    {
      "cell_type": "code",
      "source": [
        "model_rfc = RandomForestClassifier(random_state=10)\n",
        "fit_and_evaluate_model(model_rfc,X_train,X_test,y_train,y_test)"
      ],
      "metadata": {
        "colab": {
          "base_uri": "https://localhost:8080/"
        },
        "id": "EwU9h-qxR2XT",
        "outputId": "362b48a1-d81f-49f9-f076-b47cf6834430"
      },
      "execution_count": 134,
      "outputs": [
        {
          "output_type": "stream",
          "name": "stdout",
          "text": [
            "[[ 134    8    0    7]\n",
            " [   6  277    8   15]\n",
            " [   0   15  200   15]\n",
            " [   4    3    6 1213]]\n",
            "              precision    recall  f1-score   support\n",
            "\n",
            "           1       0.93      0.90      0.91       149\n",
            "           2       0.91      0.91      0.91       306\n",
            "           3       0.93      0.87      0.90       230\n",
            "           4       0.97      0.99      0.98      1226\n",
            "\n",
            "    accuracy                           0.95      1911\n",
            "   macro avg       0.94      0.92      0.93      1911\n",
            "weighted avg       0.95      0.95      0.95      1911\n",
            "\n"
          ]
        },
        {
          "output_type": "execute_result",
          "data": {
            "text/plain": [
              "RandomForestClassifier(random_state=10)"
            ]
          },
          "metadata": {},
          "execution_count": 134
        }
      ]
    },
    {
      "cell_type": "markdown",
      "source": [
        "# Optimization4"
      ],
      "metadata": {
        "id": "Daa21o26xrHD"
      }
    },
    {
      "cell_type": "code",
      "source": [
        "# Initilization\n",
        "(df,(X_train,X_test,y_train,y_test))=reinit_preprocess_split()"
      ],
      "metadata": {
        "colab": {
          "base_uri": "https://localhost:8080/"
        },
        "id": "Yzx5zBsi2jmj",
        "outputId": "45308f0d-7c20-41f0-ea47-63d1aa23ac04"
      },
      "execution_count": 135,
      "outputs": [
        {
          "output_type": "stream",
          "name": "stdout",
          "text": [
            "df.shape= (9557, 143)\n",
            "list columns with Null: []\n",
            "list_family_no_unique_target()--> []\n",
            "No numeric in dependency--> []\n",
            "No numeric in edjefe--> []\n",
            "No numeric in edjefa--> []\n",
            "No numeric in idhogar--> []\n",
            "X_train.shape, X_test.shape,y_train.shape,y_test.shape\n",
            "(7641, 140) (1911, 140) (7641,) (1911,)\n"
          ]
        }
      ]
    },
    {
      "cell_type": "code",
      "source": [
        "# SMOTE\n",
        "sm = SMOTE(random_state=20) \n",
        "X_train_res, y_train_res = sm.fit_resample(X_train, y_train.ravel())\n",
        "X_train_res.shape,y_train_res.shape"
      ],
      "metadata": {
        "colab": {
          "base_uri": "https://localhost:8080/"
        },
        "id": "daZv67vJ1ZEJ",
        "outputId": "a09329e7-3ab3-469b-ed74-e9f4b13104df"
      },
      "execution_count": 136,
      "outputs": [
        {
          "output_type": "execute_result",
          "data": {
            "text/plain": [
              "((19060, 140), (19060,))"
            ]
          },
          "metadata": {},
          "execution_count": 136
        }
      ]
    },
    {
      "cell_type": "code",
      "source": [
        "# here assignment\n",
        "X_train,y_train=X_train_res, y_train_res\n",
        "#\n",
        "#=============================================\n",
        "# Apply the threshold 0_005 for features_imprtances\n",
        "X_train=X_train[list_cols_importances_0_005]\n",
        "#\n",
        "X_test=X_test[list_cols_importances_0_005]\n",
        "#\n",
        "X_train.shape,X_test.shape\n",
        "#=============================================\n",
        "#=============================================\n",
        "# Apply the threshold 0_85 for the correlation\n",
        "X_train=X_train[list_cols_above_0_80]\n",
        "#\n",
        "X_test=X_test[list_cols_above_0_80]\n",
        "#\n",
        "X_train.shape,X_test.shape\n",
        "#============================================="
      ],
      "metadata": {
        "colab": {
          "base_uri": "https://localhost:8080/"
        },
        "id": "1NJFw2BK2_uh",
        "outputId": "36bdaf9b-bcb0-4347-f6fd-75352079a963"
      },
      "execution_count": 137,
      "outputs": [
        {
          "output_type": "execute_result",
          "data": {
            "text/plain": [
              "((19060, 48), (1911, 48))"
            ]
          },
          "metadata": {},
          "execution_count": 137
        }
      ]
    },
    {
      "cell_type": "code",
      "source": [
        "# RandomizedSearchCV\n",
        "from sklearn.model_selection import RandomizedSearchCV\n",
        "\n",
        "#\n",
        "rfc=RandomForestClassifier(bootstrap=True, class_weight=None, max_leaf_nodes=None,\n",
        "                                min_impurity_decrease=0.0, \n",
        "                                    min_samples_leaf=1, min_samples_split=2,\n",
        "                                        min_weight_fraction_leaf=0.0, n_estimators=0, n_jobs=2,\n",
        "                                            oob_score=False, random_state=0, verbose=0, warm_start=False)\n",
        "\n",
        "tuned_parameters={'n_estimators': [200,300,400], 'max_features': ['auto', 'sqrt', 'log2'],'max_depth': [32,64], 'criterion': ['gini', 'entropy']}\n",
        "\n",
        "#\n",
        "CV_rfc=RandomizedSearchCV(cv=5, error_score='raise', estimator=rfc, param_distributions=tuned_parameters,n_jobs=2,\n",
        "                                   pre_dispatch='2*n_jobs', refit=True, return_train_score='warn',   \n",
        "                                       scoring=None, verbose=0)\n",
        " \n",
        "#\n",
        "CV_rfc.fit(X_train, y_train)\n",
        "\n",
        "CV_rfc.best_params_\n",
        "#\n",
        "fit_and_evaluate_model(CV_rfc,X_train,X_test,y_train,y_test)"
      ],
      "metadata": {
        "colab": {
          "base_uri": "https://localhost:8080/"
        },
        "id": "ysUtKvNWQqtP",
        "outputId": "7a92864a-6f70-45ed-a10a-ffaf09b95bfb"
      },
      "execution_count": 138,
      "outputs": [
        {
          "output_type": "stream",
          "name": "stdout",
          "text": [
            "[[ 135    8    0    6]\n",
            " [   5  276    8   17]\n",
            " [   0   13  201   16]\n",
            " [   0    3    7 1216]]\n",
            "              precision    recall  f1-score   support\n",
            "\n",
            "           1       0.96      0.91      0.93       149\n",
            "           2       0.92      0.90      0.91       306\n",
            "           3       0.93      0.87      0.90       230\n",
            "           4       0.97      0.99      0.98      1226\n",
            "\n",
            "    accuracy                           0.96      1911\n",
            "   macro avg       0.95      0.92      0.93      1911\n",
            "weighted avg       0.96      0.96      0.96      1911\n",
            "\n"
          ]
        },
        {
          "output_type": "execute_result",
          "data": {
            "text/plain": [
              "RandomizedSearchCV(cv=5, error_score='raise',\n",
              "                   estimator=RandomForestClassifier(n_estimators=0, n_jobs=2,\n",
              "                                                    random_state=0),\n",
              "                   n_jobs=2,\n",
              "                   param_distributions={'criterion': ['gini', 'entropy'],\n",
              "                                        'max_depth': [32, 64],\n",
              "                                        'max_features': ['auto', 'sqrt',\n",
              "                                                         'log2'],\n",
              "                                        'n_estimators': [200, 300, 400]},\n",
              "                   return_train_score='warn')"
            ]
          },
          "metadata": {},
          "execution_count": 138
        }
      ]
    },
    {
      "cell_type": "code",
      "source": [
        "CV_rfc.best_params_"
      ],
      "metadata": {
        "colab": {
          "base_uri": "https://localhost:8080/"
        },
        "id": "OsZu-3dEW_rr",
        "outputId": "80d073bd-9d0a-49ed-bbe5-2ff1574b2cf6"
      },
      "execution_count": 140,
      "outputs": [
        {
          "output_type": "execute_result",
          "data": {
            "text/plain": [
              "{'criterion': 'gini',\n",
              " 'max_depth': 32,\n",
              " 'max_features': 'log2',\n",
              " 'n_estimators': 400}"
            ]
          },
          "metadata": {},
          "execution_count": 140
        }
      ]
    },
    {
      "cell_type": "code",
      "source": [
        ""
      ],
      "metadata": {
        "id": "XNF4dCk6W_oM"
      },
      "execution_count": null,
      "outputs": []
    },
    {
      "cell_type": "code",
      "source": [
        ""
      ],
      "metadata": {
        "id": "9SC3rDDpW_P3"
      },
      "execution_count": null,
      "outputs": []
    },
    {
      "cell_type": "code",
      "source": [
        "# GridSearchCV \n",
        "from sklearn.model_selection import GridSearchCV\n",
        "\n",
        "#\n",
        "rfc=RandomForestClassifier(bootstrap=True, class_weight=None, max_leaf_nodes=None,\n",
        "                                min_impurity_decrease=0.0, \n",
        "                                    min_samples_leaf=1, min_samples_split=2,\n",
        "                                        min_weight_fraction_leaf=0.0, n_estimators=100, n_jobs=2,\n",
        "                                            oob_score=False, random_state=10, verbose=0, warm_start=False)\n",
        "\n",
        "tuned_parameters={'n_estimators': [200,300,400], 'max_features': ['auto', 'sqrt', 'log2'],'max_depth': [32,64], 'criterion': ['gini', 'entropy']}\n",
        "\n",
        "#\n",
        "CV_rfc=GridSearchCV(cv=5, error_score='raise', estimator=rfc, param_grid=tuned_parameters,n_jobs=2,\n",
        "                                   pre_dispatch='2*n_jobs', refit=True, return_train_score='warn',   \n",
        "                                       scoring=None, verbose=0)\n",
        " \n",
        "#\n",
        "CV_rfc.fit(X_train, y_train)\n",
        "\n",
        "CV_rfc.best_params_\n",
        "#\n",
        "fit_and_evaluate_model(CV_rfc,X_train,X_test,y_train,y_test)\n",
        "\n"
      ],
      "metadata": {
        "colab": {
          "base_uri": "https://localhost:8080/"
        },
        "id": "Tabx2gJu1Tnt",
        "outputId": "7405f409-3279-435f-e09a-95a9cc9953de"
      },
      "execution_count": 345,
      "outputs": [
        {
          "output_type": "stream",
          "name": "stdout",
          "text": [
            "[[ 133    9    0    7]\n",
            " [   6  277    9   14]\n",
            " [   1   14  198   17]\n",
            " [   0    5    8 1213]]\n",
            "              precision    recall  f1-score   support\n",
            "\n",
            "           1       0.95      0.89      0.92       149\n",
            "           2       0.91      0.91      0.91       306\n",
            "           3       0.92      0.86      0.89       230\n",
            "           4       0.97      0.99      0.98      1226\n",
            "\n",
            "    accuracy                           0.95      1911\n",
            "   macro avg       0.94      0.91      0.92      1911\n",
            "weighted avg       0.95      0.95      0.95      1911\n",
            "\n"
          ]
        },
        {
          "output_type": "execute_result",
          "data": {
            "text/plain": [
              "GridSearchCV(cv=5, error_score='raise',\n",
              "             estimator=RandomForestClassifier(n_jobs=2, random_state=10),\n",
              "             n_jobs=2,\n",
              "             param_grid={'criterion': ['gini', 'entropy'],\n",
              "                         'max_depth': [32, 64],\n",
              "                         'max_features': ['auto', 'sqrt', 'log2'],\n",
              "                         'n_estimators': [200, 300, 400]},\n",
              "             return_train_score='warn')"
            ]
          },
          "metadata": {},
          "execution_count": 345
        }
      ]
    },
    {
      "cell_type": "code",
      "source": [
        "CV_rfc.best_params_"
      ],
      "metadata": {
        "colab": {
          "base_uri": "https://localhost:8080/"
        },
        "id": "z9NaggZjW5uu",
        "outputId": "6bc700ed-3d24-4dac-c184-ab111e2941de"
      },
      "execution_count": 139,
      "outputs": [
        {
          "output_type": "execute_result",
          "data": {
            "text/plain": [
              "{'criterion': 'gini',\n",
              " 'max_depth': 32,\n",
              " 'max_features': 'log2',\n",
              " 'n_estimators': 400}"
            ]
          },
          "metadata": {},
          "execution_count": 139
        }
      ]
    },
    {
      "cell_type": "code",
      "source": [
        "CV_rfc.best_params_"
      ],
      "metadata": {
        "colab": {
          "base_uri": "https://localhost:8080/"
        },
        "id": "-Kx1HhM6HyQK",
        "outputId": "f0e62eff-db55-42cd-ef3a-af33698277a8"
      },
      "execution_count": null,
      "outputs": [
        {
          "output_type": "execute_result",
          "data": {
            "text/plain": [
              "{'criterion': 'gini',\n",
              " 'max_depth': 32,\n",
              " 'max_features': 'auto',\n",
              " 'n_estimators': 300}"
            ]
          },
          "metadata": {},
          "execution_count": 94
        }
      ]
    },
    {
      "cell_type": "code",
      "source": [
        "print(CV_rfc.best_params_)\n",
        "y_pred = CV_rfc.predict(X_test)\n",
        "print(classification_report(y_test, y_pred))"
      ],
      "metadata": {
        "id": "oKiL7ZXFZ2vD",
        "colab": {
          "base_uri": "https://localhost:8080/"
        },
        "outputId": "d42a9009-d6d2-4178-efb6-d0affe68a513"
      },
      "execution_count": null,
      "outputs": [
        {
          "output_type": "stream",
          "name": "stdout",
          "text": [
            "{'criterion': 'gini', 'max_depth': 32, 'max_features': 'auto', 'n_estimators': 400}\n",
            "              precision    recall  f1-score   support\n",
            "\n",
            "           1       0.95      0.91      0.93       149\n",
            "           2       0.92      0.90      0.91       306\n",
            "           3       0.94      0.89      0.91       230\n",
            "           4       0.97      0.99      0.98      1226\n",
            "\n",
            "    accuracy                           0.96      1911\n",
            "   macro avg       0.95      0.92      0.93      1911\n",
            "weighted avg       0.96      0.96      0.96      1911\n",
            "\n"
          ]
        }
      ]
    },
    {
      "cell_type": "code",
      "source": [
        "model_1 = RandomForestClassifier(random_state=10,n_estimators=400,\n",
        "                    max_features='auto',criterion='gini', max_depth=32)\n",
        "fit_and_evaluate_model(model_1,X_train,X_test,y_train,y_test)"
      ],
      "metadata": {
        "colab": {
          "base_uri": "https://localhost:8080/"
        },
        "id": "ICF6yDJ9QjMi",
        "outputId": "f29bd60a-36a2-4ac8-bf3d-0d2a23b782f3"
      },
      "execution_count": 236,
      "outputs": [
        {
          "output_type": "stream",
          "name": "stdout",
          "text": [
            "[[ 135    8    0    6]\n",
            " [   5  276    7   18]\n",
            " [   2   14  198   16]\n",
            " [   2    4    6 1214]]\n",
            "              precision    recall  f1-score   support\n",
            "\n",
            "           1       0.94      0.91      0.92       149\n",
            "           2       0.91      0.90      0.91       306\n",
            "           3       0.94      0.86      0.90       230\n",
            "           4       0.97      0.99      0.98      1226\n",
            "\n",
            "    accuracy                           0.95      1911\n",
            "   macro avg       0.94      0.91      0.93      1911\n",
            "weighted avg       0.95      0.95      0.95      1911\n",
            "\n"
          ]
        },
        {
          "output_type": "execute_result",
          "data": {
            "text/plain": [
              "RandomForestClassifier(max_depth=32, n_estimators=400, random_state=10)"
            ]
          },
          "metadata": {},
          "execution_count": 236
        }
      ]
    },
    {
      "cell_type": "code",
      "source": [
        "model_1 = RandomForestClassifier(random_state=10,n_estimators=300,\n",
        "                    max_features='auto',criterion='gini', max_depth=32)\n",
        "fit_and_evaluate_model(model_1,X_train,X_test,y_train,y_test)"
      ],
      "metadata": {
        "colab": {
          "base_uri": "https://localhost:8080/"
        },
        "id": "IDwQRbmrI23k",
        "outputId": "8df7ed0b-8eab-4de3-cbac-57ff71fb3d22"
      },
      "execution_count": 338,
      "outputs": [
        {
          "output_type": "stream",
          "name": "stdout",
          "text": [
            "[[ 135    8    0    6]\n",
            " [   6  277    9   14]\n",
            " [   1   16  198   15]\n",
            " [   1    5    7 1213]]\n",
            "              precision    recall  f1-score   support\n",
            "\n",
            "           1       0.94      0.91      0.92       149\n",
            "           2       0.91      0.91      0.91       306\n",
            "           3       0.93      0.86      0.89       230\n",
            "           4       0.97      0.99      0.98      1226\n",
            "\n",
            "    accuracy                           0.95      1911\n",
            "   macro avg       0.94      0.92      0.93      1911\n",
            "weighted avg       0.95      0.95      0.95      1911\n",
            "\n"
          ]
        },
        {
          "output_type": "execute_result",
          "data": {
            "text/plain": [
              "RandomForestClassifier(max_depth=32, n_estimators=300, random_state=10)"
            ]
          },
          "metadata": {},
          "execution_count": 338
        }
      ]
    },
    {
      "cell_type": "code",
      "source": [
        "model_1 = RandomForestClassifier(random_state=10,n_estimators=500,\n",
        "                    max_features='auto',criterion='gini', max_depth=32)\n",
        "fit_and_evaluate_model(model_1,X_train,X_test,y_train,y_test)"
      ],
      "metadata": {
        "colab": {
          "base_uri": "https://localhost:8080/"
        },
        "id": "sPPiZ84fBsgn",
        "outputId": "0daff69c-d7f3-4531-9142-bbe0d5d29ab9"
      },
      "execution_count": 238,
      "outputs": [
        {
          "output_type": "stream",
          "name": "stdout",
          "text": [
            "[[ 135    8    0    6]\n",
            " [   5  277    7   17]\n",
            " [   2   14  198   16]\n",
            " [   2    4    6 1214]]\n",
            "              precision    recall  f1-score   support\n",
            "\n",
            "           1       0.94      0.91      0.92       149\n",
            "           2       0.91      0.91      0.91       306\n",
            "           3       0.94      0.86      0.90       230\n",
            "           4       0.97      0.99      0.98      1226\n",
            "\n",
            "    accuracy                           0.95      1911\n",
            "   macro avg       0.94      0.92      0.93      1911\n",
            "weighted avg       0.95      0.95      0.95      1911\n",
            "\n"
          ]
        },
        {
          "output_type": "execute_result",
          "data": {
            "text/plain": [
              "RandomForestClassifier(max_depth=32, n_estimators=500, random_state=10)"
            ]
          },
          "metadata": {},
          "execution_count": 238
        }
      ]
    },
    {
      "cell_type": "code",
      "source": [
        "#  Cas3 n_estimators=100\n",
        "i_n_estimator=100\n",
        "from sklearn.model_selection import KFold,cross_val_score\n",
        "seed=7\n",
        "kfold=KFold(n_splits=5,random_state=seed,shuffle=True)\n",
        "#\n",
        "model_1=RandomForestClassifier(n_estimators=i_n_estimator, random_state=10)\n",
        "c_v_score= cross_val_score(model_1,X_train,y_train,cv=kfold,scoring='accuracy')\n",
        "#\n",
        "print(c_v_score.mean()*100)\n",
        "#\n",
        "print('\\n')\n",
        "fit_and_evaluate_model(model_1,X_train,X_test,y_train,y_test)"
      ],
      "metadata": {
        "colab": {
          "base_uri": "https://localhost:8080/"
        },
        "id": "NjxlrPQJHz9N",
        "outputId": "487c8902-7035-46de-969e-f307cb8864b4"
      },
      "execution_count": null,
      "outputs": [
        {
          "output_type": "stream",
          "name": "stdout",
          "text": [
            "94.69045120671564\n",
            "\n",
            "\n",
            "[[ 136    8    0    5]\n",
            " [   5  276   10   15]\n",
            " [   0   17  200   13]\n",
            " [   3    2    7 1214]]\n",
            "              precision    recall  f1-score   support\n",
            "\n",
            "           1       0.94      0.91      0.93       149\n",
            "           2       0.91      0.90      0.91       306\n",
            "           3       0.92      0.87      0.89       230\n",
            "           4       0.97      0.99      0.98      1226\n",
            "\n",
            "    accuracy                           0.96      1911\n",
            "   macro avg       0.94      0.92      0.93      1911\n",
            "weighted avg       0.95      0.96      0.96      1911\n",
            "\n"
          ]
        },
        {
          "output_type": "execute_result",
          "data": {
            "text/plain": [
              "RandomForestClassifier(random_state=10)"
            ]
          },
          "metadata": {},
          "execution_count": 113
        }
      ]
    },
    {
      "cell_type": "code",
      "source": [
        "#  Cas3 n_estimators=100\n",
        "i_n_estimator=100\n",
        "from sklearn.model_selection import KFold,cross_val_score\n",
        "seed=7\n",
        "kfold=KFold(n_splits=5,random_state=seed,shuffle=True)\n",
        "#\n",
        "model_1=RandomForestClassifier(n_estimators=i_n_estimator, random_state=100)\n",
        "c_v_score= cross_val_score(model_1,X_train,y_train,cv=kfold,scoring='accuracy')\n",
        "#\n",
        "print(c_v_score.mean())\n",
        "#\n",
        "print('\\n')\n",
        "fit_and_evaluate_model(model_1,X_train,X_test,y_train,y_test)"
      ],
      "metadata": {
        "colab": {
          "base_uri": "https://localhost:8080/"
        },
        "id": "dSCm4xAHDnK-",
        "outputId": "21574d04-aa76-48d9-980c-b14c024aa447"
      },
      "execution_count": null,
      "outputs": [
        {
          "output_type": "stream",
          "name": "stdout",
          "text": [
            "94.43336831059813\n",
            "\n",
            "\n",
            "[[ 135    8    0    6]\n",
            " [   8  269    8   21]\n",
            " [   0   13  203   14]\n",
            " [   0    3    5 1218]]\n",
            "              precision    recall  f1-score   support\n",
            "\n",
            "           1       0.94      0.91      0.92       149\n",
            "           2       0.92      0.88      0.90       306\n",
            "           3       0.94      0.88      0.91       230\n",
            "           4       0.97      0.99      0.98      1226\n",
            "\n",
            "    accuracy                           0.95      1911\n",
            "   macro avg       0.94      0.92      0.93      1911\n",
            "weighted avg       0.95      0.95      0.95      1911\n",
            "\n"
          ]
        },
        {
          "output_type": "execute_result",
          "data": {
            "text/plain": [
              "RandomForestClassifier(random_state=100)"
            ]
          },
          "metadata": {},
          "execution_count": 116
        }
      ]
    },
    {
      "cell_type": "code",
      "source": [
        "#  Cas3 n_estimators=100\n",
        "i_n_estimator=100\n",
        "from sklearn.model_selection import KFold,cross_val_score\n",
        "seed=42\n",
        "kfold=KFold(n_splits=5,random_state=seed,shuffle=True)\n",
        "#\n",
        "model_1 = RandomForestClassifier(random_state=100,n_estimators=400,\n",
        "                    max_features='auto',criterion='gini', max_depth=32)\n",
        "#\n",
        "c_v_score= cross_val_score(model_1,X_train,y_train,cv=kfold,scoring='accuracy')\n",
        "#\n",
        "print(c_v_score.mean())\n",
        "#\n",
        "print('\\n')\n",
        "fit_and_evaluate_model(model_1,X_train,X_test,y_train,y_test)\n"
      ],
      "metadata": {
        "colab": {
          "base_uri": "https://localhost:8080/"
        },
        "id": "nepXrZOzKe3U",
        "outputId": "c2a04318-256b-4aff-a752-db754b64e9f0"
      },
      "execution_count": null,
      "outputs": [
        {
          "output_type": "stream",
          "name": "stdout",
          "text": [
            "0.9472717733473243\n",
            "\n",
            "\n",
            "[[ 134    8    0    7]\n",
            " [   5  271   10   20]\n",
            " [   0   12  205   13]\n",
            " [   2    3    8 1213]]\n",
            "              precision    recall  f1-score   support\n",
            "\n",
            "           1       0.95      0.90      0.92       149\n",
            "           2       0.92      0.89      0.90       306\n",
            "           3       0.92      0.89      0.91       230\n",
            "           4       0.97      0.99      0.98      1226\n",
            "\n",
            "    accuracy                           0.95      1911\n",
            "   macro avg       0.94      0.92      0.93      1911\n",
            "weighted avg       0.95      0.95      0.95      1911\n",
            "\n"
          ]
        },
        {
          "output_type": "execute_result",
          "data": {
            "text/plain": [
              "RandomForestClassifier(max_depth=32, n_estimators=400, random_state=100)"
            ]
          },
          "metadata": {},
          "execution_count": 118
        }
      ]
    },
    {
      "cell_type": "code",
      "source": [
        "from sklearn.model_selection import RandomizedSearchCV\n",
        "\n",
        "#\n",
        "rfc=RandomForestClassifier(bootstrap=True, class_weight=None, max_leaf_nodes=None,\n",
        "                                min_impurity_decrease=0.0, \n",
        "                                    min_samples_leaf=1, min_samples_split=2,\n",
        "                                        min_weight_fraction_leaf=0.0, n_estimators=10, n_jobs=2,\n",
        "                                            oob_score=False, random_state=0, verbose=0, warm_start=False)\n",
        "\n",
        "tuned_parameters={'n_estimators': [200,300,400], 'max_features': ['auto', 'sqrt', 'log2'],'max_depth': [32,64], 'criterion': ['gini', 'entropy']}\n",
        "\n",
        "#\n",
        "CV_rfc=RandomizedSearchCV(cv=5, error_score='raise', estimator=rfc, param_distributions=tuned_parameters,n_jobs=2,\n",
        "                                   pre_dispatch='2*n_jobs', refit=True, return_train_score='warn',   \n",
        "                                       scoring=None, verbose=0)\n",
        " \n",
        "#\n",
        "CV_rfc.fit(X_train, y_train)\n",
        "\n",
        "CV_rfc.best_params_\n",
        "#\n",
        "fit_and_evaluate_model(CV_rfc,X_train,X_test,y_train,y_test)"
      ],
      "metadata": {
        "colab": {
          "base_uri": "https://localhost:8080/"
        },
        "id": "Cmp3j8CuIplN",
        "outputId": "8aa89a3b-2cf7-4056-974c-0abe971a6d41"
      },
      "execution_count": null,
      "outputs": [
        {
          "output_type": "stream",
          "name": "stdout",
          "text": [
            "[[ 123    9    0   17]\n",
            " [   3  262    5   36]\n",
            " [   0   10  180   40]\n",
            " [   1    1    5 1219]]\n",
            "              precision    recall  f1-score   support\n",
            "\n",
            "           1       0.97      0.83      0.89       149\n",
            "           2       0.93      0.86      0.89       306\n",
            "           3       0.95      0.78      0.86       230\n",
            "           4       0.93      0.99      0.96      1226\n",
            "\n",
            "    accuracy                           0.93      1911\n",
            "   macro avg       0.94      0.86      0.90      1911\n",
            "weighted avg       0.93      0.93      0.93      1911\n",
            "\n"
          ]
        },
        {
          "output_type": "execute_result",
          "data": {
            "text/plain": [
              "RandomizedSearchCV(cv=5, error_score='raise',\n",
              "                   estimator=RandomForestClassifier(n_estimators=10, n_jobs=2,\n",
              "                                                    random_state=0),\n",
              "                   n_jobs=2,\n",
              "                   param_distributions={'criterion': ['gini', 'entropy'],\n",
              "                                        'max_depth': [32, 64],\n",
              "                                        'max_features': ['auto', 'sqrt',\n",
              "                                                         'log2'],\n",
              "                                        'n_estimators': [200, 300, 400]},\n",
              "                   return_train_score='warn')"
            ]
          },
          "metadata": {},
          "execution_count": 133
        }
      ]
    },
    {
      "cell_type": "code",
      "source": [
        "CV_rfc.best_params_"
      ],
      "metadata": {
        "colab": {
          "base_uri": "https://localhost:8080/"
        },
        "id": "TZ7MwdrzawL-",
        "outputId": "cced022f-cf16-466c-aa33-053b1e3b4798"
      },
      "execution_count": null,
      "outputs": [
        {
          "output_type": "execute_result",
          "data": {
            "text/plain": [
              "{'criterion': 'gini',\n",
              " 'max_depth': 32,\n",
              " 'max_features': 'auto',\n",
              " 'n_estimators': 400}"
            ]
          },
          "metadata": {},
          "execution_count": 124
        }
      ]
    },
    {
      "cell_type": "markdown",
      "source": [
        ""
      ],
      "metadata": {
        "id": "hF1rSz3mCrq7"
      }
    }
  ]
}