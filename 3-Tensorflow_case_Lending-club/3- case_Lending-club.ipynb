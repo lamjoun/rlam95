{
  "cells": [
    {
      "cell_type": "code",
      "execution_count": 1,
      "metadata": {
        "colab": {
          "base_uri": "https://localhost:8080/",
          "height": 17
        },
        "id": "EVu0o5_art_K",
        "outputId": "7babc16e-0714-4233-b029-06a761673cd5"
      },
      "outputs": [
        {
          "output_type": "display_data",
          "data": {
            "text/plain": [
              "<IPython.core.display.Javascript object>"
            ],
            "application/javascript": [
              "IPython.OutputArea.auto_scroll_threshold = 9999"
            ]
          },
          "metadata": {}
        }
      ],
      "source": [
        "%%javascript\n",
        "IPython.OutputArea.auto_scroll_threshold = 9999"
      ]
    },
    {
      "cell_type": "code",
      "execution_count": 2,
      "metadata": {
        "id": "D5kInbPLE2nk"
      },
      "outputs": [],
      "source": [
        "import pandas as pd\n",
        "import matplotlib.pyplot as plt\n",
        "%matplotlib inline\n",
        "pd.set_option('display.max_row', 100)\n",
        "pd.set_option('display.max_column', 100)\n",
        "\n",
        "#import warnings\n",
        "#warnings.filterwarnings('ignore')"
      ]
    },
    {
      "cell_type": "markdown",
      "metadata": {
        "id": "Tvu4JmfLXmAC"
      },
      "source": [
        "# **FUNCTIONS**"
      ]
    },
    {
      "cell_type": "code",
      "source": [
        "import pandas as pd\n",
        "import matplotlib.pyplot as plt\n",
        "import numpy as np\n",
        "import tensorflow as tf\n",
        "from keras.models import Sequential\n",
        "from keras.layers import Dense, Dropout\n",
        "from sklearn.tree import DecisionTreeClassifier\n",
        "from sklearn.ensemble import RandomForestClassifier, AdaBoostClassifier\n",
        "from sklearn.svm import SVC\n",
        "from sklearn.neighbors import KNeighborsClassifier\n",
        "from sklearn.pipeline import make_pipeline\n",
        "from sklearn.feature_selection import SelectKBest, f_classif\n",
        "from sklearn.preprocessing import PolynomialFeatures, StandardScaler\n",
        "from sklearn.metrics import confusion_matrix, classification_report\n",
        "from keras.regularizers import l2\n",
        "from sklearn.model_selection import train_test_split\n",
        "\n",
        "# list classifiers\n",
        "lst_algo=['AdaBoost','SVM','KNN','DecisionTreeClassifier','RandomForestClassifier']\n",
        "\n",
        "#######################################\n",
        "### test_classifierModels_list function \n",
        "#######################################\n",
        "def test_classifierModels_list(i_classifierModels_list,i_X_train,i_X_test,i_y_train,i_y_test):\n",
        "  l_dico_name_model={}\n",
        "  preprocessor = make_pipeline(PolynomialFeatures(2, include_bias=False), SelectKBest(f_classif, k=10))\n",
        "  RandomForest = make_pipeline(preprocessor, RandomForestClassifier(random_state=0))\n",
        "  AdaBoost = make_pipeline(preprocessor, AdaBoostClassifier(random_state=0))\n",
        "  SVM = make_pipeline(preprocessor, StandardScaler(), SVC(random_state=0))\n",
        "  KNN = make_pipeline(preprocessor, StandardScaler(), KNeighborsClassifier())\n",
        "  DTC = make_pipeline(preprocessor, StandardScaler(), DecisionTreeClassifier())\n",
        "  dict_of_models = {'RandomForestClassifier': RandomForest,\n",
        "                  'AdaBoost' : AdaBoost,\n",
        "                  'SVM': SVM,\n",
        "                  'KNN': KNN,\n",
        "                  'DecisionTreeClassifier':DTC\n",
        "                 }\n",
        "  for name, model in dict_of_models.items():\n",
        "    if name in i_classifierModels_list:\n",
        "      print('============')\n",
        "      print(name)\n",
        "      print('============')\n",
        "      l_model= fit_and_evaluate_model(model,i_X_train,i_X_test,i_y_train,i_y_test)\n",
        "      l_dico_name_model[name]=l_model\n",
        "      #\n",
        "  return l_dico_name_model\n",
        "\n",
        "###########################\n",
        "### Evaluation function \n",
        "##########################\n",
        "# Used to Evaluate models\n",
        "def fit_and_evaluate_model(i_model,i_X_train,i_X_test,i_y_train,i_y_test, i_use_fit=True,cas_tensorflow=False):\n",
        "  #\n",
        "  l_model=i_model\n",
        "  if not cas_tensorflow:\n",
        "    if i_use_fit:\n",
        "      l_model.fit(i_X_train, i_y_train)\n",
        "  l_ypred = l_model.predict(i_X_test)\n",
        "  #\n",
        "  if cas_tensorflow:\n",
        "    l_ypred_t=np.array([0 for i in range(len(l_ypred))])\n",
        "    for i in range(len(l_ypred)):\n",
        "       if l_ypred[i] > 0.5:\n",
        "         l_ypred_t[i]=1\n",
        "    l_ypred=l_ypred_t\n",
        "  #   \n",
        "  print(confusion_matrix(i_y_test, l_ypred))\n",
        "  print(classification_report(i_y_test, l_ypred, digits=4))\n",
        "\n",
        "  return l_model\n",
        "\n",
        "\n",
        "# list of columns with count of its values by type of columns\n",
        "def get_value_counts(i_df,i_type):\n",
        "  lst_nbre_val_col=[]\n",
        "  cmpt=0\n",
        "  for col in i_df.select_dtypes(i_type).columns:\n",
        "    cmpt=i_df[col].value_counts().count()\n",
        "    lst_nbre_val_col.append((col,cmpt))\n",
        "  #\n",
        "  return lst_nbre_val_col\n",
        "  \n",
        "\n",
        "#---------------------------------\n",
        "#--- function show_importances_plot\n",
        "#---------------------------------\n",
        "# Only importances > i_threshold\n",
        "def show_importances_plot(i_model, i_threshold,i_figsize=(11, 6)):\n",
        "  l_feature_importances_df=pd.DataFrame({'importances': i_model.feature_importances_, \n",
        "                                         'columns_': i_model.feature_names_in_})\n",
        "  l_feature_importances_df.sort_values(by=['importances'], ascending=True, inplace=True)\n",
        "  feature_importances_df_t=l_feature_importances_df[l_feature_importances_df['importances'] > i_threshold]\n",
        "  feature_importances_df_t.set_index('columns_',inplace=True)\n",
        "  #\n",
        "  feature_importances_df_t.plot(figsize=i_figsize,kind='barh')\n",
        "  return feature_importances_df_t\n",
        "\n",
        "# return list of dep columns couple \n",
        "def verify_dependency(i_corr_matrix,i_threshold):\n",
        "  # looking for features corresponding at the threshold 0.35\n",
        "  cols=i_corr_matrix.columns\n",
        "  l_tupe_dep=[]  # list tuple of columns to verify dep condition  \n",
        "  l_cmpt=0\n",
        "  for col1 in cols:\n",
        "    for col2 in cols:\n",
        "      l_val=i_corr_matrix.loc[col2,col1]\n",
        "      #if l_cmpt < 10:\n",
        "        #print (abs(l_val))\n",
        "        #l_cmpt=l_cmpt+1\n",
        "      if abs(l_val) > i_threshold:\n",
        "        if col1!=col2:\n",
        "          if (col1,col2) not in l_tupe_dep:\n",
        "            l_tupe_dep.append((col1,col2))\n",
        "\n",
        "  return l_tupe_dep\n",
        "\n",
        "#---------------------------------\n",
        "#--- function get_model()\n",
        "# give model with appropriate input_dim as parameter\n",
        "#---------------------------------\n",
        "#\n",
        "def get_model(i_input_dim,i_regul_l2=0.0001,i_def_mode=1):\n",
        "  l_model=Sequential()\n",
        "  if i_def_mode==1:\n",
        "    l_model.add(Dense(1024, input_dim=i_input_dim,activation='relu',kernel_regularizer=l2(i_regul_l2))) \n",
        "    l_model.add(Dropout(0.7))\n",
        "  #\n",
        "  if i_def_mode==2:\n",
        "    l_model.add(Dense(1278, input_dim=i_input_dim,activation='relu',kernel_regularizer=l2(i_regul_l2))) \n",
        "    l_model.add(Dropout(0.5))\n",
        "    l_model.add(Dense(512, activation='elu'),\n",
        "                      kernel_regularizer=l2(i_regul_l2)),\n",
        "    l_model.add(Dropout(0.5))                               \n",
        "  l_model.add(Dense(1,activation='sigmoid'))\n",
        "  #\n",
        "  return l_model"
      ],
      "metadata": {
        "id": "n6rzeTqYtBTD"
      },
      "execution_count": 4,
      "outputs": []
    },
    {
      "cell_type": "markdown",
      "metadata": {
        "id": "q1HirazxsHiN"
      },
      "source": [
        "# **Preprocessing**"
      ]
    },
    {
      "cell_type": "code",
      "execution_count": 5,
      "metadata": {
        "colab": {
          "base_uri": "https://localhost:8080/",
          "height": 270
        },
        "id": "I1piP9tFSKRe",
        "outputId": "9bfb9d1d-3d63-4be9-edc2-11b402c7cd3f"
      },
      "outputs": [
        {
          "output_type": "execute_result",
          "data": {
            "text/plain": [
              "   credit.policy             purpose  int.rate  installment  log.annual.inc  \\\n",
              "0              1  debt_consolidation    0.1189       829.10       11.350407   \n",
              "1              1         credit_card    0.1071       228.22       11.082143   \n",
              "2              1  debt_consolidation    0.1357       366.86       10.373491   \n",
              "3              1  debt_consolidation    0.1008       162.34       11.350407   \n",
              "4              1         credit_card    0.1426       102.92       11.299732   \n",
              "\n",
              "     dti  fico  days.with.cr.line  revol.bal  revol.util  inq.last.6mths  \\\n",
              "0  19.48   737        5639.958333      28854        52.1               0   \n",
              "1  14.29   707        2760.000000      33623        76.7               0   \n",
              "2  11.63   682        4710.000000       3511        25.6               1   \n",
              "3   8.10   712        2699.958333      33667        73.2               1   \n",
              "4  14.97   667        4066.000000       4740        39.5               0   \n",
              "\n",
              "   delinq.2yrs  pub.rec  not.fully.paid  \n",
              "0            0        0               0  \n",
              "1            0        0               0  \n",
              "2            0        0               0  \n",
              "3            0        0               0  \n",
              "4            1        0               0  "
            ],
            "text/html": [
              "\n",
              "  <div id=\"df-aef48558-f645-4847-b96a-4f3f3c3bdec4\">\n",
              "    <div class=\"colab-df-container\">\n",
              "      <div>\n",
              "<style scoped>\n",
              "    .dataframe tbody tr th:only-of-type {\n",
              "        vertical-align: middle;\n",
              "    }\n",
              "\n",
              "    .dataframe tbody tr th {\n",
              "        vertical-align: top;\n",
              "    }\n",
              "\n",
              "    .dataframe thead th {\n",
              "        text-align: right;\n",
              "    }\n",
              "</style>\n",
              "<table border=\"1\" class=\"dataframe\">\n",
              "  <thead>\n",
              "    <tr style=\"text-align: right;\">\n",
              "      <th></th>\n",
              "      <th>credit.policy</th>\n",
              "      <th>purpose</th>\n",
              "      <th>int.rate</th>\n",
              "      <th>installment</th>\n",
              "      <th>log.annual.inc</th>\n",
              "      <th>dti</th>\n",
              "      <th>fico</th>\n",
              "      <th>days.with.cr.line</th>\n",
              "      <th>revol.bal</th>\n",
              "      <th>revol.util</th>\n",
              "      <th>inq.last.6mths</th>\n",
              "      <th>delinq.2yrs</th>\n",
              "      <th>pub.rec</th>\n",
              "      <th>not.fully.paid</th>\n",
              "    </tr>\n",
              "  </thead>\n",
              "  <tbody>\n",
              "    <tr>\n",
              "      <th>0</th>\n",
              "      <td>1</td>\n",
              "      <td>debt_consolidation</td>\n",
              "      <td>0.1189</td>\n",
              "      <td>829.10</td>\n",
              "      <td>11.350407</td>\n",
              "      <td>19.48</td>\n",
              "      <td>737</td>\n",
              "      <td>5639.958333</td>\n",
              "      <td>28854</td>\n",
              "      <td>52.1</td>\n",
              "      <td>0</td>\n",
              "      <td>0</td>\n",
              "      <td>0</td>\n",
              "      <td>0</td>\n",
              "    </tr>\n",
              "    <tr>\n",
              "      <th>1</th>\n",
              "      <td>1</td>\n",
              "      <td>credit_card</td>\n",
              "      <td>0.1071</td>\n",
              "      <td>228.22</td>\n",
              "      <td>11.082143</td>\n",
              "      <td>14.29</td>\n",
              "      <td>707</td>\n",
              "      <td>2760.000000</td>\n",
              "      <td>33623</td>\n",
              "      <td>76.7</td>\n",
              "      <td>0</td>\n",
              "      <td>0</td>\n",
              "      <td>0</td>\n",
              "      <td>0</td>\n",
              "    </tr>\n",
              "    <tr>\n",
              "      <th>2</th>\n",
              "      <td>1</td>\n",
              "      <td>debt_consolidation</td>\n",
              "      <td>0.1357</td>\n",
              "      <td>366.86</td>\n",
              "      <td>10.373491</td>\n",
              "      <td>11.63</td>\n",
              "      <td>682</td>\n",
              "      <td>4710.000000</td>\n",
              "      <td>3511</td>\n",
              "      <td>25.6</td>\n",
              "      <td>1</td>\n",
              "      <td>0</td>\n",
              "      <td>0</td>\n",
              "      <td>0</td>\n",
              "    </tr>\n",
              "    <tr>\n",
              "      <th>3</th>\n",
              "      <td>1</td>\n",
              "      <td>debt_consolidation</td>\n",
              "      <td>0.1008</td>\n",
              "      <td>162.34</td>\n",
              "      <td>11.350407</td>\n",
              "      <td>8.10</td>\n",
              "      <td>712</td>\n",
              "      <td>2699.958333</td>\n",
              "      <td>33667</td>\n",
              "      <td>73.2</td>\n",
              "      <td>1</td>\n",
              "      <td>0</td>\n",
              "      <td>0</td>\n",
              "      <td>0</td>\n",
              "    </tr>\n",
              "    <tr>\n",
              "      <th>4</th>\n",
              "      <td>1</td>\n",
              "      <td>credit_card</td>\n",
              "      <td>0.1426</td>\n",
              "      <td>102.92</td>\n",
              "      <td>11.299732</td>\n",
              "      <td>14.97</td>\n",
              "      <td>667</td>\n",
              "      <td>4066.000000</td>\n",
              "      <td>4740</td>\n",
              "      <td>39.5</td>\n",
              "      <td>0</td>\n",
              "      <td>1</td>\n",
              "      <td>0</td>\n",
              "      <td>0</td>\n",
              "    </tr>\n",
              "  </tbody>\n",
              "</table>\n",
              "</div>\n",
              "      <button class=\"colab-df-convert\" onclick=\"convertToInteractive('df-aef48558-f645-4847-b96a-4f3f3c3bdec4')\"\n",
              "              title=\"Convert this dataframe to an interactive table.\"\n",
              "              style=\"display:none;\">\n",
              "        \n",
              "  <svg xmlns=\"http://www.w3.org/2000/svg\" height=\"24px\"viewBox=\"0 0 24 24\"\n",
              "       width=\"24px\">\n",
              "    <path d=\"M0 0h24v24H0V0z\" fill=\"none\"/>\n",
              "    <path d=\"M18.56 5.44l.94 2.06.94-2.06 2.06-.94-2.06-.94-.94-2.06-.94 2.06-2.06.94zm-11 1L8.5 8.5l.94-2.06 2.06-.94-2.06-.94L8.5 2.5l-.94 2.06-2.06.94zm10 10l.94 2.06.94-2.06 2.06-.94-2.06-.94-.94-2.06-.94 2.06-2.06.94z\"/><path d=\"M17.41 7.96l-1.37-1.37c-.4-.4-.92-.59-1.43-.59-.52 0-1.04.2-1.43.59L10.3 9.45l-7.72 7.72c-.78.78-.78 2.05 0 2.83L4 21.41c.39.39.9.59 1.41.59.51 0 1.02-.2 1.41-.59l7.78-7.78 2.81-2.81c.8-.78.8-2.07 0-2.86zM5.41 20L4 18.59l7.72-7.72 1.47 1.35L5.41 20z\"/>\n",
              "  </svg>\n",
              "      </button>\n",
              "      \n",
              "  <style>\n",
              "    .colab-df-container {\n",
              "      display:flex;\n",
              "      flex-wrap:wrap;\n",
              "      gap: 12px;\n",
              "    }\n",
              "\n",
              "    .colab-df-convert {\n",
              "      background-color: #E8F0FE;\n",
              "      border: none;\n",
              "      border-radius: 50%;\n",
              "      cursor: pointer;\n",
              "      display: none;\n",
              "      fill: #1967D2;\n",
              "      height: 32px;\n",
              "      padding: 0 0 0 0;\n",
              "      width: 32px;\n",
              "    }\n",
              "\n",
              "    .colab-df-convert:hover {\n",
              "      background-color: #E2EBFA;\n",
              "      box-shadow: 0px 1px 2px rgba(60, 64, 67, 0.3), 0px 1px 3px 1px rgba(60, 64, 67, 0.15);\n",
              "      fill: #174EA6;\n",
              "    }\n",
              "\n",
              "    [theme=dark] .colab-df-convert {\n",
              "      background-color: #3B4455;\n",
              "      fill: #D2E3FC;\n",
              "    }\n",
              "\n",
              "    [theme=dark] .colab-df-convert:hover {\n",
              "      background-color: #434B5C;\n",
              "      box-shadow: 0px 1px 3px 1px rgba(0, 0, 0, 0.15);\n",
              "      filter: drop-shadow(0px 1px 2px rgba(0, 0, 0, 0.3));\n",
              "      fill: #FFFFFF;\n",
              "    }\n",
              "  </style>\n",
              "\n",
              "      <script>\n",
              "        const buttonEl =\n",
              "          document.querySelector('#df-aef48558-f645-4847-b96a-4f3f3c3bdec4 button.colab-df-convert');\n",
              "        buttonEl.style.display =\n",
              "          google.colab.kernel.accessAllowed ? 'block' : 'none';\n",
              "\n",
              "        async function convertToInteractive(key) {\n",
              "          const element = document.querySelector('#df-aef48558-f645-4847-b96a-4f3f3c3bdec4');\n",
              "          const dataTable =\n",
              "            await google.colab.kernel.invokeFunction('convertToInteractive',\n",
              "                                                     [key], {});\n",
              "          if (!dataTable) return;\n",
              "\n",
              "          const docLinkHtml = 'Like what you see? Visit the ' +\n",
              "            '<a target=\"_blank\" href=https://colab.research.google.com/notebooks/data_table.ipynb>data table notebook</a>'\n",
              "            + ' to learn more about interactive tables.';\n",
              "          element.innerHTML = '';\n",
              "          dataTable['output_type'] = 'display_data';\n",
              "          await google.colab.output.renderOutput(dataTable, element);\n",
              "          const docLink = document.createElement('div');\n",
              "          docLink.innerHTML = docLinkHtml;\n",
              "          element.appendChild(docLink);\n",
              "        }\n",
              "      </script>\n",
              "    </div>\n",
              "  </div>\n",
              "  "
            ]
          },
          "metadata": {},
          "execution_count": 5
        }
      ],
      "source": [
        "import pandas as pd\n",
        "df_init = pd.read_csv('/content/loan_data.csv')\n",
        "#\n",
        "df=df_init.copy(deep=True)\n",
        "# Top 5 records\n",
        "df.head()"
      ]
    },
    {
      "cell_type": "code",
      "execution_count": 6,
      "metadata": {
        "colab": {
          "base_uri": "https://localhost:8080/"
        },
        "id": "-fU7HJO-Ux6j",
        "outputId": "dcd6d083-9e36-467b-fc1f-7f7e3d1cddf7"
      },
      "outputs": [
        {
          "output_type": "stream",
          "name": "stdout",
          "text": [
            "<class 'pandas.core.frame.DataFrame'>\n",
            "RangeIndex: 9578 entries, 0 to 9577\n",
            "Data columns (total 14 columns):\n",
            " #   Column             Non-Null Count  Dtype  \n",
            "---  ------             --------------  -----  \n",
            " 0   credit.policy      9578 non-null   int64  \n",
            " 1   purpose            9578 non-null   object \n",
            " 2   int.rate           9578 non-null   float64\n",
            " 3   installment        9578 non-null   float64\n",
            " 4   log.annual.inc     9578 non-null   float64\n",
            " 5   dti                9578 non-null   float64\n",
            " 6   fico               9578 non-null   int64  \n",
            " 7   days.with.cr.line  9578 non-null   float64\n",
            " 8   revol.bal          9578 non-null   int64  \n",
            " 9   revol.util         9578 non-null   float64\n",
            " 10  inq.last.6mths     9578 non-null   int64  \n",
            " 11  delinq.2yrs        9578 non-null   int64  \n",
            " 12  pub.rec            9578 non-null   int64  \n",
            " 13  not.fully.paid     9578 non-null   int64  \n",
            "dtypes: float64(6), int64(7), object(1)\n",
            "memory usage: 1.0+ MB\n"
          ]
        }
      ],
      "source": [
        "df.info()"
      ]
    },
    {
      "cell_type": "code",
      "source": [
        "df.columns"
      ],
      "metadata": {
        "colab": {
          "base_uri": "https://localhost:8080/"
        },
        "id": "47yy9ASfeOeM",
        "outputId": "f7fe7999-15d9-46e5-8fe8-6d6fe3a95ba1"
      },
      "execution_count": 7,
      "outputs": [
        {
          "output_type": "execute_result",
          "data": {
            "text/plain": [
              "Index(['credit.policy', 'purpose', 'int.rate', 'installment', 'log.annual.inc',\n",
              "       'dti', 'fico', 'days.with.cr.line', 'revol.bal', 'revol.util',\n",
              "       'inq.last.6mths', 'delinq.2yrs', 'pub.rec', 'not.fully.paid'],\n",
              "      dtype='object')"
            ]
          },
          "metadata": {},
          "execution_count": 7
        }
      ]
    },
    {
      "cell_type": "code",
      "execution_count": 8,
      "metadata": {
        "colab": {
          "base_uri": "https://localhost:8080/"
        },
        "id": "tQT7YrwCU-Bn",
        "outputId": "0fd6e7a4-e295-4a2a-dbf1-d0fc3900f19a"
      },
      "outputs": [
        {
          "output_type": "execute_result",
          "data": {
            "text/plain": [
              "int64      7\n",
              "float64    6\n",
              "object     1\n",
              "dtype: int64"
            ]
          },
          "metadata": {},
          "execution_count": 8
        }
      ],
      "source": [
        "df.dtypes.value_counts()"
      ]
    },
    {
      "cell_type": "code",
      "execution_count": 9,
      "metadata": {
        "colab": {
          "base_uri": "https://localhost:8080/",
          "height": 206
        },
        "id": "iOwJhuODVDx_",
        "outputId": "674f6a7a-257e-40bc-b48f-5ed7d1d4491b"
      },
      "outputs": [
        {
          "output_type": "execute_result",
          "data": {
            "text/plain": [
              "              purpose\n",
              "0  debt_consolidation\n",
              "1         credit_card\n",
              "2  debt_consolidation\n",
              "3  debt_consolidation\n",
              "4         credit_card"
            ],
            "text/html": [
              "\n",
              "  <div id=\"df-7b40d7ad-8461-4c00-ac56-3b92eff2c30b\">\n",
              "    <div class=\"colab-df-container\">\n",
              "      <div>\n",
              "<style scoped>\n",
              "    .dataframe tbody tr th:only-of-type {\n",
              "        vertical-align: middle;\n",
              "    }\n",
              "\n",
              "    .dataframe tbody tr th {\n",
              "        vertical-align: top;\n",
              "    }\n",
              "\n",
              "    .dataframe thead th {\n",
              "        text-align: right;\n",
              "    }\n",
              "</style>\n",
              "<table border=\"1\" class=\"dataframe\">\n",
              "  <thead>\n",
              "    <tr style=\"text-align: right;\">\n",
              "      <th></th>\n",
              "      <th>purpose</th>\n",
              "    </tr>\n",
              "  </thead>\n",
              "  <tbody>\n",
              "    <tr>\n",
              "      <th>0</th>\n",
              "      <td>debt_consolidation</td>\n",
              "    </tr>\n",
              "    <tr>\n",
              "      <th>1</th>\n",
              "      <td>credit_card</td>\n",
              "    </tr>\n",
              "    <tr>\n",
              "      <th>2</th>\n",
              "      <td>debt_consolidation</td>\n",
              "    </tr>\n",
              "    <tr>\n",
              "      <th>3</th>\n",
              "      <td>debt_consolidation</td>\n",
              "    </tr>\n",
              "    <tr>\n",
              "      <th>4</th>\n",
              "      <td>credit_card</td>\n",
              "    </tr>\n",
              "  </tbody>\n",
              "</table>\n",
              "</div>\n",
              "      <button class=\"colab-df-convert\" onclick=\"convertToInteractive('df-7b40d7ad-8461-4c00-ac56-3b92eff2c30b')\"\n",
              "              title=\"Convert this dataframe to an interactive table.\"\n",
              "              style=\"display:none;\">\n",
              "        \n",
              "  <svg xmlns=\"http://www.w3.org/2000/svg\" height=\"24px\"viewBox=\"0 0 24 24\"\n",
              "       width=\"24px\">\n",
              "    <path d=\"M0 0h24v24H0V0z\" fill=\"none\"/>\n",
              "    <path d=\"M18.56 5.44l.94 2.06.94-2.06 2.06-.94-2.06-.94-.94-2.06-.94 2.06-2.06.94zm-11 1L8.5 8.5l.94-2.06 2.06-.94-2.06-.94L8.5 2.5l-.94 2.06-2.06.94zm10 10l.94 2.06.94-2.06 2.06-.94-2.06-.94-.94-2.06-.94 2.06-2.06.94z\"/><path d=\"M17.41 7.96l-1.37-1.37c-.4-.4-.92-.59-1.43-.59-.52 0-1.04.2-1.43.59L10.3 9.45l-7.72 7.72c-.78.78-.78 2.05 0 2.83L4 21.41c.39.39.9.59 1.41.59.51 0 1.02-.2 1.41-.59l7.78-7.78 2.81-2.81c.8-.78.8-2.07 0-2.86zM5.41 20L4 18.59l7.72-7.72 1.47 1.35L5.41 20z\"/>\n",
              "  </svg>\n",
              "      </button>\n",
              "      \n",
              "  <style>\n",
              "    .colab-df-container {\n",
              "      display:flex;\n",
              "      flex-wrap:wrap;\n",
              "      gap: 12px;\n",
              "    }\n",
              "\n",
              "    .colab-df-convert {\n",
              "      background-color: #E8F0FE;\n",
              "      border: none;\n",
              "      border-radius: 50%;\n",
              "      cursor: pointer;\n",
              "      display: none;\n",
              "      fill: #1967D2;\n",
              "      height: 32px;\n",
              "      padding: 0 0 0 0;\n",
              "      width: 32px;\n",
              "    }\n",
              "\n",
              "    .colab-df-convert:hover {\n",
              "      background-color: #E2EBFA;\n",
              "      box-shadow: 0px 1px 2px rgba(60, 64, 67, 0.3), 0px 1px 3px 1px rgba(60, 64, 67, 0.15);\n",
              "      fill: #174EA6;\n",
              "    }\n",
              "\n",
              "    [theme=dark] .colab-df-convert {\n",
              "      background-color: #3B4455;\n",
              "      fill: #D2E3FC;\n",
              "    }\n",
              "\n",
              "    [theme=dark] .colab-df-convert:hover {\n",
              "      background-color: #434B5C;\n",
              "      box-shadow: 0px 1px 3px 1px rgba(0, 0, 0, 0.15);\n",
              "      filter: drop-shadow(0px 1px 2px rgba(0, 0, 0, 0.3));\n",
              "      fill: #FFFFFF;\n",
              "    }\n",
              "  </style>\n",
              "\n",
              "      <script>\n",
              "        const buttonEl =\n",
              "          document.querySelector('#df-7b40d7ad-8461-4c00-ac56-3b92eff2c30b button.colab-df-convert');\n",
              "        buttonEl.style.display =\n",
              "          google.colab.kernel.accessAllowed ? 'block' : 'none';\n",
              "\n",
              "        async function convertToInteractive(key) {\n",
              "          const element = document.querySelector('#df-7b40d7ad-8461-4c00-ac56-3b92eff2c30b');\n",
              "          const dataTable =\n",
              "            await google.colab.kernel.invokeFunction('convertToInteractive',\n",
              "                                                     [key], {});\n",
              "          if (!dataTable) return;\n",
              "\n",
              "          const docLinkHtml = 'Like what you see? Visit the ' +\n",
              "            '<a target=\"_blank\" href=https://colab.research.google.com/notebooks/data_table.ipynb>data table notebook</a>'\n",
              "            + ' to learn more about interactive tables.';\n",
              "          element.innerHTML = '';\n",
              "          dataTable['output_type'] = 'display_data';\n",
              "          await google.colab.output.renderOutput(dataTable, element);\n",
              "          const docLink = document.createElement('div');\n",
              "          docLink.innerHTML = docLinkHtml;\n",
              "          element.appendChild(docLink);\n",
              "        }\n",
              "      </script>\n",
              "    </div>\n",
              "  </div>\n",
              "  "
            ]
          },
          "metadata": {},
          "execution_count": 9
        }
      ],
      "source": [
        "df.select_dtypes('object').head()"
      ]
    },
    {
      "cell_type": "code",
      "execution_count": 10,
      "metadata": {
        "colab": {
          "base_uri": "https://localhost:8080/"
        },
        "id": "m8BxqoMBVN3q",
        "outputId": "475f8728-05e5-493a-ac56-0d292b365b24"
      },
      "outputs": [
        {
          "output_type": "execute_result",
          "data": {
            "text/plain": [
              "debt_consolidation    3957\n",
              "all_other             2331\n",
              "credit_card           1262\n",
              "home_improvement       629\n",
              "small_business         619\n",
              "major_purchase         437\n",
              "educational            343\n",
              "Name: purpose, dtype: int64"
            ]
          },
          "metadata": {},
          "execution_count": 10
        }
      ],
      "source": [
        "df['purpose'].value_counts()"
      ]
    },
    {
      "cell_type": "code",
      "source": [
        "# type= Object\n",
        "lst_t=get_value_counts(df,'object')\n",
        "lst_t"
      ],
      "metadata": {
        "colab": {
          "base_uri": "https://localhost:8080/"
        },
        "id": "AfINfuR1V5qm",
        "outputId": "d73b3920-92d2-483f-c254-4d511f109028"
      },
      "execution_count": 11,
      "outputs": [
        {
          "output_type": "execute_result",
          "data": {
            "text/plain": [
              "[('purpose', 7)]"
            ]
          },
          "metadata": {},
          "execution_count": 11
        }
      ]
    },
    {
      "cell_type": "code",
      "execution_count": 12,
      "metadata": {
        "colab": {
          "base_uri": "https://localhost:8080/",
          "height": 206
        },
        "id": "0WfoyRzTV-oC",
        "outputId": "3f7f8fc8-9028-47ed-e7f3-1d721e9bbc59"
      },
      "outputs": [
        {
          "output_type": "execute_result",
          "data": {
            "text/plain": [
              "   credit.policy  fico  revol.bal  inq.last.6mths  delinq.2yrs  pub.rec  \\\n",
              "0              1   737      28854               0            0        0   \n",
              "1              1   707      33623               0            0        0   \n",
              "2              1   682       3511               1            0        0   \n",
              "3              1   712      33667               1            0        0   \n",
              "4              1   667       4740               0            1        0   \n",
              "\n",
              "   not.fully.paid  \n",
              "0               0  \n",
              "1               0  \n",
              "2               0  \n",
              "3               0  \n",
              "4               0  "
            ],
            "text/html": [
              "\n",
              "  <div id=\"df-d77d5965-a32a-40d0-8e14-6c25b87cff70\">\n",
              "    <div class=\"colab-df-container\">\n",
              "      <div>\n",
              "<style scoped>\n",
              "    .dataframe tbody tr th:only-of-type {\n",
              "        vertical-align: middle;\n",
              "    }\n",
              "\n",
              "    .dataframe tbody tr th {\n",
              "        vertical-align: top;\n",
              "    }\n",
              "\n",
              "    .dataframe thead th {\n",
              "        text-align: right;\n",
              "    }\n",
              "</style>\n",
              "<table border=\"1\" class=\"dataframe\">\n",
              "  <thead>\n",
              "    <tr style=\"text-align: right;\">\n",
              "      <th></th>\n",
              "      <th>credit.policy</th>\n",
              "      <th>fico</th>\n",
              "      <th>revol.bal</th>\n",
              "      <th>inq.last.6mths</th>\n",
              "      <th>delinq.2yrs</th>\n",
              "      <th>pub.rec</th>\n",
              "      <th>not.fully.paid</th>\n",
              "    </tr>\n",
              "  </thead>\n",
              "  <tbody>\n",
              "    <tr>\n",
              "      <th>0</th>\n",
              "      <td>1</td>\n",
              "      <td>737</td>\n",
              "      <td>28854</td>\n",
              "      <td>0</td>\n",
              "      <td>0</td>\n",
              "      <td>0</td>\n",
              "      <td>0</td>\n",
              "    </tr>\n",
              "    <tr>\n",
              "      <th>1</th>\n",
              "      <td>1</td>\n",
              "      <td>707</td>\n",
              "      <td>33623</td>\n",
              "      <td>0</td>\n",
              "      <td>0</td>\n",
              "      <td>0</td>\n",
              "      <td>0</td>\n",
              "    </tr>\n",
              "    <tr>\n",
              "      <th>2</th>\n",
              "      <td>1</td>\n",
              "      <td>682</td>\n",
              "      <td>3511</td>\n",
              "      <td>1</td>\n",
              "      <td>0</td>\n",
              "      <td>0</td>\n",
              "      <td>0</td>\n",
              "    </tr>\n",
              "    <tr>\n",
              "      <th>3</th>\n",
              "      <td>1</td>\n",
              "      <td>712</td>\n",
              "      <td>33667</td>\n",
              "      <td>1</td>\n",
              "      <td>0</td>\n",
              "      <td>0</td>\n",
              "      <td>0</td>\n",
              "    </tr>\n",
              "    <tr>\n",
              "      <th>4</th>\n",
              "      <td>1</td>\n",
              "      <td>667</td>\n",
              "      <td>4740</td>\n",
              "      <td>0</td>\n",
              "      <td>1</td>\n",
              "      <td>0</td>\n",
              "      <td>0</td>\n",
              "    </tr>\n",
              "  </tbody>\n",
              "</table>\n",
              "</div>\n",
              "      <button class=\"colab-df-convert\" onclick=\"convertToInteractive('df-d77d5965-a32a-40d0-8e14-6c25b87cff70')\"\n",
              "              title=\"Convert this dataframe to an interactive table.\"\n",
              "              style=\"display:none;\">\n",
              "        \n",
              "  <svg xmlns=\"http://www.w3.org/2000/svg\" height=\"24px\"viewBox=\"0 0 24 24\"\n",
              "       width=\"24px\">\n",
              "    <path d=\"M0 0h24v24H0V0z\" fill=\"none\"/>\n",
              "    <path d=\"M18.56 5.44l.94 2.06.94-2.06 2.06-.94-2.06-.94-.94-2.06-.94 2.06-2.06.94zm-11 1L8.5 8.5l.94-2.06 2.06-.94-2.06-.94L8.5 2.5l-.94 2.06-2.06.94zm10 10l.94 2.06.94-2.06 2.06-.94-2.06-.94-.94-2.06-.94 2.06-2.06.94z\"/><path d=\"M17.41 7.96l-1.37-1.37c-.4-.4-.92-.59-1.43-.59-.52 0-1.04.2-1.43.59L10.3 9.45l-7.72 7.72c-.78.78-.78 2.05 0 2.83L4 21.41c.39.39.9.59 1.41.59.51 0 1.02-.2 1.41-.59l7.78-7.78 2.81-2.81c.8-.78.8-2.07 0-2.86zM5.41 20L4 18.59l7.72-7.72 1.47 1.35L5.41 20z\"/>\n",
              "  </svg>\n",
              "      </button>\n",
              "      \n",
              "  <style>\n",
              "    .colab-df-container {\n",
              "      display:flex;\n",
              "      flex-wrap:wrap;\n",
              "      gap: 12px;\n",
              "    }\n",
              "\n",
              "    .colab-df-convert {\n",
              "      background-color: #E8F0FE;\n",
              "      border: none;\n",
              "      border-radius: 50%;\n",
              "      cursor: pointer;\n",
              "      display: none;\n",
              "      fill: #1967D2;\n",
              "      height: 32px;\n",
              "      padding: 0 0 0 0;\n",
              "      width: 32px;\n",
              "    }\n",
              "\n",
              "    .colab-df-convert:hover {\n",
              "      background-color: #E2EBFA;\n",
              "      box-shadow: 0px 1px 2px rgba(60, 64, 67, 0.3), 0px 1px 3px 1px rgba(60, 64, 67, 0.15);\n",
              "      fill: #174EA6;\n",
              "    }\n",
              "\n",
              "    [theme=dark] .colab-df-convert {\n",
              "      background-color: #3B4455;\n",
              "      fill: #D2E3FC;\n",
              "    }\n",
              "\n",
              "    [theme=dark] .colab-df-convert:hover {\n",
              "      background-color: #434B5C;\n",
              "      box-shadow: 0px 1px 3px 1px rgba(0, 0, 0, 0.15);\n",
              "      filter: drop-shadow(0px 1px 2px rgba(0, 0, 0, 0.3));\n",
              "      fill: #FFFFFF;\n",
              "    }\n",
              "  </style>\n",
              "\n",
              "      <script>\n",
              "        const buttonEl =\n",
              "          document.querySelector('#df-d77d5965-a32a-40d0-8e14-6c25b87cff70 button.colab-df-convert');\n",
              "        buttonEl.style.display =\n",
              "          google.colab.kernel.accessAllowed ? 'block' : 'none';\n",
              "\n",
              "        async function convertToInteractive(key) {\n",
              "          const element = document.querySelector('#df-d77d5965-a32a-40d0-8e14-6c25b87cff70');\n",
              "          const dataTable =\n",
              "            await google.colab.kernel.invokeFunction('convertToInteractive',\n",
              "                                                     [key], {});\n",
              "          if (!dataTable) return;\n",
              "\n",
              "          const docLinkHtml = 'Like what you see? Visit the ' +\n",
              "            '<a target=\"_blank\" href=https://colab.research.google.com/notebooks/data_table.ipynb>data table notebook</a>'\n",
              "            + ' to learn more about interactive tables.';\n",
              "          element.innerHTML = '';\n",
              "          dataTable['output_type'] = 'display_data';\n",
              "          await google.colab.output.renderOutput(dataTable, element);\n",
              "          const docLink = document.createElement('div');\n",
              "          docLink.innerHTML = docLinkHtml;\n",
              "          element.appendChild(docLink);\n",
              "        }\n",
              "      </script>\n",
              "    </div>\n",
              "  </div>\n",
              "  "
            ]
          },
          "metadata": {},
          "execution_count": 12
        }
      ],
      "source": [
        "# int64\n",
        "df.select_dtypes('int64').head()"
      ]
    },
    {
      "cell_type": "code",
      "execution_count": 13,
      "metadata": {
        "colab": {
          "base_uri": "https://localhost:8080/"
        },
        "id": "JvozpmizXIjM",
        "outputId": "f393934f-c244-4173-b93c-fa52e2f246ab"
      },
      "outputs": [
        {
          "output_type": "execute_result",
          "data": {
            "text/plain": [
              "[('credit.policy', 2),\n",
              " ('fico', 44),\n",
              " ('revol.bal', 7869),\n",
              " ('inq.last.6mths', 28),\n",
              " ('delinq.2yrs', 11),\n",
              " ('pub.rec', 6),\n",
              " ('not.fully.paid', 2)]"
            ]
          },
          "metadata": {},
          "execution_count": 13
        }
      ],
      "source": [
        "# type= int64\n",
        "lst_t=get_value_counts(df,'int64')\n",
        "lst_t"
      ]
    },
    {
      "cell_type": "code",
      "execution_count": 14,
      "metadata": {
        "colab": {
          "base_uri": "https://localhost:8080/",
          "height": 206
        },
        "id": "allxXfp5XGFe",
        "outputId": "dc425811-50d3-4f79-d61f-f7c040439c98"
      },
      "outputs": [
        {
          "output_type": "execute_result",
          "data": {
            "text/plain": [
              "   int.rate  installment  log.annual.inc    dti  days.with.cr.line  revol.util\n",
              "0    0.1189       829.10       11.350407  19.48        5639.958333        52.1\n",
              "1    0.1071       228.22       11.082143  14.29        2760.000000        76.7\n",
              "2    0.1357       366.86       10.373491  11.63        4710.000000        25.6\n",
              "3    0.1008       162.34       11.350407   8.10        2699.958333        73.2\n",
              "4    0.1426       102.92       11.299732  14.97        4066.000000        39.5"
            ],
            "text/html": [
              "\n",
              "  <div id=\"df-b62e97b4-b8dd-49e7-a196-596758f21e28\">\n",
              "    <div class=\"colab-df-container\">\n",
              "      <div>\n",
              "<style scoped>\n",
              "    .dataframe tbody tr th:only-of-type {\n",
              "        vertical-align: middle;\n",
              "    }\n",
              "\n",
              "    .dataframe tbody tr th {\n",
              "        vertical-align: top;\n",
              "    }\n",
              "\n",
              "    .dataframe thead th {\n",
              "        text-align: right;\n",
              "    }\n",
              "</style>\n",
              "<table border=\"1\" class=\"dataframe\">\n",
              "  <thead>\n",
              "    <tr style=\"text-align: right;\">\n",
              "      <th></th>\n",
              "      <th>int.rate</th>\n",
              "      <th>installment</th>\n",
              "      <th>log.annual.inc</th>\n",
              "      <th>dti</th>\n",
              "      <th>days.with.cr.line</th>\n",
              "      <th>revol.util</th>\n",
              "    </tr>\n",
              "  </thead>\n",
              "  <tbody>\n",
              "    <tr>\n",
              "      <th>0</th>\n",
              "      <td>0.1189</td>\n",
              "      <td>829.10</td>\n",
              "      <td>11.350407</td>\n",
              "      <td>19.48</td>\n",
              "      <td>5639.958333</td>\n",
              "      <td>52.1</td>\n",
              "    </tr>\n",
              "    <tr>\n",
              "      <th>1</th>\n",
              "      <td>0.1071</td>\n",
              "      <td>228.22</td>\n",
              "      <td>11.082143</td>\n",
              "      <td>14.29</td>\n",
              "      <td>2760.000000</td>\n",
              "      <td>76.7</td>\n",
              "    </tr>\n",
              "    <tr>\n",
              "      <th>2</th>\n",
              "      <td>0.1357</td>\n",
              "      <td>366.86</td>\n",
              "      <td>10.373491</td>\n",
              "      <td>11.63</td>\n",
              "      <td>4710.000000</td>\n",
              "      <td>25.6</td>\n",
              "    </tr>\n",
              "    <tr>\n",
              "      <th>3</th>\n",
              "      <td>0.1008</td>\n",
              "      <td>162.34</td>\n",
              "      <td>11.350407</td>\n",
              "      <td>8.10</td>\n",
              "      <td>2699.958333</td>\n",
              "      <td>73.2</td>\n",
              "    </tr>\n",
              "    <tr>\n",
              "      <th>4</th>\n",
              "      <td>0.1426</td>\n",
              "      <td>102.92</td>\n",
              "      <td>11.299732</td>\n",
              "      <td>14.97</td>\n",
              "      <td>4066.000000</td>\n",
              "      <td>39.5</td>\n",
              "    </tr>\n",
              "  </tbody>\n",
              "</table>\n",
              "</div>\n",
              "      <button class=\"colab-df-convert\" onclick=\"convertToInteractive('df-b62e97b4-b8dd-49e7-a196-596758f21e28')\"\n",
              "              title=\"Convert this dataframe to an interactive table.\"\n",
              "              style=\"display:none;\">\n",
              "        \n",
              "  <svg xmlns=\"http://www.w3.org/2000/svg\" height=\"24px\"viewBox=\"0 0 24 24\"\n",
              "       width=\"24px\">\n",
              "    <path d=\"M0 0h24v24H0V0z\" fill=\"none\"/>\n",
              "    <path d=\"M18.56 5.44l.94 2.06.94-2.06 2.06-.94-2.06-.94-.94-2.06-.94 2.06-2.06.94zm-11 1L8.5 8.5l.94-2.06 2.06-.94-2.06-.94L8.5 2.5l-.94 2.06-2.06.94zm10 10l.94 2.06.94-2.06 2.06-.94-2.06-.94-.94-2.06-.94 2.06-2.06.94z\"/><path d=\"M17.41 7.96l-1.37-1.37c-.4-.4-.92-.59-1.43-.59-.52 0-1.04.2-1.43.59L10.3 9.45l-7.72 7.72c-.78.78-.78 2.05 0 2.83L4 21.41c.39.39.9.59 1.41.59.51 0 1.02-.2 1.41-.59l7.78-7.78 2.81-2.81c.8-.78.8-2.07 0-2.86zM5.41 20L4 18.59l7.72-7.72 1.47 1.35L5.41 20z\"/>\n",
              "  </svg>\n",
              "      </button>\n",
              "      \n",
              "  <style>\n",
              "    .colab-df-container {\n",
              "      display:flex;\n",
              "      flex-wrap:wrap;\n",
              "      gap: 12px;\n",
              "    }\n",
              "\n",
              "    .colab-df-convert {\n",
              "      background-color: #E8F0FE;\n",
              "      border: none;\n",
              "      border-radius: 50%;\n",
              "      cursor: pointer;\n",
              "      display: none;\n",
              "      fill: #1967D2;\n",
              "      height: 32px;\n",
              "      padding: 0 0 0 0;\n",
              "      width: 32px;\n",
              "    }\n",
              "\n",
              "    .colab-df-convert:hover {\n",
              "      background-color: #E2EBFA;\n",
              "      box-shadow: 0px 1px 2px rgba(60, 64, 67, 0.3), 0px 1px 3px 1px rgba(60, 64, 67, 0.15);\n",
              "      fill: #174EA6;\n",
              "    }\n",
              "\n",
              "    [theme=dark] .colab-df-convert {\n",
              "      background-color: #3B4455;\n",
              "      fill: #D2E3FC;\n",
              "    }\n",
              "\n",
              "    [theme=dark] .colab-df-convert:hover {\n",
              "      background-color: #434B5C;\n",
              "      box-shadow: 0px 1px 3px 1px rgba(0, 0, 0, 0.15);\n",
              "      filter: drop-shadow(0px 1px 2px rgba(0, 0, 0, 0.3));\n",
              "      fill: #FFFFFF;\n",
              "    }\n",
              "  </style>\n",
              "\n",
              "      <script>\n",
              "        const buttonEl =\n",
              "          document.querySelector('#df-b62e97b4-b8dd-49e7-a196-596758f21e28 button.colab-df-convert');\n",
              "        buttonEl.style.display =\n",
              "          google.colab.kernel.accessAllowed ? 'block' : 'none';\n",
              "\n",
              "        async function convertToInteractive(key) {\n",
              "          const element = document.querySelector('#df-b62e97b4-b8dd-49e7-a196-596758f21e28');\n",
              "          const dataTable =\n",
              "            await google.colab.kernel.invokeFunction('convertToInteractive',\n",
              "                                                     [key], {});\n",
              "          if (!dataTable) return;\n",
              "\n",
              "          const docLinkHtml = 'Like what you see? Visit the ' +\n",
              "            '<a target=\"_blank\" href=https://colab.research.google.com/notebooks/data_table.ipynb>data table notebook</a>'\n",
              "            + ' to learn more about interactive tables.';\n",
              "          element.innerHTML = '';\n",
              "          dataTable['output_type'] = 'display_data';\n",
              "          await google.colab.output.renderOutput(dataTable, element);\n",
              "          const docLink = document.createElement('div');\n",
              "          docLink.innerHTML = docLinkHtml;\n",
              "          element.appendChild(docLink);\n",
              "        }\n",
              "      </script>\n",
              "    </div>\n",
              "  </div>\n",
              "  "
            ]
          },
          "metadata": {},
          "execution_count": 14
        }
      ],
      "source": [
        "# float64\n",
        "df.select_dtypes('float64').head()"
      ]
    },
    {
      "cell_type": "code",
      "execution_count": 15,
      "metadata": {
        "colab": {
          "base_uri": "https://localhost:8080/"
        },
        "id": "Wf5dPavjYgMi",
        "outputId": "bbfd0676-aa65-4fee-8ba7-c8bbd6924a0e"
      },
      "outputs": [
        {
          "output_type": "execute_result",
          "data": {
            "text/plain": [
              "[('int.rate', 249),\n",
              " ('installment', 4788),\n",
              " ('log.annual.inc', 1987),\n",
              " ('dti', 2529),\n",
              " ('days.with.cr.line', 2687),\n",
              " ('revol.util', 1035)]"
            ]
          },
          "metadata": {},
          "execution_count": 15
        }
      ],
      "source": [
        "# type= float64\n",
        "lst_t=get_value_counts(df,'float64')\n",
        "lst_t"
      ]
    },
    {
      "cell_type": "code",
      "execution_count": 16,
      "metadata": {
        "colab": {
          "base_uri": "https://localhost:8080/",
          "height": 270
        },
        "id": "Xmsee-q_Yr_Z",
        "outputId": "31e0c7ba-0bd3-4ddf-9a38-c9b2bdd98a36"
      },
      "outputs": [
        {
          "output_type": "execute_result",
          "data": {
            "text/plain": [
              "   credit.policy  int.rate  installment  log.annual.inc    dti  fico  \\\n",
              "0              1    0.1189       829.10       11.350407  19.48   737   \n",
              "1              1    0.1071       228.22       11.082143  14.29   707   \n",
              "2              1    0.1357       366.86       10.373491  11.63   682   \n",
              "3              1    0.1008       162.34       11.350407   8.10   712   \n",
              "4              1    0.1426       102.92       11.299732  14.97   667   \n",
              "\n",
              "   days.with.cr.line  revol.bal  revol.util  inq.last.6mths  delinq.2yrs  \\\n",
              "0        5639.958333      28854        52.1               0            0   \n",
              "1        2760.000000      33623        76.7               0            0   \n",
              "2        4710.000000       3511        25.6               1            0   \n",
              "3        2699.958333      33667        73.2               1            0   \n",
              "4        4066.000000       4740        39.5               0            1   \n",
              "\n",
              "   pub.rec  not.fully.paid  purpose_all_other  purpose_credit_card  \\\n",
              "0        0               0                  0                    0   \n",
              "1        0               0                  0                    1   \n",
              "2        0               0                  0                    0   \n",
              "3        0               0                  0                    0   \n",
              "4        0               0                  0                    1   \n",
              "\n",
              "   purpose_debt_consolidation  purpose_educational  purpose_home_improvement  \\\n",
              "0                           1                    0                         0   \n",
              "1                           0                    0                         0   \n",
              "2                           1                    0                         0   \n",
              "3                           1                    0                         0   \n",
              "4                           0                    0                         0   \n",
              "\n",
              "   purpose_major_purchase  purpose_small_business  \n",
              "0                       0                       0  \n",
              "1                       0                       0  \n",
              "2                       0                       0  \n",
              "3                       0                       0  \n",
              "4                       0                       0  "
            ],
            "text/html": [
              "\n",
              "  <div id=\"df-6592ddea-2e86-474c-ae52-678eb2ab2f93\">\n",
              "    <div class=\"colab-df-container\">\n",
              "      <div>\n",
              "<style scoped>\n",
              "    .dataframe tbody tr th:only-of-type {\n",
              "        vertical-align: middle;\n",
              "    }\n",
              "\n",
              "    .dataframe tbody tr th {\n",
              "        vertical-align: top;\n",
              "    }\n",
              "\n",
              "    .dataframe thead th {\n",
              "        text-align: right;\n",
              "    }\n",
              "</style>\n",
              "<table border=\"1\" class=\"dataframe\">\n",
              "  <thead>\n",
              "    <tr style=\"text-align: right;\">\n",
              "      <th></th>\n",
              "      <th>credit.policy</th>\n",
              "      <th>int.rate</th>\n",
              "      <th>installment</th>\n",
              "      <th>log.annual.inc</th>\n",
              "      <th>dti</th>\n",
              "      <th>fico</th>\n",
              "      <th>days.with.cr.line</th>\n",
              "      <th>revol.bal</th>\n",
              "      <th>revol.util</th>\n",
              "      <th>inq.last.6mths</th>\n",
              "      <th>delinq.2yrs</th>\n",
              "      <th>pub.rec</th>\n",
              "      <th>not.fully.paid</th>\n",
              "      <th>purpose_all_other</th>\n",
              "      <th>purpose_credit_card</th>\n",
              "      <th>purpose_debt_consolidation</th>\n",
              "      <th>purpose_educational</th>\n",
              "      <th>purpose_home_improvement</th>\n",
              "      <th>purpose_major_purchase</th>\n",
              "      <th>purpose_small_business</th>\n",
              "    </tr>\n",
              "  </thead>\n",
              "  <tbody>\n",
              "    <tr>\n",
              "      <th>0</th>\n",
              "      <td>1</td>\n",
              "      <td>0.1189</td>\n",
              "      <td>829.10</td>\n",
              "      <td>11.350407</td>\n",
              "      <td>19.48</td>\n",
              "      <td>737</td>\n",
              "      <td>5639.958333</td>\n",
              "      <td>28854</td>\n",
              "      <td>52.1</td>\n",
              "      <td>0</td>\n",
              "      <td>0</td>\n",
              "      <td>0</td>\n",
              "      <td>0</td>\n",
              "      <td>0</td>\n",
              "      <td>0</td>\n",
              "      <td>1</td>\n",
              "      <td>0</td>\n",
              "      <td>0</td>\n",
              "      <td>0</td>\n",
              "      <td>0</td>\n",
              "    </tr>\n",
              "    <tr>\n",
              "      <th>1</th>\n",
              "      <td>1</td>\n",
              "      <td>0.1071</td>\n",
              "      <td>228.22</td>\n",
              "      <td>11.082143</td>\n",
              "      <td>14.29</td>\n",
              "      <td>707</td>\n",
              "      <td>2760.000000</td>\n",
              "      <td>33623</td>\n",
              "      <td>76.7</td>\n",
              "      <td>0</td>\n",
              "      <td>0</td>\n",
              "      <td>0</td>\n",
              "      <td>0</td>\n",
              "      <td>0</td>\n",
              "      <td>1</td>\n",
              "      <td>0</td>\n",
              "      <td>0</td>\n",
              "      <td>0</td>\n",
              "      <td>0</td>\n",
              "      <td>0</td>\n",
              "    </tr>\n",
              "    <tr>\n",
              "      <th>2</th>\n",
              "      <td>1</td>\n",
              "      <td>0.1357</td>\n",
              "      <td>366.86</td>\n",
              "      <td>10.373491</td>\n",
              "      <td>11.63</td>\n",
              "      <td>682</td>\n",
              "      <td>4710.000000</td>\n",
              "      <td>3511</td>\n",
              "      <td>25.6</td>\n",
              "      <td>1</td>\n",
              "      <td>0</td>\n",
              "      <td>0</td>\n",
              "      <td>0</td>\n",
              "      <td>0</td>\n",
              "      <td>0</td>\n",
              "      <td>1</td>\n",
              "      <td>0</td>\n",
              "      <td>0</td>\n",
              "      <td>0</td>\n",
              "      <td>0</td>\n",
              "    </tr>\n",
              "    <tr>\n",
              "      <th>3</th>\n",
              "      <td>1</td>\n",
              "      <td>0.1008</td>\n",
              "      <td>162.34</td>\n",
              "      <td>11.350407</td>\n",
              "      <td>8.10</td>\n",
              "      <td>712</td>\n",
              "      <td>2699.958333</td>\n",
              "      <td>33667</td>\n",
              "      <td>73.2</td>\n",
              "      <td>1</td>\n",
              "      <td>0</td>\n",
              "      <td>0</td>\n",
              "      <td>0</td>\n",
              "      <td>0</td>\n",
              "      <td>0</td>\n",
              "      <td>1</td>\n",
              "      <td>0</td>\n",
              "      <td>0</td>\n",
              "      <td>0</td>\n",
              "      <td>0</td>\n",
              "    </tr>\n",
              "    <tr>\n",
              "      <th>4</th>\n",
              "      <td>1</td>\n",
              "      <td>0.1426</td>\n",
              "      <td>102.92</td>\n",
              "      <td>11.299732</td>\n",
              "      <td>14.97</td>\n",
              "      <td>667</td>\n",
              "      <td>4066.000000</td>\n",
              "      <td>4740</td>\n",
              "      <td>39.5</td>\n",
              "      <td>0</td>\n",
              "      <td>1</td>\n",
              "      <td>0</td>\n",
              "      <td>0</td>\n",
              "      <td>0</td>\n",
              "      <td>1</td>\n",
              "      <td>0</td>\n",
              "      <td>0</td>\n",
              "      <td>0</td>\n",
              "      <td>0</td>\n",
              "      <td>0</td>\n",
              "    </tr>\n",
              "  </tbody>\n",
              "</table>\n",
              "</div>\n",
              "      <button class=\"colab-df-convert\" onclick=\"convertToInteractive('df-6592ddea-2e86-474c-ae52-678eb2ab2f93')\"\n",
              "              title=\"Convert this dataframe to an interactive table.\"\n",
              "              style=\"display:none;\">\n",
              "        \n",
              "  <svg xmlns=\"http://www.w3.org/2000/svg\" height=\"24px\"viewBox=\"0 0 24 24\"\n",
              "       width=\"24px\">\n",
              "    <path d=\"M0 0h24v24H0V0z\" fill=\"none\"/>\n",
              "    <path d=\"M18.56 5.44l.94 2.06.94-2.06 2.06-.94-2.06-.94-.94-2.06-.94 2.06-2.06.94zm-11 1L8.5 8.5l.94-2.06 2.06-.94-2.06-.94L8.5 2.5l-.94 2.06-2.06.94zm10 10l.94 2.06.94-2.06 2.06-.94-2.06-.94-.94-2.06-.94 2.06-2.06.94z\"/><path d=\"M17.41 7.96l-1.37-1.37c-.4-.4-.92-.59-1.43-.59-.52 0-1.04.2-1.43.59L10.3 9.45l-7.72 7.72c-.78.78-.78 2.05 0 2.83L4 21.41c.39.39.9.59 1.41.59.51 0 1.02-.2 1.41-.59l7.78-7.78 2.81-2.81c.8-.78.8-2.07 0-2.86zM5.41 20L4 18.59l7.72-7.72 1.47 1.35L5.41 20z\"/>\n",
              "  </svg>\n",
              "      </button>\n",
              "      \n",
              "  <style>\n",
              "    .colab-df-container {\n",
              "      display:flex;\n",
              "      flex-wrap:wrap;\n",
              "      gap: 12px;\n",
              "    }\n",
              "\n",
              "    .colab-df-convert {\n",
              "      background-color: #E8F0FE;\n",
              "      border: none;\n",
              "      border-radius: 50%;\n",
              "      cursor: pointer;\n",
              "      display: none;\n",
              "      fill: #1967D2;\n",
              "      height: 32px;\n",
              "      padding: 0 0 0 0;\n",
              "      width: 32px;\n",
              "    }\n",
              "\n",
              "    .colab-df-convert:hover {\n",
              "      background-color: #E2EBFA;\n",
              "      box-shadow: 0px 1px 2px rgba(60, 64, 67, 0.3), 0px 1px 3px 1px rgba(60, 64, 67, 0.15);\n",
              "      fill: #174EA6;\n",
              "    }\n",
              "\n",
              "    [theme=dark] .colab-df-convert {\n",
              "      background-color: #3B4455;\n",
              "      fill: #D2E3FC;\n",
              "    }\n",
              "\n",
              "    [theme=dark] .colab-df-convert:hover {\n",
              "      background-color: #434B5C;\n",
              "      box-shadow: 0px 1px 3px 1px rgba(0, 0, 0, 0.15);\n",
              "      filter: drop-shadow(0px 1px 2px rgba(0, 0, 0, 0.3));\n",
              "      fill: #FFFFFF;\n",
              "    }\n",
              "  </style>\n",
              "\n",
              "      <script>\n",
              "        const buttonEl =\n",
              "          document.querySelector('#df-6592ddea-2e86-474c-ae52-678eb2ab2f93 button.colab-df-convert');\n",
              "        buttonEl.style.display =\n",
              "          google.colab.kernel.accessAllowed ? 'block' : 'none';\n",
              "\n",
              "        async function convertToInteractive(key) {\n",
              "          const element = document.querySelector('#df-6592ddea-2e86-474c-ae52-678eb2ab2f93');\n",
              "          const dataTable =\n",
              "            await google.colab.kernel.invokeFunction('convertToInteractive',\n",
              "                                                     [key], {});\n",
              "          if (!dataTable) return;\n",
              "\n",
              "          const docLinkHtml = 'Like what you see? Visit the ' +\n",
              "            '<a target=\"_blank\" href=https://colab.research.google.com/notebooks/data_table.ipynb>data table notebook</a>'\n",
              "            + ' to learn more about interactive tables.';\n",
              "          element.innerHTML = '';\n",
              "          dataTable['output_type'] = 'display_data';\n",
              "          await google.colab.output.renderOutput(dataTable, element);\n",
              "          const docLink = document.createElement('div');\n",
              "          docLink.innerHTML = docLinkHtml;\n",
              "          element.appendChild(docLink);\n",
              "        }\n",
              "      </script>\n",
              "    </div>\n",
              "  </div>\n",
              "  "
            ]
          },
          "metadata": {},
          "execution_count": 16
        }
      ],
      "source": [
        "df1=pd.get_dummies(df)\n",
        "df1.head()"
      ]
    },
    {
      "cell_type": "code",
      "execution_count": 17,
      "metadata": {
        "colab": {
          "base_uri": "https://localhost:8080/"
        },
        "id": "YLiUuS0tYr8M",
        "outputId": "0e8819f2-fb0c-4f31-deed-f44ce7083f3b"
      },
      "outputs": [
        {
          "output_type": "execute_result",
          "data": {
            "text/plain": [
              "int64      7\n",
              "uint8      7\n",
              "float64    6\n",
              "dtype: int64"
            ]
          },
          "metadata": {},
          "execution_count": 17
        }
      ],
      "source": [
        "df1.dtypes.value_counts()"
      ]
    },
    {
      "cell_type": "code",
      "execution_count": 18,
      "metadata": {
        "colab": {
          "base_uri": "https://localhost:8080/"
        },
        "id": "QjZg5hs0YD7M",
        "outputId": "a08b39a3-c8aa-4684-a63c-085389c230d2"
      },
      "outputs": [
        {
          "output_type": "execute_result",
          "data": {
            "text/plain": [
              "int64      7\n",
              "float64    6\n",
              "object     1\n",
              "dtype: int64"
            ]
          },
          "metadata": {},
          "execution_count": 18
        }
      ],
      "source": [
        "# reminder\n",
        "df.dtypes.value_counts()"
      ]
    },
    {
      "cell_type": "code",
      "execution_count": 19,
      "metadata": {
        "colab": {
          "base_uri": "https://localhost:8080/"
        },
        "id": "dJnlEE87Xh5z",
        "outputId": "1f830064-1c74-4954-e0b5-d132e573a5e2"
      },
      "outputs": [
        {
          "output_type": "execute_result",
          "data": {
            "text/plain": [
              "Index(['purpose_all_other', 'purpose_credit_card',\n",
              "       'purpose_debt_consolidation', 'purpose_educational',\n",
              "       'purpose_home_improvement', 'purpose_major_purchase',\n",
              "       'purpose_small_business'],\n",
              "      dtype='object')"
            ]
          },
          "metadata": {},
          "execution_count": 19
        }
      ],
      "source": [
        "# uint8\n",
        "df1.select_dtypes('uint8').columns"
      ]
    },
    {
      "cell_type": "code",
      "source": [
        "# type= uint8\n",
        "lst_t=get_value_counts(df1,'uint8')\n",
        "lst_t"
      ],
      "metadata": {
        "colab": {
          "base_uri": "https://localhost:8080/"
        },
        "id": "KfTnESe8hszJ",
        "outputId": "3a11335c-0800-4660-adea-d6547676b771"
      },
      "execution_count": 20,
      "outputs": [
        {
          "output_type": "execute_result",
          "data": {
            "text/plain": [
              "[('purpose_all_other', 2),\n",
              " ('purpose_credit_card', 2),\n",
              " ('purpose_debt_consolidation', 2),\n",
              " ('purpose_educational', 2),\n",
              " ('purpose_home_improvement', 2),\n",
              " ('purpose_major_purchase', 2),\n",
              " ('purpose_small_business', 2)]"
            ]
          },
          "metadata": {},
          "execution_count": 20
        }
      ]
    },
    {
      "cell_type": "code",
      "source": [
        "# type= uint8\n",
        "lst_t=df1.select_dtypes('uint8').values\n",
        "ll=[]\n",
        "for i in range(len(lst_t)):\n",
        "  ll=ll+list(lst_t[i,:])\n",
        "set(ll)"
      ],
      "metadata": {
        "colab": {
          "base_uri": "https://localhost:8080/"
        },
        "id": "JbVfN0plel67",
        "outputId": "62aef2fa-21ec-473e-bf10-604599765d13"
      },
      "execution_count": 21,
      "outputs": [
        {
          "output_type": "execute_result",
          "data": {
            "text/plain": [
              "{0, 1}"
            ]
          },
          "metadata": {},
          "execution_count": 21
        }
      ]
    },
    {
      "cell_type": "code",
      "execution_count": 22,
      "metadata": {
        "colab": {
          "base_uri": "https://localhost:8080/"
        },
        "id": "V_HDuyMEYsCk",
        "outputId": "1baba76c-ed37-42c9-e0e9-c63a29d7214e"
      },
      "outputs": [
        {
          "output_type": "execute_result",
          "data": {
            "text/plain": [
              "((9578, 19), (9578,), 9578, 20)"
            ]
          },
          "metadata": {},
          "execution_count": 22
        }
      ],
      "source": [
        "# def of X, Y\n",
        "Y=df1[df1.columns[0]]\n",
        "X=df1[df1.columns[1:]]\n",
        "X.shape, Y.shape,len(df1),len(df1.columns)"
      ]
    },
    {
      "cell_type": "code",
      "execution_count": 23,
      "metadata": {
        "colab": {
          "base_uri": "https://localhost:8080/",
          "height": 533
        },
        "id": "E34wLV0gY0Cw",
        "outputId": "d9a0b1d5-2ecf-438d-e62f-d23d6bed0a48"
      },
      "outputs": [
        {
          "output_type": "stream",
          "name": "stdout",
          "text": [
            "corr_matrix_X.shape\n",
            "(19, 19)\n",
            "\n",
            "No dependency: []\n",
            "\n",
            "\n"
          ]
        },
        {
          "output_type": "execute_result",
          "data": {
            "text/plain": [
              "<matplotlib.axes._subplots.AxesSubplot at 0x7f823010e550>"
            ]
          },
          "metadata": {},
          "execution_count": 23
        },
        {
          "output_type": "display_data",
          "data": {
            "text/plain": [
              "<Figure size 432x288 with 2 Axes>"
            ],
            "image/png": "[encoded data removed]"
          },
          "metadata": {
            "needs_background": "light"
          }
        }
      ],
      "source": [
        "# Significant dependency\n",
        "corr_matrix_X = X.corr()\n",
        "print('corr_matrix_X.shape')\n",
        "print(corr_matrix_X.shape)\n",
        "#\n",
        "coef_dep=0.85\n",
        "#\n",
        "if len(verify_dependency(corr_matrix_X,coef_dep))==0:\n",
        "  print('\\nNo dependency:', verify_dependency(corr_matrix_X,coef_dep))\n",
        "else:\n",
        "  print('\\nDependency:....', verify_dependency(corr_matrix_X,coef_dep))  \n",
        "#\n",
        "print('\\n')\n",
        "import seaborn as sns\n",
        "sns.heatmap(corr_matrix_X)"
      ]
    },
    {
      "cell_type": "code",
      "execution_count": 24,
      "metadata": {
        "colab": {
          "base_uri": "https://localhost:8080/"
        },
        "id": "0McbXzGwYr4b",
        "outputId": "2225d025-1507-49bc-89ff-1251b70444a2"
      },
      "outputs": [
        {
          "output_type": "execute_result",
          "data": {
            "text/plain": [
              "((7183, 19), (2395, 19), (7183,), (2395,))"
            ]
          },
          "metadata": {},
          "execution_count": 24
        }
      ],
      "source": [
        "# Split() ---> define X_train,X_test,y_train,y_test\n",
        "from sklearn.model_selection import train_test_split\n",
        "#\n",
        "in_test_size=25/100\n",
        "X_train,X_test,y_train,y_test = train_test_split(X,Y,test_size=in_test_size,random_state=0)\n",
        "#\n",
        "X_train.shape,X_test.shape,y_train.shape,y_test.shape"
      ]
    },
    {
      "cell_type": "code",
      "execution_count": 25,
      "metadata": {
        "colab": {
          "base_uri": "https://localhost:8080/"
        },
        "id": "Iu4TBwHeYr0S",
        "outputId": "0f751953-00f1-483c-8b30-cd8ac38fc679"
      },
      "outputs": [
        {
          "output_type": "stream",
          "name": "stdout",
          "text": [
            "============\n",
            "RandomForestClassifier\n",
            "============\n",
            "[[ 399   80]\n",
            " [   2 1914]]\n",
            "              precision    recall  f1-score   support\n",
            "\n",
            "           0     0.9950    0.8330    0.9068       479\n",
            "           1     0.9599    0.9990    0.9790      1916\n",
            "\n",
            "    accuracy                         0.9658      2395\n",
            "   macro avg     0.9774    0.9160    0.9429      2395\n",
            "weighted avg     0.9669    0.9658    0.9646      2395\n",
            "\n",
            "============\n",
            "AdaBoost\n",
            "============\n",
            "[[ 364  115]\n",
            " [  17 1899]]\n",
            "              precision    recall  f1-score   support\n",
            "\n",
            "           0     0.9554    0.7599    0.8465       479\n",
            "           1     0.9429    0.9911    0.9664      1916\n",
            "\n",
            "    accuracy                         0.9449      2395\n",
            "   macro avg     0.9491    0.8755    0.9065      2395\n",
            "weighted avg     0.9454    0.9449    0.9424      2395\n",
            "\n",
            "============\n",
            "SVM\n",
            "============\n",
            "[[ 324  155]\n",
            " [   8 1908]]\n",
            "              precision    recall  f1-score   support\n",
            "\n",
            "           0     0.9759    0.6764    0.7990       479\n",
            "           1     0.9249    0.9958    0.9590      1916\n",
            "\n",
            "    accuracy                         0.9319      2395\n",
            "   macro avg     0.9504    0.8361    0.8790      2395\n",
            "weighted avg     0.9351    0.9319    0.9270      2395\n",
            "\n",
            "============\n",
            "KNN\n",
            "============\n",
            "[[ 346  133]\n",
            " [  13 1903]]\n",
            "              precision    recall  f1-score   support\n",
            "\n",
            "           0     0.9638    0.7223    0.8258       479\n",
            "           1     0.9347    0.9932    0.9631      1916\n",
            "\n",
            "    accuracy                         0.9390      2395\n",
            "   macro avg     0.9492    0.8578    0.8944      2395\n",
            "weighted avg     0.9405    0.9390    0.9356      2395\n",
            "\n",
            "============\n",
            "DecisionTreeClassifier\n",
            "============\n",
            "[[ 405   74]\n",
            " [  39 1877]]\n",
            "              precision    recall  f1-score   support\n",
            "\n",
            "           0     0.9122    0.8455    0.8776       479\n",
            "           1     0.9621    0.9796    0.9708      1916\n",
            "\n",
            "    accuracy                         0.9528      2395\n",
            "   macro avg     0.9371    0.9126    0.9242      2395\n",
            "weighted avg     0.9521    0.9528    0.9521      2395\n",
            "\n"
          ]
        }
      ],
      "source": [
        "# list classifiers\n",
        "import warnings\n",
        "warnings.filterwarnings('ignore')\n",
        "\n",
        "lst_algo=['AdaBoost','SVM','KNN','DecisionTreeClassifier','RandomForestClassifier']\n",
        "#\n",
        "dico_name_model=test_classifierModels_list(lst_algo,X_train,X_test,y_train,y_test)\n",
        "#dico_name_model\n"
      ]
    },
    {
      "cell_type": "code",
      "execution_count": 26,
      "metadata": {
        "colab": {
          "base_uri": "https://localhost:8080/"
        },
        "id": "aUB6CCsmrT1X",
        "outputId": "cf5a2a5e-5a33-48af-dc20-12e397ac99ec"
      },
      "outputs": [
        {
          "output_type": "stream",
          "name": "stdout",
          "text": [
            "[[ 461   18]\n",
            " [   7 1909]]\n",
            "              precision    recall  f1-score   support\n",
            "\n",
            "           0     0.9850    0.9624    0.9736       479\n",
            "           1     0.9907    0.9963    0.9935      1916\n",
            "\n",
            "    accuracy                         0.9896      2395\n",
            "   macro avg     0.9879    0.9794    0.9835      2395\n",
            "weighted avg     0.9895    0.9896    0.9895      2395\n",
            "\n"
          ]
        }
      ],
      "source": [
        "model_rfc = RandomForestClassifier(random_state=10)\n",
        "model_rfc_fit= fit_and_evaluate_model(model_rfc,X_train,X_test,y_train,y_test)"
      ]
    },
    {
      "cell_type": "code",
      "source": [
        "model_rfc = RandomForestClassifier(random_state=10)\n",
        "model_rfc_fit= model_rfc.fit(X_train,y_train)\n",
        "model_rfc_fit.score(X_test,y_test)"
      ],
      "metadata": {
        "colab": {
          "base_uri": "https://localhost:8080/"
        },
        "id": "txcVxv-LqhNz",
        "outputId": "52eef3a1-db82-444b-a4e2-9f4c896f0a87"
      },
      "execution_count": 27,
      "outputs": [
        {
          "output_type": "execute_result",
          "data": {
            "text/plain": [
              "0.9895615866388309"
            ]
          },
          "metadata": {},
          "execution_count": 27
        }
      ]
    },
    {
      "cell_type": "code",
      "source": [
        "min=2\n",
        "idx=0\n",
        "for i in range(11):\n",
        "  model_rfc = RandomForestClassifier(random_state=i)\n",
        "  model_rfc_fit= model_rfc.fit(X_train,y_train)\n",
        "  if model_rfc_fit.score(X_test,y_test) < min:\n",
        "    min=model_rfc_fit.score(X_test,y_test)\n",
        "    idx=i\n",
        "idx,min"
      ],
      "metadata": {
        "colab": {
          "base_uri": "https://localhost:8080/"
        },
        "id": "wFJlD_6wndBa",
        "outputId": "72e21b41-1c02-42ee-b383-7f88679140a9"
      },
      "execution_count": 35,
      "outputs": [
        {
          "output_type": "execute_result",
          "data": {
            "text/plain": [
              "(10, 0.9895615866388309)"
            ]
          },
          "metadata": {},
          "execution_count": 35
        }
      ]
    },
    {
      "cell_type": "code",
      "execution_count": 30,
      "metadata": {
        "colab": {
          "base_uri": "https://localhost:8080/",
          "height": 392
        },
        "id": "GqjxjaEto6zp",
        "outputId": "1fd359fe-7316-4f88-d3c9-5e288d69c326"
      },
      "outputs": [
        {
          "output_type": "execute_result",
          "data": {
            "text/plain": [
              "5"
            ]
          },
          "metadata": {},
          "execution_count": 30
        },
        {
          "output_type": "display_data",
          "data": {
            "text/plain": [
              "<Figure size 792x432 with 1 Axes>"
            ],
            "image/png": "[encoded data removed]"
          },
          "metadata": {
            "needs_background": "light"
          }
        }
      ],
      "source": [
        "#--------------------------------------------\n",
        "#--- feature_importances ---> for RandomForestClassifier \n",
        "#-------------------------------------------\n",
        "#\n",
        "feature_importances_rfc=show_importances_plot(model_rfc_fit,i_threshold=0.05) #0.01\n",
        "len(feature_importances_rfc)\n"
      ]
    },
    {
      "cell_type": "code",
      "source": [
        "#columns list\n",
        "list(feature_importances_rfc.index)"
      ],
      "metadata": {
        "colab": {
          "base_uri": "https://localhost:8080/"
        },
        "id": "SKfd-FpflrkV",
        "outputId": "d8dc743d-fd8e-43b5-c3d8-3097103f82ba"
      },
      "execution_count": 31,
      "outputs": [
        {
          "output_type": "execute_result",
          "data": {
            "text/plain": [
              "['dti', 'revol.bal', 'days.with.cr.line', 'fico', 'inq.last.6mths']"
            ]
          },
          "metadata": {},
          "execution_count": 31
        }
      ]
    },
    {
      "cell_type": "code",
      "execution_count": 32,
      "metadata": {
        "colab": {
          "base_uri": "https://localhost:8080/"
        },
        "id": "blNCBPf1reSi",
        "outputId": "51823315-0d15-4b11-f439-4837241cd4d7"
      },
      "outputs": [
        {
          "output_type": "stream",
          "name": "stdout",
          "text": [
            "[[ 458   21]\n",
            " [   3 1913]]\n",
            "              precision    recall  f1-score   support\n",
            "\n",
            "           0     0.9935    0.9562    0.9745       479\n",
            "           1     0.9891    0.9984    0.9938      1916\n",
            "\n",
            "    accuracy                         0.9900      2395\n",
            "   macro avg     0.9913    0.9773    0.9841      2395\n",
            "weighted avg     0.9900    0.9900    0.9899      2395\n",
            "\n"
          ]
        }
      ],
      "source": [
        "list_rest_cols=list(feature_importances_rfc.index)\n",
        "#\n",
        "X_train1=X_train[list_rest_cols]\n",
        "X_test1=X_test[list_rest_cols]\n",
        "y_train1=y_train\n",
        "y_test1=y_test\n",
        "\n",
        "#\n",
        "model_rfc_fit1= fit_and_evaluate_model(model_rfc,X_train1,X_test1,y_train1,y_test1)\n",
        "\n",
        "#dico_model_ros2 = test_classifierModels_list(classifierModels_dict, X_train_ros[list_rest_cols],X_test[list_rest_cols],y_train,y_test,False)"
      ]
    },
    {
      "cell_type": "code",
      "source": [
        "list_rest_cols=list(feature_importances_rfc.index)\n",
        "#\n",
        "X_train1=X_train[list_rest_cols]\n",
        "X_test1=X_test[list_rest_cols]\n",
        "y_train1=y_train\n",
        "y_test1=y_test\n",
        "#\n",
        "print('X_train1.shape,y_train1.shape,X_test1.shape,y_test1.shape')\n",
        "print(X_train1.shape,y_train1.shape,X_test1.shape,y_test1.shape)\n",
        "#\n",
        "model_rfc = RandomForestClassifier(random_state=10)\n",
        "model_rfc_fit1= model_rfc.fit(X_train1,y_train1)\n",
        "score=model_rfc_fit1.score(X_test1,y_test1)\n",
        "print('\\n--------')\n",
        "print('Accuracy=',score)\n",
        "print('--------')"
      ],
      "metadata": {
        "colab": {
          "base_uri": "https://localhost:8080/"
        },
        "id": "koJFsqjgq8QT",
        "outputId": "a0056dbf-f410-4ba5-8e1a-9d9a04af02c9"
      },
      "execution_count": 33,
      "outputs": [
        {
          "output_type": "stream",
          "name": "stdout",
          "text": [
            "X_train1.shape,y_train1.shape,X_test1.shape,y_test1.shape\n",
            "(7183, 5) (7183,) (2395, 5) (2395,)\n",
            "\n",
            "--------\n",
            "Accuracy= 0.9899791231732776\n",
            "--------\n"
          ]
        }
      ]
    },
    {
      "cell_type": "code",
      "execution_count": 34,
      "metadata": {
        "colab": {
          "base_uri": "https://localhost:8080/",
          "height": 470
        },
        "id": "pBTDl2KXsPIh",
        "outputId": "568ed76e-9e3a-4e8f-a0ff-478e26ec203b"
      },
      "outputs": [
        {
          "output_type": "stream",
          "name": "stdout",
          "text": [
            "corr_matrix.shape\n",
            "(5, 5)\n",
            "\n",
            "No dependency: []\n",
            "\n",
            "\n"
          ]
        },
        {
          "output_type": "execute_result",
          "data": {
            "text/plain": [
              "<matplotlib.axes._subplots.AxesSubplot at 0x7f822d0a41d0>"
            ]
          },
          "metadata": {},
          "execution_count": 34
        },
        {
          "output_type": "display_data",
          "data": {
            "text/plain": [
              "<Figure size 432x288 with 2 Axes>"
            ],
            "image/png": "[encoded data removed]"
          },
          "metadata": {
            "needs_background": "light"
          }
        }
      ],
      "source": [
        "# Create correlation matrix\n",
        "corr_matrix = X_train1.corr()\n",
        "print('corr_matrix.shape')\n",
        "print(corr_matrix.shape)\n",
        "#\n",
        "coef_dep=0.35 # 0.85\n",
        "#\n",
        "if len(verify_dependency(corr_matrix,coef_dep))==0:\n",
        "  print('\\nNo dependency:', verify_dependency(corr_matrix,coef_dep))\n",
        "else:\n",
        "  print('\\nDependency:....', verify_dependency(corr_matrix,coef_dep))  \n",
        "#\n",
        "print('\\n')\n",
        "import seaborn as sns\n",
        "sns.heatmap(corr_matrix)"
      ]
    },
    {
      "cell_type": "code",
      "execution_count": 34,
      "metadata": {
        "id": "jCmdEXVMbSlV"
      },
      "outputs": [],
      "source": [
        ""
      ]
    },
    {
      "cell_type": "markdown",
      "source": [
        "# **BUILD**"
      ],
      "metadata": {
        "id": "e12qi7mNxKCQ"
      }
    },
    {
      "cell_type": "code",
      "execution_count": 36,
      "metadata": {
        "colab": {
          "base_uri": "https://localhost:8080/",
          "height": 36
        },
        "id": "wusWmzWdzAX-",
        "outputId": "b9e19e04-af1e-45d7-ed87-c23f50198378"
      },
      "outputs": [
        {
          "output_type": "execute_result",
          "data": {
            "text/plain": [
              "'tensorflow'"
            ],
            "application/vnd.google.colaboratory.intrinsic+json": {
              "type": "string"
            }
          },
          "metadata": {},
          "execution_count": 36
        }
      ],
      "source": [
        "# backend keras = ? tensorflow \n",
        "import keras\n",
        "keras.backend.backend()"
      ]
    },
    {
      "cell_type": "code",
      "execution_count": null,
      "metadata": {
        "id": "veiidwcqBUWu"
      },
      "outputs": [],
      "source": [
        "'''\n",
        "from sklearn.preprocessing import MinMaxScaler\n",
        "scaler = MinMaxScaler()\n",
        "scaler.fit(X_train2)\n",
        "#\n",
        "X_train2 = scaler.transform(X_train2)\n",
        "X_test2 = scaler.transform(X_test2)\n",
        "'''"
      ]
    },
    {
      "cell_type": "code",
      "execution_count": 37,
      "metadata": {
        "id": "GLuc5fX6cUYF"
      },
      "outputs": [],
      "source": [
        "# X_train1,X_test1,y_train1,y_test1\n",
        "X_train2=X_train1.copy(deep=True)\n",
        "X_test2=X_test1.copy(deep=True)\n",
        "y_train2=y_train1.copy(deep=True)\n",
        "y_test2=y_test1.copy(deep=True)\n",
        "#\n",
        "scaler2=StandardScaler()\n",
        "scaler2.fit(X_train2)\n",
        "#\n",
        "X_train2 = scaler2.transform(X_train2)\n",
        "X_test2 = scaler2.transform(X_test2)"
      ]
    },
    {
      "cell_type": "code",
      "source": [
        "# Callback\n",
        "class myCallback(tf.keras.callbacks.Callback):\n",
        "  max_val_Acc=0\n",
        "\n",
        "  def __init__(self,i_threshold):\n",
        "    self.threshold_cb=i_threshold\n",
        "  \n",
        "  def on_epoch_end(self, epoch, logs={}):\n",
        "      if (logs.get('val_accuracy') > self.threshold_cb): \n",
        "          print(\"\\nReached \", self.threshold_cb*100 ,\n",
        "                \"% val_accuracy so cancelling training!\")\n",
        "          print(\"\\nepoch: \", epoch)\n",
        "          print('Acc=', logs.get('accuracy'))\n",
        "          print('val_Acc=', logs.get('val_accuracy'))\n",
        "          print('loss=', logs.get('loss'))\n",
        "          print('\\n')\n",
        "          self.model.stop_training = True\n",
        "      if (epoch%1000==0):\n",
        "        print(\"\\nepoch: \", epoch)\n",
        "        print('Acc=', logs.get('accuracy'))\n",
        "        print('val_Acc=', logs.get('val_accuracy'))\n",
        "        if logs.get('val_accuracy') > self.max_val_Acc:\n",
        "          self.max_val_Acc= logs.get('val_accuracy')\n",
        "        print('max_val_Acc=', self.max_val_Acc)\n",
        "        print('loss=', logs.get('loss'))"
      ],
      "metadata": {
        "id": "WEEDOhkug-V4"
      },
      "execution_count": 38,
      "outputs": []
    },
    {
      "cell_type": "code",
      "source": [
        "# Building model preparation\n",
        "#N_VALIDATION = int(1e3)\n",
        "N_TRAIN = int(1e4)\n",
        "BUFFER_SIZE = int(1e4)\n",
        "BATCH_SIZE = 1024\n",
        "STEPS_PER_EPOCH = N_TRAIN//BATCH_SIZE\n",
        "\n",
        "# InverseTimeDecay\n",
        "lr_schedule = tf.keras.optimizers.schedules.InverseTimeDecay(\n",
        "  0.001,\n",
        "  decay_steps=STEPS_PER_EPOCH*300, # 1000\n",
        "  decay_rate=1,\n",
        "  staircase=False)\n",
        "\n",
        "# optimizer\n",
        "def get_optimizer(i_lr_schedule):\n",
        "  l_adam= tf.keras.optimizers.Adam (\n",
        "      learning_rate=i_lr_schedule,\n",
        "      beta_1=0.9,\n",
        "      name='adam' \n",
        "  )\n",
        "  return l_adam"
      ],
      "metadata": {
        "id": "gJfcYwwHiDN-"
      },
      "execution_count": 39,
      "outputs": []
    },
    {
      "cell_type": "code",
      "source": [
        "###############################################\n",
        "### --- Building model\n",
        "###############################################\n",
        "target_score=0.98\n",
        "callbacks = myCallback(target_score)\n",
        "\n",
        "model_tf = get_model(X_train2.shape[1],i_def_mode=1)\n",
        "\n",
        "model_tf.compile(loss='binary_crossentropy', optimizer=get_optimizer(lr_schedule),\n",
        "              metrics=['accuracy']) \n",
        "\n",
        "import time\n",
        "start=time.time()\n",
        "\n",
        "history=model_tf.fit(X_train2,y_train2,epochs=50000,batch_size=BATCH_SIZE,  \n",
        "                  validation_data=(X_test2, y_test2) ,callbacks=[callbacks],verbose=0)\n",
        "\n",
        "end=time.time()\n",
        "print('running time: ',end-start)\n",
        "\n",
        "score=model_tf.evaluate(X_test2,y_test2,batch_size=BATCH_SIZE)\n",
        "\n",
        "print('\\nscore: ',score,'\\n')"
      ],
      "metadata": {
        "colab": {
          "base_uri": "https://localhost:8080/"
        },
        "id": "fGnkVh_Cg-GW",
        "outputId": "a5b5b378-ad67-4c68-e027-20c9ad86b2e9"
      },
      "execution_count": null,
      "outputs": [
        {
          "output_type": "stream",
          "name": "stdout",
          "text": [
            "\n",
            "epoch:  0\n",
            "Acc= 0.6749269366264343\n",
            "val_Acc= 0.8592901825904846\n",
            "max_val_Acc= 0.8592901825904846\n",
            "loss= 0.6492795944213867\n",
            "\n",
            "epoch:  1000\n",
            "Acc= 0.9618543982505798\n",
            "val_Acc= 0.9649269580841064\n",
            "max_val_Acc= 0.9649269580841064\n",
            "loss= 0.12506437301635742\n",
            "\n",
            "epoch:  2000\n",
            "Acc= 0.9661701321601868\n",
            "val_Acc= 0.9736952185630798\n",
            "max_val_Acc= 0.9736952185630798\n",
            "loss= 0.11430052667856216\n",
            "\n",
            "epoch:  3000\n",
            "Acc= 0.9704858660697937\n",
            "val_Acc= 0.9757828712463379\n",
            "max_val_Acc= 0.9757828712463379\n",
            "loss= 0.10679269582033157\n",
            "\n",
            "epoch:  4000\n",
            "Acc= 0.9700682163238525\n",
            "val_Acc= 0.9774530529975891\n",
            "max_val_Acc= 0.9774530529975891\n",
            "loss= 0.10118568688631058\n",
            "\n",
            "epoch:  5000\n",
            "Acc= 0.9722957015037537\n",
            "val_Acc= 0.9774530529975891\n",
            "max_val_Acc= 0.9774530529975891\n",
            "loss= 0.09867680817842484\n",
            "\n",
            "Reached  98.0 % val_accuracy so cancelling training!\n",
            "\n",
            "epoch:  5939\n",
            "Acc= 0.973827064037323\n",
            "val_Acc= 0.9803757667541504\n",
            "loss= 0.09569501876831055\n",
            "\n",
            "\n",
            "running time:  1048.621102809906\n",
            "3/3 [==============================] - 0s 7ms/step - loss: 0.1025 - accuracy: 0.9804\n",
            "\n",
            "score:  [0.10246644914150238, 0.9803757667541504] \n",
            "\n"
          ]
        }
      ]
    },
    {
      "cell_type": "code",
      "source": [
        ""
      ],
      "metadata": {
        "id": "vROEPOGKjd62"
      },
      "execution_count": null,
      "outputs": []
    },
    {
      "cell_type": "code",
      "source": [
        "print('score: ',score,'\\n')\n",
        "model= fit_and_evaluate_model(model_tf,X_train2,X_test2,y_train2,y_test2,i_use_fit=False,cas_tensorflow=True)"
      ],
      "metadata": {
        "colab": {
          "base_uri": "https://localhost:8080/"
        },
        "id": "N-YqpZdijduR",
        "outputId": "f4bdf34b-d779-4ec6-8480-1d750cccc6db"
      },
      "execution_count": null,
      "outputs": [
        {
          "output_type": "stream",
          "name": "stdout",
          "text": [
            "score:  [0.10246644914150238, 0.9803757667541504] \n",
            "\n",
            "[[ 447   32]\n",
            " [  15 1901]]\n",
            "              precision    recall  f1-score   support\n",
            "\n",
            "           0     0.9675    0.9332    0.9501       479\n",
            "           1     0.9834    0.9922    0.9878      1916\n",
            "\n",
            "    accuracy                         0.9804      2395\n",
            "   macro avg     0.9755    0.9627    0.9689      2395\n",
            "weighted avg     0.9803    0.9804    0.9802      2395\n",
            "\n"
          ]
        }
      ]
    },
    {
      "cell_type": "code",
      "source": [
        "#------------------------------------------------\n",
        "# Plot training and validation accuracy per epoch\n",
        "#------------------------------------------------\n",
        "acc=history.history['accuracy']\n",
        "val_acc=history.history['val_accuracy']\n",
        "\n",
        "epochs=range(len(acc)) # Get number of epochs\n",
        "\n",
        "plt.plot(epochs, acc, 'r')\n",
        "plt.plot(epochs, val_acc, 'b')\n",
        "#\n",
        "plt.title('Training and Validation Accuracy')\n",
        "plt.legend(['Acc','Val_acc'])\n",
        "plt.show()\n",
        "print(\"\")\n",
        "\n",
        "#------------------------------------------------\n",
        "# Plot training and validation loss per epoch\n",
        "#------------------------------------------------\n",
        "loss=history.history['loss']\n",
        "val_loss=history.history['val_loss']\n",
        "epochs=range(len(loss)) # Get number of epochs\n",
        "#\n",
        "plt.plot(epochs, loss, 'r')\n",
        "plt.plot(epochs, val_loss, 'b')\n",
        "#\n",
        "plt.title('Training and Validation loss')\n",
        "plt.legend(['loss','val_loss'])\n",
        "plt.show()\n",
        "print(\"\")\n"
      ],
      "metadata": {
        "colab": {
          "base_uri": "https://localhost:8080/",
          "height": 580
        },
        "id": "2_KcTdqdiyQc",
        "outputId": "69b1e6bd-7334-4410-a25c-816e0f64a7f3"
      },
      "execution_count": null,
      "outputs": [
        {
          "output_type": "display_data",
          "data": {
            "text/plain": [
              "<Figure size 432x288 with 1 Axes>"
            ],
            "image/png": "[encoded data removed]"
          },
          "metadata": {
            "needs_background": "light"
          }
        },
        {
          "output_type": "stream",
          "name": "stdout",
          "text": [
            "\n"
          ]
        },
        {
          "output_type": "display_data",
          "data": {
            "text/plain": [
              "<Figure size 432x288 with 1 Axes>"
            ],
            "image/png": "[encoded data removed]"
          },
          "metadata": {
            "needs_background": "light"
          }
        },
        {
          "output_type": "stream",
          "name": "stdout",
          "text": [
            "\n"
          ]
        }
      ]
    },
    {
      "cell_type": "code",
      "source": [
        ""
      ],
      "metadata": {
        "id": "K8z-Znveix6O"
      },
      "execution_count": null,
      "outputs": []
    },
    {
      "cell_type": "code",
      "source": [
        "from google.colab import drive\n",
        "drive.mount('/content/drive')"
      ],
      "metadata": {
        "id": "8-O36wEZvlfK"
      },
      "execution_count": null,
      "outputs": []
    },
    {
      "cell_type": "code",
      "source": [
        "model.save_weights('/content/drive/MyDrive/---TMP/aa_models/weights/')"
      ],
      "metadata": {
        "id": "2Y0Q2PW321sP"
      },
      "execution_count": null,
      "outputs": []
    },
    {
      "cell_type": "code",
      "source": [
        "model.save(filepath='/content/drive/MyDrive/---TMP/aa_models/model.h5')"
      ],
      "metadata": {
        "id": "qe8UYlO32nux"
      },
      "execution_count": null,
      "outputs": []
    },
    {
      "cell_type": "code",
      "source": [
        "model.save(filepath='/content/drive/MyDrive/---TMP/aa_models/')"
      ],
      "metadata": {
        "colab": {
          "base_uri": "https://localhost:8080/"
        },
        "id": "-OSNPA-A16zV",
        "outputId": "c6d855cd-1cd6-4c80-c3a1-553a1d8b3926"
      },
      "execution_count": null,
      "outputs": [
        {
          "output_type": "stream",
          "name": "stdout",
          "text": [
            "INFO:tensorflow:Assets written to: /content/drive/MyDrive/---TMP/aa_models/assets\n"
          ]
        }
      ]
    },
    {
      "cell_type": "code",
      "source": [
        ""
      ],
      "metadata": {
        "id": "HEVu4KFfL9fM"
      },
      "execution_count": null,
      "outputs": []
    },
    {
      "cell_type": "code",
      "source": [
        "model2=tf.keras.models.load_model('/content/drive/MyDrive/---TMP/aa_models/model.h5')\n",
        "# Checking\n",
        "score2=model2.evaluate(X_test2,y_test2,batch_size=BATCH_SIZE)\n",
        "print('\\nscore2: ',score2,'\\n')"
      ],
      "metadata": {
        "colab": {
          "base_uri": "https://localhost:8080/"
        },
        "id": "tIQ_rbHDL9bS",
        "outputId": "8ab2c2b8-4014-49f4-a3bd-f679573ea173"
      },
      "execution_count": null,
      "outputs": [
        {
          "output_type": "stream",
          "name": "stdout",
          "text": [
            "3/3 [==============================] - 0s 11ms/step - loss: 0.1022 - accuracy: 0.9804\n",
            "\n",
            "score2:  [0.10222778469324112, 0.9803757667541504] \n",
            "\n"
          ]
        }
      ]
    },
    {
      "cell_type": "code",
      "source": [
        "# continue to fit() model\n",
        "seuil=0.985\n",
        "callbacks2 = myCallback2(seuil)\n",
        "history=model2.fit(X_train2,y_train2,epochs=50000,batch_size=BATCH_SIZE,  validation_data=(X_test2, y_test2) ,callbacks=[callbacks2],verbose=0)\n",
        "score=model.evaluate(X_test2,y_test2,batch_size=BATCH_SIZE)\n",
        "print('\\nscore: ',score,'\\n')"
      ],
      "metadata": {
        "id": "7OCQIhpAL9MP"
      },
      "execution_count": null,
      "outputs": []
    },
    {
      "cell_type": "code",
      "source": [
        ""
      ],
      "metadata": {
        "id": "-VnDmWiDL9B_"
      },
      "execution_count": null,
      "outputs": []
    },
    {
      "cell_type": "code",
      "execution_count": null,
      "metadata": {
        "colab": {
          "base_uri": "https://localhost:8080/"
        },
        "id": "xdHTwnnp072N",
        "outputId": "d81bf5e6-21a3-47fe-aeb5-2fdc99af2f14"
      },
      "outputs": [
        {
          "output_type": "stream",
          "name": "stdout",
          "text": [
            "score:  [0.127444326877594, 0.9895615577697754, 0.9893317222595215] \n",
            "\n",
            "[[ 459   20]\n",
            " [   5 1911]]\n",
            "              precision    recall  f1-score   support\n",
            "\n",
            "           0     0.9892    0.9582    0.9735       479\n",
            "           1     0.9896    0.9974    0.9935      1916\n",
            "\n",
            "    accuracy                         0.9896      2395\n",
            "   macro avg     0.9894    0.9778    0.9835      2395\n",
            "weighted avg     0.9896    0.9896    0.9895      2395\n",
            "\n"
          ]
        }
      ],
      "source": [
        "print('score: ',score,'\\n')\n",
        "model= fit_and_evaluate_model(model,X_train2,X_test2,y_train2,y_test2,i_use_fit=False,cas_tensorflow=True)"
      ]
    },
    {
      "cell_type": "code",
      "source": [
        ""
      ],
      "metadata": {
        "id": "iND9_CN9wd75"
      },
      "execution_count": null,
      "outputs": []
    },
    {
      "cell_type": "code",
      "execution_count": 40,
      "metadata": {
        "id": "u44q52IAgdct",
        "colab": {
          "base_uri": "https://localhost:8080/"
        },
        "outputId": "d1185647-bd7d-45da-ac44-927088d38bc5"
      },
      "outputs": [
        {
          "output_type": "stream",
          "name": "stdout",
          "text": [
            "[[ 463   16]\n",
            " [   2 1914]]\n",
            "              precision    recall  f1-score   support\n",
            "\n",
            "           0     0.9957    0.9666    0.9809       479\n",
            "           1     0.9917    0.9990    0.9953      1916\n",
            "\n",
            "    accuracy                         0.9925      2395\n",
            "   macro avg     0.9937    0.9828    0.9881      2395\n",
            "weighted avg     0.9925    0.9925    0.9924      2395\n",
            "\n"
          ]
        }
      ],
      "source": [
        "from xgboost import XGBClassifier\n",
        "from xgboost import plot_importance\n",
        "model_xgb = XGBClassifier(random_state=10) # random_state=10\n",
        "model_xgb_fit= fit_and_evaluate_model(model_xgb,X_train,X_test,y_train,y_test)"
      ]
    },
    {
      "cell_type": "code",
      "source": [
        "# plot feature importance\n",
        "plot_importance(model_xgb_fit)\n",
        "plt.show()"
      ],
      "metadata": {
        "colab": {
          "base_uri": "https://localhost:8080/",
          "height": 295
        },
        "id": "TM9qU_qywfAT",
        "outputId": "e3627a4c-9c20-4666-df79-2ccfe93d18be"
      },
      "execution_count": 41,
      "outputs": [
        {
          "output_type": "display_data",
          "data": {
            "text/plain": [
              "<Figure size 432x288 with 1 Axes>"
            ],
            "image/png": "[encoded data removed]"
          },
          "metadata": {
            "needs_background": "light"
          }
        }
      ]
    },
    {
      "cell_type": "code",
      "source": [
        ""
      ],
      "metadata": {
        "id": "IgAgLO-5vt1z"
      },
      "execution_count": null,
      "outputs": []
    },
    {
      "cell_type": "code",
      "execution_count": null,
      "metadata": {
        "id": "EffgOvwofZCO"
      },
      "outputs": [],
      "source": [
        "###################################\n",
        "#--- Selecting of optimizer\n",
        "###################################\n",
        "#\n",
        "import numpy\n",
        "from sklearn.model_selection import GridSearchCV\n",
        "from keras.models import Sequential\n",
        "from keras.layers import Dense\n",
        "from keras.wrappers.scikit_learn import KerasClassifier\n",
        "# Function to create model, required for KerasClassifier\n",
        "def create_model(optimizer='RMSprop',learn_rate=0.001,momentum=0):\n",
        "  # create model\n",
        "  model = get_model(5)\n",
        "  # Compile model\n",
        "  model.compile(loss='binary_crossentropy', optimizer=optimizer, metrics=['accuracy'])\n",
        "  return model\n",
        "# fix random seed for reproducibility\n",
        "seed = 7\n",
        "numpy.random.seed(seed)\n",
        "\n",
        "class myCallback(tf.keras.callbacks.Callback):\n",
        "    def on_epoch_end(self, epoch, logs={}):\n",
        "        if (logs.get('accuracy') > 0.95):\n",
        "        #if (logs.get('auc') > 0.95):\n",
        "            print(\"\\nReached 99.8% accuracy so cancelling training!\")\n",
        "            self.model.stop_training = True\n",
        "\n",
        "callbacks = myCallback()\n",
        "\n",
        "\n",
        "# split into input (X) and output (Y) variables\n",
        "X = X_train2\n",
        "Y = y_train2\n",
        "# create model\n",
        "model = KerasClassifier(build_fn=create_model, epochs=100, batch_size=256, verbose=2)  #batch_size=10\n",
        "# define the grid search parameters\n",
        "optimizer = ['Adadelta', 'Adam', 'RMSprop']  # ['SGD', 'RMSprop', 'Adagrad', 'Adadelta', 'Adam', 'Adamax', 'Nadam'] \n",
        "learn_rate = [0.001]   # [0.001, 0.01, 0.1]\n",
        "momentum = [0.4, 0.6, 0.9]   #\n",
        "param_grid = dict(optimizer=optimizer,learn_rate=learn_rate, momentum=momentum)\n",
        "grid = GridSearchCV(estimator=model, param_grid=param_grid, n_jobs=-1, cv=2,verbose=2)\n",
        "grid_result = grid.fit(X, Y, callbacks=[callbacks],verbose=2)\n",
        "# summarize results\n",
        "print(\"Best: %f using %s\" % (grid_result.best_score_, grid_result.best_params_))\n",
        "means = grid_result.cv_results_['mean_test_score']\n",
        "stds = grid_result.cv_results_['std_test_score']\n",
        "params = grid_result.cv_results_['params']\n",
        "for mean, stdev, param in zip(means, stds, params):\n",
        "    print(\"%f (%f) with: %r\" % (mean, stdev, param))"
      ]
    },
    {
      "cell_type": "code",
      "execution_count": null,
      "metadata": {
        "id": "Md0-Q8dRfYuE"
      },
      "outputs": [],
      "source": [
        ""
      ]
    },
    {
      "cell_type": "code",
      "source": [
        "#============================================ FIN ============================================================="
      ],
      "metadata": {
        "id": "oIgdLHz1wjiQ"
      },
      "execution_count": null,
      "outputs": []
    },
    {
      "cell_type": "markdown",
      "metadata": {
        "id": "Tgn4imCH0HR2"
      },
      "source": [
        "# TMP"
      ]
    },
    {
      "cell_type": "code",
      "execution_count": null,
      "metadata": {
        "id": "xlZK4Cr70LK-"
      },
      "outputs": [],
      "source": [
        "import numpy\n",
        "from sklearn.model_selection import GridSearchCV\n",
        "from keras.models import Sequential\n",
        "from keras.layers import Dense\n",
        "from keras.wrappers.scikit_learn import KerasClassifier\n",
        "# Function to create model, required for KerasClassifier\n",
        "def create_model(optimizer='RMSprop',learn_rate=0.01, momentum=0):\n",
        "  # create model\n",
        "  model = Sequential()\n",
        "  model.add(Dense(512, input_dim=5, activation='relu'))\n",
        "  model.add(Dropout(0.6))\n",
        "  model.add(Dense(512, input_dim=5, activation='relu'))\n",
        "  model.add(Dropout(0.6))\n",
        "  model.add(Dense(1, activation='sigmoid'))\n",
        "  # Compile model\n",
        "  model.compile(loss='binary_crossentropy', optimizer=optimizer, metrics=['accuracy'])\n",
        "  return model\n",
        "# fix random seed for reproducibility\n",
        "seed = 7\n",
        "numpy.random.seed(seed)\n",
        "\n",
        "class myCallback(tf.keras.callbacks.Callback):\n",
        "    def on_epoch_end(self, epoch, logs={}):\n",
        "        if (logs.get('accuracy') > 0.94):\n",
        "        #if (logs.get('auc') > 0.95):\n",
        "            print(\"\\nReached 99.8% accuracy so cancelling training!\")\n",
        "            self.model.stop_training = True\n",
        "\n",
        "callbacks = myCallback()\n",
        "\n",
        "\n",
        "# split into input (X) and output (Y) variables\n",
        "X = X_train1\n",
        "Y = y_train1\n",
        "# create model\n",
        "model = KerasClassifier(build_fn=create_model, epochs=500, batch_size=10, verbose=2)\n",
        "# define the grid search parameters\n",
        "optimizer = ['Adadelta']# ['SGD', 'RMSprop', 'Adagrad', 'Adadelta', 'Adam', 'Adamax', 'Nadam'] \n",
        "learn_rate = [0.001, 0.01, 0.1]\n",
        "momentum = [0.4, 0.6, 0.9]   #\n",
        "param_grid = dict(optimizer=optimizer,learn_rate=learn_rate, momentum=momentum)\n",
        "grid = GridSearchCV(estimator=model, param_grid=param_grid, n_jobs=-1, cv=2,verbose=2)\n",
        "grid_result = grid.fit(X, Y, callbacks=[callbacks],verbose=2)\n",
        "# summarize results\n",
        "print(\"Best: %f using %s\" % (grid_result.best_score_, grid_result.best_params_))\n",
        "means = grid_result.cv_results_['mean_test_score']\n",
        "stds = grid_result.cv_results_['std_test_score']\n",
        "params = grid_result.cv_results_['params']\n",
        "for mean, stdev, param in zip(means, stds, params):\n",
        "    print(\"%f (%f) with: %r\" % (mean, stdev, param))"
      ]
    },
    {
      "cell_type": "code",
      "execution_count": null,
      "metadata": {
        "id": "VUoo7vNC0dvt"
      },
      "outputs": [],
      "source": [
        "param_grid\n",
        "learn_rate = [0.001, 0.01, 0.1, 0.2, 0.3]\n",
        "momentum = [0.0, 0.2, 0.4, 0.6, 0.8, 0.9]"
      ]
    },
    {
      "cell_type": "code",
      "source": [
        "import tensorflow as tf\n",
        "\n",
        "tf.debugging.set_log_device_placement(True)\n",
        "\n",
        "# Place tensors on the CPU\n",
        "with tf.device('/CPU:0'):\n",
        "  a = tf.constant([[1.0, 2.0, 3.0], [4.0, 5.0, 6.0]])\n",
        "  b = tf.constant([[1.0, 2.0], [3.0, 4.0], [5.0, 6.0]])\n",
        "\n",
        "# Run on the GPU\n",
        "c = tf.matmul(a, b)\n",
        "print(c)"
      ],
      "metadata": {
        "colab": {
          "base_uri": "https://localhost:8080/"
        },
        "id": "qp5FYz9k4468",
        "outputId": "1fe2f20e-d587-41a7-82a3-de4368ad2e59"
      },
      "execution_count": null,
      "outputs": [
        {
          "output_type": "stream",
          "name": "stdout",
          "text": [
            "Executing op MatMul in device /job:localhost/replica:0/task:0/device:CPU:0\n",
            "tf.Tensor(\n",
            "[[22. 28.]\n",
            " [49. 64.]], shape=(2, 2), dtype=float32)\n"
          ]
        }
      ]
    },
    {
      "cell_type": "code",
      "source": [
        "import tensorflow as tf\n",
        "print(\"Num GPUs Available: \", len(tf.config.list_physical_devices('GPU')))"
      ],
      "metadata": {
        "colab": {
          "base_uri": "https://localhost:8080/"
        },
        "id": "M0i3CPH85RyP",
        "outputId": "d68d119b-f421-42c6-c388-1bea1077950c"
      },
      "execution_count": null,
      "outputs": [
        {
          "output_type": "stream",
          "name": "stdout",
          "text": [
            "Num GPUs Available:  0\n"
          ]
        }
      ]
    },
    {
      "cell_type": "code",
      "source": [
        "from tensorflow.python.client import device_lib\n",
        "devices = device_lib.list_local_devices()\n",
        "\n",
        "def sizeof_fmt(num, suffix='B'):\n",
        "    for unit in ['','Ki','Mi','Gi','Ti','Pi','Ei','Zi']:\n",
        "        if abs(num) < 1024.0:\n",
        "            return \"%3.1f %s%s\" % (num, unit, suffix)\n",
        "        num /= 1024.0\n",
        "    return \"%.1f%s%s\" % (num, 'Yi', suffix)\n",
        "\n",
        "for d in devices:\n",
        "    t = d.device_type\n",
        "    name = d.physical_device_desc\n",
        "    l = [item.split(':',1) for item in name.split(\", \")]\n",
        "    name_attr = dict([x for x in l if len(x)==2])\n",
        "    dev = name_attr.get('name', 'Unnamed device')\n",
        "    print(f\" {d.name} || {dev} || {t} || {sizeof_fmt(d.memory_limit)}\")"
      ],
      "metadata": {
        "colab": {
          "base_uri": "https://localhost:8080/"
        },
        "id": "zF0XZ7_B9xYf",
        "outputId": "48521cd5-cd86-4e4e-ac15-6f657f4280b4"
      },
      "execution_count": null,
      "outputs": [
        {
          "output_type": "stream",
          "name": "stdout",
          "text": [
            " /device:CPU:0 || Unnamed device || CPU || 256.0 MiB\n"
          ]
        }
      ]
    },
    {
      "cell_type": "code",
      "source": [
        "import cv2\n",
        "import numpy as np\n",
        "\n",
        "# Load Yolo\n",
        "net = cv2.dnn.readNet(\"/content/yolov3.weights\", \"/content/yolov3.cfg\")\n",
        "classes = []\n",
        "with open(\"coco.names\", \"r\") as f:\n",
        "    classes = [line.strip() for line in f.readlines()]\n",
        "layer_names = net.getLayerNames()\n",
        "output_layers = [layer_names[i[0] - 1] for i in net.getUnconnectedOutLayers()]\n",
        "print(output_layers)\n",
        "colors = np.random.uniform(0, 255, size=(len(classes), 3))\n"
      ],
      "metadata": {
        "id": "DoHx7Ibx9UO1",
        "colab": {
          "base_uri": "https://localhost:8080/"
        },
        "outputId": "3abf8b91-9242-46e9-83a6-bf76484458d4"
      },
      "execution_count": null,
      "outputs": [
        {
          "output_type": "stream",
          "name": "stdout",
          "text": [
            "['yolo_82', 'yolo_94', 'yolo_106']\n"
          ]
        }
      ]
    },
    {
      "cell_type": "code",
      "source": [
        "import cv2\n",
        "import numpy as np\n",
        "\n",
        "#___________________________________________________________________________\n",
        "\n",
        "# Load Yolo\n",
        "net = cv2.dnn.readNet(\"/content/yolov3.weights\", \"/content/yolov3.cfg\")\n",
        "classes = []\n",
        "with open(\"/content/coco.names\", \"r\") as f:\n",
        "    classes = [line.strip() for line in f.readlines()]\n",
        "layer_names = net.getLayerNames()\n",
        "output_layers = [layer_names[i[0] - 1] for i in net.getUnconnectedOutLayers()]\n",
        "colors = np.random.uniform(0, 255, size=(len(classes), 3))\n",
        "#_______________________________________________________________________\n",
        "\n",
        "#Image to be loaded and use\n",
        "img = cv2.imread(\"images/living_room.jpg\")\n",
        "cv2.imshow (\"Image\", img)\n",
        "\n",
        "cv2.waitKey(0)\n",
        "cv2.destroyAllWindows()\n",
        "#_______________________________________________________________________\n",
        "\n",
        "img = cv2.resize(img, None, fx=0.4, fy=0.4)\n",
        "height, width, channels = img.shape\n",
        "\n",
        "#______________________________________________________________________\n",
        "\n",
        "# Detecting objects\n",
        "blob = cv2.dnn.blobFromImage(img, 0.00392, (416, 416), (0, 0, 0), True, crop=False)\n",
        "net.setInput(blob)\n",
        "outs = net.forward(output_layers)\n",
        "print (outs)\n",
        "\n",
        "#__________________________________________________________________________\n",
        "\n",
        "# Showing informations on the screen\n",
        "class_ids = []\n",
        "confidences = []\n",
        "boxes = []\n",
        "for out in outs:\n",
        "    for detection in out:\n",
        "        scores = detection[5:]\n",
        "        class_id = np.argmax(scores)\n",
        "        confidence = scores[class_id]\n",
        "        if confidence > 0.5:\n",
        "            # Object detected\n",
        "            center_x = int(detection[0] * width)\n",
        "            center_y = int(detection[1] * height)\n",
        "            w = int(detection[2] * width)\n",
        "            h = int(detection[3] * height)\n",
        "\n",
        "            # Rectangle coordinates\n",
        "            x = int(center_x - w / 2)\n",
        "            y = int(center_y - h / 2)\n",
        "\n",
        "            boxes.append([x, y, w, h])\n",
        "            confidences.append(float(confidence))\n",
        "            class_ids.append(class_id)\n",
        "#_____________________________________________________________________________\n",
        "cv2.rectangle(img, (x,y),(x+w,y+h),(0,255,0),2)\n",
        "cv2.imshow(\"Image\",img)\n",
        "\n",
        "#___________________________________________________________________________\n",
        "indexes = cv2.dnn.NMSBoxes(boxes, confidences, 0.5, 0.4)\n",
        "\n",
        "#___________________________________________________________________________\n",
        "\n",
        "\n",
        "font = cv2.FONT_HERSHEY_PLAIN\n",
        "for i in range(len(boxes)):\n",
        "    if i in indexes:\n",
        "        x, y, w, h = boxes[i]\n",
        "        label = str(classes[class_ids[i]])\n",
        "        color = colors[i]\n",
        "        cv2.rectangle(img, (x, y), (x + w, y + h), color, 2)\n",
        "        cv2.putText(img, label, (x, y + 30), font, 3, color, 3)\n",
        "\n",
        "\n",
        "cv2.imshow(\"Image\", img)\n",
        "cv2.waitKey(0)\n",
        "cv2.destroyAllWindows()\n"
      ],
      "metadata": {
        "id": "i1EVOaJhvyFO"
      },
      "execution_count": null,
      "outputs": []
    }
  ],
  "metadata": {
    "colab": {
      "collapsed_sections": [
        "-dEodCO2ZHVW"
      ],
      "name": "Lending_club_loanDA_prod.ipynb",
      "provenance": [],
      "toc_visible": true
    },
    "kernelspec": {
      "display_name": "Python 3",
      "name": "python3"
    },
    "language_info": {
      "name": "python"
    }
  },
  "nbformat": 4,
  "nbformat_minor": 0
}