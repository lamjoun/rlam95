{
  "cells": [
    {
      "cell_type": "code",
      "execution_count": 1,
      "metadata": {
        "colab": {
          "base_uri": "https://localhost:8080/",
          "height": 17
        },
        "id": "D5kInbPLE2nk",
        "outputId": "c4a96408-38fe-4d36-a755-4756de6bd108"
      },
      "outputs": [
        {
          "output_type": "display_data",
          "data": {
            "text/plain": [
              "<IPython.core.display.Javascript object>"
            ],
            "application/javascript": [
              "IPython.OutputArea.auto_scroll_threshold = 9999"
            ]
          },
          "metadata": {}
        }
      ],
      "source": [
        "%%javascript\n",
        "IPython.OutputArea.auto_scroll_threshold = 9999\n"
      ]
    },
    {
      "cell_type": "code",
      "execution_count": 2,
      "metadata": {
        "id": "VMeaIPWzpOJ1"
      },
      "outputs": [],
      "source": [
        "# import warnings\n",
        "# warnings.filterwarnings('ignore')\n",
        "import pandas as pd\n",
        "import matplotlib.pyplot as plt\n",
        "%matplotlib inline\n",
        "pd.set_option('display.max_row', 100)\n",
        "pd.set_option('display.max_column', 100)"
      ]
    },
    {
      "cell_type": "markdown",
      "metadata": {
        "id": "Ub-OVpImAgBc"
      },
      "source": [
        "# **LOADING**"
      ]
    },
    {
      "cell_type": "code",
      "execution_count": 3,
      "metadata": {
        "colab": {
          "base_uri": "https://localhost:8080/",
          "height": 300
        },
        "id": "ltBpMna3nbfF",
        "outputId": "bd412224-50ca-40c3-83eb-14c071592e1b"
      },
      "outputs": [
        {
          "output_type": "execute_result",
          "data": {
            "text/plain": [
              "          user_id  Movie1  Movie2  Movie3  Movie4  Movie5  Movie6  Movie7  \\\n",
              "0  A3R5OBKS7OM2IR     5.0     5.0     NaN     NaN     NaN     NaN     NaN   \n",
              "1   AH3QC2PC1VTGP     NaN     NaN     2.0     NaN     NaN     NaN     NaN   \n",
              "2  A3LKP6WPMP9UKX     NaN     NaN     NaN     5.0     NaN     NaN     NaN   \n",
              "3   AVIY68KEPQ5ZD     NaN     NaN     NaN     5.0     NaN     NaN     NaN   \n",
              "4  A1CV1WROP5KTTW     NaN     NaN     NaN     NaN     5.0     NaN     NaN   \n",
              "\n",
              "   Movie8  Movie9  Movie10  Movie11  Movie12  Movie13  Movie14  Movie15  \\\n",
              "0     NaN     NaN      NaN      NaN      NaN      NaN      NaN      NaN   \n",
              "1     NaN     NaN      NaN      NaN      NaN      NaN      NaN      NaN   \n",
              "2     NaN     NaN      NaN      NaN      NaN      NaN      NaN      NaN   \n",
              "3     NaN     NaN      NaN      NaN      NaN      NaN      NaN      NaN   \n",
              "4     NaN     NaN      NaN      NaN      NaN      NaN      NaN      NaN   \n",
              "\n",
              "   Movie16  Movie17  Movie18  Movie19  Movie20  Movie21  Movie22  Movie23  \\\n",
              "0      NaN      NaN      NaN      NaN      NaN      NaN      NaN      NaN   \n",
              "1      NaN      NaN      NaN      NaN      NaN      NaN      NaN      NaN   \n",
              "2      NaN      NaN      NaN      NaN      NaN      NaN      NaN      NaN   \n",
              "3      NaN      NaN      NaN      NaN      NaN      NaN      NaN      NaN   \n",
              "4      NaN      NaN      NaN      NaN      NaN      NaN      NaN      NaN   \n",
              "\n",
              "   Movie24  Movie25  Movie26  Movie27  Movie28  Movie29  Movie30  Movie31  \\\n",
              "0      NaN      NaN      NaN      NaN      NaN      NaN      NaN      NaN   \n",
              "1      NaN      NaN      NaN      NaN      NaN      NaN      NaN      NaN   \n",
              "2      NaN      NaN      NaN      NaN      NaN      NaN      NaN      NaN   \n",
              "3      NaN      NaN      NaN      NaN      NaN      NaN      NaN      NaN   \n",
              "4      NaN      NaN      NaN      NaN      NaN      NaN      NaN      NaN   \n",
              "\n",
              "   Movie32  Movie33  Movie34  Movie35  Movie36  Movie37  Movie38  Movie39  \\\n",
              "0      NaN      NaN      NaN      NaN      NaN      NaN      NaN      NaN   \n",
              "1      NaN      NaN      NaN      NaN      NaN      NaN      NaN      NaN   \n",
              "2      NaN      NaN      NaN      NaN      NaN      NaN      NaN      NaN   \n",
              "3      NaN      NaN      NaN      NaN      NaN      NaN      NaN      NaN   \n",
              "4      NaN      NaN      NaN      NaN      NaN      NaN      NaN      NaN   \n",
              "\n",
              "   Movie40  Movie41  Movie42  Movie43  Movie44  Movie45  Movie46  Movie47  \\\n",
              "0      NaN      NaN      NaN      NaN      NaN      NaN      NaN      NaN   \n",
              "1      NaN      NaN      NaN      NaN      NaN      NaN      NaN      NaN   \n",
              "2      NaN      NaN      NaN      NaN      NaN      NaN      NaN      NaN   \n",
              "3      NaN      NaN      NaN      NaN      NaN      NaN      NaN      NaN   \n",
              "4      NaN      NaN      NaN      NaN      NaN      NaN      NaN      NaN   \n",
              "\n",
              "   Movie48  Movie49  ...  Movie157  Movie158  Movie159  Movie160  Movie161  \\\n",
              "0      NaN      NaN  ...       NaN       NaN       NaN       NaN       NaN   \n",
              "1      NaN      NaN  ...       NaN       NaN       NaN       NaN       NaN   \n",
              "2      NaN      NaN  ...       NaN       NaN       NaN       NaN       NaN   \n",
              "3      NaN      NaN  ...       NaN       NaN       NaN       NaN       NaN   \n",
              "4      NaN      NaN  ...       NaN       NaN       NaN       NaN       NaN   \n",
              "\n",
              "   Movie162  Movie163  Movie164  Movie165  Movie166  Movie167  Movie168  \\\n",
              "0       NaN       NaN       NaN       NaN       NaN       NaN       NaN   \n",
              "1       NaN       NaN       NaN       NaN       NaN       NaN       NaN   \n",
              "2       NaN       NaN       NaN       NaN       NaN       NaN       NaN   \n",
              "3       NaN       NaN       NaN       NaN       NaN       NaN       NaN   \n",
              "4       NaN       NaN       NaN       NaN       NaN       NaN       NaN   \n",
              "\n",
              "   Movie169  Movie170  Movie171  Movie172  Movie173  Movie174  Movie175  \\\n",
              "0       NaN       NaN       NaN       NaN       NaN       NaN       NaN   \n",
              "1       NaN       NaN       NaN       NaN       NaN       NaN       NaN   \n",
              "2       NaN       NaN       NaN       NaN       NaN       NaN       NaN   \n",
              "3       NaN       NaN       NaN       NaN       NaN       NaN       NaN   \n",
              "4       NaN       NaN       NaN       NaN       NaN       NaN       NaN   \n",
              "\n",
              "   Movie176  Movie177  Movie178  Movie179  Movie180  Movie181  Movie182  \\\n",
              "0       NaN       NaN       NaN       NaN       NaN       NaN       NaN   \n",
              "1       NaN       NaN       NaN       NaN       NaN       NaN       NaN   \n",
              "2       NaN       NaN       NaN       NaN       NaN       NaN       NaN   \n",
              "3       NaN       NaN       NaN       NaN       NaN       NaN       NaN   \n",
              "4       NaN       NaN       NaN       NaN       NaN       NaN       NaN   \n",
              "\n",
              "   Movie183  Movie184  Movie185  Movie186  Movie187  Movie188  Movie189  \\\n",
              "0       NaN       NaN       NaN       NaN       NaN       NaN       NaN   \n",
              "1       NaN       NaN       NaN       NaN       NaN       NaN       NaN   \n",
              "2       NaN       NaN       NaN       NaN       NaN       NaN       NaN   \n",
              "3       NaN       NaN       NaN       NaN       NaN       NaN       NaN   \n",
              "4       NaN       NaN       NaN       NaN       NaN       NaN       NaN   \n",
              "\n",
              "   Movie190  Movie191  Movie192  Movie193  Movie194  Movie195  Movie196  \\\n",
              "0       NaN       NaN       NaN       NaN       NaN       NaN       NaN   \n",
              "1       NaN       NaN       NaN       NaN       NaN       NaN       NaN   \n",
              "2       NaN       NaN       NaN       NaN       NaN       NaN       NaN   \n",
              "3       NaN       NaN       NaN       NaN       NaN       NaN       NaN   \n",
              "4       NaN       NaN       NaN       NaN       NaN       NaN       NaN   \n",
              "\n",
              "   Movie197  Movie198  Movie199  Movie200  Movie201  Movie202  Movie203  \\\n",
              "0       NaN       NaN       NaN       NaN       NaN       NaN       NaN   \n",
              "1       NaN       NaN       NaN       NaN       NaN       NaN       NaN   \n",
              "2       NaN       NaN       NaN       NaN       NaN       NaN       NaN   \n",
              "3       NaN       NaN       NaN       NaN       NaN       NaN       NaN   \n",
              "4       NaN       NaN       NaN       NaN       NaN       NaN       NaN   \n",
              "\n",
              "   Movie204  Movie205  Movie206  \n",
              "0       NaN       NaN       NaN  \n",
              "1       NaN       NaN       NaN  \n",
              "2       NaN       NaN       NaN  \n",
              "3       NaN       NaN       NaN  \n",
              "4       NaN       NaN       NaN  \n",
              "\n",
              "[5 rows x 207 columns]"
            ],
            "text/html": [
              "\n",
              "  <div id=\"df-7afe40cf-a697-491b-8af6-768f15aedc24\">\n",
              "    <div class=\"colab-df-container\">\n",
              "      <div>\n",
              "<style scoped>\n",
              "    .dataframe tbody tr th:only-of-type {\n",
              "        vertical-align: middle;\n",
              "    }\n",
              "\n",
              "    .dataframe tbody tr th {\n",
              "        vertical-align: top;\n",
              "    }\n",
              "\n",
              "    .dataframe thead th {\n",
              "        text-align: right;\n",
              "    }\n",
              "</style>\n",
              "<table border=\"1\" class=\"dataframe\">\n",
              "  <thead>\n",
              "    <tr style=\"text-align: right;\">\n",
              "      <th></th>\n",
              "      <th>user_id</th>\n",
              "      <th>Movie1</th>\n",
              "      <th>Movie2</th>\n",
              "      <th>Movie3</th>\n",
              "      <th>Movie4</th>\n",
              "      <th>Movie5</th>\n",
              "      <th>Movie6</th>\n",
              "      <th>Movie7</th>\n",
              "      <th>Movie8</th>\n",
              "      <th>Movie9</th>\n",
              "      <th>Movie10</th>\n",
              "      <th>Movie11</th>\n",
              "      <th>Movie12</th>\n",
              "      <th>Movie13</th>\n",
              "      <th>Movie14</th>\n",
              "      <th>Movie15</th>\n",
              "      <th>Movie16</th>\n",
              "      <th>Movie17</th>\n",
              "      <th>Movie18</th>\n",
              "      <th>Movie19</th>\n",
              "      <th>Movie20</th>\n",
              "      <th>Movie21</th>\n",
              "      <th>Movie22</th>\n",
              "      <th>Movie23</th>\n",
              "      <th>Movie24</th>\n",
              "      <th>Movie25</th>\n",
              "      <th>Movie26</th>\n",
              "      <th>Movie27</th>\n",
              "      <th>Movie28</th>\n",
              "      <th>Movie29</th>\n",
              "      <th>Movie30</th>\n",
              "      <th>Movie31</th>\n",
              "      <th>Movie32</th>\n",
              "      <th>Movie33</th>\n",
              "      <th>Movie34</th>\n",
              "      <th>Movie35</th>\n",
              "      <th>Movie36</th>\n",
              "      <th>Movie37</th>\n",
              "      <th>Movie38</th>\n",
              "      <th>Movie39</th>\n",
              "      <th>Movie40</th>\n",
              "      <th>Movie41</th>\n",
              "      <th>Movie42</th>\n",
              "      <th>Movie43</th>\n",
              "      <th>Movie44</th>\n",
              "      <th>Movie45</th>\n",
              "      <th>Movie46</th>\n",
              "      <th>Movie47</th>\n",
              "      <th>Movie48</th>\n",
              "      <th>Movie49</th>\n",
              "      <th>...</th>\n",
              "      <th>Movie157</th>\n",
              "      <th>Movie158</th>\n",
              "      <th>Movie159</th>\n",
              "      <th>Movie160</th>\n",
              "      <th>Movie161</th>\n",
              "      <th>Movie162</th>\n",
              "      <th>Movie163</th>\n",
              "      <th>Movie164</th>\n",
              "      <th>Movie165</th>\n",
              "      <th>Movie166</th>\n",
              "      <th>Movie167</th>\n",
              "      <th>Movie168</th>\n",
              "      <th>Movie169</th>\n",
              "      <th>Movie170</th>\n",
              "      <th>Movie171</th>\n",
              "      <th>Movie172</th>\n",
              "      <th>Movie173</th>\n",
              "      <th>Movie174</th>\n",
              "      <th>Movie175</th>\n",
              "      <th>Movie176</th>\n",
              "      <th>Movie177</th>\n",
              "      <th>Movie178</th>\n",
              "      <th>Movie179</th>\n",
              "      <th>Movie180</th>\n",
              "      <th>Movie181</th>\n",
              "      <th>Movie182</th>\n",
              "      <th>Movie183</th>\n",
              "      <th>Movie184</th>\n",
              "      <th>Movie185</th>\n",
              "      <th>Movie186</th>\n",
              "      <th>Movie187</th>\n",
              "      <th>Movie188</th>\n",
              "      <th>Movie189</th>\n",
              "      <th>Movie190</th>\n",
              "      <th>Movie191</th>\n",
              "      <th>Movie192</th>\n",
              "      <th>Movie193</th>\n",
              "      <th>Movie194</th>\n",
              "      <th>Movie195</th>\n",
              "      <th>Movie196</th>\n",
              "      <th>Movie197</th>\n",
              "      <th>Movie198</th>\n",
              "      <th>Movie199</th>\n",
              "      <th>Movie200</th>\n",
              "      <th>Movie201</th>\n",
              "      <th>Movie202</th>\n",
              "      <th>Movie203</th>\n",
              "      <th>Movie204</th>\n",
              "      <th>Movie205</th>\n",
              "      <th>Movie206</th>\n",
              "    </tr>\n",
              "  </thead>\n",
              "  <tbody>\n",
              "    <tr>\n",
              "      <th>0</th>\n",
              "      <td>A3R5OBKS7OM2IR</td>\n",
              "      <td>5.0</td>\n",
              "      <td>5.0</td>\n",
              "      <td>NaN</td>\n",
              "      <td>NaN</td>\n",
              "      <td>NaN</td>\n",
              "      <td>NaN</td>\n",
              "      <td>NaN</td>\n",
              "      <td>NaN</td>\n",
              "      <td>NaN</td>\n",
              "      <td>NaN</td>\n",
              "      <td>NaN</td>\n",
              "      <td>NaN</td>\n",
              "      <td>NaN</td>\n",
              "      <td>NaN</td>\n",
              "      <td>NaN</td>\n",
              "      <td>NaN</td>\n",
              "      <td>NaN</td>\n",
              "      <td>NaN</td>\n",
              "      <td>NaN</td>\n",
              "      <td>NaN</td>\n",
              "      <td>NaN</td>\n",
              "      <td>NaN</td>\n",
              "      <td>NaN</td>\n",
              "      <td>NaN</td>\n",
              "      <td>NaN</td>\n",
              "      <td>NaN</td>\n",
              "      <td>NaN</td>\n",
              "      <td>NaN</td>\n",
              "      <td>NaN</td>\n",
              "      <td>NaN</td>\n",
              "      <td>NaN</td>\n",
              "      <td>NaN</td>\n",
              "      <td>NaN</td>\n",
              "      <td>NaN</td>\n",
              "      <td>NaN</td>\n",
              "      <td>NaN</td>\n",
              "      <td>NaN</td>\n",
              "      <td>NaN</td>\n",
              "      <td>NaN</td>\n",
              "      <td>NaN</td>\n",
              "      <td>NaN</td>\n",
              "      <td>NaN</td>\n",
              "      <td>NaN</td>\n",
              "      <td>NaN</td>\n",
              "      <td>NaN</td>\n",
              "      <td>NaN</td>\n",
              "      <td>NaN</td>\n",
              "      <td>NaN</td>\n",
              "      <td>NaN</td>\n",
              "      <td>...</td>\n",
              "      <td>NaN</td>\n",
              "      <td>NaN</td>\n",
              "      <td>NaN</td>\n",
              "      <td>NaN</td>\n",
              "      <td>NaN</td>\n",
              "      <td>NaN</td>\n",
              "      <td>NaN</td>\n",
              "      <td>NaN</td>\n",
              "      <td>NaN</td>\n",
              "      <td>NaN</td>\n",
              "      <td>NaN</td>\n",
              "      <td>NaN</td>\n",
              "      <td>NaN</td>\n",
              "      <td>NaN</td>\n",
              "      <td>NaN</td>\n",
              "      <td>NaN</td>\n",
              "      <td>NaN</td>\n",
              "      <td>NaN</td>\n",
              "      <td>NaN</td>\n",
              "      <td>NaN</td>\n",
              "      <td>NaN</td>\n",
              "      <td>NaN</td>\n",
              "      <td>NaN</td>\n",
              "      <td>NaN</td>\n",
              "      <td>NaN</td>\n",
              "      <td>NaN</td>\n",
              "      <td>NaN</td>\n",
              "      <td>NaN</td>\n",
              "      <td>NaN</td>\n",
              "      <td>NaN</td>\n",
              "      <td>NaN</td>\n",
              "      <td>NaN</td>\n",
              "      <td>NaN</td>\n",
              "      <td>NaN</td>\n",
              "      <td>NaN</td>\n",
              "      <td>NaN</td>\n",
              "      <td>NaN</td>\n",
              "      <td>NaN</td>\n",
              "      <td>NaN</td>\n",
              "      <td>NaN</td>\n",
              "      <td>NaN</td>\n",
              "      <td>NaN</td>\n",
              "      <td>NaN</td>\n",
              "      <td>NaN</td>\n",
              "      <td>NaN</td>\n",
              "      <td>NaN</td>\n",
              "      <td>NaN</td>\n",
              "      <td>NaN</td>\n",
              "      <td>NaN</td>\n",
              "      <td>NaN</td>\n",
              "    </tr>\n",
              "    <tr>\n",
              "      <th>1</th>\n",
              "      <td>AH3QC2PC1VTGP</td>\n",
              "      <td>NaN</td>\n",
              "      <td>NaN</td>\n",
              "      <td>2.0</td>\n",
              "      <td>NaN</td>\n",
              "      <td>NaN</td>\n",
              "      <td>NaN</td>\n",
              "      <td>NaN</td>\n",
              "      <td>NaN</td>\n",
              "      <td>NaN</td>\n",
              "      <td>NaN</td>\n",
              "      <td>NaN</td>\n",
              "      <td>NaN</td>\n",
              "      <td>NaN</td>\n",
              "      <td>NaN</td>\n",
              "      <td>NaN</td>\n",
              "      <td>NaN</td>\n",
              "      <td>NaN</td>\n",
              "      <td>NaN</td>\n",
              "      <td>NaN</td>\n",
              "      <td>NaN</td>\n",
              "      <td>NaN</td>\n",
              "      <td>NaN</td>\n",
              "      <td>NaN</td>\n",
              "      <td>NaN</td>\n",
              "      <td>NaN</td>\n",
              "      <td>NaN</td>\n",
              "      <td>NaN</td>\n",
              "      <td>NaN</td>\n",
              "      <td>NaN</td>\n",
              "      <td>NaN</td>\n",
              "      <td>NaN</td>\n",
              "      <td>NaN</td>\n",
              "      <td>NaN</td>\n",
              "      <td>NaN</td>\n",
              "      <td>NaN</td>\n",
              "      <td>NaN</td>\n",
              "      <td>NaN</td>\n",
              "      <td>NaN</td>\n",
              "      <td>NaN</td>\n",
              "      <td>NaN</td>\n",
              "      <td>NaN</td>\n",
              "      <td>NaN</td>\n",
              "      <td>NaN</td>\n",
              "      <td>NaN</td>\n",
              "      <td>NaN</td>\n",
              "      <td>NaN</td>\n",
              "      <td>NaN</td>\n",
              "      <td>NaN</td>\n",
              "      <td>NaN</td>\n",
              "      <td>...</td>\n",
              "      <td>NaN</td>\n",
              "      <td>NaN</td>\n",
              "      <td>NaN</td>\n",
              "      <td>NaN</td>\n",
              "      <td>NaN</td>\n",
              "      <td>NaN</td>\n",
              "      <td>NaN</td>\n",
              "      <td>NaN</td>\n",
              "      <td>NaN</td>\n",
              "      <td>NaN</td>\n",
              "      <td>NaN</td>\n",
              "      <td>NaN</td>\n",
              "      <td>NaN</td>\n",
              "      <td>NaN</td>\n",
              "      <td>NaN</td>\n",
              "      <td>NaN</td>\n",
              "      <td>NaN</td>\n",
              "      <td>NaN</td>\n",
              "      <td>NaN</td>\n",
              "      <td>NaN</td>\n",
              "      <td>NaN</td>\n",
              "      <td>NaN</td>\n",
              "      <td>NaN</td>\n",
              "      <td>NaN</td>\n",
              "      <td>NaN</td>\n",
              "      <td>NaN</td>\n",
              "      <td>NaN</td>\n",
              "      <td>NaN</td>\n",
              "      <td>NaN</td>\n",
              "      <td>NaN</td>\n",
              "      <td>NaN</td>\n",
              "      <td>NaN</td>\n",
              "      <td>NaN</td>\n",
              "      <td>NaN</td>\n",
              "      <td>NaN</td>\n",
              "      <td>NaN</td>\n",
              "      <td>NaN</td>\n",
              "      <td>NaN</td>\n",
              "      <td>NaN</td>\n",
              "      <td>NaN</td>\n",
              "      <td>NaN</td>\n",
              "      <td>NaN</td>\n",
              "      <td>NaN</td>\n",
              "      <td>NaN</td>\n",
              "      <td>NaN</td>\n",
              "      <td>NaN</td>\n",
              "      <td>NaN</td>\n",
              "      <td>NaN</td>\n",
              "      <td>NaN</td>\n",
              "      <td>NaN</td>\n",
              "    </tr>\n",
              "    <tr>\n",
              "      <th>2</th>\n",
              "      <td>A3LKP6WPMP9UKX</td>\n",
              "      <td>NaN</td>\n",
              "      <td>NaN</td>\n",
              "      <td>NaN</td>\n",
              "      <td>5.0</td>\n",
              "      <td>NaN</td>\n",
              "      <td>NaN</td>\n",
              "      <td>NaN</td>\n",
              "      <td>NaN</td>\n",
              "      <td>NaN</td>\n",
              "      <td>NaN</td>\n",
              "      <td>NaN</td>\n",
              "      <td>NaN</td>\n",
              "      <td>NaN</td>\n",
              "      <td>NaN</td>\n",
              "      <td>NaN</td>\n",
              "      <td>NaN</td>\n",
              "      <td>NaN</td>\n",
              "      <td>NaN</td>\n",
              "      <td>NaN</td>\n",
              "      <td>NaN</td>\n",
              "      <td>NaN</td>\n",
              "      <td>NaN</td>\n",
              "      <td>NaN</td>\n",
              "      <td>NaN</td>\n",
              "      <td>NaN</td>\n",
              "      <td>NaN</td>\n",
              "      <td>NaN</td>\n",
              "      <td>NaN</td>\n",
              "      <td>NaN</td>\n",
              "      <td>NaN</td>\n",
              "      <td>NaN</td>\n",
              "      <td>NaN</td>\n",
              "      <td>NaN</td>\n",
              "      <td>NaN</td>\n",
              "      <td>NaN</td>\n",
              "      <td>NaN</td>\n",
              "      <td>NaN</td>\n",
              "      <td>NaN</td>\n",
              "      <td>NaN</td>\n",
              "      <td>NaN</td>\n",
              "      <td>NaN</td>\n",
              "      <td>NaN</td>\n",
              "      <td>NaN</td>\n",
              "      <td>NaN</td>\n",
              "      <td>NaN</td>\n",
              "      <td>NaN</td>\n",
              "      <td>NaN</td>\n",
              "      <td>NaN</td>\n",
              "      <td>NaN</td>\n",
              "      <td>...</td>\n",
              "      <td>NaN</td>\n",
              "      <td>NaN</td>\n",
              "      <td>NaN</td>\n",
              "      <td>NaN</td>\n",
              "      <td>NaN</td>\n",
              "      <td>NaN</td>\n",
              "      <td>NaN</td>\n",
              "      <td>NaN</td>\n",
              "      <td>NaN</td>\n",
              "      <td>NaN</td>\n",
              "      <td>NaN</td>\n",
              "      <td>NaN</td>\n",
              "      <td>NaN</td>\n",
              "      <td>NaN</td>\n",
              "      <td>NaN</td>\n",
              "      <td>NaN</td>\n",
              "      <td>NaN</td>\n",
              "      <td>NaN</td>\n",
              "      <td>NaN</td>\n",
              "      <td>NaN</td>\n",
              "      <td>NaN</td>\n",
              "      <td>NaN</td>\n",
              "      <td>NaN</td>\n",
              "      <td>NaN</td>\n",
              "      <td>NaN</td>\n",
              "      <td>NaN</td>\n",
              "      <td>NaN</td>\n",
              "      <td>NaN</td>\n",
              "      <td>NaN</td>\n",
              "      <td>NaN</td>\n",
              "      <td>NaN</td>\n",
              "      <td>NaN</td>\n",
              "      <td>NaN</td>\n",
              "      <td>NaN</td>\n",
              "      <td>NaN</td>\n",
              "      <td>NaN</td>\n",
              "      <td>NaN</td>\n",
              "      <td>NaN</td>\n",
              "      <td>NaN</td>\n",
              "      <td>NaN</td>\n",
              "      <td>NaN</td>\n",
              "      <td>NaN</td>\n",
              "      <td>NaN</td>\n",
              "      <td>NaN</td>\n",
              "      <td>NaN</td>\n",
              "      <td>NaN</td>\n",
              "      <td>NaN</td>\n",
              "      <td>NaN</td>\n",
              "      <td>NaN</td>\n",
              "      <td>NaN</td>\n",
              "    </tr>\n",
              "    <tr>\n",
              "      <th>3</th>\n",
              "      <td>AVIY68KEPQ5ZD</td>\n",
              "      <td>NaN</td>\n",
              "      <td>NaN</td>\n",
              "      <td>NaN</td>\n",
              "      <td>5.0</td>\n",
              "      <td>NaN</td>\n",
              "      <td>NaN</td>\n",
              "      <td>NaN</td>\n",
              "      <td>NaN</td>\n",
              "      <td>NaN</td>\n",
              "      <td>NaN</td>\n",
              "      <td>NaN</td>\n",
              "      <td>NaN</td>\n",
              "      <td>NaN</td>\n",
              "      <td>NaN</td>\n",
              "      <td>NaN</td>\n",
              "      <td>NaN</td>\n",
              "      <td>NaN</td>\n",
              "      <td>NaN</td>\n",
              "      <td>NaN</td>\n",
              "      <td>NaN</td>\n",
              "      <td>NaN</td>\n",
              "      <td>NaN</td>\n",
              "      <td>NaN</td>\n",
              "      <td>NaN</td>\n",
              "      <td>NaN</td>\n",
              "      <td>NaN</td>\n",
              "      <td>NaN</td>\n",
              "      <td>NaN</td>\n",
              "      <td>NaN</td>\n",
              "      <td>NaN</td>\n",
              "      <td>NaN</td>\n",
              "      <td>NaN</td>\n",
              "      <td>NaN</td>\n",
              "      <td>NaN</td>\n",
              "      <td>NaN</td>\n",
              "      <td>NaN</td>\n",
              "      <td>NaN</td>\n",
              "      <td>NaN</td>\n",
              "      <td>NaN</td>\n",
              "      <td>NaN</td>\n",
              "      <td>NaN</td>\n",
              "      <td>NaN</td>\n",
              "      <td>NaN</td>\n",
              "      <td>NaN</td>\n",
              "      <td>NaN</td>\n",
              "      <td>NaN</td>\n",
              "      <td>NaN</td>\n",
              "      <td>NaN</td>\n",
              "      <td>NaN</td>\n",
              "      <td>...</td>\n",
              "      <td>NaN</td>\n",
              "      <td>NaN</td>\n",
              "      <td>NaN</td>\n",
              "      <td>NaN</td>\n",
              "      <td>NaN</td>\n",
              "      <td>NaN</td>\n",
              "      <td>NaN</td>\n",
              "      <td>NaN</td>\n",
              "      <td>NaN</td>\n",
              "      <td>NaN</td>\n",
              "      <td>NaN</td>\n",
              "      <td>NaN</td>\n",
              "      <td>NaN</td>\n",
              "      <td>NaN</td>\n",
              "      <td>NaN</td>\n",
              "      <td>NaN</td>\n",
              "      <td>NaN</td>\n",
              "      <td>NaN</td>\n",
              "      <td>NaN</td>\n",
              "      <td>NaN</td>\n",
              "      <td>NaN</td>\n",
              "      <td>NaN</td>\n",
              "      <td>NaN</td>\n",
              "      <td>NaN</td>\n",
              "      <td>NaN</td>\n",
              "      <td>NaN</td>\n",
              "      <td>NaN</td>\n",
              "      <td>NaN</td>\n",
              "      <td>NaN</td>\n",
              "      <td>NaN</td>\n",
              "      <td>NaN</td>\n",
              "      <td>NaN</td>\n",
              "      <td>NaN</td>\n",
              "      <td>NaN</td>\n",
              "      <td>NaN</td>\n",
              "      <td>NaN</td>\n",
              "      <td>NaN</td>\n",
              "      <td>NaN</td>\n",
              "      <td>NaN</td>\n",
              "      <td>NaN</td>\n",
              "      <td>NaN</td>\n",
              "      <td>NaN</td>\n",
              "      <td>NaN</td>\n",
              "      <td>NaN</td>\n",
              "      <td>NaN</td>\n",
              "      <td>NaN</td>\n",
              "      <td>NaN</td>\n",
              "      <td>NaN</td>\n",
              "      <td>NaN</td>\n",
              "      <td>NaN</td>\n",
              "    </tr>\n",
              "    <tr>\n",
              "      <th>4</th>\n",
              "      <td>A1CV1WROP5KTTW</td>\n",
              "      <td>NaN</td>\n",
              "      <td>NaN</td>\n",
              "      <td>NaN</td>\n",
              "      <td>NaN</td>\n",
              "      <td>5.0</td>\n",
              "      <td>NaN</td>\n",
              "      <td>NaN</td>\n",
              "      <td>NaN</td>\n",
              "      <td>NaN</td>\n",
              "      <td>NaN</td>\n",
              "      <td>NaN</td>\n",
              "      <td>NaN</td>\n",
              "      <td>NaN</td>\n",
              "      <td>NaN</td>\n",
              "      <td>NaN</td>\n",
              "      <td>NaN</td>\n",
              "      <td>NaN</td>\n",
              "      <td>NaN</td>\n",
              "      <td>NaN</td>\n",
              "      <td>NaN</td>\n",
              "      <td>NaN</td>\n",
              "      <td>NaN</td>\n",
              "      <td>NaN</td>\n",
              "      <td>NaN</td>\n",
              "      <td>NaN</td>\n",
              "      <td>NaN</td>\n",
              "      <td>NaN</td>\n",
              "      <td>NaN</td>\n",
              "      <td>NaN</td>\n",
              "      <td>NaN</td>\n",
              "      <td>NaN</td>\n",
              "      <td>NaN</td>\n",
              "      <td>NaN</td>\n",
              "      <td>NaN</td>\n",
              "      <td>NaN</td>\n",
              "      <td>NaN</td>\n",
              "      <td>NaN</td>\n",
              "      <td>NaN</td>\n",
              "      <td>NaN</td>\n",
              "      <td>NaN</td>\n",
              "      <td>NaN</td>\n",
              "      <td>NaN</td>\n",
              "      <td>NaN</td>\n",
              "      <td>NaN</td>\n",
              "      <td>NaN</td>\n",
              "      <td>NaN</td>\n",
              "      <td>NaN</td>\n",
              "      <td>NaN</td>\n",
              "      <td>NaN</td>\n",
              "      <td>...</td>\n",
              "      <td>NaN</td>\n",
              "      <td>NaN</td>\n",
              "      <td>NaN</td>\n",
              "      <td>NaN</td>\n",
              "      <td>NaN</td>\n",
              "      <td>NaN</td>\n",
              "      <td>NaN</td>\n",
              "      <td>NaN</td>\n",
              "      <td>NaN</td>\n",
              "      <td>NaN</td>\n",
              "      <td>NaN</td>\n",
              "      <td>NaN</td>\n",
              "      <td>NaN</td>\n",
              "      <td>NaN</td>\n",
              "      <td>NaN</td>\n",
              "      <td>NaN</td>\n",
              "      <td>NaN</td>\n",
              "      <td>NaN</td>\n",
              "      <td>NaN</td>\n",
              "      <td>NaN</td>\n",
              "      <td>NaN</td>\n",
              "      <td>NaN</td>\n",
              "      <td>NaN</td>\n",
              "      <td>NaN</td>\n",
              "      <td>NaN</td>\n",
              "      <td>NaN</td>\n",
              "      <td>NaN</td>\n",
              "      <td>NaN</td>\n",
              "      <td>NaN</td>\n",
              "      <td>NaN</td>\n",
              "      <td>NaN</td>\n",
              "      <td>NaN</td>\n",
              "      <td>NaN</td>\n",
              "      <td>NaN</td>\n",
              "      <td>NaN</td>\n",
              "      <td>NaN</td>\n",
              "      <td>NaN</td>\n",
              "      <td>NaN</td>\n",
              "      <td>NaN</td>\n",
              "      <td>NaN</td>\n",
              "      <td>NaN</td>\n",
              "      <td>NaN</td>\n",
              "      <td>NaN</td>\n",
              "      <td>NaN</td>\n",
              "      <td>NaN</td>\n",
              "      <td>NaN</td>\n",
              "      <td>NaN</td>\n",
              "      <td>NaN</td>\n",
              "      <td>NaN</td>\n",
              "      <td>NaN</td>\n",
              "    </tr>\n",
              "  </tbody>\n",
              "</table>\n",
              "<p>5 rows × 207 columns</p>\n",
              "</div>\n",
              "      <button class=\"colab-df-convert\" onclick=\"convertToInteractive('df-7afe40cf-a697-491b-8af6-768f15aedc24')\"\n",
              "              title=\"Convert this dataframe to an interactive table.\"\n",
              "              style=\"display:none;\">\n",
              "        \n",
              "  <svg xmlns=\"http://www.w3.org/2000/svg\" height=\"24px\"viewBox=\"0 0 24 24\"\n",
              "       width=\"24px\">\n",
              "    <path d=\"M0 0h24v24H0V0z\" fill=\"none\"/>\n",
              "    <path d=\"M18.56 5.44l.94 2.06.94-2.06 2.06-.94-2.06-.94-.94-2.06-.94 2.06-2.06.94zm-11 1L8.5 8.5l.94-2.06 2.06-.94-2.06-.94L8.5 2.5l-.94 2.06-2.06.94zm10 10l.94 2.06.94-2.06 2.06-.94-2.06-.94-.94-2.06-.94 2.06-2.06.94z\"/><path d=\"M17.41 7.96l-1.37-1.37c-.4-.4-.92-.59-1.43-.59-.52 0-1.04.2-1.43.59L10.3 9.45l-7.72 7.72c-.78.78-.78 2.05 0 2.83L4 21.41c.39.39.9.59 1.41.59.51 0 1.02-.2 1.41-.59l7.78-7.78 2.81-2.81c.8-.78.8-2.07 0-2.86zM5.41 20L4 18.59l7.72-7.72 1.47 1.35L5.41 20z\"/>\n",
              "  </svg>\n",
              "      </button>\n",
              "      \n",
              "  <style>\n",
              "    .colab-df-container {\n",
              "      display:flex;\n",
              "      flex-wrap:wrap;\n",
              "      gap: 12px;\n",
              "    }\n",
              "\n",
              "    .colab-df-convert {\n",
              "      background-color: #E8F0FE;\n",
              "      border: none;\n",
              "      border-radius: 50%;\n",
              "      cursor: pointer;\n",
              "      display: none;\n",
              "      fill: #1967D2;\n",
              "      height: 32px;\n",
              "      padding: 0 0 0 0;\n",
              "      width: 32px;\n",
              "    }\n",
              "\n",
              "    .colab-df-convert:hover {\n",
              "      background-color: #E2EBFA;\n",
              "      box-shadow: 0px 1px 2px rgba(60, 64, 67, 0.3), 0px 1px 3px 1px rgba(60, 64, 67, 0.15);\n",
              "      fill: #174EA6;\n",
              "    }\n",
              "\n",
              "    [theme=dark] .colab-df-convert {\n",
              "      background-color: #3B4455;\n",
              "      fill: #D2E3FC;\n",
              "    }\n",
              "\n",
              "    [theme=dark] .colab-df-convert:hover {\n",
              "      background-color: #434B5C;\n",
              "      box-shadow: 0px 1px 3px 1px rgba(0, 0, 0, 0.15);\n",
              "      filter: drop-shadow(0px 1px 2px rgba(0, 0, 0, 0.3));\n",
              "      fill: #FFFFFF;\n",
              "    }\n",
              "  </style>\n",
              "\n",
              "      <script>\n",
              "        const buttonEl =\n",
              "          document.querySelector('#df-7afe40cf-a697-491b-8af6-768f15aedc24 button.colab-df-convert');\n",
              "        buttonEl.style.display =\n",
              "          google.colab.kernel.accessAllowed ? 'block' : 'none';\n",
              "\n",
              "        async function convertToInteractive(key) {\n",
              "          const element = document.querySelector('#df-7afe40cf-a697-491b-8af6-768f15aedc24');\n",
              "          const dataTable =\n",
              "            await google.colab.kernel.invokeFunction('convertToInteractive',\n",
              "                                                     [key], {});\n",
              "          if (!dataTable) return;\n",
              "\n",
              "          const docLinkHtml = 'Like what you see? Visit the ' +\n",
              "            '<a target=\"_blank\" href=https://colab.research.google.com/notebooks/data_table.ipynb>data table notebook</a>'\n",
              "            + ' to learn more about interactive tables.';\n",
              "          element.innerHTML = '';\n",
              "          dataTable['output_type'] = 'display_data';\n",
              "          await google.colab.output.renderOutput(dataTable, element);\n",
              "          const docLink = document.createElement('div');\n",
              "          docLink.innerHTML = docLinkHtml;\n",
              "          element.appendChild(docLink);\n",
              "        }\n",
              "      </script>\n",
              "    </div>\n",
              "  </div>\n",
              "  "
            ]
          },
          "metadata": {},
          "execution_count": 3
        }
      ],
      "source": [
        "import pandas as pd\n",
        "# Loading train data \n",
        "df_init = pd.read_csv('/content/AmazonMovies_and_TV_Ratings.csv')\n",
        "#\n",
        "df=df_init.copy(deep=True)\n",
        "# Top 5 records\n",
        "df.head()"
      ]
    },
    {
      "cell_type": "code",
      "execution_count": 4,
      "metadata": {
        "colab": {
          "base_uri": "https://localhost:8080/"
        },
        "id": "ZlwKC4J5ouKt",
        "outputId": "29730bbb-3893-4379-8362-e00eb585d208"
      },
      "outputs": [
        {
          "output_type": "execute_result",
          "data": {
            "text/plain": [
              "Index(['user_id', 'Movie1', 'Movie2', 'Movie3', 'Movie4', 'Movie5', 'Movie6',\n",
              "       'Movie7', 'Movie8', 'Movie9',\n",
              "       ...\n",
              "       'Movie197', 'Movie198', 'Movie199', 'Movie200', 'Movie201', 'Movie202',\n",
              "       'Movie203', 'Movie204', 'Movie205', 'Movie206'],\n",
              "      dtype='object', length=207)"
            ]
          },
          "metadata": {},
          "execution_count": 4
        }
      ],
      "source": [
        "df.columns"
      ]
    },
    {
      "cell_type": "code",
      "execution_count": 47,
      "metadata": {
        "colab": {
          "base_uri": "https://localhost:8080/"
        },
        "id": "JUgzNd_fot_L",
        "outputId": "33f07278-2ef0-4557-e99a-9f8d9fa10b78"
      },
      "outputs": [
        {
          "output_type": "execute_result",
          "data": {
            "text/plain": [
              "207"
            ]
          },
          "metadata": {},
          "execution_count": 47
        }
      ],
      "source": [
        "len(df.columns)"
      ]
    },
    {
      "cell_type": "code",
      "execution_count": 48,
      "metadata": {
        "colab": {
          "base_uri": "https://localhost:8080/"
        },
        "id": "RxFQvAEsr4Hp",
        "outputId": "5326fe7d-68b2-4daa-a525-b32d7aab801f"
      },
      "outputs": [
        {
          "output_type": "execute_result",
          "data": {
            "text/plain": [
              "float64    206\n",
              "object       1\n",
              "dtype: int64"
            ]
          },
          "metadata": {},
          "execution_count": 48
        }
      ],
      "source": [
        "df.dtypes.value_counts()"
      ]
    },
    {
      "cell_type": "code",
      "execution_count": 49,
      "metadata": {
        "colab": {
          "base_uri": "https://localhost:8080/",
          "height": 206
        },
        "id": "AdBQLLjRsGnK",
        "outputId": "aac07e47-3950-443e-a963-dd71615ae3e5"
      },
      "outputs": [
        {
          "output_type": "execute_result",
          "data": {
            "text/plain": [
              "          user_id\n",
              "0  A3R5OBKS7OM2IR\n",
              "1   AH3QC2PC1VTGP\n",
              "2  A3LKP6WPMP9UKX\n",
              "3   AVIY68KEPQ5ZD\n",
              "4  A1CV1WROP5KTTW"
            ],
            "text/html": [
              "\n",
              "  <div id=\"df-b5f975f9-9b99-485c-80bc-09c8cd68a083\">\n",
              "    <div class=\"colab-df-container\">\n",
              "      <div>\n",
              "<style scoped>\n",
              "    .dataframe tbody tr th:only-of-type {\n",
              "        vertical-align: middle;\n",
              "    }\n",
              "\n",
              "    .dataframe tbody tr th {\n",
              "        vertical-align: top;\n",
              "    }\n",
              "\n",
              "    .dataframe thead th {\n",
              "        text-align: right;\n",
              "    }\n",
              "</style>\n",
              "<table border=\"1\" class=\"dataframe\">\n",
              "  <thead>\n",
              "    <tr style=\"text-align: right;\">\n",
              "      <th></th>\n",
              "      <th>user_id</th>\n",
              "    </tr>\n",
              "  </thead>\n",
              "  <tbody>\n",
              "    <tr>\n",
              "      <th>0</th>\n",
              "      <td>A3R5OBKS7OM2IR</td>\n",
              "    </tr>\n",
              "    <tr>\n",
              "      <th>1</th>\n",
              "      <td>AH3QC2PC1VTGP</td>\n",
              "    </tr>\n",
              "    <tr>\n",
              "      <th>2</th>\n",
              "      <td>A3LKP6WPMP9UKX</td>\n",
              "    </tr>\n",
              "    <tr>\n",
              "      <th>3</th>\n",
              "      <td>AVIY68KEPQ5ZD</td>\n",
              "    </tr>\n",
              "    <tr>\n",
              "      <th>4</th>\n",
              "      <td>A1CV1WROP5KTTW</td>\n",
              "    </tr>\n",
              "  </tbody>\n",
              "</table>\n",
              "</div>\n",
              "      <button class=\"colab-df-convert\" onclick=\"convertToInteractive('df-b5f975f9-9b99-485c-80bc-09c8cd68a083')\"\n",
              "              title=\"Convert this dataframe to an interactive table.\"\n",
              "              style=\"display:none;\">\n",
              "        \n",
              "  <svg xmlns=\"http://www.w3.org/2000/svg\" height=\"24px\"viewBox=\"0 0 24 24\"\n",
              "       width=\"24px\">\n",
              "    <path d=\"M0 0h24v24H0V0z\" fill=\"none\"/>\n",
              "    <path d=\"M18.56 5.44l.94 2.06.94-2.06 2.06-.94-2.06-.94-.94-2.06-.94 2.06-2.06.94zm-11 1L8.5 8.5l.94-2.06 2.06-.94-2.06-.94L8.5 2.5l-.94 2.06-2.06.94zm10 10l.94 2.06.94-2.06 2.06-.94-2.06-.94-.94-2.06-.94 2.06-2.06.94z\"/><path d=\"M17.41 7.96l-1.37-1.37c-.4-.4-.92-.59-1.43-.59-.52 0-1.04.2-1.43.59L10.3 9.45l-7.72 7.72c-.78.78-.78 2.05 0 2.83L4 21.41c.39.39.9.59 1.41.59.51 0 1.02-.2 1.41-.59l7.78-7.78 2.81-2.81c.8-.78.8-2.07 0-2.86zM5.41 20L4 18.59l7.72-7.72 1.47 1.35L5.41 20z\"/>\n",
              "  </svg>\n",
              "      </button>\n",
              "      \n",
              "  <style>\n",
              "    .colab-df-container {\n",
              "      display:flex;\n",
              "      flex-wrap:wrap;\n",
              "      gap: 12px;\n",
              "    }\n",
              "\n",
              "    .colab-df-convert {\n",
              "      background-color: #E8F0FE;\n",
              "      border: none;\n",
              "      border-radius: 50%;\n",
              "      cursor: pointer;\n",
              "      display: none;\n",
              "      fill: #1967D2;\n",
              "      height: 32px;\n",
              "      padding: 0 0 0 0;\n",
              "      width: 32px;\n",
              "    }\n",
              "\n",
              "    .colab-df-convert:hover {\n",
              "      background-color: #E2EBFA;\n",
              "      box-shadow: 0px 1px 2px rgba(60, 64, 67, 0.3), 0px 1px 3px 1px rgba(60, 64, 67, 0.15);\n",
              "      fill: #174EA6;\n",
              "    }\n",
              "\n",
              "    [theme=dark] .colab-df-convert {\n",
              "      background-color: #3B4455;\n",
              "      fill: #D2E3FC;\n",
              "    }\n",
              "\n",
              "    [theme=dark] .colab-df-convert:hover {\n",
              "      background-color: #434B5C;\n",
              "      box-shadow: 0px 1px 3px 1px rgba(0, 0, 0, 0.15);\n",
              "      filter: drop-shadow(0px 1px 2px rgba(0, 0, 0, 0.3));\n",
              "      fill: #FFFFFF;\n",
              "    }\n",
              "  </style>\n",
              "\n",
              "      <script>\n",
              "        const buttonEl =\n",
              "          document.querySelector('#df-b5f975f9-9b99-485c-80bc-09c8cd68a083 button.colab-df-convert');\n",
              "        buttonEl.style.display =\n",
              "          google.colab.kernel.accessAllowed ? 'block' : 'none';\n",
              "\n",
              "        async function convertToInteractive(key) {\n",
              "          const element = document.querySelector('#df-b5f975f9-9b99-485c-80bc-09c8cd68a083');\n",
              "          const dataTable =\n",
              "            await google.colab.kernel.invokeFunction('convertToInteractive',\n",
              "                                                     [key], {});\n",
              "          if (!dataTable) return;\n",
              "\n",
              "          const docLinkHtml = 'Like what you see? Visit the ' +\n",
              "            '<a target=\"_blank\" href=https://colab.research.google.com/notebooks/data_table.ipynb>data table notebook</a>'\n",
              "            + ' to learn more about interactive tables.';\n",
              "          element.innerHTML = '';\n",
              "          dataTable['output_type'] = 'display_data';\n",
              "          await google.colab.output.renderOutput(dataTable, element);\n",
              "          const docLink = document.createElement('div');\n",
              "          docLink.innerHTML = docLinkHtml;\n",
              "          element.appendChild(docLink);\n",
              "        }\n",
              "      </script>\n",
              "    </div>\n",
              "  </div>\n",
              "  "
            ]
          },
          "metadata": {},
          "execution_count": 49
        }
      ],
      "source": [
        "df.select_dtypes('object').head()"
      ]
    },
    {
      "cell_type": "code",
      "execution_count": 50,
      "metadata": {
        "colab": {
          "base_uri": "https://localhost:8080/"
        },
        "id": "nKJ4vJnbotzt",
        "outputId": "b6d84e26-95eb-4c68-a245-9b658654d39a"
      },
      "outputs": [
        {
          "output_type": "execute_result",
          "data": {
            "text/plain": [
              "Index(['user_id', 'Movie1', 'Movie2', 'Movie3', 'Movie4', 'Movie5', 'Movie6',\n",
              "       'Movie7', 'Movie8', 'Movie9', 'Movie10', 'Movie11', 'Movie12',\n",
              "       'Movie13', 'Movie14', 'Movie15', 'Movie16', 'Movie17', 'Movie18',\n",
              "       'Movie19'],\n",
              "      dtype='object')"
            ]
          },
          "metadata": {},
          "execution_count": 50
        }
      ],
      "source": [
        "columns_t=df.columns[:20]\n",
        "columns_t"
      ]
    },
    {
      "cell_type": "code",
      "execution_count": null,
      "metadata": {
        "colab": {
          "base_uri": "https://localhost:8080/"
        },
        "id": "74sfsIibqY8t",
        "outputId": "beb0c1ed-8123-41cf-b695-94a3fa98cd1d"
      },
      "outputs": [
        {
          "name": "stdout",
          "output_type": "stream",
          "text": [
            "<class 'pandas.core.frame.DataFrame'>\n",
            "RangeIndex: 4848 entries, 0 to 4847\n",
            "Data columns (total 20 columns):\n",
            " #   Column   Non-Null Count  Dtype  \n",
            "---  ------   --------------  -----  \n",
            " 0   user_id  4848 non-null   object \n",
            " 1   Movie1   1 non-null      float64\n",
            " 2   Movie2   1 non-null      float64\n",
            " 3   Movie3   1 non-null      float64\n",
            " 4   Movie4   2 non-null      float64\n",
            " 5   Movie5   29 non-null     float64\n",
            " 6   Movie6   1 non-null      float64\n",
            " 7   Movie7   1 non-null      float64\n",
            " 8   Movie8   1 non-null      float64\n",
            " 9   Movie9   1 non-null      float64\n",
            " 10  Movie10  1 non-null      float64\n",
            " 11  Movie11  2 non-null      float64\n",
            " 12  Movie12  5 non-null      float64\n",
            " 13  Movie13  1 non-null      float64\n",
            " 14  Movie14  1 non-null      float64\n",
            " 15  Movie15  1 non-null      float64\n",
            " 16  Movie16  320 non-null    float64\n",
            " 17  Movie17  1 non-null      float64\n",
            " 18  Movie18  1 non-null      float64\n",
            " 19  Movie19  2 non-null      float64\n",
            "dtypes: float64(19), object(1)\n",
            "memory usage: 757.6+ KB\n"
          ]
        }
      ],
      "source": [
        "df_t=df[columns_t]\n",
        "df_t.info()"
      ]
    },
    {
      "cell_type": "code",
      "execution_count": null,
      "metadata": {
        "colab": {
          "base_uri": "https://localhost:8080/"
        },
        "id": "dvBUbjp8roFX",
        "outputId": "c3fa984d-5e94-4880-d0fc-051c1e75d6ce"
      },
      "outputs": [
        {
          "data": {
            "text/plain": [
              "5.0    1\n",
              "Name: Movie13, dtype: int64"
            ]
          },
          "execution_count": 11,
          "metadata": {},
          "output_type": "execute_result"
        }
      ],
      "source": [
        "df['Movie13'].value_counts()"
      ]
    },
    {
      "cell_type": "code",
      "execution_count": null,
      "metadata": {
        "colab": {
          "base_uri": "https://localhost:8080/"
        },
        "id": "WJANKL4uECe6",
        "outputId": "a27c4181-3201-42d3-9a32-aa0b3d3e7700"
      },
      "outputs": [
        {
          "data": {
            "text/plain": [
              "{1}"
            ]
          },
          "execution_count": 12,
          "metadata": {},
          "output_type": "execute_result"
        }
      ],
      "source": [
        "df_t=df[['Movie13']]\n",
        "df_t=df_t[df_t.isna()==False]\n",
        "Sr_t=df_t.value_counts()\n",
        "set(Sr_t)"
      ]
    },
    {
      "cell_type": "code",
      "execution_count": null,
      "metadata": {
        "colab": {
          "base_uri": "https://localhost:8080/"
        },
        "id": "6aixaS7mDqH8",
        "outputId": "6e5dd877-01fc-4f4b-c112-27f7d15f8562"
      },
      "outputs": [
        {
          "data": {
            "text/plain": [
              "{1.0, 2.0, 3.0, 4.0, 5.0}"
            ]
          },
          "execution_count": 23,
          "metadata": {},
          "output_type": "execute_result"
        }
      ],
      "source": [
        "set_t=get_values_of_columns(df,df.columns[1:])\n",
        "set_t"
      ]
    },
    {
      "cell_type": "code",
      "execution_count": null,
      "metadata": {
        "colab": {
          "base_uri": "https://localhost:8080/"
        },
        "id": "VrKTu5XJsp11",
        "outputId": "c52f1a26-b80c-4f86-bb6a-a937cffa4368"
      },
      "outputs": [
        {
          "data": {
            "text/plain": [
              "True     4847\n",
              "False       1\n",
              "Name: Movie14, dtype: int64"
            ]
          },
          "execution_count": 13,
          "metadata": {},
          "output_type": "execute_result"
        }
      ],
      "source": [
        "df['Movie14'].isnull().value_counts()"
      ]
    },
    {
      "cell_type": "code",
      "execution_count": null,
      "metadata": {
        "colab": {
          "base_uri": "https://localhost:8080/"
        },
        "id": "pSvL0v31tzUm",
        "outputId": "37973311-e5f9-4b82-9c36-23ba75e451b9"
      },
      "outputs": [
        {
          "data": {
            "text/plain": [
              "1"
            ]
          },
          "execution_count": 24,
          "metadata": {},
          "output_type": "execute_result"
        }
      ],
      "source": [
        "len(df[df['Movie14'].isnull()==False])"
      ]
    },
    {
      "cell_type": "code",
      "execution_count": null,
      "metadata": {
        "colab": {
          "base_uri": "https://localhost:8080/"
        },
        "id": "_-89DQiIu2Y9",
        "outputId": "1804f30d-c4e0-457c-b288-483642a1e6f6"
      },
      "outputs": [
        {
          "data": {
            "text/plain": [
              "(0.0020627062706270625, 4848)"
            ]
          },
          "execution_count": 15,
          "metadata": {},
          "output_type": "execute_result"
        }
      ],
      "source": [
        "10/len(df),len(df)"
      ]
    },
    {
      "cell_type": "code",
      "execution_count": null,
      "metadata": {
        "colab": {
          "base_uri": "https://localhost:8080/"
        },
        "id": "-4BHJnzvuTxh",
        "outputId": "3c748f8d-d8b7-4cab-dbaa-051bfcac722a"
      },
      "outputs": [
        {
          "name": "stdout",
          "output_type": "stream",
          "text": [
            "prct_df*len(df)= 24\n"
          ]
        },
        {
          "data": {
            "text/plain": [
              "17"
            ]
          },
          "execution_count": 25,
          "metadata": {},
          "output_type": "execute_result"
        }
      ],
      "source": [
        "# Movies that exceed in views a certain % of all views\n",
        "ll=[]\n",
        "prct_df=0.5/100\n",
        "print('prct_df*len(df)=',int(prct_df*len(df)))\n",
        "for col in df.columns:\n",
        "  if len(df[df[col].isnull()==False]) > prct_df*len(df):\n",
        "    ll.append(col)\n",
        "len(ll)\n",
        "    "
      ]
    },
    {
      "cell_type": "code",
      "execution_count": null,
      "metadata": {
        "colab": {
          "base_uri": "https://localhost:8080/"
        },
        "id": "PYmy7QUfvMFV",
        "outputId": "bd32a2cd-9ac6-4a68-8482-9e69de3062ab"
      },
      "outputs": [
        {
          "data": {
            "text/plain": [
              "['user_id',\n",
              " 'Movie5',\n",
              " 'Movie16',\n",
              " 'Movie29',\n",
              " 'Movie89',\n",
              " 'Movie91',\n",
              " 'Movie92',\n",
              " 'Movie103',\n",
              " 'Movie107',\n",
              " 'Movie108',\n",
              " 'Movie111',\n",
              " 'Movie127',\n",
              " 'Movie140',\n",
              " 'Movie158',\n",
              " 'Movie161',\n",
              " 'Movie182',\n",
              " 'Movie205']"
            ]
          },
          "execution_count": 27,
          "metadata": {},
          "output_type": "execute_result"
        }
      ],
      "source": [
        "# There are only 17 movies that exceed 24 rating in number\n",
        "ll # number of ratings (views)"
      ]
    },
    {
      "cell_type": "code",
      "execution_count": null,
      "metadata": {
        "colab": {
          "base_uri": "https://localhost:8080/"
        },
        "id": "CTAm99gr0Qsv",
        "outputId": "9f0ed333-0f12-4049-ceb2-31fb780f87df"
      },
      "outputs": [
        {
          "name": "stdout",
          "output_type": "stream",
          "text": [
            "---> Seuil= 0.04 , i.e. les films dont les commentaires dépassent: 200.0\n"
          ]
        },
        {
          "data": {
            "text/plain": [
              "['user_id', 'Movie16', 'Movie29', 'Movie103', 'Movie127', 'Movie140']"
            ]
          },
          "execution_count": 33,
          "metadata": {},
          "output_type": "execute_result"
        }
      ],
      "source": [
        "# movies that exceed a certain number of comments (or views)\n",
        "ll=get_above_threshold(df,200/len(df))\n",
        "ll"
      ]
    },
    {
      "cell_type": "code",
      "execution_count": null,
      "metadata": {
        "colab": {
          "base_uri": "https://localhost:8080/"
        },
        "id": "u3cauR9WwCiu",
        "outputId": "3f8b7bef-07c4-4478-f352-342c4b2e5261"
      },
      "outputs": [
        {
          "data": {
            "text/plain": [
              "['user_id', 'Movie16', 'Movie29', 'Movie103', 'Movie127', 'Movie140']"
            ]
          },
          "execution_count": 34,
          "metadata": {},
          "output_type": "execute_result"
        }
      ],
      "source": [
        "ll"
      ]
    },
    {
      "cell_type": "code",
      "execution_count": null,
      "metadata": {
        "colab": {
          "base_uri": "https://localhost:8080/",
          "height": 283
        },
        "id": "FI2zrwgbxbCV",
        "outputId": "13783901-f708-4453-e85c-06807e73508f"
      },
      "outputs": [
        {
          "data": {
            "text/plain": [
              "<matplotlib.axes._subplots.AxesSubplot at 0x7f0a0e682310>"
            ]
          },
          "execution_count": 35,
          "metadata": {},
          "output_type": "execute_result"
        },
        {
          "data": {
            "image/png": "[encoded data removed]",
            "text/plain": [
              "<Figure size 432x288 with 1 Axes>"
            ]
          },
          "metadata": {},
          "output_type": "display_data"
        }
      ],
      "source": [
        "df.describe().T['mean'].plot(bins=17, kind='hist')"
      ]
    },
    {
      "cell_type": "code",
      "execution_count": null,
      "metadata": {
        "colab": {
          "base_uri": "https://localhost:8080/",
          "height": 282
        },
        "id": "G7tgtLNvyE6x",
        "outputId": "c8b33845-f478-4d3b-9c1d-ef14d586411e"
      },
      "outputs": [
        {
          "data": {
            "text/plain": [
              "<matplotlib.axes._subplots.AxesSubplot at 0x7f0a0e7872d0>"
            ]
          },
          "execution_count": 36,
          "metadata": {},
          "output_type": "execute_result"
        },
        {
          "data": {
            "image/png": "[encoded data removed]",
            "text/plain": [
              "<Figure size 432x288 with 1 Axes>"
            ]
          },
          "metadata": {},
          "output_type": "display_data"
        }
      ],
      "source": [
        "df.describe().T['count'].plot(bins=17, kind='hist')"
      ]
    },
    {
      "cell_type": "code",
      "execution_count": null,
      "metadata": {
        "colab": {
          "base_uri": "https://localhost:8080/"
        },
        "id": "n2MkDD5Ny_Dl",
        "outputId": "2c9ff050-9291-4b2a-d8a1-6e46864b369b"
      },
      "outputs": [
        {
          "name": "stdout",
          "output_type": "stream",
          "text": [
            "---> Seuil= 0.1 , i.e. les films dont les commentaires dépassent: 500.0\n"
          ]
        },
        {
          "data": {
            "text/plain": [
              "['user_id', 'Movie127', 'Movie140']"
            ]
          },
          "execution_count": 38,
          "metadata": {},
          "output_type": "execute_result"
        }
      ],
      "source": [
        "ll=get_above_threshold(df,500/len(df))\n",
        "ll"
      ]
    },
    {
      "cell_type": "code",
      "execution_count": null,
      "metadata": {
        "colab": {
          "base_uri": "https://localhost:8080/"
        },
        "id": "2UmpeKEb1Pk0",
        "outputId": "741bda4e-9295-4005-dc60-e1593ee70e4e"
      },
      "outputs": [
        {
          "name": "stdout",
          "output_type": "stream",
          "text": [
            "---> Seuil= 0.41 , i.e. les films dont les commentaires dépassent: 2000.0\n"
          ]
        },
        {
          "data": {
            "text/plain": [
              "['user_id', 'Movie127']"
            ]
          },
          "execution_count": 39,
          "metadata": {},
          "output_type": "execute_result"
        }
      ],
      "source": [
        "ll=get_above_threshold(df,2000/len(df))\n",
        "ll"
      ]
    },
    {
      "cell_type": "code",
      "execution_count": null,
      "metadata": {
        "colab": {
          "base_uri": "https://localhost:8080/",
          "height": 81
        },
        "id": "OUlWpDz92PQM",
        "outputId": "5a1ef445-4b05-4bd2-ca75-9529e85b813e"
      },
      "outputs": [
        {
          "data": {
            "text/html": [
              "\n",
              "  <div id=\"df-b64fb7db-e69e-4184-9dcf-0cdd564350bf\">\n",
              "    <div class=\"colab-df-container\">\n",
              "      <div>\n",
              "<style scoped>\n",
              "    .dataframe tbody tr th:only-of-type {\n",
              "        vertical-align: middle;\n",
              "    }\n",
              "\n",
              "    .dataframe tbody tr th {\n",
              "        vertical-align: top;\n",
              "    }\n",
              "\n",
              "    .dataframe thead th {\n",
              "        text-align: right;\n",
              "    }\n",
              "</style>\n",
              "<table border=\"1\" class=\"dataframe\">\n",
              "  <thead>\n",
              "    <tr style=\"text-align: right;\">\n",
              "      <th></th>\n",
              "      <th>count</th>\n",
              "    </tr>\n",
              "  </thead>\n",
              "  <tbody>\n",
              "    <tr>\n",
              "      <th>Movie127</th>\n",
              "      <td>True</td>\n",
              "    </tr>\n",
              "  </tbody>\n",
              "</table>\n",
              "</div>\n",
              "      <button class=\"colab-df-convert\" onclick=\"convertToInteractive('df-b64fb7db-e69e-4184-9dcf-0cdd564350bf')\"\n",
              "              title=\"Convert this dataframe to an interactive table.\"\n",
              "              style=\"display:none;\">\n",
              "        \n",
              "  <svg xmlns=\"http://www.w3.org/2000/svg\" height=\"24px\"viewBox=\"0 0 24 24\"\n",
              "       width=\"24px\">\n",
              "    <path d=\"M0 0h24v24H0V0z\" fill=\"none\"/>\n",
              "    <path d=\"M18.56 5.44l.94 2.06.94-2.06 2.06-.94-2.06-.94-.94-2.06-.94 2.06-2.06.94zm-11 1L8.5 8.5l.94-2.06 2.06-.94-2.06-.94L8.5 2.5l-.94 2.06-2.06.94zm10 10l.94 2.06.94-2.06 2.06-.94-2.06-.94-.94-2.06-.94 2.06-2.06.94z\"/><path d=\"M17.41 7.96l-1.37-1.37c-.4-.4-.92-.59-1.43-.59-.52 0-1.04.2-1.43.59L10.3 9.45l-7.72 7.72c-.78.78-.78 2.05 0 2.83L4 21.41c.39.39.9.59 1.41.59.51 0 1.02-.2 1.41-.59l7.78-7.78 2.81-2.81c.8-.78.8-2.07 0-2.86zM5.41 20L4 18.59l7.72-7.72 1.47 1.35L5.41 20z\"/>\n",
              "  </svg>\n",
              "      </button>\n",
              "      \n",
              "  <style>\n",
              "    .colab-df-container {\n",
              "      display:flex;\n",
              "      flex-wrap:wrap;\n",
              "      gap: 12px;\n",
              "    }\n",
              "\n",
              "    .colab-df-convert {\n",
              "      background-color: #E8F0FE;\n",
              "      border: none;\n",
              "      border-radius: 50%;\n",
              "      cursor: pointer;\n",
              "      display: none;\n",
              "      fill: #1967D2;\n",
              "      height: 32px;\n",
              "      padding: 0 0 0 0;\n",
              "      width: 32px;\n",
              "    }\n",
              "\n",
              "    .colab-df-convert:hover {\n",
              "      background-color: #E2EBFA;\n",
              "      box-shadow: 0px 1px 2px rgba(60, 64, 67, 0.3), 0px 1px 3px 1px rgba(60, 64, 67, 0.15);\n",
              "      fill: #174EA6;\n",
              "    }\n",
              "\n",
              "    [theme=dark] .colab-df-convert {\n",
              "      background-color: #3B4455;\n",
              "      fill: #D2E3FC;\n",
              "    }\n",
              "\n",
              "    [theme=dark] .colab-df-convert:hover {\n",
              "      background-color: #434B5C;\n",
              "      box-shadow: 0px 1px 3px 1px rgba(0, 0, 0, 0.15);\n",
              "      filter: drop-shadow(0px 1px 2px rgba(0, 0, 0, 0.3));\n",
              "      fill: #FFFFFF;\n",
              "    }\n",
              "  </style>\n",
              "\n",
              "      <script>\n",
              "        const buttonEl =\n",
              "          document.querySelector('#df-b64fb7db-e69e-4184-9dcf-0cdd564350bf button.colab-df-convert');\n",
              "        buttonEl.style.display =\n",
              "          google.colab.kernel.accessAllowed ? 'block' : 'none';\n",
              "\n",
              "        async function convertToInteractive(key) {\n",
              "          const element = document.querySelector('#df-b64fb7db-e69e-4184-9dcf-0cdd564350bf');\n",
              "          const dataTable =\n",
              "            await google.colab.kernel.invokeFunction('convertToInteractive',\n",
              "                                                     [key], {});\n",
              "          if (!dataTable) return;\n",
              "\n",
              "          const docLinkHtml = 'Like what you see? Visit the ' +\n",
              "            '<a target=\"_blank\" href=https://colab.research.google.com/notebooks/data_table.ipynb>data table notebook</a>'\n",
              "            + ' to learn more about interactive tables.';\n",
              "          element.innerHTML = '';\n",
              "          dataTable['output_type'] = 'display_data';\n",
              "          await google.colab.output.renderOutput(dataTable, element);\n",
              "          const docLink = document.createElement('div');\n",
              "          docLink.innerHTML = docLinkHtml;\n",
              "          element.appendChild(docLink);\n",
              "        }\n",
              "      </script>\n",
              "    </div>\n",
              "  </div>\n",
              "  "
            ],
            "text/plain": [
              "          count\n",
              "Movie127   True"
            ]
          },
          "execution_count": 40,
          "metadata": {},
          "output_type": "execute_result"
        }
      ],
      "source": [
        "tt=(df.describe().T['count']> 2000)==True\n",
        "tt_df=pd.DataFrame(tt)\n",
        "tt_df[tt_df['count']==True]"
      ]
    },
    {
      "cell_type": "code",
      "execution_count": null,
      "metadata": {
        "colab": {
          "base_uri": "https://localhost:8080/"
        },
        "id": "uIRFXwbA4OFN",
        "outputId": "72db3aa6-6c39-4562-888a-a749137d9b5f"
      },
      "outputs": [
        {
          "data": {
            "text/plain": [
              "2313.0"
            ]
          },
          "execution_count": 41,
          "metadata": {},
          "output_type": "execute_result"
        }
      ],
      "source": [
        "df.describe().T['count'].max()"
      ]
    },
    {
      "cell_type": "markdown",
      "metadata": {
        "id": "Qth9yxdbK_o0"
      },
      "source": [
        "## **1.\tWhich movies have maximum views ?**"
      ]
    },
    {
      "cell_type": "code",
      "source": [
        "# Max views\n",
        "Sr=(df.describe().T['count']== df.describe().T['count'].max())\n",
        "list(Sr[Sr==True].index)"
      ],
      "metadata": {
        "colab": {
          "base_uri": "https://localhost:8080/"
        },
        "id": "2XdIaz4g2LfL",
        "outputId": "a9900dc4-d062-4457-e3fd-eebb25514830"
      },
      "execution_count": null,
      "outputs": [
        {
          "output_type": "execute_result",
          "data": {
            "text/plain": [
              "['Movie127']"
            ]
          },
          "metadata": {},
          "execution_count": 35
        }
      ]
    },
    {
      "cell_type": "code",
      "source": [
        "# Or\n",
        "max_view=df.describe().T['count'].max()\n",
        "serie_max_view=df.describe().T['count']== max_view\n",
        "df_t=serie_max_view.to_frame()\n",
        "list(df_t[df_t['count']==True].index)"
      ],
      "metadata": {
        "colab": {
          "base_uri": "https://localhost:8080/"
        },
        "id": "BG93a5DCUuM6",
        "outputId": "d9e99994-737d-457f-8692-1e3a1fd4e1d1"
      },
      "execution_count": null,
      "outputs": [
        {
          "output_type": "execute_result",
          "data": {
            "text/plain": [
              "['Movie127']"
            ]
          },
          "metadata": {},
          "execution_count": 15
        }
      ]
    },
    {
      "cell_type": "code",
      "execution_count": null,
      "metadata": {
        "colab": {
          "base_uri": "https://localhost:8080/"
        },
        "id": "iAYGXTtjVCmG",
        "outputId": "8afb86a3-e511-4426-d763-91e7bf9dc501"
      },
      "outputs": [
        {
          "data": {
            "text/plain": [
              "Movie127    2313.0\n",
              "Movie140     578.0\n",
              "Movie16      320.0\n",
              "Movie103     272.0\n",
              "Movie29      243.0\n",
              "             ...  \n",
              "Movie54        1.0\n",
              "Movie116       1.0\n",
              "Movie115       1.0\n",
              "Movie55        1.0\n",
              "Movie1         1.0\n",
              "Name: count, Length: 206, dtype: float64"
            ]
          },
          "execution_count": 44,
          "metadata": {},
          "output_type": "execute_result"
        }
      ],
      "source": [
        "# Another manner max view reminder: T['count'] compte le nombre de lignes de la colonne\n",
        "df.describe().T['count'].sort_values(ascending=False)"
      ]
    },
    {
      "cell_type": "markdown",
      "metadata": {
        "id": "_rS1Kp90UG9k"
      },
      "source": [
        "## **2.\tWhich movies have maximum ratings ?**"
      ]
    },
    {
      "cell_type": "code",
      "execution_count": null,
      "metadata": {
        "colab": {
          "base_uri": "https://localhost:8080/"
        },
        "id": "SGcAXGH98BPs",
        "outputId": "5dacfebd-fc03-40eb-cf38-792fd30dbcfd"
      },
      "outputs": [
        {
          "output_type": "execute_result",
          "data": {
            "text/plain": [
              "Movie127    9511.0\n",
              "Movie140    2794.0\n",
              "Movie16     1446.0\n",
              "Movie103    1241.0\n",
              "Movie29     1168.0\n",
              "             ...  \n",
              "Movie154       1.0\n",
              "Movie144       1.0\n",
              "Movie69        1.0\n",
              "Movie60        1.0\n",
              "Movie67        1.0\n",
              "Length: 206, dtype: float64"
            ]
          },
          "metadata": {},
          "execution_count": 36
        }
      ],
      "source": [
        "# sum column values\n",
        "obj_t=df[df.columns[1:]].sum().sort_values(ascending=False) # except the first column user_id\n",
        "obj_t"
      ]
    },
    {
      "cell_type": "code",
      "execution_count": null,
      "metadata": {
        "colab": {
          "base_uri": "https://localhost:8080/"
        },
        "id": "s-mgxNGi_F0U",
        "outputId": "7319da9f-2ebc-44df-a383-9698a747cbf0"
      },
      "outputs": [
        {
          "output_type": "execute_result",
          "data": {
            "text/plain": [
              "9511.0"
            ]
          },
          "metadata": {},
          "execution_count": 37
        }
      ],
      "source": [
        "obj_t.max()"
      ]
    },
    {
      "cell_type": "code",
      "execution_count": null,
      "metadata": {
        "colab": {
          "base_uri": "https://localhost:8080/"
        },
        "id": "4kEjZbk-_892",
        "outputId": "6a9765f0-b38b-41a5-837d-22d9c56477b6"
      },
      "outputs": [
        {
          "output_type": "execute_result",
          "data": {
            "text/plain": [
              "['Movie127']"
            ]
          },
          "metadata": {},
          "execution_count": 38
        }
      ],
      "source": [
        "obj_t_fr=pd.DataFrame(obj_t,columns=['rating_cumul'])  # fr_t=obj_t.to_frame()\n",
        "list(obj_t_fr[obj_t_fr['rating_cumul']==obj_t.max()].index)"
      ]
    },
    {
      "cell_type": "markdown",
      "metadata": {
        "id": "zxM5n9iKTx50"
      },
      "source": [
        "## **3.\tDefine the top 5 movies with the maximum ratings**"
      ]
    },
    {
      "cell_type": "code",
      "source": [
        "#----------------------\n",
        "#--- Five first with max rating\n",
        "#---------------------\n",
        "list((df[df.columns[1:]].sum().sort_values(ascending=False)[:5]).index)"
      ],
      "metadata": {
        "colab": {
          "base_uri": "https://localhost:8080/"
        },
        "id": "-p0BWesw0P78",
        "outputId": "4244cd7f-de8f-46a5-a093-8407dde99d4d"
      },
      "execution_count": null,
      "outputs": [
        {
          "output_type": "execute_result",
          "data": {
            "text/plain": [
              "['Movie127', 'Movie140', 'Movie16', 'Movie103', 'Movie29']"
            ]
          },
          "metadata": {},
          "execution_count": 6
        }
      ]
    },
    {
      "cell_type": "code",
      "execution_count": null,
      "metadata": {
        "colab": {
          "base_uri": "https://localhost:8080/",
          "height": 206
        },
        "id": "Q-TXqrfu-1jG",
        "outputId": "a6ace3b9-2b7e-4821-adc2-03b00de7bc36"
      },
      "outputs": [
        {
          "data": {
            "text/html": [
              "\n",
              "  <div id=\"df-e7d50ce6-6d8e-4a54-8f6c-873befa8d061\">\n",
              "    <div class=\"colab-df-container\">\n",
              "      <div>\n",
              "<style scoped>\n",
              "    .dataframe tbody tr th:only-of-type {\n",
              "        vertical-align: middle;\n",
              "    }\n",
              "\n",
              "    .dataframe tbody tr th {\n",
              "        vertical-align: top;\n",
              "    }\n",
              "\n",
              "    .dataframe thead th {\n",
              "        text-align: right;\n",
              "    }\n",
              "</style>\n",
              "<table border=\"1\" class=\"dataframe\">\n",
              "  <thead>\n",
              "    <tr style=\"text-align: right;\">\n",
              "      <th></th>\n",
              "      <th>rating_cumul</th>\n",
              "    </tr>\n",
              "  </thead>\n",
              "  <tbody>\n",
              "    <tr>\n",
              "      <th>Movie127</th>\n",
              "      <td>9511.0</td>\n",
              "    </tr>\n",
              "    <tr>\n",
              "      <th>Movie140</th>\n",
              "      <td>2794.0</td>\n",
              "    </tr>\n",
              "    <tr>\n",
              "      <th>Movie16</th>\n",
              "      <td>1446.0</td>\n",
              "    </tr>\n",
              "    <tr>\n",
              "      <th>Movie103</th>\n",
              "      <td>1241.0</td>\n",
              "    </tr>\n",
              "    <tr>\n",
              "      <th>Movie29</th>\n",
              "      <td>1168.0</td>\n",
              "    </tr>\n",
              "  </tbody>\n",
              "</table>\n",
              "</div>\n",
              "      <button class=\"colab-df-convert\" onclick=\"convertToInteractive('df-e7d50ce6-6d8e-4a54-8f6c-873befa8d061')\"\n",
              "              title=\"Convert this dataframe to an interactive table.\"\n",
              "              style=\"display:none;\">\n",
              "        \n",
              "  <svg xmlns=\"http://www.w3.org/2000/svg\" height=\"24px\"viewBox=\"0 0 24 24\"\n",
              "       width=\"24px\">\n",
              "    <path d=\"M0 0h24v24H0V0z\" fill=\"none\"/>\n",
              "    <path d=\"M18.56 5.44l.94 2.06.94-2.06 2.06-.94-2.06-.94-.94-2.06-.94 2.06-2.06.94zm-11 1L8.5 8.5l.94-2.06 2.06-.94-2.06-.94L8.5 2.5l-.94 2.06-2.06.94zm10 10l.94 2.06.94-2.06 2.06-.94-2.06-.94-.94-2.06-.94 2.06-2.06.94z\"/><path d=\"M17.41 7.96l-1.37-1.37c-.4-.4-.92-.59-1.43-.59-.52 0-1.04.2-1.43.59L10.3 9.45l-7.72 7.72c-.78.78-.78 2.05 0 2.83L4 21.41c.39.39.9.59 1.41.59.51 0 1.02-.2 1.41-.59l7.78-7.78 2.81-2.81c.8-.78.8-2.07 0-2.86zM5.41 20L4 18.59l7.72-7.72 1.47 1.35L5.41 20z\"/>\n",
              "  </svg>\n",
              "      </button>\n",
              "      \n",
              "  <style>\n",
              "    .colab-df-container {\n",
              "      display:flex;\n",
              "      flex-wrap:wrap;\n",
              "      gap: 12px;\n",
              "    }\n",
              "\n",
              "    .colab-df-convert {\n",
              "      background-color: #E8F0FE;\n",
              "      border: none;\n",
              "      border-radius: 50%;\n",
              "      cursor: pointer;\n",
              "      display: none;\n",
              "      fill: #1967D2;\n",
              "      height: 32px;\n",
              "      padding: 0 0 0 0;\n",
              "      width: 32px;\n",
              "    }\n",
              "\n",
              "    .colab-df-convert:hover {\n",
              "      background-color: #E2EBFA;\n",
              "      box-shadow: 0px 1px 2px rgba(60, 64, 67, 0.3), 0px 1px 3px 1px rgba(60, 64, 67, 0.15);\n",
              "      fill: #174EA6;\n",
              "    }\n",
              "\n",
              "    [theme=dark] .colab-df-convert {\n",
              "      background-color: #3B4455;\n",
              "      fill: #D2E3FC;\n",
              "    }\n",
              "\n",
              "    [theme=dark] .colab-df-convert:hover {\n",
              "      background-color: #434B5C;\n",
              "      box-shadow: 0px 1px 3px 1px rgba(0, 0, 0, 0.15);\n",
              "      filter: drop-shadow(0px 1px 2px rgba(0, 0, 0, 0.3));\n",
              "      fill: #FFFFFF;\n",
              "    }\n",
              "  </style>\n",
              "\n",
              "      <script>\n",
              "        const buttonEl =\n",
              "          document.querySelector('#df-e7d50ce6-6d8e-4a54-8f6c-873befa8d061 button.colab-df-convert');\n",
              "        buttonEl.style.display =\n",
              "          google.colab.kernel.accessAllowed ? 'block' : 'none';\n",
              "\n",
              "        async function convertToInteractive(key) {\n",
              "          const element = document.querySelector('#df-e7d50ce6-6d8e-4a54-8f6c-873befa8d061');\n",
              "          const dataTable =\n",
              "            await google.colab.kernel.invokeFunction('convertToInteractive',\n",
              "                                                     [key], {});\n",
              "          if (!dataTable) return;\n",
              "\n",
              "          const docLinkHtml = 'Like what you see? Visit the ' +\n",
              "            '<a target=\"_blank\" href=https://colab.research.google.com/notebooks/data_table.ipynb>data table notebook</a>'\n",
              "            + ' to learn more about interactive tables.';\n",
              "          element.innerHTML = '';\n",
              "          dataTable['output_type'] = 'display_data';\n",
              "          await google.colab.output.renderOutput(dataTable, element);\n",
              "          const docLink = document.createElement('div');\n",
              "          docLink.innerHTML = docLinkHtml;\n",
              "          element.appendChild(docLink);\n",
              "        }\n",
              "      </script>\n",
              "    </div>\n",
              "  </div>\n",
              "  "
            ],
            "text/plain": [
              "          rating_cumul\n",
              "Movie127        9511.0\n",
              "Movie140        2794.0\n",
              "Movie16         1446.0\n",
              "Movie103        1241.0\n",
              "Movie29         1168.0"
            ]
          },
          "execution_count": 12,
          "metadata": {},
          "output_type": "execute_result"
        }
      ],
      "source": [
        "# or \n",
        "obj_t_fr[:5]"
      ]
    },
    {
      "cell_type": "code",
      "execution_count": null,
      "metadata": {
        "colab": {
          "base_uri": "https://localhost:8080/"
        },
        "id": "4NgCBpkV-hrz",
        "outputId": "69c5eb88-a2c4-40ae-ed0b-53cbd91a1ee2"
      },
      "outputs": [
        {
          "data": {
            "text/plain": [
              "pandas.core.series.Series"
            ]
          },
          "execution_count": 46,
          "metadata": {},
          "output_type": "execute_result"
        }
      ],
      "source": [
        "type(obj_t)"
      ]
    },
    {
      "cell_type": "code",
      "execution_count": null,
      "metadata": {
        "colab": {
          "base_uri": "https://localhost:8080/"
        },
        "id": "IjwFN_bj_dsW",
        "outputId": "6b939c3c-22a4-4176-b16f-fbff35964f41"
      },
      "outputs": [
        {
          "data": {
            "text/plain": [
              "['Movie127']"
            ]
          },
          "execution_count": 51,
          "metadata": {},
          "output_type": "execute_result"
        }
      ],
      "source": [
        "#------------------\n",
        "#--max rating\n",
        "#------------------\n",
        "max_rating_list=list(fr_t[fr_t[0]==9511.0].index)\n",
        "max_rating_list"
      ]
    },
    {
      "cell_type": "code",
      "execution_count": null,
      "metadata": {
        "colab": {
          "base_uri": "https://localhost:8080/"
        },
        "id": "SyLxgIhyAx58",
        "outputId": "75d63839-73c8-4c93-a4d8-dec649e50a14"
      },
      "outputs": [
        {
          "data": {
            "text/plain": [
              "(['Movie127'], ['Movie127'])"
            ]
          },
          "execution_count": 52,
          "metadata": {},
          "output_type": "execute_result"
        }
      ],
      "source": [
        "max_rating_list,max_views_list"
      ]
    },
    {
      "cell_type": "markdown",
      "metadata": {
        "id": "4_48oSpAVNXU"
      },
      "source": [
        "## **4.\tWhat is the average rating for each movie ?**"
      ]
    },
    {
      "cell_type": "code",
      "execution_count": null,
      "metadata": {
        "colab": {
          "base_uri": "https://localhost:8080/"
        },
        "id": "9AaO91j-BMff",
        "outputId": "345dc121-9b68-45e3-f1f5-8cd0ce1ad00f"
      },
      "outputs": [
        {
          "output_type": "execute_result",
          "data": {
            "text/plain": [
              "Movie154    1.00\n",
              "Movie69     1.00\n",
              "Movie90     1.83\n",
              "Movie59     2.00\n",
              "Movie53     2.00\n",
              "Movie3      2.00\n",
              "Movie73     2.00\n",
              "Movie171    2.00\n",
              "Movie159    3.00\n",
              "Movie20     3.00\n",
              "Movie26     3.00\n",
              "Movie83     3.00\n",
              "Movie64     3.00\n",
              "dtype: float64"
            ]
          },
          "metadata": {},
          "execution_count": 77
        }
      ],
      "source": [
        "obj_t=df[df.columns[1:]].mean().sort_values(ascending=True).round(2)  \n",
        "obj_t[5:18]"
      ]
    },
    {
      "cell_type": "markdown",
      "metadata": {
        "id": "DipLP90NOEfK"
      },
      "source": [
        "## **5.\tDefine the top 5 movies with the least audience**"
      ]
    },
    {
      "cell_type": "code",
      "execution_count": null,
      "metadata": {
        "colab": {
          "base_uri": "https://localhost:8080/"
        },
        "id": "H40OHrLGXans",
        "outputId": "767ed97c-20c7-47c1-fd25-801565cb5745"
      },
      "outputs": [
        {
          "output_type": "execute_result",
          "data": {
            "text/plain": [
              "['Movie1', 'Movie71', 'Movie145', 'Movie69', 'Movie68']"
            ]
          },
          "metadata": {},
          "execution_count": 73
        }
      ],
      "source": [
        "#------------------\n",
        "#--least views (audience)\n",
        "#------------------\n",
        "series_t=df.describe().T['count'].sort_values(ascending=True)[:5]\n",
        "list(series_t.index)"
      ]
    },
    {
      "cell_type": "markdown",
      "source": [
        "## 6. The best movies that had the most 5 in rating"
      ],
      "metadata": {
        "id": "TMgdURokO4HH"
      }
    },
    {
      "cell_type": "code",
      "execution_count": null,
      "metadata": {
        "colab": {
          "base_uri": "https://localhost:8080/"
        },
        "id": "HigPevBeBl_N",
        "outputId": "aba785af-c5a2-41cb-a651-583849bc57e3"
      },
      "outputs": [
        {
          "output_type": "execute_result",
          "data": {
            "text/plain": [
              "176"
            ]
          },
          "metadata": {},
          "execution_count": 43
        }
      ],
      "source": [
        "S_max_obj_t=df[df.columns[1:]].max().sort_values(ascending=False)\n",
        "len(obj_t[S_max_obj_t==5])"
      ]
    },
    {
      "cell_type": "code",
      "execution_count": null,
      "metadata": {
        "colab": {
          "base_uri": "https://localhost:8080/"
        },
        "id": "7aj-aItgCJTk",
        "outputId": "0b36d372-904c-40e6-ce82-98b8b7a2914a"
      },
      "outputs": [
        {
          "output_type": "execute_result",
          "data": {
            "text/plain": [
              "['Movie1', 'Movie151', 'Movie127', 'Movie128', 'Movie129']"
            ]
          },
          "metadata": {},
          "execution_count": 42
        }
      ],
      "source": [
        "list(S_max_obj_t[:5].index)"
      ]
    },
    {
      "cell_type": "code",
      "execution_count": null,
      "metadata": {
        "colab": {
          "base_uri": "https://localhost:8080/",
          "height": 328
        },
        "id": "XKfK1EaSK6hl",
        "outputId": "6487159c-5c70-475f-800c-57dea716dcd0"
      },
      "outputs": [
        {
          "name": "stdout",
          "output_type": "stream",
          "text": [
            "Movie16 213.0\n",
            "Movie29 215.0\n",
            "Movie103 215.0\n",
            "Movie127 1512.0\n",
            "Movie140 523.0\n",
            "len(list_movies),len(list_count_5)\n",
            "206 206\n"
          ]
        },
        {
          "data": {
            "text/html": [
              "\n",
              "  <div id=\"df-01c8152d-9b1f-438d-bf93-2fecaa6dd2cf\">\n",
              "    <div class=\"colab-df-container\">\n",
              "      <div>\n",
              "<style scoped>\n",
              "    .dataframe tbody tr th:only-of-type {\n",
              "        vertical-align: middle;\n",
              "    }\n",
              "\n",
              "    .dataframe tbody tr th {\n",
              "        vertical-align: top;\n",
              "    }\n",
              "\n",
              "    .dataframe thead th {\n",
              "        text-align: right;\n",
              "    }\n",
              "</style>\n",
              "<table border=\"1\" class=\"dataframe\">\n",
              "  <thead>\n",
              "    <tr style=\"text-align: right;\">\n",
              "      <th></th>\n",
              "      <th>Movies</th>\n",
              "      <th>Count_5</th>\n",
              "    </tr>\n",
              "  </thead>\n",
              "  <tbody>\n",
              "    <tr>\n",
              "      <th>0</th>\n",
              "      <td>Movie1</td>\n",
              "      <td>1.0</td>\n",
              "    </tr>\n",
              "    <tr>\n",
              "      <th>1</th>\n",
              "      <td>Movie2</td>\n",
              "      <td>1.0</td>\n",
              "    </tr>\n",
              "    <tr>\n",
              "      <th>2</th>\n",
              "      <td>Movie3</td>\n",
              "      <td>0.0</td>\n",
              "    </tr>\n",
              "    <tr>\n",
              "      <th>3</th>\n",
              "      <td>Movie4</td>\n",
              "      <td>2.0</td>\n",
              "    </tr>\n",
              "    <tr>\n",
              "      <th>4</th>\n",
              "      <td>Movie5</td>\n",
              "      <td>20.0</td>\n",
              "    </tr>\n",
              "  </tbody>\n",
              "</table>\n",
              "</div>\n",
              "      <button class=\"colab-df-convert\" onclick=\"convertToInteractive('df-01c8152d-9b1f-438d-bf93-2fecaa6dd2cf')\"\n",
              "              title=\"Convert this dataframe to an interactive table.\"\n",
              "              style=\"display:none;\">\n",
              "        \n",
              "  <svg xmlns=\"http://www.w3.org/2000/svg\" height=\"24px\"viewBox=\"0 0 24 24\"\n",
              "       width=\"24px\">\n",
              "    <path d=\"M0 0h24v24H0V0z\" fill=\"none\"/>\n",
              "    <path d=\"M18.56 5.44l.94 2.06.94-2.06 2.06-.94-2.06-.94-.94-2.06-.94 2.06-2.06.94zm-11 1L8.5 8.5l.94-2.06 2.06-.94-2.06-.94L8.5 2.5l-.94 2.06-2.06.94zm10 10l.94 2.06.94-2.06 2.06-.94-2.06-.94-.94-2.06-.94 2.06-2.06.94z\"/><path d=\"M17.41 7.96l-1.37-1.37c-.4-.4-.92-.59-1.43-.59-.52 0-1.04.2-1.43.59L10.3 9.45l-7.72 7.72c-.78.78-.78 2.05 0 2.83L4 21.41c.39.39.9.59 1.41.59.51 0 1.02-.2 1.41-.59l7.78-7.78 2.81-2.81c.8-.78.8-2.07 0-2.86zM5.41 20L4 18.59l7.72-7.72 1.47 1.35L5.41 20z\"/>\n",
              "  </svg>\n",
              "      </button>\n",
              "      \n",
              "  <style>\n",
              "    .colab-df-container {\n",
              "      display:flex;\n",
              "      flex-wrap:wrap;\n",
              "      gap: 12px;\n",
              "    }\n",
              "\n",
              "    .colab-df-convert {\n",
              "      background-color: #E8F0FE;\n",
              "      border: none;\n",
              "      border-radius: 50%;\n",
              "      cursor: pointer;\n",
              "      display: none;\n",
              "      fill: #1967D2;\n",
              "      height: 32px;\n",
              "      padding: 0 0 0 0;\n",
              "      width: 32px;\n",
              "    }\n",
              "\n",
              "    .colab-df-convert:hover {\n",
              "      background-color: #E2EBFA;\n",
              "      box-shadow: 0px 1px 2px rgba(60, 64, 67, 0.3), 0px 1px 3px 1px rgba(60, 64, 67, 0.15);\n",
              "      fill: #174EA6;\n",
              "    }\n",
              "\n",
              "    [theme=dark] .colab-df-convert {\n",
              "      background-color: #3B4455;\n",
              "      fill: #D2E3FC;\n",
              "    }\n",
              "\n",
              "    [theme=dark] .colab-df-convert:hover {\n",
              "      background-color: #434B5C;\n",
              "      box-shadow: 0px 1px 3px 1px rgba(0, 0, 0, 0.15);\n",
              "      filter: drop-shadow(0px 1px 2px rgba(0, 0, 0, 0.3));\n",
              "      fill: #FFFFFF;\n",
              "    }\n",
              "  </style>\n",
              "\n",
              "      <script>\n",
              "        const buttonEl =\n",
              "          document.querySelector('#df-01c8152d-9b1f-438d-bf93-2fecaa6dd2cf button.colab-df-convert');\n",
              "        buttonEl.style.display =\n",
              "          google.colab.kernel.accessAllowed ? 'block' : 'none';\n",
              "\n",
              "        async function convertToInteractive(key) {\n",
              "          const element = document.querySelector('#df-01c8152d-9b1f-438d-bf93-2fecaa6dd2cf');\n",
              "          const dataTable =\n",
              "            await google.colab.kernel.invokeFunction('convertToInteractive',\n",
              "                                                     [key], {});\n",
              "          if (!dataTable) return;\n",
              "\n",
              "          const docLinkHtml = 'Like what you see? Visit the ' +\n",
              "            '<a target=\"_blank\" href=https://colab.research.google.com/notebooks/data_table.ipynb>data table notebook</a>'\n",
              "            + ' to learn more about interactive tables.';\n",
              "          element.innerHTML = '';\n",
              "          dataTable['output_type'] = 'display_data';\n",
              "          await google.colab.output.renderOutput(dataTable, element);\n",
              "          const docLink = document.createElement('div');\n",
              "          docLink.innerHTML = docLinkHtml;\n",
              "          element.appendChild(docLink);\n",
              "        }\n",
              "      </script>\n",
              "    </div>\n",
              "  </div>\n",
              "  "
            ],
            "text/plain": [
              "   Movies  Count_5\n",
              "0  Movie1      1.0\n",
              "1  Movie2      1.0\n",
              "2  Movie3      0.0\n",
              "3  Movie4      2.0\n",
              "4  Movie5     20.0"
            ]
          },
          "execution_count": 56,
          "metadata": {},
          "output_type": "execute_result"
        }
      ],
      "source": [
        "#----------------------------\n",
        "#--- Best films= who had the most 5 in rating\n",
        "#---------------------------\n",
        "list_movies=[]\n",
        "list_count_5=[]\n",
        "for col in df.columns[1:]:\n",
        "  df_t=df[col]\n",
        "  count5_for_col=df_t[df_t==5].describe().T['count'] # we count number of 5 rating (note en français)\n",
        "  list_movies.append(col)\n",
        "  list_count_5.append(count5_for_col)\n",
        "\n",
        "  # for example\n",
        "  if count5_for_col > 200:\n",
        "    print('\\nMovies with the number,of 5 as rating, wich exceed 200')\n",
        "    print(col,count5_for_col)\n",
        "#\n",
        "print('\\nlen(list_movies),len(list_count_5)')\n",
        "print(len(list_movies),len(list_count_5))\n",
        "df_t=pd.DataFrame({'Movies':list_movies,'Count_5':list_count_5}).sort_values(by=['Count_5'], ascending=False)\n",
        "df_t.head()"
      ]
    },
    {
      "cell_type": "code",
      "execution_count": null,
      "metadata": {
        "colab": {
          "base_uri": "https://localhost:8080/",
          "height": 363
        },
        "id": "XVzwlbT9YeCs",
        "outputId": "a19aa5d8-f328-4f68-d718-5dc68c65a229"
      },
      "outputs": [
        {
          "data": {
            "text/html": [
              "\n",
              "  <div id=\"df-973b01cf-51ec-4d16-9566-90f3e5aee17d\">\n",
              "    <div class=\"colab-df-container\">\n",
              "      <div>\n",
              "<style scoped>\n",
              "    .dataframe tbody tr th:only-of-type {\n",
              "        vertical-align: middle;\n",
              "    }\n",
              "\n",
              "    .dataframe tbody tr th {\n",
              "        vertical-align: top;\n",
              "    }\n",
              "\n",
              "    .dataframe thead th {\n",
              "        text-align: right;\n",
              "    }\n",
              "</style>\n",
              "<table border=\"1\" class=\"dataframe\">\n",
              "  <thead>\n",
              "    <tr style=\"text-align: right;\">\n",
              "      <th></th>\n",
              "      <th>Movies</th>\n",
              "      <th>Count_5</th>\n",
              "    </tr>\n",
              "  </thead>\n",
              "  <tbody>\n",
              "    <tr>\n",
              "      <th>126</th>\n",
              "      <td>Movie127</td>\n",
              "      <td>1512.0</td>\n",
              "    </tr>\n",
              "    <tr>\n",
              "      <th>139</th>\n",
              "      <td>Movie140</td>\n",
              "      <td>523.0</td>\n",
              "    </tr>\n",
              "    <tr>\n",
              "      <th>28</th>\n",
              "      <td>Movie29</td>\n",
              "      <td>215.0</td>\n",
              "    </tr>\n",
              "    <tr>\n",
              "      <th>102</th>\n",
              "      <td>Movie103</td>\n",
              "      <td>215.0</td>\n",
              "    </tr>\n",
              "    <tr>\n",
              "      <th>15</th>\n",
              "      <td>Movie16</td>\n",
              "      <td>213.0</td>\n",
              "    </tr>\n",
              "    <tr>\n",
              "      <th>90</th>\n",
              "      <td>Movie91</td>\n",
              "      <td>103.0</td>\n",
              "    </tr>\n",
              "    <tr>\n",
              "      <th>91</th>\n",
              "      <td>Movie92</td>\n",
              "      <td>87.0</td>\n",
              "    </tr>\n",
              "    <tr>\n",
              "      <th>88</th>\n",
              "      <td>Movie89</td>\n",
              "      <td>64.0</td>\n",
              "    </tr>\n",
              "    <tr>\n",
              "      <th>157</th>\n",
              "      <td>Movie158</td>\n",
              "      <td>59.0</td>\n",
              "    </tr>\n",
              "    <tr>\n",
              "      <th>107</th>\n",
              "      <td>Movie108</td>\n",
              "      <td>42.0</td>\n",
              "    </tr>\n",
              "  </tbody>\n",
              "</table>\n",
              "</div>\n",
              "      <button class=\"colab-df-convert\" onclick=\"convertToInteractive('df-973b01cf-51ec-4d16-9566-90f3e5aee17d')\"\n",
              "              title=\"Convert this dataframe to an interactive table.\"\n",
              "              style=\"display:none;\">\n",
              "        \n",
              "  <svg xmlns=\"http://www.w3.org/2000/svg\" height=\"24px\"viewBox=\"0 0 24 24\"\n",
              "       width=\"24px\">\n",
              "    <path d=\"M0 0h24v24H0V0z\" fill=\"none\"/>\n",
              "    <path d=\"M18.56 5.44l.94 2.06.94-2.06 2.06-.94-2.06-.94-.94-2.06-.94 2.06-2.06.94zm-11 1L8.5 8.5l.94-2.06 2.06-.94-2.06-.94L8.5 2.5l-.94 2.06-2.06.94zm10 10l.94 2.06.94-2.06 2.06-.94-2.06-.94-.94-2.06-.94 2.06-2.06.94z\"/><path d=\"M17.41 7.96l-1.37-1.37c-.4-.4-.92-.59-1.43-.59-.52 0-1.04.2-1.43.59L10.3 9.45l-7.72 7.72c-.78.78-.78 2.05 0 2.83L4 21.41c.39.39.9.59 1.41.59.51 0 1.02-.2 1.41-.59l7.78-7.78 2.81-2.81c.8-.78.8-2.07 0-2.86zM5.41 20L4 18.59l7.72-7.72 1.47 1.35L5.41 20z\"/>\n",
              "  </svg>\n",
              "      </button>\n",
              "      \n",
              "  <style>\n",
              "    .colab-df-container {\n",
              "      display:flex;\n",
              "      flex-wrap:wrap;\n",
              "      gap: 12px;\n",
              "    }\n",
              "\n",
              "    .colab-df-convert {\n",
              "      background-color: #E8F0FE;\n",
              "      border: none;\n",
              "      border-radius: 50%;\n",
              "      cursor: pointer;\n",
              "      display: none;\n",
              "      fill: #1967D2;\n",
              "      height: 32px;\n",
              "      padding: 0 0 0 0;\n",
              "      width: 32px;\n",
              "    }\n",
              "\n",
              "    .colab-df-convert:hover {\n",
              "      background-color: #E2EBFA;\n",
              "      box-shadow: 0px 1px 2px rgba(60, 64, 67, 0.3), 0px 1px 3px 1px rgba(60, 64, 67, 0.15);\n",
              "      fill: #174EA6;\n",
              "    }\n",
              "\n",
              "    [theme=dark] .colab-df-convert {\n",
              "      background-color: #3B4455;\n",
              "      fill: #D2E3FC;\n",
              "    }\n",
              "\n",
              "    [theme=dark] .colab-df-convert:hover {\n",
              "      background-color: #434B5C;\n",
              "      box-shadow: 0px 1px 3px 1px rgba(0, 0, 0, 0.15);\n",
              "      filter: drop-shadow(0px 1px 2px rgba(0, 0, 0, 0.3));\n",
              "      fill: #FFFFFF;\n",
              "    }\n",
              "  </style>\n",
              "\n",
              "      <script>\n",
              "        const buttonEl =\n",
              "          document.querySelector('#df-973b01cf-51ec-4d16-9566-90f3e5aee17d button.colab-df-convert');\n",
              "        buttonEl.style.display =\n",
              "          google.colab.kernel.accessAllowed ? 'block' : 'none';\n",
              "\n",
              "        async function convertToInteractive(key) {\n",
              "          const element = document.querySelector('#df-973b01cf-51ec-4d16-9566-90f3e5aee17d');\n",
              "          const dataTable =\n",
              "            await google.colab.kernel.invokeFunction('convertToInteractive',\n",
              "                                                     [key], {});\n",
              "          if (!dataTable) return;\n",
              "\n",
              "          const docLinkHtml = 'Like what you see? Visit the ' +\n",
              "            '<a target=\"_blank\" href=https://colab.research.google.com/notebooks/data_table.ipynb>data table notebook</a>'\n",
              "            + ' to learn more about interactive tables.';\n",
              "          element.innerHTML = '';\n",
              "          dataTable['output_type'] = 'display_data';\n",
              "          await google.colab.output.renderOutput(dataTable, element);\n",
              "          const docLink = document.createElement('div');\n",
              "          docLink.innerHTML = docLinkHtml;\n",
              "          element.appendChild(docLink);\n",
              "        }\n",
              "      </script>\n",
              "    </div>\n",
              "  </div>\n",
              "  "
            ],
            "text/plain": [
              "       Movies  Count_5\n",
              "126  Movie127   1512.0\n",
              "139  Movie140    523.0\n",
              "28    Movie29    215.0\n",
              "102  Movie103    215.0\n",
              "15    Movie16    213.0\n",
              "90    Movie91    103.0\n",
              "91    Movie92     87.0\n",
              "88    Movie89     64.0\n",
              "157  Movie158     59.0\n",
              "107  Movie108     42.0"
            ]
          },
          "execution_count": 57,
          "metadata": {},
          "output_type": "execute_result"
        }
      ],
      "source": [
        "df_t.sort_values(by=['Count_5'], ascending=False).head(10)"
      ]
    },
    {
      "cell_type": "code",
      "execution_count": null,
      "metadata": {
        "colab": {
          "base_uri": "https://localhost:8080/"
        },
        "id": "JB--qMSXWiOF",
        "outputId": "9c9eff0b-9271-45a4-a19a-9ca9e254e1cb"
      },
      "outputs": [
        {
          "data": {
            "text/plain": [
              "(206, 206)"
            ]
          },
          "execution_count": 58,
          "metadata": {},
          "output_type": "execute_result"
        }
      ],
      "source": [
        "len(df_t['Movies'].unique()),len(df_t)"
      ]
    },
    {
      "cell_type": "code",
      "execution_count": null,
      "metadata": {
        "colab": {
          "base_uri": "https://localhost:8080/"
        },
        "id": "2oWD9Sg6TX9t",
        "outputId": "31015fe6-1615-4f80-c7dd-9746b17f6cd6"
      },
      "outputs": [
        {
          "data": {
            "text/plain": [
              "Movies\n",
              "Movie127    1512.0\n",
              "Movie140     523.0\n",
              "Movie29      215.0\n",
              "Movie103     215.0\n",
              "Movie16      213.0\n",
              "Movie91      103.0\n",
              "Movie92       87.0\n",
              "Movie89       64.0\n",
              "Movie158      59.0\n",
              "Movie108      42.0\n",
              "Movie111      31.0\n",
              "Movie205      28.0\n",
              "Movie182      24.0\n",
              "Movie107      23.0\n",
              "Movie5        20.0\n",
              "Movie185      20.0\n",
              "Movie86       18.0\n",
              "Movie161      18.0\n",
              "Name: Count_5, dtype: float64"
            ]
          },
          "execution_count": 59,
          "metadata": {},
          "output_type": "execute_result"
        }
      ],
      "source": [
        "# Another manner\n",
        "df_t.groupby('Movies')['Count_5'].sum().sort_values(ascending=False)[:18]"
      ]
    },
    {
      "cell_type": "code",
      "execution_count": null,
      "metadata": {
        "colab": {
          "base_uri": "https://localhost:8080/"
        },
        "id": "ObDd5JAMOFFs",
        "outputId": "52b25b2f-92b3-4903-bf24-716ebeab9432"
      },
      "outputs": [
        {
          "data": {
            "text/plain": [
              "284"
            ]
          },
          "execution_count": 47,
          "metadata": {},
          "output_type": "execute_result"
        }
      ],
      "source": [
        "len(df[df['Movie16']>3]['Movie16'])"
      ]
    },
    {
      "cell_type": "markdown",
      "source": [
        "# **Preparation of the working dataframe**"
      ],
      "metadata": {
        "id": "5LjsHJSSCylt"
      }
    },
    {
      "cell_type": "code",
      "execution_count": 51,
      "metadata": {
        "colab": {
          "base_uri": "https://localhost:8080/",
          "height": 300
        },
        "id": "8emZV5P8d5Ni",
        "outputId": "265cf101-2118-46e4-c99e-1f32ca64400b"
      },
      "outputs": [
        {
          "output_type": "execute_result",
          "data": {
            "text/plain": [
              "          user_id  Movie1  Movie2  Movie3  Movie4  Movie5  Movie6  Movie7  \\\n",
              "0  A3R5OBKS7OM2IR     5.0     5.0     NaN     NaN     NaN     NaN     NaN   \n",
              "1   AH3QC2PC1VTGP     NaN     NaN     2.0     NaN     NaN     NaN     NaN   \n",
              "2  A3LKP6WPMP9UKX     NaN     NaN     NaN     5.0     NaN     NaN     NaN   \n",
              "3   AVIY68KEPQ5ZD     NaN     NaN     NaN     5.0     NaN     NaN     NaN   \n",
              "4  A1CV1WROP5KTTW     NaN     NaN     NaN     NaN     5.0     NaN     NaN   \n",
              "\n",
              "   Movie8  Movie9  Movie10  Movie11  Movie12  Movie13  Movie14  Movie15  \\\n",
              "0     NaN     NaN      NaN      NaN      NaN      NaN      NaN      NaN   \n",
              "1     NaN     NaN      NaN      NaN      NaN      NaN      NaN      NaN   \n",
              "2     NaN     NaN      NaN      NaN      NaN      NaN      NaN      NaN   \n",
              "3     NaN     NaN      NaN      NaN      NaN      NaN      NaN      NaN   \n",
              "4     NaN     NaN      NaN      NaN      NaN      NaN      NaN      NaN   \n",
              "\n",
              "   Movie16  Movie17  Movie18  Movie19  Movie20  Movie21  Movie22  Movie23  \\\n",
              "0      NaN      NaN      NaN      NaN      NaN      NaN      NaN      NaN   \n",
              "1      NaN      NaN      NaN      NaN      NaN      NaN      NaN      NaN   \n",
              "2      NaN      NaN      NaN      NaN      NaN      NaN      NaN      NaN   \n",
              "3      NaN      NaN      NaN      NaN      NaN      NaN      NaN      NaN   \n",
              "4      NaN      NaN      NaN      NaN      NaN      NaN      NaN      NaN   \n",
              "\n",
              "   Movie24  Movie25  Movie26  Movie27  Movie28  Movie29  Movie30  Movie31  \\\n",
              "0      NaN      NaN      NaN      NaN      NaN      NaN      NaN      NaN   \n",
              "1      NaN      NaN      NaN      NaN      NaN      NaN      NaN      NaN   \n",
              "2      NaN      NaN      NaN      NaN      NaN      NaN      NaN      NaN   \n",
              "3      NaN      NaN      NaN      NaN      NaN      NaN      NaN      NaN   \n",
              "4      NaN      NaN      NaN      NaN      NaN      NaN      NaN      NaN   \n",
              "\n",
              "   Movie32  Movie33  Movie34  Movie35  Movie36  Movie37  Movie38  Movie39  \\\n",
              "0      NaN      NaN      NaN      NaN      NaN      NaN      NaN      NaN   \n",
              "1      NaN      NaN      NaN      NaN      NaN      NaN      NaN      NaN   \n",
              "2      NaN      NaN      NaN      NaN      NaN      NaN      NaN      NaN   \n",
              "3      NaN      NaN      NaN      NaN      NaN      NaN      NaN      NaN   \n",
              "4      NaN      NaN      NaN      NaN      NaN      NaN      NaN      NaN   \n",
              "\n",
              "   Movie40  Movie41  Movie42  Movie43  Movie44  Movie45  Movie46  Movie47  \\\n",
              "0      NaN      NaN      NaN      NaN      NaN      NaN      NaN      NaN   \n",
              "1      NaN      NaN      NaN      NaN      NaN      NaN      NaN      NaN   \n",
              "2      NaN      NaN      NaN      NaN      NaN      NaN      NaN      NaN   \n",
              "3      NaN      NaN      NaN      NaN      NaN      NaN      NaN      NaN   \n",
              "4      NaN      NaN      NaN      NaN      NaN      NaN      NaN      NaN   \n",
              "\n",
              "   Movie48  Movie49  ...  Movie157  Movie158  Movie159  Movie160  Movie161  \\\n",
              "0      NaN      NaN  ...       NaN       NaN       NaN       NaN       NaN   \n",
              "1      NaN      NaN  ...       NaN       NaN       NaN       NaN       NaN   \n",
              "2      NaN      NaN  ...       NaN       NaN       NaN       NaN       NaN   \n",
              "3      NaN      NaN  ...       NaN       NaN       NaN       NaN       NaN   \n",
              "4      NaN      NaN  ...       NaN       NaN       NaN       NaN       NaN   \n",
              "\n",
              "   Movie162  Movie163  Movie164  Movie165  Movie166  Movie167  Movie168  \\\n",
              "0       NaN       NaN       NaN       NaN       NaN       NaN       NaN   \n",
              "1       NaN       NaN       NaN       NaN       NaN       NaN       NaN   \n",
              "2       NaN       NaN       NaN       NaN       NaN       NaN       NaN   \n",
              "3       NaN       NaN       NaN       NaN       NaN       NaN       NaN   \n",
              "4       NaN       NaN       NaN       NaN       NaN       NaN       NaN   \n",
              "\n",
              "   Movie169  Movie170  Movie171  Movie172  Movie173  Movie174  Movie175  \\\n",
              "0       NaN       NaN       NaN       NaN       NaN       NaN       NaN   \n",
              "1       NaN       NaN       NaN       NaN       NaN       NaN       NaN   \n",
              "2       NaN       NaN       NaN       NaN       NaN       NaN       NaN   \n",
              "3       NaN       NaN       NaN       NaN       NaN       NaN       NaN   \n",
              "4       NaN       NaN       NaN       NaN       NaN       NaN       NaN   \n",
              "\n",
              "   Movie176  Movie177  Movie178  Movie179  Movie180  Movie181  Movie182  \\\n",
              "0       NaN       NaN       NaN       NaN       NaN       NaN       NaN   \n",
              "1       NaN       NaN       NaN       NaN       NaN       NaN       NaN   \n",
              "2       NaN       NaN       NaN       NaN       NaN       NaN       NaN   \n",
              "3       NaN       NaN       NaN       NaN       NaN       NaN       NaN   \n",
              "4       NaN       NaN       NaN       NaN       NaN       NaN       NaN   \n",
              "\n",
              "   Movie183  Movie184  Movie185  Movie186  Movie187  Movie188  Movie189  \\\n",
              "0       NaN       NaN       NaN       NaN       NaN       NaN       NaN   \n",
              "1       NaN       NaN       NaN       NaN       NaN       NaN       NaN   \n",
              "2       NaN       NaN       NaN       NaN       NaN       NaN       NaN   \n",
              "3       NaN       NaN       NaN       NaN       NaN       NaN       NaN   \n",
              "4       NaN       NaN       NaN       NaN       NaN       NaN       NaN   \n",
              "\n",
              "   Movie190  Movie191  Movie192  Movie193  Movie194  Movie195  Movie196  \\\n",
              "0       NaN       NaN       NaN       NaN       NaN       NaN       NaN   \n",
              "1       NaN       NaN       NaN       NaN       NaN       NaN       NaN   \n",
              "2       NaN       NaN       NaN       NaN       NaN       NaN       NaN   \n",
              "3       NaN       NaN       NaN       NaN       NaN       NaN       NaN   \n",
              "4       NaN       NaN       NaN       NaN       NaN       NaN       NaN   \n",
              "\n",
              "   Movie197  Movie198  Movie199  Movie200  Movie201  Movie202  Movie203  \\\n",
              "0       NaN       NaN       NaN       NaN       NaN       NaN       NaN   \n",
              "1       NaN       NaN       NaN       NaN       NaN       NaN       NaN   \n",
              "2       NaN       NaN       NaN       NaN       NaN       NaN       NaN   \n",
              "3       NaN       NaN       NaN       NaN       NaN       NaN       NaN   \n",
              "4       NaN       NaN       NaN       NaN       NaN       NaN       NaN   \n",
              "\n",
              "   Movie204  Movie205  Movie206  \n",
              "0       NaN       NaN       NaN  \n",
              "1       NaN       NaN       NaN  \n",
              "2       NaN       NaN       NaN  \n",
              "3       NaN       NaN       NaN  \n",
              "4       NaN       NaN       NaN  \n",
              "\n",
              "[5 rows x 207 columns]"
            ],
            "text/html": [
              "\n",
              "  <div id=\"df-38ccc651-5aae-4ea0-b813-88dba33e61b6\">\n",
              "    <div class=\"colab-df-container\">\n",
              "      <div>\n",
              "<style scoped>\n",
              "    .dataframe tbody tr th:only-of-type {\n",
              "        vertical-align: middle;\n",
              "    }\n",
              "\n",
              "    .dataframe tbody tr th {\n",
              "        vertical-align: top;\n",
              "    }\n",
              "\n",
              "    .dataframe thead th {\n",
              "        text-align: right;\n",
              "    }\n",
              "</style>\n",
              "<table border=\"1\" class=\"dataframe\">\n",
              "  <thead>\n",
              "    <tr style=\"text-align: right;\">\n",
              "      <th></th>\n",
              "      <th>user_id</th>\n",
              "      <th>Movie1</th>\n",
              "      <th>Movie2</th>\n",
              "      <th>Movie3</th>\n",
              "      <th>Movie4</th>\n",
              "      <th>Movie5</th>\n",
              "      <th>Movie6</th>\n",
              "      <th>Movie7</th>\n",
              "      <th>Movie8</th>\n",
              "      <th>Movie9</th>\n",
              "      <th>Movie10</th>\n",
              "      <th>Movie11</th>\n",
              "      <th>Movie12</th>\n",
              "      <th>Movie13</th>\n",
              "      <th>Movie14</th>\n",
              "      <th>Movie15</th>\n",
              "      <th>Movie16</th>\n",
              "      <th>Movie17</th>\n",
              "      <th>Movie18</th>\n",
              "      <th>Movie19</th>\n",
              "      <th>Movie20</th>\n",
              "      <th>Movie21</th>\n",
              "      <th>Movie22</th>\n",
              "      <th>Movie23</th>\n",
              "      <th>Movie24</th>\n",
              "      <th>Movie25</th>\n",
              "      <th>Movie26</th>\n",
              "      <th>Movie27</th>\n",
              "      <th>Movie28</th>\n",
              "      <th>Movie29</th>\n",
              "      <th>Movie30</th>\n",
              "      <th>Movie31</th>\n",
              "      <th>Movie32</th>\n",
              "      <th>Movie33</th>\n",
              "      <th>Movie34</th>\n",
              "      <th>Movie35</th>\n",
              "      <th>Movie36</th>\n",
              "      <th>Movie37</th>\n",
              "      <th>Movie38</th>\n",
              "      <th>Movie39</th>\n",
              "      <th>Movie40</th>\n",
              "      <th>Movie41</th>\n",
              "      <th>Movie42</th>\n",
              "      <th>Movie43</th>\n",
              "      <th>Movie44</th>\n",
              "      <th>Movie45</th>\n",
              "      <th>Movie46</th>\n",
              "      <th>Movie47</th>\n",
              "      <th>Movie48</th>\n",
              "      <th>Movie49</th>\n",
              "      <th>...</th>\n",
              "      <th>Movie157</th>\n",
              "      <th>Movie158</th>\n",
              "      <th>Movie159</th>\n",
              "      <th>Movie160</th>\n",
              "      <th>Movie161</th>\n",
              "      <th>Movie162</th>\n",
              "      <th>Movie163</th>\n",
              "      <th>Movie164</th>\n",
              "      <th>Movie165</th>\n",
              "      <th>Movie166</th>\n",
              "      <th>Movie167</th>\n",
              "      <th>Movie168</th>\n",
              "      <th>Movie169</th>\n",
              "      <th>Movie170</th>\n",
              "      <th>Movie171</th>\n",
              "      <th>Movie172</th>\n",
              "      <th>Movie173</th>\n",
              "      <th>Movie174</th>\n",
              "      <th>Movie175</th>\n",
              "      <th>Movie176</th>\n",
              "      <th>Movie177</th>\n",
              "      <th>Movie178</th>\n",
              "      <th>Movie179</th>\n",
              "      <th>Movie180</th>\n",
              "      <th>Movie181</th>\n",
              "      <th>Movie182</th>\n",
              "      <th>Movie183</th>\n",
              "      <th>Movie184</th>\n",
              "      <th>Movie185</th>\n",
              "      <th>Movie186</th>\n",
              "      <th>Movie187</th>\n",
              "      <th>Movie188</th>\n",
              "      <th>Movie189</th>\n",
              "      <th>Movie190</th>\n",
              "      <th>Movie191</th>\n",
              "      <th>Movie192</th>\n",
              "      <th>Movie193</th>\n",
              "      <th>Movie194</th>\n",
              "      <th>Movie195</th>\n",
              "      <th>Movie196</th>\n",
              "      <th>Movie197</th>\n",
              "      <th>Movie198</th>\n",
              "      <th>Movie199</th>\n",
              "      <th>Movie200</th>\n",
              "      <th>Movie201</th>\n",
              "      <th>Movie202</th>\n",
              "      <th>Movie203</th>\n",
              "      <th>Movie204</th>\n",
              "      <th>Movie205</th>\n",
              "      <th>Movie206</th>\n",
              "    </tr>\n",
              "  </thead>\n",
              "  <tbody>\n",
              "    <tr>\n",
              "      <th>0</th>\n",
              "      <td>A3R5OBKS7OM2IR</td>\n",
              "      <td>5.0</td>\n",
              "      <td>5.0</td>\n",
              "      <td>NaN</td>\n",
              "      <td>NaN</td>\n",
              "      <td>NaN</td>\n",
              "      <td>NaN</td>\n",
              "      <td>NaN</td>\n",
              "      <td>NaN</td>\n",
              "      <td>NaN</td>\n",
              "      <td>NaN</td>\n",
              "      <td>NaN</td>\n",
              "      <td>NaN</td>\n",
              "      <td>NaN</td>\n",
              "      <td>NaN</td>\n",
              "      <td>NaN</td>\n",
              "      <td>NaN</td>\n",
              "      <td>NaN</td>\n",
              "      <td>NaN</td>\n",
              "      <td>NaN</td>\n",
              "      <td>NaN</td>\n",
              "      <td>NaN</td>\n",
              "      <td>NaN</td>\n",
              "      <td>NaN</td>\n",
              "      <td>NaN</td>\n",
              "      <td>NaN</td>\n",
              "      <td>NaN</td>\n",
              "      <td>NaN</td>\n",
              "      <td>NaN</td>\n",
              "      <td>NaN</td>\n",
              "      <td>NaN</td>\n",
              "      <td>NaN</td>\n",
              "      <td>NaN</td>\n",
              "      <td>NaN</td>\n",
              "      <td>NaN</td>\n",
              "      <td>NaN</td>\n",
              "      <td>NaN</td>\n",
              "      <td>NaN</td>\n",
              "      <td>NaN</td>\n",
              "      <td>NaN</td>\n",
              "      <td>NaN</td>\n",
              "      <td>NaN</td>\n",
              "      <td>NaN</td>\n",
              "      <td>NaN</td>\n",
              "      <td>NaN</td>\n",
              "      <td>NaN</td>\n",
              "      <td>NaN</td>\n",
              "      <td>NaN</td>\n",
              "      <td>NaN</td>\n",
              "      <td>NaN</td>\n",
              "      <td>...</td>\n",
              "      <td>NaN</td>\n",
              "      <td>NaN</td>\n",
              "      <td>NaN</td>\n",
              "      <td>NaN</td>\n",
              "      <td>NaN</td>\n",
              "      <td>NaN</td>\n",
              "      <td>NaN</td>\n",
              "      <td>NaN</td>\n",
              "      <td>NaN</td>\n",
              "      <td>NaN</td>\n",
              "      <td>NaN</td>\n",
              "      <td>NaN</td>\n",
              "      <td>NaN</td>\n",
              "      <td>NaN</td>\n",
              "      <td>NaN</td>\n",
              "      <td>NaN</td>\n",
              "      <td>NaN</td>\n",
              "      <td>NaN</td>\n",
              "      <td>NaN</td>\n",
              "      <td>NaN</td>\n",
              "      <td>NaN</td>\n",
              "      <td>NaN</td>\n",
              "      <td>NaN</td>\n",
              "      <td>NaN</td>\n",
              "      <td>NaN</td>\n",
              "      <td>NaN</td>\n",
              "      <td>NaN</td>\n",
              "      <td>NaN</td>\n",
              "      <td>NaN</td>\n",
              "      <td>NaN</td>\n",
              "      <td>NaN</td>\n",
              "      <td>NaN</td>\n",
              "      <td>NaN</td>\n",
              "      <td>NaN</td>\n",
              "      <td>NaN</td>\n",
              "      <td>NaN</td>\n",
              "      <td>NaN</td>\n",
              "      <td>NaN</td>\n",
              "      <td>NaN</td>\n",
              "      <td>NaN</td>\n",
              "      <td>NaN</td>\n",
              "      <td>NaN</td>\n",
              "      <td>NaN</td>\n",
              "      <td>NaN</td>\n",
              "      <td>NaN</td>\n",
              "      <td>NaN</td>\n",
              "      <td>NaN</td>\n",
              "      <td>NaN</td>\n",
              "      <td>NaN</td>\n",
              "      <td>NaN</td>\n",
              "    </tr>\n",
              "    <tr>\n",
              "      <th>1</th>\n",
              "      <td>AH3QC2PC1VTGP</td>\n",
              "      <td>NaN</td>\n",
              "      <td>NaN</td>\n",
              "      <td>2.0</td>\n",
              "      <td>NaN</td>\n",
              "      <td>NaN</td>\n",
              "      <td>NaN</td>\n",
              "      <td>NaN</td>\n",
              "      <td>NaN</td>\n",
              "      <td>NaN</td>\n",
              "      <td>NaN</td>\n",
              "      <td>NaN</td>\n",
              "      <td>NaN</td>\n",
              "      <td>NaN</td>\n",
              "      <td>NaN</td>\n",
              "      <td>NaN</td>\n",
              "      <td>NaN</td>\n",
              "      <td>NaN</td>\n",
              "      <td>NaN</td>\n",
              "      <td>NaN</td>\n",
              "      <td>NaN</td>\n",
              "      <td>NaN</td>\n",
              "      <td>NaN</td>\n",
              "      <td>NaN</td>\n",
              "      <td>NaN</td>\n",
              "      <td>NaN</td>\n",
              "      <td>NaN</td>\n",
              "      <td>NaN</td>\n",
              "      <td>NaN</td>\n",
              "      <td>NaN</td>\n",
              "      <td>NaN</td>\n",
              "      <td>NaN</td>\n",
              "      <td>NaN</td>\n",
              "      <td>NaN</td>\n",
              "      <td>NaN</td>\n",
              "      <td>NaN</td>\n",
              "      <td>NaN</td>\n",
              "      <td>NaN</td>\n",
              "      <td>NaN</td>\n",
              "      <td>NaN</td>\n",
              "      <td>NaN</td>\n",
              "      <td>NaN</td>\n",
              "      <td>NaN</td>\n",
              "      <td>NaN</td>\n",
              "      <td>NaN</td>\n",
              "      <td>NaN</td>\n",
              "      <td>NaN</td>\n",
              "      <td>NaN</td>\n",
              "      <td>NaN</td>\n",
              "      <td>NaN</td>\n",
              "      <td>...</td>\n",
              "      <td>NaN</td>\n",
              "      <td>NaN</td>\n",
              "      <td>NaN</td>\n",
              "      <td>NaN</td>\n",
              "      <td>NaN</td>\n",
              "      <td>NaN</td>\n",
              "      <td>NaN</td>\n",
              "      <td>NaN</td>\n",
              "      <td>NaN</td>\n",
              "      <td>NaN</td>\n",
              "      <td>NaN</td>\n",
              "      <td>NaN</td>\n",
              "      <td>NaN</td>\n",
              "      <td>NaN</td>\n",
              "      <td>NaN</td>\n",
              "      <td>NaN</td>\n",
              "      <td>NaN</td>\n",
              "      <td>NaN</td>\n",
              "      <td>NaN</td>\n",
              "      <td>NaN</td>\n",
              "      <td>NaN</td>\n",
              "      <td>NaN</td>\n",
              "      <td>NaN</td>\n",
              "      <td>NaN</td>\n",
              "      <td>NaN</td>\n",
              "      <td>NaN</td>\n",
              "      <td>NaN</td>\n",
              "      <td>NaN</td>\n",
              "      <td>NaN</td>\n",
              "      <td>NaN</td>\n",
              "      <td>NaN</td>\n",
              "      <td>NaN</td>\n",
              "      <td>NaN</td>\n",
              "      <td>NaN</td>\n",
              "      <td>NaN</td>\n",
              "      <td>NaN</td>\n",
              "      <td>NaN</td>\n",
              "      <td>NaN</td>\n",
              "      <td>NaN</td>\n",
              "      <td>NaN</td>\n",
              "      <td>NaN</td>\n",
              "      <td>NaN</td>\n",
              "      <td>NaN</td>\n",
              "      <td>NaN</td>\n",
              "      <td>NaN</td>\n",
              "      <td>NaN</td>\n",
              "      <td>NaN</td>\n",
              "      <td>NaN</td>\n",
              "      <td>NaN</td>\n",
              "      <td>NaN</td>\n",
              "    </tr>\n",
              "    <tr>\n",
              "      <th>2</th>\n",
              "      <td>A3LKP6WPMP9UKX</td>\n",
              "      <td>NaN</td>\n",
              "      <td>NaN</td>\n",
              "      <td>NaN</td>\n",
              "      <td>5.0</td>\n",
              "      <td>NaN</td>\n",
              "      <td>NaN</td>\n",
              "      <td>NaN</td>\n",
              "      <td>NaN</td>\n",
              "      <td>NaN</td>\n",
              "      <td>NaN</td>\n",
              "      <td>NaN</td>\n",
              "      <td>NaN</td>\n",
              "      <td>NaN</td>\n",
              "      <td>NaN</td>\n",
              "      <td>NaN</td>\n",
              "      <td>NaN</td>\n",
              "      <td>NaN</td>\n",
              "      <td>NaN</td>\n",
              "      <td>NaN</td>\n",
              "      <td>NaN</td>\n",
              "      <td>NaN</td>\n",
              "      <td>NaN</td>\n",
              "      <td>NaN</td>\n",
              "      <td>NaN</td>\n",
              "      <td>NaN</td>\n",
              "      <td>NaN</td>\n",
              "      <td>NaN</td>\n",
              "      <td>NaN</td>\n",
              "      <td>NaN</td>\n",
              "      <td>NaN</td>\n",
              "      <td>NaN</td>\n",
              "      <td>NaN</td>\n",
              "      <td>NaN</td>\n",
              "      <td>NaN</td>\n",
              "      <td>NaN</td>\n",
              "      <td>NaN</td>\n",
              "      <td>NaN</td>\n",
              "      <td>NaN</td>\n",
              "      <td>NaN</td>\n",
              "      <td>NaN</td>\n",
              "      <td>NaN</td>\n",
              "      <td>NaN</td>\n",
              "      <td>NaN</td>\n",
              "      <td>NaN</td>\n",
              "      <td>NaN</td>\n",
              "      <td>NaN</td>\n",
              "      <td>NaN</td>\n",
              "      <td>NaN</td>\n",
              "      <td>NaN</td>\n",
              "      <td>...</td>\n",
              "      <td>NaN</td>\n",
              "      <td>NaN</td>\n",
              "      <td>NaN</td>\n",
              "      <td>NaN</td>\n",
              "      <td>NaN</td>\n",
              "      <td>NaN</td>\n",
              "      <td>NaN</td>\n",
              "      <td>NaN</td>\n",
              "      <td>NaN</td>\n",
              "      <td>NaN</td>\n",
              "      <td>NaN</td>\n",
              "      <td>NaN</td>\n",
              "      <td>NaN</td>\n",
              "      <td>NaN</td>\n",
              "      <td>NaN</td>\n",
              "      <td>NaN</td>\n",
              "      <td>NaN</td>\n",
              "      <td>NaN</td>\n",
              "      <td>NaN</td>\n",
              "      <td>NaN</td>\n",
              "      <td>NaN</td>\n",
              "      <td>NaN</td>\n",
              "      <td>NaN</td>\n",
              "      <td>NaN</td>\n",
              "      <td>NaN</td>\n",
              "      <td>NaN</td>\n",
              "      <td>NaN</td>\n",
              "      <td>NaN</td>\n",
              "      <td>NaN</td>\n",
              "      <td>NaN</td>\n",
              "      <td>NaN</td>\n",
              "      <td>NaN</td>\n",
              "      <td>NaN</td>\n",
              "      <td>NaN</td>\n",
              "      <td>NaN</td>\n",
              "      <td>NaN</td>\n",
              "      <td>NaN</td>\n",
              "      <td>NaN</td>\n",
              "      <td>NaN</td>\n",
              "      <td>NaN</td>\n",
              "      <td>NaN</td>\n",
              "      <td>NaN</td>\n",
              "      <td>NaN</td>\n",
              "      <td>NaN</td>\n",
              "      <td>NaN</td>\n",
              "      <td>NaN</td>\n",
              "      <td>NaN</td>\n",
              "      <td>NaN</td>\n",
              "      <td>NaN</td>\n",
              "      <td>NaN</td>\n",
              "    </tr>\n",
              "    <tr>\n",
              "      <th>3</th>\n",
              "      <td>AVIY68KEPQ5ZD</td>\n",
              "      <td>NaN</td>\n",
              "      <td>NaN</td>\n",
              "      <td>NaN</td>\n",
              "      <td>5.0</td>\n",
              "      <td>NaN</td>\n",
              "      <td>NaN</td>\n",
              "      <td>NaN</td>\n",
              "      <td>NaN</td>\n",
              "      <td>NaN</td>\n",
              "      <td>NaN</td>\n",
              "      <td>NaN</td>\n",
              "      <td>NaN</td>\n",
              "      <td>NaN</td>\n",
              "      <td>NaN</td>\n",
              "      <td>NaN</td>\n",
              "      <td>NaN</td>\n",
              "      <td>NaN</td>\n",
              "      <td>NaN</td>\n",
              "      <td>NaN</td>\n",
              "      <td>NaN</td>\n",
              "      <td>NaN</td>\n",
              "      <td>NaN</td>\n",
              "      <td>NaN</td>\n",
              "      <td>NaN</td>\n",
              "      <td>NaN</td>\n",
              "      <td>NaN</td>\n",
              "      <td>NaN</td>\n",
              "      <td>NaN</td>\n",
              "      <td>NaN</td>\n",
              "      <td>NaN</td>\n",
              "      <td>NaN</td>\n",
              "      <td>NaN</td>\n",
              "      <td>NaN</td>\n",
              "      <td>NaN</td>\n",
              "      <td>NaN</td>\n",
              "      <td>NaN</td>\n",
              "      <td>NaN</td>\n",
              "      <td>NaN</td>\n",
              "      <td>NaN</td>\n",
              "      <td>NaN</td>\n",
              "      <td>NaN</td>\n",
              "      <td>NaN</td>\n",
              "      <td>NaN</td>\n",
              "      <td>NaN</td>\n",
              "      <td>NaN</td>\n",
              "      <td>NaN</td>\n",
              "      <td>NaN</td>\n",
              "      <td>NaN</td>\n",
              "      <td>NaN</td>\n",
              "      <td>...</td>\n",
              "      <td>NaN</td>\n",
              "      <td>NaN</td>\n",
              "      <td>NaN</td>\n",
              "      <td>NaN</td>\n",
              "      <td>NaN</td>\n",
              "      <td>NaN</td>\n",
              "      <td>NaN</td>\n",
              "      <td>NaN</td>\n",
              "      <td>NaN</td>\n",
              "      <td>NaN</td>\n",
              "      <td>NaN</td>\n",
              "      <td>NaN</td>\n",
              "      <td>NaN</td>\n",
              "      <td>NaN</td>\n",
              "      <td>NaN</td>\n",
              "      <td>NaN</td>\n",
              "      <td>NaN</td>\n",
              "      <td>NaN</td>\n",
              "      <td>NaN</td>\n",
              "      <td>NaN</td>\n",
              "      <td>NaN</td>\n",
              "      <td>NaN</td>\n",
              "      <td>NaN</td>\n",
              "      <td>NaN</td>\n",
              "      <td>NaN</td>\n",
              "      <td>NaN</td>\n",
              "      <td>NaN</td>\n",
              "      <td>NaN</td>\n",
              "      <td>NaN</td>\n",
              "      <td>NaN</td>\n",
              "      <td>NaN</td>\n",
              "      <td>NaN</td>\n",
              "      <td>NaN</td>\n",
              "      <td>NaN</td>\n",
              "      <td>NaN</td>\n",
              "      <td>NaN</td>\n",
              "      <td>NaN</td>\n",
              "      <td>NaN</td>\n",
              "      <td>NaN</td>\n",
              "      <td>NaN</td>\n",
              "      <td>NaN</td>\n",
              "      <td>NaN</td>\n",
              "      <td>NaN</td>\n",
              "      <td>NaN</td>\n",
              "      <td>NaN</td>\n",
              "      <td>NaN</td>\n",
              "      <td>NaN</td>\n",
              "      <td>NaN</td>\n",
              "      <td>NaN</td>\n",
              "      <td>NaN</td>\n",
              "    </tr>\n",
              "    <tr>\n",
              "      <th>4</th>\n",
              "      <td>A1CV1WROP5KTTW</td>\n",
              "      <td>NaN</td>\n",
              "      <td>NaN</td>\n",
              "      <td>NaN</td>\n",
              "      <td>NaN</td>\n",
              "      <td>5.0</td>\n",
              "      <td>NaN</td>\n",
              "      <td>NaN</td>\n",
              "      <td>NaN</td>\n",
              "      <td>NaN</td>\n",
              "      <td>NaN</td>\n",
              "      <td>NaN</td>\n",
              "      <td>NaN</td>\n",
              "      <td>NaN</td>\n",
              "      <td>NaN</td>\n",
              "      <td>NaN</td>\n",
              "      <td>NaN</td>\n",
              "      <td>NaN</td>\n",
              "      <td>NaN</td>\n",
              "      <td>NaN</td>\n",
              "      <td>NaN</td>\n",
              "      <td>NaN</td>\n",
              "      <td>NaN</td>\n",
              "      <td>NaN</td>\n",
              "      <td>NaN</td>\n",
              "      <td>NaN</td>\n",
              "      <td>NaN</td>\n",
              "      <td>NaN</td>\n",
              "      <td>NaN</td>\n",
              "      <td>NaN</td>\n",
              "      <td>NaN</td>\n",
              "      <td>NaN</td>\n",
              "      <td>NaN</td>\n",
              "      <td>NaN</td>\n",
              "      <td>NaN</td>\n",
              "      <td>NaN</td>\n",
              "      <td>NaN</td>\n",
              "      <td>NaN</td>\n",
              "      <td>NaN</td>\n",
              "      <td>NaN</td>\n",
              "      <td>NaN</td>\n",
              "      <td>NaN</td>\n",
              "      <td>NaN</td>\n",
              "      <td>NaN</td>\n",
              "      <td>NaN</td>\n",
              "      <td>NaN</td>\n",
              "      <td>NaN</td>\n",
              "      <td>NaN</td>\n",
              "      <td>NaN</td>\n",
              "      <td>NaN</td>\n",
              "      <td>...</td>\n",
              "      <td>NaN</td>\n",
              "      <td>NaN</td>\n",
              "      <td>NaN</td>\n",
              "      <td>NaN</td>\n",
              "      <td>NaN</td>\n",
              "      <td>NaN</td>\n",
              "      <td>NaN</td>\n",
              "      <td>NaN</td>\n",
              "      <td>NaN</td>\n",
              "      <td>NaN</td>\n",
              "      <td>NaN</td>\n",
              "      <td>NaN</td>\n",
              "      <td>NaN</td>\n",
              "      <td>NaN</td>\n",
              "      <td>NaN</td>\n",
              "      <td>NaN</td>\n",
              "      <td>NaN</td>\n",
              "      <td>NaN</td>\n",
              "      <td>NaN</td>\n",
              "      <td>NaN</td>\n",
              "      <td>NaN</td>\n",
              "      <td>NaN</td>\n",
              "      <td>NaN</td>\n",
              "      <td>NaN</td>\n",
              "      <td>NaN</td>\n",
              "      <td>NaN</td>\n",
              "      <td>NaN</td>\n",
              "      <td>NaN</td>\n",
              "      <td>NaN</td>\n",
              "      <td>NaN</td>\n",
              "      <td>NaN</td>\n",
              "      <td>NaN</td>\n",
              "      <td>NaN</td>\n",
              "      <td>NaN</td>\n",
              "      <td>NaN</td>\n",
              "      <td>NaN</td>\n",
              "      <td>NaN</td>\n",
              "      <td>NaN</td>\n",
              "      <td>NaN</td>\n",
              "      <td>NaN</td>\n",
              "      <td>NaN</td>\n",
              "      <td>NaN</td>\n",
              "      <td>NaN</td>\n",
              "      <td>NaN</td>\n",
              "      <td>NaN</td>\n",
              "      <td>NaN</td>\n",
              "      <td>NaN</td>\n",
              "      <td>NaN</td>\n",
              "      <td>NaN</td>\n",
              "      <td>NaN</td>\n",
              "    </tr>\n",
              "  </tbody>\n",
              "</table>\n",
              "<p>5 rows × 207 columns</p>\n",
              "</div>\n",
              "      <button class=\"colab-df-convert\" onclick=\"convertToInteractive('df-38ccc651-5aae-4ea0-b813-88dba33e61b6')\"\n",
              "              title=\"Convert this dataframe to an interactive table.\"\n",
              "              style=\"display:none;\">\n",
              "        \n",
              "  <svg xmlns=\"http://www.w3.org/2000/svg\" height=\"24px\"viewBox=\"0 0 24 24\"\n",
              "       width=\"24px\">\n",
              "    <path d=\"M0 0h24v24H0V0z\" fill=\"none\"/>\n",
              "    <path d=\"M18.56 5.44l.94 2.06.94-2.06 2.06-.94-2.06-.94-.94-2.06-.94 2.06-2.06.94zm-11 1L8.5 8.5l.94-2.06 2.06-.94-2.06-.94L8.5 2.5l-.94 2.06-2.06.94zm10 10l.94 2.06.94-2.06 2.06-.94-2.06-.94-.94-2.06-.94 2.06-2.06.94z\"/><path d=\"M17.41 7.96l-1.37-1.37c-.4-.4-.92-.59-1.43-.59-.52 0-1.04.2-1.43.59L10.3 9.45l-7.72 7.72c-.78.78-.78 2.05 0 2.83L4 21.41c.39.39.9.59 1.41.59.51 0 1.02-.2 1.41-.59l7.78-7.78 2.81-2.81c.8-.78.8-2.07 0-2.86zM5.41 20L4 18.59l7.72-7.72 1.47 1.35L5.41 20z\"/>\n",
              "  </svg>\n",
              "      </button>\n",
              "      \n",
              "  <style>\n",
              "    .colab-df-container {\n",
              "      display:flex;\n",
              "      flex-wrap:wrap;\n",
              "      gap: 12px;\n",
              "    }\n",
              "\n",
              "    .colab-df-convert {\n",
              "      background-color: #E8F0FE;\n",
              "      border: none;\n",
              "      border-radius: 50%;\n",
              "      cursor: pointer;\n",
              "      display: none;\n",
              "      fill: #1967D2;\n",
              "      height: 32px;\n",
              "      padding: 0 0 0 0;\n",
              "      width: 32px;\n",
              "    }\n",
              "\n",
              "    .colab-df-convert:hover {\n",
              "      background-color: #E2EBFA;\n",
              "      box-shadow: 0px 1px 2px rgba(60, 64, 67, 0.3), 0px 1px 3px 1px rgba(60, 64, 67, 0.15);\n",
              "      fill: #174EA6;\n",
              "    }\n",
              "\n",
              "    [theme=dark] .colab-df-convert {\n",
              "      background-color: #3B4455;\n",
              "      fill: #D2E3FC;\n",
              "    }\n",
              "\n",
              "    [theme=dark] .colab-df-convert:hover {\n",
              "      background-color: #434B5C;\n",
              "      box-shadow: 0px 1px 3px 1px rgba(0, 0, 0, 0.15);\n",
              "      filter: drop-shadow(0px 1px 2px rgba(0, 0, 0, 0.3));\n",
              "      fill: #FFFFFF;\n",
              "    }\n",
              "  </style>\n",
              "\n",
              "      <script>\n",
              "        const buttonEl =\n",
              "          document.querySelector('#df-38ccc651-5aae-4ea0-b813-88dba33e61b6 button.colab-df-convert');\n",
              "        buttonEl.style.display =\n",
              "          google.colab.kernel.accessAllowed ? 'block' : 'none';\n",
              "\n",
              "        async function convertToInteractive(key) {\n",
              "          const element = document.querySelector('#df-38ccc651-5aae-4ea0-b813-88dba33e61b6');\n",
              "          const dataTable =\n",
              "            await google.colab.kernel.invokeFunction('convertToInteractive',\n",
              "                                                     [key], {});\n",
              "          if (!dataTable) return;\n",
              "\n",
              "          const docLinkHtml = 'Like what you see? Visit the ' +\n",
              "            '<a target=\"_blank\" href=https://colab.research.google.com/notebooks/data_table.ipynb>data table notebook</a>'\n",
              "            + ' to learn more about interactive tables.';\n",
              "          element.innerHTML = '';\n",
              "          dataTable['output_type'] = 'display_data';\n",
              "          await google.colab.output.renderOutput(dataTable, element);\n",
              "          const docLink = document.createElement('div');\n",
              "          docLink.innerHTML = docLinkHtml;\n",
              "          element.appendChild(docLink);\n",
              "        }\n",
              "      </script>\n",
              "    </div>\n",
              "  </div>\n",
              "  "
            ]
          },
          "metadata": {},
          "execution_count": 51
        }
      ],
      "source": [
        "df_1=reinit_input_df()\n",
        "df_1.head()"
      ]
    },
    {
      "cell_type": "code",
      "execution_count": 52,
      "metadata": {
        "colab": {
          "base_uri": "https://localhost:8080/"
        },
        "id": "jj5evFk6eG1S",
        "outputId": "3f00fb5d-3089-4521-8848-41f3563336dd"
      },
      "outputs": [
        {
          "output_type": "execute_result",
          "data": {
            "text/plain": [
              "(5000, 208)"
            ]
          },
          "metadata": {},
          "execution_count": 52
        }
      ],
      "source": [
        "df_ready=get_df_ready_for_fit(df_1)\n",
        "df_ready.shape"
      ]
    },
    {
      "cell_type": "markdown",
      "source": [
        "# **BUILD**\n"
      ],
      "metadata": {
        "id": "bJVSQoUUhi1b"
      }
    },
    {
      "cell_type": "code",
      "execution_count": 54,
      "metadata": {
        "colab": {
          "base_uri": "https://localhost:8080/",
          "height": 300
        },
        "id": "z3zFx34uelj6",
        "outputId": "39f3e810-0473-471e-a4f6-4de2fa6ffd8d"
      },
      "outputs": [
        {
          "output_type": "execute_result",
          "data": {
            "text/plain": [
              "   user_id  Movie1  Movie2  Movie3  Movie4  Movie5  Movie6  Movie7  Movie8  \\\n",
              "0   2015.0     1.0     0.0     0.0     0.0     0.0     0.0     0.0     0.0   \n",
              "1   2015.0     0.0     1.0     0.0     0.0     0.0     0.0     0.0     0.0   \n",
              "2   2373.0     0.0     0.0     1.0     0.0     0.0     0.0     0.0     0.0   \n",
              "3   2821.0     0.0     0.0     0.0     1.0     0.0     0.0     0.0     0.0   \n",
              "4   3384.0     0.0     0.0     0.0     1.0     0.0     0.0     0.0     0.0   \n",
              "\n",
              "   Movie9  Movie10  Movie11  Movie12  Movie13  Movie14  Movie15  Movie16  \\\n",
              "0     0.0      0.0      0.0      0.0      0.0      0.0      0.0      0.0   \n",
              "1     0.0      0.0      0.0      0.0      0.0      0.0      0.0      0.0   \n",
              "2     0.0      0.0      0.0      0.0      0.0      0.0      0.0      0.0   \n",
              "3     0.0      0.0      0.0      0.0      0.0      0.0      0.0      0.0   \n",
              "4     0.0      0.0      0.0      0.0      0.0      0.0      0.0      0.0   \n",
              "\n",
              "   Movie17  Movie18  Movie19  Movie20  Movie21  Movie22  Movie23  Movie24  \\\n",
              "0      0.0      0.0      0.0      0.0      0.0      0.0      0.0      0.0   \n",
              "1      0.0      0.0      0.0      0.0      0.0      0.0      0.0      0.0   \n",
              "2      0.0      0.0      0.0      0.0      0.0      0.0      0.0      0.0   \n",
              "3      0.0      0.0      0.0      0.0      0.0      0.0      0.0      0.0   \n",
              "4      0.0      0.0      0.0      0.0      0.0      0.0      0.0      0.0   \n",
              "\n",
              "   Movie25  Movie26  Movie27  Movie28  Movie29  Movie30  Movie31  Movie32  \\\n",
              "0      0.0      0.0      0.0      0.0      0.0      0.0      0.0      0.0   \n",
              "1      0.0      0.0      0.0      0.0      0.0      0.0      0.0      0.0   \n",
              "2      0.0      0.0      0.0      0.0      0.0      0.0      0.0      0.0   \n",
              "3      0.0      0.0      0.0      0.0      0.0      0.0      0.0      0.0   \n",
              "4      0.0      0.0      0.0      0.0      0.0      0.0      0.0      0.0   \n",
              "\n",
              "   Movie33  Movie34  Movie35  Movie36  Movie37  Movie38  Movie39  Movie40  \\\n",
              "0      0.0      0.0      0.0      0.0      0.0      0.0      0.0      0.0   \n",
              "1      0.0      0.0      0.0      0.0      0.0      0.0      0.0      0.0   \n",
              "2      0.0      0.0      0.0      0.0      0.0      0.0      0.0      0.0   \n",
              "3      0.0      0.0      0.0      0.0      0.0      0.0      0.0      0.0   \n",
              "4      0.0      0.0      0.0      0.0      0.0      0.0      0.0      0.0   \n",
              "\n",
              "   Movie41  Movie42  Movie43  Movie44  Movie45  Movie46  Movie47  Movie48  \\\n",
              "0      0.0      0.0      0.0      0.0      0.0      0.0      0.0      0.0   \n",
              "1      0.0      0.0      0.0      0.0      0.0      0.0      0.0      0.0   \n",
              "2      0.0      0.0      0.0      0.0      0.0      0.0      0.0      0.0   \n",
              "3      0.0      0.0      0.0      0.0      0.0      0.0      0.0      0.0   \n",
              "4      0.0      0.0      0.0      0.0      0.0      0.0      0.0      0.0   \n",
              "\n",
              "   Movie49  ...  Movie158  Movie159  Movie160  Movie161  Movie162  Movie163  \\\n",
              "0      0.0  ...       0.0       0.0       0.0       0.0       0.0       0.0   \n",
              "1      0.0  ...       0.0       0.0       0.0       0.0       0.0       0.0   \n",
              "2      0.0  ...       0.0       0.0       0.0       0.0       0.0       0.0   \n",
              "3      0.0  ...       0.0       0.0       0.0       0.0       0.0       0.0   \n",
              "4      0.0  ...       0.0       0.0       0.0       0.0       0.0       0.0   \n",
              "\n",
              "   Movie164  Movie165  Movie166  Movie167  Movie168  Movie169  Movie170  \\\n",
              "0       0.0       0.0       0.0       0.0       0.0       0.0       0.0   \n",
              "1       0.0       0.0       0.0       0.0       0.0       0.0       0.0   \n",
              "2       0.0       0.0       0.0       0.0       0.0       0.0       0.0   \n",
              "3       0.0       0.0       0.0       0.0       0.0       0.0       0.0   \n",
              "4       0.0       0.0       0.0       0.0       0.0       0.0       0.0   \n",
              "\n",
              "   Movie171  Movie172  Movie173  Movie174  Movie175  Movie176  Movie177  \\\n",
              "0       0.0       0.0       0.0       0.0       0.0       0.0       0.0   \n",
              "1       0.0       0.0       0.0       0.0       0.0       0.0       0.0   \n",
              "2       0.0       0.0       0.0       0.0       0.0       0.0       0.0   \n",
              "3       0.0       0.0       0.0       0.0       0.0       0.0       0.0   \n",
              "4       0.0       0.0       0.0       0.0       0.0       0.0       0.0   \n",
              "\n",
              "   Movie178  Movie179  Movie180  Movie181  Movie182  Movie183  Movie184  \\\n",
              "0       0.0       0.0       0.0       0.0       0.0       0.0       0.0   \n",
              "1       0.0       0.0       0.0       0.0       0.0       0.0       0.0   \n",
              "2       0.0       0.0       0.0       0.0       0.0       0.0       0.0   \n",
              "3       0.0       0.0       0.0       0.0       0.0       0.0       0.0   \n",
              "4       0.0       0.0       0.0       0.0       0.0       0.0       0.0   \n",
              "\n",
              "   Movie185  Movie186  Movie187  Movie188  Movie189  Movie190  Movie191  \\\n",
              "0       0.0       0.0       0.0       0.0       0.0       0.0       0.0   \n",
              "1       0.0       0.0       0.0       0.0       0.0       0.0       0.0   \n",
              "2       0.0       0.0       0.0       0.0       0.0       0.0       0.0   \n",
              "3       0.0       0.0       0.0       0.0       0.0       0.0       0.0   \n",
              "4       0.0       0.0       0.0       0.0       0.0       0.0       0.0   \n",
              "\n",
              "   Movie192  Movie193  Movie194  Movie195  Movie196  Movie197  Movie198  \\\n",
              "0       0.0       0.0       0.0       0.0       0.0       0.0       0.0   \n",
              "1       0.0       0.0       0.0       0.0       0.0       0.0       0.0   \n",
              "2       0.0       0.0       0.0       0.0       0.0       0.0       0.0   \n",
              "3       0.0       0.0       0.0       0.0       0.0       0.0       0.0   \n",
              "4       0.0       0.0       0.0       0.0       0.0       0.0       0.0   \n",
              "\n",
              "   Movie199  Movie200  Movie201  Movie202  Movie203  Movie204  Movie205  \\\n",
              "0       0.0       0.0       0.0       0.0       0.0       0.0       0.0   \n",
              "1       0.0       0.0       0.0       0.0       0.0       0.0       0.0   \n",
              "2       0.0       0.0       0.0       0.0       0.0       0.0       0.0   \n",
              "3       0.0       0.0       0.0       0.0       0.0       0.0       0.0   \n",
              "4       0.0       0.0       0.0       0.0       0.0       0.0       0.0   \n",
              "\n",
              "   Movie206  Target  \n",
              "0       0.0     5.0  \n",
              "1       0.0     5.0  \n",
              "2       0.0     2.0  \n",
              "3       0.0     5.0  \n",
              "4       0.0     5.0  \n",
              "\n",
              "[5 rows x 208 columns]"
            ],
            "text/html": [
              "\n",
              "  <div id=\"df-ed5337e2-a217-4a3c-810c-e2c9c20f8257\">\n",
              "    <div class=\"colab-df-container\">\n",
              "      <div>\n",
              "<style scoped>\n",
              "    .dataframe tbody tr th:only-of-type {\n",
              "        vertical-align: middle;\n",
              "    }\n",
              "\n",
              "    .dataframe tbody tr th {\n",
              "        vertical-align: top;\n",
              "    }\n",
              "\n",
              "    .dataframe thead th {\n",
              "        text-align: right;\n",
              "    }\n",
              "</style>\n",
              "<table border=\"1\" class=\"dataframe\">\n",
              "  <thead>\n",
              "    <tr style=\"text-align: right;\">\n",
              "      <th></th>\n",
              "      <th>user_id</th>\n",
              "      <th>Movie1</th>\n",
              "      <th>Movie2</th>\n",
              "      <th>Movie3</th>\n",
              "      <th>Movie4</th>\n",
              "      <th>Movie5</th>\n",
              "      <th>Movie6</th>\n",
              "      <th>Movie7</th>\n",
              "      <th>Movie8</th>\n",
              "      <th>Movie9</th>\n",
              "      <th>Movie10</th>\n",
              "      <th>Movie11</th>\n",
              "      <th>Movie12</th>\n",
              "      <th>Movie13</th>\n",
              "      <th>Movie14</th>\n",
              "      <th>Movie15</th>\n",
              "      <th>Movie16</th>\n",
              "      <th>Movie17</th>\n",
              "      <th>Movie18</th>\n",
              "      <th>Movie19</th>\n",
              "      <th>Movie20</th>\n",
              "      <th>Movie21</th>\n",
              "      <th>Movie22</th>\n",
              "      <th>Movie23</th>\n",
              "      <th>Movie24</th>\n",
              "      <th>Movie25</th>\n",
              "      <th>Movie26</th>\n",
              "      <th>Movie27</th>\n",
              "      <th>Movie28</th>\n",
              "      <th>Movie29</th>\n",
              "      <th>Movie30</th>\n",
              "      <th>Movie31</th>\n",
              "      <th>Movie32</th>\n",
              "      <th>Movie33</th>\n",
              "      <th>Movie34</th>\n",
              "      <th>Movie35</th>\n",
              "      <th>Movie36</th>\n",
              "      <th>Movie37</th>\n",
              "      <th>Movie38</th>\n",
              "      <th>Movie39</th>\n",
              "      <th>Movie40</th>\n",
              "      <th>Movie41</th>\n",
              "      <th>Movie42</th>\n",
              "      <th>Movie43</th>\n",
              "      <th>Movie44</th>\n",
              "      <th>Movie45</th>\n",
              "      <th>Movie46</th>\n",
              "      <th>Movie47</th>\n",
              "      <th>Movie48</th>\n",
              "      <th>Movie49</th>\n",
              "      <th>...</th>\n",
              "      <th>Movie158</th>\n",
              "      <th>Movie159</th>\n",
              "      <th>Movie160</th>\n",
              "      <th>Movie161</th>\n",
              "      <th>Movie162</th>\n",
              "      <th>Movie163</th>\n",
              "      <th>Movie164</th>\n",
              "      <th>Movie165</th>\n",
              "      <th>Movie166</th>\n",
              "      <th>Movie167</th>\n",
              "      <th>Movie168</th>\n",
              "      <th>Movie169</th>\n",
              "      <th>Movie170</th>\n",
              "      <th>Movie171</th>\n",
              "      <th>Movie172</th>\n",
              "      <th>Movie173</th>\n",
              "      <th>Movie174</th>\n",
              "      <th>Movie175</th>\n",
              "      <th>Movie176</th>\n",
              "      <th>Movie177</th>\n",
              "      <th>Movie178</th>\n",
              "      <th>Movie179</th>\n",
              "      <th>Movie180</th>\n",
              "      <th>Movie181</th>\n",
              "      <th>Movie182</th>\n",
              "      <th>Movie183</th>\n",
              "      <th>Movie184</th>\n",
              "      <th>Movie185</th>\n",
              "      <th>Movie186</th>\n",
              "      <th>Movie187</th>\n",
              "      <th>Movie188</th>\n",
              "      <th>Movie189</th>\n",
              "      <th>Movie190</th>\n",
              "      <th>Movie191</th>\n",
              "      <th>Movie192</th>\n",
              "      <th>Movie193</th>\n",
              "      <th>Movie194</th>\n",
              "      <th>Movie195</th>\n",
              "      <th>Movie196</th>\n",
              "      <th>Movie197</th>\n",
              "      <th>Movie198</th>\n",
              "      <th>Movie199</th>\n",
              "      <th>Movie200</th>\n",
              "      <th>Movie201</th>\n",
              "      <th>Movie202</th>\n",
              "      <th>Movie203</th>\n",
              "      <th>Movie204</th>\n",
              "      <th>Movie205</th>\n",
              "      <th>Movie206</th>\n",
              "      <th>Target</th>\n",
              "    </tr>\n",
              "  </thead>\n",
              "  <tbody>\n",
              "    <tr>\n",
              "      <th>0</th>\n",
              "      <td>2015.0</td>\n",
              "      <td>1.0</td>\n",
              "      <td>0.0</td>\n",
              "      <td>0.0</td>\n",
              "      <td>0.0</td>\n",
              "      <td>0.0</td>\n",
              "      <td>0.0</td>\n",
              "      <td>0.0</td>\n",
              "      <td>0.0</td>\n",
              "      <td>0.0</td>\n",
              "      <td>0.0</td>\n",
              "      <td>0.0</td>\n",
              "      <td>0.0</td>\n",
              "      <td>0.0</td>\n",
              "      <td>0.0</td>\n",
              "      <td>0.0</td>\n",
              "      <td>0.0</td>\n",
              "      <td>0.0</td>\n",
              "      <td>0.0</td>\n",
              "      <td>0.0</td>\n",
              "      <td>0.0</td>\n",
              "      <td>0.0</td>\n",
              "      <td>0.0</td>\n",
              "      <td>0.0</td>\n",
              "      <td>0.0</td>\n",
              "      <td>0.0</td>\n",
              "      <td>0.0</td>\n",
              "      <td>0.0</td>\n",
              "      <td>0.0</td>\n",
              "      <td>0.0</td>\n",
              "      <td>0.0</td>\n",
              "      <td>0.0</td>\n",
              "      <td>0.0</td>\n",
              "      <td>0.0</td>\n",
              "      <td>0.0</td>\n",
              "      <td>0.0</td>\n",
              "      <td>0.0</td>\n",
              "      <td>0.0</td>\n",
              "      <td>0.0</td>\n",
              "      <td>0.0</td>\n",
              "      <td>0.0</td>\n",
              "      <td>0.0</td>\n",
              "      <td>0.0</td>\n",
              "      <td>0.0</td>\n",
              "      <td>0.0</td>\n",
              "      <td>0.0</td>\n",
              "      <td>0.0</td>\n",
              "      <td>0.0</td>\n",
              "      <td>0.0</td>\n",
              "      <td>0.0</td>\n",
              "      <td>...</td>\n",
              "      <td>0.0</td>\n",
              "      <td>0.0</td>\n",
              "      <td>0.0</td>\n",
              "      <td>0.0</td>\n",
              "      <td>0.0</td>\n",
              "      <td>0.0</td>\n",
              "      <td>0.0</td>\n",
              "      <td>0.0</td>\n",
              "      <td>0.0</td>\n",
              "      <td>0.0</td>\n",
              "      <td>0.0</td>\n",
              "      <td>0.0</td>\n",
              "      <td>0.0</td>\n",
              "      <td>0.0</td>\n",
              "      <td>0.0</td>\n",
              "      <td>0.0</td>\n",
              "      <td>0.0</td>\n",
              "      <td>0.0</td>\n",
              "      <td>0.0</td>\n",
              "      <td>0.0</td>\n",
              "      <td>0.0</td>\n",
              "      <td>0.0</td>\n",
              "      <td>0.0</td>\n",
              "      <td>0.0</td>\n",
              "      <td>0.0</td>\n",
              "      <td>0.0</td>\n",
              "      <td>0.0</td>\n",
              "      <td>0.0</td>\n",
              "      <td>0.0</td>\n",
              "      <td>0.0</td>\n",
              "      <td>0.0</td>\n",
              "      <td>0.0</td>\n",
              "      <td>0.0</td>\n",
              "      <td>0.0</td>\n",
              "      <td>0.0</td>\n",
              "      <td>0.0</td>\n",
              "      <td>0.0</td>\n",
              "      <td>0.0</td>\n",
              "      <td>0.0</td>\n",
              "      <td>0.0</td>\n",
              "      <td>0.0</td>\n",
              "      <td>0.0</td>\n",
              "      <td>0.0</td>\n",
              "      <td>0.0</td>\n",
              "      <td>0.0</td>\n",
              "      <td>0.0</td>\n",
              "      <td>0.0</td>\n",
              "      <td>0.0</td>\n",
              "      <td>0.0</td>\n",
              "      <td>5.0</td>\n",
              "    </tr>\n",
              "    <tr>\n",
              "      <th>1</th>\n",
              "      <td>2015.0</td>\n",
              "      <td>0.0</td>\n",
              "      <td>1.0</td>\n",
              "      <td>0.0</td>\n",
              "      <td>0.0</td>\n",
              "      <td>0.0</td>\n",
              "      <td>0.0</td>\n",
              "      <td>0.0</td>\n",
              "      <td>0.0</td>\n",
              "      <td>0.0</td>\n",
              "      <td>0.0</td>\n",
              "      <td>0.0</td>\n",
              "      <td>0.0</td>\n",
              "      <td>0.0</td>\n",
              "      <td>0.0</td>\n",
              "      <td>0.0</td>\n",
              "      <td>0.0</td>\n",
              "      <td>0.0</td>\n",
              "      <td>0.0</td>\n",
              "      <td>0.0</td>\n",
              "      <td>0.0</td>\n",
              "      <td>0.0</td>\n",
              "      <td>0.0</td>\n",
              "      <td>0.0</td>\n",
              "      <td>0.0</td>\n",
              "      <td>0.0</td>\n",
              "      <td>0.0</td>\n",
              "      <td>0.0</td>\n",
              "      <td>0.0</td>\n",
              "      <td>0.0</td>\n",
              "      <td>0.0</td>\n",
              "      <td>0.0</td>\n",
              "      <td>0.0</td>\n",
              "      <td>0.0</td>\n",
              "      <td>0.0</td>\n",
              "      <td>0.0</td>\n",
              "      <td>0.0</td>\n",
              "      <td>0.0</td>\n",
              "      <td>0.0</td>\n",
              "      <td>0.0</td>\n",
              "      <td>0.0</td>\n",
              "      <td>0.0</td>\n",
              "      <td>0.0</td>\n",
              "      <td>0.0</td>\n",
              "      <td>0.0</td>\n",
              "      <td>0.0</td>\n",
              "      <td>0.0</td>\n",
              "      <td>0.0</td>\n",
              "      <td>0.0</td>\n",
              "      <td>0.0</td>\n",
              "      <td>...</td>\n",
              "      <td>0.0</td>\n",
              "      <td>0.0</td>\n",
              "      <td>0.0</td>\n",
              "      <td>0.0</td>\n",
              "      <td>0.0</td>\n",
              "      <td>0.0</td>\n",
              "      <td>0.0</td>\n",
              "      <td>0.0</td>\n",
              "      <td>0.0</td>\n",
              "      <td>0.0</td>\n",
              "      <td>0.0</td>\n",
              "      <td>0.0</td>\n",
              "      <td>0.0</td>\n",
              "      <td>0.0</td>\n",
              "      <td>0.0</td>\n",
              "      <td>0.0</td>\n",
              "      <td>0.0</td>\n",
              "      <td>0.0</td>\n",
              "      <td>0.0</td>\n",
              "      <td>0.0</td>\n",
              "      <td>0.0</td>\n",
              "      <td>0.0</td>\n",
              "      <td>0.0</td>\n",
              "      <td>0.0</td>\n",
              "      <td>0.0</td>\n",
              "      <td>0.0</td>\n",
              "      <td>0.0</td>\n",
              "      <td>0.0</td>\n",
              "      <td>0.0</td>\n",
              "      <td>0.0</td>\n",
              "      <td>0.0</td>\n",
              "      <td>0.0</td>\n",
              "      <td>0.0</td>\n",
              "      <td>0.0</td>\n",
              "      <td>0.0</td>\n",
              "      <td>0.0</td>\n",
              "      <td>0.0</td>\n",
              "      <td>0.0</td>\n",
              "      <td>0.0</td>\n",
              "      <td>0.0</td>\n",
              "      <td>0.0</td>\n",
              "      <td>0.0</td>\n",
              "      <td>0.0</td>\n",
              "      <td>0.0</td>\n",
              "      <td>0.0</td>\n",
              "      <td>0.0</td>\n",
              "      <td>0.0</td>\n",
              "      <td>0.0</td>\n",
              "      <td>0.0</td>\n",
              "      <td>5.0</td>\n",
              "    </tr>\n",
              "    <tr>\n",
              "      <th>2</th>\n",
              "      <td>2373.0</td>\n",
              "      <td>0.0</td>\n",
              "      <td>0.0</td>\n",
              "      <td>1.0</td>\n",
              "      <td>0.0</td>\n",
              "      <td>0.0</td>\n",
              "      <td>0.0</td>\n",
              "      <td>0.0</td>\n",
              "      <td>0.0</td>\n",
              "      <td>0.0</td>\n",
              "      <td>0.0</td>\n",
              "      <td>0.0</td>\n",
              "      <td>0.0</td>\n",
              "      <td>0.0</td>\n",
              "      <td>0.0</td>\n",
              "      <td>0.0</td>\n",
              "      <td>0.0</td>\n",
              "      <td>0.0</td>\n",
              "      <td>0.0</td>\n",
              "      <td>0.0</td>\n",
              "      <td>0.0</td>\n",
              "      <td>0.0</td>\n",
              "      <td>0.0</td>\n",
              "      <td>0.0</td>\n",
              "      <td>0.0</td>\n",
              "      <td>0.0</td>\n",
              "      <td>0.0</td>\n",
              "      <td>0.0</td>\n",
              "      <td>0.0</td>\n",
              "      <td>0.0</td>\n",
              "      <td>0.0</td>\n",
              "      <td>0.0</td>\n",
              "      <td>0.0</td>\n",
              "      <td>0.0</td>\n",
              "      <td>0.0</td>\n",
              "      <td>0.0</td>\n",
              "      <td>0.0</td>\n",
              "      <td>0.0</td>\n",
              "      <td>0.0</td>\n",
              "      <td>0.0</td>\n",
              "      <td>0.0</td>\n",
              "      <td>0.0</td>\n",
              "      <td>0.0</td>\n",
              "      <td>0.0</td>\n",
              "      <td>0.0</td>\n",
              "      <td>0.0</td>\n",
              "      <td>0.0</td>\n",
              "      <td>0.0</td>\n",
              "      <td>0.0</td>\n",
              "      <td>0.0</td>\n",
              "      <td>...</td>\n",
              "      <td>0.0</td>\n",
              "      <td>0.0</td>\n",
              "      <td>0.0</td>\n",
              "      <td>0.0</td>\n",
              "      <td>0.0</td>\n",
              "      <td>0.0</td>\n",
              "      <td>0.0</td>\n",
              "      <td>0.0</td>\n",
              "      <td>0.0</td>\n",
              "      <td>0.0</td>\n",
              "      <td>0.0</td>\n",
              "      <td>0.0</td>\n",
              "      <td>0.0</td>\n",
              "      <td>0.0</td>\n",
              "      <td>0.0</td>\n",
              "      <td>0.0</td>\n",
              "      <td>0.0</td>\n",
              "      <td>0.0</td>\n",
              "      <td>0.0</td>\n",
              "      <td>0.0</td>\n",
              "      <td>0.0</td>\n",
              "      <td>0.0</td>\n",
              "      <td>0.0</td>\n",
              "      <td>0.0</td>\n",
              "      <td>0.0</td>\n",
              "      <td>0.0</td>\n",
              "      <td>0.0</td>\n",
              "      <td>0.0</td>\n",
              "      <td>0.0</td>\n",
              "      <td>0.0</td>\n",
              "      <td>0.0</td>\n",
              "      <td>0.0</td>\n",
              "      <td>0.0</td>\n",
              "      <td>0.0</td>\n",
              "      <td>0.0</td>\n",
              "      <td>0.0</td>\n",
              "      <td>0.0</td>\n",
              "      <td>0.0</td>\n",
              "      <td>0.0</td>\n",
              "      <td>0.0</td>\n",
              "      <td>0.0</td>\n",
              "      <td>0.0</td>\n",
              "      <td>0.0</td>\n",
              "      <td>0.0</td>\n",
              "      <td>0.0</td>\n",
              "      <td>0.0</td>\n",
              "      <td>0.0</td>\n",
              "      <td>0.0</td>\n",
              "      <td>0.0</td>\n",
              "      <td>2.0</td>\n",
              "    </tr>\n",
              "    <tr>\n",
              "      <th>3</th>\n",
              "      <td>2821.0</td>\n",
              "      <td>0.0</td>\n",
              "      <td>0.0</td>\n",
              "      <td>0.0</td>\n",
              "      <td>1.0</td>\n",
              "      <td>0.0</td>\n",
              "      <td>0.0</td>\n",
              "      <td>0.0</td>\n",
              "      <td>0.0</td>\n",
              "      <td>0.0</td>\n",
              "      <td>0.0</td>\n",
              "      <td>0.0</td>\n",
              "      <td>0.0</td>\n",
              "      <td>0.0</td>\n",
              "      <td>0.0</td>\n",
              "      <td>0.0</td>\n",
              "      <td>0.0</td>\n",
              "      <td>0.0</td>\n",
              "      <td>0.0</td>\n",
              "      <td>0.0</td>\n",
              "      <td>0.0</td>\n",
              "      <td>0.0</td>\n",
              "      <td>0.0</td>\n",
              "      <td>0.0</td>\n",
              "      <td>0.0</td>\n",
              "      <td>0.0</td>\n",
              "      <td>0.0</td>\n",
              "      <td>0.0</td>\n",
              "      <td>0.0</td>\n",
              "      <td>0.0</td>\n",
              "      <td>0.0</td>\n",
              "      <td>0.0</td>\n",
              "      <td>0.0</td>\n",
              "      <td>0.0</td>\n",
              "      <td>0.0</td>\n",
              "      <td>0.0</td>\n",
              "      <td>0.0</td>\n",
              "      <td>0.0</td>\n",
              "      <td>0.0</td>\n",
              "      <td>0.0</td>\n",
              "      <td>0.0</td>\n",
              "      <td>0.0</td>\n",
              "      <td>0.0</td>\n",
              "      <td>0.0</td>\n",
              "      <td>0.0</td>\n",
              "      <td>0.0</td>\n",
              "      <td>0.0</td>\n",
              "      <td>0.0</td>\n",
              "      <td>0.0</td>\n",
              "      <td>0.0</td>\n",
              "      <td>...</td>\n",
              "      <td>0.0</td>\n",
              "      <td>0.0</td>\n",
              "      <td>0.0</td>\n",
              "      <td>0.0</td>\n",
              "      <td>0.0</td>\n",
              "      <td>0.0</td>\n",
              "      <td>0.0</td>\n",
              "      <td>0.0</td>\n",
              "      <td>0.0</td>\n",
              "      <td>0.0</td>\n",
              "      <td>0.0</td>\n",
              "      <td>0.0</td>\n",
              "      <td>0.0</td>\n",
              "      <td>0.0</td>\n",
              "      <td>0.0</td>\n",
              "      <td>0.0</td>\n",
              "      <td>0.0</td>\n",
              "      <td>0.0</td>\n",
              "      <td>0.0</td>\n",
              "      <td>0.0</td>\n",
              "      <td>0.0</td>\n",
              "      <td>0.0</td>\n",
              "      <td>0.0</td>\n",
              "      <td>0.0</td>\n",
              "      <td>0.0</td>\n",
              "      <td>0.0</td>\n",
              "      <td>0.0</td>\n",
              "      <td>0.0</td>\n",
              "      <td>0.0</td>\n",
              "      <td>0.0</td>\n",
              "      <td>0.0</td>\n",
              "      <td>0.0</td>\n",
              "      <td>0.0</td>\n",
              "      <td>0.0</td>\n",
              "      <td>0.0</td>\n",
              "      <td>0.0</td>\n",
              "      <td>0.0</td>\n",
              "      <td>0.0</td>\n",
              "      <td>0.0</td>\n",
              "      <td>0.0</td>\n",
              "      <td>0.0</td>\n",
              "      <td>0.0</td>\n",
              "      <td>0.0</td>\n",
              "      <td>0.0</td>\n",
              "      <td>0.0</td>\n",
              "      <td>0.0</td>\n",
              "      <td>0.0</td>\n",
              "      <td>0.0</td>\n",
              "      <td>0.0</td>\n",
              "      <td>5.0</td>\n",
              "    </tr>\n",
              "    <tr>\n",
              "      <th>4</th>\n",
              "      <td>3384.0</td>\n",
              "      <td>0.0</td>\n",
              "      <td>0.0</td>\n",
              "      <td>0.0</td>\n",
              "      <td>1.0</td>\n",
              "      <td>0.0</td>\n",
              "      <td>0.0</td>\n",
              "      <td>0.0</td>\n",
              "      <td>0.0</td>\n",
              "      <td>0.0</td>\n",
              "      <td>0.0</td>\n",
              "      <td>0.0</td>\n",
              "      <td>0.0</td>\n",
              "      <td>0.0</td>\n",
              "      <td>0.0</td>\n",
              "      <td>0.0</td>\n",
              "      <td>0.0</td>\n",
              "      <td>0.0</td>\n",
              "      <td>0.0</td>\n",
              "      <td>0.0</td>\n",
              "      <td>0.0</td>\n",
              "      <td>0.0</td>\n",
              "      <td>0.0</td>\n",
              "      <td>0.0</td>\n",
              "      <td>0.0</td>\n",
              "      <td>0.0</td>\n",
              "      <td>0.0</td>\n",
              "      <td>0.0</td>\n",
              "      <td>0.0</td>\n",
              "      <td>0.0</td>\n",
              "      <td>0.0</td>\n",
              "      <td>0.0</td>\n",
              "      <td>0.0</td>\n",
              "      <td>0.0</td>\n",
              "      <td>0.0</td>\n",
              "      <td>0.0</td>\n",
              "      <td>0.0</td>\n",
              "      <td>0.0</td>\n",
              "      <td>0.0</td>\n",
              "      <td>0.0</td>\n",
              "      <td>0.0</td>\n",
              "      <td>0.0</td>\n",
              "      <td>0.0</td>\n",
              "      <td>0.0</td>\n",
              "      <td>0.0</td>\n",
              "      <td>0.0</td>\n",
              "      <td>0.0</td>\n",
              "      <td>0.0</td>\n",
              "      <td>0.0</td>\n",
              "      <td>0.0</td>\n",
              "      <td>...</td>\n",
              "      <td>0.0</td>\n",
              "      <td>0.0</td>\n",
              "      <td>0.0</td>\n",
              "      <td>0.0</td>\n",
              "      <td>0.0</td>\n",
              "      <td>0.0</td>\n",
              "      <td>0.0</td>\n",
              "      <td>0.0</td>\n",
              "      <td>0.0</td>\n",
              "      <td>0.0</td>\n",
              "      <td>0.0</td>\n",
              "      <td>0.0</td>\n",
              "      <td>0.0</td>\n",
              "      <td>0.0</td>\n",
              "      <td>0.0</td>\n",
              "      <td>0.0</td>\n",
              "      <td>0.0</td>\n",
              "      <td>0.0</td>\n",
              "      <td>0.0</td>\n",
              "      <td>0.0</td>\n",
              "      <td>0.0</td>\n",
              "      <td>0.0</td>\n",
              "      <td>0.0</td>\n",
              "      <td>0.0</td>\n",
              "      <td>0.0</td>\n",
              "      <td>0.0</td>\n",
              "      <td>0.0</td>\n",
              "      <td>0.0</td>\n",
              "      <td>0.0</td>\n",
              "      <td>0.0</td>\n",
              "      <td>0.0</td>\n",
              "      <td>0.0</td>\n",
              "      <td>0.0</td>\n",
              "      <td>0.0</td>\n",
              "      <td>0.0</td>\n",
              "      <td>0.0</td>\n",
              "      <td>0.0</td>\n",
              "      <td>0.0</td>\n",
              "      <td>0.0</td>\n",
              "      <td>0.0</td>\n",
              "      <td>0.0</td>\n",
              "      <td>0.0</td>\n",
              "      <td>0.0</td>\n",
              "      <td>0.0</td>\n",
              "      <td>0.0</td>\n",
              "      <td>0.0</td>\n",
              "      <td>0.0</td>\n",
              "      <td>0.0</td>\n",
              "      <td>0.0</td>\n",
              "      <td>5.0</td>\n",
              "    </tr>\n",
              "  </tbody>\n",
              "</table>\n",
              "<p>5 rows × 208 columns</p>\n",
              "</div>\n",
              "      <button class=\"colab-df-convert\" onclick=\"convertToInteractive('df-ed5337e2-a217-4a3c-810c-e2c9c20f8257')\"\n",
              "              title=\"Convert this dataframe to an interactive table.\"\n",
              "              style=\"display:none;\">\n",
              "        \n",
              "  <svg xmlns=\"http://www.w3.org/2000/svg\" height=\"24px\"viewBox=\"0 0 24 24\"\n",
              "       width=\"24px\">\n",
              "    <path d=\"M0 0h24v24H0V0z\" fill=\"none\"/>\n",
              "    <path d=\"M18.56 5.44l.94 2.06.94-2.06 2.06-.94-2.06-.94-.94-2.06-.94 2.06-2.06.94zm-11 1L8.5 8.5l.94-2.06 2.06-.94-2.06-.94L8.5 2.5l-.94 2.06-2.06.94zm10 10l.94 2.06.94-2.06 2.06-.94-2.06-.94-.94-2.06-.94 2.06-2.06.94z\"/><path d=\"M17.41 7.96l-1.37-1.37c-.4-.4-.92-.59-1.43-.59-.52 0-1.04.2-1.43.59L10.3 9.45l-7.72 7.72c-.78.78-.78 2.05 0 2.83L4 21.41c.39.39.9.59 1.41.59.51 0 1.02-.2 1.41-.59l7.78-7.78 2.81-2.81c.8-.78.8-2.07 0-2.86zM5.41 20L4 18.59l7.72-7.72 1.47 1.35L5.41 20z\"/>\n",
              "  </svg>\n",
              "      </button>\n",
              "      \n",
              "  <style>\n",
              "    .colab-df-container {\n",
              "      display:flex;\n",
              "      flex-wrap:wrap;\n",
              "      gap: 12px;\n",
              "    }\n",
              "\n",
              "    .colab-df-convert {\n",
              "      background-color: #E8F0FE;\n",
              "      border: none;\n",
              "      border-radius: 50%;\n",
              "      cursor: pointer;\n",
              "      display: none;\n",
              "      fill: #1967D2;\n",
              "      height: 32px;\n",
              "      padding: 0 0 0 0;\n",
              "      width: 32px;\n",
              "    }\n",
              "\n",
              "    .colab-df-convert:hover {\n",
              "      background-color: #E2EBFA;\n",
              "      box-shadow: 0px 1px 2px rgba(60, 64, 67, 0.3), 0px 1px 3px 1px rgba(60, 64, 67, 0.15);\n",
              "      fill: #174EA6;\n",
              "    }\n",
              "\n",
              "    [theme=dark] .colab-df-convert {\n",
              "      background-color: #3B4455;\n",
              "      fill: #D2E3FC;\n",
              "    }\n",
              "\n",
              "    [theme=dark] .colab-df-convert:hover {\n",
              "      background-color: #434B5C;\n",
              "      box-shadow: 0px 1px 3px 1px rgba(0, 0, 0, 0.15);\n",
              "      filter: drop-shadow(0px 1px 2px rgba(0, 0, 0, 0.3));\n",
              "      fill: #FFFFFF;\n",
              "    }\n",
              "  </style>\n",
              "\n",
              "      <script>\n",
              "        const buttonEl =\n",
              "          document.querySelector('#df-ed5337e2-a217-4a3c-810c-e2c9c20f8257 button.colab-df-convert');\n",
              "        buttonEl.style.display =\n",
              "          google.colab.kernel.accessAllowed ? 'block' : 'none';\n",
              "\n",
              "        async function convertToInteractive(key) {\n",
              "          const element = document.querySelector('#df-ed5337e2-a217-4a3c-810c-e2c9c20f8257');\n",
              "          const dataTable =\n",
              "            await google.colab.kernel.invokeFunction('convertToInteractive',\n",
              "                                                     [key], {});\n",
              "          if (!dataTable) return;\n",
              "\n",
              "          const docLinkHtml = 'Like what you see? Visit the ' +\n",
              "            '<a target=\"_blank\" href=https://colab.research.google.com/notebooks/data_table.ipynb>data table notebook</a>'\n",
              "            + ' to learn more about interactive tables.';\n",
              "          element.innerHTML = '';\n",
              "          dataTable['output_type'] = 'display_data';\n",
              "          await google.colab.output.renderOutput(dataTable, element);\n",
              "          const docLink = document.createElement('div');\n",
              "          docLink.innerHTML = docLinkHtml;\n",
              "          element.appendChild(docLink);\n",
              "        }\n",
              "      </script>\n",
              "    </div>\n",
              "  </div>\n",
              "  "
            ]
          },
          "metadata": {},
          "execution_count": 54
        }
      ],
      "source": [
        "df_2=df_ready.copy(deep=True)\n",
        "df_2.head()"
      ]
    },
    {
      "cell_type": "code",
      "execution_count": 55,
      "metadata": {
        "colab": {
          "base_uri": "https://localhost:8080/"
        },
        "id": "mYc24MU6gy4_",
        "outputId": "6f7c5f47-c772-461e-cb97-af6a9ebcf15a"
      },
      "outputs": [
        {
          "output_type": "execute_result",
          "data": {
            "text/plain": [
              "5.0    3659\n",
              "4.0     521\n",
              "1.0     363\n",
              "3.0     272\n",
              "2.0     185\n",
              "Name: Target, dtype: int64"
            ]
          },
          "metadata": {},
          "execution_count": 55
        }
      ],
      "source": [
        "df_2_vc=df_2['Target'].value_counts()\n",
        "df_2_vc"
      ]
    },
    {
      "cell_type": "code",
      "source": [
        "df_2_vc.plot.pie()"
      ],
      "metadata": {
        "colab": {
          "base_uri": "https://localhost:8080/",
          "height": 265
        },
        "id": "QtnZPG8EKz7U",
        "outputId": "69f5d5db-4cd2-4ee4-ea9b-722f62b9d0ab"
      },
      "execution_count": 56,
      "outputs": [
        {
          "output_type": "execute_result",
          "data": {
            "text/plain": [
              "<matplotlib.axes._subplots.AxesSubplot at 0x7f1b925493d0>"
            ]
          },
          "metadata": {},
          "execution_count": 56
        },
        {
          "output_type": "display_data",
          "data": {
            "text/plain": [
              "<Figure size 432x288 with 1 Axes>"
            ],
            "image/png": "[encoded data removed]"
          },
          "metadata": {}
        }
      ]
    },
    {
      "cell_type": "code",
      "source": [
        "# percentage\n",
        "df_2_vc/df_2_vc.sum()*100"
      ],
      "metadata": {
        "colab": {
          "base_uri": "https://localhost:8080/"
        },
        "id": "INgDn7I1ZxIl",
        "outputId": "10b9703c-b9b3-4edd-aa55-7880985c0b80"
      },
      "execution_count": 57,
      "outputs": [
        {
          "output_type": "execute_result",
          "data": {
            "text/plain": [
              "5.0    73.18\n",
              "4.0    10.42\n",
              "1.0     7.26\n",
              "3.0     5.44\n",
              "2.0     3.70\n",
              "Name: Target, dtype: float64"
            ]
          },
          "metadata": {},
          "execution_count": 57
        }
      ]
    },
    {
      "cell_type": "code",
      "source": [
        "x_s = df_2['Target']\n",
        "plt.hist(x=x_s, range = (0, 6), color = 'yellow',\n",
        "            edgecolor = 'red', hatch = 'x',\n",
        "            orientation = 'horizontal', rwidth = 0.3, log = True)\n",
        "plt.ylabel('Target')\n",
        "plt.xlabel('Count')\n",
        "plt.title('Counting Target values')"
      ],
      "metadata": {
        "colab": {
          "base_uri": "https://localhost:8080/",
          "height": 316
        },
        "id": "JBPDIhHRcjLu",
        "outputId": "04b09438-5c73-47b7-d103-d2172c384e83"
      },
      "execution_count": 58,
      "outputs": [
        {
          "output_type": "execute_result",
          "data": {
            "text/plain": [
              "Text(0.5, 1.0, 'Counting Target values')"
            ]
          },
          "metadata": {},
          "execution_count": 58
        },
        {
          "output_type": "display_data",
          "data": {
            "text/plain": [
              "<Figure size 432x288 with 1 Axes>"
            ],
            "image/png": "[encoded data removed]"
          },
          "metadata": {
            "needs_background": "light"
          }
        }
      ]
    },
    {
      "cell_type": "code",
      "execution_count": 59,
      "metadata": {
        "colab": {
          "base_uri": "https://localhost:8080/",
          "height": 206
        },
        "id": "92DKWSqKiZgl",
        "outputId": "9dc9cba4-c5c6-4fa6-ddf4-23eb27dbfd30"
      },
      "outputs": [
        {
          "output_type": "execute_result",
          "data": {
            "text/plain": [
              "     Target\n",
              "5.0    3659\n",
              "4.0     521\n",
              "1.0     363\n",
              "3.0     272\n",
              "2.0     185"
            ],
            "text/html": [
              "\n",
              "  <div id=\"df-f6d7d3ff-eccd-48ca-84cc-2334bfa341e0\">\n",
              "    <div class=\"colab-df-container\">\n",
              "      <div>\n",
              "<style scoped>\n",
              "    .dataframe tbody tr th:only-of-type {\n",
              "        vertical-align: middle;\n",
              "    }\n",
              "\n",
              "    .dataframe tbody tr th {\n",
              "        vertical-align: top;\n",
              "    }\n",
              "\n",
              "    .dataframe thead th {\n",
              "        text-align: right;\n",
              "    }\n",
              "</style>\n",
              "<table border=\"1\" class=\"dataframe\">\n",
              "  <thead>\n",
              "    <tr style=\"text-align: right;\">\n",
              "      <th></th>\n",
              "      <th>Target</th>\n",
              "    </tr>\n",
              "  </thead>\n",
              "  <tbody>\n",
              "    <tr>\n",
              "      <th>5.0</th>\n",
              "      <td>3659</td>\n",
              "    </tr>\n",
              "    <tr>\n",
              "      <th>4.0</th>\n",
              "      <td>521</td>\n",
              "    </tr>\n",
              "    <tr>\n",
              "      <th>1.0</th>\n",
              "      <td>363</td>\n",
              "    </tr>\n",
              "    <tr>\n",
              "      <th>3.0</th>\n",
              "      <td>272</td>\n",
              "    </tr>\n",
              "    <tr>\n",
              "      <th>2.0</th>\n",
              "      <td>185</td>\n",
              "    </tr>\n",
              "  </tbody>\n",
              "</table>\n",
              "</div>\n",
              "      <button class=\"colab-df-convert\" onclick=\"convertToInteractive('df-f6d7d3ff-eccd-48ca-84cc-2334bfa341e0')\"\n",
              "              title=\"Convert this dataframe to an interactive table.\"\n",
              "              style=\"display:none;\">\n",
              "        \n",
              "  <svg xmlns=\"http://www.w3.org/2000/svg\" height=\"24px\"viewBox=\"0 0 24 24\"\n",
              "       width=\"24px\">\n",
              "    <path d=\"M0 0h24v24H0V0z\" fill=\"none\"/>\n",
              "    <path d=\"M18.56 5.44l.94 2.06.94-2.06 2.06-.94-2.06-.94-.94-2.06-.94 2.06-2.06.94zm-11 1L8.5 8.5l.94-2.06 2.06-.94-2.06-.94L8.5 2.5l-.94 2.06-2.06.94zm10 10l.94 2.06.94-2.06 2.06-.94-2.06-.94-.94-2.06-.94 2.06-2.06.94z\"/><path d=\"M17.41 7.96l-1.37-1.37c-.4-.4-.92-.59-1.43-.59-.52 0-1.04.2-1.43.59L10.3 9.45l-7.72 7.72c-.78.78-.78 2.05 0 2.83L4 21.41c.39.39.9.59 1.41.59.51 0 1.02-.2 1.41-.59l7.78-7.78 2.81-2.81c.8-.78.8-2.07 0-2.86zM5.41 20L4 18.59l7.72-7.72 1.47 1.35L5.41 20z\"/>\n",
              "  </svg>\n",
              "      </button>\n",
              "      \n",
              "  <style>\n",
              "    .colab-df-container {\n",
              "      display:flex;\n",
              "      flex-wrap:wrap;\n",
              "      gap: 12px;\n",
              "    }\n",
              "\n",
              "    .colab-df-convert {\n",
              "      background-color: #E8F0FE;\n",
              "      border: none;\n",
              "      border-radius: 50%;\n",
              "      cursor: pointer;\n",
              "      display: none;\n",
              "      fill: #1967D2;\n",
              "      height: 32px;\n",
              "      padding: 0 0 0 0;\n",
              "      width: 32px;\n",
              "    }\n",
              "\n",
              "    .colab-df-convert:hover {\n",
              "      background-color: #E2EBFA;\n",
              "      box-shadow: 0px 1px 2px rgba(60, 64, 67, 0.3), 0px 1px 3px 1px rgba(60, 64, 67, 0.15);\n",
              "      fill: #174EA6;\n",
              "    }\n",
              "\n",
              "    [theme=dark] .colab-df-convert {\n",
              "      background-color: #3B4455;\n",
              "      fill: #D2E3FC;\n",
              "    }\n",
              "\n",
              "    [theme=dark] .colab-df-convert:hover {\n",
              "      background-color: #434B5C;\n",
              "      box-shadow: 0px 1px 3px 1px rgba(0, 0, 0, 0.15);\n",
              "      filter: drop-shadow(0px 1px 2px rgba(0, 0, 0, 0.3));\n",
              "      fill: #FFFFFF;\n",
              "    }\n",
              "  </style>\n",
              "\n",
              "      <script>\n",
              "        const buttonEl =\n",
              "          document.querySelector('#df-f6d7d3ff-eccd-48ca-84cc-2334bfa341e0 button.colab-df-convert');\n",
              "        buttonEl.style.display =\n",
              "          google.colab.kernel.accessAllowed ? 'block' : 'none';\n",
              "\n",
              "        async function convertToInteractive(key) {\n",
              "          const element = document.querySelector('#df-f6d7d3ff-eccd-48ca-84cc-2334bfa341e0');\n",
              "          const dataTable =\n",
              "            await google.colab.kernel.invokeFunction('convertToInteractive',\n",
              "                                                     [key], {});\n",
              "          if (!dataTable) return;\n",
              "\n",
              "          const docLinkHtml = 'Like what you see? Visit the ' +\n",
              "            '<a target=\"_blank\" href=https://colab.research.google.com/notebooks/data_table.ipynb>data table notebook</a>'\n",
              "            + ' to learn more about interactive tables.';\n",
              "          element.innerHTML = '';\n",
              "          dataTable['output_type'] = 'display_data';\n",
              "          await google.colab.output.renderOutput(dataTable, element);\n",
              "          const docLink = document.createElement('div');\n",
              "          docLink.innerHTML = docLinkHtml;\n",
              "          element.appendChild(docLink);\n",
              "        }\n",
              "      </script>\n",
              "    </div>\n",
              "  </div>\n",
              "  "
            ]
          },
          "metadata": {},
          "execution_count": 59
        }
      ],
      "source": [
        "df_2_vc=df_2_vc.to_frame()\n",
        "df_2_vc"
      ]
    },
    {
      "cell_type": "code",
      "execution_count": 60,
      "metadata": {
        "colab": {
          "base_uri": "https://localhost:8080/",
          "height": 206
        },
        "id": "s8Etv8cQj8NW",
        "outputId": "91738f2d-de36-4e2a-ef2f-4946deec2dc4"
      },
      "outputs": [
        {
          "output_type": "execute_result",
          "data": {
            "text/plain": [
              "   Target  count\n",
              "2     1.0    363\n",
              "4     2.0    185\n",
              "3     3.0    272\n",
              "1     4.0    521\n",
              "0     5.0   3659"
            ],
            "text/html": [
              "\n",
              "  <div id=\"df-b77ada57-74fa-40e0-bcab-53ecf21e5059\">\n",
              "    <div class=\"colab-df-container\">\n",
              "      <div>\n",
              "<style scoped>\n",
              "    .dataframe tbody tr th:only-of-type {\n",
              "        vertical-align: middle;\n",
              "    }\n",
              "\n",
              "    .dataframe tbody tr th {\n",
              "        vertical-align: top;\n",
              "    }\n",
              "\n",
              "    .dataframe thead th {\n",
              "        text-align: right;\n",
              "    }\n",
              "</style>\n",
              "<table border=\"1\" class=\"dataframe\">\n",
              "  <thead>\n",
              "    <tr style=\"text-align: right;\">\n",
              "      <th></th>\n",
              "      <th>Target</th>\n",
              "      <th>count</th>\n",
              "    </tr>\n",
              "  </thead>\n",
              "  <tbody>\n",
              "    <tr>\n",
              "      <th>2</th>\n",
              "      <td>1.0</td>\n",
              "      <td>363</td>\n",
              "    </tr>\n",
              "    <tr>\n",
              "      <th>4</th>\n",
              "      <td>2.0</td>\n",
              "      <td>185</td>\n",
              "    </tr>\n",
              "    <tr>\n",
              "      <th>3</th>\n",
              "      <td>3.0</td>\n",
              "      <td>272</td>\n",
              "    </tr>\n",
              "    <tr>\n",
              "      <th>1</th>\n",
              "      <td>4.0</td>\n",
              "      <td>521</td>\n",
              "    </tr>\n",
              "    <tr>\n",
              "      <th>0</th>\n",
              "      <td>5.0</td>\n",
              "      <td>3659</td>\n",
              "    </tr>\n",
              "  </tbody>\n",
              "</table>\n",
              "</div>\n",
              "      <button class=\"colab-df-convert\" onclick=\"convertToInteractive('df-b77ada57-74fa-40e0-bcab-53ecf21e5059')\"\n",
              "              title=\"Convert this dataframe to an interactive table.\"\n",
              "              style=\"display:none;\">\n",
              "        \n",
              "  <svg xmlns=\"http://www.w3.org/2000/svg\" height=\"24px\"viewBox=\"0 0 24 24\"\n",
              "       width=\"24px\">\n",
              "    <path d=\"M0 0h24v24H0V0z\" fill=\"none\"/>\n",
              "    <path d=\"M18.56 5.44l.94 2.06.94-2.06 2.06-.94-2.06-.94-.94-2.06-.94 2.06-2.06.94zm-11 1L8.5 8.5l.94-2.06 2.06-.94-2.06-.94L8.5 2.5l-.94 2.06-2.06.94zm10 10l.94 2.06.94-2.06 2.06-.94-2.06-.94-.94-2.06-.94 2.06-2.06.94z\"/><path d=\"M17.41 7.96l-1.37-1.37c-.4-.4-.92-.59-1.43-.59-.52 0-1.04.2-1.43.59L10.3 9.45l-7.72 7.72c-.78.78-.78 2.05 0 2.83L4 21.41c.39.39.9.59 1.41.59.51 0 1.02-.2 1.41-.59l7.78-7.78 2.81-2.81c.8-.78.8-2.07 0-2.86zM5.41 20L4 18.59l7.72-7.72 1.47 1.35L5.41 20z\"/>\n",
              "  </svg>\n",
              "      </button>\n",
              "      \n",
              "  <style>\n",
              "    .colab-df-container {\n",
              "      display:flex;\n",
              "      flex-wrap:wrap;\n",
              "      gap: 12px;\n",
              "    }\n",
              "\n",
              "    .colab-df-convert {\n",
              "      background-color: #E8F0FE;\n",
              "      border: none;\n",
              "      border-radius: 50%;\n",
              "      cursor: pointer;\n",
              "      display: none;\n",
              "      fill: #1967D2;\n",
              "      height: 32px;\n",
              "      padding: 0 0 0 0;\n",
              "      width: 32px;\n",
              "    }\n",
              "\n",
              "    .colab-df-convert:hover {\n",
              "      background-color: #E2EBFA;\n",
              "      box-shadow: 0px 1px 2px rgba(60, 64, 67, 0.3), 0px 1px 3px 1px rgba(60, 64, 67, 0.15);\n",
              "      fill: #174EA6;\n",
              "    }\n",
              "\n",
              "    [theme=dark] .colab-df-convert {\n",
              "      background-color: #3B4455;\n",
              "      fill: #D2E3FC;\n",
              "    }\n",
              "\n",
              "    [theme=dark] .colab-df-convert:hover {\n",
              "      background-color: #434B5C;\n",
              "      box-shadow: 0px 1px 3px 1px rgba(0, 0, 0, 0.15);\n",
              "      filter: drop-shadow(0px 1px 2px rgba(0, 0, 0, 0.3));\n",
              "      fill: #FFFFFF;\n",
              "    }\n",
              "  </style>\n",
              "\n",
              "      <script>\n",
              "        const buttonEl =\n",
              "          document.querySelector('#df-b77ada57-74fa-40e0-bcab-53ecf21e5059 button.colab-df-convert');\n",
              "        buttonEl.style.display =\n",
              "          google.colab.kernel.accessAllowed ? 'block' : 'none';\n",
              "\n",
              "        async function convertToInteractive(key) {\n",
              "          const element = document.querySelector('#df-b77ada57-74fa-40e0-bcab-53ecf21e5059');\n",
              "          const dataTable =\n",
              "            await google.colab.kernel.invokeFunction('convertToInteractive',\n",
              "                                                     [key], {});\n",
              "          if (!dataTable) return;\n",
              "\n",
              "          const docLinkHtml = 'Like what you see? Visit the ' +\n",
              "            '<a target=\"_blank\" href=https://colab.research.google.com/notebooks/data_table.ipynb>data table notebook</a>'\n",
              "            + ' to learn more about interactive tables.';\n",
              "          element.innerHTML = '';\n",
              "          dataTable['output_type'] = 'display_data';\n",
              "          await google.colab.output.renderOutput(dataTable, element);\n",
              "          const docLink = document.createElement('div');\n",
              "          docLink.innerHTML = docLinkHtml;\n",
              "          element.appendChild(docLink);\n",
              "        }\n",
              "      </script>\n",
              "    </div>\n",
              "  </div>\n",
              "  "
            ]
          },
          "metadata": {},
          "execution_count": 60
        }
      ],
      "source": [
        "Target= list(df_2_vc.index)\n",
        "count=list(df_2_vc['Target'])\n",
        "df_plot=pd.DataFrame({'Target':Target,'count':count})\n",
        "df_plot=df_plot.sort_values(by='Target')\n",
        "df_plot"
      ]
    },
    {
      "cell_type": "markdown",
      "source": [
        "## **Taking into account user_id column**"
      ],
      "metadata": {
        "id": "9lQdB6lolmAw"
      }
    },
    {
      "cell_type": "code",
      "execution_count": null,
      "metadata": {
        "colab": {
          "base_uri": "https://localhost:8080/"
        },
        "id": "wHllIyvFe0Pq",
        "outputId": "ec8fcc4e-1a3b-4d4b-dccc-12dce7cc7cb5"
      },
      "outputs": [
        {
          "output_type": "execute_result",
          "data": {
            "text/plain": [
              "((5000, 207), (5000,))"
            ]
          },
          "metadata": {},
          "execution_count": 65
        }
      ],
      "source": [
        "# def of X, Y\n",
        "Y=df_2[df_2.columns[-1]]\n",
        "X=df_2[df_2.columns[0:-1]] # take column user_id into account\n",
        "X.shape, Y.shape"
      ]
    },
    {
      "cell_type": "code",
      "execution_count": null,
      "metadata": {
        "colab": {
          "base_uri": "https://localhost:8080/"
        },
        "id": "jitFWUeke79a",
        "outputId": "b8867aa4-888c-4db1-d130-c7db49c08674"
      },
      "outputs": [
        {
          "output_type": "execute_result",
          "data": {
            "text/plain": [
              "((4000, 207), (1000, 207), (4000,), (1000,))"
            ]
          },
          "metadata": {},
          "execution_count": 66
        }
      ],
      "source": [
        "# Split() ---> define X_train,X_test,y_train,y_test\n",
        "from sklearn.model_selection import train_test_split\n",
        "#\n",
        "in_test_size=20/100\n",
        "X_train,X_test,y_train,y_test = train_test_split(X,Y,test_size=in_test_size,random_state=0)\n",
        "#\n",
        "X_train.shape,X_test.shape,y_train.shape,y_test.shape"
      ]
    },
    {
      "cell_type": "code",
      "source": [
        "# data imbalance\n",
        "from sklearn.svm import SVC\n",
        "model_svc=SVC(random_state=0)\n",
        "model_svc.fit(X_train,y_train)\n",
        "ypred=model_svc.predict(X_train)\n",
        "list(set(ypred))"
      ],
      "metadata": {
        "colab": {
          "base_uri": "https://localhost:8080/"
        },
        "id": "fAuMP79bh4Ll",
        "outputId": "80b84b37-ea38-4d49-d72b-488684f22389"
      },
      "execution_count": null,
      "outputs": [
        {
          "output_type": "execute_result",
          "data": {
            "text/plain": [
              "[5.0]"
            ]
          },
          "metadata": {},
          "execution_count": 67
        }
      ]
    },
    {
      "cell_type": "code",
      "source": [
        "# models generation: XGB and RFC....\n",
        "# data imbalance ===> Oversampling \n",
        "#model_list_XGB_RFC=test_classifierModels_list(classifierModels_dict, X_train,X_test,y_train,y_test)\n",
        "\n",
        "#\n",
        "print('\\n==========================')\n",
        "print('Case OverSampling by ******************** RandomOverSampler()')\n",
        "print('==========================')\n",
        "\n",
        "X_train_ros, y_train_ros = ros.fit_resample(X_train, y_train.ravel())  \n",
        "print('X_train_ros.shape,y_train_ros.shape')\n",
        "print(X_train_ros.shape,y_train_ros.shape,'\\n')\n",
        "\n",
        "model_list_XGB_RFC_ros=test_classifierModels_list(classifierModels_dict, X_train_ros,X_test,y_train_ros,y_test)\n",
        "\n",
        "#\n",
        "print('\\n==========================')\n",
        "print('Case OverSampling by ******************** SMOTE()')\n",
        "print('==========================')\n",
        "\n",
        "X_train_sm, y_train_sm = sm.fit_resample(X_train, y_train.ravel())  \n",
        "print('X_train_sm.shape,y_train_sm.shape')\n",
        "print(X_train_sm.shape,y_train_sm.shape,'\\n')\n",
        "\n",
        "model_list_XGB_RFC_sm=test_classifierModels_list(classifierModels_dict, X_train_sm,X_test,y_train_sm,y_test)"
      ],
      "metadata": {
        "colab": {
          "base_uri": "https://localhost:8080/"
        },
        "id": "8R1j0CpImO7T",
        "outputId": "258d91dc-965c-45ee-e0da-bdce6ab8d247"
      },
      "execution_count": null,
      "outputs": [
        {
          "output_type": "stream",
          "name": "stdout",
          "text": [
            "\n",
            "==========================\n",
            "Case OverSampling by ******************** RandomOverSampler()\n",
            "==========================\n",
            "X_train_ros.shape,y_train_ros.shape\n",
            "(14630, 207) (14630,) \n",
            "\n",
            "============\n",
            "XGBoost\n",
            "============\n",
            "0.37\n",
            "[[ 29  16   6   5  12]\n",
            " [ 21   8   5   4   3]\n",
            " [ 21  11   0   9  16]\n",
            " [ 27  11  14  18  31]\n",
            " [155 111  48 104 315]]\n",
            "              precision    recall  f1-score   support\n",
            "\n",
            "         1.0       0.11      0.43      0.18        68\n",
            "         2.0       0.05      0.20      0.08        41\n",
            "         3.0       0.00      0.00      0.00        57\n",
            "         4.0       0.13      0.18      0.15       101\n",
            "         5.0       0.84      0.43      0.57       733\n",
            "\n",
            "    accuracy                           0.37      1000\n",
            "   macro avg       0.23      0.25      0.20      1000\n",
            "weighted avg       0.64      0.37      0.45      1000\n",
            "\n",
            "-----------:::::::::::::::-------------\n",
            "============\n",
            "RandomForestClassifier\n",
            "============\n",
            "0.604\n",
            "[[  9   2   3   8  46]\n",
            " [  8   0   4   6  23]\n",
            " [  5   7   2   3  40]\n",
            " [  5   4   3  12  77]\n",
            " [ 39  24  40  49 581]]\n",
            "              precision    recall  f1-score   support\n",
            "\n",
            "         1.0       0.14      0.13      0.13        68\n",
            "         2.0       0.00      0.00      0.00        41\n",
            "         3.0       0.04      0.04      0.04        57\n",
            "         4.0       0.15      0.12      0.13       101\n",
            "         5.0       0.76      0.79      0.77       733\n",
            "\n",
            "    accuracy                           0.60      1000\n",
            "   macro avg       0.22      0.22      0.22      1000\n",
            "weighted avg       0.58      0.60      0.59      1000\n",
            "\n",
            "-----------:::::::::::::::-------------\n",
            "\n",
            "==========================\n",
            "Case OverSampling by ******************** SMOTE()\n",
            "==========================\n",
            "X_train_sm.shape,y_train_sm.shape\n",
            "(14630, 207) (14630,) \n",
            "\n",
            "============\n",
            "XGBoost\n",
            "============\n",
            "0.501\n",
            "[[ 39  10   0   1  18]\n",
            " [ 25   6   0   0  10]\n",
            " [ 28   3   0   0  26]\n",
            " [ 39   6   0   0  56]\n",
            " [219  53   5   0 456]]\n",
            "              precision    recall  f1-score   support\n",
            "\n",
            "         1.0       0.11      0.57      0.19        68\n",
            "         2.0       0.08      0.15      0.10        41\n",
            "         3.0       0.00      0.00      0.00        57\n",
            "         4.0       0.00      0.00      0.00       101\n",
            "         5.0       0.81      0.62      0.70       733\n",
            "\n",
            "    accuracy                           0.50      1000\n",
            "   macro avg       0.20      0.27      0.20      1000\n",
            "weighted avg       0.60      0.50      0.53      1000\n",
            "\n",
            "-----------:::::::::::::::-------------\n",
            "============\n",
            "RandomForestClassifier\n",
            "============\n",
            "0.472\n",
            "[[ 18  15   9   5  21]\n",
            " [ 12   8   5   6  10]\n",
            " [  8  12   2   6  29]\n",
            " [ 10  15   9   9  58]\n",
            " [ 90  84  61  63 435]]\n",
            "              precision    recall  f1-score   support\n",
            "\n",
            "         1.0       0.13      0.26      0.17        68\n",
            "         2.0       0.06      0.20      0.09        41\n",
            "         3.0       0.02      0.04      0.03        57\n",
            "         4.0       0.10      0.09      0.09       101\n",
            "         5.0       0.79      0.59      0.68       733\n",
            "\n",
            "    accuracy                           0.47      1000\n",
            "   macro avg       0.22      0.24      0.21      1000\n",
            "weighted avg       0.60      0.47      0.52      1000\n",
            "\n",
            "-----------:::::::::::::::-------------\n"
          ]
        }
      ]
    },
    {
      "cell_type": "code",
      "source": [
        "#--------------------------------------------\n",
        "#--- feature_importances ---> for RandomForestClassifier \n",
        "#\n",
        "#--- Best model with OverSampling by RandomOverSampler()\n",
        "#-------------------------------------------\n",
        "#\n",
        "model_rfc_ros= model_list_XGB_RFC_ros.get('RandomForestClassifier')[0]\n",
        "#\n",
        "feature_importances_rfc_ros=show_importances_plot(model_rfc_ros,i_threshold=0.005) #0.01\n",
        "len(feature_importances_rfc_ros)"
      ],
      "metadata": {
        "colab": {
          "base_uri": "https://localhost:8080/",
          "height": 392
        },
        "id": "13V0FYWwjmSd",
        "outputId": "6ae0ef84-d82b-41c5-c50b-728e09640300"
      },
      "execution_count": null,
      "outputs": [
        {
          "output_type": "execute_result",
          "data": {
            "text/plain": [
              "15"
            ]
          },
          "metadata": {},
          "execution_count": 69
        },
        {
          "output_type": "display_data",
          "data": {
            "text/plain": [
              "<Figure size 792x432 with 1 Axes>"
            ],
            "image/png": "[encoded data removed]"
          },
          "metadata": {
            "needs_background": "light"
          }
        }
      ]
    },
    {
      "cell_type": "code",
      "source": [
        "list_rest_cols=list(feature_importances_rfc_ros.index)\n",
        "\n",
        "dico_model_ros2 = test_classifierModels_list(classifierModels_dict, X_train_ros[list_rest_cols],X_test[list_rest_cols],y_train_ros,y_test,False)"
      ],
      "metadata": {
        "colab": {
          "base_uri": "https://localhost:8080/"
        },
        "id": "iN1NPdSNlaL1",
        "outputId": "173d081e-cf0e-4a54-ebaf-f2e99bf20bcc"
      },
      "execution_count": null,
      "outputs": [
        {
          "output_type": "stream",
          "name": "stdout",
          "text": [
            "============\n",
            "XGBoost\n",
            "============\n",
            "0.337\n",
            "[[ 30  15   5   8  10]\n",
            " [ 20   9   5   3   4]\n",
            " [ 20   9   3  14  11]\n",
            " [ 27  10  13  25  26]\n",
            " [164 108  47 144 270]]\n",
            "              precision    recall  f1-score   support\n",
            "\n",
            "         1.0       0.11      0.44      0.18        68\n",
            "         2.0       0.06      0.22      0.09        41\n",
            "         3.0       0.04      0.05      0.05        57\n",
            "         4.0       0.13      0.25      0.17       101\n",
            "         5.0       0.84      0.37      0.51       733\n",
            "\n",
            "    accuracy                           0.34      1000\n",
            "   macro avg       0.24      0.27      0.20      1000\n",
            "weighted avg       0.64      0.34      0.41      1000\n",
            "\n",
            "-----------:::::::::::::::-------------\n",
            "============\n",
            "RandomForestClassifier\n",
            "============\n",
            "0.595\n",
            "[[ 10   2   3   7  46]\n",
            " [  8   0   4   5  24]\n",
            " [  4   6   2   6  39]\n",
            " [  6   3   3  12  77]\n",
            " [ 42  24  38  58 571]]\n",
            "              precision    recall  f1-score   support\n",
            "\n",
            "         1.0       0.14      0.15      0.14        68\n",
            "         2.0       0.00      0.00      0.00        41\n",
            "         3.0       0.04      0.04      0.04        57\n",
            "         4.0       0.14      0.12      0.13       101\n",
            "         5.0       0.75      0.78      0.77       733\n",
            "\n",
            "    accuracy                           0.59      1000\n",
            "   macro avg       0.21      0.22      0.22      1000\n",
            "weighted avg       0.58      0.59      0.59      1000\n",
            "\n",
            "-----------:::::::::::::::-------------\n"
          ]
        }
      ]
    },
    {
      "cell_type": "code",
      "source": [
        "# Create correlation matrix\n",
        "corr_matrix = X_train_ros[list_rest_cols].corr()\n",
        "print('corr_matrix.shape')\n",
        "print(corr_matrix.shape)\n",
        "#\n",
        "if len(verify_dependency(corr_matrix,0.35))==0:\n",
        "  print('\\nNo dependency:', verify_dependency(corr_matrix,0.35))\n",
        "else:\n",
        "  print('\\nDependency:....', verify_dependency(corr_matrix,0.35))  \n",
        "#\n",
        "print('\\n')\n",
        "import seaborn as sns\n",
        "sns.heatmap(corr_matrix)"
      ],
      "metadata": {
        "colab": {
          "base_uri": "https://localhost:8080/",
          "height": 436
        },
        "id": "-OEX-gIorbCS",
        "outputId": "576bb024-c7c1-4023-e206-ad917d1cb899"
      },
      "execution_count": null,
      "outputs": [
        {
          "output_type": "stream",
          "name": "stdout",
          "text": [
            "corr_matrix.shape\n",
            "(15, 15)\n",
            "\n",
            "No dependency: []\n",
            "\n",
            "\n"
          ]
        },
        {
          "output_type": "execute_result",
          "data": {
            "text/plain": [
              "<matplotlib.axes._subplots.AxesSubplot at 0x7f545fae7990>"
            ]
          },
          "metadata": {},
          "execution_count": 71
        },
        {
          "output_type": "display_data",
          "data": {
            "text/plain": [
              "<Figure size 432x288 with 2 Axes>"
            ],
            "image/png": "[encoded data removed]"
          },
          "metadata": {
            "needs_background": "light"
          }
        }
      ]
    },
    {
      "cell_type": "code",
      "source": [
        ""
      ],
      "metadata": {
        "id": "U9TCoyRXIucb"
      },
      "execution_count": null,
      "outputs": []
    },
    {
      "cell_type": "code",
      "source": [
        "X_train_0=X_train_ros[list_rest_cols]\n",
        "X_test_0=X_test[list_rest_cols]\n",
        "y_train_0=y_train_ros\n",
        "y_test_0=y_test"
      ],
      "metadata": {
        "id": "kQaNm2PRI2K_"
      },
      "execution_count": null,
      "outputs": []
    },
    {
      "cell_type": "code",
      "source": [
        "# RandomizedSearchCV\n",
        "from sklearn.model_selection import RandomizedSearchCV\n",
        "\n",
        "#\n",
        "rfc=RandomForestClassifier(bootstrap=True, class_weight=None, max_leaf_nodes=None,\n",
        "                                min_impurity_decrease=0.0, \n",
        "                                    min_samples_leaf=1, min_samples_split=2,\n",
        "                                        min_weight_fraction_leaf=0.0, n_estimators=10, n_jobs=2,\n",
        "                                            oob_score=False, random_state=0, verbose=0, warm_start=False)\n",
        "tuned_parameters={'n_estimators': [1500,2000], 'max_features': ['auto', 'sqrt', 'log2'],\n",
        "                                            'max_depth': [128,156], 'criterion': ['gini', 'entropy']}\n",
        "\n",
        "#\n",
        "CV_rfc=RandomizedSearchCV(cv=5, error_score='raise', estimator=rfc, param_distributions=tuned_parameters,n_jobs=2,\n",
        "                                   pre_dispatch='2*n_jobs', refit=True, return_train_score='warn',  random_state=0, \n",
        "                                       scoring=None, verbose=0)\n",
        " \n",
        "#\n",
        "CV_rfc.fit(X_train_0, y_train_0)\n",
        "print('rs_cv_xgb.best_params_=',CV_rfc.best_params_)\n",
        "rfc_fit, y_predict, acc_score_rfc=fit_and_evaluate(CV_rfc,X_train_0,X_test_0,y_train_0,y_test_0,i_fit_operation=False)"
      ],
      "metadata": {
        "colab": {
          "base_uri": "https://localhost:8080/"
        },
        "id": "bwYifdXwDiID",
        "outputId": "bc1dee57-e8f6-4f57-8f18-d1662536eea9"
      },
      "execution_count": null,
      "outputs": [
        {
          "output_type": "stream",
          "name": "stdout",
          "text": [
            "rs_cv_xgb.best_params_= {'n_estimators': 1500, 'max_features': 'log2', 'max_depth': 156, 'criterion': 'entropy'}\n",
            "0.596\n",
            "[[ 10   2   3   7  46]\n",
            " [  8   0   4   5  24]\n",
            " [  4   6   2   6  39]\n",
            " [  6   3   3  12  77]\n",
            " [ 42  24  37  58 572]]\n",
            "              precision    recall  f1-score   support\n",
            "\n",
            "         1.0       0.14      0.15      0.14        68\n",
            "         2.0       0.00      0.00      0.00        41\n",
            "         3.0       0.04      0.04      0.04        57\n",
            "         4.0       0.14      0.12      0.13       101\n",
            "         5.0       0.75      0.78      0.77       733\n",
            "\n",
            "    accuracy                           0.60      1000\n",
            "   macro avg       0.21      0.22      0.22      1000\n",
            "weighted avg       0.58      0.60      0.59      1000\n",
            "\n"
          ]
        }
      ]
    },
    {
      "cell_type": "code",
      "source": [
        "# RandomizedSearchCV\n",
        "from sklearn.model_selection import RandomizedSearchCV\n",
        "\n",
        "#\n",
        "rfc=RandomForestClassifier(bootstrap=True, class_weight=None, max_leaf_nodes=None,\n",
        "                                min_impurity_decrease=0.0, \n",
        "                                    min_samples_leaf=1, min_samples_split=2,\n",
        "                                        min_weight_fraction_leaf=0.0, n_estimators=10, n_jobs=2,\n",
        "                                            oob_score=False, random_state=0, verbose=0, warm_start=False)\n",
        "tuned_parameters={'n_estimators': [500,1000,1500], 'max_features': ['auto', 'sqrt', 'log2'],'max_depth': [32,64,128], 'criterion': ['gini', 'entropy']}\n",
        "#tuned_parameters={'n_estimators': [200,300,400], 'max_features': ['auto', 'sqrt', 'log2'],'max_depth': [32,64], 'criterion': ['gini', 'entropy']}\n",
        "#tuned_parameters={'n_estimators': [400,500], 'max_features': ['auto', 'sqrt', 'log2'],'max_depth': [16,32], 'criterion': ['gini', 'entropy']}\n",
        "# tuned_parameters={'n_estimators': [200], 'max_features': ['auto'],'max_depth': [32], 'criterion': ['entropy']}\n",
        "\n",
        "#\n",
        "CV_rfc=RandomizedSearchCV(cv=5, error_score='raise', estimator=rfc, param_distributions=tuned_parameters,n_jobs=2,\n",
        "                                   pre_dispatch='2*n_jobs', refit=True, return_train_score='warn',  random_state=0, \n",
        "                                       scoring=None, verbose=0)\n",
        " \n",
        "#\n",
        "CV_rfc.fit(X_train_0, y_train_0)\n",
        "print('rs_cv_xgb.best_params_=',CV_rfc.best_params_)\n",
        "rfc_fit, y_predict, acc_score_rfc=fit_and_evaluate(CV_rfc,X_train_0,X_test_0,y_train_0,y_test_0,i_fit_operation=False)"
      ],
      "metadata": {
        "colab": {
          "base_uri": "https://localhost:8080/"
        },
        "id": "NdwP3DPPIu_0",
        "outputId": "d10d8176-b002-42af-e89a-8ff0547d2343"
      },
      "execution_count": null,
      "outputs": [
        {
          "output_type": "stream",
          "name": "stdout",
          "text": [
            "rs_cv_xgb.best_params_= {'n_estimators': 1500, 'max_features': 'log2', 'max_depth': 128, 'criterion': 'entropy'}\n",
            "0.596\n",
            "[[ 10   2   3   7  46]\n",
            " [  8   0   4   5  24]\n",
            " [  4   6   2   6  39]\n",
            " [  6   3   3  12  77]\n",
            " [ 42  24  37  58 572]]\n",
            "              precision    recall  f1-score   support\n",
            "\n",
            "         1.0       0.14      0.15      0.14        68\n",
            "         2.0       0.00      0.00      0.00        41\n",
            "         3.0       0.04      0.04      0.04        57\n",
            "         4.0       0.14      0.12      0.13       101\n",
            "         5.0       0.75      0.78      0.77       733\n",
            "\n",
            "    accuracy                           0.60      1000\n",
            "   macro avg       0.21      0.22      0.22      1000\n",
            "weighted avg       0.58      0.60      0.59      1000\n",
            "\n"
          ]
        }
      ]
    },
    {
      "cell_type": "code",
      "source": [
        ""
      ],
      "metadata": {
        "id": "OnwyxXA2rmpm"
      },
      "execution_count": null,
      "outputs": []
    },
    {
      "cell_type": "markdown",
      "source": [
        "## No taking into account user_id column"
      ],
      "metadata": {
        "id": "55Tj-KMpKj7s"
      }
    },
    {
      "cell_type": "code",
      "source": [
        "# def of X, Y\n",
        "Y1=df_2[df_2.columns[-1]]\n",
        "X1=df_2[df_2.columns[1:-1]] # No take into account column user_id \n",
        "\n",
        "print('X1.shape, Y1.shape')\n",
        "print(X1.shape, Y1.shape,'\\n')\n",
        "#\n",
        "# Split() ---> define X_train,X_test,y_train,y_test\n",
        "from sklearn.model_selection import train_test_split\n",
        "#\n",
        "in_test_size=20/100\n",
        "X_train1,X_test1,y_train1,y_test1 = train_test_split(X1,Y1,test_size=in_test_size,random_state=0)\n",
        "#\n",
        "print('X_train1.shape,X_test1.shape,y_train1.shape,y_test1.shape')\n",
        "print(X_train1.shape,X_test1.shape,y_train1.shape,y_test1.shape,'\\n')\n",
        "#\n",
        "# Imbalance Data\n",
        "#model_list_XGB_RFC_1=test_classifierModels_list(classifierModels_dict, X_train1,X_test1,y_train1,y_test1)\n",
        "\n",
        "#\n",
        "print('\\n==========================')\n",
        "print('Case OverSampling by ******************** RandomOverSampler()')\n",
        "print('==========================')\n",
        "\n",
        "X_train1_ros, y_train1_ros = ros.fit_resample(X_train1, y_train1.ravel())  \n",
        "print('X_train1_ros.shape,y_train1_ros.shape')\n",
        "print(X_train1_ros.shape,y_train1_ros.shape,'\\n')\n",
        "\n",
        "model_list_XGB_RFC_ros_1=test_classifierModels_list(classifierModels_dict, X_train1_ros,X_test1,y_train1_ros,y_test1)\n",
        "\n",
        "#\n",
        "print('\\n==========================')\n",
        "print('Case OverSampling by ******************** SMOTE()')\n",
        "print('==========================')\n",
        "\n",
        "X_train1_sm, y_train1_sm = sm.fit_resample(X_train1, y_train1.ravel())  \n",
        "print('X_train1_sm.shape,y_train1_sm.shape')\n",
        "print(X_train1_sm.shape,y_train1_sm.shape,'\\n')\n",
        "\n",
        "model_list_XGB_RFC_sm_1=test_classifierModels_list(classifierModels_dict, X_train1_sm,X_test1,y_train1_sm,y_test1)\n"
      ],
      "metadata": {
        "id": "o9tooqHzKoYB",
        "colab": {
          "base_uri": "https://localhost:8080/"
        },
        "outputId": "1c069047-5457-4a30-bc69-88c68321f8d7"
      },
      "execution_count": null,
      "outputs": [
        {
          "output_type": "stream",
          "name": "stdout",
          "text": [
            "X1.shape, Y1.shape\n",
            "(5000, 206) (5000,) \n",
            "\n",
            "X_train1.shape,X_test1.shape,y_train1.shape,y_test1.shape\n",
            "(4000, 206) (1000, 206) (4000,) (1000,) \n",
            "\n",
            "\n",
            "==========================\n",
            "Case OverSampling by ******************** RandomOverSampler()\n",
            "==========================\n",
            "X_train1_ros.shape,y_train1_ros.shape\n",
            "(14630, 206) (14630,) \n",
            "\n",
            "============\n",
            "XGBoost\n",
            "============\n",
            "0.302\n",
            "[[ 52   0   0  13   3]\n",
            " [ 32   1   1   5   2]\n",
            " [ 32   1   0  15   9]\n",
            " [ 46   3   1  34  17]\n",
            " [299  12  18 189 215]]\n",
            "              precision    recall  f1-score   support\n",
            "\n",
            "         1.0       0.11      0.76      0.20        68\n",
            "         2.0       0.06      0.02      0.03        41\n",
            "         3.0       0.00      0.00      0.00        57\n",
            "         4.0       0.13      0.34      0.19       101\n",
            "         5.0       0.87      0.29      0.44       733\n",
            "\n",
            "    accuracy                           0.30      1000\n",
            "   macro avg       0.24      0.28      0.17      1000\n",
            "weighted avg       0.66      0.30      0.36      1000\n",
            "\n",
            "-----------:::::::::::::::-------------\n",
            "============\n",
            "RandomForestClassifier\n",
            "============\n",
            "0.39\n",
            "[[ 52   0   0   2  14]\n",
            " [ 33   1   1   3   3]\n",
            " [ 33   3   0   6  15]\n",
            " [ 46   3   1  22  29]\n",
            " [305  13  19  81 315]]\n",
            "              precision    recall  f1-score   support\n",
            "\n",
            "         1.0       0.11      0.76      0.19        68\n",
            "         2.0       0.05      0.02      0.03        41\n",
            "         3.0       0.00      0.00      0.00        57\n",
            "         4.0       0.19      0.22      0.20       101\n",
            "         5.0       0.84      0.43      0.57       733\n",
            "\n",
            "    accuracy                           0.39      1000\n",
            "   macro avg       0.24      0.29      0.20      1000\n",
            "weighted avg       0.64      0.39      0.45      1000\n",
            "\n",
            "-----------:::::::::::::::-------------\n",
            "\n",
            "==========================\n",
            "Case OverSampling by ******************** SMOTE()\n",
            "==========================\n",
            "X_train1_sm.shape,y_train1_sm.shape\n",
            "(14630, 206) (14630,) \n",
            "\n",
            "============\n",
            "XGBoost\n",
            "============\n",
            "0.452\n",
            "[[ 52   0   0   1  15]\n",
            " [ 32   0   1   4   4]\n",
            " [ 32   0   0   5  20]\n",
            " [ 46   0   1  20  34]\n",
            " [299   0   7  47 380]]\n",
            "              precision    recall  f1-score   support\n",
            "\n",
            "         1.0       0.11      0.76      0.20        68\n",
            "         2.0       0.00      0.00      0.00        41\n",
            "         3.0       0.00      0.00      0.00        57\n",
            "         4.0       0.26      0.20      0.22       101\n",
            "         5.0       0.84      0.52      0.64       733\n",
            "\n",
            "    accuracy                           0.45      1000\n",
            "   macro avg       0.24      0.30      0.21      1000\n",
            "weighted avg       0.65      0.45      0.51      1000\n",
            "\n"
          ]
        },
        {
          "output_type": "stream",
          "name": "stderr",
          "text": [
            "/usr/local/lib/python3.7/dist-packages/sklearn/metrics/_classification.py:1318: UndefinedMetricWarning: Precision and F-score are ill-defined and being set to 0.0 in labels with no predicted samples. Use `zero_division` parameter to control this behavior.\n",
            "  _warn_prf(average, modifier, msg_start, len(result))\n",
            "/usr/local/lib/python3.7/dist-packages/sklearn/metrics/_classification.py:1318: UndefinedMetricWarning: Precision and F-score are ill-defined and being set to 0.0 in labels with no predicted samples. Use `zero_division` parameter to control this behavior.\n",
            "  _warn_prf(average, modifier, msg_start, len(result))\n",
            "/usr/local/lib/python3.7/dist-packages/sklearn/metrics/_classification.py:1318: UndefinedMetricWarning: Precision and F-score are ill-defined and being set to 0.0 in labels with no predicted samples. Use `zero_division` parameter to control this behavior.\n",
            "  _warn_prf(average, modifier, msg_start, len(result))\n"
          ]
        },
        {
          "output_type": "stream",
          "name": "stdout",
          "text": [
            "-----------:::::::::::::::-------------\n",
            "============\n",
            "RandomForestClassifier\n",
            "============\n",
            "0.43\n",
            "[[ 51   0   0   2  15]\n",
            " [ 32   1   1   4   3]\n",
            " [ 32   0   0   5  20]\n",
            " [ 46   2   1  21  31]\n",
            " [299   5   6  66 357]]\n",
            "              precision    recall  f1-score   support\n",
            "\n",
            "         1.0       0.11      0.75      0.19        68\n",
            "         2.0       0.12      0.02      0.04        41\n",
            "         3.0       0.00      0.00      0.00        57\n",
            "         4.0       0.21      0.21      0.21       101\n",
            "         5.0       0.84      0.49      0.62       733\n",
            "\n",
            "    accuracy                           0.43      1000\n",
            "   macro avg       0.26      0.29      0.21      1000\n",
            "weighted avg       0.65      0.43      0.49      1000\n",
            "\n",
            "-----------:::::::::::::::-------------\n"
          ]
        }
      ]
    },
    {
      "cell_type": "code",
      "source": [
        "#--------------------------------------------\n",
        "#--- feature_importances ---> for RandomForestClassifier \n",
        "#\n",
        "#--- Best model with OverSampling by SMOTE()\n",
        "#-------------------------------------------\n",
        "#\n",
        "model_rfc_sm_1= model_list_XGB_RFC_sm_1.get('RandomForestClassifier')[0]\n",
        "#\n",
        "feature_importances_rfc_sm_1=show_importances_plot(model_rfc_sm_1,i_threshold=0.01) #0.01\n",
        "len(feature_importances_rfc_sm_1)"
      ],
      "metadata": {
        "id": "s3WOyI6WKoVD",
        "colab": {
          "base_uri": "https://localhost:8080/",
          "height": 392
        },
        "outputId": "52b32833-c537-47f2-b8f7-e5841e4eef58"
      },
      "execution_count": null,
      "outputs": [
        {
          "output_type": "execute_result",
          "data": {
            "text/plain": [
              "23"
            ]
          },
          "metadata": {},
          "execution_count": 64
        },
        {
          "output_type": "display_data",
          "data": {
            "text/plain": [
              "<Figure size 792x432 with 1 Axes>"
            ],
            "image/png": "[encoded data removed]"
          },
          "metadata": {
            "needs_background": "light"
          }
        }
      ]
    },
    {
      "cell_type": "code",
      "execution_count": null,
      "metadata": {
        "id": "qbC3eyVgfVQl",
        "colab": {
          "base_uri": "https://localhost:8080/"
        },
        "outputId": "564f89df-507f-4ac1-c52e-f114da6f0dcd"
      },
      "outputs": [
        {
          "output_type": "stream",
          "name": "stdout",
          "text": [
            "============\n",
            "XGBoost\n",
            "============\n",
            "0.464\n",
            "[[ 52   0   0   0  16]\n",
            " [ 32   0   0   3   6]\n",
            " [ 32   0   0   5  20]\n",
            " [ 46   0   1  20  34]\n",
            " [299   0   2  40 392]]\n",
            "              precision    recall  f1-score   support\n",
            "\n",
            "         1.0       0.11      0.76      0.20        68\n",
            "         2.0       0.00      0.00      0.00        41\n",
            "         3.0       0.00      0.00      0.00        57\n",
            "         4.0       0.29      0.20      0.24       101\n",
            "         5.0       0.84      0.53      0.65       733\n",
            "\n",
            "    accuracy                           0.46      1000\n",
            "   macro avg       0.25      0.30      0.22      1000\n",
            "weighted avg       0.65      0.46      0.52      1000\n",
            "\n"
          ]
        },
        {
          "output_type": "stream",
          "name": "stderr",
          "text": [
            "/usr/local/lib/python3.7/dist-packages/sklearn/metrics/_classification.py:1318: UndefinedMetricWarning: Precision and F-score are ill-defined and being set to 0.0 in labels with no predicted samples. Use `zero_division` parameter to control this behavior.\n",
            "  _warn_prf(average, modifier, msg_start, len(result))\n",
            "/usr/local/lib/python3.7/dist-packages/sklearn/metrics/_classification.py:1318: UndefinedMetricWarning: Precision and F-score are ill-defined and being set to 0.0 in labels with no predicted samples. Use `zero_division` parameter to control this behavior.\n",
            "  _warn_prf(average, modifier, msg_start, len(result))\n",
            "/usr/local/lib/python3.7/dist-packages/sklearn/metrics/_classification.py:1318: UndefinedMetricWarning: Precision and F-score are ill-defined and being set to 0.0 in labels with no predicted samples. Use `zero_division` parameter to control this behavior.\n",
            "  _warn_prf(average, modifier, msg_start, len(result))\n"
          ]
        },
        {
          "output_type": "stream",
          "name": "stdout",
          "text": [
            "-----------:::::::::::::::-------------\n",
            "============\n",
            "RandomForestClassifier\n",
            "============\n",
            "0.454\n",
            "[[ 51   0   0   0  17]\n",
            " [ 32   1   0   3   5]\n",
            " [ 32   0   0   5  20]\n",
            " [ 46   1   1  20  33]\n",
            " [299   5   1  46 382]]\n",
            "              precision    recall  f1-score   support\n",
            "\n",
            "         1.0       0.11      0.75      0.19        68\n",
            "         2.0       0.14      0.02      0.04        41\n",
            "         3.0       0.00      0.00      0.00        57\n",
            "         4.0       0.27      0.20      0.23       101\n",
            "         5.0       0.84      0.52      0.64       733\n",
            "\n",
            "    accuracy                           0.45      1000\n",
            "   macro avg       0.27      0.30      0.22      1000\n",
            "weighted avg       0.65      0.45      0.51      1000\n",
            "\n",
            "-----------:::::::::::::::-------------\n"
          ]
        }
      ],
      "source": [
        "list_rest_cols_1=list(feature_importances_rfc_sm_1.index)\n",
        "\n",
        "dico_model_sm2 = test_classifierModels_list(classifierModels_dict, X_train1_sm[list_rest_cols_1],\n",
        "                                        X_test1[list_rest_cols_1],y_train1_sm,y_test1,False)\n"
      ]
    },
    {
      "cell_type": "code",
      "source": [
        "# Create correlation matrix\n",
        "corr_matrix = X_train_sm[list_rest_cols_1].corr()\n",
        "print('corr_matrix.shape')\n",
        "print(corr_matrix.shape)\n",
        "#\n",
        "if len(verify_dependency(corr_matrix,0.35))==0:\n",
        "  print('\\nNo dependency:', verify_dependency(corr_matrix,0.35))\n",
        "else:\n",
        "  print('\\nDependency:....', verify_dependency(corr_matrix,0.35))  \n",
        "#\n",
        "print('\\n')\n",
        "import seaborn as sns\n",
        "sns.heatmap(corr_matrix)"
      ],
      "metadata": {
        "colab": {
          "base_uri": "https://localhost:8080/",
          "height": 436
        },
        "id": "K66MwVt33nGi",
        "outputId": "0173f966-7ff3-486c-efd1-a0a4f0a9fc22"
      },
      "execution_count": null,
      "outputs": [
        {
          "output_type": "stream",
          "name": "stdout",
          "text": [
            "corr_matrix.shape\n",
            "(23, 23)\n",
            "\n",
            "No dependency: []\n",
            "\n",
            "\n"
          ]
        },
        {
          "output_type": "execute_result",
          "data": {
            "text/plain": [
              "<matplotlib.axes._subplots.AxesSubplot at 0x7fa632fcfa10>"
            ]
          },
          "metadata": {},
          "execution_count": 66
        },
        {
          "output_type": "display_data",
          "data": {
            "text/plain": [
              "<Figure size 432x288 with 2 Axes>"
            ],
            "image/png": "[encoded data removed]"
          },
          "metadata": {
            "needs_background": "light"
          }
        }
      ]
    },
    {
      "cell_type": "code",
      "source": [
        ""
      ],
      "metadata": {
        "id": "roBBz2nJ17PC"
      },
      "execution_count": null,
      "outputs": []
    },
    {
      "cell_type": "markdown",
      "source": [
        "# **Recommendation perspective with binary Target**"
      ],
      "metadata": {
        "id": "zLykVM_mz7Ts"
      }
    },
    {
      "cell_type": "code",
      "source": [
        "df_3=df_ready.copy(deep=True)\n",
        "df_3.head()"
      ],
      "metadata": {
        "colab": {
          "base_uri": "https://localhost:8080/",
          "height": 300
        },
        "id": "Jhukjyz50Guc",
        "outputId": "30e79799-c1a2-40ab-a741-48e0964f1c3c"
      },
      "execution_count": 61,
      "outputs": [
        {
          "output_type": "execute_result",
          "data": {
            "text/plain": [
              "   user_id  Movie1  Movie2  Movie3  Movie4  Movie5  Movie6  Movie7  Movie8  \\\n",
              "0   2015.0     1.0     0.0     0.0     0.0     0.0     0.0     0.0     0.0   \n",
              "1   2015.0     0.0     1.0     0.0     0.0     0.0     0.0     0.0     0.0   \n",
              "2   2373.0     0.0     0.0     1.0     0.0     0.0     0.0     0.0     0.0   \n",
              "3   2821.0     0.0     0.0     0.0     1.0     0.0     0.0     0.0     0.0   \n",
              "4   3384.0     0.0     0.0     0.0     1.0     0.0     0.0     0.0     0.0   \n",
              "\n",
              "   Movie9  Movie10  Movie11  Movie12  Movie13  Movie14  Movie15  Movie16  \\\n",
              "0     0.0      0.0      0.0      0.0      0.0      0.0      0.0      0.0   \n",
              "1     0.0      0.0      0.0      0.0      0.0      0.0      0.0      0.0   \n",
              "2     0.0      0.0      0.0      0.0      0.0      0.0      0.0      0.0   \n",
              "3     0.0      0.0      0.0      0.0      0.0      0.0      0.0      0.0   \n",
              "4     0.0      0.0      0.0      0.0      0.0      0.0      0.0      0.0   \n",
              "\n",
              "   Movie17  Movie18  Movie19  Movie20  Movie21  Movie22  Movie23  Movie24  \\\n",
              "0      0.0      0.0      0.0      0.0      0.0      0.0      0.0      0.0   \n",
              "1      0.0      0.0      0.0      0.0      0.0      0.0      0.0      0.0   \n",
              "2      0.0      0.0      0.0      0.0      0.0      0.0      0.0      0.0   \n",
              "3      0.0      0.0      0.0      0.0      0.0      0.0      0.0      0.0   \n",
              "4      0.0      0.0      0.0      0.0      0.0      0.0      0.0      0.0   \n",
              "\n",
              "   Movie25  Movie26  Movie27  Movie28  Movie29  Movie30  Movie31  Movie32  \\\n",
              "0      0.0      0.0      0.0      0.0      0.0      0.0      0.0      0.0   \n",
              "1      0.0      0.0      0.0      0.0      0.0      0.0      0.0      0.0   \n",
              "2      0.0      0.0      0.0      0.0      0.0      0.0      0.0      0.0   \n",
              "3      0.0      0.0      0.0      0.0      0.0      0.0      0.0      0.0   \n",
              "4      0.0      0.0      0.0      0.0      0.0      0.0      0.0      0.0   \n",
              "\n",
              "   Movie33  Movie34  Movie35  Movie36  Movie37  Movie38  Movie39  Movie40  \\\n",
              "0      0.0      0.0      0.0      0.0      0.0      0.0      0.0      0.0   \n",
              "1      0.0      0.0      0.0      0.0      0.0      0.0      0.0      0.0   \n",
              "2      0.0      0.0      0.0      0.0      0.0      0.0      0.0      0.0   \n",
              "3      0.0      0.0      0.0      0.0      0.0      0.0      0.0      0.0   \n",
              "4      0.0      0.0      0.0      0.0      0.0      0.0      0.0      0.0   \n",
              "\n",
              "   Movie41  Movie42  Movie43  Movie44  Movie45  Movie46  Movie47  Movie48  \\\n",
              "0      0.0      0.0      0.0      0.0      0.0      0.0      0.0      0.0   \n",
              "1      0.0      0.0      0.0      0.0      0.0      0.0      0.0      0.0   \n",
              "2      0.0      0.0      0.0      0.0      0.0      0.0      0.0      0.0   \n",
              "3      0.0      0.0      0.0      0.0      0.0      0.0      0.0      0.0   \n",
              "4      0.0      0.0      0.0      0.0      0.0      0.0      0.0      0.0   \n",
              "\n",
              "   Movie49  ...  Movie158  Movie159  Movie160  Movie161  Movie162  Movie163  \\\n",
              "0      0.0  ...       0.0       0.0       0.0       0.0       0.0       0.0   \n",
              "1      0.0  ...       0.0       0.0       0.0       0.0       0.0       0.0   \n",
              "2      0.0  ...       0.0       0.0       0.0       0.0       0.0       0.0   \n",
              "3      0.0  ...       0.0       0.0       0.0       0.0       0.0       0.0   \n",
              "4      0.0  ...       0.0       0.0       0.0       0.0       0.0       0.0   \n",
              "\n",
              "   Movie164  Movie165  Movie166  Movie167  Movie168  Movie169  Movie170  \\\n",
              "0       0.0       0.0       0.0       0.0       0.0       0.0       0.0   \n",
              "1       0.0       0.0       0.0       0.0       0.0       0.0       0.0   \n",
              "2       0.0       0.0       0.0       0.0       0.0       0.0       0.0   \n",
              "3       0.0       0.0       0.0       0.0       0.0       0.0       0.0   \n",
              "4       0.0       0.0       0.0       0.0       0.0       0.0       0.0   \n",
              "\n",
              "   Movie171  Movie172  Movie173  Movie174  Movie175  Movie176  Movie177  \\\n",
              "0       0.0       0.0       0.0       0.0       0.0       0.0       0.0   \n",
              "1       0.0       0.0       0.0       0.0       0.0       0.0       0.0   \n",
              "2       0.0       0.0       0.0       0.0       0.0       0.0       0.0   \n",
              "3       0.0       0.0       0.0       0.0       0.0       0.0       0.0   \n",
              "4       0.0       0.0       0.0       0.0       0.0       0.0       0.0   \n",
              "\n",
              "   Movie178  Movie179  Movie180  Movie181  Movie182  Movie183  Movie184  \\\n",
              "0       0.0       0.0       0.0       0.0       0.0       0.0       0.0   \n",
              "1       0.0       0.0       0.0       0.0       0.0       0.0       0.0   \n",
              "2       0.0       0.0       0.0       0.0       0.0       0.0       0.0   \n",
              "3       0.0       0.0       0.0       0.0       0.0       0.0       0.0   \n",
              "4       0.0       0.0       0.0       0.0       0.0       0.0       0.0   \n",
              "\n",
              "   Movie185  Movie186  Movie187  Movie188  Movie189  Movie190  Movie191  \\\n",
              "0       0.0       0.0       0.0       0.0       0.0       0.0       0.0   \n",
              "1       0.0       0.0       0.0       0.0       0.0       0.0       0.0   \n",
              "2       0.0       0.0       0.0       0.0       0.0       0.0       0.0   \n",
              "3       0.0       0.0       0.0       0.0       0.0       0.0       0.0   \n",
              "4       0.0       0.0       0.0       0.0       0.0       0.0       0.0   \n",
              "\n",
              "   Movie192  Movie193  Movie194  Movie195  Movie196  Movie197  Movie198  \\\n",
              "0       0.0       0.0       0.0       0.0       0.0       0.0       0.0   \n",
              "1       0.0       0.0       0.0       0.0       0.0       0.0       0.0   \n",
              "2       0.0       0.0       0.0       0.0       0.0       0.0       0.0   \n",
              "3       0.0       0.0       0.0       0.0       0.0       0.0       0.0   \n",
              "4       0.0       0.0       0.0       0.0       0.0       0.0       0.0   \n",
              "\n",
              "   Movie199  Movie200  Movie201  Movie202  Movie203  Movie204  Movie205  \\\n",
              "0       0.0       0.0       0.0       0.0       0.0       0.0       0.0   \n",
              "1       0.0       0.0       0.0       0.0       0.0       0.0       0.0   \n",
              "2       0.0       0.0       0.0       0.0       0.0       0.0       0.0   \n",
              "3       0.0       0.0       0.0       0.0       0.0       0.0       0.0   \n",
              "4       0.0       0.0       0.0       0.0       0.0       0.0       0.0   \n",
              "\n",
              "   Movie206  Target  \n",
              "0       0.0     5.0  \n",
              "1       0.0     5.0  \n",
              "2       0.0     2.0  \n",
              "3       0.0     5.0  \n",
              "4       0.0     5.0  \n",
              "\n",
              "[5 rows x 208 columns]"
            ],
            "text/html": [
              "\n",
              "  <div id=\"df-d15a5a37-0136-43e3-8f6a-78bbce3d222e\">\n",
              "    <div class=\"colab-df-container\">\n",
              "      <div>\n",
              "<style scoped>\n",
              "    .dataframe tbody tr th:only-of-type {\n",
              "        vertical-align: middle;\n",
              "    }\n",
              "\n",
              "    .dataframe tbody tr th {\n",
              "        vertical-align: top;\n",
              "    }\n",
              "\n",
              "    .dataframe thead th {\n",
              "        text-align: right;\n",
              "    }\n",
              "</style>\n",
              "<table border=\"1\" class=\"dataframe\">\n",
              "  <thead>\n",
              "    <tr style=\"text-align: right;\">\n",
              "      <th></th>\n",
              "      <th>user_id</th>\n",
              "      <th>Movie1</th>\n",
              "      <th>Movie2</th>\n",
              "      <th>Movie3</th>\n",
              "      <th>Movie4</th>\n",
              "      <th>Movie5</th>\n",
              "      <th>Movie6</th>\n",
              "      <th>Movie7</th>\n",
              "      <th>Movie8</th>\n",
              "      <th>Movie9</th>\n",
              "      <th>Movie10</th>\n",
              "      <th>Movie11</th>\n",
              "      <th>Movie12</th>\n",
              "      <th>Movie13</th>\n",
              "      <th>Movie14</th>\n",
              "      <th>Movie15</th>\n",
              "      <th>Movie16</th>\n",
              "      <th>Movie17</th>\n",
              "      <th>Movie18</th>\n",
              "      <th>Movie19</th>\n",
              "      <th>Movie20</th>\n",
              "      <th>Movie21</th>\n",
              "      <th>Movie22</th>\n",
              "      <th>Movie23</th>\n",
              "      <th>Movie24</th>\n",
              "      <th>Movie25</th>\n",
              "      <th>Movie26</th>\n",
              "      <th>Movie27</th>\n",
              "      <th>Movie28</th>\n",
              "      <th>Movie29</th>\n",
              "      <th>Movie30</th>\n",
              "      <th>Movie31</th>\n",
              "      <th>Movie32</th>\n",
              "      <th>Movie33</th>\n",
              "      <th>Movie34</th>\n",
              "      <th>Movie35</th>\n",
              "      <th>Movie36</th>\n",
              "      <th>Movie37</th>\n",
              "      <th>Movie38</th>\n",
              "      <th>Movie39</th>\n",
              "      <th>Movie40</th>\n",
              "      <th>Movie41</th>\n",
              "      <th>Movie42</th>\n",
              "      <th>Movie43</th>\n",
              "      <th>Movie44</th>\n",
              "      <th>Movie45</th>\n",
              "      <th>Movie46</th>\n",
              "      <th>Movie47</th>\n",
              "      <th>Movie48</th>\n",
              "      <th>Movie49</th>\n",
              "      <th>...</th>\n",
              "      <th>Movie158</th>\n",
              "      <th>Movie159</th>\n",
              "      <th>Movie160</th>\n",
              "      <th>Movie161</th>\n",
              "      <th>Movie162</th>\n",
              "      <th>Movie163</th>\n",
              "      <th>Movie164</th>\n",
              "      <th>Movie165</th>\n",
              "      <th>Movie166</th>\n",
              "      <th>Movie167</th>\n",
              "      <th>Movie168</th>\n",
              "      <th>Movie169</th>\n",
              "      <th>Movie170</th>\n",
              "      <th>Movie171</th>\n",
              "      <th>Movie172</th>\n",
              "      <th>Movie173</th>\n",
              "      <th>Movie174</th>\n",
              "      <th>Movie175</th>\n",
              "      <th>Movie176</th>\n",
              "      <th>Movie177</th>\n",
              "      <th>Movie178</th>\n",
              "      <th>Movie179</th>\n",
              "      <th>Movie180</th>\n",
              "      <th>Movie181</th>\n",
              "      <th>Movie182</th>\n",
              "      <th>Movie183</th>\n",
              "      <th>Movie184</th>\n",
              "      <th>Movie185</th>\n",
              "      <th>Movie186</th>\n",
              "      <th>Movie187</th>\n",
              "      <th>Movie188</th>\n",
              "      <th>Movie189</th>\n",
              "      <th>Movie190</th>\n",
              "      <th>Movie191</th>\n",
              "      <th>Movie192</th>\n",
              "      <th>Movie193</th>\n",
              "      <th>Movie194</th>\n",
              "      <th>Movie195</th>\n",
              "      <th>Movie196</th>\n",
              "      <th>Movie197</th>\n",
              "      <th>Movie198</th>\n",
              "      <th>Movie199</th>\n",
              "      <th>Movie200</th>\n",
              "      <th>Movie201</th>\n",
              "      <th>Movie202</th>\n",
              "      <th>Movie203</th>\n",
              "      <th>Movie204</th>\n",
              "      <th>Movie205</th>\n",
              "      <th>Movie206</th>\n",
              "      <th>Target</th>\n",
              "    </tr>\n",
              "  </thead>\n",
              "  <tbody>\n",
              "    <tr>\n",
              "      <th>0</th>\n",
              "      <td>2015.0</td>\n",
              "      <td>1.0</td>\n",
              "      <td>0.0</td>\n",
              "      <td>0.0</td>\n",
              "      <td>0.0</td>\n",
              "      <td>0.0</td>\n",
              "      <td>0.0</td>\n",
              "      <td>0.0</td>\n",
              "      <td>0.0</td>\n",
              "      <td>0.0</td>\n",
              "      <td>0.0</td>\n",
              "      <td>0.0</td>\n",
              "      <td>0.0</td>\n",
              "      <td>0.0</td>\n",
              "      <td>0.0</td>\n",
              "      <td>0.0</td>\n",
              "      <td>0.0</td>\n",
              "      <td>0.0</td>\n",
              "      <td>0.0</td>\n",
              "      <td>0.0</td>\n",
              "      <td>0.0</td>\n",
              "      <td>0.0</td>\n",
              "      <td>0.0</td>\n",
              "      <td>0.0</td>\n",
              "      <td>0.0</td>\n",
              "      <td>0.0</td>\n",
              "      <td>0.0</td>\n",
              "      <td>0.0</td>\n",
              "      <td>0.0</td>\n",
              "      <td>0.0</td>\n",
              "      <td>0.0</td>\n",
              "      <td>0.0</td>\n",
              "      <td>0.0</td>\n",
              "      <td>0.0</td>\n",
              "      <td>0.0</td>\n",
              "      <td>0.0</td>\n",
              "      <td>0.0</td>\n",
              "      <td>0.0</td>\n",
              "      <td>0.0</td>\n",
              "      <td>0.0</td>\n",
              "      <td>0.0</td>\n",
              "      <td>0.0</td>\n",
              "      <td>0.0</td>\n",
              "      <td>0.0</td>\n",
              "      <td>0.0</td>\n",
              "      <td>0.0</td>\n",
              "      <td>0.0</td>\n",
              "      <td>0.0</td>\n",
              "      <td>0.0</td>\n",
              "      <td>0.0</td>\n",
              "      <td>...</td>\n",
              "      <td>0.0</td>\n",
              "      <td>0.0</td>\n",
              "      <td>0.0</td>\n",
              "      <td>0.0</td>\n",
              "      <td>0.0</td>\n",
              "      <td>0.0</td>\n",
              "      <td>0.0</td>\n",
              "      <td>0.0</td>\n",
              "      <td>0.0</td>\n",
              "      <td>0.0</td>\n",
              "      <td>0.0</td>\n",
              "      <td>0.0</td>\n",
              "      <td>0.0</td>\n",
              "      <td>0.0</td>\n",
              "      <td>0.0</td>\n",
              "      <td>0.0</td>\n",
              "      <td>0.0</td>\n",
              "      <td>0.0</td>\n",
              "      <td>0.0</td>\n",
              "      <td>0.0</td>\n",
              "      <td>0.0</td>\n",
              "      <td>0.0</td>\n",
              "      <td>0.0</td>\n",
              "      <td>0.0</td>\n",
              "      <td>0.0</td>\n",
              "      <td>0.0</td>\n",
              "      <td>0.0</td>\n",
              "      <td>0.0</td>\n",
              "      <td>0.0</td>\n",
              "      <td>0.0</td>\n",
              "      <td>0.0</td>\n",
              "      <td>0.0</td>\n",
              "      <td>0.0</td>\n",
              "      <td>0.0</td>\n",
              "      <td>0.0</td>\n",
              "      <td>0.0</td>\n",
              "      <td>0.0</td>\n",
              "      <td>0.0</td>\n",
              "      <td>0.0</td>\n",
              "      <td>0.0</td>\n",
              "      <td>0.0</td>\n",
              "      <td>0.0</td>\n",
              "      <td>0.0</td>\n",
              "      <td>0.0</td>\n",
              "      <td>0.0</td>\n",
              "      <td>0.0</td>\n",
              "      <td>0.0</td>\n",
              "      <td>0.0</td>\n",
              "      <td>0.0</td>\n",
              "      <td>5.0</td>\n",
              "    </tr>\n",
              "    <tr>\n",
              "      <th>1</th>\n",
              "      <td>2015.0</td>\n",
              "      <td>0.0</td>\n",
              "      <td>1.0</td>\n",
              "      <td>0.0</td>\n",
              "      <td>0.0</td>\n",
              "      <td>0.0</td>\n",
              "      <td>0.0</td>\n",
              "      <td>0.0</td>\n",
              "      <td>0.0</td>\n",
              "      <td>0.0</td>\n",
              "      <td>0.0</td>\n",
              "      <td>0.0</td>\n",
              "      <td>0.0</td>\n",
              "      <td>0.0</td>\n",
              "      <td>0.0</td>\n",
              "      <td>0.0</td>\n",
              "      <td>0.0</td>\n",
              "      <td>0.0</td>\n",
              "      <td>0.0</td>\n",
              "      <td>0.0</td>\n",
              "      <td>0.0</td>\n",
              "      <td>0.0</td>\n",
              "      <td>0.0</td>\n",
              "      <td>0.0</td>\n",
              "      <td>0.0</td>\n",
              "      <td>0.0</td>\n",
              "      <td>0.0</td>\n",
              "      <td>0.0</td>\n",
              "      <td>0.0</td>\n",
              "      <td>0.0</td>\n",
              "      <td>0.0</td>\n",
              "      <td>0.0</td>\n",
              "      <td>0.0</td>\n",
              "      <td>0.0</td>\n",
              "      <td>0.0</td>\n",
              "      <td>0.0</td>\n",
              "      <td>0.0</td>\n",
              "      <td>0.0</td>\n",
              "      <td>0.0</td>\n",
              "      <td>0.0</td>\n",
              "      <td>0.0</td>\n",
              "      <td>0.0</td>\n",
              "      <td>0.0</td>\n",
              "      <td>0.0</td>\n",
              "      <td>0.0</td>\n",
              "      <td>0.0</td>\n",
              "      <td>0.0</td>\n",
              "      <td>0.0</td>\n",
              "      <td>0.0</td>\n",
              "      <td>0.0</td>\n",
              "      <td>...</td>\n",
              "      <td>0.0</td>\n",
              "      <td>0.0</td>\n",
              "      <td>0.0</td>\n",
              "      <td>0.0</td>\n",
              "      <td>0.0</td>\n",
              "      <td>0.0</td>\n",
              "      <td>0.0</td>\n",
              "      <td>0.0</td>\n",
              "      <td>0.0</td>\n",
              "      <td>0.0</td>\n",
              "      <td>0.0</td>\n",
              "      <td>0.0</td>\n",
              "      <td>0.0</td>\n",
              "      <td>0.0</td>\n",
              "      <td>0.0</td>\n",
              "      <td>0.0</td>\n",
              "      <td>0.0</td>\n",
              "      <td>0.0</td>\n",
              "      <td>0.0</td>\n",
              "      <td>0.0</td>\n",
              "      <td>0.0</td>\n",
              "      <td>0.0</td>\n",
              "      <td>0.0</td>\n",
              "      <td>0.0</td>\n",
              "      <td>0.0</td>\n",
              "      <td>0.0</td>\n",
              "      <td>0.0</td>\n",
              "      <td>0.0</td>\n",
              "      <td>0.0</td>\n",
              "      <td>0.0</td>\n",
              "      <td>0.0</td>\n",
              "      <td>0.0</td>\n",
              "      <td>0.0</td>\n",
              "      <td>0.0</td>\n",
              "      <td>0.0</td>\n",
              "      <td>0.0</td>\n",
              "      <td>0.0</td>\n",
              "      <td>0.0</td>\n",
              "      <td>0.0</td>\n",
              "      <td>0.0</td>\n",
              "      <td>0.0</td>\n",
              "      <td>0.0</td>\n",
              "      <td>0.0</td>\n",
              "      <td>0.0</td>\n",
              "      <td>0.0</td>\n",
              "      <td>0.0</td>\n",
              "      <td>0.0</td>\n",
              "      <td>0.0</td>\n",
              "      <td>0.0</td>\n",
              "      <td>5.0</td>\n",
              "    </tr>\n",
              "    <tr>\n",
              "      <th>2</th>\n",
              "      <td>2373.0</td>\n",
              "      <td>0.0</td>\n",
              "      <td>0.0</td>\n",
              "      <td>1.0</td>\n",
              "      <td>0.0</td>\n",
              "      <td>0.0</td>\n",
              "      <td>0.0</td>\n",
              "      <td>0.0</td>\n",
              "      <td>0.0</td>\n",
              "      <td>0.0</td>\n",
              "      <td>0.0</td>\n",
              "      <td>0.0</td>\n",
              "      <td>0.0</td>\n",
              "      <td>0.0</td>\n",
              "      <td>0.0</td>\n",
              "      <td>0.0</td>\n",
              "      <td>0.0</td>\n",
              "      <td>0.0</td>\n",
              "      <td>0.0</td>\n",
              "      <td>0.0</td>\n",
              "      <td>0.0</td>\n",
              "      <td>0.0</td>\n",
              "      <td>0.0</td>\n",
              "      <td>0.0</td>\n",
              "      <td>0.0</td>\n",
              "      <td>0.0</td>\n",
              "      <td>0.0</td>\n",
              "      <td>0.0</td>\n",
              "      <td>0.0</td>\n",
              "      <td>0.0</td>\n",
              "      <td>0.0</td>\n",
              "      <td>0.0</td>\n",
              "      <td>0.0</td>\n",
              "      <td>0.0</td>\n",
              "      <td>0.0</td>\n",
              "      <td>0.0</td>\n",
              "      <td>0.0</td>\n",
              "      <td>0.0</td>\n",
              "      <td>0.0</td>\n",
              "      <td>0.0</td>\n",
              "      <td>0.0</td>\n",
              "      <td>0.0</td>\n",
              "      <td>0.0</td>\n",
              "      <td>0.0</td>\n",
              "      <td>0.0</td>\n",
              "      <td>0.0</td>\n",
              "      <td>0.0</td>\n",
              "      <td>0.0</td>\n",
              "      <td>0.0</td>\n",
              "      <td>0.0</td>\n",
              "      <td>...</td>\n",
              "      <td>0.0</td>\n",
              "      <td>0.0</td>\n",
              "      <td>0.0</td>\n",
              "      <td>0.0</td>\n",
              "      <td>0.0</td>\n",
              "      <td>0.0</td>\n",
              "      <td>0.0</td>\n",
              "      <td>0.0</td>\n",
              "      <td>0.0</td>\n",
              "      <td>0.0</td>\n",
              "      <td>0.0</td>\n",
              "      <td>0.0</td>\n",
              "      <td>0.0</td>\n",
              "      <td>0.0</td>\n",
              "      <td>0.0</td>\n",
              "      <td>0.0</td>\n",
              "      <td>0.0</td>\n",
              "      <td>0.0</td>\n",
              "      <td>0.0</td>\n",
              "      <td>0.0</td>\n",
              "      <td>0.0</td>\n",
              "      <td>0.0</td>\n",
              "      <td>0.0</td>\n",
              "      <td>0.0</td>\n",
              "      <td>0.0</td>\n",
              "      <td>0.0</td>\n",
              "      <td>0.0</td>\n",
              "      <td>0.0</td>\n",
              "      <td>0.0</td>\n",
              "      <td>0.0</td>\n",
              "      <td>0.0</td>\n",
              "      <td>0.0</td>\n",
              "      <td>0.0</td>\n",
              "      <td>0.0</td>\n",
              "      <td>0.0</td>\n",
              "      <td>0.0</td>\n",
              "      <td>0.0</td>\n",
              "      <td>0.0</td>\n",
              "      <td>0.0</td>\n",
              "      <td>0.0</td>\n",
              "      <td>0.0</td>\n",
              "      <td>0.0</td>\n",
              "      <td>0.0</td>\n",
              "      <td>0.0</td>\n",
              "      <td>0.0</td>\n",
              "      <td>0.0</td>\n",
              "      <td>0.0</td>\n",
              "      <td>0.0</td>\n",
              "      <td>0.0</td>\n",
              "      <td>2.0</td>\n",
              "    </tr>\n",
              "    <tr>\n",
              "      <th>3</th>\n",
              "      <td>2821.0</td>\n",
              "      <td>0.0</td>\n",
              "      <td>0.0</td>\n",
              "      <td>0.0</td>\n",
              "      <td>1.0</td>\n",
              "      <td>0.0</td>\n",
              "      <td>0.0</td>\n",
              "      <td>0.0</td>\n",
              "      <td>0.0</td>\n",
              "      <td>0.0</td>\n",
              "      <td>0.0</td>\n",
              "      <td>0.0</td>\n",
              "      <td>0.0</td>\n",
              "      <td>0.0</td>\n",
              "      <td>0.0</td>\n",
              "      <td>0.0</td>\n",
              "      <td>0.0</td>\n",
              "      <td>0.0</td>\n",
              "      <td>0.0</td>\n",
              "      <td>0.0</td>\n",
              "      <td>0.0</td>\n",
              "      <td>0.0</td>\n",
              "      <td>0.0</td>\n",
              "      <td>0.0</td>\n",
              "      <td>0.0</td>\n",
              "      <td>0.0</td>\n",
              "      <td>0.0</td>\n",
              "      <td>0.0</td>\n",
              "      <td>0.0</td>\n",
              "      <td>0.0</td>\n",
              "      <td>0.0</td>\n",
              "      <td>0.0</td>\n",
              "      <td>0.0</td>\n",
              "      <td>0.0</td>\n",
              "      <td>0.0</td>\n",
              "      <td>0.0</td>\n",
              "      <td>0.0</td>\n",
              "      <td>0.0</td>\n",
              "      <td>0.0</td>\n",
              "      <td>0.0</td>\n",
              "      <td>0.0</td>\n",
              "      <td>0.0</td>\n",
              "      <td>0.0</td>\n",
              "      <td>0.0</td>\n",
              "      <td>0.0</td>\n",
              "      <td>0.0</td>\n",
              "      <td>0.0</td>\n",
              "      <td>0.0</td>\n",
              "      <td>0.0</td>\n",
              "      <td>0.0</td>\n",
              "      <td>...</td>\n",
              "      <td>0.0</td>\n",
              "      <td>0.0</td>\n",
              "      <td>0.0</td>\n",
              "      <td>0.0</td>\n",
              "      <td>0.0</td>\n",
              "      <td>0.0</td>\n",
              "      <td>0.0</td>\n",
              "      <td>0.0</td>\n",
              "      <td>0.0</td>\n",
              "      <td>0.0</td>\n",
              "      <td>0.0</td>\n",
              "      <td>0.0</td>\n",
              "      <td>0.0</td>\n",
              "      <td>0.0</td>\n",
              "      <td>0.0</td>\n",
              "      <td>0.0</td>\n",
              "      <td>0.0</td>\n",
              "      <td>0.0</td>\n",
              "      <td>0.0</td>\n",
              "      <td>0.0</td>\n",
              "      <td>0.0</td>\n",
              "      <td>0.0</td>\n",
              "      <td>0.0</td>\n",
              "      <td>0.0</td>\n",
              "      <td>0.0</td>\n",
              "      <td>0.0</td>\n",
              "      <td>0.0</td>\n",
              "      <td>0.0</td>\n",
              "      <td>0.0</td>\n",
              "      <td>0.0</td>\n",
              "      <td>0.0</td>\n",
              "      <td>0.0</td>\n",
              "      <td>0.0</td>\n",
              "      <td>0.0</td>\n",
              "      <td>0.0</td>\n",
              "      <td>0.0</td>\n",
              "      <td>0.0</td>\n",
              "      <td>0.0</td>\n",
              "      <td>0.0</td>\n",
              "      <td>0.0</td>\n",
              "      <td>0.0</td>\n",
              "      <td>0.0</td>\n",
              "      <td>0.0</td>\n",
              "      <td>0.0</td>\n",
              "      <td>0.0</td>\n",
              "      <td>0.0</td>\n",
              "      <td>0.0</td>\n",
              "      <td>0.0</td>\n",
              "      <td>0.0</td>\n",
              "      <td>5.0</td>\n",
              "    </tr>\n",
              "    <tr>\n",
              "      <th>4</th>\n",
              "      <td>3384.0</td>\n",
              "      <td>0.0</td>\n",
              "      <td>0.0</td>\n",
              "      <td>0.0</td>\n",
              "      <td>1.0</td>\n",
              "      <td>0.0</td>\n",
              "      <td>0.0</td>\n",
              "      <td>0.0</td>\n",
              "      <td>0.0</td>\n",
              "      <td>0.0</td>\n",
              "      <td>0.0</td>\n",
              "      <td>0.0</td>\n",
              "      <td>0.0</td>\n",
              "      <td>0.0</td>\n",
              "      <td>0.0</td>\n",
              "      <td>0.0</td>\n",
              "      <td>0.0</td>\n",
              "      <td>0.0</td>\n",
              "      <td>0.0</td>\n",
              "      <td>0.0</td>\n",
              "      <td>0.0</td>\n",
              "      <td>0.0</td>\n",
              "      <td>0.0</td>\n",
              "      <td>0.0</td>\n",
              "      <td>0.0</td>\n",
              "      <td>0.0</td>\n",
              "      <td>0.0</td>\n",
              "      <td>0.0</td>\n",
              "      <td>0.0</td>\n",
              "      <td>0.0</td>\n",
              "      <td>0.0</td>\n",
              "      <td>0.0</td>\n",
              "      <td>0.0</td>\n",
              "      <td>0.0</td>\n",
              "      <td>0.0</td>\n",
              "      <td>0.0</td>\n",
              "      <td>0.0</td>\n",
              "      <td>0.0</td>\n",
              "      <td>0.0</td>\n",
              "      <td>0.0</td>\n",
              "      <td>0.0</td>\n",
              "      <td>0.0</td>\n",
              "      <td>0.0</td>\n",
              "      <td>0.0</td>\n",
              "      <td>0.0</td>\n",
              "      <td>0.0</td>\n",
              "      <td>0.0</td>\n",
              "      <td>0.0</td>\n",
              "      <td>0.0</td>\n",
              "      <td>0.0</td>\n",
              "      <td>...</td>\n",
              "      <td>0.0</td>\n",
              "      <td>0.0</td>\n",
              "      <td>0.0</td>\n",
              "      <td>0.0</td>\n",
              "      <td>0.0</td>\n",
              "      <td>0.0</td>\n",
              "      <td>0.0</td>\n",
              "      <td>0.0</td>\n",
              "      <td>0.0</td>\n",
              "      <td>0.0</td>\n",
              "      <td>0.0</td>\n",
              "      <td>0.0</td>\n",
              "      <td>0.0</td>\n",
              "      <td>0.0</td>\n",
              "      <td>0.0</td>\n",
              "      <td>0.0</td>\n",
              "      <td>0.0</td>\n",
              "      <td>0.0</td>\n",
              "      <td>0.0</td>\n",
              "      <td>0.0</td>\n",
              "      <td>0.0</td>\n",
              "      <td>0.0</td>\n",
              "      <td>0.0</td>\n",
              "      <td>0.0</td>\n",
              "      <td>0.0</td>\n",
              "      <td>0.0</td>\n",
              "      <td>0.0</td>\n",
              "      <td>0.0</td>\n",
              "      <td>0.0</td>\n",
              "      <td>0.0</td>\n",
              "      <td>0.0</td>\n",
              "      <td>0.0</td>\n",
              "      <td>0.0</td>\n",
              "      <td>0.0</td>\n",
              "      <td>0.0</td>\n",
              "      <td>0.0</td>\n",
              "      <td>0.0</td>\n",
              "      <td>0.0</td>\n",
              "      <td>0.0</td>\n",
              "      <td>0.0</td>\n",
              "      <td>0.0</td>\n",
              "      <td>0.0</td>\n",
              "      <td>0.0</td>\n",
              "      <td>0.0</td>\n",
              "      <td>0.0</td>\n",
              "      <td>0.0</td>\n",
              "      <td>0.0</td>\n",
              "      <td>0.0</td>\n",
              "      <td>0.0</td>\n",
              "      <td>5.0</td>\n",
              "    </tr>\n",
              "  </tbody>\n",
              "</table>\n",
              "<p>5 rows × 208 columns</p>\n",
              "</div>\n",
              "      <button class=\"colab-df-convert\" onclick=\"convertToInteractive('df-d15a5a37-0136-43e3-8f6a-78bbce3d222e')\"\n",
              "              title=\"Convert this dataframe to an interactive table.\"\n",
              "              style=\"display:none;\">\n",
              "        \n",
              "  <svg xmlns=\"http://www.w3.org/2000/svg\" height=\"24px\"viewBox=\"0 0 24 24\"\n",
              "       width=\"24px\">\n",
              "    <path d=\"M0 0h24v24H0V0z\" fill=\"none\"/>\n",
              "    <path d=\"M18.56 5.44l.94 2.06.94-2.06 2.06-.94-2.06-.94-.94-2.06-.94 2.06-2.06.94zm-11 1L8.5 8.5l.94-2.06 2.06-.94-2.06-.94L8.5 2.5l-.94 2.06-2.06.94zm10 10l.94 2.06.94-2.06 2.06-.94-2.06-.94-.94-2.06-.94 2.06-2.06.94z\"/><path d=\"M17.41 7.96l-1.37-1.37c-.4-.4-.92-.59-1.43-.59-.52 0-1.04.2-1.43.59L10.3 9.45l-7.72 7.72c-.78.78-.78 2.05 0 2.83L4 21.41c.39.39.9.59 1.41.59.51 0 1.02-.2 1.41-.59l7.78-7.78 2.81-2.81c.8-.78.8-2.07 0-2.86zM5.41 20L4 18.59l7.72-7.72 1.47 1.35L5.41 20z\"/>\n",
              "  </svg>\n",
              "      </button>\n",
              "      \n",
              "  <style>\n",
              "    .colab-df-container {\n",
              "      display:flex;\n",
              "      flex-wrap:wrap;\n",
              "      gap: 12px;\n",
              "    }\n",
              "\n",
              "    .colab-df-convert {\n",
              "      background-color: #E8F0FE;\n",
              "      border: none;\n",
              "      border-radius: 50%;\n",
              "      cursor: pointer;\n",
              "      display: none;\n",
              "      fill: #1967D2;\n",
              "      height: 32px;\n",
              "      padding: 0 0 0 0;\n",
              "      width: 32px;\n",
              "    }\n",
              "\n",
              "    .colab-df-convert:hover {\n",
              "      background-color: #E2EBFA;\n",
              "      box-shadow: 0px 1px 2px rgba(60, 64, 67, 0.3), 0px 1px 3px 1px rgba(60, 64, 67, 0.15);\n",
              "      fill: #174EA6;\n",
              "    }\n",
              "\n",
              "    [theme=dark] .colab-df-convert {\n",
              "      background-color: #3B4455;\n",
              "      fill: #D2E3FC;\n",
              "    }\n",
              "\n",
              "    [theme=dark] .colab-df-convert:hover {\n",
              "      background-color: #434B5C;\n",
              "      box-shadow: 0px 1px 3px 1px rgba(0, 0, 0, 0.15);\n",
              "      filter: drop-shadow(0px 1px 2px rgba(0, 0, 0, 0.3));\n",
              "      fill: #FFFFFF;\n",
              "    }\n",
              "  </style>\n",
              "\n",
              "      <script>\n",
              "        const buttonEl =\n",
              "          document.querySelector('#df-d15a5a37-0136-43e3-8f6a-78bbce3d222e button.colab-df-convert');\n",
              "        buttonEl.style.display =\n",
              "          google.colab.kernel.accessAllowed ? 'block' : 'none';\n",
              "\n",
              "        async function convertToInteractive(key) {\n",
              "          const element = document.querySelector('#df-d15a5a37-0136-43e3-8f6a-78bbce3d222e');\n",
              "          const dataTable =\n",
              "            await google.colab.kernel.invokeFunction('convertToInteractive',\n",
              "                                                     [key], {});\n",
              "          if (!dataTable) return;\n",
              "\n",
              "          const docLinkHtml = 'Like what you see? Visit the ' +\n",
              "            '<a target=\"_blank\" href=https://colab.research.google.com/notebooks/data_table.ipynb>data table notebook</a>'\n",
              "            + ' to learn more about interactive tables.';\n",
              "          element.innerHTML = '';\n",
              "          dataTable['output_type'] = 'display_data';\n",
              "          await google.colab.output.renderOutput(dataTable, element);\n",
              "          const docLink = document.createElement('div');\n",
              "          docLink.innerHTML = docLinkHtml;\n",
              "          element.appendChild(docLink);\n",
              "        }\n",
              "      </script>\n",
              "    </div>\n",
              "  </div>\n",
              "  "
            ]
          },
          "metadata": {},
          "execution_count": 61
        }
      ]
    },
    {
      "cell_type": "code",
      "source": [
        "df_3['Target'].value_counts().plot.pie()"
      ],
      "metadata": {
        "colab": {
          "base_uri": "https://localhost:8080/",
          "height": 265
        },
        "id": "gpnk0SvBw4fM",
        "outputId": "9f3b6c79-577b-44c8-8642-6e9af8703d50"
      },
      "execution_count": 62,
      "outputs": [
        {
          "output_type": "execute_result",
          "data": {
            "text/plain": [
              "<matplotlib.axes._subplots.AxesSubplot at 0x7f1b91f91850>"
            ]
          },
          "metadata": {},
          "execution_count": 62
        },
        {
          "output_type": "display_data",
          "data": {
            "text/plain": [
              "<Figure size 432x288 with 1 Axes>"
            ],
            "image/png": "[encoded data removed]"
          },
          "metadata": {}
        }
      ]
    },
    {
      "cell_type": "code",
      "source": [
        "code = {1.0:0,2.0:0,3.0:0,4.0:1,5.0:1}\n",
        "df_3['Target'] =df_3['Target'].replace(code)  #.astype(np.float64)\n",
        "df_3['Target'].value_counts()"
      ],
      "metadata": {
        "colab": {
          "base_uri": "https://localhost:8080/"
        },
        "id": "vEcC3Y-7z-YT",
        "outputId": "0727f9ff-fe02-468b-a2af-f97f3008b627"
      },
      "execution_count": 63,
      "outputs": [
        {
          "output_type": "execute_result",
          "data": {
            "text/plain": [
              "1.0    4180\n",
              "0.0     820\n",
              "Name: Target, dtype: int64"
            ]
          },
          "metadata": {},
          "execution_count": 63
        }
      ]
    },
    {
      "cell_type": "code",
      "source": [
        "df3_t_c=df_3['Target'].value_counts()\n",
        "df3_t_c.plot.pie()"
      ],
      "metadata": {
        "colab": {
          "base_uri": "https://localhost:8080/",
          "height": 265
        },
        "id": "mtiHVQkQyYik",
        "outputId": "5f5078ea-0daa-450b-e3c3-4cd3d6fc23f3"
      },
      "execution_count": 64,
      "outputs": [
        {
          "output_type": "execute_result",
          "data": {
            "text/plain": [
              "<matplotlib.axes._subplots.AxesSubplot at 0x7f1b91ebf250>"
            ]
          },
          "metadata": {},
          "execution_count": 64
        },
        {
          "output_type": "display_data",
          "data": {
            "text/plain": [
              "<Figure size 432x288 with 1 Axes>"
            ],
            "image/png": "[encoded data removed]"
          },
          "metadata": {}
        }
      ]
    },
    {
      "cell_type": "code",
      "source": [
        "df3_t=df3_t_c/df3_t_c.sum()*100\n",
        "df3_t"
      ],
      "metadata": {
        "colab": {
          "base_uri": "https://localhost:8080/"
        },
        "id": "OOkBHvzty9rf",
        "outputId": "68f916a8-ef76-4443-80de-71b3d9680e8b"
      },
      "execution_count": 65,
      "outputs": [
        {
          "output_type": "execute_result",
          "data": {
            "text/plain": [
              "1.0    83.6\n",
              "0.0    16.4\n",
              "Name: Target, dtype: float64"
            ]
          },
          "metadata": {},
          "execution_count": 65
        }
      ]
    },
    {
      "cell_type": "code",
      "source": [
        ""
      ],
      "metadata": {
        "id": "vMA_r0QqfMbN"
      },
      "execution_count": null,
      "outputs": []
    },
    {
      "cell_type": "markdown",
      "source": [
        "## **Taking into account user_id column**"
      ],
      "metadata": {
        "id": "MhN26Lxngw56"
      }
    },
    {
      "cell_type": "code",
      "source": [
        "#==================================================================\n",
        "#-------------- taking into account user_id column \n",
        "#=================================================================="
      ],
      "metadata": {
        "id": "tATba12ih26C"
      },
      "execution_count": 67,
      "outputs": []
    },
    {
      "cell_type": "code",
      "source": [
        "# def of X2, Y2\n",
        "Y2=df_3[df_3.columns[-1]]\n",
        "X2=df_3[df_3.columns[0:-1]] # take column user_id into account\n",
        "\n",
        "print('X2.shape, Y2.shape')\n",
        "print(X2.shape, Y2.shape,'\\n')\n",
        "#\n",
        "# Split() ---> define X_train,X_test,y_train,y_test\n",
        "from sklearn.model_selection import train_test_split\n",
        "#\n",
        "in_test_size=20/100\n",
        "X_train2,X_test2,y_train2,y_test2 = train_test_split(X2,Y2,test_size=in_test_size,random_state=0)\n",
        "#\n",
        "print('X_train2.shape,X_test2.shape,y_train2.shape,y_test2.shape')\n",
        "print(X_train2.shape,X_test2.shape,y_train2.shape,y_test2.shape,'\\n')\n",
        "#\n",
        "model_list_XGB_RFC_2=test_classifierModels_list(classifierModels_dict, X_train2,X_test2,y_train2,y_test2)\n",
        "\n",
        "#\n",
        "print('\\n==========================')\n",
        "print('Case OverSampling by ******************** RandomOverSampler()')\n",
        "print('==========================')\n",
        "\n",
        "X_train2_ros, y_train2_ros = ros.fit_resample(X_train2, y_train2.ravel())  \n",
        "print('X_train2_ros.shape,y_train2_ros.shape')\n",
        "print(X_train2_ros.shape,y_train2_ros.shape,'\\n')\n",
        "\n",
        "model_list_XGB_RFC_ros_2=test_classifierModels_list(classifierModels_dict, X_train2_ros,X_test2,y_train2_ros,y_test2)\n",
        "\n",
        "#\n",
        "print('\\n==========================')\n",
        "print('Case OverSampling by ******************** SMOTE()')\n",
        "print('==========================')\n",
        "\n",
        "X_train2_sm, y_train2_sm = sm.fit_resample(X_train2, y_train2.ravel())  \n",
        "print('X_train2_sm.shape,y_train2_sm.shape')\n",
        "print(X_train2_sm.shape,y_train2_sm.shape,'\\n')\n",
        "\n",
        "model_list_XGB_RFC_sm_2=test_classifierModels_list(classifierModels_dict, X_train2_sm,X_test2,y_train2_sm,y_test2)"
      ],
      "metadata": {
        "colab": {
          "base_uri": "https://localhost:8080/"
        },
        "id": "vJy4jhqjfMPt",
        "outputId": "316a4608-ed01-4e53-a965-76dd50656423"
      },
      "execution_count": 68,
      "outputs": [
        {
          "output_type": "stream",
          "name": "stdout",
          "text": [
            "X2.shape, Y2.shape\n",
            "(5000, 207) (5000,) \n",
            "\n",
            "X_train2.shape,X_test2.shape,y_train2.shape,y_test2.shape\n",
            "(4000, 207) (1000, 207) (4000,) (1000,) \n",
            "\n",
            "============\n",
            "XGBoost\n",
            "============\n",
            "0.836\n",
            "[[  2 164]\n",
            " [  0 834]]\n",
            "              precision    recall  f1-score   support\n",
            "\n",
            "         0.0       1.00      0.01      0.02       166\n",
            "         1.0       0.84      1.00      0.91       834\n",
            "\n",
            "    accuracy                           0.84      1000\n",
            "   macro avg       0.92      0.51      0.47      1000\n",
            "weighted avg       0.86      0.84      0.76      1000\n",
            "\n",
            "-----------:::::::::::::::-------------\n",
            "============\n",
            "RandomForestClassifier\n",
            "============\n",
            "0.747\n",
            "[[ 36 130]\n",
            " [123 711]]\n",
            "              precision    recall  f1-score   support\n",
            "\n",
            "         0.0       0.23      0.22      0.22       166\n",
            "         1.0       0.85      0.85      0.85       834\n",
            "\n",
            "    accuracy                           0.75      1000\n",
            "   macro avg       0.54      0.53      0.54      1000\n",
            "weighted avg       0.74      0.75      0.74      1000\n",
            "\n",
            "-----------:::::::::::::::-------------\n",
            "\n",
            "==========================\n",
            "Case OverSampling by ******************** RandomOverSampler()\n",
            "==========================\n",
            "X_train2_ros.shape,y_train2_ros.shape\n",
            "(6692, 207) (6692,) \n",
            "\n",
            "============\n",
            "XGBoost\n",
            "============\n",
            "0.613\n",
            "[[112  54]\n",
            " [333 501]]\n",
            "              precision    recall  f1-score   support\n",
            "\n",
            "         0.0       0.25      0.67      0.37       166\n",
            "         1.0       0.90      0.60      0.72       834\n",
            "\n",
            "    accuracy                           0.61      1000\n",
            "   macro avg       0.58      0.64      0.54      1000\n",
            "weighted avg       0.79      0.61      0.66      1000\n",
            "\n",
            "-----------:::::::::::::::-------------\n",
            "============\n",
            "RandomForestClassifier\n",
            "============\n",
            "0.749\n",
            "[[ 37 129]\n",
            " [122 712]]\n",
            "              precision    recall  f1-score   support\n",
            "\n",
            "         0.0       0.23      0.22      0.23       166\n",
            "         1.0       0.85      0.85      0.85       834\n",
            "\n",
            "    accuracy                           0.75      1000\n",
            "   macro avg       0.54      0.54      0.54      1000\n",
            "weighted avg       0.74      0.75      0.75      1000\n",
            "\n",
            "-----------:::::::::::::::-------------\n",
            "\n",
            "==========================\n",
            "Case OverSampling by ******************** SMOTE()\n",
            "==========================\n",
            "X_train2_sm.shape,y_train2_sm.shape\n",
            "(6692, 207) (6692,) \n",
            "\n",
            "============\n",
            "XGBoost\n",
            "============\n",
            "0.606\n",
            "[[113  53]\n",
            " [341 493]]\n",
            "              precision    recall  f1-score   support\n",
            "\n",
            "         0.0       0.25      0.68      0.36       166\n",
            "         1.0       0.90      0.59      0.71       834\n",
            "\n",
            "    accuracy                           0.61      1000\n",
            "   macro avg       0.58      0.64      0.54      1000\n",
            "weighted avg       0.79      0.61      0.66      1000\n",
            "\n",
            "-----------:::::::::::::::-------------\n",
            "============\n",
            "RandomForestClassifier\n",
            "============\n",
            "0.705\n",
            "[[ 68  98]\n",
            " [197 637]]\n",
            "              precision    recall  f1-score   support\n",
            "\n",
            "         0.0       0.26      0.41      0.32       166\n",
            "         1.0       0.87      0.76      0.81       834\n",
            "\n",
            "    accuracy                           0.70      1000\n",
            "   macro avg       0.56      0.59      0.56      1000\n",
            "weighted avg       0.77      0.70      0.73      1000\n",
            "\n",
            "-----------:::::::::::::::-------------\n"
          ]
        }
      ]
    },
    {
      "cell_type": "code",
      "source": [
        "#--------------------------------------------\n",
        "#--- feature_importances ---> for RandomForestClassifier \n",
        "# ******** In the following we consider RandomOverSampler() case\n",
        "#-------------------------------------------\n",
        "#\n",
        "#model_rfc= dico_model_ypredictTest_score.get('RandomForestClassifier')[0]\n",
        "model_RFC_ros_2= model_list_XGB_RFC_ros_2.get('RandomForestClassifier')[0]\n",
        "#\n",
        "feature_importances_RFC_ros_2=show_importances_plot(model_RFC_ros_2,i_threshold=0.0008) #(0.0008,53cols,acc=0.735),(0.002,19cols,acc=0.73),(0.003,7cols,acc=0.728)\n",
        "len(feature_importances_RFC_ros_2)"
      ],
      "metadata": {
        "id": "_ercqQuwCHR1",
        "colab": {
          "base_uri": "https://localhost:8080/",
          "height": 392
        },
        "outputId": "4921671f-880c-49a4-b37e-df5e2570e123"
      },
      "execution_count": 69,
      "outputs": [
        {
          "output_type": "execute_result",
          "data": {
            "text/plain": [
              "49"
            ]
          },
          "metadata": {},
          "execution_count": 69
        },
        {
          "output_type": "display_data",
          "data": {
            "text/plain": [
              "<Figure size 792x432 with 1 Axes>"
            ],
            "image/png": "[encoded data removed]"
          },
          "metadata": {
            "needs_background": "light"
          }
        }
      ]
    },
    {
      "cell_type": "code",
      "source": [
        "list_rest_cols_2=list(feature_importances_RFC_ros_2.index)\n",
        "\n",
        "model_list_XGB_RFC_ros_rest_2=test_classifierModels_list(classifierModels_dict, X_train2_ros[list_rest_cols_2],X_test2[list_rest_cols_2],y_train2_ros,y_test2)"
      ],
      "metadata": {
        "id": "pKxDVXUT5Lbt",
        "colab": {
          "base_uri": "https://localhost:8080/"
        },
        "outputId": "2e496545-f195-40cd-be2f-ff4ca93ff293"
      },
      "execution_count": 70,
      "outputs": [
        {
          "output_type": "stream",
          "name": "stdout",
          "text": [
            "============\n",
            "XGBoost\n",
            "============\n",
            "0.609\n",
            "[[113  53]\n",
            " [338 496]]\n",
            "              precision    recall  f1-score   support\n",
            "\n",
            "         0.0       0.25      0.68      0.37       166\n",
            "         1.0       0.90      0.59      0.72       834\n",
            "\n",
            "    accuracy                           0.61      1000\n",
            "   macro avg       0.58      0.64      0.54      1000\n",
            "weighted avg       0.80      0.61      0.66      1000\n",
            "\n",
            "-----------:::::::::::::::-------------\n",
            "============\n",
            "RandomForestClassifier\n",
            "============\n",
            "0.75\n",
            "[[ 39 127]\n",
            " [123 711]]\n",
            "              precision    recall  f1-score   support\n",
            "\n",
            "         0.0       0.24      0.23      0.24       166\n",
            "         1.0       0.85      0.85      0.85       834\n",
            "\n",
            "    accuracy                           0.75      1000\n",
            "   macro avg       0.54      0.54      0.54      1000\n",
            "weighted avg       0.75      0.75      0.75      1000\n",
            "\n",
            "-----------:::::::::::::::-------------\n"
          ]
        }
      ]
    },
    {
      "cell_type": "code",
      "source": [
        "# Create correlation matrix\n",
        "corr_matrix = X_train2_ros[list_rest_cols_2].corr()\n",
        "print('corr_matrix.shape')\n",
        "print(corr_matrix.shape)\n",
        "#\n",
        "if len(verify_dependency(corr_matrix,0.35))==0:\n",
        "  print('\\nNo dependency:', verify_dependency(corr_matrix,0.35))\n",
        "else:\n",
        "  print('\\nDependency:....', verify_dependency(corr_matrix,0.35))  \n",
        "#\n",
        "print('\\n')\n",
        "import seaborn as sns\n",
        "sns.heatmap(corr_matrix)"
      ],
      "metadata": {
        "id": "y076i-sb1hxT",
        "colab": {
          "base_uri": "https://localhost:8080/",
          "height": 430
        },
        "outputId": "bbdecbef-dcfb-4379-a2be-9c533571e07f"
      },
      "execution_count": 71,
      "outputs": [
        {
          "output_type": "stream",
          "name": "stdout",
          "text": [
            "corr_matrix.shape\n",
            "(49, 49)\n",
            "\n",
            "No dependency: []\n",
            "\n",
            "\n"
          ]
        },
        {
          "output_type": "execute_result",
          "data": {
            "text/plain": [
              "<matplotlib.axes._subplots.AxesSubplot at 0x7f1b8f40d210>"
            ]
          },
          "metadata": {},
          "execution_count": 71
        },
        {
          "output_type": "display_data",
          "data": {
            "text/plain": [
              "<Figure size 432x288 with 2 Axes>"
            ],
            "image/png": "[encoded data removed]"
          },
          "metadata": {
            "needs_background": "light"
          }
        }
      ]
    },
    {
      "cell_type": "code",
      "source": [
        "### case i_threshold=0.003\n",
        "feature_importances_RFC_ros_2_OOO3=show_importances_plot(model_RFC_ros_2,i_threshold=0.003) #(0.0008,53cols,acc=0.735),(0.002,19cols,acc=0.73),(0.003,7cols,acc=0.728)\n",
        "len(feature_importances_RFC_ros_2_OOO3)"
      ],
      "metadata": {
        "colab": {
          "base_uri": "https://localhost:8080/",
          "height": 391
        },
        "id": "vXFML75_9Vtz",
        "outputId": "07c83f28-2456-45ed-cc00-fea21d4a384a"
      },
      "execution_count": 72,
      "outputs": [
        {
          "output_type": "execute_result",
          "data": {
            "text/plain": [
              "9"
            ]
          },
          "metadata": {},
          "execution_count": 72
        },
        {
          "output_type": "display_data",
          "data": {
            "text/plain": [
              "<Figure size 792x432 with 1 Axes>"
            ],
            "image/png": "[encoded data removed]"
          },
          "metadata": {
            "needs_background": "light"
          }
        }
      ]
    },
    {
      "cell_type": "code",
      "source": [
        "list_rest_cols_2_OOO3=list(feature_importances_RFC_ros_2_OOO3.index)\n",
        "\n",
        "model_list_XGB_RFC_ros_rest_2_OOO3=test_classifierModels_list(classifierModels_dict, \n",
        "                                      X_train2_ros[list_rest_cols_2_OOO3],X_test2[list_rest_cols_2_OOO3],\n",
        "                                          y_train2_ros,y_test2)\n"
      ],
      "metadata": {
        "colab": {
          "base_uri": "https://localhost:8080/"
        },
        "id": "Opem2gsIelDf",
        "outputId": "ceb8c853-798a-4cca-e21f-92abf9f91f94"
      },
      "execution_count": 73,
      "outputs": [
        {
          "output_type": "stream",
          "name": "stdout",
          "text": [
            "============\n",
            "XGBoost\n",
            "============\n",
            "0.616\n",
            "[[110  56]\n",
            " [328 506]]\n",
            "              precision    recall  f1-score   support\n",
            "\n",
            "         0.0       0.25      0.66      0.36       166\n",
            "         1.0       0.90      0.61      0.72       834\n",
            "\n",
            "    accuracy                           0.62      1000\n",
            "   macro avg       0.58      0.63      0.54      1000\n",
            "weighted avg       0.79      0.62      0.67      1000\n",
            "\n",
            "-----------:::::::::::::::-------------\n",
            "============\n",
            "RandomForestClassifier\n",
            "============\n",
            "0.749\n",
            "[[ 39 127]\n",
            " [124 710]]\n",
            "              precision    recall  f1-score   support\n",
            "\n",
            "         0.0       0.24      0.23      0.24       166\n",
            "         1.0       0.85      0.85      0.85       834\n",
            "\n",
            "    accuracy                           0.75      1000\n",
            "   macro avg       0.54      0.54      0.54      1000\n",
            "weighted avg       0.75      0.75      0.75      1000\n",
            "\n",
            "-----------:::::::::::::::-------------\n"
          ]
        }
      ]
    },
    {
      "cell_type": "code",
      "source": [
        "# Create correlation matrix\n",
        "corr_matrix = X_train2_ros[list_rest_cols_2_OOO3].corr()\n",
        "print('corr_matrix.shape')\n",
        "print(corr_matrix.shape)\n",
        "#\n",
        "if len(verify_dependency(corr_matrix,0.35))==0:\n",
        "  print('\\nNo dependency:', verify_dependency(corr_matrix,0.35))\n",
        "else:\n",
        "  print('\\nDependency:....', verify_dependency(corr_matrix,0.35))  \n",
        "#\n",
        "print('\\n')\n",
        "import seaborn as sns\n",
        "sns.heatmap(corr_matrix)"
      ],
      "metadata": {
        "colab": {
          "base_uri": "https://localhost:8080/",
          "height": 430
        },
        "id": "T4tWsWfwelAd",
        "outputId": "fcd49335-a7ac-4b68-db0b-d8e5a2a47f4e"
      },
      "execution_count": 74,
      "outputs": [
        {
          "output_type": "stream",
          "name": "stdout",
          "text": [
            "corr_matrix.shape\n",
            "(9, 9)\n",
            "\n",
            "No dependency: []\n",
            "\n",
            "\n"
          ]
        },
        {
          "output_type": "execute_result",
          "data": {
            "text/plain": [
              "<matplotlib.axes._subplots.AxesSubplot at 0x7f1bb84a6a90>"
            ]
          },
          "metadata": {},
          "execution_count": 74
        },
        {
          "output_type": "display_data",
          "data": {
            "text/plain": [
              "<Figure size 432x288 with 2 Axes>"
            ],
            "image/png": "[encoded data removed]"
          },
          "metadata": {
            "needs_background": "light"
          }
        }
      ]
    },
    {
      "cell_type": "code",
      "source": [
        ""
      ],
      "metadata": {
        "id": "xYXeMJuz_nV-"
      },
      "execution_count": 74,
      "outputs": []
    },
    {
      "cell_type": "code",
      "source": [
        "X_train_2=X_train2_ros[list_rest_cols_2]\n",
        "X_test_2=X_test2[list_rest_cols_2]\n",
        "y_train_2=y_train2_ros\n",
        "y_test_2=y_test2"
      ],
      "metadata": {
        "id": "VcqS7z8t_2-b"
      },
      "execution_count": 75,
      "outputs": []
    },
    {
      "cell_type": "code",
      "source": [
        "# GridSearchCV \n",
        "from sklearn.model_selection import GridSearchCV\n",
        "\n",
        "#\n",
        "grid_rfc=RandomForestClassifier(random_state=0)\n",
        "\n",
        "tuned_parameters={'n_estimators': [500,1000,1500], 'max_features': ['auto', 'sqrt', 'log2'],'max_depth': [32,64,128], \n",
        "                  'criterion': ['gini', 'entropy']}\n",
        "# tuned_parameters={'n_estimators': [300,400,500,600,1000], 'max_features': ['auto', 'sqrt', 'log2'],'max_depth': [16,32,64], 'criterion': ['gini', 'entropy']}\n",
        "#tuned_parameters={'n_estimators': [400,500], 'max_features': ['auto', 'sqrt', 'log2'],'max_depth': [16,32], 'criterion': ['gini', 'entropy']}\n",
        "# tuned_parameters={'n_estimators': [200], 'max_features': ['auto'],'max_depth': [32], 'criterion': ['entropy']}\n",
        "#\n",
        "#CV_svc = GridSearchCV(svc_model,tuned_parameters,refit=True,verbose=0)\n",
        "grid_CV_rfc=GridSearchCV(cv=5, error_score='raise', estimator=grid_rfc, param_grid=tuned_parameters,n_jobs=2,\n",
        "                                   pre_dispatch='2*n_jobs', refit=True, return_train_score='warn',\n",
        "                         scoring=None, verbose=0)\n",
        "#\n",
        "\n",
        "grid_CV_rfc.fit(X_train_2, y_train_2)\n",
        "\n",
        "print('grid_CV_rfc.best_params_=',grid_CV_rfc.best_params_)\n",
        "#\n",
        "grid_CV_rfc_fit,yTest_redict1,scor1=fit_and_evaluate(grid_CV_rfc,X_train_2,X_test_2,y_train_2,\n",
        "                                                     y_test_2,i_fit_operation=False)\n"
      ],
      "metadata": {
        "colab": {
          "base_uri": "https://localhost:8080/"
        },
        "id": "R1tsR_z0_nEE",
        "outputId": "2b276d33-498c-4ba0-cbe7-49d5839adda1"
      },
      "execution_count": 81,
      "outputs": [
        {
          "output_type": "stream",
          "name": "stdout",
          "text": [
            "grid_CV_rfc.best_params_= {'criterion': 'gini', 'max_depth': 64, 'max_features': 'auto', 'n_estimators': 1000}\n",
            "0.75\n",
            "[[ 39 127]\n",
            " [123 711]]\n",
            "              precision    recall  f1-score   support\n",
            "\n",
            "         0.0       0.24      0.23      0.24       166\n",
            "         1.0       0.85      0.85      0.85       834\n",
            "\n",
            "    accuracy                           0.75      1000\n",
            "   macro avg       0.54      0.54      0.54      1000\n",
            "weighted avg       0.75      0.75      0.75      1000\n",
            "\n"
          ]
        }
      ]
    },
    {
      "cell_type": "code",
      "source": [
        ""
      ],
      "metadata": {
        "id": "f7cgjUVyek88"
      },
      "execution_count": 81,
      "outputs": []
    },
    {
      "cell_type": "markdown",
      "source": [
        "## **No taking into account user_id column**"
      ],
      "metadata": {
        "id": "w7MyvZpBgOL7"
      }
    },
    {
      "cell_type": "code",
      "source": [
        "#==================================================================\n",
        "#-------------- No taking column user_id into account\n",
        "#=================================================================="
      ],
      "metadata": {
        "id": "skVZ6oh69717"
      },
      "execution_count": null,
      "outputs": []
    },
    {
      "cell_type": "code",
      "source": [
        "# def of X3, Y3\n",
        "Y3=df_3[df_3.columns[-1]]\n",
        "X3=df_3[df_3.columns[1:-1]] # No taking column user_id into account\n",
        "print('X3.shape, Y3.shape')\n",
        "print(X3.shape, Y3.shape,'\\n')\n",
        "#\n",
        "# Split() ---> define X_train,X_test,y_train,y_test\n",
        "from sklearn.model_selection import train_test_split\n",
        "#\n",
        "in_test_size=20/100\n",
        "X_train3,X_test3,y_train3,y_test3 = train_test_split(X3,Y3,test_size=in_test_size,random_state=0)\n",
        "#\n",
        "print('X_train3.shape,X_test3.shape,y_train3.shape,y_test3.shape')\n",
        "print(X_train3.shape,X_test3.shape,y_train3.shape,y_test3.shape,'\\n')\n",
        "#\n",
        "model_list_XGB_RFC_3=test_classifierModels_list(classifierModels_dict, X_train3,X_test3,y_train3,y_test3)\n",
        "\n",
        "#\n",
        "print('\\n==========================')\n",
        "print('Case OverSampling by RandomOverSampler()')\n",
        "print('==========================')\n",
        "\n",
        "X_train3_ros, y_train3_ros = ros.fit_resample(X_train3, y_train3.ravel())  \n",
        "print('X_train3_ros.shape,y_train3_ros.shape')\n",
        "print(X_train3_ros.shape,y_train3_ros.shape,'\\n')\n",
        "\n",
        "model_list_XGB_RFC_ros_3=test_classifierModels_list(classifierModels_dict, X_train3_ros,X_test3,y_train3_ros,y_test3)\n",
        "\n",
        "#\n",
        "print('\\n==========================')\n",
        "print('Case OverSampling by SMOTE()')\n",
        "print('==========================')\n",
        "\n",
        "X_train3_sm, y_train3_sm = sm.fit_resample(X_train3, y_train3.ravel())  \n",
        "print('X_train3_sm.shape,y_train3_sm.shape')\n",
        "print(X_train3_sm.shape,y_train3_sm.shape,'\\n')\n",
        "\n",
        "model_list_XGB_RFC_sm_3=test_classifierModels_list(classifierModels_dict, X_train3_sm,X_test3,y_train3_sm,y_test3)"
      ],
      "metadata": {
        "colab": {
          "base_uri": "https://localhost:8080/"
        },
        "id": "Yor0rg7t97mL",
        "outputId": "4f508d76-dc0f-4d8f-c7a3-c5aebe34161e"
      },
      "execution_count": null,
      "outputs": [
        {
          "output_type": "stream",
          "name": "stdout",
          "text": [
            "X3.shape, Y3.shape\n",
            "(5000, 206) (5000,) \n",
            "\n",
            "X_train3.shape,X_test3.shape,y_train3.shape,y_test3.shape\n",
            "(4000, 206) (1000, 206) (4000,) (1000,) \n",
            "\n",
            "============\n",
            "XGBoost\n",
            "============\n",
            "0.836\n",
            "[[  2 164]\n",
            " [  0 834]]\n",
            "              precision    recall  f1-score   support\n",
            "\n",
            "         0.0       1.00      0.01      0.02       166\n",
            "         1.0       0.84      1.00      0.91       834\n",
            "\n",
            "    accuracy                           0.84      1000\n",
            "   macro avg       0.92      0.51      0.47      1000\n",
            "weighted avg       0.86      0.84      0.76      1000\n",
            "\n",
            "-----------:::::::::::::::-------------\n",
            "============\n",
            "RandomForestClassifier\n",
            "============\n",
            "0.833\n",
            "[[  2 164]\n",
            " [  3 831]]\n",
            "              precision    recall  f1-score   support\n",
            "\n",
            "         0.0       0.40      0.01      0.02       166\n",
            "         1.0       0.84      1.00      0.91       834\n",
            "\n",
            "    accuracy                           0.83      1000\n",
            "   macro avg       0.62      0.50      0.47      1000\n",
            "weighted avg       0.76      0.83      0.76      1000\n",
            "\n",
            "-----------:::::::::::::::-------------\n",
            "\n",
            "==========================\n",
            "Case OverSampling by RandomOverSampler()\n",
            "==========================\n",
            "X_train3_ros.shape,y_train3_ros.shape\n",
            "(6692, 206) (6692,) \n",
            "\n",
            "============\n",
            "XGBoost\n",
            "============\n",
            "0.595\n",
            "[[120  46]\n",
            " [359 475]]\n",
            "              precision    recall  f1-score   support\n",
            "\n",
            "         0.0       0.25      0.72      0.37       166\n",
            "         1.0       0.91      0.57      0.70       834\n",
            "\n",
            "    accuracy                           0.59      1000\n",
            "   macro avg       0.58      0.65      0.54      1000\n",
            "weighted avg       0.80      0.59      0.65      1000\n",
            "\n",
            "-----------:::::::::::::::-------------\n",
            "============\n",
            "RandomForestClassifier\n",
            "============\n",
            "0.58\n",
            "[[124  42]\n",
            " [378 456]]\n",
            "              precision    recall  f1-score   support\n",
            "\n",
            "         0.0       0.25      0.75      0.37       166\n",
            "         1.0       0.92      0.55      0.68       834\n",
            "\n",
            "    accuracy                           0.58      1000\n",
            "   macro avg       0.58      0.65      0.53      1000\n",
            "weighted avg       0.80      0.58      0.63      1000\n",
            "\n",
            "-----------:::::::::::::::-------------\n",
            "\n",
            "==========================\n",
            "Case OverSampling by SMOTE()\n",
            "==========================\n",
            "X_train3_sm.shape,y_train3_sm.shape\n",
            "(6692, 206) (6692,) \n",
            "\n",
            "============\n",
            "XGBoost\n",
            "============\n",
            "0.601\n",
            "[[118  48]\n",
            " [351 483]]\n",
            "              precision    recall  f1-score   support\n",
            "\n",
            "         0.0       0.25      0.71      0.37       166\n",
            "         1.0       0.91      0.58      0.71       834\n",
            "\n",
            "    accuracy                           0.60      1000\n",
            "   macro avg       0.58      0.64      0.54      1000\n",
            "weighted avg       0.80      0.60      0.65      1000\n",
            "\n",
            "-----------:::::::::::::::-------------\n",
            "============\n",
            "RandomForestClassifier\n",
            "============\n",
            "0.594\n",
            "[[119  47]\n",
            " [359 475]]\n",
            "              precision    recall  f1-score   support\n",
            "\n",
            "         0.0       0.25      0.72      0.37       166\n",
            "         1.0       0.91      0.57      0.70       834\n",
            "\n",
            "    accuracy                           0.59      1000\n",
            "   macro avg       0.58      0.64      0.54      1000\n",
            "weighted avg       0.80      0.59      0.65      1000\n",
            "\n",
            "-----------:::::::::::::::-------------\n"
          ]
        }
      ]
    },
    {
      "cell_type": "code",
      "source": [
        "#--------------------------------------------\n",
        "#--- feature_importances ---> for RandomForestClassifier \n",
        "# ******** In the following we consider SMOTE() case\n",
        "#-------------------------------------------\n",
        "#\n",
        "model_RFC_sm_3= model_list_XGB_RFC_sm_3.get('RandomForestClassifier')[0]\n",
        "#\n",
        "feature_importances_RFC_sm_3=show_importances_plot(model_RFC_sm_3,0.05) #0.01 i_threshold=\n",
        "len(feature_importances_RFC_sm_3)"
      ],
      "metadata": {
        "colab": {
          "base_uri": "https://localhost:8080/",
          "height": 392
        },
        "id": "1rjA5UbY_w2W",
        "outputId": "5b5c01a8-84a6-41a5-9bcd-10a331ead6c2"
      },
      "execution_count": null,
      "outputs": [
        {
          "output_type": "execute_result",
          "data": {
            "text/plain": [
              "3"
            ]
          },
          "metadata": {},
          "execution_count": 127
        },
        {
          "output_type": "display_data",
          "data": {
            "text/plain": [
              "<Figure size 792x432 with 1 Axes>"
            ],
            "image/png": "[encoded data removed]"
          },
          "metadata": {
            "needs_background": "light"
          }
        }
      ]
    },
    {
      "cell_type": "code",
      "source": [
        "list_rest_cols_3"
      ],
      "metadata": {
        "colab": {
          "base_uri": "https://localhost:8080/"
        },
        "id": "0cUlCUYUGFpL",
        "outputId": "6bcaf180-a62d-49c4-e8be-08a65ac83c55"
      },
      "execution_count": null,
      "outputs": [
        {
          "output_type": "execute_result",
          "data": {
            "text/plain": [
              "['Movie90', 'Movie140', 'Movie127']"
            ]
          },
          "metadata": {},
          "execution_count": 128
        }
      ]
    },
    {
      "cell_type": "code",
      "source": [
        "list_rest_cols_3=list(feature_importances_RFC_sm_3.index)\n",
        "\n",
        "model_list_XGB_RFC_sm_rest_3=test_classifierModels_list(classifierModels_dict, X_train3_sm[list_rest_cols_3],\n",
        "                                                        X_test3[list_rest_cols_3],y_train3_sm,y_test3)\n"
      ],
      "metadata": {
        "colab": {
          "base_uri": "https://localhost:8080/"
        },
        "id": "Qdoq-CrqEnob",
        "outputId": "f3f2224b-b53b-4778-fd2e-17a0135be1f5"
      },
      "execution_count": null,
      "outputs": [
        {
          "output_type": "stream",
          "name": "stdout",
          "text": [
            "============\n",
            "XGBoost\n",
            "============\n",
            "0.604\n",
            "[[115  51]\n",
            " [345 489]]\n",
            "              precision    recall  f1-score   support\n",
            "\n",
            "         0.0       0.25      0.69      0.37       166\n",
            "         1.0       0.91      0.59      0.71       834\n",
            "\n",
            "    accuracy                           0.60      1000\n",
            "   macro avg       0.58      0.64      0.54      1000\n",
            "weighted avg       0.80      0.60      0.65      1000\n",
            "\n",
            "-----------:::::::::::::::-------------\n",
            "============\n",
            "RandomForestClassifier\n",
            "============\n",
            "0.604\n",
            "[[115  51]\n",
            " [345 489]]\n",
            "              precision    recall  f1-score   support\n",
            "\n",
            "         0.0       0.25      0.69      0.37       166\n",
            "         1.0       0.91      0.59      0.71       834\n",
            "\n",
            "    accuracy                           0.60      1000\n",
            "   macro avg       0.58      0.64      0.54      1000\n",
            "weighted avg       0.80      0.60      0.65      1000\n",
            "\n",
            "-----------:::::::::::::::-------------\n"
          ]
        }
      ]
    },
    {
      "cell_type": "code",
      "source": [
        "# Create correlation matrix\n",
        "corr_matrix = X_train3_sm[list_rest_cols_3].corr()\n",
        "print('corr_matrix.shape')\n",
        "print(corr_matrix.shape)\n",
        "#\n",
        "if len(verify_dependency(corr_matrix,0.35))==0:\n",
        "  print('\\nNo dependency:', verify_dependency(corr_matrix,0.35))\n",
        "else:\n",
        "  print('\\nDependency:....', verify_dependency(corr_matrix,0.35))  \n",
        "#\n",
        "print('\\n')\n",
        "import seaborn as sns\n",
        "sns.heatmap(corr_matrix)"
      ],
      "metadata": {
        "colab": {
          "base_uri": "https://localhost:8080/",
          "height": 397
        },
        "id": "jumHdHLiEng3",
        "outputId": "f91b24df-19a3-46d8-eee3-b4dfa1c53b37"
      },
      "execution_count": null,
      "outputs": [
        {
          "output_type": "stream",
          "name": "stdout",
          "text": [
            "corr_matrix.shape\n",
            "(3, 3)\n",
            "\n",
            "No dependency: []\n",
            "\n",
            "\n"
          ]
        },
        {
          "output_type": "execute_result",
          "data": {
            "text/plain": [
              "<matplotlib.axes._subplots.AxesSubplot at 0x7f2600c35890>"
            ]
          },
          "metadata": {},
          "execution_count": 135
        },
        {
          "output_type": "display_data",
          "data": {
            "text/plain": [
              "<Figure size 432x288 with 2 Axes>"
            ],
            "image/png": "[encoded data removed]"
          },
          "metadata": {
            "needs_background": "light"
          }
        }
      ]
    },
    {
      "cell_type": "code",
      "source": [
        ""
      ],
      "metadata": {
        "id": "gSIF3-WFEnZU"
      },
      "execution_count": null,
      "outputs": []
    },
    {
      "cell_type": "markdown",
      "metadata": {
        "id": "CukgYHYWZcLw"
      },
      "source": [
        "# **FUNCTIONS**"
      ]
    },
    {
      "cell_type": "code",
      "execution_count": 32,
      "metadata": {
        "id": "8DFakHLRjgoK"
      },
      "outputs": [],
      "source": [
        "# Re-init Data\n",
        "def reinit_input_df():\n",
        "  l_df=df_init.copy(deep=True)\n",
        "  return l_df"
      ]
    },
    {
      "cell_type": "code",
      "execution_count": 33,
      "metadata": {
        "id": "VJjciHOFB5rW"
      },
      "outputs": [],
      "source": [
        "# get values of columns \n",
        "#------ i_list_of_columns passed as parameter, \n",
        "#------ i_df: concerned dataframe\n",
        "def get_values_of_columns(i_df,i_list_of_columns):\n",
        "  l_set_of_values=set([])\n",
        "  for col in i_list_of_columns:\n",
        "    l_df_t=i_df[[col]]\n",
        "    l_df_t_t=l_df_t[l_df_t.isna()==False]\n",
        "    Sr_t=l_df_t.value_counts()\n",
        "    ll_t=[elem[0] for elem in list(Sr_t.index)]\n",
        "    l_set_of_values=l_set_of_values.union(set(ll_t))\n",
        "    \n",
        "  return l_set_of_values"
      ]
    },
    {
      "cell_type": "code",
      "execution_count": 34,
      "metadata": {
        "id": "brMdu2lWB5oO"
      },
      "outputs": [],
      "source": [
        "# films that exceed a certain number of comments or views\n",
        "import numpy as np\n",
        "\n",
        "def get_above_threshold(i_df,i_seuil):\n",
        "  ll=[]\n",
        "  print('---> Seuil=',np.round(i_seuil,2),', i.e. les films dont les commentaires dépassent:', i_seuil*len(i_df))\n",
        "  for col in i_df.columns:\n",
        "    if len(i_df[i_df[col].isnull()==False]) > i_seuil*len(i_df):\n",
        "      ll.append(col)\n",
        "  return ll"
      ]
    },
    {
      "cell_type": "code",
      "execution_count": 35,
      "metadata": {
        "id": "mhqRQhmLLJxI"
      },
      "outputs": [],
      "source": [
        "# Coding user_id\n",
        "import numpy as np\n",
        "#\n",
        "def get_df_with_coded_user_id(i_df):\n",
        "  l_df=i_df\n",
        "  set_user_id={}\n",
        "  set_user_id=set(l_df['user_id'])\n",
        "  ll=list(set_user_id)\n",
        "  #\n",
        "  mapping_user_id={ll[i]:i+1 for i in range(0, len(ll))}\n",
        "  l_df['user_id'] =l_df['user_id'].replace(mapping_user_id).astype(np.float64)\n",
        "  #\n",
        "  return l_df"
      ]
    },
    {
      "cell_type": "code",
      "execution_count": 36,
      "metadata": {
        "id": "KSiYbLsiM-Ez"
      },
      "outputs": [],
      "source": [
        "# coding or drop user_id and transform nan-->0\n",
        "def get_processed_df(i_df,i_drop_or_coding='drop'):\n",
        "  #\n",
        "  l_df=i_df\n",
        "  \n",
        "  if i_drop_or_coding=='drop':\n",
        "    l_df=l_df.drop(columns=['user_id'], axis=1)\n",
        "  else:\n",
        "    # coding user_id values\n",
        "    l_df=get_df_with_coded_user_id(l_df)\n",
        "\n",
        "  # replacing nan by 0\n",
        "  l_df=l_df.fillna(0)\n",
        "\n",
        "  return l_df"
      ]
    },
    {
      "cell_type": "code",
      "execution_count": 37,
      "metadata": {
        "id": "CTHKiYLFB5k6"
      },
      "outputs": [],
      "source": [
        "#--------------------------------------------------------\n",
        "#--- Idea is the build à type row associated at (i_row,i_col) of dataframe\n",
        "#--- define a list l_lst (relative to a row) by taking into consideration the position (i_row,i_col) in dataframe i_df\n",
        "#--- ***\n",
        "#--- l_lst[0]= value of user_id of i_row\n",
        "#--- l_lst[i_col]=1\n",
        "#--- l_lst[-1]= value of (i_row,i_col) as element of i_df\n",
        "#--------------------------------------------------------\n",
        "def get_list_for_position(i_df,i_row,i_col):\n",
        "  l_lst=[0 for i in range(0,len(i_df.columns))]\n",
        "  l_lst[0]=i_df.iloc[i_row,0]\n",
        "  l_lst[i_col]=1\n",
        "  l_lst[-1]=i_df.iloc[i_row,i_col]\n",
        "  #\n",
        "  return l_lst\n"
      ]
    },
    {
      "cell_type": "code",
      "execution_count": 38,
      "metadata": {
        "id": "aNY1qoANIMxZ"
      },
      "outputs": [],
      "source": [
        "# get preprocessed df with this transformatiion....\n",
        "# --- Target column is defined\n",
        "# --- each value of i_df is transfered to Target column and\n",
        "# --- replaced by 1 \n",
        "def get_df_ready_for_fit(i_df,i_drop_user_id_Col=False):\n",
        "\n",
        "  # preprocessing\n",
        "  if i_drop_user_id_Col:\n",
        "    l_df=get_processed_df(i_df)\n",
        "  else:\n",
        "    l_df=get_processed_df(i_df,False)\n",
        "\n",
        "  # adding Target column\n",
        "  l_df['Target']=0.0\n",
        "\n",
        "  # create an empty df with i_df columns and 'Target'\n",
        "  l_vide=[]\n",
        "  l_df2 = pd.DataFrame(l_vide, columns=l_df.columns)\n",
        "\n",
        "  l_cmpt=0\n",
        "  lst_t=[]\n",
        "  #\n",
        "  for i in range(0, len(l_df)):\n",
        "    for j in range(1,len(l_df.columns)):\n",
        "      if l_df.iloc[i,j] > 0:\n",
        "        lst_t=get_list_for_position(l_df,i,j)\n",
        "        #print(len(lst_t))\n",
        "        l_df2.loc[l_cmpt]=lst_t\n",
        "        l_cmpt=l_cmpt+1\n",
        "\n",
        "  return l_df2"
      ]
    },
    {
      "cell_type": "code",
      "execution_count": 39,
      "metadata": {
        "id": "-w4G7h7tIMdn"
      },
      "outputs": [],
      "source": [
        "# fit()model and give score, confusion_matrix and classification_report\n",
        "\n",
        "from sklearn.metrics import accuracy_score,confusion_matrix,f1_score,classification_report\n",
        "\n",
        "def fit_and_evaluate(i_model,i_X_train,i_X_test,i_y_train,i_y_test,i_fit_operation=True):\n",
        "  #\n",
        "  l_model=i_model\n",
        "  if i_fit_operation:\n",
        "    l_model.fit(i_X_train,i_y_train)\n",
        "  #\n",
        "  l_y_predict = l_model.predict(i_X_test)\n",
        "  l_acc_score=accuracy_score(i_y_test,l_y_predict)\n",
        "  print(l_acc_score)\n",
        "  print(confusion_matrix(i_y_test,l_y_predict))\n",
        "  print(classification_report(i_y_test,l_y_predict))\n",
        "  return l_model, l_y_predict, l_acc_score"
      ]
    },
    {
      "cell_type": "code",
      "execution_count": 40,
      "metadata": {
        "id": "sn-cJNcgB5g7"
      },
      "outputs": [],
      "source": [
        "#---------------------------------\n",
        "#--- function show_importances_plot\n",
        "#---------------------------------\n",
        "# Only importances > i_threshold\n",
        "def show_importances_plot(i_model, i_threshold,i_figsize=(11, 6)):\n",
        "  l_feature_importances_df=pd.DataFrame({'importances': i_model.feature_importances_, \n",
        "                                         'columns_': i_model.feature_names_in_})\n",
        "  l_feature_importances_df.sort_values(by=['importances'], ascending=True, inplace=True)\n",
        "  feature_importances_df_t=l_feature_importances_df[l_feature_importances_df['importances'] > i_threshold]\n",
        "  feature_importances_df_t.set_index('columns_',inplace=True)\n",
        "  #\n",
        "  feature_importances_df_t.plot(figsize=i_figsize,kind='barh')\n",
        "  return feature_importances_df_t"
      ]
    },
    {
      "cell_type": "code",
      "execution_count": 41,
      "metadata": {
        "id": "Q-RvKteToxFm"
      },
      "outputs": [],
      "source": [
        "### test_classifierModels_list function\n",
        "\n",
        "import time\n",
        "# import warnings\n",
        "# warnings.filterwarnings('ignore')\n",
        "\n",
        "def test_classifierModels_list (i_classifierModels_dict,i_X_train,i_X_test,i_y_train,i_y_test,\n",
        "                                i_test_StandardScaler=False ):\n",
        "                                  l_dico_model_ypredictTest_score=dict([])\n",
        "  #\n",
        "  for name, model in i_classifierModels_dict.items():\n",
        "    print('============')\n",
        "    print(name)\n",
        "    print('============')\n",
        "    #\n",
        "    l_rmclassifier = RandomForestClassifier()\n",
        "    l_model,l_predict,l_score= fit_and_evaluate(model,i_X_train,i_X_test,i_y_train,i_y_test)\n",
        "    l_dico_model_ypredictTest_score[name]=(l_model,l_predict,l_score)\n",
        "    time.sleep(10)\n",
        "    print('-----------:::::::::::::::-------------')\n",
        "    #\n",
        "    if i_test_StandardScaler and name in models_list_test_StandardScaler:\n",
        "      print('----> Case With StandardScaler()')\n",
        "      print(name) \n",
        "      pipe = make_pipeline(StandardScaler(), model)\n",
        "      t1,t2,t3= fit_and_evaluate(pipe,i_X_train,i_X_test,i_y_train,i_y_test)\n",
        "  return l_dico_model_ypredictTest_score # model without StandardScaler()"
      ]
    },
    {
      "cell_type": "code",
      "execution_count": 42,
      "metadata": {
        "id": "5RoN7UFfzIMN"
      },
      "outputs": [],
      "source": [
        "#---- Definition of classifierModels dict\n",
        "from sklearn.tree import DecisionTreeClassifier\n",
        "from sklearn.ensemble import RandomForestClassifier, AdaBoostClassifier\n",
        "from xgboost import XGBClassifier\n",
        "from sklearn.svm import SVC\n",
        "from sklearn.neighbors import KNeighborsClassifier\n",
        "from sklearn.pipeline import make_pipeline\n",
        "from sklearn.feature_selection import SelectKBest, f_classif\n",
        "from sklearn.preprocessing import PolynomialFeatures, StandardScaler\n",
        "from sklearn.metrics import confusion_matrix, classification_report\n",
        "\n",
        "classifierModels_dict=dict({\n",
        "                  'XGBoost' : XGBClassifier(random_state=0),\n",
        "                  #'AdaBoost' : AdaBoostClassifier(random_state=0),\n",
        "                  #'SVM': SVC(random_state=0),\n",
        "                  #'KNN': KNeighborsClassifier(),\n",
        "                  #'DTC': DecisionTreeClassifier(random_state=0),\n",
        "                  'RandomForestClassifier': RandomForestClassifier(random_state=0)\n",
        "                  })\n",
        "\n",
        "models_list_test_StandardScaler=['SVM','KNN','DTC']\n",
        "#classifierModels_dict=dict({})\n",
        "\n",
        "#---- Oversampling modules: RandomOverSampler() and SMOTE()\n",
        "from imblearn.over_sampling import RandomOverSampler\n",
        "ros = RandomOverSampler(random_state=0) \n",
        "#\n",
        "from imblearn.over_sampling import SMOTE\n",
        "sm = SMOTE(random_state=20)"
      ]
    },
    {
      "cell_type": "code",
      "execution_count": 43,
      "metadata": {
        "id": "JwnT1Chzsmqz"
      },
      "outputs": [],
      "source": [
        "#---------------------------------------------\n",
        "#--- function show_importances_plot\n",
        "#---------------------------------------------\n",
        "# Only importances > i_threshold\n",
        "def show_importances_plot(i_model, i_threshold, i_figsize=(11, 6)):\n",
        "\n",
        "  l_feature_importances_df=pd.DataFrame({'importances': i_model.feature_importances_, \n",
        "                                         'columns_': i_model.feature_names_in_})\n",
        "  \n",
        "  l_feature_importances_df= l_feature_importances_df.sort_values(by=['importances'], ascending=True)\n",
        "\n",
        "  feature_importances_df_t=l_feature_importances_df[l_feature_importances_df['importances'].astype(float) \n",
        "                                                                    > float(i_threshold)]\n",
        "  feature_importances_df_t= feature_importances_df_t.set_index('columns_')\n",
        "  #\n",
        "  feature_importances_df_t.plot(figsize=i_figsize,kind='barh')\n",
        "\n",
        "  return feature_importances_df_t"
      ]
    },
    {
      "cell_type": "code",
      "execution_count": 44,
      "metadata": {
        "id": "szc5-FHSwEeK"
      },
      "outputs": [],
      "source": [
        "# return list of dep columns couple \n",
        "def verify_dependency(i_corr_matrix,i_threshold):\n",
        "  # looking for features corresponding at the threshold 0.35\n",
        "  cols=i_corr_matrix.columns\n",
        "  l_tupe_dep=[]  # list tuple of columns to verify dep condition  \n",
        "  l_cmpt=0\n",
        "  for col1 in cols:\n",
        "    for col2 in cols:\n",
        "      l_val=corr_matrix.loc[col2,col1]\n",
        "      #if l_cmpt < 10:\n",
        "        #print (abs(l_val))\n",
        "        #l_cmpt=l_cmpt+1\n",
        "      if abs(l_val) > i_threshold:\n",
        "        if col1!=col2:\n",
        "          if (col1,col2) not in l_tupe_dep:\n",
        "            l_tupe_dep.append((col1,col2))\n",
        "\n",
        "  return l_tupe_dep"
      ]
    },
    {
      "cell_type": "markdown",
      "source": [
        "# **OPTIMIZATION 0**"
      ],
      "metadata": {
        "id": "E6dC56PWswKU"
      }
    },
    {
      "cell_type": "code",
      "source": [
        "list_rest_cols=['user_id','Movie127','Movie90','Movie140']\n",
        "#\n",
        "X_train1=X_train_ros[list_rest_cols]\n",
        "X_test1=X_test[list_rest_cols]\n",
        "y_train1=y_train_ros\n",
        "y_test1=y_test\n",
        "#\n",
        "X_train1.shape,X_test1.shape,y_train1.shape,y_test1.shape"
      ],
      "metadata": {
        "colab": {
          "base_uri": "https://localhost:8080/"
        },
        "id": "tmry16NSs12j",
        "outputId": "33a55b7b-0c77-4b98-a5f4-a9593775e58f"
      },
      "execution_count": null,
      "outputs": [
        {
          "output_type": "execute_result",
          "data": {
            "text/plain": [
              "((14630, 4), (1000, 4), (14630,), (1000,))"
            ]
          },
          "metadata": {},
          "execution_count": 80
        }
      ]
    },
    {
      "cell_type": "code",
      "source": [
        "# RandomizedSearchCV\n",
        "from sklearn.model_selection import RandomizedSearchCV\n",
        "\n",
        "#\n",
        "rfc=RandomForestClassifier(bootstrap=True, class_weight=None, max_leaf_nodes=None,\n",
        "                                min_impurity_decrease=0.0, \n",
        "                                    min_samples_leaf=1, min_samples_split=2,\n",
        "                                        min_weight_fraction_leaf=0.0, n_estimators=10, n_jobs=2,\n",
        "                                            oob_score=False, random_state=0, verbose=0, warm_start=False)\n",
        "tuned_parameters={'n_estimators': [500,1000,1500,2000], 'max_features': ['auto', 'sqrt', 'log2'],'max_depth': [32,64,128], 'criterion': ['gini', 'entropy']}\n",
        "#tuned_parameters={'n_estimators': [200,300,400], 'max_features': ['auto', 'sqrt', 'log2'],'max_depth': [32,64], 'criterion': ['gini', 'entropy']}\n",
        "#tuned_parameters={'n_estimators': [400,500], 'max_features': ['auto', 'sqrt', 'log2'],'max_depth': [16,32], 'criterion': ['gini', 'entropy']}\n",
        "# tuned_parameters={'n_estimators': [200], 'max_features': ['auto'],'max_depth': [32], 'criterion': ['entropy']}\n",
        "\n",
        "#\n",
        "CV_rfc=RandomizedSearchCV(cv=5, error_score='raise', estimator=rfc, param_distributions=tuned_parameters,n_jobs=2,\n",
        "                                   pre_dispatch='2*n_jobs', refit=True, return_train_score='warn',  random_state=0, \n",
        "                                       scoring=None, verbose=0)\n",
        " \n",
        "#\n",
        "CV_rfc.fit(X_train1, y_train1)\n",
        "print('rs_cv_xgb.best_params_=',CV_rfc.best_params_)\n",
        "rfc_fit, y_predict, acc_score_rfc=fit_and_evaluate(CV_rfc,X_train1,X_test1,y_train1,y_test1,i_fit_operation=False)"
      ],
      "metadata": {
        "colab": {
          "base_uri": "https://localhost:8080/"
        },
        "id": "0N6r_ONatEIb",
        "outputId": "ec716dff-3d16-48a3-fce7-eb061d356468"
      },
      "execution_count": null,
      "outputs": [
        {
          "output_type": "stream",
          "name": "stdout",
          "text": [
            "rs_cv_xgb.best_params_= {'n_estimators': 1500, 'max_features': 'auto', 'max_depth': 128, 'criterion': 'gini'}\n",
            "0.556\n",
            "[[ 10   5   6   6  41]\n",
            " [  4   2   7   3  25]\n",
            " [  5   4   2   6  40]\n",
            " [  3   3   8  13  74]\n",
            " [ 52  27  40  85 529]]\n",
            "              precision    recall  f1-score   support\n",
            "\n",
            "         1.0       0.14      0.15      0.14        68\n",
            "         2.0       0.05      0.05      0.05        41\n",
            "         3.0       0.03      0.04      0.03        57\n",
            "         4.0       0.12      0.13      0.12       101\n",
            "         5.0       0.75      0.72      0.73       733\n",
            "\n",
            "    accuracy                           0.56      1000\n",
            "   macro avg       0.22      0.22      0.22      1000\n",
            "weighted avg       0.57      0.56      0.56      1000\n",
            "\n"
          ]
        }
      ]
    },
    {
      "cell_type": "code",
      "source": [
        "# GridSearchCV \n",
        "from sklearn.model_selection import GridSearchCV\n",
        "\n",
        "#\n",
        "grid_rfc=RandomForestClassifier(random_state=0)\n",
        "\n",
        "tuned_parameters={'n_estimators': [300,400,500,600,1000], 'max_features': ['auto', 'sqrt', 'log2'],'max_depth': [16,32,64], 'criterion': ['gini', 'entropy']}\n",
        "#tuned_parameters={'n_estimators': [400,500], 'max_features': ['auto', 'sqrt', 'log2'],'max_depth': [16,32], 'criterion': ['gini', 'entropy']}\n",
        "# tuned_parameters={'n_estimators': [200], 'max_features': ['auto'],'max_depth': [32], 'criterion': ['entropy']}\n",
        "#\n",
        "#CV_svc = GridSearchCV(svc_model,tuned_parameters,refit=True,verbose=0)\n",
        "grid_CV_rfc=RandomizedSearchCV(cv=5, error_score='raise', estimator=grid_rfc, param_distributions=tuned_parameters,n_jobs=2,\n",
        "                                   pre_dispatch='2*n_jobs', refit=True, return_train_score='warn',  random_state=0, \n",
        "                                       scoring=None, verbose=0)\n",
        "\n",
        "#CV_svc=GridSearchCV(cv=5, error_score='raise', estimator=svc_model, param_grid=tuned_parameters,n_jobs=2,\n",
        " #                                  pre_dispatch='2*n_jobs', refit=True, return_train_score='warn',   \n",
        "  #                                     scoring=None, verbose=2)\n",
        " \n",
        "#\n",
        "\n",
        "grid_CV_rfc.fit(X_train1, y_train1)\n",
        "\n",
        "print('grid_CV_rfc.best_params_=',grid_CV_rfc.best_params_)\n",
        "#\n",
        "grid_CV_rfc_fit,yTest_redict1,scor1=fit_and_evaluate(grid_CV_rfc,X_train1,X_test1,y_train1,y_test1,i_fit_operation=False)"
      ],
      "metadata": {
        "colab": {
          "base_uri": "https://localhost:8080/"
        },
        "id": "hEkMmV_zH1Lz",
        "outputId": "9a97dc5c-1552-448f-a0e5-3467bb1b1781"
      },
      "execution_count": null,
      "outputs": [
        {
          "output_type": "stream",
          "name": "stderr",
          "text": [
            "/usr/local/lib/python3.7/dist-packages/joblib/externals/loky/process_executor.py:705: UserWarning: A worker stopped while some jobs were given to the executor. This can be caused by a too short worker timeout or by a memory leak.\n",
            "  \"timeout or by a memory leak.\", UserWarning\n"
          ]
        },
        {
          "output_type": "stream",
          "name": "stdout",
          "text": [
            "grid_CV_rfc.best_params_= {'n_estimators': 400, 'max_features': 'log2', 'max_depth': 64, 'criterion': 'gini'}\n",
            "0.556\n",
            "[[ 10   5   6   6  41]\n",
            " [  4   2   7   3  25]\n",
            " [  5   4   2   6  40]\n",
            " [  3   3   8  13  74]\n",
            " [ 52  27  40  85 529]]\n",
            "              precision    recall  f1-score   support\n",
            "\n",
            "         1.0       0.14      0.15      0.14        68\n",
            "         2.0       0.05      0.05      0.05        41\n",
            "         3.0       0.03      0.04      0.03        57\n",
            "         4.0       0.12      0.13      0.12       101\n",
            "         5.0       0.75      0.72      0.73       733\n",
            "\n",
            "    accuracy                           0.56      1000\n",
            "   macro avg       0.22      0.22      0.22      1000\n",
            "weighted avg       0.57      0.56      0.56      1000\n",
            "\n"
          ]
        }
      ]
    },
    {
      "cell_type": "markdown",
      "metadata": {
        "id": "NeJd8jbS8R8K"
      },
      "source": [
        "# **OPTIMIZATION**"
      ]
    },
    {
      "cell_type": "code",
      "execution_count": null,
      "metadata": {
        "colab": {
          "base_uri": "https://localhost:8080/"
        },
        "id": "6KyF1yncNr6Y",
        "outputId": "152fbe92-d3d4-45b5-abc9-f1c02f7a93b4"
      },
      "outputs": [
        {
          "data": {
            "text/plain": [
              "((14630, 19), (14630,), (1000, 19), (1000,))"
            ]
          },
          "execution_count": 120,
          "metadata": {},
          "output_type": "execute_result"
        }
      ],
      "source": [
        "#--- in the following we define  ---> ROS\n",
        "#X_train1=X_train_fi_allColumns_rfc_ros\n",
        "#y_train1=y_train_ros\n",
        "#X_test1=X_test_fi_allColumns_rfc\n",
        "#y_test1=y_test\n",
        "\n",
        "#X_train1.shape,y_train1.shape,X_test1.shape,y_test1.shape"
      ]
    },
    {
      "cell_type": "code",
      "execution_count": null,
      "metadata": {
        "colab": {
          "base_uri": "https://localhost:8080/"
        },
        "id": "MmiUkq5f9-po",
        "outputId": "807bc8dc-14b2-44a7-b84e-a9336371aaa0"
      },
      "outputs": [
        {
          "data": {
            "text/plain": [
              "((4000, 19), (4000,), (1000, 19), (1000,))"
            ]
          },
          "execution_count": 122,
          "metadata": {},
          "output_type": "execute_result"
        }
      ],
      "source": [
        "#--- in the following we define\n",
        "X_train1=X_train_fi_allColumns_rfc\n",
        "y_train1=y_train\n",
        "X_test1=X_test_fi_allColumns_rfc\n",
        "y_test1=y_test\n",
        "\n",
        "X_train1.shape,y_train1.shape,X_test1.shape,y_test1.shape"
      ]
    },
    {
      "cell_type": "code",
      "execution_count": null,
      "metadata": {
        "colab": {
          "base_uri": "https://localhost:8080/"
        },
        "id": "ZsJRbmxT5-9J",
        "outputId": "fbf3303a-29d7-4be4-f6d5-0288cc93aeae"
      },
      "outputs": [
        {
          "name": "stdout",
          "output_type": "stream",
          "text": [
            "rs_cv_xgb.best_params_= {'n_estimators': 1500, 'max_features': 'auto', 'max_depth': 128, 'criterion': 'gini'}\n",
            "0.73\n",
            "[[  1   0   0   1  66]\n",
            " [  1   0   0   0  40]\n",
            " [  0   0   0   0  57]\n",
            " [  0   1   0   0 100]\n",
            " [  0   0   1   3 729]]\n",
            "              precision    recall  f1-score   support\n",
            "\n",
            "         1.0       0.50      0.01      0.03        68\n",
            "         2.0       0.00      0.00      0.00        41\n",
            "         3.0       0.00      0.00      0.00        57\n",
            "         4.0       0.00      0.00      0.00       101\n",
            "         5.0       0.73      0.99      0.85       733\n",
            "\n",
            "    accuracy                           0.73      1000\n",
            "   macro avg       0.25      0.20      0.17      1000\n",
            "weighted avg       0.57      0.73      0.62      1000\n",
            "\n"
          ]
        }
      ],
      "source": [
        "# RandomizedSearchCV\n",
        "from sklearn.model_selection import RandomizedSearchCV\n",
        "\n",
        "#\n",
        "rfc=RandomForestClassifier(bootstrap=True, class_weight=None, max_leaf_nodes=None,\n",
        "                                min_impurity_decrease=0.0, \n",
        "                                    min_samples_leaf=1, min_samples_split=2,\n",
        "                                        min_weight_fraction_leaf=0.0, n_estimators=10, n_jobs=2,\n",
        "                                            oob_score=False, random_state=0, verbose=0, warm_start=False)\n",
        "tuned_parameters={'n_estimators': [500,1000,1500,2000], 'max_features': ['auto', 'sqrt', 'log2'],'max_depth': [32,64,128], 'criterion': ['gini', 'entropy']}\n",
        "#tuned_parameters={'n_estimators': [200,300,400], 'max_features': ['auto', 'sqrt', 'log2'],'max_depth': [32,64], 'criterion': ['gini', 'entropy']}\n",
        "#tuned_parameters={'n_estimators': [400,500], 'max_features': ['auto', 'sqrt', 'log2'],'max_depth': [16,32], 'criterion': ['gini', 'entropy']}\n",
        "# tuned_parameters={'n_estimators': [200], 'max_features': ['auto'],'max_depth': [32], 'criterion': ['entropy']}\n",
        "\n",
        "#\n",
        "CV_rfc=RandomizedSearchCV(cv=5, error_score='raise', estimator=rfc, param_distributions=tuned_parameters,n_jobs=2,\n",
        "                                   pre_dispatch='2*n_jobs', refit=True, return_train_score='warn',  random_state=0, \n",
        "                                       scoring=None, verbose=0)\n",
        " \n",
        "#\n",
        "CV_rfc.fit(X_train1, y_train1)\n",
        "print('rs_cv_xgb.best_params_=',CV_rfc.best_params_)\n",
        "rfc_fit, y_predict, acc_score_rfc=fit_and_evaluate(CV_rfc,X_train1,X_test1,y_train1,y_test1,i_fit_operation=False)\n"
      ]
    },
    {
      "cell_type": "code",
      "execution_count": null,
      "metadata": {
        "id": "mpKrmKJiW0yy"
      },
      "outputs": [],
      "source": [
        ""
      ]
    },
    {
      "cell_type": "code",
      "execution_count": null,
      "metadata": {
        "colab": {
          "base_uri": "https://localhost:8080/"
        },
        "id": "Cd73DQGOW0vT",
        "outputId": "0b397f0d-3755-4e39-b53a-4bcf98fc0bd7"
      },
      "outputs": [
        {
          "name": "stdout",
          "output_type": "stream",
          "text": [
            "grid_CV_rfc.best_params_= {'n_estimators': 1000, 'max_features': 'log2', 'max_depth': 64, 'criterion': 'entropy'}\n",
            "0.73\n",
            "[[  1   0   0   1  66]\n",
            " [  1   0   0   0  40]\n",
            " [  0   0   0   0  57]\n",
            " [  0   1   0   0 100]\n",
            " [  0   0   1   3 729]]\n",
            "              precision    recall  f1-score   support\n",
            "\n",
            "         1.0       0.50      0.01      0.03        68\n",
            "         2.0       0.00      0.00      0.00        41\n",
            "         3.0       0.00      0.00      0.00        57\n",
            "         4.0       0.00      0.00      0.00       101\n",
            "         5.0       0.73      0.99      0.85       733\n",
            "\n",
            "    accuracy                           0.73      1000\n",
            "   macro avg       0.25      0.20      0.17      1000\n",
            "weighted avg       0.57      0.73      0.62      1000\n",
            "\n"
          ]
        }
      ],
      "source": [
        "# GridSearchCV \n",
        "from sklearn.model_selection import GridSearchCV\n",
        "\n",
        "#\n",
        "grid_rfc=RandomForestClassifier(random_state=0)\n",
        "\n",
        "tuned_parameters={'n_estimators': [300,400,500,600,1000], 'max_features': ['auto', 'sqrt', 'log2'],'max_depth': [16,32,64], 'criterion': ['gini', 'entropy']}\n",
        "#tuned_parameters={'n_estimators': [400,500], 'max_features': ['auto', 'sqrt', 'log2'],'max_depth': [16,32], 'criterion': ['gini', 'entropy']}\n",
        "# tuned_parameters={'n_estimators': [200], 'max_features': ['auto'],'max_depth': [32], 'criterion': ['entropy']}\n",
        "#\n",
        "#CV_svc = GridSearchCV(svc_model,tuned_parameters,refit=True,verbose=0)\n",
        "grid_CV_rfc=RandomizedSearchCV(cv=5, error_score='raise', estimator=grid_rfc, param_distributions=tuned_parameters,n_jobs=2,\n",
        "                                   pre_dispatch='2*n_jobs', refit=True, return_train_score='warn',  random_state=0, \n",
        "                                       scoring=None, verbose=0)\n",
        "\n",
        "#CV_svc=GridSearchCV(cv=5, error_score='raise', estimator=svc_model, param_grid=tuned_parameters,n_jobs=2,\n",
        " #                                  pre_dispatch='2*n_jobs', refit=True, return_train_score='warn',   \n",
        "  #                                     scoring=None, verbose=2)\n",
        " \n",
        "#\n",
        "\n",
        "grid_CV_rfc.fit(X_train1, y_train1)\n",
        "\n",
        "print('grid_CV_rfc.best_params_=',grid_CV_rfc.best_params_)\n",
        "#\n",
        "grid_CV_rfc_fit,yTest_redict1,scor1=fit_and_evaluate(grid_CV_rfc,X_train1,X_test1,y_train1,y_test1,i_fit_operation=False)"
      ]
    },
    {
      "cell_type": "code",
      "execution_count": null,
      "metadata": {
        "colab": {
          "base_uri": "https://localhost:8080/"
        },
        "id": "__Zd40G3W0rB",
        "outputId": "1497da14-d843-469f-945b-918609f82712"
      },
      "outputs": [
        {
          "name": "stdout",
          "output_type": "stream",
          "text": [
            "[0.7     0.76125 0.7475  0.7175  0.72125]\n",
            "73.35000000000001\n"
          ]
        }
      ],
      "source": [
        "#  KFold\n",
        "from sklearn.model_selection import KFold,cross_val_score\n",
        "#\n",
        "i_seed=7\n",
        "i_n_estimators=1000\n",
        "i_n_splits=5\n",
        "#\n",
        "kfold=KFold(n_splits=i_n_splits,random_state=i_seed,shuffle=True)\n",
        "\n",
        "model_rfc=RandomForestClassifier(n_estimators=i_n_estimators, random_state=10,n_jobs = -1)\n",
        "print(cross_val_score(model_rfc,X_train,y_train,cv=kfold,scoring='accuracy'))\n",
        "results=cross_val_score(model_rfc,X_train1,y_train1,cv=kfold,scoring='accuracy')\n",
        "print(results.mean()*100)\n",
        "#"
      ]
    },
    {
      "cell_type": "code",
      "execution_count": null,
      "metadata": {
        "id": "Hly4-4tn5-6q"
      },
      "outputs": [],
      "source": [
        ""
      ]
    },
    {
      "cell_type": "code",
      "execution_count": null,
      "metadata": {
        "id": "0ZaiqIVD5-34"
      },
      "outputs": [],
      "source": [
        ""
      ]
    },
    {
      "cell_type": "markdown",
      "metadata": {
        "id": "JGN9fEPklV49"
      },
      "source": [
        "# **TMP**"
      ]
    },
    {
      "cell_type": "code",
      "execution_count": null,
      "metadata": {
        "colab": {
          "base_uri": "https://localhost:8080/",
          "height": 299
        },
        "id": "138cjZl6lbCV",
        "outputId": "05ba2ed9-65a8-4e62-fb8e-69daafca5d16"
      },
      "outputs": [
        {
          "output_type": "execute_result",
          "data": {
            "text/plain": [
              "          user_id  Movie1  Movie2  Movie3  Movie4  Movie5  Movie6  Movie7  \\\n",
              "0  A3R5OBKS7OM2IR     5.0     5.0     NaN     NaN     NaN     NaN     NaN   \n",
              "1   AH3QC2PC1VTGP     NaN     NaN     2.0     NaN     NaN     NaN     NaN   \n",
              "2  A3LKP6WPMP9UKX     NaN     NaN     NaN     5.0     NaN     NaN     NaN   \n",
              "3   AVIY68KEPQ5ZD     NaN     NaN     NaN     5.0     NaN     NaN     NaN   \n",
              "4  A1CV1WROP5KTTW     NaN     NaN     NaN     NaN     5.0     NaN     NaN   \n",
              "\n",
              "   Movie8  Movie9  Movie10  Movie11  Movie12  Movie13  Movie14  Movie15  \\\n",
              "0     NaN     NaN      NaN      NaN      NaN      NaN      NaN      NaN   \n",
              "1     NaN     NaN      NaN      NaN      NaN      NaN      NaN      NaN   \n",
              "2     NaN     NaN      NaN      NaN      NaN      NaN      NaN      NaN   \n",
              "3     NaN     NaN      NaN      NaN      NaN      NaN      NaN      NaN   \n",
              "4     NaN     NaN      NaN      NaN      NaN      NaN      NaN      NaN   \n",
              "\n",
              "   Movie16  Movie17  Movie18  Movie19  Movie20  Movie21  Movie22  Movie23  \\\n",
              "0      NaN      NaN      NaN      NaN      NaN      NaN      NaN      NaN   \n",
              "1      NaN      NaN      NaN      NaN      NaN      NaN      NaN      NaN   \n",
              "2      NaN      NaN      NaN      NaN      NaN      NaN      NaN      NaN   \n",
              "3      NaN      NaN      NaN      NaN      NaN      NaN      NaN      NaN   \n",
              "4      NaN      NaN      NaN      NaN      NaN      NaN      NaN      NaN   \n",
              "\n",
              "   Movie24  Movie25  Movie26  Movie27  Movie28  Movie29  Movie30  Movie31  \\\n",
              "0      NaN      NaN      NaN      NaN      NaN      NaN      NaN      NaN   \n",
              "1      NaN      NaN      NaN      NaN      NaN      NaN      NaN      NaN   \n",
              "2      NaN      NaN      NaN      NaN      NaN      NaN      NaN      NaN   \n",
              "3      NaN      NaN      NaN      NaN      NaN      NaN      NaN      NaN   \n",
              "4      NaN      NaN      NaN      NaN      NaN      NaN      NaN      NaN   \n",
              "\n",
              "   Movie32  Movie33  Movie34  Movie35  Movie36  Movie37  Movie38  Movie39  \\\n",
              "0      NaN      NaN      NaN      NaN      NaN      NaN      NaN      NaN   \n",
              "1      NaN      NaN      NaN      NaN      NaN      NaN      NaN      NaN   \n",
              "2      NaN      NaN      NaN      NaN      NaN      NaN      NaN      NaN   \n",
              "3      NaN      NaN      NaN      NaN      NaN      NaN      NaN      NaN   \n",
              "4      NaN      NaN      NaN      NaN      NaN      NaN      NaN      NaN   \n",
              "\n",
              "   Movie40  Movie41  Movie42  Movie43  Movie44  Movie45  Movie46  Movie47  \\\n",
              "0      NaN      NaN      NaN      NaN      NaN      NaN      NaN      NaN   \n",
              "1      NaN      NaN      NaN      NaN      NaN      NaN      NaN      NaN   \n",
              "2      NaN      NaN      NaN      NaN      NaN      NaN      NaN      NaN   \n",
              "3      NaN      NaN      NaN      NaN      NaN      NaN      NaN      NaN   \n",
              "4      NaN      NaN      NaN      NaN      NaN      NaN      NaN      NaN   \n",
              "\n",
              "   Movie48  Movie49  ...  Movie157  Movie158  Movie159  Movie160  Movie161  \\\n",
              "0      NaN      NaN  ...       NaN       NaN       NaN       NaN       NaN   \n",
              "1      NaN      NaN  ...       NaN       NaN       NaN       NaN       NaN   \n",
              "2      NaN      NaN  ...       NaN       NaN       NaN       NaN       NaN   \n",
              "3      NaN      NaN  ...       NaN       NaN       NaN       NaN       NaN   \n",
              "4      NaN      NaN  ...       NaN       NaN       NaN       NaN       NaN   \n",
              "\n",
              "   Movie162  Movie163  Movie164  Movie165  Movie166  Movie167  Movie168  \\\n",
              "0       NaN       NaN       NaN       NaN       NaN       NaN       NaN   \n",
              "1       NaN       NaN       NaN       NaN       NaN       NaN       NaN   \n",
              "2       NaN       NaN       NaN       NaN       NaN       NaN       NaN   \n",
              "3       NaN       NaN       NaN       NaN       NaN       NaN       NaN   \n",
              "4       NaN       NaN       NaN       NaN       NaN       NaN       NaN   \n",
              "\n",
              "   Movie169  Movie170  Movie171  Movie172  Movie173  Movie174  Movie175  \\\n",
              "0       NaN       NaN       NaN       NaN       NaN       NaN       NaN   \n",
              "1       NaN       NaN       NaN       NaN       NaN       NaN       NaN   \n",
              "2       NaN       NaN       NaN       NaN       NaN       NaN       NaN   \n",
              "3       NaN       NaN       NaN       NaN       NaN       NaN       NaN   \n",
              "4       NaN       NaN       NaN       NaN       NaN       NaN       NaN   \n",
              "\n",
              "   Movie176  Movie177  Movie178  Movie179  Movie180  Movie181  Movie182  \\\n",
              "0       NaN       NaN       NaN       NaN       NaN       NaN       NaN   \n",
              "1       NaN       NaN       NaN       NaN       NaN       NaN       NaN   \n",
              "2       NaN       NaN       NaN       NaN       NaN       NaN       NaN   \n",
              "3       NaN       NaN       NaN       NaN       NaN       NaN       NaN   \n",
              "4       NaN       NaN       NaN       NaN       NaN       NaN       NaN   \n",
              "\n",
              "   Movie183  Movie184  Movie185  Movie186  Movie187  Movie188  Movie189  \\\n",
              "0       NaN       NaN       NaN       NaN       NaN       NaN       NaN   \n",
              "1       NaN       NaN       NaN       NaN       NaN       NaN       NaN   \n",
              "2       NaN       NaN       NaN       NaN       NaN       NaN       NaN   \n",
              "3       NaN       NaN       NaN       NaN       NaN       NaN       NaN   \n",
              "4       NaN       NaN       NaN       NaN       NaN       NaN       NaN   \n",
              "\n",
              "   Movie190  Movie191  Movie192  Movie193  Movie194  Movie195  Movie196  \\\n",
              "0       NaN       NaN       NaN       NaN       NaN       NaN       NaN   \n",
              "1       NaN       NaN       NaN       NaN       NaN       NaN       NaN   \n",
              "2       NaN       NaN       NaN       NaN       NaN       NaN       NaN   \n",
              "3       NaN       NaN       NaN       NaN       NaN       NaN       NaN   \n",
              "4       NaN       NaN       NaN       NaN       NaN       NaN       NaN   \n",
              "\n",
              "   Movie197  Movie198  Movie199  Movie200  Movie201  Movie202  Movie203  \\\n",
              "0       NaN       NaN       NaN       NaN       NaN       NaN       NaN   \n",
              "1       NaN       NaN       NaN       NaN       NaN       NaN       NaN   \n",
              "2       NaN       NaN       NaN       NaN       NaN       NaN       NaN   \n",
              "3       NaN       NaN       NaN       NaN       NaN       NaN       NaN   \n",
              "4       NaN       NaN       NaN       NaN       NaN       NaN       NaN   \n",
              "\n",
              "   Movie204  Movie205  Movie206  \n",
              "0       NaN       NaN       NaN  \n",
              "1       NaN       NaN       NaN  \n",
              "2       NaN       NaN       NaN  \n",
              "3       NaN       NaN       NaN  \n",
              "4       NaN       NaN       NaN  \n",
              "\n",
              "[5 rows x 207 columns]"
            ],
            "text/html": [
              "\n",
              "  <div id=\"df-ef59382b-97cb-464e-9437-e6c3c4ef0133\">\n",
              "    <div class=\"colab-df-container\">\n",
              "      <div>\n",
              "<style scoped>\n",
              "    .dataframe tbody tr th:only-of-type {\n",
              "        vertical-align: middle;\n",
              "    }\n",
              "\n",
              "    .dataframe tbody tr th {\n",
              "        vertical-align: top;\n",
              "    }\n",
              "\n",
              "    .dataframe thead th {\n",
              "        text-align: right;\n",
              "    }\n",
              "</style>\n",
              "<table border=\"1\" class=\"dataframe\">\n",
              "  <thead>\n",
              "    <tr style=\"text-align: right;\">\n",
              "      <th></th>\n",
              "      <th>user_id</th>\n",
              "      <th>Movie1</th>\n",
              "      <th>Movie2</th>\n",
              "      <th>Movie3</th>\n",
              "      <th>Movie4</th>\n",
              "      <th>Movie5</th>\n",
              "      <th>Movie6</th>\n",
              "      <th>Movie7</th>\n",
              "      <th>Movie8</th>\n",
              "      <th>Movie9</th>\n",
              "      <th>Movie10</th>\n",
              "      <th>Movie11</th>\n",
              "      <th>Movie12</th>\n",
              "      <th>Movie13</th>\n",
              "      <th>Movie14</th>\n",
              "      <th>Movie15</th>\n",
              "      <th>Movie16</th>\n",
              "      <th>Movie17</th>\n",
              "      <th>Movie18</th>\n",
              "      <th>Movie19</th>\n",
              "      <th>Movie20</th>\n",
              "      <th>Movie21</th>\n",
              "      <th>Movie22</th>\n",
              "      <th>Movie23</th>\n",
              "      <th>Movie24</th>\n",
              "      <th>Movie25</th>\n",
              "      <th>Movie26</th>\n",
              "      <th>Movie27</th>\n",
              "      <th>Movie28</th>\n",
              "      <th>Movie29</th>\n",
              "      <th>Movie30</th>\n",
              "      <th>Movie31</th>\n",
              "      <th>Movie32</th>\n",
              "      <th>Movie33</th>\n",
              "      <th>Movie34</th>\n",
              "      <th>Movie35</th>\n",
              "      <th>Movie36</th>\n",
              "      <th>Movie37</th>\n",
              "      <th>Movie38</th>\n",
              "      <th>Movie39</th>\n",
              "      <th>Movie40</th>\n",
              "      <th>Movie41</th>\n",
              "      <th>Movie42</th>\n",
              "      <th>Movie43</th>\n",
              "      <th>Movie44</th>\n",
              "      <th>Movie45</th>\n",
              "      <th>Movie46</th>\n",
              "      <th>Movie47</th>\n",
              "      <th>Movie48</th>\n",
              "      <th>Movie49</th>\n",
              "      <th>...</th>\n",
              "      <th>Movie157</th>\n",
              "      <th>Movie158</th>\n",
              "      <th>Movie159</th>\n",
              "      <th>Movie160</th>\n",
              "      <th>Movie161</th>\n",
              "      <th>Movie162</th>\n",
              "      <th>Movie163</th>\n",
              "      <th>Movie164</th>\n",
              "      <th>Movie165</th>\n",
              "      <th>Movie166</th>\n",
              "      <th>Movie167</th>\n",
              "      <th>Movie168</th>\n",
              "      <th>Movie169</th>\n",
              "      <th>Movie170</th>\n",
              "      <th>Movie171</th>\n",
              "      <th>Movie172</th>\n",
              "      <th>Movie173</th>\n",
              "      <th>Movie174</th>\n",
              "      <th>Movie175</th>\n",
              "      <th>Movie176</th>\n",
              "      <th>Movie177</th>\n",
              "      <th>Movie178</th>\n",
              "      <th>Movie179</th>\n",
              "      <th>Movie180</th>\n",
              "      <th>Movie181</th>\n",
              "      <th>Movie182</th>\n",
              "      <th>Movie183</th>\n",
              "      <th>Movie184</th>\n",
              "      <th>Movie185</th>\n",
              "      <th>Movie186</th>\n",
              "      <th>Movie187</th>\n",
              "      <th>Movie188</th>\n",
              "      <th>Movie189</th>\n",
              "      <th>Movie190</th>\n",
              "      <th>Movie191</th>\n",
              "      <th>Movie192</th>\n",
              "      <th>Movie193</th>\n",
              "      <th>Movie194</th>\n",
              "      <th>Movie195</th>\n",
              "      <th>Movie196</th>\n",
              "      <th>Movie197</th>\n",
              "      <th>Movie198</th>\n",
              "      <th>Movie199</th>\n",
              "      <th>Movie200</th>\n",
              "      <th>Movie201</th>\n",
              "      <th>Movie202</th>\n",
              "      <th>Movie203</th>\n",
              "      <th>Movie204</th>\n",
              "      <th>Movie205</th>\n",
              "      <th>Movie206</th>\n",
              "    </tr>\n",
              "  </thead>\n",
              "  <tbody>\n",
              "    <tr>\n",
              "      <th>0</th>\n",
              "      <td>A3R5OBKS7OM2IR</td>\n",
              "      <td>5.0</td>\n",
              "      <td>5.0</td>\n",
              "      <td>NaN</td>\n",
              "      <td>NaN</td>\n",
              "      <td>NaN</td>\n",
              "      <td>NaN</td>\n",
              "      <td>NaN</td>\n",
              "      <td>NaN</td>\n",
              "      <td>NaN</td>\n",
              "      <td>NaN</td>\n",
              "      <td>NaN</td>\n",
              "      <td>NaN</td>\n",
              "      <td>NaN</td>\n",
              "      <td>NaN</td>\n",
              "      <td>NaN</td>\n",
              "      <td>NaN</td>\n",
              "      <td>NaN</td>\n",
              "      <td>NaN</td>\n",
              "      <td>NaN</td>\n",
              "      <td>NaN</td>\n",
              "      <td>NaN</td>\n",
              "      <td>NaN</td>\n",
              "      <td>NaN</td>\n",
              "      <td>NaN</td>\n",
              "      <td>NaN</td>\n",
              "      <td>NaN</td>\n",
              "      <td>NaN</td>\n",
              "      <td>NaN</td>\n",
              "      <td>NaN</td>\n",
              "      <td>NaN</td>\n",
              "      <td>NaN</td>\n",
              "      <td>NaN</td>\n",
              "      <td>NaN</td>\n",
              "      <td>NaN</td>\n",
              "      <td>NaN</td>\n",
              "      <td>NaN</td>\n",
              "      <td>NaN</td>\n",
              "      <td>NaN</td>\n",
              "      <td>NaN</td>\n",
              "      <td>NaN</td>\n",
              "      <td>NaN</td>\n",
              "      <td>NaN</td>\n",
              "      <td>NaN</td>\n",
              "      <td>NaN</td>\n",
              "      <td>NaN</td>\n",
              "      <td>NaN</td>\n",
              "      <td>NaN</td>\n",
              "      <td>NaN</td>\n",
              "      <td>NaN</td>\n",
              "      <td>...</td>\n",
              "      <td>NaN</td>\n",
              "      <td>NaN</td>\n",
              "      <td>NaN</td>\n",
              "      <td>NaN</td>\n",
              "      <td>NaN</td>\n",
              "      <td>NaN</td>\n",
              "      <td>NaN</td>\n",
              "      <td>NaN</td>\n",
              "      <td>NaN</td>\n",
              "      <td>NaN</td>\n",
              "      <td>NaN</td>\n",
              "      <td>NaN</td>\n",
              "      <td>NaN</td>\n",
              "      <td>NaN</td>\n",
              "      <td>NaN</td>\n",
              "      <td>NaN</td>\n",
              "      <td>NaN</td>\n",
              "      <td>NaN</td>\n",
              "      <td>NaN</td>\n",
              "      <td>NaN</td>\n",
              "      <td>NaN</td>\n",
              "      <td>NaN</td>\n",
              "      <td>NaN</td>\n",
              "      <td>NaN</td>\n",
              "      <td>NaN</td>\n",
              "      <td>NaN</td>\n",
              "      <td>NaN</td>\n",
              "      <td>NaN</td>\n",
              "      <td>NaN</td>\n",
              "      <td>NaN</td>\n",
              "      <td>NaN</td>\n",
              "      <td>NaN</td>\n",
              "      <td>NaN</td>\n",
              "      <td>NaN</td>\n",
              "      <td>NaN</td>\n",
              "      <td>NaN</td>\n",
              "      <td>NaN</td>\n",
              "      <td>NaN</td>\n",
              "      <td>NaN</td>\n",
              "      <td>NaN</td>\n",
              "      <td>NaN</td>\n",
              "      <td>NaN</td>\n",
              "      <td>NaN</td>\n",
              "      <td>NaN</td>\n",
              "      <td>NaN</td>\n",
              "      <td>NaN</td>\n",
              "      <td>NaN</td>\n",
              "      <td>NaN</td>\n",
              "      <td>NaN</td>\n",
              "      <td>NaN</td>\n",
              "    </tr>\n",
              "    <tr>\n",
              "      <th>1</th>\n",
              "      <td>AH3QC2PC1VTGP</td>\n",
              "      <td>NaN</td>\n",
              "      <td>NaN</td>\n",
              "      <td>2.0</td>\n",
              "      <td>NaN</td>\n",
              "      <td>NaN</td>\n",
              "      <td>NaN</td>\n",
              "      <td>NaN</td>\n",
              "      <td>NaN</td>\n",
              "      <td>NaN</td>\n",
              "      <td>NaN</td>\n",
              "      <td>NaN</td>\n",
              "      <td>NaN</td>\n",
              "      <td>NaN</td>\n",
              "      <td>NaN</td>\n",
              "      <td>NaN</td>\n",
              "      <td>NaN</td>\n",
              "      <td>NaN</td>\n",
              "      <td>NaN</td>\n",
              "      <td>NaN</td>\n",
              "      <td>NaN</td>\n",
              "      <td>NaN</td>\n",
              "      <td>NaN</td>\n",
              "      <td>NaN</td>\n",
              "      <td>NaN</td>\n",
              "      <td>NaN</td>\n",
              "      <td>NaN</td>\n",
              "      <td>NaN</td>\n",
              "      <td>NaN</td>\n",
              "      <td>NaN</td>\n",
              "      <td>NaN</td>\n",
              "      <td>NaN</td>\n",
              "      <td>NaN</td>\n",
              "      <td>NaN</td>\n",
              "      <td>NaN</td>\n",
              "      <td>NaN</td>\n",
              "      <td>NaN</td>\n",
              "      <td>NaN</td>\n",
              "      <td>NaN</td>\n",
              "      <td>NaN</td>\n",
              "      <td>NaN</td>\n",
              "      <td>NaN</td>\n",
              "      <td>NaN</td>\n",
              "      <td>NaN</td>\n",
              "      <td>NaN</td>\n",
              "      <td>NaN</td>\n",
              "      <td>NaN</td>\n",
              "      <td>NaN</td>\n",
              "      <td>NaN</td>\n",
              "      <td>NaN</td>\n",
              "      <td>...</td>\n",
              "      <td>NaN</td>\n",
              "      <td>NaN</td>\n",
              "      <td>NaN</td>\n",
              "      <td>NaN</td>\n",
              "      <td>NaN</td>\n",
              "      <td>NaN</td>\n",
              "      <td>NaN</td>\n",
              "      <td>NaN</td>\n",
              "      <td>NaN</td>\n",
              "      <td>NaN</td>\n",
              "      <td>NaN</td>\n",
              "      <td>NaN</td>\n",
              "      <td>NaN</td>\n",
              "      <td>NaN</td>\n",
              "      <td>NaN</td>\n",
              "      <td>NaN</td>\n",
              "      <td>NaN</td>\n",
              "      <td>NaN</td>\n",
              "      <td>NaN</td>\n",
              "      <td>NaN</td>\n",
              "      <td>NaN</td>\n",
              "      <td>NaN</td>\n",
              "      <td>NaN</td>\n",
              "      <td>NaN</td>\n",
              "      <td>NaN</td>\n",
              "      <td>NaN</td>\n",
              "      <td>NaN</td>\n",
              "      <td>NaN</td>\n",
              "      <td>NaN</td>\n",
              "      <td>NaN</td>\n",
              "      <td>NaN</td>\n",
              "      <td>NaN</td>\n",
              "      <td>NaN</td>\n",
              "      <td>NaN</td>\n",
              "      <td>NaN</td>\n",
              "      <td>NaN</td>\n",
              "      <td>NaN</td>\n",
              "      <td>NaN</td>\n",
              "      <td>NaN</td>\n",
              "      <td>NaN</td>\n",
              "      <td>NaN</td>\n",
              "      <td>NaN</td>\n",
              "      <td>NaN</td>\n",
              "      <td>NaN</td>\n",
              "      <td>NaN</td>\n",
              "      <td>NaN</td>\n",
              "      <td>NaN</td>\n",
              "      <td>NaN</td>\n",
              "      <td>NaN</td>\n",
              "      <td>NaN</td>\n",
              "    </tr>\n",
              "    <tr>\n",
              "      <th>2</th>\n",
              "      <td>A3LKP6WPMP9UKX</td>\n",
              "      <td>NaN</td>\n",
              "      <td>NaN</td>\n",
              "      <td>NaN</td>\n",
              "      <td>5.0</td>\n",
              "      <td>NaN</td>\n",
              "      <td>NaN</td>\n",
              "      <td>NaN</td>\n",
              "      <td>NaN</td>\n",
              "      <td>NaN</td>\n",
              "      <td>NaN</td>\n",
              "      <td>NaN</td>\n",
              "      <td>NaN</td>\n",
              "      <td>NaN</td>\n",
              "      <td>NaN</td>\n",
              "      <td>NaN</td>\n",
              "      <td>NaN</td>\n",
              "      <td>NaN</td>\n",
              "      <td>NaN</td>\n",
              "      <td>NaN</td>\n",
              "      <td>NaN</td>\n",
              "      <td>NaN</td>\n",
              "      <td>NaN</td>\n",
              "      <td>NaN</td>\n",
              "      <td>NaN</td>\n",
              "      <td>NaN</td>\n",
              "      <td>NaN</td>\n",
              "      <td>NaN</td>\n",
              "      <td>NaN</td>\n",
              "      <td>NaN</td>\n",
              "      <td>NaN</td>\n",
              "      <td>NaN</td>\n",
              "      <td>NaN</td>\n",
              "      <td>NaN</td>\n",
              "      <td>NaN</td>\n",
              "      <td>NaN</td>\n",
              "      <td>NaN</td>\n",
              "      <td>NaN</td>\n",
              "      <td>NaN</td>\n",
              "      <td>NaN</td>\n",
              "      <td>NaN</td>\n",
              "      <td>NaN</td>\n",
              "      <td>NaN</td>\n",
              "      <td>NaN</td>\n",
              "      <td>NaN</td>\n",
              "      <td>NaN</td>\n",
              "      <td>NaN</td>\n",
              "      <td>NaN</td>\n",
              "      <td>NaN</td>\n",
              "      <td>NaN</td>\n",
              "      <td>...</td>\n",
              "      <td>NaN</td>\n",
              "      <td>NaN</td>\n",
              "      <td>NaN</td>\n",
              "      <td>NaN</td>\n",
              "      <td>NaN</td>\n",
              "      <td>NaN</td>\n",
              "      <td>NaN</td>\n",
              "      <td>NaN</td>\n",
              "      <td>NaN</td>\n",
              "      <td>NaN</td>\n",
              "      <td>NaN</td>\n",
              "      <td>NaN</td>\n",
              "      <td>NaN</td>\n",
              "      <td>NaN</td>\n",
              "      <td>NaN</td>\n",
              "      <td>NaN</td>\n",
              "      <td>NaN</td>\n",
              "      <td>NaN</td>\n",
              "      <td>NaN</td>\n",
              "      <td>NaN</td>\n",
              "      <td>NaN</td>\n",
              "      <td>NaN</td>\n",
              "      <td>NaN</td>\n",
              "      <td>NaN</td>\n",
              "      <td>NaN</td>\n",
              "      <td>NaN</td>\n",
              "      <td>NaN</td>\n",
              "      <td>NaN</td>\n",
              "      <td>NaN</td>\n",
              "      <td>NaN</td>\n",
              "      <td>NaN</td>\n",
              "      <td>NaN</td>\n",
              "      <td>NaN</td>\n",
              "      <td>NaN</td>\n",
              "      <td>NaN</td>\n",
              "      <td>NaN</td>\n",
              "      <td>NaN</td>\n",
              "      <td>NaN</td>\n",
              "      <td>NaN</td>\n",
              "      <td>NaN</td>\n",
              "      <td>NaN</td>\n",
              "      <td>NaN</td>\n",
              "      <td>NaN</td>\n",
              "      <td>NaN</td>\n",
              "      <td>NaN</td>\n",
              "      <td>NaN</td>\n",
              "      <td>NaN</td>\n",
              "      <td>NaN</td>\n",
              "      <td>NaN</td>\n",
              "      <td>NaN</td>\n",
              "    </tr>\n",
              "    <tr>\n",
              "      <th>3</th>\n",
              "      <td>AVIY68KEPQ5ZD</td>\n",
              "      <td>NaN</td>\n",
              "      <td>NaN</td>\n",
              "      <td>NaN</td>\n",
              "      <td>5.0</td>\n",
              "      <td>NaN</td>\n",
              "      <td>NaN</td>\n",
              "      <td>NaN</td>\n",
              "      <td>NaN</td>\n",
              "      <td>NaN</td>\n",
              "      <td>NaN</td>\n",
              "      <td>NaN</td>\n",
              "      <td>NaN</td>\n",
              "      <td>NaN</td>\n",
              "      <td>NaN</td>\n",
              "      <td>NaN</td>\n",
              "      <td>NaN</td>\n",
              "      <td>NaN</td>\n",
              "      <td>NaN</td>\n",
              "      <td>NaN</td>\n",
              "      <td>NaN</td>\n",
              "      <td>NaN</td>\n",
              "      <td>NaN</td>\n",
              "      <td>NaN</td>\n",
              "      <td>NaN</td>\n",
              "      <td>NaN</td>\n",
              "      <td>NaN</td>\n",
              "      <td>NaN</td>\n",
              "      <td>NaN</td>\n",
              "      <td>NaN</td>\n",
              "      <td>NaN</td>\n",
              "      <td>NaN</td>\n",
              "      <td>NaN</td>\n",
              "      <td>NaN</td>\n",
              "      <td>NaN</td>\n",
              "      <td>NaN</td>\n",
              "      <td>NaN</td>\n",
              "      <td>NaN</td>\n",
              "      <td>NaN</td>\n",
              "      <td>NaN</td>\n",
              "      <td>NaN</td>\n",
              "      <td>NaN</td>\n",
              "      <td>NaN</td>\n",
              "      <td>NaN</td>\n",
              "      <td>NaN</td>\n",
              "      <td>NaN</td>\n",
              "      <td>NaN</td>\n",
              "      <td>NaN</td>\n",
              "      <td>NaN</td>\n",
              "      <td>NaN</td>\n",
              "      <td>...</td>\n",
              "      <td>NaN</td>\n",
              "      <td>NaN</td>\n",
              "      <td>NaN</td>\n",
              "      <td>NaN</td>\n",
              "      <td>NaN</td>\n",
              "      <td>NaN</td>\n",
              "      <td>NaN</td>\n",
              "      <td>NaN</td>\n",
              "      <td>NaN</td>\n",
              "      <td>NaN</td>\n",
              "      <td>NaN</td>\n",
              "      <td>NaN</td>\n",
              "      <td>NaN</td>\n",
              "      <td>NaN</td>\n",
              "      <td>NaN</td>\n",
              "      <td>NaN</td>\n",
              "      <td>NaN</td>\n",
              "      <td>NaN</td>\n",
              "      <td>NaN</td>\n",
              "      <td>NaN</td>\n",
              "      <td>NaN</td>\n",
              "      <td>NaN</td>\n",
              "      <td>NaN</td>\n",
              "      <td>NaN</td>\n",
              "      <td>NaN</td>\n",
              "      <td>NaN</td>\n",
              "      <td>NaN</td>\n",
              "      <td>NaN</td>\n",
              "      <td>NaN</td>\n",
              "      <td>NaN</td>\n",
              "      <td>NaN</td>\n",
              "      <td>NaN</td>\n",
              "      <td>NaN</td>\n",
              "      <td>NaN</td>\n",
              "      <td>NaN</td>\n",
              "      <td>NaN</td>\n",
              "      <td>NaN</td>\n",
              "      <td>NaN</td>\n",
              "      <td>NaN</td>\n",
              "      <td>NaN</td>\n",
              "      <td>NaN</td>\n",
              "      <td>NaN</td>\n",
              "      <td>NaN</td>\n",
              "      <td>NaN</td>\n",
              "      <td>NaN</td>\n",
              "      <td>NaN</td>\n",
              "      <td>NaN</td>\n",
              "      <td>NaN</td>\n",
              "      <td>NaN</td>\n",
              "      <td>NaN</td>\n",
              "    </tr>\n",
              "    <tr>\n",
              "      <th>4</th>\n",
              "      <td>A1CV1WROP5KTTW</td>\n",
              "      <td>NaN</td>\n",
              "      <td>NaN</td>\n",
              "      <td>NaN</td>\n",
              "      <td>NaN</td>\n",
              "      <td>5.0</td>\n",
              "      <td>NaN</td>\n",
              "      <td>NaN</td>\n",
              "      <td>NaN</td>\n",
              "      <td>NaN</td>\n",
              "      <td>NaN</td>\n",
              "      <td>NaN</td>\n",
              "      <td>NaN</td>\n",
              "      <td>NaN</td>\n",
              "      <td>NaN</td>\n",
              "      <td>NaN</td>\n",
              "      <td>NaN</td>\n",
              "      <td>NaN</td>\n",
              "      <td>NaN</td>\n",
              "      <td>NaN</td>\n",
              "      <td>NaN</td>\n",
              "      <td>NaN</td>\n",
              "      <td>NaN</td>\n",
              "      <td>NaN</td>\n",
              "      <td>NaN</td>\n",
              "      <td>NaN</td>\n",
              "      <td>NaN</td>\n",
              "      <td>NaN</td>\n",
              "      <td>NaN</td>\n",
              "      <td>NaN</td>\n",
              "      <td>NaN</td>\n",
              "      <td>NaN</td>\n",
              "      <td>NaN</td>\n",
              "      <td>NaN</td>\n",
              "      <td>NaN</td>\n",
              "      <td>NaN</td>\n",
              "      <td>NaN</td>\n",
              "      <td>NaN</td>\n",
              "      <td>NaN</td>\n",
              "      <td>NaN</td>\n",
              "      <td>NaN</td>\n",
              "      <td>NaN</td>\n",
              "      <td>NaN</td>\n",
              "      <td>NaN</td>\n",
              "      <td>NaN</td>\n",
              "      <td>NaN</td>\n",
              "      <td>NaN</td>\n",
              "      <td>NaN</td>\n",
              "      <td>NaN</td>\n",
              "      <td>NaN</td>\n",
              "      <td>...</td>\n",
              "      <td>NaN</td>\n",
              "      <td>NaN</td>\n",
              "      <td>NaN</td>\n",
              "      <td>NaN</td>\n",
              "      <td>NaN</td>\n",
              "      <td>NaN</td>\n",
              "      <td>NaN</td>\n",
              "      <td>NaN</td>\n",
              "      <td>NaN</td>\n",
              "      <td>NaN</td>\n",
              "      <td>NaN</td>\n",
              "      <td>NaN</td>\n",
              "      <td>NaN</td>\n",
              "      <td>NaN</td>\n",
              "      <td>NaN</td>\n",
              "      <td>NaN</td>\n",
              "      <td>NaN</td>\n",
              "      <td>NaN</td>\n",
              "      <td>NaN</td>\n",
              "      <td>NaN</td>\n",
              "      <td>NaN</td>\n",
              "      <td>NaN</td>\n",
              "      <td>NaN</td>\n",
              "      <td>NaN</td>\n",
              "      <td>NaN</td>\n",
              "      <td>NaN</td>\n",
              "      <td>NaN</td>\n",
              "      <td>NaN</td>\n",
              "      <td>NaN</td>\n",
              "      <td>NaN</td>\n",
              "      <td>NaN</td>\n",
              "      <td>NaN</td>\n",
              "      <td>NaN</td>\n",
              "      <td>NaN</td>\n",
              "      <td>NaN</td>\n",
              "      <td>NaN</td>\n",
              "      <td>NaN</td>\n",
              "      <td>NaN</td>\n",
              "      <td>NaN</td>\n",
              "      <td>NaN</td>\n",
              "      <td>NaN</td>\n",
              "      <td>NaN</td>\n",
              "      <td>NaN</td>\n",
              "      <td>NaN</td>\n",
              "      <td>NaN</td>\n",
              "      <td>NaN</td>\n",
              "      <td>NaN</td>\n",
              "      <td>NaN</td>\n",
              "      <td>NaN</td>\n",
              "      <td>NaN</td>\n",
              "    </tr>\n",
              "  </tbody>\n",
              "</table>\n",
              "<p>5 rows × 207 columns</p>\n",
              "</div>\n",
              "      <button class=\"colab-df-convert\" onclick=\"convertToInteractive('df-ef59382b-97cb-464e-9437-e6c3c4ef0133')\"\n",
              "              title=\"Convert this dataframe to an interactive table.\"\n",
              "              style=\"display:none;\">\n",
              "        \n",
              "  <svg xmlns=\"http://www.w3.org/2000/svg\" height=\"24px\"viewBox=\"0 0 24 24\"\n",
              "       width=\"24px\">\n",
              "    <path d=\"M0 0h24v24H0V0z\" fill=\"none\"/>\n",
              "    <path d=\"M18.56 5.44l.94 2.06.94-2.06 2.06-.94-2.06-.94-.94-2.06-.94 2.06-2.06.94zm-11 1L8.5 8.5l.94-2.06 2.06-.94-2.06-.94L8.5 2.5l-.94 2.06-2.06.94zm10 10l.94 2.06.94-2.06 2.06-.94-2.06-.94-.94-2.06-.94 2.06-2.06.94z\"/><path d=\"M17.41 7.96l-1.37-1.37c-.4-.4-.92-.59-1.43-.59-.52 0-1.04.2-1.43.59L10.3 9.45l-7.72 7.72c-.78.78-.78 2.05 0 2.83L4 21.41c.39.39.9.59 1.41.59.51 0 1.02-.2 1.41-.59l7.78-7.78 2.81-2.81c.8-.78.8-2.07 0-2.86zM5.41 20L4 18.59l7.72-7.72 1.47 1.35L5.41 20z\"/>\n",
              "  </svg>\n",
              "      </button>\n",
              "      \n",
              "  <style>\n",
              "    .colab-df-container {\n",
              "      display:flex;\n",
              "      flex-wrap:wrap;\n",
              "      gap: 12px;\n",
              "    }\n",
              "\n",
              "    .colab-df-convert {\n",
              "      background-color: #E8F0FE;\n",
              "      border: none;\n",
              "      border-radius: 50%;\n",
              "      cursor: pointer;\n",
              "      display: none;\n",
              "      fill: #1967D2;\n",
              "      height: 32px;\n",
              "      padding: 0 0 0 0;\n",
              "      width: 32px;\n",
              "    }\n",
              "\n",
              "    .colab-df-convert:hover {\n",
              "      background-color: #E2EBFA;\n",
              "      box-shadow: 0px 1px 2px rgba(60, 64, 67, 0.3), 0px 1px 3px 1px rgba(60, 64, 67, 0.15);\n",
              "      fill: #174EA6;\n",
              "    }\n",
              "\n",
              "    [theme=dark] .colab-df-convert {\n",
              "      background-color: #3B4455;\n",
              "      fill: #D2E3FC;\n",
              "    }\n",
              "\n",
              "    [theme=dark] .colab-df-convert:hover {\n",
              "      background-color: #434B5C;\n",
              "      box-shadow: 0px 1px 3px 1px rgba(0, 0, 0, 0.15);\n",
              "      filter: drop-shadow(0px 1px 2px rgba(0, 0, 0, 0.3));\n",
              "      fill: #FFFFFF;\n",
              "    }\n",
              "  </style>\n",
              "\n",
              "      <script>\n",
              "        const buttonEl =\n",
              "          document.querySelector('#df-ef59382b-97cb-464e-9437-e6c3c4ef0133 button.colab-df-convert');\n",
              "        buttonEl.style.display =\n",
              "          google.colab.kernel.accessAllowed ? 'block' : 'none';\n",
              "\n",
              "        async function convertToInteractive(key) {\n",
              "          const element = document.querySelector('#df-ef59382b-97cb-464e-9437-e6c3c4ef0133');\n",
              "          const dataTable =\n",
              "            await google.colab.kernel.invokeFunction('convertToInteractive',\n",
              "                                                     [key], {});\n",
              "          if (!dataTable) return;\n",
              "\n",
              "          const docLinkHtml = 'Like what you see? Visit the ' +\n",
              "            '<a target=\"_blank\" href=https://colab.research.google.com/notebooks/data_table.ipynb>data table notebook</a>'\n",
              "            + ' to learn more about interactive tables.';\n",
              "          element.innerHTML = '';\n",
              "          dataTable['output_type'] = 'display_data';\n",
              "          await google.colab.output.renderOutput(dataTable, element);\n",
              "          const docLink = document.createElement('div');\n",
              "          docLink.innerHTML = docLinkHtml;\n",
              "          element.appendChild(docLink);\n",
              "        }\n",
              "      </script>\n",
              "    </div>\n",
              "  </div>\n",
              "  "
            ]
          },
          "metadata": {},
          "execution_count": 108
        }
      ],
      "source": [
        "df_1=reinit_input_df()\n",
        "df_1.head()"
      ]
    },
    {
      "cell_type": "code",
      "execution_count": null,
      "metadata": {
        "colab": {
          "base_uri": "https://localhost:8080/"
        },
        "id": "kyTvRJplmen9",
        "outputId": "b137d2d4-2172-4634-a9bc-cfdd81faced4"
      },
      "outputs": [
        {
          "output_type": "execute_result",
          "data": {
            "text/plain": [
              "(4999, 207)"
            ]
          },
          "metadata": {},
          "execution_count": 109
        }
      ],
      "source": [
        "#-------------------------------------------------------\n",
        "#--- Build df_ready \n",
        "#-------------------------------------------------------\n",
        "df_ready=get_df_ready_for_fit(df_1)\n",
        "df_ready.shape"
      ]
    },
    {
      "cell_type": "code",
      "execution_count": null,
      "metadata": {
        "colab": {
          "base_uri": "https://localhost:8080/",
          "height": 299
        },
        "id": "fLnpAqvtnEmm",
        "outputId": "69e37c1f-49de-46f7-82d9-bce51bb2aaea"
      },
      "outputs": [
        {
          "output_type": "execute_result",
          "data": {
            "text/plain": [
              "   Movie1  Movie2  Movie3  Movie4  Movie5  Movie6  Movie7  Movie8  Movie9  \\\n",
              "0     5.0     1.0     0.0     0.0     0.0     0.0     0.0     0.0     0.0   \n",
              "1     0.0     0.0     1.0     0.0     0.0     0.0     0.0     0.0     0.0   \n",
              "2     0.0     0.0     0.0     1.0     0.0     0.0     0.0     0.0     0.0   \n",
              "3     0.0     0.0     0.0     1.0     0.0     0.0     0.0     0.0     0.0   \n",
              "4     0.0     0.0     0.0     0.0     1.0     0.0     0.0     0.0     0.0   \n",
              "\n",
              "   Movie10  Movie11  Movie12  Movie13  Movie14  Movie15  Movie16  Movie17  \\\n",
              "0      0.0      0.0      0.0      0.0      0.0      0.0      0.0      0.0   \n",
              "1      0.0      0.0      0.0      0.0      0.0      0.0      0.0      0.0   \n",
              "2      0.0      0.0      0.0      0.0      0.0      0.0      0.0      0.0   \n",
              "3      0.0      0.0      0.0      0.0      0.0      0.0      0.0      0.0   \n",
              "4      0.0      0.0      0.0      0.0      0.0      0.0      0.0      0.0   \n",
              "\n",
              "   Movie18  Movie19  Movie20  Movie21  Movie22  Movie23  Movie24  Movie25  \\\n",
              "0      0.0      0.0      0.0      0.0      0.0      0.0      0.0      0.0   \n",
              "1      0.0      0.0      0.0      0.0      0.0      0.0      0.0      0.0   \n",
              "2      0.0      0.0      0.0      0.0      0.0      0.0      0.0      0.0   \n",
              "3      0.0      0.0      0.0      0.0      0.0      0.0      0.0      0.0   \n",
              "4      0.0      0.0      0.0      0.0      0.0      0.0      0.0      0.0   \n",
              "\n",
              "   Movie26  Movie27  Movie28  Movie29  Movie30  Movie31  Movie32  Movie33  \\\n",
              "0      0.0      0.0      0.0      0.0      0.0      0.0      0.0      0.0   \n",
              "1      0.0      0.0      0.0      0.0      0.0      0.0      0.0      0.0   \n",
              "2      0.0      0.0      0.0      0.0      0.0      0.0      0.0      0.0   \n",
              "3      0.0      0.0      0.0      0.0      0.0      0.0      0.0      0.0   \n",
              "4      0.0      0.0      0.0      0.0      0.0      0.0      0.0      0.0   \n",
              "\n",
              "   Movie34  Movie35  Movie36  Movie37  Movie38  Movie39  Movie40  Movie41  \\\n",
              "0      0.0      0.0      0.0      0.0      0.0      0.0      0.0      0.0   \n",
              "1      0.0      0.0      0.0      0.0      0.0      0.0      0.0      0.0   \n",
              "2      0.0      0.0      0.0      0.0      0.0      0.0      0.0      0.0   \n",
              "3      0.0      0.0      0.0      0.0      0.0      0.0      0.0      0.0   \n",
              "4      0.0      0.0      0.0      0.0      0.0      0.0      0.0      0.0   \n",
              "\n",
              "   Movie42  Movie43  Movie44  Movie45  Movie46  Movie47  Movie48  Movie49  \\\n",
              "0      0.0      0.0      0.0      0.0      0.0      0.0      0.0      0.0   \n",
              "1      0.0      0.0      0.0      0.0      0.0      0.0      0.0      0.0   \n",
              "2      0.0      0.0      0.0      0.0      0.0      0.0      0.0      0.0   \n",
              "3      0.0      0.0      0.0      0.0      0.0      0.0      0.0      0.0   \n",
              "4      0.0      0.0      0.0      0.0      0.0      0.0      0.0      0.0   \n",
              "\n",
              "   Movie50  ...  Movie158  Movie159  Movie160  Movie161  Movie162  Movie163  \\\n",
              "0      0.0  ...       0.0       0.0       0.0       0.0       0.0       0.0   \n",
              "1      0.0  ...       0.0       0.0       0.0       0.0       0.0       0.0   \n",
              "2      0.0  ...       0.0       0.0       0.0       0.0       0.0       0.0   \n",
              "3      0.0  ...       0.0       0.0       0.0       0.0       0.0       0.0   \n",
              "4      0.0  ...       0.0       0.0       0.0       0.0       0.0       0.0   \n",
              "\n",
              "   Movie164  Movie165  Movie166  Movie167  Movie168  Movie169  Movie170  \\\n",
              "0       0.0       0.0       0.0       0.0       0.0       0.0       0.0   \n",
              "1       0.0       0.0       0.0       0.0       0.0       0.0       0.0   \n",
              "2       0.0       0.0       0.0       0.0       0.0       0.0       0.0   \n",
              "3       0.0       0.0       0.0       0.0       0.0       0.0       0.0   \n",
              "4       0.0       0.0       0.0       0.0       0.0       0.0       0.0   \n",
              "\n",
              "   Movie171  Movie172  Movie173  Movie174  Movie175  Movie176  Movie177  \\\n",
              "0       0.0       0.0       0.0       0.0       0.0       0.0       0.0   \n",
              "1       0.0       0.0       0.0       0.0       0.0       0.0       0.0   \n",
              "2       0.0       0.0       0.0       0.0       0.0       0.0       0.0   \n",
              "3       0.0       0.0       0.0       0.0       0.0       0.0       0.0   \n",
              "4       0.0       0.0       0.0       0.0       0.0       0.0       0.0   \n",
              "\n",
              "   Movie178  Movie179  Movie180  Movie181  Movie182  Movie183  Movie184  \\\n",
              "0       0.0       0.0       0.0       0.0       0.0       0.0       0.0   \n",
              "1       0.0       0.0       0.0       0.0       0.0       0.0       0.0   \n",
              "2       0.0       0.0       0.0       0.0       0.0       0.0       0.0   \n",
              "3       0.0       0.0       0.0       0.0       0.0       0.0       0.0   \n",
              "4       0.0       0.0       0.0       0.0       0.0       0.0       0.0   \n",
              "\n",
              "   Movie185  Movie186  Movie187  Movie188  Movie189  Movie190  Movie191  \\\n",
              "0       0.0       0.0       0.0       0.0       0.0       0.0       0.0   \n",
              "1       0.0       0.0       0.0       0.0       0.0       0.0       0.0   \n",
              "2       0.0       0.0       0.0       0.0       0.0       0.0       0.0   \n",
              "3       0.0       0.0       0.0       0.0       0.0       0.0       0.0   \n",
              "4       0.0       0.0       0.0       0.0       0.0       0.0       0.0   \n",
              "\n",
              "   Movie192  Movie193  Movie194  Movie195  Movie196  Movie197  Movie198  \\\n",
              "0       0.0       0.0       0.0       0.0       0.0       0.0       0.0   \n",
              "1       0.0       0.0       0.0       0.0       0.0       0.0       0.0   \n",
              "2       0.0       0.0       0.0       0.0       0.0       0.0       0.0   \n",
              "3       0.0       0.0       0.0       0.0       0.0       0.0       0.0   \n",
              "4       0.0       0.0       0.0       0.0       0.0       0.0       0.0   \n",
              "\n",
              "   Movie199  Movie200  Movie201  Movie202  Movie203  Movie204  Movie205  \\\n",
              "0       0.0       0.0       0.0       0.0       0.0       0.0       0.0   \n",
              "1       0.0       0.0       0.0       0.0       0.0       0.0       0.0   \n",
              "2       0.0       0.0       0.0       0.0       0.0       0.0       0.0   \n",
              "3       0.0       0.0       0.0       0.0       0.0       0.0       0.0   \n",
              "4       0.0       0.0       0.0       0.0       0.0       0.0       0.0   \n",
              "\n",
              "   Movie206  Target  \n",
              "0       0.0     5.0  \n",
              "1       0.0     2.0  \n",
              "2       0.0     5.0  \n",
              "3       0.0     5.0  \n",
              "4       0.0     5.0  \n",
              "\n",
              "[5 rows x 207 columns]"
            ],
            "text/html": [
              "\n",
              "  <div id=\"df-5de329a7-58a0-4411-98e9-28d74148985e\">\n",
              "    <div class=\"colab-df-container\">\n",
              "      <div>\n",
              "<style scoped>\n",
              "    .dataframe tbody tr th:only-of-type {\n",
              "        vertical-align: middle;\n",
              "    }\n",
              "\n",
              "    .dataframe tbody tr th {\n",
              "        vertical-align: top;\n",
              "    }\n",
              "\n",
              "    .dataframe thead th {\n",
              "        text-align: right;\n",
              "    }\n",
              "</style>\n",
              "<table border=\"1\" class=\"dataframe\">\n",
              "  <thead>\n",
              "    <tr style=\"text-align: right;\">\n",
              "      <th></th>\n",
              "      <th>Movie1</th>\n",
              "      <th>Movie2</th>\n",
              "      <th>Movie3</th>\n",
              "      <th>Movie4</th>\n",
              "      <th>Movie5</th>\n",
              "      <th>Movie6</th>\n",
              "      <th>Movie7</th>\n",
              "      <th>Movie8</th>\n",
              "      <th>Movie9</th>\n",
              "      <th>Movie10</th>\n",
              "      <th>Movie11</th>\n",
              "      <th>Movie12</th>\n",
              "      <th>Movie13</th>\n",
              "      <th>Movie14</th>\n",
              "      <th>Movie15</th>\n",
              "      <th>Movie16</th>\n",
              "      <th>Movie17</th>\n",
              "      <th>Movie18</th>\n",
              "      <th>Movie19</th>\n",
              "      <th>Movie20</th>\n",
              "      <th>Movie21</th>\n",
              "      <th>Movie22</th>\n",
              "      <th>Movie23</th>\n",
              "      <th>Movie24</th>\n",
              "      <th>Movie25</th>\n",
              "      <th>Movie26</th>\n",
              "      <th>Movie27</th>\n",
              "      <th>Movie28</th>\n",
              "      <th>Movie29</th>\n",
              "      <th>Movie30</th>\n",
              "      <th>Movie31</th>\n",
              "      <th>Movie32</th>\n",
              "      <th>Movie33</th>\n",
              "      <th>Movie34</th>\n",
              "      <th>Movie35</th>\n",
              "      <th>Movie36</th>\n",
              "      <th>Movie37</th>\n",
              "      <th>Movie38</th>\n",
              "      <th>Movie39</th>\n",
              "      <th>Movie40</th>\n",
              "      <th>Movie41</th>\n",
              "      <th>Movie42</th>\n",
              "      <th>Movie43</th>\n",
              "      <th>Movie44</th>\n",
              "      <th>Movie45</th>\n",
              "      <th>Movie46</th>\n",
              "      <th>Movie47</th>\n",
              "      <th>Movie48</th>\n",
              "      <th>Movie49</th>\n",
              "      <th>Movie50</th>\n",
              "      <th>...</th>\n",
              "      <th>Movie158</th>\n",
              "      <th>Movie159</th>\n",
              "      <th>Movie160</th>\n",
              "      <th>Movie161</th>\n",
              "      <th>Movie162</th>\n",
              "      <th>Movie163</th>\n",
              "      <th>Movie164</th>\n",
              "      <th>Movie165</th>\n",
              "      <th>Movie166</th>\n",
              "      <th>Movie167</th>\n",
              "      <th>Movie168</th>\n",
              "      <th>Movie169</th>\n",
              "      <th>Movie170</th>\n",
              "      <th>Movie171</th>\n",
              "      <th>Movie172</th>\n",
              "      <th>Movie173</th>\n",
              "      <th>Movie174</th>\n",
              "      <th>Movie175</th>\n",
              "      <th>Movie176</th>\n",
              "      <th>Movie177</th>\n",
              "      <th>Movie178</th>\n",
              "      <th>Movie179</th>\n",
              "      <th>Movie180</th>\n",
              "      <th>Movie181</th>\n",
              "      <th>Movie182</th>\n",
              "      <th>Movie183</th>\n",
              "      <th>Movie184</th>\n",
              "      <th>Movie185</th>\n",
              "      <th>Movie186</th>\n",
              "      <th>Movie187</th>\n",
              "      <th>Movie188</th>\n",
              "      <th>Movie189</th>\n",
              "      <th>Movie190</th>\n",
              "      <th>Movie191</th>\n",
              "      <th>Movie192</th>\n",
              "      <th>Movie193</th>\n",
              "      <th>Movie194</th>\n",
              "      <th>Movie195</th>\n",
              "      <th>Movie196</th>\n",
              "      <th>Movie197</th>\n",
              "      <th>Movie198</th>\n",
              "      <th>Movie199</th>\n",
              "      <th>Movie200</th>\n",
              "      <th>Movie201</th>\n",
              "      <th>Movie202</th>\n",
              "      <th>Movie203</th>\n",
              "      <th>Movie204</th>\n",
              "      <th>Movie205</th>\n",
              "      <th>Movie206</th>\n",
              "      <th>Target</th>\n",
              "    </tr>\n",
              "  </thead>\n",
              "  <tbody>\n",
              "    <tr>\n",
              "      <th>0</th>\n",
              "      <td>5.0</td>\n",
              "      <td>1.0</td>\n",
              "      <td>0.0</td>\n",
              "      <td>0.0</td>\n",
              "      <td>0.0</td>\n",
              "      <td>0.0</td>\n",
              "      <td>0.0</td>\n",
              "      <td>0.0</td>\n",
              "      <td>0.0</td>\n",
              "      <td>0.0</td>\n",
              "      <td>0.0</td>\n",
              "      <td>0.0</td>\n",
              "      <td>0.0</td>\n",
              "      <td>0.0</td>\n",
              "      <td>0.0</td>\n",
              "      <td>0.0</td>\n",
              "      <td>0.0</td>\n",
              "      <td>0.0</td>\n",
              "      <td>0.0</td>\n",
              "      <td>0.0</td>\n",
              "      <td>0.0</td>\n",
              "      <td>0.0</td>\n",
              "      <td>0.0</td>\n",
              "      <td>0.0</td>\n",
              "      <td>0.0</td>\n",
              "      <td>0.0</td>\n",
              "      <td>0.0</td>\n",
              "      <td>0.0</td>\n",
              "      <td>0.0</td>\n",
              "      <td>0.0</td>\n",
              "      <td>0.0</td>\n",
              "      <td>0.0</td>\n",
              "      <td>0.0</td>\n",
              "      <td>0.0</td>\n",
              "      <td>0.0</td>\n",
              "      <td>0.0</td>\n",
              "      <td>0.0</td>\n",
              "      <td>0.0</td>\n",
              "      <td>0.0</td>\n",
              "      <td>0.0</td>\n",
              "      <td>0.0</td>\n",
              "      <td>0.0</td>\n",
              "      <td>0.0</td>\n",
              "      <td>0.0</td>\n",
              "      <td>0.0</td>\n",
              "      <td>0.0</td>\n",
              "      <td>0.0</td>\n",
              "      <td>0.0</td>\n",
              "      <td>0.0</td>\n",
              "      <td>0.0</td>\n",
              "      <td>...</td>\n",
              "      <td>0.0</td>\n",
              "      <td>0.0</td>\n",
              "      <td>0.0</td>\n",
              "      <td>0.0</td>\n",
              "      <td>0.0</td>\n",
              "      <td>0.0</td>\n",
              "      <td>0.0</td>\n",
              "      <td>0.0</td>\n",
              "      <td>0.0</td>\n",
              "      <td>0.0</td>\n",
              "      <td>0.0</td>\n",
              "      <td>0.0</td>\n",
              "      <td>0.0</td>\n",
              "      <td>0.0</td>\n",
              "      <td>0.0</td>\n",
              "      <td>0.0</td>\n",
              "      <td>0.0</td>\n",
              "      <td>0.0</td>\n",
              "      <td>0.0</td>\n",
              "      <td>0.0</td>\n",
              "      <td>0.0</td>\n",
              "      <td>0.0</td>\n",
              "      <td>0.0</td>\n",
              "      <td>0.0</td>\n",
              "      <td>0.0</td>\n",
              "      <td>0.0</td>\n",
              "      <td>0.0</td>\n",
              "      <td>0.0</td>\n",
              "      <td>0.0</td>\n",
              "      <td>0.0</td>\n",
              "      <td>0.0</td>\n",
              "      <td>0.0</td>\n",
              "      <td>0.0</td>\n",
              "      <td>0.0</td>\n",
              "      <td>0.0</td>\n",
              "      <td>0.0</td>\n",
              "      <td>0.0</td>\n",
              "      <td>0.0</td>\n",
              "      <td>0.0</td>\n",
              "      <td>0.0</td>\n",
              "      <td>0.0</td>\n",
              "      <td>0.0</td>\n",
              "      <td>0.0</td>\n",
              "      <td>0.0</td>\n",
              "      <td>0.0</td>\n",
              "      <td>0.0</td>\n",
              "      <td>0.0</td>\n",
              "      <td>0.0</td>\n",
              "      <td>0.0</td>\n",
              "      <td>5.0</td>\n",
              "    </tr>\n",
              "    <tr>\n",
              "      <th>1</th>\n",
              "      <td>0.0</td>\n",
              "      <td>0.0</td>\n",
              "      <td>1.0</td>\n",
              "      <td>0.0</td>\n",
              "      <td>0.0</td>\n",
              "      <td>0.0</td>\n",
              "      <td>0.0</td>\n",
              "      <td>0.0</td>\n",
              "      <td>0.0</td>\n",
              "      <td>0.0</td>\n",
              "      <td>0.0</td>\n",
              "      <td>0.0</td>\n",
              "      <td>0.0</td>\n",
              "      <td>0.0</td>\n",
              "      <td>0.0</td>\n",
              "      <td>0.0</td>\n",
              "      <td>0.0</td>\n",
              "      <td>0.0</td>\n",
              "      <td>0.0</td>\n",
              "      <td>0.0</td>\n",
              "      <td>0.0</td>\n",
              "      <td>0.0</td>\n",
              "      <td>0.0</td>\n",
              "      <td>0.0</td>\n",
              "      <td>0.0</td>\n",
              "      <td>0.0</td>\n",
              "      <td>0.0</td>\n",
              "      <td>0.0</td>\n",
              "      <td>0.0</td>\n",
              "      <td>0.0</td>\n",
              "      <td>0.0</td>\n",
              "      <td>0.0</td>\n",
              "      <td>0.0</td>\n",
              "      <td>0.0</td>\n",
              "      <td>0.0</td>\n",
              "      <td>0.0</td>\n",
              "      <td>0.0</td>\n",
              "      <td>0.0</td>\n",
              "      <td>0.0</td>\n",
              "      <td>0.0</td>\n",
              "      <td>0.0</td>\n",
              "      <td>0.0</td>\n",
              "      <td>0.0</td>\n",
              "      <td>0.0</td>\n",
              "      <td>0.0</td>\n",
              "      <td>0.0</td>\n",
              "      <td>0.0</td>\n",
              "      <td>0.0</td>\n",
              "      <td>0.0</td>\n",
              "      <td>0.0</td>\n",
              "      <td>...</td>\n",
              "      <td>0.0</td>\n",
              "      <td>0.0</td>\n",
              "      <td>0.0</td>\n",
              "      <td>0.0</td>\n",
              "      <td>0.0</td>\n",
              "      <td>0.0</td>\n",
              "      <td>0.0</td>\n",
              "      <td>0.0</td>\n",
              "      <td>0.0</td>\n",
              "      <td>0.0</td>\n",
              "      <td>0.0</td>\n",
              "      <td>0.0</td>\n",
              "      <td>0.0</td>\n",
              "      <td>0.0</td>\n",
              "      <td>0.0</td>\n",
              "      <td>0.0</td>\n",
              "      <td>0.0</td>\n",
              "      <td>0.0</td>\n",
              "      <td>0.0</td>\n",
              "      <td>0.0</td>\n",
              "      <td>0.0</td>\n",
              "      <td>0.0</td>\n",
              "      <td>0.0</td>\n",
              "      <td>0.0</td>\n",
              "      <td>0.0</td>\n",
              "      <td>0.0</td>\n",
              "      <td>0.0</td>\n",
              "      <td>0.0</td>\n",
              "      <td>0.0</td>\n",
              "      <td>0.0</td>\n",
              "      <td>0.0</td>\n",
              "      <td>0.0</td>\n",
              "      <td>0.0</td>\n",
              "      <td>0.0</td>\n",
              "      <td>0.0</td>\n",
              "      <td>0.0</td>\n",
              "      <td>0.0</td>\n",
              "      <td>0.0</td>\n",
              "      <td>0.0</td>\n",
              "      <td>0.0</td>\n",
              "      <td>0.0</td>\n",
              "      <td>0.0</td>\n",
              "      <td>0.0</td>\n",
              "      <td>0.0</td>\n",
              "      <td>0.0</td>\n",
              "      <td>0.0</td>\n",
              "      <td>0.0</td>\n",
              "      <td>0.0</td>\n",
              "      <td>0.0</td>\n",
              "      <td>2.0</td>\n",
              "    </tr>\n",
              "    <tr>\n",
              "      <th>2</th>\n",
              "      <td>0.0</td>\n",
              "      <td>0.0</td>\n",
              "      <td>0.0</td>\n",
              "      <td>1.0</td>\n",
              "      <td>0.0</td>\n",
              "      <td>0.0</td>\n",
              "      <td>0.0</td>\n",
              "      <td>0.0</td>\n",
              "      <td>0.0</td>\n",
              "      <td>0.0</td>\n",
              "      <td>0.0</td>\n",
              "      <td>0.0</td>\n",
              "      <td>0.0</td>\n",
              "      <td>0.0</td>\n",
              "      <td>0.0</td>\n",
              "      <td>0.0</td>\n",
              "      <td>0.0</td>\n",
              "      <td>0.0</td>\n",
              "      <td>0.0</td>\n",
              "      <td>0.0</td>\n",
              "      <td>0.0</td>\n",
              "      <td>0.0</td>\n",
              "      <td>0.0</td>\n",
              "      <td>0.0</td>\n",
              "      <td>0.0</td>\n",
              "      <td>0.0</td>\n",
              "      <td>0.0</td>\n",
              "      <td>0.0</td>\n",
              "      <td>0.0</td>\n",
              "      <td>0.0</td>\n",
              "      <td>0.0</td>\n",
              "      <td>0.0</td>\n",
              "      <td>0.0</td>\n",
              "      <td>0.0</td>\n",
              "      <td>0.0</td>\n",
              "      <td>0.0</td>\n",
              "      <td>0.0</td>\n",
              "      <td>0.0</td>\n",
              "      <td>0.0</td>\n",
              "      <td>0.0</td>\n",
              "      <td>0.0</td>\n",
              "      <td>0.0</td>\n",
              "      <td>0.0</td>\n",
              "      <td>0.0</td>\n",
              "      <td>0.0</td>\n",
              "      <td>0.0</td>\n",
              "      <td>0.0</td>\n",
              "      <td>0.0</td>\n",
              "      <td>0.0</td>\n",
              "      <td>0.0</td>\n",
              "      <td>...</td>\n",
              "      <td>0.0</td>\n",
              "      <td>0.0</td>\n",
              "      <td>0.0</td>\n",
              "      <td>0.0</td>\n",
              "      <td>0.0</td>\n",
              "      <td>0.0</td>\n",
              "      <td>0.0</td>\n",
              "      <td>0.0</td>\n",
              "      <td>0.0</td>\n",
              "      <td>0.0</td>\n",
              "      <td>0.0</td>\n",
              "      <td>0.0</td>\n",
              "      <td>0.0</td>\n",
              "      <td>0.0</td>\n",
              "      <td>0.0</td>\n",
              "      <td>0.0</td>\n",
              "      <td>0.0</td>\n",
              "      <td>0.0</td>\n",
              "      <td>0.0</td>\n",
              "      <td>0.0</td>\n",
              "      <td>0.0</td>\n",
              "      <td>0.0</td>\n",
              "      <td>0.0</td>\n",
              "      <td>0.0</td>\n",
              "      <td>0.0</td>\n",
              "      <td>0.0</td>\n",
              "      <td>0.0</td>\n",
              "      <td>0.0</td>\n",
              "      <td>0.0</td>\n",
              "      <td>0.0</td>\n",
              "      <td>0.0</td>\n",
              "      <td>0.0</td>\n",
              "      <td>0.0</td>\n",
              "      <td>0.0</td>\n",
              "      <td>0.0</td>\n",
              "      <td>0.0</td>\n",
              "      <td>0.0</td>\n",
              "      <td>0.0</td>\n",
              "      <td>0.0</td>\n",
              "      <td>0.0</td>\n",
              "      <td>0.0</td>\n",
              "      <td>0.0</td>\n",
              "      <td>0.0</td>\n",
              "      <td>0.0</td>\n",
              "      <td>0.0</td>\n",
              "      <td>0.0</td>\n",
              "      <td>0.0</td>\n",
              "      <td>0.0</td>\n",
              "      <td>0.0</td>\n",
              "      <td>5.0</td>\n",
              "    </tr>\n",
              "    <tr>\n",
              "      <th>3</th>\n",
              "      <td>0.0</td>\n",
              "      <td>0.0</td>\n",
              "      <td>0.0</td>\n",
              "      <td>1.0</td>\n",
              "      <td>0.0</td>\n",
              "      <td>0.0</td>\n",
              "      <td>0.0</td>\n",
              "      <td>0.0</td>\n",
              "      <td>0.0</td>\n",
              "      <td>0.0</td>\n",
              "      <td>0.0</td>\n",
              "      <td>0.0</td>\n",
              "      <td>0.0</td>\n",
              "      <td>0.0</td>\n",
              "      <td>0.0</td>\n",
              "      <td>0.0</td>\n",
              "      <td>0.0</td>\n",
              "      <td>0.0</td>\n",
              "      <td>0.0</td>\n",
              "      <td>0.0</td>\n",
              "      <td>0.0</td>\n",
              "      <td>0.0</td>\n",
              "      <td>0.0</td>\n",
              "      <td>0.0</td>\n",
              "      <td>0.0</td>\n",
              "      <td>0.0</td>\n",
              "      <td>0.0</td>\n",
              "      <td>0.0</td>\n",
              "      <td>0.0</td>\n",
              "      <td>0.0</td>\n",
              "      <td>0.0</td>\n",
              "      <td>0.0</td>\n",
              "      <td>0.0</td>\n",
              "      <td>0.0</td>\n",
              "      <td>0.0</td>\n",
              "      <td>0.0</td>\n",
              "      <td>0.0</td>\n",
              "      <td>0.0</td>\n",
              "      <td>0.0</td>\n",
              "      <td>0.0</td>\n",
              "      <td>0.0</td>\n",
              "      <td>0.0</td>\n",
              "      <td>0.0</td>\n",
              "      <td>0.0</td>\n",
              "      <td>0.0</td>\n",
              "      <td>0.0</td>\n",
              "      <td>0.0</td>\n",
              "      <td>0.0</td>\n",
              "      <td>0.0</td>\n",
              "      <td>0.0</td>\n",
              "      <td>...</td>\n",
              "      <td>0.0</td>\n",
              "      <td>0.0</td>\n",
              "      <td>0.0</td>\n",
              "      <td>0.0</td>\n",
              "      <td>0.0</td>\n",
              "      <td>0.0</td>\n",
              "      <td>0.0</td>\n",
              "      <td>0.0</td>\n",
              "      <td>0.0</td>\n",
              "      <td>0.0</td>\n",
              "      <td>0.0</td>\n",
              "      <td>0.0</td>\n",
              "      <td>0.0</td>\n",
              "      <td>0.0</td>\n",
              "      <td>0.0</td>\n",
              "      <td>0.0</td>\n",
              "      <td>0.0</td>\n",
              "      <td>0.0</td>\n",
              "      <td>0.0</td>\n",
              "      <td>0.0</td>\n",
              "      <td>0.0</td>\n",
              "      <td>0.0</td>\n",
              "      <td>0.0</td>\n",
              "      <td>0.0</td>\n",
              "      <td>0.0</td>\n",
              "      <td>0.0</td>\n",
              "      <td>0.0</td>\n",
              "      <td>0.0</td>\n",
              "      <td>0.0</td>\n",
              "      <td>0.0</td>\n",
              "      <td>0.0</td>\n",
              "      <td>0.0</td>\n",
              "      <td>0.0</td>\n",
              "      <td>0.0</td>\n",
              "      <td>0.0</td>\n",
              "      <td>0.0</td>\n",
              "      <td>0.0</td>\n",
              "      <td>0.0</td>\n",
              "      <td>0.0</td>\n",
              "      <td>0.0</td>\n",
              "      <td>0.0</td>\n",
              "      <td>0.0</td>\n",
              "      <td>0.0</td>\n",
              "      <td>0.0</td>\n",
              "      <td>0.0</td>\n",
              "      <td>0.0</td>\n",
              "      <td>0.0</td>\n",
              "      <td>0.0</td>\n",
              "      <td>0.0</td>\n",
              "      <td>5.0</td>\n",
              "    </tr>\n",
              "    <tr>\n",
              "      <th>4</th>\n",
              "      <td>0.0</td>\n",
              "      <td>0.0</td>\n",
              "      <td>0.0</td>\n",
              "      <td>0.0</td>\n",
              "      <td>1.0</td>\n",
              "      <td>0.0</td>\n",
              "      <td>0.0</td>\n",
              "      <td>0.0</td>\n",
              "      <td>0.0</td>\n",
              "      <td>0.0</td>\n",
              "      <td>0.0</td>\n",
              "      <td>0.0</td>\n",
              "      <td>0.0</td>\n",
              "      <td>0.0</td>\n",
              "      <td>0.0</td>\n",
              "      <td>0.0</td>\n",
              "      <td>0.0</td>\n",
              "      <td>0.0</td>\n",
              "      <td>0.0</td>\n",
              "      <td>0.0</td>\n",
              "      <td>0.0</td>\n",
              "      <td>0.0</td>\n",
              "      <td>0.0</td>\n",
              "      <td>0.0</td>\n",
              "      <td>0.0</td>\n",
              "      <td>0.0</td>\n",
              "      <td>0.0</td>\n",
              "      <td>0.0</td>\n",
              "      <td>0.0</td>\n",
              "      <td>0.0</td>\n",
              "      <td>0.0</td>\n",
              "      <td>0.0</td>\n",
              "      <td>0.0</td>\n",
              "      <td>0.0</td>\n",
              "      <td>0.0</td>\n",
              "      <td>0.0</td>\n",
              "      <td>0.0</td>\n",
              "      <td>0.0</td>\n",
              "      <td>0.0</td>\n",
              "      <td>0.0</td>\n",
              "      <td>0.0</td>\n",
              "      <td>0.0</td>\n",
              "      <td>0.0</td>\n",
              "      <td>0.0</td>\n",
              "      <td>0.0</td>\n",
              "      <td>0.0</td>\n",
              "      <td>0.0</td>\n",
              "      <td>0.0</td>\n",
              "      <td>0.0</td>\n",
              "      <td>0.0</td>\n",
              "      <td>...</td>\n",
              "      <td>0.0</td>\n",
              "      <td>0.0</td>\n",
              "      <td>0.0</td>\n",
              "      <td>0.0</td>\n",
              "      <td>0.0</td>\n",
              "      <td>0.0</td>\n",
              "      <td>0.0</td>\n",
              "      <td>0.0</td>\n",
              "      <td>0.0</td>\n",
              "      <td>0.0</td>\n",
              "      <td>0.0</td>\n",
              "      <td>0.0</td>\n",
              "      <td>0.0</td>\n",
              "      <td>0.0</td>\n",
              "      <td>0.0</td>\n",
              "      <td>0.0</td>\n",
              "      <td>0.0</td>\n",
              "      <td>0.0</td>\n",
              "      <td>0.0</td>\n",
              "      <td>0.0</td>\n",
              "      <td>0.0</td>\n",
              "      <td>0.0</td>\n",
              "      <td>0.0</td>\n",
              "      <td>0.0</td>\n",
              "      <td>0.0</td>\n",
              "      <td>0.0</td>\n",
              "      <td>0.0</td>\n",
              "      <td>0.0</td>\n",
              "      <td>0.0</td>\n",
              "      <td>0.0</td>\n",
              "      <td>0.0</td>\n",
              "      <td>0.0</td>\n",
              "      <td>0.0</td>\n",
              "      <td>0.0</td>\n",
              "      <td>0.0</td>\n",
              "      <td>0.0</td>\n",
              "      <td>0.0</td>\n",
              "      <td>0.0</td>\n",
              "      <td>0.0</td>\n",
              "      <td>0.0</td>\n",
              "      <td>0.0</td>\n",
              "      <td>0.0</td>\n",
              "      <td>0.0</td>\n",
              "      <td>0.0</td>\n",
              "      <td>0.0</td>\n",
              "      <td>0.0</td>\n",
              "      <td>0.0</td>\n",
              "      <td>0.0</td>\n",
              "      <td>0.0</td>\n",
              "      <td>5.0</td>\n",
              "    </tr>\n",
              "  </tbody>\n",
              "</table>\n",
              "<p>5 rows × 207 columns</p>\n",
              "</div>\n",
              "      <button class=\"colab-df-convert\" onclick=\"convertToInteractive('df-5de329a7-58a0-4411-98e9-28d74148985e')\"\n",
              "              title=\"Convert this dataframe to an interactive table.\"\n",
              "              style=\"display:none;\">\n",
              "        \n",
              "  <svg xmlns=\"http://www.w3.org/2000/svg\" height=\"24px\"viewBox=\"0 0 24 24\"\n",
              "       width=\"24px\">\n",
              "    <path d=\"M0 0h24v24H0V0z\" fill=\"none\"/>\n",
              "    <path d=\"M18.56 5.44l.94 2.06.94-2.06 2.06-.94-2.06-.94-.94-2.06-.94 2.06-2.06.94zm-11 1L8.5 8.5l.94-2.06 2.06-.94-2.06-.94L8.5 2.5l-.94 2.06-2.06.94zm10 10l.94 2.06.94-2.06 2.06-.94-2.06-.94-.94-2.06-.94 2.06-2.06.94z\"/><path d=\"M17.41 7.96l-1.37-1.37c-.4-.4-.92-.59-1.43-.59-.52 0-1.04.2-1.43.59L10.3 9.45l-7.72 7.72c-.78.78-.78 2.05 0 2.83L4 21.41c.39.39.9.59 1.41.59.51 0 1.02-.2 1.41-.59l7.78-7.78 2.81-2.81c.8-.78.8-2.07 0-2.86zM5.41 20L4 18.59l7.72-7.72 1.47 1.35L5.41 20z\"/>\n",
              "  </svg>\n",
              "      </button>\n",
              "      \n",
              "  <style>\n",
              "    .colab-df-container {\n",
              "      display:flex;\n",
              "      flex-wrap:wrap;\n",
              "      gap: 12px;\n",
              "    }\n",
              "\n",
              "    .colab-df-convert {\n",
              "      background-color: #E8F0FE;\n",
              "      border: none;\n",
              "      border-radius: 50%;\n",
              "      cursor: pointer;\n",
              "      display: none;\n",
              "      fill: #1967D2;\n",
              "      height: 32px;\n",
              "      padding: 0 0 0 0;\n",
              "      width: 32px;\n",
              "    }\n",
              "\n",
              "    .colab-df-convert:hover {\n",
              "      background-color: #E2EBFA;\n",
              "      box-shadow: 0px 1px 2px rgba(60, 64, 67, 0.3), 0px 1px 3px 1px rgba(60, 64, 67, 0.15);\n",
              "      fill: #174EA6;\n",
              "    }\n",
              "\n",
              "    [theme=dark] .colab-df-convert {\n",
              "      background-color: #3B4455;\n",
              "      fill: #D2E3FC;\n",
              "    }\n",
              "\n",
              "    [theme=dark] .colab-df-convert:hover {\n",
              "      background-color: #434B5C;\n",
              "      box-shadow: 0px 1px 3px 1px rgba(0, 0, 0, 0.15);\n",
              "      filter: drop-shadow(0px 1px 2px rgba(0, 0, 0, 0.3));\n",
              "      fill: #FFFFFF;\n",
              "    }\n",
              "  </style>\n",
              "\n",
              "      <script>\n",
              "        const buttonEl =\n",
              "          document.querySelector('#df-5de329a7-58a0-4411-98e9-28d74148985e button.colab-df-convert');\n",
              "        buttonEl.style.display =\n",
              "          google.colab.kernel.accessAllowed ? 'block' : 'none';\n",
              "\n",
              "        async function convertToInteractive(key) {\n",
              "          const element = document.querySelector('#df-5de329a7-58a0-4411-98e9-28d74148985e');\n",
              "          const dataTable =\n",
              "            await google.colab.kernel.invokeFunction('convertToInteractive',\n",
              "                                                     [key], {});\n",
              "          if (!dataTable) return;\n",
              "\n",
              "          const docLinkHtml = 'Like what you see? Visit the ' +\n",
              "            '<a target=\"_blank\" href=https://colab.research.google.com/notebooks/data_table.ipynb>data table notebook</a>'\n",
              "            + ' to learn more about interactive tables.';\n",
              "          element.innerHTML = '';\n",
              "          dataTable['output_type'] = 'display_data';\n",
              "          await google.colab.output.renderOutput(dataTable, element);\n",
              "          const docLink = document.createElement('div');\n",
              "          docLink.innerHTML = docLinkHtml;\n",
              "          element.appendChild(docLink);\n",
              "        }\n",
              "      </script>\n",
              "    </div>\n",
              "  </div>\n",
              "  "
            ]
          },
          "metadata": {},
          "execution_count": 110
        }
      ],
      "source": [
        "df_2=df_ready.copy(deep=True)\n",
        "df_2.head()"
      ]
    },
    {
      "cell_type": "code",
      "execution_count": null,
      "metadata": {
        "colab": {
          "base_uri": "https://localhost:8080/"
        },
        "id": "tG9wnYYrncSM",
        "outputId": "fddc5838-b6e2-465d-e8fc-7e16d4882979"
      },
      "outputs": [
        {
          "output_type": "execute_result",
          "data": {
            "text/plain": [
              "({0.0, 1.0}, {1.0, 2.0, 3.0, 4.0, 5.0})"
            ]
          },
          "metadata": {},
          "execution_count": 111
        }
      ],
      "source": [
        "# Cheking\n",
        "get_values_of_columns(df_2,df_2.columns[1:-1]),get_values_of_columns(df_2,df_2.columns[-1:])"
      ]
    },
    {
      "cell_type": "code",
      "execution_count": null,
      "metadata": {
        "colab": {
          "base_uri": "https://localhost:8080/"
        },
        "id": "vXWJng4qn7Wk",
        "outputId": "ab1e802f-0d13-490f-8452-27bd57fc2582"
      },
      "outputs": [
        {
          "output_type": "execute_result",
          "data": {
            "text/plain": [
              "((4999, 206), (4999,))"
            ]
          },
          "metadata": {},
          "execution_count": 112
        }
      ],
      "source": [
        "# def of X, Y\n",
        "Y=df_2[df_2.columns[-1]]\n",
        "X=df_2[df_2.columns[0:-1]] \n",
        "X.shape, Y.shape"
      ]
    },
    {
      "cell_type": "code",
      "execution_count": null,
      "metadata": {
        "colab": {
          "base_uri": "https://localhost:8080/"
        },
        "id": "ceamiAtgoWs7",
        "outputId": "d71c1ec4-1edb-4c5c-af9e-9b61fc773b17"
      },
      "outputs": [
        {
          "output_type": "execute_result",
          "data": {
            "text/plain": [
              "((3999, 206), (1000, 206), (3999,), (1000,))"
            ]
          },
          "metadata": {},
          "execution_count": 113
        }
      ],
      "source": [
        "# Split() ---> define X_train,X_test,y_train,y_test\n",
        "from sklearn.model_selection import train_test_split\n",
        "#\n",
        "in_test_size=20/100\n",
        "X_train,X_test,y_train,y_test = train_test_split(X,Y,test_size=in_test_size,random_state=0)\n",
        "#\n",
        "X_train.shape,X_test.shape,y_train.shape,y_test.shape"
      ]
    },
    {
      "cell_type": "code",
      "source": [
        "model_svc=SVC(random_state=0)\n",
        "model_svc.fit(X_train,y_train)\n",
        "ypred=model_svc.predict(X_train)\n",
        "list(set(ypred))"
      ],
      "metadata": {
        "colab": {
          "base_uri": "https://localhost:8080/"
        },
        "id": "C3OnE2UHL3GC",
        "outputId": "b875f74c-c4ec-4911-b511-89e5ee304c56"
      },
      "execution_count": null,
      "outputs": [
        {
          "output_type": "execute_result",
          "data": {
            "text/plain": [
              "[1.0, 4.0, 5.0]"
            ]
          },
          "metadata": {},
          "execution_count": 114
        }
      ]
    },
    {
      "cell_type": "code",
      "source": [
        "dico_models = test_classifierModels_list(classifierModels_dict, X_train,X_test,y_train,y_test,False)"
      ],
      "metadata": {
        "colab": {
          "base_uri": "https://localhost:8080/"
        },
        "id": "ZFrCrLBYL3DQ",
        "outputId": "056d198c-dc8e-491f-ef54-be84f7e25c7d"
      },
      "execution_count": null,
      "outputs": [
        {
          "output_type": "stream",
          "name": "stdout",
          "text": [
            "============\n",
            "XGBoost\n",
            "============\n",
            "0.748\n",
            "[[  2   0   0   0  65]\n",
            " [  0   0   0   0  25]\n",
            " [  0   0   0   0  47]\n",
            " [  0   0   0   0 115]\n",
            " [  0   0   0   0 746]]\n",
            "              precision    recall  f1-score   support\n",
            "\n",
            "         1.0       1.00      0.03      0.06        67\n",
            "         2.0       0.00      0.00      0.00        25\n",
            "         3.0       0.00      0.00      0.00        47\n",
            "         4.0       0.00      0.00      0.00       115\n",
            "         5.0       0.75      1.00      0.86       746\n",
            "\n",
            "    accuracy                           0.75      1000\n",
            "   macro avg       0.35      0.21      0.18      1000\n",
            "weighted avg       0.62      0.75      0.64      1000\n",
            "\n"
          ]
        },
        {
          "output_type": "stream",
          "name": "stderr",
          "text": [
            "/usr/local/lib/python3.7/dist-packages/sklearn/metrics/_classification.py:1318: UndefinedMetricWarning: Precision and F-score are ill-defined and being set to 0.0 in labels with no predicted samples. Use `zero_division` parameter to control this behavior.\n",
            "  _warn_prf(average, modifier, msg_start, len(result))\n",
            "/usr/local/lib/python3.7/dist-packages/sklearn/metrics/_classification.py:1318: UndefinedMetricWarning: Precision and F-score are ill-defined and being set to 0.0 in labels with no predicted samples. Use `zero_division` parameter to control this behavior.\n",
            "  _warn_prf(average, modifier, msg_start, len(result))\n",
            "/usr/local/lib/python3.7/dist-packages/sklearn/metrics/_classification.py:1318: UndefinedMetricWarning: Precision and F-score are ill-defined and being set to 0.0 in labels with no predicted samples. Use `zero_division` parameter to control this behavior.\n",
            "  _warn_prf(average, modifier, msg_start, len(result))\n"
          ]
        },
        {
          "output_type": "stream",
          "name": "stdout",
          "text": [
            "-----------:::::::::::::::-------------\n",
            "============\n",
            "AdaBoost\n",
            "============\n",
            "0.744\n",
            "[[  2   0   0   0  65]\n",
            " [  0   0   0   0  25]\n",
            " [  0   0   0   0  47]\n",
            " [  2   0   0   0 113]\n",
            " [  1   1   1   1 742]]\n",
            "              precision    recall  f1-score   support\n",
            "\n",
            "         1.0       0.40      0.03      0.06        67\n",
            "         2.0       0.00      0.00      0.00        25\n",
            "         3.0       0.00      0.00      0.00        47\n",
            "         4.0       0.00      0.00      0.00       115\n",
            "         5.0       0.75      0.99      0.85       746\n",
            "\n",
            "    accuracy                           0.74      1000\n",
            "   macro avg       0.23      0.20      0.18      1000\n",
            "weighted avg       0.58      0.74      0.64      1000\n",
            "\n",
            "-----------:::::::::::::::-------------\n",
            "============\n",
            "SVM\n",
            "============\n",
            "0.748\n",
            "[[  2   0   0   0  65]\n",
            " [  0   0   0   0  25]\n",
            " [  0   0   0   0  47]\n",
            " [  0   0   0   0 115]\n",
            " [  0   0   0   0 746]]\n",
            "              precision    recall  f1-score   support\n",
            "\n",
            "         1.0       1.00      0.03      0.06        67\n",
            "         2.0       0.00      0.00      0.00        25\n",
            "         3.0       0.00      0.00      0.00        47\n",
            "         4.0       0.00      0.00      0.00       115\n",
            "         5.0       0.75      1.00      0.86       746\n",
            "\n",
            "    accuracy                           0.75      1000\n",
            "   macro avg       0.35      0.21      0.18      1000\n",
            "weighted avg       0.62      0.75      0.64      1000\n",
            "\n"
          ]
        },
        {
          "output_type": "stream",
          "name": "stderr",
          "text": [
            "/usr/local/lib/python3.7/dist-packages/sklearn/metrics/_classification.py:1318: UndefinedMetricWarning: Precision and F-score are ill-defined and being set to 0.0 in labels with no predicted samples. Use `zero_division` parameter to control this behavior.\n",
            "  _warn_prf(average, modifier, msg_start, len(result))\n",
            "/usr/local/lib/python3.7/dist-packages/sklearn/metrics/_classification.py:1318: UndefinedMetricWarning: Precision and F-score are ill-defined and being set to 0.0 in labels with no predicted samples. Use `zero_division` parameter to control this behavior.\n",
            "  _warn_prf(average, modifier, msg_start, len(result))\n",
            "/usr/local/lib/python3.7/dist-packages/sklearn/metrics/_classification.py:1318: UndefinedMetricWarning: Precision and F-score are ill-defined and being set to 0.0 in labels with no predicted samples. Use `zero_division` parameter to control this behavior.\n",
            "  _warn_prf(average, modifier, msg_start, len(result))\n"
          ]
        },
        {
          "output_type": "stream",
          "name": "stdout",
          "text": [
            "-----------:::::::::::::::-------------\n",
            "============\n",
            "KNN\n",
            "============\n",
            "0.744\n",
            "[[  2   0   0   0  65]\n",
            " [  0   0   0   0  25]\n",
            " [  0   0   0   0  47]\n",
            " [  0   0   0   0 115]\n",
            " [  1   0   2   1 742]]\n",
            "              precision    recall  f1-score   support\n",
            "\n",
            "         1.0       0.67      0.03      0.06        67\n",
            "         2.0       0.00      0.00      0.00        25\n",
            "         3.0       0.00      0.00      0.00        47\n",
            "         4.0       0.00      0.00      0.00       115\n",
            "         5.0       0.75      0.99      0.85       746\n",
            "\n",
            "    accuracy                           0.74      1000\n",
            "   macro avg       0.28      0.20      0.18      1000\n",
            "weighted avg       0.60      0.74      0.64      1000\n",
            "\n"
          ]
        },
        {
          "output_type": "stream",
          "name": "stderr",
          "text": [
            "/usr/local/lib/python3.7/dist-packages/sklearn/metrics/_classification.py:1318: UndefinedMetricWarning: Precision and F-score are ill-defined and being set to 0.0 in labels with no predicted samples. Use `zero_division` parameter to control this behavior.\n",
            "  _warn_prf(average, modifier, msg_start, len(result))\n",
            "/usr/local/lib/python3.7/dist-packages/sklearn/metrics/_classification.py:1318: UndefinedMetricWarning: Precision and F-score are ill-defined and being set to 0.0 in labels with no predicted samples. Use `zero_division` parameter to control this behavior.\n",
            "  _warn_prf(average, modifier, msg_start, len(result))\n",
            "/usr/local/lib/python3.7/dist-packages/sklearn/metrics/_classification.py:1318: UndefinedMetricWarning: Precision and F-score are ill-defined and being set to 0.0 in labels with no predicted samples. Use `zero_division` parameter to control this behavior.\n",
            "  _warn_prf(average, modifier, msg_start, len(result))\n"
          ]
        },
        {
          "output_type": "stream",
          "name": "stdout",
          "text": [
            "-----------:::::::::::::::-------------\n",
            "============\n",
            "DTC\n",
            "============\n",
            "0.736\n",
            "[[  2   0   0   0  65]\n",
            " [  0   0   1   0  24]\n",
            " [  0   1   0   0  46]\n",
            " [  2   1   0   0 112]\n",
            " [  2   6   2   2 734]]\n",
            "              precision    recall  f1-score   support\n",
            "\n",
            "         1.0       0.33      0.03      0.05        67\n",
            "         2.0       0.00      0.00      0.00        25\n",
            "         3.0       0.00      0.00      0.00        47\n",
            "         4.0       0.00      0.00      0.00       115\n",
            "         5.0       0.75      0.98      0.85       746\n",
            "\n",
            "    accuracy                           0.74      1000\n",
            "   macro avg       0.22      0.20      0.18      1000\n",
            "weighted avg       0.58      0.74      0.64      1000\n",
            "\n",
            "-----------:::::::::::::::-------------\n",
            "============\n",
            "RandomForestClassifier\n",
            "============\n",
            "0.743\n",
            "[[  2   0   0   0  65]\n",
            " [  0   0   0   0  25]\n",
            " [  0   0   0   0  47]\n",
            " [  2   0   0   0 113]\n",
            " [  1   1   1   2 741]]\n",
            "              precision    recall  f1-score   support\n",
            "\n",
            "         1.0       0.40      0.03      0.06        67\n",
            "         2.0       0.00      0.00      0.00        25\n",
            "         3.0       0.00      0.00      0.00        47\n",
            "         4.0       0.00      0.00      0.00       115\n",
            "         5.0       0.75      0.99      0.85       746\n",
            "\n",
            "    accuracy                           0.74      1000\n",
            "   macro avg       0.23      0.20      0.18      1000\n",
            "weighted avg       0.58      0.74      0.64      1000\n",
            "\n",
            "-----------:::::::::::::::-------------\n"
          ]
        }
      ]
    },
    {
      "cell_type": "code",
      "source": [
        ""
      ],
      "metadata": {
        "id": "KEtRewWAL3AV"
      },
      "execution_count": null,
      "outputs": []
    },
    {
      "cell_type": "code",
      "source": [
        ""
      ],
      "metadata": {
        "id": "zDi_ENQ4L29l"
      },
      "execution_count": null,
      "outputs": []
    },
    {
      "cell_type": "code",
      "source": [
        ""
      ],
      "metadata": {
        "id": "0QbovK9CL26S"
      },
      "execution_count": null,
      "outputs": []
    },
    {
      "cell_type": "code",
      "source": [
        ""
      ],
      "metadata": {
        "id": "jYh5kdeEL23E"
      },
      "execution_count": null,
      "outputs": []
    },
    {
      "cell_type": "code",
      "source": [
        ""
      ],
      "metadata": {
        "id": "YPaRk4Q_L20F"
      },
      "execution_count": null,
      "outputs": []
    },
    {
      "cell_type": "code",
      "source": [
        ""
      ],
      "metadata": {
        "id": "WsgxUjXALsg3"
      },
      "execution_count": null,
      "outputs": []
    },
    {
      "cell_type": "code",
      "execution_count": null,
      "metadata": {
        "colab": {
          "base_uri": "https://localhost:8080/"
        },
        "id": "oWGZvi9JoWit",
        "outputId": "23114a57-0771-4e57-bd94-9f662105713a"
      },
      "outputs": [
        {
          "name": "stdout",
          "output_type": "stream",
          "text": [
            "============\n",
            "XGBoost\n",
            "============\n",
            "0.748\n",
            "[[  2   0   0   0  65]\n",
            " [  0   0   0   0  25]\n",
            " [  0   0   0   0  47]\n",
            " [  0   0   0   0 115]\n",
            " [  0   0   0   0 746]]\n",
            "              precision    recall  f1-score   support\n",
            "\n",
            "         1.0       1.00      0.03      0.06        67\n",
            "         2.0       0.00      0.00      0.00        25\n",
            "         3.0       0.00      0.00      0.00        47\n",
            "         4.0       0.00      0.00      0.00       115\n",
            "         5.0       0.75      1.00      0.86       746\n",
            "\n",
            "    accuracy                           0.75      1000\n",
            "   macro avg       0.35      0.21      0.18      1000\n",
            "weighted avg       0.62      0.75      0.64      1000\n",
            "\n"
          ]
        },
        {
          "name": "stderr",
          "output_type": "stream",
          "text": [
            "/usr/local/lib/python3.7/dist-packages/sklearn/metrics/_classification.py:1318: UndefinedMetricWarning: Precision and F-score are ill-defined and being set to 0.0 in labels with no predicted samples. Use `zero_division` parameter to control this behavior.\n",
            "  _warn_prf(average, modifier, msg_start, len(result))\n",
            "/usr/local/lib/python3.7/dist-packages/sklearn/metrics/_classification.py:1318: UndefinedMetricWarning: Precision and F-score are ill-defined and being set to 0.0 in labels with no predicted samples. Use `zero_division` parameter to control this behavior.\n",
            "  _warn_prf(average, modifier, msg_start, len(result))\n",
            "/usr/local/lib/python3.7/dist-packages/sklearn/metrics/_classification.py:1318: UndefinedMetricWarning: Precision and F-score are ill-defined and being set to 0.0 in labels with no predicted samples. Use `zero_division` parameter to control this behavior.\n",
            "  _warn_prf(average, modifier, msg_start, len(result))\n"
          ]
        },
        {
          "name": "stdout",
          "output_type": "stream",
          "text": [
            "-----------:::::::::::::::-------------\n",
            "============\n",
            "AdaBoost\n",
            "============\n",
            "0.744\n",
            "[[  2   0   0   0  65]\n",
            " [  0   0   0   0  25]\n",
            " [  0   0   0   0  47]\n",
            " [  2   0   0   0 113]\n",
            " [  1   1   1   1 742]]\n",
            "              precision    recall  f1-score   support\n",
            "\n",
            "         1.0       0.40      0.03      0.06        67\n",
            "         2.0       0.00      0.00      0.00        25\n",
            "         3.0       0.00      0.00      0.00        47\n",
            "         4.0       0.00      0.00      0.00       115\n",
            "         5.0       0.75      0.99      0.85       746\n",
            "\n",
            "    accuracy                           0.74      1000\n",
            "   macro avg       0.23      0.20      0.18      1000\n",
            "weighted avg       0.58      0.74      0.64      1000\n",
            "\n",
            "-----------:::::::::::::::-------------\n",
            "============\n",
            "SVM\n",
            "============\n",
            "0.748\n",
            "[[  2   0   0   0  65]\n",
            " [  0   0   0   0  25]\n",
            " [  0   0   0   0  47]\n",
            " [  0   0   0   0 115]\n",
            " [  0   0   0   0 746]]\n",
            "              precision    recall  f1-score   support\n",
            "\n",
            "         1.0       1.00      0.03      0.06        67\n",
            "         2.0       0.00      0.00      0.00        25\n",
            "         3.0       0.00      0.00      0.00        47\n",
            "         4.0       0.00      0.00      0.00       115\n",
            "         5.0       0.75      1.00      0.86       746\n",
            "\n",
            "    accuracy                           0.75      1000\n",
            "   macro avg       0.35      0.21      0.18      1000\n",
            "weighted avg       0.62      0.75      0.64      1000\n",
            "\n"
          ]
        },
        {
          "name": "stderr",
          "output_type": "stream",
          "text": [
            "/usr/local/lib/python3.7/dist-packages/sklearn/metrics/_classification.py:1318: UndefinedMetricWarning: Precision and F-score are ill-defined and being set to 0.0 in labels with no predicted samples. Use `zero_division` parameter to control this behavior.\n",
            "  _warn_prf(average, modifier, msg_start, len(result))\n",
            "/usr/local/lib/python3.7/dist-packages/sklearn/metrics/_classification.py:1318: UndefinedMetricWarning: Precision and F-score are ill-defined and being set to 0.0 in labels with no predicted samples. Use `zero_division` parameter to control this behavior.\n",
            "  _warn_prf(average, modifier, msg_start, len(result))\n",
            "/usr/local/lib/python3.7/dist-packages/sklearn/metrics/_classification.py:1318: UndefinedMetricWarning: Precision and F-score are ill-defined and being set to 0.0 in labels with no predicted samples. Use `zero_division` parameter to control this behavior.\n",
            "  _warn_prf(average, modifier, msg_start, len(result))\n"
          ]
        },
        {
          "name": "stdout",
          "output_type": "stream",
          "text": [
            "-----------:::::::::::::::-------------\n",
            "============\n",
            "KNN\n",
            "============\n",
            "0.744\n",
            "[[  2   0   0   0  65]\n",
            " [  0   0   0   0  25]\n",
            " [  0   0   0   0  47]\n",
            " [  0   0   0   0 115]\n",
            " [  1   0   2   1 742]]\n",
            "              precision    recall  f1-score   support\n",
            "\n",
            "         1.0       0.67      0.03      0.06        67\n",
            "         2.0       0.00      0.00      0.00        25\n",
            "         3.0       0.00      0.00      0.00        47\n",
            "         4.0       0.00      0.00      0.00       115\n",
            "         5.0       0.75      0.99      0.85       746\n",
            "\n",
            "    accuracy                           0.74      1000\n",
            "   macro avg       0.28      0.20      0.18      1000\n",
            "weighted avg       0.60      0.74      0.64      1000\n",
            "\n"
          ]
        },
        {
          "name": "stderr",
          "output_type": "stream",
          "text": [
            "/usr/local/lib/python3.7/dist-packages/sklearn/metrics/_classification.py:1318: UndefinedMetricWarning: Precision and F-score are ill-defined and being set to 0.0 in labels with no predicted samples. Use `zero_division` parameter to control this behavior.\n",
            "  _warn_prf(average, modifier, msg_start, len(result))\n",
            "/usr/local/lib/python3.7/dist-packages/sklearn/metrics/_classification.py:1318: UndefinedMetricWarning: Precision and F-score are ill-defined and being set to 0.0 in labels with no predicted samples. Use `zero_division` parameter to control this behavior.\n",
            "  _warn_prf(average, modifier, msg_start, len(result))\n",
            "/usr/local/lib/python3.7/dist-packages/sklearn/metrics/_classification.py:1318: UndefinedMetricWarning: Precision and F-score are ill-defined and being set to 0.0 in labels with no predicted samples. Use `zero_division` parameter to control this behavior.\n",
            "  _warn_prf(average, modifier, msg_start, len(result))\n"
          ]
        },
        {
          "name": "stdout",
          "output_type": "stream",
          "text": [
            "-----------:::::::::::::::-------------\n",
            "============\n",
            "DTC\n",
            "============\n",
            "0.736\n",
            "[[  2   0   0   0  65]\n",
            " [  0   0   1   0  24]\n",
            " [  0   1   0   0  46]\n",
            " [  2   1   0   0 112]\n",
            " [  2   6   2   2 734]]\n",
            "              precision    recall  f1-score   support\n",
            "\n",
            "         1.0       0.33      0.03      0.05        67\n",
            "         2.0       0.00      0.00      0.00        25\n",
            "         3.0       0.00      0.00      0.00        47\n",
            "         4.0       0.00      0.00      0.00       115\n",
            "         5.0       0.75      0.98      0.85       746\n",
            "\n",
            "    accuracy                           0.74      1000\n",
            "   macro avg       0.22      0.20      0.18      1000\n",
            "weighted avg       0.58      0.74      0.64      1000\n",
            "\n",
            "-----------:::::::::::::::-------------\n",
            "============\n",
            "RandomForestClassifier\n",
            "============\n",
            "0.743\n",
            "[[  2   0   0   0  65]\n",
            " [  0   0   0   0  25]\n",
            " [  0   0   0   0  47]\n",
            " [  2   0   0   0 113]\n",
            " [  1   1   1   2 741]]\n",
            "              precision    recall  f1-score   support\n",
            "\n",
            "         1.0       0.40      0.03      0.06        67\n",
            "         2.0       0.00      0.00      0.00        25\n",
            "         3.0       0.00      0.00      0.00        47\n",
            "         4.0       0.00      0.00      0.00       115\n",
            "         5.0       0.75      0.99      0.85       746\n",
            "\n",
            "    accuracy                           0.74      1000\n",
            "   macro avg       0.23      0.20      0.18      1000\n",
            "weighted avg       0.58      0.74      0.64      1000\n",
            "\n",
            "-----------:::::::::::::::-------------\n"
          ]
        }
      ],
      "source": [
        "#---- Case All columns\n",
        "dico_model_ypredictTest_score_allColumns = test_classifierModels_list(classifierModels_dict,\n",
        "                                            X_train,X_test,y_train,y_test,i_test_StandardScaler=False)\n"
      ]
    },
    {
      "cell_type": "code",
      "execution_count": null,
      "metadata": {
        "colab": {
          "base_uri": "https://localhost:8080/",
          "height": 391
        },
        "id": "v_SX06phtQz1",
        "outputId": "8ae842c3-cbc1-4bd1-ba28-4b812405f50d"
      },
      "outputs": [
        {
          "data": {
            "text/plain": [
              "26"
            ]
          },
          "execution_count": 54,
          "metadata": {},
          "output_type": "execute_result"
        },
        {
          "data": {
            "image/png": "[encoded data removed]",
            "text/plain": [
              "<Figure size 792x432 with 1 Axes>"
            ]
          },
          "metadata": {},
          "output_type": "display_data"
        }
      ],
      "source": [
        "#--------------------------------------------\n",
        "#--- feature_importances ---> for RandomForestClassifier \n",
        "#-------------------------------------------\n",
        "#\n",
        "#model_rfc= dico_model_ypredictTest_score.get('RandomForestClassifier')[0]\n",
        "model_allColumns_rfc= dico_model_ypredictTest_score_allColumns.get('RandomForestClassifier')[0]\n",
        "#\n",
        "feature_importances_allColumns_rfc=show_importances_plot(model_allColumns_rfc,i_threshold=0.01) #0.01\n",
        "len(feature_importances_allColumns_rfc)"
      ]
    },
    {
      "cell_type": "code",
      "execution_count": null,
      "metadata": {
        "colab": {
          "base_uri": "https://localhost:8080/"
        },
        "id": "09x6b60OtQxW",
        "outputId": "c4894de8-8d4e-471a-f599-275b1fc758cf"
      },
      "outputs": [
        {
          "data": {
            "text/plain": [
              "['Movie134',\n",
              " 'Movie83',\n",
              " 'Movie3',\n",
              " 'Movie155',\n",
              " 'Movie113',\n",
              " 'Movie60',\n",
              " 'Movie64',\n",
              " 'Movie203',\n",
              " 'Movie17',\n",
              " 'Movie45',\n",
              " 'Movie94',\n",
              " 'Movie26',\n",
              " 'Movie107',\n",
              " 'Movie104',\n",
              " 'Movie95',\n",
              " 'Movie62',\n",
              " 'Movie197',\n",
              " 'Movie166',\n",
              " 'Movie159',\n",
              " 'Movie53',\n",
              " 'Movie52',\n",
              " 'Movie29',\n",
              " 'Movie16',\n",
              " 'Movie90',\n",
              " 'Movie140',\n",
              " 'Movie127']"
            ]
          },
          "execution_count": 55,
          "metadata": {},
          "output_type": "execute_result"
        }
      ],
      "source": [
        "# feature_importances list\n",
        "list_fture_import_allColumns_rfc=list(feature_importances_allColumns_rfc.index)\n",
        "list_fture_import_allColumns_rfc"
      ]
    },
    {
      "cell_type": "code",
      "execution_count": null,
      "metadata": {
        "id": "qE2UTdgCtQt6"
      },
      "outputs": [],
      "source": [
        "#--- restrict to columns of list_fture_import_allColumns_rfc\n",
        "X_train_fi_allColumns_rfc=X_train[list_fture_import_allColumns_rfc]\n",
        "X_test_fi_allColumns_rfc=X_test[list_fture_import_allColumns_rfc]"
      ]
    },
    {
      "cell_type": "code",
      "execution_count": null,
      "metadata": {
        "colab": {
          "base_uri": "https://localhost:8080/"
        },
        "id": "VIcoaWIgtQpe",
        "outputId": "1ea2f8a1-7ffb-4d62-9d51-45627529603c"
      },
      "outputs": [
        {
          "data": {
            "text/plain": [
              "((3999, 27), (3999,), (1000, 27), (1000,))"
            ]
          },
          "execution_count": 48,
          "metadata": {},
          "output_type": "execute_result"
        }
      ],
      "source": [
        "X_train_fi_allColumns_rfc.shape,y_train.shape,X_test_fi_allColumns_rfc.shape,y_test.shape"
      ]
    },
    {
      "cell_type": "code",
      "execution_count": null,
      "metadata": {
        "id": "8tmOY9-UtQmF"
      },
      "outputs": [],
      "source": [
        "#--- definition of classifierModels_dict_RFC_SVM\n",
        "\n",
        "#classifierModels_dict_RFC_SVM=dict({\n",
        "#                  'SVM': SVC(random_state=0),\n",
        "#                  'RandomForestClassifier': RandomForestClassifier(random_state=0)\n",
        "#                  })\n",
        "\n",
        "#dico_model_ypredictTest_score_fi_allColumns = test_classifierModels_list(classifierModels_dict,\n",
        "#                                              X_train_fi_allColumns_rfc,X_test_fi_allColumns_rfc,y_train,y_test,i_test_StandardScaler=False)"
      ]
    },
    {
      "cell_type": "code",
      "execution_count": null,
      "metadata": {
        "colab": {
          "base_uri": "https://localhost:8080/"
        },
        "id": "qyvwQl_uqsKK",
        "outputId": "4c2ae5c7-2ff2-4386-db92-51693ebd0761"
      },
      "outputs": [
        {
          "name": "stdout",
          "output_type": "stream",
          "text": [
            "============\n",
            "XGBoost\n",
            "============\n",
            "0.747\n",
            "[[  2   0   0   0  65]\n",
            " [  0   0   0   0  25]\n",
            " [  0   0   0   0  47]\n",
            " [  0   0   0   0 115]\n",
            " [  0   0   0   1 745]]\n",
            "              precision    recall  f1-score   support\n",
            "\n",
            "         1.0       1.00      0.03      0.06        67\n",
            "         2.0       0.00      0.00      0.00        25\n",
            "         3.0       0.00      0.00      0.00        47\n",
            "         4.0       0.00      0.00      0.00       115\n",
            "         5.0       0.75      1.00      0.85       746\n",
            "\n",
            "    accuracy                           0.75      1000\n",
            "   macro avg       0.35      0.21      0.18      1000\n",
            "weighted avg       0.62      0.75      0.64      1000\n",
            "\n"
          ]
        },
        {
          "name": "stderr",
          "output_type": "stream",
          "text": [
            "/usr/local/lib/python3.7/dist-packages/sklearn/metrics/_classification.py:1318: UndefinedMetricWarning: Precision and F-score are ill-defined and being set to 0.0 in labels with no predicted samples. Use `zero_division` parameter to control this behavior.\n",
            "  _warn_prf(average, modifier, msg_start, len(result))\n",
            "/usr/local/lib/python3.7/dist-packages/sklearn/metrics/_classification.py:1318: UndefinedMetricWarning: Precision and F-score are ill-defined and being set to 0.0 in labels with no predicted samples. Use `zero_division` parameter to control this behavior.\n",
            "  _warn_prf(average, modifier, msg_start, len(result))\n",
            "/usr/local/lib/python3.7/dist-packages/sklearn/metrics/_classification.py:1318: UndefinedMetricWarning: Precision and F-score are ill-defined and being set to 0.0 in labels with no predicted samples. Use `zero_division` parameter to control this behavior.\n",
            "  _warn_prf(average, modifier, msg_start, len(result))\n"
          ]
        },
        {
          "name": "stdout",
          "output_type": "stream",
          "text": [
            "-----------:::::::::::::::-------------\n",
            "============\n",
            "AdaBoost\n",
            "============\n",
            "0.744\n",
            "[[  2   0   0   0  65]\n",
            " [  0   0   0   0  25]\n",
            " [  0   0   0   0  47]\n",
            " [  2   0   0   0 113]\n",
            " [  1   1   1   1 742]]\n",
            "              precision    recall  f1-score   support\n",
            "\n",
            "         1.0       0.40      0.03      0.06        67\n",
            "         2.0       0.00      0.00      0.00        25\n",
            "         3.0       0.00      0.00      0.00        47\n",
            "         4.0       0.00      0.00      0.00       115\n",
            "         5.0       0.75      0.99      0.85       746\n",
            "\n",
            "    accuracy                           0.74      1000\n",
            "   macro avg       0.23      0.20      0.18      1000\n",
            "weighted avg       0.58      0.74      0.64      1000\n",
            "\n",
            "-----------:::::::::::::::-------------\n",
            "============\n",
            "SVM\n",
            "============\n",
            "0.745\n",
            "[[  2   0   0   0  65]\n",
            " [  0   0   0   0  25]\n",
            " [  0   0   0   0  47]\n",
            " [  2   0   0   0 113]\n",
            " [  1   0   1   1 743]]\n",
            "              precision    recall  f1-score   support\n",
            "\n",
            "         1.0       0.40      0.03      0.06        67\n",
            "         2.0       0.00      0.00      0.00        25\n",
            "         3.0       0.00      0.00      0.00        47\n",
            "         4.0       0.00      0.00      0.00       115\n",
            "         5.0       0.75      1.00      0.85       746\n",
            "\n",
            "    accuracy                           0.74      1000\n",
            "   macro avg       0.23      0.21      0.18      1000\n",
            "weighted avg       0.58      0.74      0.64      1000\n",
            "\n"
          ]
        },
        {
          "name": "stderr",
          "output_type": "stream",
          "text": [
            "/usr/local/lib/python3.7/dist-packages/sklearn/metrics/_classification.py:1318: UndefinedMetricWarning: Precision and F-score are ill-defined and being set to 0.0 in labels with no predicted samples. Use `zero_division` parameter to control this behavior.\n",
            "  _warn_prf(average, modifier, msg_start, len(result))\n",
            "/usr/local/lib/python3.7/dist-packages/sklearn/metrics/_classification.py:1318: UndefinedMetricWarning: Precision and F-score are ill-defined and being set to 0.0 in labels with no predicted samples. Use `zero_division` parameter to control this behavior.\n",
            "  _warn_prf(average, modifier, msg_start, len(result))\n",
            "/usr/local/lib/python3.7/dist-packages/sklearn/metrics/_classification.py:1318: UndefinedMetricWarning: Precision and F-score are ill-defined and being set to 0.0 in labels with no predicted samples. Use `zero_division` parameter to control this behavior.\n",
            "  _warn_prf(average, modifier, msg_start, len(result))\n"
          ]
        },
        {
          "name": "stdout",
          "output_type": "stream",
          "text": [
            "-----------:::::::::::::::-------------\n",
            "============\n",
            "KNN\n",
            "============\n",
            "0.744\n",
            "[[  2   0   0   0  65]\n",
            " [  0   0   0   0  25]\n",
            " [  0   0   0   0  47]\n",
            " [  0   0   0   0 115]\n",
            " [  2   0   1   1 742]]\n",
            "              precision    recall  f1-score   support\n",
            "\n",
            "         1.0       0.50      0.03      0.06        67\n",
            "         2.0       0.00      0.00      0.00        25\n",
            "         3.0       0.00      0.00      0.00        47\n",
            "         4.0       0.00      0.00      0.00       115\n",
            "         5.0       0.75      0.99      0.85       746\n",
            "\n",
            "    accuracy                           0.74      1000\n",
            "   macro avg       0.25      0.20      0.18      1000\n",
            "weighted avg       0.59      0.74      0.64      1000\n",
            "\n"
          ]
        },
        {
          "name": "stderr",
          "output_type": "stream",
          "text": [
            "/usr/local/lib/python3.7/dist-packages/sklearn/metrics/_classification.py:1318: UndefinedMetricWarning: Precision and F-score are ill-defined and being set to 0.0 in labels with no predicted samples. Use `zero_division` parameter to control this behavior.\n",
            "  _warn_prf(average, modifier, msg_start, len(result))\n",
            "/usr/local/lib/python3.7/dist-packages/sklearn/metrics/_classification.py:1318: UndefinedMetricWarning: Precision and F-score are ill-defined and being set to 0.0 in labels with no predicted samples. Use `zero_division` parameter to control this behavior.\n",
            "  _warn_prf(average, modifier, msg_start, len(result))\n",
            "/usr/local/lib/python3.7/dist-packages/sklearn/metrics/_classification.py:1318: UndefinedMetricWarning: Precision and F-score are ill-defined and being set to 0.0 in labels with no predicted samples. Use `zero_division` parameter to control this behavior.\n",
            "  _warn_prf(average, modifier, msg_start, len(result))\n"
          ]
        },
        {
          "name": "stdout",
          "output_type": "stream",
          "text": [
            "-----------:::::::::::::::-------------\n",
            "============\n",
            "DTC\n",
            "============\n",
            "0.743\n",
            "[[  2   0   0   0  65]\n",
            " [  0   0   0   0  25]\n",
            " [  0   0   0   0  47]\n",
            " [  2   0   0   0 113]\n",
            " [  2   1   1   1 741]]\n",
            "              precision    recall  f1-score   support\n",
            "\n",
            "         1.0       0.33      0.03      0.05        67\n",
            "         2.0       0.00      0.00      0.00        25\n",
            "         3.0       0.00      0.00      0.00        47\n",
            "         4.0       0.00      0.00      0.00       115\n",
            "         5.0       0.75      0.99      0.85       746\n",
            "\n",
            "    accuracy                           0.74      1000\n",
            "   macro avg       0.22      0.20      0.18      1000\n",
            "weighted avg       0.58      0.74      0.64      1000\n",
            "\n",
            "-----------:::::::::::::::-------------\n",
            "============\n",
            "RandomForestClassifier\n",
            "============\n",
            "0.745\n",
            "[[  2   0   0   0  65]\n",
            " [  0   0   0   0  25]\n",
            " [  0   0   0   0  47]\n",
            " [  2   0   0   0 113]\n",
            " [  1   0   1   1 743]]\n",
            "              precision    recall  f1-score   support\n",
            "\n",
            "         1.0       0.40      0.03      0.06        67\n",
            "         2.0       0.00      0.00      0.00        25\n",
            "         3.0       0.00      0.00      0.00        47\n",
            "         4.0       0.00      0.00      0.00       115\n",
            "         5.0       0.75      1.00      0.85       746\n",
            "\n",
            "    accuracy                           0.74      1000\n",
            "   macro avg       0.23      0.21      0.18      1000\n",
            "weighted avg       0.58      0.74      0.64      1000\n",
            "\n"
          ]
        },
        {
          "name": "stderr",
          "output_type": "stream",
          "text": [
            "/usr/local/lib/python3.7/dist-packages/sklearn/metrics/_classification.py:1318: UndefinedMetricWarning: Precision and F-score are ill-defined and being set to 0.0 in labels with no predicted samples. Use `zero_division` parameter to control this behavior.\n",
            "  _warn_prf(average, modifier, msg_start, len(result))\n",
            "/usr/local/lib/python3.7/dist-packages/sklearn/metrics/_classification.py:1318: UndefinedMetricWarning: Precision and F-score are ill-defined and being set to 0.0 in labels with no predicted samples. Use `zero_division` parameter to control this behavior.\n",
            "  _warn_prf(average, modifier, msg_start, len(result))\n",
            "/usr/local/lib/python3.7/dist-packages/sklearn/metrics/_classification.py:1318: UndefinedMetricWarning: Precision and F-score are ill-defined and being set to 0.0 in labels with no predicted samples. Use `zero_division` parameter to control this behavior.\n",
            "  _warn_prf(average, modifier, msg_start, len(result))\n"
          ]
        },
        {
          "name": "stdout",
          "output_type": "stream",
          "text": [
            "-----------:::::::::::::::-------------\n"
          ]
        }
      ],
      "source": [
        "#--- fit models\n",
        "dico_model_ypredictTest_score_fi_allColumns2 = test_classifierModels_list(classifierModels_dict,\n",
        "                                              X_train_fi_allColumns_rfc,X_test_fi_allColumns_rfc,y_train,y_test,i_test_StandardScaler=False)"
      ]
    },
    {
      "cell_type": "code",
      "execution_count": null,
      "metadata": {
        "colab": {
          "base_uri": "https://localhost:8080/"
        },
        "id": "K7_U2mbG214A",
        "outputId": "ed33586f-fa6c-4f1c-e23f-51c1222c040c"
      },
      "outputs": [
        {
          "name": "stdout",
          "output_type": "stream",
          "text": [
            "============\n",
            "AdaBoost\n",
            "============\n",
            "0.744\n",
            "[[  2   0   0   0  65]\n",
            " [  0   0   0   0  25]\n",
            " [  0   0   0   0  47]\n",
            " [  2   0   0   0 113]\n",
            " [  1   1   1   1 742]]\n",
            "              precision    recall  f1-score   support\n",
            "\n",
            "         1.0       0.40      0.03      0.06        67\n",
            "         2.0       0.00      0.00      0.00        25\n",
            "         3.0       0.00      0.00      0.00        47\n",
            "         4.0       0.00      0.00      0.00       115\n",
            "         5.0       0.75      0.99      0.85       746\n",
            "\n",
            "    accuracy                           0.74      1000\n",
            "   macro avg       0.23      0.20      0.18      1000\n",
            "weighted avg       0.58      0.74      0.64      1000\n",
            "\n",
            "-----------:::::::::::::::-------------\n",
            "============\n",
            "DTC\n",
            "============\n",
            "0.743\n",
            "[[  2   0   0   0  65]\n",
            " [  0   0   0   0  25]\n",
            " [  0   0   0   0  47]\n",
            " [  2   0   0   0 113]\n",
            " [  2   1   1   1 741]]\n",
            "              precision    recall  f1-score   support\n",
            "\n",
            "         1.0       0.33      0.03      0.05        67\n",
            "         2.0       0.00      0.00      0.00        25\n",
            "         3.0       0.00      0.00      0.00        47\n",
            "         4.0       0.00      0.00      0.00       115\n",
            "         5.0       0.75      0.99      0.85       746\n",
            "\n",
            "    accuracy                           0.74      1000\n",
            "   macro avg       0.22      0.20      0.18      1000\n",
            "weighted avg       0.58      0.74      0.64      1000\n",
            "\n",
            "-----------:::::::::::::::-------------\n"
          ]
        }
      ],
      "source": [
        "#--- definition of classifierModels_dict_RFC_SVM\n",
        "\n",
        "classifierModels_dict_AdaBoost_DTC=dict({\n",
        "                  'AdaBoost': AdaBoostClassifier(random_state=0),\n",
        "                 'DTC': DecisionTreeClassifier(random_state=0)\n",
        "                  })\n",
        "\n",
        "dico_model_ypredictTest_score_fi_allColumns = test_classifierModels_list(classifierModels_dict_AdaBoost_DTC,\n",
        "                                                 X_train_fi_allColumns_rfc,X_test_fi_allColumns_rfc,y_train,y_test,i_test_StandardScaler=False)"
      ]
    },
    {
      "cell_type": "code",
      "execution_count": null,
      "metadata": {
        "colab": {
          "base_uri": "https://localhost:8080/"
        },
        "id": "ZlpSx4x4tQia",
        "outputId": "6b2c0db9-c6b2-4fc3-91ba-ce463889901c"
      },
      "outputs": [
        {
          "data": {
            "text/plain": [
              "((14560, 26), (14560,))"
            ]
          },
          "execution_count": 58,
          "metadata": {},
          "output_type": "execute_result"
        }
      ],
      "source": [
        "#--- SMOTE() Operation\n",
        "#from enum import auto\n",
        "from imblearn.over_sampling import SMOTE\n",
        "#\n",
        "sm = SMOTE(random_state=20)\n",
        "\n",
        "X_train_fi_allColumns_rfc_sm, y_train_sm = sm.fit_resample(X_train_fi_allColumns_rfc, y_train.ravel())  \n",
        "X_train_fi_allColumns_rfc_sm.shape,y_train_sm.shape"
      ]
    },
    {
      "cell_type": "code",
      "execution_count": null,
      "metadata": {
        "colab": {
          "base_uri": "https://localhost:8080/"
        },
        "id": "YvFxYZDotQeN",
        "outputId": "8fc0dc39-ccfc-4964-fdc9-68205c853d3e"
      },
      "outputs": [
        {
          "name": "stdout",
          "output_type": "stream",
          "text": [
            "============\n",
            "XGBoost\n",
            "============\n",
            "0.461\n",
            "[[ 53   0   0   2  12]\n",
            " [ 20   0   0   0   5]\n",
            " [ 26   0   0   5  16]\n",
            " [ 58   1   0  15  41]\n",
            " [307   1   2  43 393]]\n",
            "              precision    recall  f1-score   support\n",
            "\n",
            "         1.0       0.11      0.79      0.20        67\n",
            "         2.0       0.00      0.00      0.00        25\n",
            "         3.0       0.00      0.00      0.00        47\n",
            "         4.0       0.23      0.13      0.17       115\n",
            "         5.0       0.84      0.53      0.65       746\n",
            "\n",
            "    accuracy                           0.46      1000\n",
            "   macro avg       0.24      0.29      0.20      1000\n",
            "weighted avg       0.66      0.46      0.52      1000\n",
            "\n",
            "-----------:::::::::::::::-------------\n",
            "============\n",
            "AdaBoost\n",
            "============\n",
            "0.459\n",
            "[[ 51   0   0   4  12]\n",
            " [ 20   0   0   0   5]\n",
            " [ 26   0   0   5  16]\n",
            " [ 59   0   0  15  41]\n",
            " [308   1   1  43 393]]\n",
            "              precision    recall  f1-score   support\n",
            "\n",
            "         1.0       0.11      0.76      0.19        67\n",
            "         2.0       0.00      0.00      0.00        25\n",
            "         3.0       0.00      0.00      0.00        47\n",
            "         4.0       0.22      0.13      0.16       115\n",
            "         5.0       0.84      0.53      0.65       746\n",
            "\n",
            "    accuracy                           0.46      1000\n",
            "   macro avg       0.24      0.28      0.20      1000\n",
            "weighted avg       0.66      0.46      0.52      1000\n",
            "\n",
            "-----------:::::::::::::::-------------\n",
            "============\n",
            "SVM\n",
            "============\n",
            "0.461\n",
            "[[ 53   0   0   2  12]\n",
            " [ 20   0   0   0   5]\n",
            " [ 26   0   0   5  16]\n",
            " [ 58   1   0  15  41]\n",
            " [307   1   2  43 393]]\n",
            "              precision    recall  f1-score   support\n",
            "\n",
            "         1.0       0.11      0.79      0.20        67\n",
            "         2.0       0.00      0.00      0.00        25\n",
            "         3.0       0.00      0.00      0.00        47\n",
            "         4.0       0.23      0.13      0.17       115\n",
            "         5.0       0.84      0.53      0.65       746\n",
            "\n",
            "    accuracy                           0.46      1000\n",
            "   macro avg       0.24      0.29      0.20      1000\n",
            "weighted avg       0.66      0.46      0.52      1000\n",
            "\n",
            "-----------:::::::::::::::-------------\n",
            "============\n",
            "KNN\n",
            "============\n",
            "0.222\n",
            "[[  2  53   0   7   5]\n",
            " [  0  20   0   3   2]\n",
            " [  0  27   0  18   2]\n",
            " [  2  57   0  43  13]\n",
            " [  2 308   2 277 157]]\n",
            "              precision    recall  f1-score   support\n",
            "\n",
            "         1.0       0.33      0.03      0.05        67\n",
            "         2.0       0.04      0.80      0.08        25\n",
            "         3.0       0.00      0.00      0.00        47\n",
            "         4.0       0.12      0.37      0.19       115\n",
            "         5.0       0.88      0.21      0.34       746\n",
            "\n",
            "    accuracy                           0.22      1000\n",
            "   macro avg       0.28      0.28      0.13      1000\n",
            "weighted avg       0.69      0.22      0.28      1000\n",
            "\n",
            "-----------:::::::::::::::-------------\n",
            "============\n",
            "DTC\n",
            "============\n",
            "0.461\n",
            "[[ 53   0   0   2  12]\n",
            " [ 20   0   0   0   5]\n",
            " [ 26   0   0   5  16]\n",
            " [ 59   0   0  15  41]\n",
            " [308   1   1  43 393]]\n",
            "              precision    recall  f1-score   support\n",
            "\n",
            "         1.0       0.11      0.79      0.20        67\n",
            "         2.0       0.00      0.00      0.00        25\n",
            "         3.0       0.00      0.00      0.00        47\n",
            "         4.0       0.23      0.13      0.17       115\n",
            "         5.0       0.84      0.53      0.65       746\n",
            "\n",
            "    accuracy                           0.46      1000\n",
            "   macro avg       0.24      0.29      0.20      1000\n",
            "weighted avg       0.66      0.46      0.52      1000\n",
            "\n",
            "-----------:::::::::::::::-------------\n",
            "============\n",
            "RandomForestClassifier\n",
            "============\n",
            "0.461\n",
            "[[ 53   0   0   2  12]\n",
            " [ 20   0   0   0   5]\n",
            " [ 26   0   0   5  16]\n",
            " [ 59   0   0  15  41]\n",
            " [308   1   1  43 393]]\n",
            "              precision    recall  f1-score   support\n",
            "\n",
            "         1.0       0.11      0.79      0.20        67\n",
            "         2.0       0.00      0.00      0.00        25\n",
            "         3.0       0.00      0.00      0.00        47\n",
            "         4.0       0.23      0.13      0.17       115\n",
            "         5.0       0.84      0.53      0.65       746\n",
            "\n",
            "    accuracy                           0.46      1000\n",
            "   macro avg       0.24      0.29      0.20      1000\n",
            "weighted avg       0.66      0.46      0.52      1000\n",
            "\n",
            "-----------:::::::::::::::-------------\n"
          ]
        }
      ],
      "source": [
        "dico_model_ypredictTest_score_fi_allColumns_sm = test_classifierModels_list(classifierModels_dict,\n",
        "                                              X_train_fi_allColumns_rfc_sm,X_test_fi_allColumns_rfc,y_train_sm,y_test,i_test_StandardScaler=False)"
      ]
    },
    {
      "cell_type": "code",
      "execution_count": null,
      "metadata": {
        "colab": {
          "base_uri": "https://localhost:8080/"
        },
        "id": "PmuYlUL12kd0",
        "outputId": "0dd33dfd-2f22-4962-f9f9-97b247b49494"
      },
      "outputs": [
        {
          "data": {
            "text/plain": [
              "((14560, 26), (14560,))"
            ]
          },
          "execution_count": 61,
          "metadata": {},
          "output_type": "execute_result"
        }
      ],
      "source": [
        "#---- RandomOverSampler() operation\n",
        "from imblearn.over_sampling import RandomOverSampler\n",
        "\n",
        "ros = RandomOverSampler(random_state=0) \n",
        "\n",
        "X_train_fi_allColumns_rfc_ros, y_train_ros = ros.fit_resample(X_train_fi_allColumns_rfc, y_train.ravel())  \n",
        "X_train_fi_allColumns_rfc_ros.shape,y_train_ros.shape"
      ]
    },
    {
      "cell_type": "code",
      "execution_count": null,
      "metadata": {
        "colab": {
          "base_uri": "https://localhost:8080/"
        },
        "id": "x5z4RtF32kac",
        "outputId": "8db09343-dd86-4a9d-f3bf-fd5a955e66d6"
      },
      "outputs": [
        {
          "name": "stdout",
          "output_type": "stream",
          "text": [
            "============\n",
            "XGBoost\n",
            "============\n",
            "0.461\n",
            "[[ 53   2   0   0  12]\n",
            " [ 20   0   0   0   5]\n",
            " [ 26   1   0   4  16]\n",
            " [ 58   1   0  15  41]\n",
            " [306   4   2  41 393]]\n",
            "              precision    recall  f1-score   support\n",
            "\n",
            "         1.0       0.11      0.79      0.20        67\n",
            "         2.0       0.00      0.00      0.00        25\n",
            "         3.0       0.00      0.00      0.00        47\n",
            "         4.0       0.25      0.13      0.17       115\n",
            "         5.0       0.84      0.53      0.65       746\n",
            "\n",
            "    accuracy                           0.46      1000\n",
            "   macro avg       0.24      0.29      0.20      1000\n",
            "weighted avg       0.66      0.46      0.52      1000\n",
            "\n",
            "-----------:::::::::::::::-------------\n",
            "============\n",
            "AdaBoost\n",
            "============\n",
            "0.46\n",
            "[[ 53   2   0   0  12]\n",
            " [ 20   0   0   0   5]\n",
            " [ 26   1   0   4  16]\n",
            " [ 59   1   0  14  41]\n",
            " [308   3   2  40 393]]\n",
            "              precision    recall  f1-score   support\n",
            "\n",
            "         1.0       0.11      0.79      0.20        67\n",
            "         2.0       0.00      0.00      0.00        25\n",
            "         3.0       0.00      0.00      0.00        47\n",
            "         4.0       0.24      0.12      0.16       115\n",
            "         5.0       0.84      0.53      0.65       746\n",
            "\n",
            "    accuracy                           0.46      1000\n",
            "   macro avg       0.24      0.29      0.20      1000\n",
            "weighted avg       0.66      0.46      0.52      1000\n",
            "\n",
            "-----------:::::::::::::::-------------\n",
            "============\n",
            "SVM\n",
            "============\n",
            "0.46\n",
            "[[ 53   2   0   0  12]\n",
            " [ 20   0   0   0   5]\n",
            " [ 26   1   0   4  16]\n",
            " [ 59   1   0  14  41]\n",
            " [308   3   2  40 393]]\n",
            "              precision    recall  f1-score   support\n",
            "\n",
            "         1.0       0.11      0.79      0.20        67\n",
            "         2.0       0.00      0.00      0.00        25\n",
            "         3.0       0.00      0.00      0.00        47\n",
            "         4.0       0.24      0.12      0.16       115\n",
            "         5.0       0.84      0.53      0.65       746\n",
            "\n",
            "    accuracy                           0.46      1000\n",
            "   macro avg       0.24      0.29      0.20      1000\n",
            "weighted avg       0.66      0.46      0.52      1000\n",
            "\n",
            "-----------:::::::::::::::-------------\n",
            "============\n",
            "KNN\n",
            "============\n",
            "0.091\n",
            "[[  4  54   7   0   2]\n",
            " [  0  22   3   0   0]\n",
            " [  1  27  18   0   1]\n",
            " [  3  63  42   0   7]\n",
            " [  5 417 276   1  47]]\n",
            "              precision    recall  f1-score   support\n",
            "\n",
            "         1.0       0.31      0.06      0.10        67\n",
            "         2.0       0.04      0.88      0.07        25\n",
            "         3.0       0.05      0.38      0.09        47\n",
            "         4.0       0.00      0.00      0.00       115\n",
            "         5.0       0.82      0.06      0.12       746\n",
            "\n",
            "    accuracy                           0.09      1000\n",
            "   macro avg       0.24      0.28      0.08      1000\n",
            "weighted avg       0.64      0.09      0.10      1000\n",
            "\n",
            "-----------:::::::::::::::-------------\n",
            "============\n",
            "DTC\n",
            "============\n",
            "0.46\n",
            "[[ 53   2   0   0  12]\n",
            " [ 20   0   0   0   5]\n",
            " [ 26   1   0   4  16]\n",
            " [ 59   1   0  14  41]\n",
            " [308   3   2  40 393]]\n",
            "              precision    recall  f1-score   support\n",
            "\n",
            "         1.0       0.11      0.79      0.20        67\n",
            "         2.0       0.00      0.00      0.00        25\n",
            "         3.0       0.00      0.00      0.00        47\n",
            "         4.0       0.24      0.12      0.16       115\n",
            "         5.0       0.84      0.53      0.65       746\n",
            "\n",
            "    accuracy                           0.46      1000\n",
            "   macro avg       0.24      0.29      0.20      1000\n",
            "weighted avg       0.66      0.46      0.52      1000\n",
            "\n",
            "-----------:::::::::::::::-------------\n",
            "============\n",
            "RandomForestClassifier\n",
            "============\n",
            "0.46\n",
            "[[ 53   2   0   0  12]\n",
            " [ 20   0   0   0   5]\n",
            " [ 26   1   0   4  16]\n",
            " [ 59   1   0  14  41]\n",
            " [308   3   2  40 393]]\n",
            "              precision    recall  f1-score   support\n",
            "\n",
            "         1.0       0.11      0.79      0.20        67\n",
            "         2.0       0.00      0.00      0.00        25\n",
            "         3.0       0.00      0.00      0.00        47\n",
            "         4.0       0.24      0.12      0.16       115\n",
            "         5.0       0.84      0.53      0.65       746\n",
            "\n",
            "    accuracy                           0.46      1000\n",
            "   macro avg       0.24      0.29      0.20      1000\n",
            "weighted avg       0.66      0.46      0.52      1000\n",
            "\n",
            "-----------:::::::::::::::-------------\n"
          ]
        }
      ],
      "source": [
        "dico_model_ypredictTest_score_fi_allColumns_ros = test_classifierModels_list(classifierModels_dict,\n",
        "                                              X_train_fi_allColumns_rfc_ros,X_test_fi_allColumns_rfc,y_train_ros,y_test,i_test_StandardScaler=False)"
      ]
    },
    {
      "cell_type": "code",
      "execution_count": null,
      "metadata": {
        "colab": {
          "base_uri": "https://localhost:8080/"
        },
        "id": "x1GvYriToWVT",
        "outputId": "98424d58-8e85-431a-d666-542c915513a5"
      },
      "outputs": [
        {
          "data": {
            "text/plain": [
              "(26, 26)"
            ]
          },
          "execution_count": 63,
          "metadata": {},
          "output_type": "execute_result"
        }
      ],
      "source": [
        "# Create correlation matrix\n",
        "corr_matrix = X_train_fi_allColumns_rfc.corr()\n",
        "corr_matrix.shape"
      ]
    },
    {
      "cell_type": "code",
      "execution_count": null,
      "metadata": {
        "colab": {
          "base_uri": "https://localhost:8080/",
          "height": 325
        },
        "id": "PnSAeSdI5-_7",
        "outputId": "df829462-c9c6-4eb3-8240-8806e6eaad98"
      },
      "outputs": [
        {
          "data": {
            "text/plain": [
              "<matplotlib.axes._subplots.AxesSubplot at 0x7f2a21d557d0>"
            ]
          },
          "execution_count": 64,
          "metadata": {},
          "output_type": "execute_result"
        },
        {
          "data": {
            "image/png": "[encoded data removed]",
            "text/plain": [
              "<Figure size 432x288 with 2 Axes>"
            ]
          },
          "metadata": {},
          "output_type": "display_data"
        }
      ],
      "source": [
        "import seaborn as sns\n",
        "sns.heatmap(corr_matrix)"
      ]
    },
    {
      "cell_type": "code",
      "execution_count": null,
      "metadata": {
        "colab": {
          "base_uri": "https://localhost:8080/"
        },
        "id": "b06G54G_7vpV",
        "outputId": "5b04084a-e9a1-4d02-91c9-97640313103d"
      },
      "outputs": [
        {
          "data": {
            "text/plain": [
              "(0, 0)"
            ]
          },
          "execution_count": 73,
          "metadata": {},
          "output_type": "execute_result"
        }
      ],
      "source": [
        "# --- no dependency between columns\n",
        "# looking for features corresponding at the threshold 0.35\n",
        "cols=corr_matrix.columns\n",
        "ll1=[]  # for help to filtring\n",
        "ll2=[]  # columns to keep after filtring\n",
        "cmpt=0\n",
        "for col1 in cols:\n",
        "  for col2 in cols:\n",
        "    l_val=corr_matrix.loc[col2,col1]\n",
        "    if cmpt < 10:\n",
        "      #print (abs(l_val))\n",
        "      cmpt=cmpt+1\n",
        "    if abs(l_val) > 0.35:\n",
        "      if col1!=col2:\n",
        "        if col1 not in ll2:\n",
        "          ll1.append(col1)\n",
        "        ll2.append(col2)\n",
        "len(ll1),len(ll2)"
      ]
    },
    {
      "cell_type": "code",
      "execution_count": null,
      "metadata": {
        "id": "BH9xbAA16EPX"
      },
      "outputs": [],
      "source": [
        ""
      ]
    },
    {
      "cell_type": "code",
      "execution_count": null,
      "metadata": {
        "colab": {
          "base_uri": "https://localhost:8080/"
        },
        "id": "fea_1NEQ6D1v",
        "outputId": "ad96418d-5e45-43b9-e7aa-8edc23732beb"
      },
      "outputs": [
        {
          "data": {
            "text/plain": [
              "((3999, 26), (3999,), (1000, 26), (1000,))"
            ]
          },
          "execution_count": 75,
          "metadata": {},
          "output_type": "execute_result"
        }
      ],
      "source": [
        "X_train_fi_allColumns_rfc.shape,y_train.shape,X_test_fi_allColumns_rfc.shape,y_test.shape"
      ]
    },
    {
      "cell_type": "code",
      "execution_count": null,
      "metadata": {
        "colab": {
          "base_uri": "https://localhost:8080/",
          "height": 436
        },
        "id": "8b0WUk1l5OFt",
        "outputId": "e83b1a58-7ec9-4042-c4b0-775f18f1080e"
      },
      "outputs": [
        {
          "data": {
            "image/png": "[encoded data removed]",
            "text/plain": [
              "<Figure size 576x396 with 1 Axes>"
            ]
          },
          "metadata": {},
          "output_type": "display_data"
        },
        {
          "data": {
            "text/plain": [
              "FeatureImportances(ax=<matplotlib.axes._subplots.AxesSubplot object at 0x7f2a21aec710>,\n",
              "                   estimator=AdaBoostClassifier(random_state=0))"
            ]
          },
          "execution_count": 76,
          "metadata": {},
          "output_type": "execute_result"
        }
      ],
      "source": [
        "from sklearn.ensemble import AdaBoostClassifier\n",
        "from yellowbrick.datasets import load_occupancy\n",
        "from yellowbrick.model_selection import feature_importances\n",
        "\n",
        "# Use the quick method and immediately show the figure\n",
        "feature_importances(AdaBoostClassifier(random_state=0), X_train_fi_allColumns_rfc, y_train)"
      ]
    },
    {
      "cell_type": "code",
      "execution_count": null,
      "metadata": {
        "id": "JY5wN2Dd8oj_"
      },
      "outputs": [],
      "source": [
        "  l_feature_importances_df=pd.DataFrame({'importances': i_model.feature_importances_, 'columns_': i_model.feature_names_in_})\n",
        "  \n",
        "  l_feature_importances_df= l_feature_importances_df.sort_values(by=['importances'], ascending=True)\n",
        "\n",
        "  feature_importances_df_t=l_feature_importances_df[l_feature_importances_df['importances'].astype(float)> float(i_threshold)]\n",
        "  feature_importances_df_t= feature_importances_df_t.set_index('columns_')\n",
        "  #\n",
        "  feature_importances_df_t.plot(figsize=i_figsize,kind='barh')\n",
        "  "
      ]
    },
    {
      "cell_type": "code",
      "execution_count": null,
      "metadata": {
        "colab": {
          "base_uri": "https://localhost:8080/",
          "height": 392
        },
        "id": "EtiGeiK68x0w",
        "outputId": "c3f575b3-7cab-40b3-db9f-9ba1464b9ba1"
      },
      "outputs": [
        {
          "data": {
            "text/plain": [
              "49"
            ]
          },
          "execution_count": 110,
          "metadata": {},
          "output_type": "execute_result"
        },
        {
          "data": {
            "image/png": "[encoded data removed]",
            "text/plain": [
              "<Figure size 792x432 with 1 Axes>"
            ]
          },
          "metadata": {},
          "output_type": "display_data"
        }
      ],
      "source": [
        "ll=show_importances_plot(model_abc, 0.015, i_figsize=(11, 6))\n",
        "len(ll)"
      ]
    },
    {
      "cell_type": "code",
      "execution_count": null,
      "metadata": {
        "id": "63WYiKmPDVuw"
      },
      "outputs": [],
      "source": [
        ""
      ]
    },
    {
      "cell_type": "code",
      "execution_count": null,
      "metadata": {
        "colab": {
          "base_uri": "https://localhost:8080/"
        },
        "id": "12cGoKoy84JZ",
        "outputId": "c650d7be-9986-4d3f-fcd1-2e41da302655"
      },
      "outputs": [
        {
          "data": {
            "text/plain": [
              "['Movie173',\n",
              " 'Movie203',\n",
              " 'Movie202',\n",
              " 'Movie204',\n",
              " 'Movie197',\n",
              " 'Movie17',\n",
              " 'Movie26',\n",
              " 'Movie19',\n",
              " 'Movie182',\n",
              " 'Movie24',\n",
              " 'Movie5',\n",
              " 'Movie16',\n",
              " 'Movie3',\n",
              " 'Movie90',\n",
              " 'Movie29',\n",
              " 'Movie64',\n",
              " 'Movie119',\n",
              " 'Movie69',\n",
              " 'Movie117',\n",
              " 'Movie114',\n",
              " 'Movie113',\n",
              " 'Movie62',\n",
              " 'Movie73',\n",
              " 'Movie107',\n",
              " 'Movie81',\n",
              " 'Movie83',\n",
              " 'Movie95',\n",
              " 'Movie92',\n",
              " 'Movie91',\n",
              " 'Movie109',\n",
              " 'Movie171',\n",
              " 'Movie103',\n",
              " 'Movie60',\n",
              " 'Movie163',\n",
              " 'Movie159',\n",
              " 'Movie155',\n",
              " 'Movie154',\n",
              " 'Movie45',\n",
              " 'Movie144',\n",
              " 'Movie129',\n",
              " 'Movie52',\n",
              " 'Movie140',\n",
              " 'Movie53',\n",
              " 'Movie137',\n",
              " 'Movie134',\n",
              " 'Movie58',\n",
              " 'Movie59',\n",
              " 'Movie141',\n",
              " 'Movie127']"
            ]
          },
          "execution_count": 98,
          "metadata": {},
          "output_type": "execute_result"
        }
      ],
      "source": [
        "cols_list=list(ll.index)\n",
        "cols_list"
      ]
    },
    {
      "cell_type": "code",
      "execution_count": null,
      "metadata": {
        "id": "2x5K6Ph7DXLw"
      },
      "outputs": [],
      "source": [
        "cols_list3=['Movie64',\n",
        " 'Movie119',\n",
        " 'Movie69',\n",
        " 'Movie117',\n",
        " 'Movie114',\n",
        " 'Movie113',\n",
        " 'Movie62',\n",
        " 'Movie73',\n",
        " 'Movie107',\n",
        " 'Movie81',\n",
        " 'Movie83',\n",
        " 'Movie95',\n",
        " 'Movie92',\n",
        " 'Movie91',\n",
        " 'Movie109',\n",
        " 'Movie171',\n",
        " 'Movie103',\n",
        " 'Movie60',\n",
        " 'Movie163',\n",
        " 'Movie159',\n",
        " 'Movie155',\n",
        " 'Movie154',\n",
        " 'Movie45',\n",
        " 'Movie144',\n",
        " 'Movie129',\n",
        " 'Movie52',\n",
        " 'Movie140',\n",
        " 'Movie53',\n",
        " 'Movie137',\n",
        " 'Movie134',\n",
        " 'Movie58',\n",
        " 'Movie59',\n",
        " 'Movie141',\n",
        " 'Movie127']"
      ]
    },
    {
      "cell_type": "code",
      "execution_count": null,
      "metadata": {
        "id": "rvBC4M0pAq4J"
      },
      "outputs": [],
      "source": [
        "cols_list2=['Movie90','Movie134','Movie107','Movie52','Movie29','Movie16', 'Movie140', 'Movie127']\n",
        "cols_list22=cols_list2+cols_list\n",
        "cols_list22=cols_list22[0:29]"
      ]
    },
    {
      "cell_type": "code",
      "execution_count": null,
      "metadata": {
        "colab": {
          "base_uri": "https://localhost:8080/"
        },
        "id": "2Hgci-VN6kvn",
        "outputId": "7e0214a0-472a-407b-9a60-3a48df32de2b"
      },
      "outputs": [
        {
          "data": {
            "text/plain": [
              "((3999, 206), (1000, 206), (3999,), (1000,))"
            ]
          },
          "execution_count": 77,
          "metadata": {},
          "output_type": "execute_result"
        }
      ],
      "source": [
        "X_train.shape,X_test.shape,y_train.shape,y_test.shape"
      ]
    },
    {
      "cell_type": "code",
      "execution_count": null,
      "metadata": {
        "colab": {
          "base_uri": "https://localhost:8080/"
        },
        "id": "cWi4_OKDFKaY",
        "outputId": "62bd3453-4a2b-40c3-8385-93741e757d10"
      },
      "outputs": [
        {
          "data": {
            "text/plain": [
              "(26,)"
            ]
          },
          "execution_count": 146,
          "metadata": {},
          "output_type": "execute_result"
        }
      ],
      "source": [
        "X_train_fi_allColumns_rfc.columns.shape"
      ]
    },
    {
      "cell_type": "code",
      "execution_count": null,
      "metadata": {
        "id": "SdcB2qqQFqPZ"
      },
      "outputs": [],
      "source": [
        "lst_col_X_train_fi_allColumns_rfc=['Movie127','Movie140','Movie16','Movie29','Movie52', 'Movie107','Movie134', 'Movie90','Movie83', 'Movie3', 'Movie155', 'Movie113', 'Movie60',\n",
        "       'Movie64', 'Movie203', 'Movie17', 'Movie45', 'Movie94', 'Movie26',\n",
        "        'Movie104', 'Movie95', 'Movie62', 'Movie197']\n",
        "        #, 'Movie166','Movie159', 'Movie53' ]"
      ]
    },
    {
      "cell_type": "code",
      "execution_count": null,
      "metadata": {
        "id": "HE4q6aXAFdNo"
      },
      "outputs": [],
      "source": [
        "cols_list22=lst_col_X_train_fi_allColumns_rfc[:]"
      ]
    },
    {
      "cell_type": "code",
      "execution_count": null,
      "metadata": {
        "colab": {
          "base_uri": "https://localhost:8080/"
        },
        "id": "gLPOvEJa71V_",
        "outputId": "3891a44b-9b6e-41ed-aa2e-d51ec1acf220"
      },
      "outputs": [
        {
          "name": "stdout",
          "output_type": "stream",
          "text": [
            "0.744\n",
            "[[  2   0   0   0  65]\n",
            " [  0   0   0   0  25]\n",
            " [  0   0   0   0  47]\n",
            " [  2   0   0   0 113]\n",
            " [  1   1   1   1 742]]\n",
            "              precision    recall  f1-score   support\n",
            "\n",
            "         1.0       0.40      0.03      0.06        67\n",
            "         2.0       0.00      0.00      0.00        25\n",
            "         3.0       0.00      0.00      0.00        47\n",
            "         4.0       0.00      0.00      0.00       115\n",
            "         5.0       0.75      0.99      0.85       746\n",
            "\n",
            "    accuracy                           0.74      1000\n",
            "   macro avg       0.23      0.20      0.18      1000\n",
            "weighted avg       0.58      0.74      0.64      1000\n",
            "\n"
          ]
        }
      ],
      "source": [
        "model_abc=AdaBoostClassifier(random_state=0)\n",
        "model_abc=model_abc.fit(X_train[cols_list22],y_train)\n",
        "#model_abc.feature_importances_ \n",
        "model_fit,yTest_redict1,scor1=fit_and_evaluate(model_abc,X_train[cols_list22],X_test[cols_list22],y_train,y_test,i_fit_operation=False)"
      ]
    },
    {
      "cell_type": "code",
      "execution_count": null,
      "metadata": {
        "id": "xWoCi0KG-_tC"
      },
      "outputs": [],
      "source": [
        "X_train[cols_list]"
      ]
    },
    {
      "cell_type": "code",
      "execution_count": null,
      "metadata": {
        "colab": {
          "base_uri": "https://localhost:8080/"
        },
        "id": "ISGVejui-cHA",
        "outputId": "d2aef93a-8cbd-4c16-bd31-48ed1fc88709"
      },
      "outputs": [
        {
          "data": {
            "text/plain": [
              "pandas.core.series.Series"
            ]
          },
          "execution_count": 100,
          "metadata": {},
          "output_type": "execute_result"
        }
      ],
      "source": [
        "type(X_train)\n",
        "type(y_train)"
      ]
    },
    {
      "cell_type": "code",
      "execution_count": null,
      "metadata": {
        "colab": {
          "base_uri": "https://localhost:8080/",
          "height": 436
        },
        "id": "mQwLKqXF7vl1",
        "outputId": "f2968dc8-c5fe-459f-cc9d-74ece1304eb5"
      },
      "outputs": [
        {
          "data": {
            "image/png": "[encoded data removed]",
            "text/plain": [
              "<Figure size 576x396 with 1 Axes>"
            ]
          },
          "metadata": {},
          "output_type": "display_data"
        },
        {
          "data": {
            "text/plain": [
              "FeatureImportances(ax=<matplotlib.axes._subplots.AxesSubplot object at 0x7f2a1ed44750>,\n",
              "                   estimator=AdaBoostClassifier(random_state=0))"
            ]
          },
          "execution_count": 111,
          "metadata": {},
          "output_type": "execute_result"
        }
      ],
      "source": [
        "feature_importances(AdaBoostClassifier(random_state=0), X_train, y_train) "
      ]
    },
    {
      "cell_type": "code",
      "execution_count": null,
      "metadata": {
        "colab": {
          "base_uri": "https://localhost:8080/",
          "height": 436
        },
        "id": "-c6M3jyIARZr",
        "outputId": "8adf863c-68f5-40d8-bdc4-238cc8ad2c19"
      },
      "outputs": [
        {
          "data": {
            "image/png": "[encoded data removed]",
            "text/plain": [
              "<Figure size 576x396 with 1 Axes>"
            ]
          },
          "metadata": {},
          "output_type": "display_data"
        },
        {
          "data": {
            "text/plain": [
              "FeatureImportances(ax=<matplotlib.axes._subplots.AxesSubplot object at 0x7f2a1cb98210>,\n",
              "                   estimator=AdaBoostClassifier(random_state=0))"
            ]
          },
          "execution_count": 170,
          "metadata": {},
          "output_type": "execute_result"
        }
      ],
      "source": [
        "feature_importances(AdaBoostClassifier(random_state=0), X_train[cols_list22], y_train) "
      ]
    },
    {
      "cell_type": "code",
      "execution_count": null,
      "metadata": {
        "colab": {
          "base_uri": "https://localhost:8080/"
        },
        "id": "5yIvaYllSs5g",
        "outputId": "01f334ea-fe0e-45bc-930b-8c6ee926ac9b"
      },
      "outputs": [
        {
          "data": {
            "text/plain": [
              "4999"
            ]
          },
          "execution_count": 175,
          "metadata": {},
          "output_type": "execute_result"
        }
      ],
      "source": [
        "ss=Y.value_counts().sum()\n",
        "ss"
      ]
    },
    {
      "cell_type": "code",
      "execution_count": null,
      "metadata": {
        "colab": {
          "base_uri": "https://localhost:8080/"
        },
        "id": "wGjcUslETCqK",
        "outputId": "4862e43a-b195-49ee-a214-96e0aa2e2776"
      },
      "outputs": [
        {
          "data": {
            "text/plain": [
              "5.0    3658\n",
              "4.0     521\n",
              "1.0     363\n",
              "3.0     272\n",
              "2.0     185\n",
              "Name: Target, dtype: int64"
            ]
          },
          "execution_count": 178,
          "metadata": {},
          "output_type": "execute_result"
        }
      ],
      "source": [
        "Y.value_counts()"
      ]
    },
    {
      "cell_type": "code",
      "execution_count": null,
      "metadata": {
        "colab": {
          "base_uri": "https://localhost:8080/"
        },
        "id": "V0DVAXx2Tax_",
        "outputId": "38f03bd0-e4bb-4463-a974-78eb9af25ba8"
      },
      "outputs": [
        {
          "data": {
            "text/plain": [
              "73.17463492698539"
            ]
          },
          "execution_count": 180,
          "metadata": {},
          "output_type": "execute_result"
        }
      ],
      "source": [
        "p5=3658/ss\n",
        "p5*100"
      ]
    },
    {
      "cell_type": "code",
      "execution_count": null,
      "metadata": {
        "colab": {
          "base_uri": "https://localhost:8080/"
        },
        "id": "1uMCisjzTvqX",
        "outputId": "0c1b0464-8c70-4cf9-a0c5-68d9999744ab"
      },
      "outputs": [
        {
          "data": {
            "text/plain": [
              "1000"
            ]
          },
          "execution_count": 181,
          "metadata": {},
          "output_type": "execute_result"
        }
      ],
      "source": [
        "len(y_test)"
      ]
    },
    {
      "cell_type": "code",
      "execution_count": null,
      "metadata": {
        "id": "ZZbF6uFvTzAX"
      },
      "outputs": [],
      "source": [
        "ll=[5  for i in range(1000)]\n",
        "ll"
      ]
    },
    {
      "cell_type": "code",
      "execution_count": null,
      "metadata": {
        "colab": {
          "base_uri": "https://localhost:8080/"
        },
        "id": "waDzsKtaULIr",
        "outputId": "59b3fbb5-7804-4729-f1be-19bfc26205cd"
      },
      "outputs": [
        {
          "name": "stdout",
          "output_type": "stream",
          "text": [
            "[[  0   0   0   0  67]\n",
            " [  0   0   0   0  25]\n",
            " [  0   0   0   0  47]\n",
            " [  0   0   0   0 115]\n",
            " [  0   0   0   0 746]]\n",
            "              precision    recall  f1-score   support\n",
            "\n",
            "         1.0       0.00      0.00      0.00        67\n",
            "         2.0       0.00      0.00      0.00        25\n",
            "         3.0       0.00      0.00      0.00        47\n",
            "         4.0       0.00      0.00      0.00       115\n",
            "         5.0       0.75      1.00      0.85       746\n",
            "\n",
            "    accuracy                           0.75      1000\n",
            "   macro avg       0.15      0.20      0.17      1000\n",
            "weighted avg       0.56      0.75      0.64      1000\n",
            "\n"
          ]
        },
        {
          "name": "stderr",
          "output_type": "stream",
          "text": [
            "/usr/local/lib/python3.7/dist-packages/sklearn/metrics/_classification.py:1318: UndefinedMetricWarning: Precision and F-score are ill-defined and being set to 0.0 in labels with no predicted samples. Use `zero_division` parameter to control this behavior.\n",
            "  _warn_prf(average, modifier, msg_start, len(result))\n",
            "/usr/local/lib/python3.7/dist-packages/sklearn/metrics/_classification.py:1318: UndefinedMetricWarning: Precision and F-score are ill-defined and being set to 0.0 in labels with no predicted samples. Use `zero_division` parameter to control this behavior.\n",
            "  _warn_prf(average, modifier, msg_start, len(result))\n",
            "/usr/local/lib/python3.7/dist-packages/sklearn/metrics/_classification.py:1318: UndefinedMetricWarning: Precision and F-score are ill-defined and being set to 0.0 in labels with no predicted samples. Use `zero_division` parameter to control this behavior.\n",
            "  _warn_prf(average, modifier, msg_start, len(result))\n"
          ]
        }
      ],
      "source": [
        "  print(confusion_matrix(y_test,ll))\n",
        "  print(classification_report(y_test,ll))"
      ]
    }
  ],
  "metadata": {
    "colab": {
      "collapsed_sections": [
        "-dEodCO2ZHVW"
      ],
      "name": "recommendation_model_for_amazon_prod.ipynb",
      "provenance": []
    },
    "kernelspec": {
      "display_name": "Python 3",
      "name": "python3"
    },
    "language_info": {
      "name": "python"
    }
  },
  "nbformat": 4,
  "nbformat_minor": 0
}